{
 "cells": [
  {
   "cell_type": "code",
   "execution_count": 1,
   "id": "5a2c1604-2644-41e1-b1fc-7404c22b1557",
   "metadata": {},
   "outputs": [
    {
     "name": "stderr",
     "output_type": "stream",
     "text": [
      "objc[13201]: Class RunStopper is implemented in both /Users/ren/Applications/root/lib/libCore.6.28.06.so (0x112883148) and /usr/local/lib/libCore.so (0x12ba931f0). One of the two will be used. Which one is undefined.\n"
     ]
    },
    {
     "name": "stdout",
     "output_type": "stream",
     "text": [
      "Welcome to JupyROOT 6.28/06\n",
      "0.7.21\n",
      "4.3.7\n"
     ]
    }
   ],
   "source": [
    "import ROOT\n",
    "import uproot\n",
    "import numpy as np\n",
    "import array as array\n",
    "import math\n",
    "import matplotlib.pyplot as plt\n",
    "import pickle\n",
    "import hist\n",
    "import mplhep as hep\n",
    "from TUnfold import *\n",
    "#import statistics as st\n",
    "ROOT.gStyle.SetOptStat(000000)"
   ]
  },
  {
   "cell_type": "code",
   "execution_count": null,
   "id": "fcd55876-812d-49fe-bbbc-6a20c634a5cd",
   "metadata": {},
   "outputs": [],
   "source": [
    "#### open files                                                                                                                                               \n",
    "\n",
    "#### Latest files\n",
    "fname=\"coffeaOutput/dijetHists_wXSscaling_QCDsim_2.5_newMandPtBins_rapiditypythia_nominal2018.pkl\"\n",
    "year = fname[-8:-4]\n",
    "with open(fname, \"rb\") as f:\n",
    "    result_pythia = pickle.load( f )\n",
    "fname=\"coffeaOutput/dijetHists_wXSscaling_QCDsim_2.5_newMandPtBins_rapiditypythiaMG_nominal2018.pkl\"\n",
    "with open(fname, \"rb\") as f:\n",
    "    result_mg = pickle.load( f )\n",
    "fname=\"coffeaOutput/dijetHists_wXSscaling_QCDsim_2.5_newMandPtBins_rapidityherwig_nominal2018.pkl\"\n",
    "with open(fname, \"rb\") as f:\n",
    "    result_herwig = pickle.load( f )\n",
    "#### Latest files\n",
    "fname = \"coffeaOutput/dijetHists_JetHT_newMandPtBins2_rapidity2.5_nominal2018.pkl\"\n",
    "with open(fname, \"rb\") as f:\n",
    "    result_data = pickle.load( f )\n",
    "if \"dijet\" in fname:\n",
    "    os_path = \"plots/unfolding/dijet/\"\n",
    "    channel = \"Dijet\"\n",
    "else:\n",
    "    os_path = \"plots/unfolding/trijet/\"\n",
    "    channel = \"Trijet\"\n",
    "checkdir(os_path)\n",
    "os_path=os_path+\"test\"\n",
    "print(year)            \n",
    "#### Adding gen underflow to \n",
    "\n",
    "axis_names = [ax.name for ax in result_pythia['ptreco_mreco_u'].axes]\n",
    "cats = [cat for cat in result_pythia['ptreco_mreco_u'].project('ptreco','mreco').axes[0]]\n",
    "availSysts = [ax for ax in result_pythia['ptreco_mreco_u'].project(\"syst\").axes[0]]\n",
    "detectorBinning, generatorBinning, mreco_edges, ptreco_edges, mgen_edges, ptgen_edges = setupBinning(result)\n",
    "#### for data get results once     \n",
    "print(mreco_edges)\n",
    "DataReco_u, DataReco_g = fillData(result_data, detectorBinning, mreco_edges, ptreco_edges, new=True)\n",
    "syst_hist_dict_pythia = {} \n",
    "for syst in availSysts:                                                                                                                                     \n",
    "    hist = getHists(result_pythia, syst, detectorBinning, generatorBinning, new=True)\n",
    "    syst_hist_dict_pythia[syst]=hist\n",
    "    print(\"Building response matrices for systematic \", syst)\n",
    "availSysts = [ax for ax in result_mg['ptreco_mreco_u'].project(\"syst\").axes[0]]\n",
    "syst_hist_dict_mg = {} \n",
    "for syst in availSysts:                                                                                                                                     \n",
    "    hist = getHists(result_mg, syst, detectorBinning, generatorBinning, new=True)\n",
    "    syst_hist_dict_mg[syst]=hist\n",
    "    print(\"Building response matrices for systematic \", syst)\n",
    "availSysts = [ax for ax in result_herwig['ptreco_mreco_u'].project(\"syst\").axes[0]]\n",
    "syst_hist_dict_herwig = {} \n",
    "for syst in availSysts:                                                                                                                                     \n",
    "    hist = getHists(result_mg, syst, detectorBinning, generatorBinning, new=True)\n",
    "    syst_hist_dict_herwig[syst]=hist\n",
    "    print(\"Building response matrices for systematic \", syst)"
   ]
  },
  {
   "cell_type": "code",
   "execution_count": null,
   "id": "5f0dc949-38cb-4d0a-8421-15431ee6cf83",
   "metadata": {},
   "outputs": [],
   "source": []
  }
 ],
 "metadata": {
  "kernelspec": {
   "display_name": "Python 3 (ipykernel)",
   "language": "python",
   "name": "python3"
  },
  "language_info": {
   "codemirror_mode": {
    "name": "ipython",
    "version": 3
   },
   "file_extension": ".py",
   "mimetype": "text/x-python",
   "name": "python",
   "nbconvert_exporter": "python",
   "pygments_lexer": "ipython3",
   "version": "3.9.15"
  }
 },
 "nbformat": 4,
 "nbformat_minor": 5
}

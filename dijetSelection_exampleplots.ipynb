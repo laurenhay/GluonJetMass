{
 "cells": [
  {
   "cell_type": "markdown",
   "id": "9c90a121",
   "metadata": {},
   "source": [
    "# Dijet Selection Example Processor\n",
    "\n",
    "We create a dijet selection that selects events that have at least 2 jets with: \n",
    "* $p_{T} > 200 GeV$\n",
    "* $|\\eta| < 2.5$\n",
    "* \"Loose\" jet ID\n",
    "\n",
    "The selection then imposes two topological selections : \n",
    "* $\\Delta \\phi > 2$\n",
    "* $\\frac{p_{T,1} - p_{T,2}}{p_{T,1} + p_{T,2}} < 0.3$"
   ]
  },
  {
   "cell_type": "code",
   "execution_count": 1,
   "id": "c1d30278",
   "metadata": {},
   "outputs": [
    {
     "name": "stdout",
     "output_type": "stream",
     "text": [
      "0.7.18\n"
     ]
    }
   ],
   "source": [
    "import awkward as ak\n",
    "import numpy as np\n",
    "import time\n",
    "import coffea\n",
    "import uproot\n",
    "import hist\n",
    "print(coffea.__version__)\n",
    "from coffea import util, processor\n",
    "from coffea.nanoevents import NanoEventsFactory, NanoAODSchema, BaseSchema\n",
    "from collections import defaultdict"
   ]
  },
  {
   "cell_type": "markdown",
   "id": "e1a8ee67",
   "metadata": {},
   "source": [
    "## Create the coffea Processor"
   ]
  },
  {
   "cell_type": "code",
   "execution_count": 2,
   "id": "180b9200",
   "metadata": {},
   "outputs": [],
   "source": [
    "class DijetHists(processor.ProcessorABC):\n",
    "    def __init__(self, ptcut=200., etacut = 2.5):\n",
    "        # should have separate lower ptcut for gen\n",
    "        self.ptcut = ptcut\n",
    "        self.etacut = etacut\n",
    "        \n",
    "        dataset_axis = hist.axis.StrCategory([], growth=True, name=\"dataset\", label=\"Primary dataset\")\n",
    "        mass_axis = hist.axis.Regular(100, 0, 1000, name=\"mass\", label=r\"$m$ [GeV]\")\n",
    "        pt_axis = hist.axis.Regular(150, 0, 1500, name=\"pt\", label=r\"$p_{T}$ [GeV]\")        \n",
    "        h_pt1 = hist.Hist(dataset_axis, pt_axis, storage=\"weight\", label=\"Counts\")\n",
    "        h_pt2 = hist.Hist(dataset_axis, pt_axis, storage=\"weight\", label=\"Counts\")        \n",
    "        \n",
    "        cutflow = defaultdict(int)\n",
    "        \n",
    "        self.hists = {\n",
    "            \"pt1\":h_pt1, \"pt2\":h_pt2, \"cutflow\":cutflow\n",
    "        }\n",
    "        \n",
    "    \n",
    "    @property\n",
    "    def accumulator(self):\n",
    "        return self._histos\n",
    "    \n",
    "    # we will receive a NanoEvents instead of a coffea DataFrame\n",
    "    def process(self, events):\n",
    "        dataset = events.metadata['dataset']\n",
    "        \n",
    "        \n",
    "        # Select all jets that satisfy pt, eta, and jet ID cuts\n",
    "        events.FatJet = events.FatJet[ \n",
    "            (events.FatJet.pt > self.ptcut) & \n",
    "            (np.abs(events.FatJet.eta) < self.etacut) &\n",
    "            (events.FatJet.jetId > 0)]\n",
    "\n",
    "        # Require at least two such jets per event\n",
    "        dijetEvents = events[(ak.num(events.FatJet) >= 2)]\n",
    "        \n",
    "        # Get the leading and subleading jets\n",
    "        jet1 = dijetEvents.FatJet[:,0]\n",
    "        jet2 = dijetEvents.FatJet[:,1]\n",
    "        \n",
    "        # Select events with delta phi and asymmetry cuts\n",
    "        dphi12_cut = (np.abs(jet1.delta_phi(jet2)) > 2.)\n",
    "        asymm_cut = (np.abs(jet1.pt - jet2.pt)/(jet1.pt + jet2.pt) < 0.3)        \n",
    "        dijetEvents = dijetEvents[ asymm_cut & dphi12_cut ]\n",
    "        \n",
    "        # Get the leading and subleading jets of the events that pass selection\n",
    "        jet1 = dijetEvents.FatJet[:,0]\n",
    "        jet2 = dijetEvents.FatJet[:,1]\n",
    "        \n",
    "        # Make plots\n",
    "        self.hists[\"pt1\"].fill(dataset=dataset, pt = jet1.pt)\n",
    "        self.hists[\"pt2\"].fill(dataset=dataset, pt = jet2.pt)\n",
    "\n",
    "        return self.hists\n",
    "    \n",
    "    def postprocess(self, accumulator):\n",
    "        return accumulator"
   ]
  },
  {
   "cell_type": "markdown",
   "id": "60438618",
   "metadata": {},
   "source": [
    "## Run the processor over desired files"
   ]
  },
  {
   "cell_type": "code",
   "execution_count": 3,
   "id": "1f9eed95",
   "metadata": {},
   "outputs": [
    {
     "data": {
      "application/vnd.jupyter.widget-view+json": {
       "model_id": "7a8ca19183164b439bf5252bd05c94a9",
       "version_major": 2,
       "version_minor": 0
      },
      "text/plain": [
       "Output()"
      ]
     },
     "metadata": {},
     "output_type": "display_data"
    },
    {
     "data": {
      "text/html": [
       "<pre style=\"white-space:pre;overflow-x:auto;line-height:normal;font-family:Menlo,'DejaVu Sans Mono',consolas,'Courier New',monospace\"></pre>\n"
      ],
      "text/plain": []
     },
     "metadata": {},
     "output_type": "display_data"
    },
    {
     "data": {
      "text/html": [
       "<pre style=\"white-space:pre;overflow-x:auto;line-height:normal;font-family:Menlo,'DejaVu Sans Mono',consolas,'Courier New',monospace\">\n",
       "</pre>\n"
      ],
      "text/plain": [
       "\n"
      ]
     },
     "metadata": {},
     "output_type": "display_data"
    },
    {
     "data": {
      "application/vnd.jupyter.widget-view+json": {
       "model_id": "7cf4b6c6d2064eef97ac2f410abac762",
       "version_major": 2,
       "version_minor": 0
      },
      "text/plain": [
       "Output()"
      ]
     },
     "metadata": {},
     "output_type": "display_data"
    },
    {
     "data": {
      "text/html": [
       "<pre style=\"white-space:pre;overflow-x:auto;line-height:normal;font-family:Menlo,'DejaVu Sans Mono',consolas,'Courier New',monospace\"></pre>\n"
      ],
      "text/plain": []
     },
     "metadata": {},
     "output_type": "display_data"
    },
    {
     "data": {
      "text/html": [
       "<pre style=\"white-space:pre;overflow-x:auto;line-height:normal;font-family:Menlo,'DejaVu Sans Mono',consolas,'Courier New',monospace\">\n",
       "</pre>\n"
      ],
      "text/plain": [
       "\n"
      ]
     },
     "metadata": {},
     "output_type": "display_data"
    }
   ],
   "source": [
    "\n",
    "import time\n",
    "\n",
    "tstart = time.time()\n",
    "\n",
    "\n",
    "\n",
    "fileset = {\n",
    "    'JetHT': [\n",
    "        '/mnt/data/cms/store/data/Run2016B/JetHT/NANOAOD/ver1_HIPM_UL2016_MiniAODv2_NanoAODv9-v2/40000/2B449ED9-2A70-6D4D-9AEB-B2870545D35B.root',\n",
    "    ]\n",
    "}\n",
    "\n",
    "\n",
    "run = processor.Runner(\n",
    "    executor = processor.FuturesExecutor(compression=None, workers=4),\n",
    "    schema=NanoAODSchema,\n",
    "    chunksize=100_000,\n",
    "    # maxchunks=10,  # total 676 chunks\n",
    ")\n",
    "\n",
    "output = run(\n",
    "    fileset,\n",
    "    \"Events\",\n",
    "    processor_instance=DijetHists(),\n",
    ")\n"
   ]
  },
  {
   "cell_type": "markdown",
   "id": "6c256f17",
   "metadata": {},
   "source": [
    "## Make plots"
   ]
  },
  {
   "cell_type": "code",
   "execution_count": 4,
   "id": "9aff1d52",
   "metadata": {},
   "outputs": [],
   "source": [
    "import matplotlib.pyplot as plt"
   ]
  },
  {
   "cell_type": "code",
   "execution_count": 5,
   "id": "4136268c",
   "metadata": {},
   "outputs": [
    {
     "data": {
      "text/plain": [
       "(1, 392.99191978575715)"
      ]
     },
     "execution_count": 5,
     "metadata": {},
     "output_type": "execute_result"
    },
    {
     "data": {
      "image/png": "[encoded data removed]",
      "text/plain": [
       "<Figure size 640x480 with 1 Axes>"
      ]
     },
     "metadata": {},
     "output_type": "display_data"
    }
   ],
   "source": [
    "fig, ax = plt.subplots()\n",
    "output['pt1'].plot1d(ax=ax, overlay='dataset')\n",
    "ax.set_yscale('log')\n",
    "ax.set_ylim(1, None)"
   ]
  },
  {
   "cell_type": "code",
   "execution_count": null,
   "id": "22d0827d",
   "metadata": {},
   "outputs": [],
   "source": []
  }
 ],
 "metadata": {
  "kernelspec": {
   "display_name": "Python 3 (ipykernel)",
   "language": "python",
   "name": "python3"
  },
  "language_info": {
   "codemirror_mode": {
    "name": "ipython",
    "version": 3
   },
   "file_extension": ".py",
   "mimetype": "text/x-python",
   "name": "python",
   "nbconvert_exporter": "python",
   "pygments_lexer": "ipython3",
   "version": "3.8.13"
  }
 },
 "nbformat": 4,
 "nbformat_minor": 5
}

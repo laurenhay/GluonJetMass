{
 "cells": [
  {
   "cell_type": "code",
   "execution_count": 29,
   "id": "c1d30278",
   "metadata": {},
   "outputs": [
    {
     "name": "stdout",
     "output_type": "stream",
     "text": [
      "0.7.21\n",
      "39\n",
      "32\n",
      "60\n",
      "51\n",
      "1328\n"
     ]
    }
   ],
   "source": [
    "import awkward as ak\n",
    "import numpy as np\n",
    "import coffea\n",
    "import os\n",
    "from python.plugins import *\n",
    "\n",
    "print(coffea.__version__)\n",
    "from coffea.nanoevents import NanoEventsFactory, NanoAODSchema\n",
    "\n",
    "import hist\n",
    "\n",
    "# testFiles = [\n",
    "# \"root://cmsxrootd.fnal.gov//store/mc/RunIISummer20UL17NanoAODv9/QCD_Pt_170to300_TuneCP5_13TeV_pythia8/NANOAODSIM/106X_mc2017_realistic_v9-v1/120000/0CDD30E0-B953-E54B-BB7A-BFB45BE6EC93.root\",\n",
    "# \"root://cmsxrootd.fnal.gov//store/mc/RunIISummer20UL17NanoAODv9/QCD_Pt_300to470_TuneCP5_13TeV_pythia8/NANOAODSIM/106X_mc2017_realistic_v9-v1/120000/3788BBD3-3B70-BE48-B01A-4FA395E1E0B6.root\",\n",
    "# \"root://cmsxrootd.fnal.gov//store/mc/RunIISummer20UL17NanoAODv9/QCD_Pt_470to600_TuneCP5_13TeV_pythia8/NANOAODSIM/106X_mc2017_realistic_v9-v1/70000/F6B6A983-3E2B-7B4D-A2CE-E03AB6E32387.root\",\n",
    "# \"root://cmsxrootd.fnal.gov//store/mc/RunIISummer20UL17NanoAODv9/QCD_Pt_600to800_TuneCP5_13TeV_pythia8/NANOAODSIM/106X_mc2017_realistic_v9-v1/70000/FDF7FBE4-9226-994A-BD45-29995A3CD62F.root\",\n",
    "# \"root://cmsxrootd.fnal.gov//store/mc/RunIISummer20UL17NanoAODv9/QCD_Pt_800to1000_TuneCP5_13TeV_pythia8/NANOAODSIM/106X_mc2017_realistic_v9-v1/70000/2CEB03D7-5B1A-EE46-9C21-13ED3E349AF4.root\",\n",
    "# \"root://cmsxrootd.fnal.gov//store/mc/RunIISummer20UL17NanoAODv9/QCD_Pt_1000to1400_TuneCP5_13TeV_pythia8/NANOAODSIM/106X_mc2017_realistic_v9-v1/70000/DB87A517-0584-1A41-BB18-AAE7C9AAE5B8.root\",\n",
    "# \"root://cmsxrootd.fnal.gov//store/mc/RunIISummer20UL17NanoAODv9/QCD_Pt_1400to1800_TuneCP5_13TeV_pythia8/NANOAODSIM/106X_mc2017_realistic_v9-v1/280000/BFE2E7E9-82CB-FE47-9B43-EBA5C373AF60.root\",\n",
    "# \"root://cmsxrootd.fnal.gov//store/mc/RunIISummer20UL17NanoAODv9/QCD_Pt_1800to2400_TuneCP5_13TeV_pythia8/NANOAODSIM/106X_mc2017_realistic_v9-v1/70000/5213B536-BAA1-CC43-A58A-B1E41E2680F5.root\",\n",
    "# \"root://cmsxrootd.fnal.gov//store/mc/RunIISummer20UL17NanoAODv9/QCD_Pt_2400to3200_TuneCP5_13TeV_pythia8/NANOAODSIM/106X_mc2017_realistic_v9-v1/280000/E8400F91-3216-EA46-A9F1-8CC7EF5261B0.root\",\n",
    "# \"root://cmsxrootd.fnal.gov//store/mc/RunIISummer20UL17NanoAODv9/QCD_Pt_3200toInf_TuneCP5_13TeV_pythia8/NANOAODSIM/106X_mc2017_realistic_v9-v1/280000/B21BFDD8-B878-784C-AFB6-5CDE131F5C39.root\"\n",
    "# ]\n",
    "# redirector = 'root://xcache/'\n",
    "# redirector='root://xrootd-local.unl.edu:1094/'\n",
    "redirector = 'root://cmsxrootd.fnal.gov/'\n",
    "# files = handleData('fileset_QCD.json', redirector, testing = True, data = False)\n",
    "# files_test = handleData('fileset_QCD.json', redirector, testing = False, data = False)\n",
    "# events = NanoEventsFactory.from_root(redirector+\"/store/mc/RunIISummer20UL18NanoAODv9/QCD_Pt_1000to1400_TuneCP5_13TeV_pythia8/NANOAODSIM/106X_upgrade2018_realistic_v16_L1v1-v1/280000/C9729B80-15C9-3940-972D-AB1E7610CE6D.root\", schemaclass=NanoAODSchema).events()\n",
    "events = NanoEventsFactory.from_root(\"root://cmseos.fnal.gov//store/data/Run2017D/JetHT/NANOAOD/UL2017_MiniAODv2_NanoAODv9-v1/120000/4A70E050-A8B9-FA46-92C3-4A85F22FB255.root\", schemaclass=NanoAODSchema).events()\n",
    "# print(\"Data L1 Prefiring weights\", events['L1PreFiringWeight'].Nom)\n",
    "# print(events.fields)\n",
    "# print(events.Generator.fields)\n",
    "# # print(\"MC prefiring weights \", events['L1PreFiringWeight'].Nom)\n",
    "# print(ak.with_name(events.GenJetAK8[[\"pt\", \"eta\", \"phi\", \"mass\"]],\"PtEtaPhiMLorentzVector\"))\n",
    "AK8_HLTs = ['AK8PFJet60', 'AK8PFJet80', 'AK8PFJet140', 'AK8PFJet200', 'AK8PFJet260', 'AK8PFJet320', 'AK8PFJet400', 'AK8PFJet450', 'AK8PFJet500', 'AK8PFJet550']\n",
    "print(ak.sum(events[events.run==302493].HLT['AK8PFJet40']))\n",
    "print(ak.sum(events[events.run==302493].HLT['AK8PFJet60']))\n",
    "print(ak.sum(events[events.run==302493].HLT['PFJet40']))\n",
    "print(ak.sum(events[events.run==302493].HLT['PFJet60']))\n",
    "print(len(events[events.run==302493]))\n",
    "# print(events[events.run==302493].HLT.fields)\n",
    "# for path in AK8_HLTs:\n",
    "#     print(path)\n",
    "#     print(ak.any(events[events.run==302493].HLT[path]))\n",
    "\n",
    "# print(len(events\n",
    "# import uproot\n",
    "# # ### uproot notation\n",
    "# # qcd_mc = uproot.open(list(files.values())[-1][0])\n",
    "# qcd_mc = uproot.open(redirector+\"/store/mc/RunIISummer20UL17NanoAODv9/QCD_Pt_3200toInf_TuneCP5_13TeV_pythia8/NANOAODSIM/106X_mc2017_realistic_v9-v1/280000/B21BFDD8-B878-784C-AFB6-5CDE131F5C39.root\")\n",
    "# uprootevents = qcd_mc['Events']\n",
    "# print(uprootevents.keys('subjet'))"
   ]
  },
  {
   "cell_type": "code",
   "execution_count": 25,
   "id": "1f9eed95",
   "metadata": {},
   "outputs": [
    {
     "name": "stdout",
     "output_type": "stream",
     "text": [
      "Data: Gen:  False True\n"
     ]
    }
   ],
   "source": [
    "from python.dijetProcessor import makeDijetHists\n",
    "from dask.distributed import Client\n",
    "import pickle\n",
    "#### WE'RE MISSING 2016B ver2 -- AK8 PF HLT is missing need to use AK4 trigger isntead\n",
    "data = False\n",
    "winterfell = False\n",
    "dask = True\n",
    "testing = False\n",
    "year = \"2017\"\n",
    "range = None\n",
    "processor = makeDijetHists(data = data, jet_systematics = [\"nominal\"]) #, systematics = ['LHEPDF']\n",
    "datastring = \"JetHT\" if processor.do_gen == False else \"QCDsim\"\n",
    "if year == 2016 or year == 2017 or year == 2018:\n",
    "    year_str = str(year)\n",
    "elif year == \"2016\" or year == \"2016APV\" or year == \"2017\" or year == \"2018\":\n",
    "    year_str = year\n",
    "else:\n",
    "    year_str = \"All\"\n",
    "if processor.do_gen==True and winterfell:\n",
    "    filename = \"QCD_flat_files.json\"\n",
    "elif processor.do_gen==True:\n",
    "    # filename = \"fileset_QCD.json\"\n",
    "    filename = \"fileset_QCD_wRedirs.json\"\n",
    "else:\n",
    "    filename = \"datasets_UL_NANOAOD.json\"\n",
    "if testing and not data:\n",
    "    fname = 'coffeaOutput/dijet/dijetHistsTest_wXSscaling_{}_pt{}_rapidity{}_{}{}.pkl'.format(datastring, processor.ptcut, processor.ycut, processor.jet_systematics[0], year_str)\n",
    "elif testing and data:\n",
    "    fname = 'coffeaOutput/dijet/dijetHistsTest{}_pt{}_rapidity{}_{}{}.pkl'.format(datastring, processor.ptcut, processor.ycut, processor.jet_systematics[0], year_str)\n",
    "elif not testing and data:\n",
    "    fname = 'coffeaOutput/dijet/dijetHists_{}_pt{}_rapidity{}_{}{}.pkl'.format(datastring, processor.ptcut, processor.ycut, processor.jet_systematics[0], year_str)\n",
    "else:\n",
    "    fname = 'coffeaOutput/dijet/dijetHists_wXSscaling_{}_pt{}_rapidity{}_{}{}.pkl'.format(datastring, processor.ptcut, processor.ycut, processor.jet_systematics[0], year_str)\n",
    "if range!=None:\n",
    "    print(\"Range input: \", range)\n",
    "    fname=fname[:-4]+\"_\"+str(range[0])+\"_\"+str(range[1])+\".pkl\"\n",
    "    print(\"New ranged fname \", fname)"
   ]
  },
  {
   "cell_type": "code",
   "execution_count": null,
   "id": "2c55f74b",
   "metadata": {
    "scrolled": true
   },
   "outputs": [
    {
     "name": "stdout",
     "output_type": "stream",
     "text": [
      "Running for source  nominal\n",
      "Data: Gen:  False True\n",
      "Running over datasets  dict_keys(['/QCD_Pt_1000to1400_TuneCP5_13TeV_pythia8/RunIISummer20UL17NanoAODv9-106X_mc2017_realistic_v9-v1/NANOAODSIM', '/QCD_Pt_1400to1800_TuneCP5_13TeV_pythia8/RunIISummer20UL17NanoAODv9-106X_mc2017_realistic_v9-v1/NANOAODSIM', '/QCD_Pt_170to300_TuneCP5_13TeV_pythia8/RunIISummer20UL17NanoAODv9-106X_mc2017_realistic_v9-v1/NANOAODSIM', '/QCD_Pt_1800to2400_TuneCP5_13TeV_pythia8/RunIISummer20UL17NanoAODv9-106X_mc2017_realistic_v9-v1/NANOAODSIM', '/QCD_Pt_2400to3200_TuneCP5_13TeV_pythia8/RunIISummer20UL17NanoAODv9-106X_mc2017_realistic_v9-v1/NANOAODSIM', '/QCD_Pt_300to470_TuneCP5_13TeV_pythia8/RunIISummer20UL17NanoAODv9-106X_mc2017_realistic_v9-v1/NANOAODSIM', '/QCD_Pt_3200toInf_TuneCP5_13TeV_pythia8/RunIISummer20UL17NanoAODv9-106X_mc2017_realistic_v9-v1/NANOAODSIM', '/QCD_Pt_470to600_TuneCP5_13TeV_pythia8/RunIISummer20UL17NanoAODv9-106X_mc2017_realistic_v9-v1/NANOAODSIM', '/QCD_Pt_600to800_TuneCP5_13TeV_pythia8/RunIISummer20UL17NanoAODv9-106X_mc2017_realistic_v9-v1/NANOAODSIM', '/QCD_Pt_800to1000_TuneCP5_13TeV_pythia8/RunIISummer20UL17NanoAODv9-106X_mc2017_realistic_v9-v1/NANOAODSIM'])\n",
      "Running on LPC Condor\n",
      "[                                        ] | 0% Completed | 14min 24.3s"
     ]
    },
    {
     "name": "stderr",
     "output_type": "stream",
     "text": [
      "IOPub message rate exceeded.\n",
      "The Jupyter server will temporarily stop sending output\n",
      "to the client in order to avoid crashing it.\n",
      "To change this limit, set the config variable\n",
      "`--ServerApp.iopub_msg_rate_limit`.\n",
      "\n",
      "Current values:\n",
      "ServerApp.iopub_msg_rate_limit=1000.0 (msgs/sec)\n",
      "ServerApp.rate_limit_window=3.0 (secs)\n",
      "\n"
     ]
    },
    {
     "name": "stdout",
     "output_type": "stream",
     "text": [
      "[                                        ] | 0% Completed |  1hr 26min 56.3s"
     ]
    },
    {
     "name": "stderr",
     "output_type": "stream",
     "text": [
      "IOPub message rate exceeded.\n",
      "The Jupyter server will temporarily stop sending output\n",
      "to the client in order to avoid crashing it.\n",
      "To change this limit, set the config variable\n",
      "`--ServerApp.iopub_msg_rate_limit`.\n",
      "\n",
      "Current values:\n",
      "ServerApp.iopub_msg_rate_limit=1000.0 (msgs/sec)\n",
      "ServerApp.rate_limit_window=3.0 (secs)\n",
      "\n"
     ]
    },
    {
     "name": "stdout",
     "output_type": "stream",
     "text": [
      "[                                        ] | 0% Completed |  1hr 35min  2.3s"
     ]
    }
   ],
   "source": [
    "run_ind_srcs = True\n",
    "\n",
    "unc_srcs = [\"nominal\",\"jer\", \"AbsoluteMPFBias\",\"AbsoluteScale\",\"AbsoluteStat\",\"FlavorQCD\",\"Fragmentation\",\"PileUpDataMC\",\"PileUpPtBB\",\"PileUpPtEC1\",\n",
    "\"PileUpPtEC2\",\"PileUpPtHF\",\"PileUpPtRef\",\"RelativeFSR\",\"RelativeJEREC1\",\n",
    "            \"RelativeJEREC2\",\"RelativeJERHF\",\"RelativePtBB\",\"RelativePtEC1\",\n",
    "            \"RelativePtEC2\",\"RelativePtHF\",\"RelativeBal\",\"RelativeSample\",\n",
    "            \"RelativeStatEC\",\"RelativeStatFSR\",\"RelativeStatHF\",\"SinglePionECAL\",\n",
    "            \"SinglePionHCAL\",\"TimePtEta\"]\n",
    "if run_ind_srcs == True:\n",
    "    for src in unc_srcs:\n",
    "        print(\"Running for source \", src)\n",
    "        processor = makeDijetHists(data = data, jet_systematics = [src])\n",
    "        result = runCoffeaJob(processor, jsonFile = filename, winterfell = winterfell, year = year, \n",
    "                              testing = testing, dask = dask, data = not processor.do_gen, datasetRange=range)\n",
    "        if testing and not data:\n",
    "            fname = 'coffeaOutput/dijet/dijetHistsTest_wXSscaling_{}_pt{}_rapidity{}_{}{}.pkl'.format(datastring, processor.ptcut, processor.ycut, src, year_str)\n",
    "        elif testing and data:\n",
    "            fname = 'coffeaOutput/dijet/dijetHistsTest{}_pt{}_rapidity{}_{}{}.pkl'.format(datastring, processor.ptcut, processor.ycut, src, year_str)\n",
    "        elif not testing and data:\n",
    "            fname = 'coffeaOutput/dijet/dijetHists_{}_pt{}_rapidity{}_{}{}.pkl'.format(datastring, processor.ptcut, processor.ycut, src, year_str)\n",
    "        else:\n",
    "            fname = 'coffeaOutput/dijet/dijetHists_wXSscaling_{}_pt{}_rapidity{}_{}{}.pkl'.format(datastring, processor.ptcut, processor.ycut, src, year_str)\n",
    "        if range!=None:\n",
    "            print(\"Range input: \", range)\n",
    "            fname=fname[:-4]+\"_\"+str(range[0])+\"_\"+str(range[1])+\".pkl\"\n",
    "            print(\"New ranged fname \", fname)\n",
    "        with open(fname, \"wb\") as f:\n",
    "            pickle.dump( result, f)\n",
    "else:\n",
    "    result = runCoffeaJob(processor, jsonFile = filename, winterfell = winterfell, year = year,\n",
    "                      testing = testing, dask = dask, data = not processor.do_gen)\n",
    "    with open(fname, \"wb\") as f:\n",
    "        pickle.dump( result, f)"
   ]
  },
  {
   "cell_type": "code",
   "execution_count": null,
   "id": "91cdf3f2",
   "metadata": {
    "tags": []
   },
   "outputs": [],
   "source": [
    "print(result)\n",
    "with open(fname, \"wb\") as f:\n",
    "    pickle.dump( result, f)\n",
    "# fname = 'coffeaOutput/dijetHistsTest_QCDsim_30.0_2.5.pkl'\n",
    "with open(fname, \"rb\") as f:\n",
    "    result = pickle.load( f )\n",
    "# result=result[0]\n",
    "import matplotlib.pyplot as plt\n",
    "import mplhep as hep\n",
    "plt.style.use(hep.style.CMS)\n",
    "%matplotlib inline\n",
    "\n",
    "plt.rcParams[\"figure.figsize\"] = (10,10)\n",
    "\n",
    "print(result['cutflow'])"
   ]
  },
  {
   "cell_type": "code",
   "execution_count": null,
   "id": "0b80797b",
   "metadata": {
    "tags": []
   },
   "outputs": [],
   "source": [
    "fig, axs = plt.subplots(2, 2)\n",
    "fig.suptitle('Ungroomed MC jets')\n",
    "\n",
    "result['response_matrix_u'][{'dataset':sum, 'jetsyst':\"nominal\"}].project('ptreco').plot1d(ax=axs[0,0], binwnorm=True)\n",
    "result['response_matrix_u'][{'dataset':sum, 'jetsyst':\"jesUp\"}].project('ptreco').plot1d(ax=axs[0,0], binwnorm=True)\n",
    "result['response_matrix_u'][{'dataset':sum}].project('ptgen').plot1d(ax=axs[0,1])\n",
    "result['response_matrix_u'][{'dataset':sum}].project('mgen').plot1d(ax=axs[1,0], binwnorm=True)\n",
    "result['response_matrix_u'][{'dataset':sum}].project('mreco').plot1d(ax=axs[1,1])"
   ]
  },
  {
   "cell_type": "code",
   "execution_count": null,
   "id": "09a9a545-9648-4ae8-b43a-f9f05e7c5272",
   "metadata": {
    "tags": []
   },
   "outputs": [],
   "source": [
    "s = result['response_matrix_u'][{'dataset':sum}].stack(\"syst\")\n",
    "s.project('ptreco').plot(binwnorm=True)\n",
    "plt.legend()\n",
    "plt.show()"
   ]
  },
  {
   "cell_type": "code",
   "execution_count": null,
   "id": "26e46d9c-ad42-4f34-941b-95aa31b9197b",
   "metadata": {
    "tags": []
   },
   "outputs": [],
   "source": [
    "# fname = 'coffeaOutput/dijetHistsTest_JetHT_30.0_2.5.pkl'\n",
    "with open(fname, \"rb\") as f:\n",
    "    result = pickle.load( f )\n",
    "# result=result[0]\n",
    "import matplotlib.pyplot as plt\n",
    "%matplotlib inline\n",
    "#import mplhep as hep\n",
    "plt.rcParams[\"figure.figsize\"] = (10,10)"
   ]
  },
  {
   "cell_type": "code",
   "execution_count": null,
   "id": "b50f770f-e4a6-489e-81c9-7104f2a64a46",
   "metadata": {
    "tags": []
   },
   "outputs": [],
   "source": [
    "fig, axs = plt.subplots(2, 2)\n",
    "fig.suptitle('Ungroomed Data jets')\n",
    "result['jet_pt_mass_reco_u'][{'dataset':sum}].project('ptreco').plot1d(ax=axs[0,0], binwnorm=True)\n",
    "result['jet_pt_mass_reco_u'][{'dataset':sum}].project('mreco').plot1d(ax=axs[0,1])\n",
    "result['jet_pt_mass_reco_g'][{'dataset':sum}].project('ptreco').plot1d(ax=axs[1,0], binwnorm=True)\n",
    "result['jet_pt_mass_reco_g'][{'dataset':sum}].project('mreco').plot1d(ax=axs[1,1])"
   ]
  },
  {
   "cell_type": "code",
   "execution_count": null,
   "id": "2d701e4d-4861-4824-8cc8-756916354481",
   "metadata": {
    "tags": []
   },
   "outputs": [],
   "source": [
    "numerator = result['jet_pt'][{'partonFlav':'Gluon'}].project('ptreco')\n",
    "denominator = result['jet_pt'].project('ptreco')\n",
    "print(numerator.values(), denominator.values())\n",
    "\n",
    "numerator.label = r'$\\epsilon$'\n",
    "fig = plt.gcf()\n",
    "grid = fig.add_gridspec(2, 1, hspace=0, height_ratios=[3, 1])\n",
    "\n",
    "main_ax = fig.add_subplot(grid[0])\n",
    "subplot_ax = fig.add_subplot(grid[1], sharex=main_ax)\n",
    "plt.setp(main_ax.get_xticklabels(), visible=False)\n",
    "main_ax, sublot_ax = numerator.plot_ratio(\n",
    "    denominator,\n",
    "    rp_num_label=\"gluons\",\n",
    "    rp_denom_label=\"all\",\n",
    "    rp_uncert_draw_type=\"line\",\n",
    "    rp_uncertainty_type=\"efficiency\",\n",
    "    ax_dict = {\"main_ax\":main_ax,\"ratio_ax\":subplot_ax}\n",
    ")\n",
    "\n",
    "plt.xlabel(\"Pt (GeV)\")\n",
    "plt.ylabel(\"Gluon fraction\")\n",
    "fig.suptitle('Gluon content as a function of pT')"
   ]
  },
  {
   "cell_type": "code",
   "execution_count": null,
   "id": "aacad3c5",
   "metadata": {},
   "outputs": [],
   "source": [
    "numerator = result['jet_eta'][{'partonFlav':'Gluon'}].project('eta')\n",
    "denominator = result['jet_eta'].project('eta')\n",
    "print(numerator.values(), denominator.values())\n",
    "numerator.label = r'$\\epsilon$'\n",
    "numerator.label = r'$\\epsilon$'\n",
    "fig = plt.gcf()\n",
    "grid = fig.add_gridspec(2, 1, hspace=0, height_ratios=[3, 1])\n",
    "\n",
    "main_axis = fig.add_subplot(grid[0])\n",
    "ratio_ax = fig.add_subplot(grid[1], sharex=main_axis)\n",
    "plt.setp(main_axis.get_xticklabels(), visible=False)\n",
    "main_ax, sublot_ax = numerator.plot_ratio(\n",
    "    denominator,\n",
    "    rp_num_label=\"gluons\",\n",
    "    rp_denom_label=\"all\",\n",
    "    rp_uncert_draw_type=\"line\",\n",
    "    rp_uncertainty_type=\"efficiency\",\n",
    "    ax_dict = {\"main_ax\":main_axis,\"ratio_ax\":ratio_ax}\n",
    ")\n",
    "\n",
    "plt.xlabel(r'$\\eta$')\n",
    "plt.ylabel(\"Gluon fraction\")\n",
    "main_axis.set_title('Gluon content as a function of eta')\n"
   ]
  },
  {
   "cell_type": "code",
   "execution_count": null,
   "id": "374e1fa7",
   "metadata": {},
   "outputs": [],
   "source": [
    "#sum entries in bins --> plot as y-axis\n",
    "plt.rcParams[\"figure.figsize\"] = (20,5)\n",
    "\n",
    "\n",
    "fig, axs = plt.subplots(1, 3)\n",
    "result['jet_mass'][{'jetNumb':sum, 'dataset':sum}].plot1d(ax = axs[0], overlay='partonFlav')\n",
    "plt.rc('legend',fontsize='small')\n",
    "plt.xlabel(\"Jet mass (GeV)\")\n",
    "result['jet_pt'][{'jetNumb':sum, 'dataset':sum}].plot1d(ax = axs[1], overlay='partonFlav')\n",
    "plt.rc('legend',fontsize='small')\n",
    "#axs[0].set_xlabel(\"Jet mass (GeV)\")\n",
    "plt.xlabel(\"Jet pT (GeV)\")\n",
    "result['jet_eta'][{'jetNumb':sum, 'dataset':sum}].plot1d(ax = axs[2], overlay='partonFlav')\n",
    "plt.rc('legend',fontsize='small')\n",
    "plt.legend()\n",
    "plt.xlabel(\"Jet eta (GeV)\")\n",
    "\n",
    "fig.suptitle('Dijet eta <2.5, pt> 200.', fontsize=\"large\")"
   ]
  },
  {
   "cell_type": "code",
   "execution_count": null,
   "id": "6238fc43",
   "metadata": {},
   "outputs": [],
   "source": [
    "plt.rcParams[\"figure.figsize\"] = (20,10)\n",
    "fig, axs = plt.subplots(2, 3)\n",
    "print(result['jet_mass'])\n",
    "result['jet_mass'][{'jetNumb':'jet1', 'dataset':sum}].plot1d(ax = axs[0,0], overlay='partonFlav')\n",
    "plt.rc('legend',fontsize='small')\n",
    "plt.xlabel(\"Jet mass (GeV)\")\n",
    "result['jet_pt'][{'jetNumb':'jet1', 'dataset':sum}].plot1d(ax = axs[0,1], overlay='partonFlav')\n",
    "plt.rc('legend',fontsize='small')\n",
    "#axs[0].set_xlabel(\"Jet mass (GeV)\")\n",
    "plt.xlabel(\"Jet pT (GeV)\")\n",
    "result['jet_eta'][{'jetNumb':'jet1', 'dataset':sum}].plot1d(ax = axs[0,2], overlay='partonFlav')\n",
    "plt.rc('legend',fontsize='small')\n",
    "plt.legend()\n",
    "plt.xlabel(\"Jet eta (GeV)\")\n",
    "result['jet_mass'][{'jetNumb':'jet2', 'dataset':sum}].plot1d(ax = axs[1,0], overlay='partonFlav')\n",
    "plt.rc('legend',fontsize='small')\n",
    "plt.xlabel(\"Jet mass (GeV)\")\n",
    "result['jet_pt'][{'jetNumb':'jet2', 'dataset':sum}].plot1d(ax = axs[1,1], overlay='partonFlav')\n",
    "plt.rc('legend',fontsize='small')\n",
    "#axs[0].set_xlabel(\"Jet mass (GeV)\")\n",
    "plt.xlabel(\"Jet pT (GeV)\")\n",
    "result['jet_eta'][{'jetNumb':'jet2', 'dataset':sum}].plot1d(ax = axs[1,2], overlay='partonFlav')\n",
    "plt.rc('legend',fontsize='small')\n",
    "plt.legend()\n",
    "plt.xlabel(\"Jet eta (GeV)\")\n",
    "fig.suptitle('Dijet eta <2.5, pt> 200.', fontsize=\"large\")"
   ]
  },
  {
   "cell_type": "code",
   "execution_count": null,
   "id": "f2fd10c5",
   "metadata": {},
   "outputs": [],
   "source": [
    "njets=result['cutflow']['nJets']\n",
    "ngluonjets=result['cutflow']['nGluonJets']\n",
    "print(result['cutflow'])\n",
    "print(\"Gluon purity:\", ngluonjets/njets)"
   ]
  },
  {
   "cell_type": "code",
   "execution_count": null,
   "id": "d84a6515",
   "metadata": {},
   "outputs": [],
   "source": [
    "response_matrix_u_values = result['response_matrix_u'].project(\"ptreco\", \"mreco\", \"ptgen\", \"mgen\").values()\n",
    "response_matrix_u_up = result['response_matrix_u'][{'syst':'jesUp'}].project(\"ptreco\", \"mreco\", \"ptgen\", \"mgen\").values().reshape( (nptreco)*(nmassreco), (nptgen)*(nmassgen) )\n",
    "response_matrix_u_down = result['response_matrix_u'][{'syst':'jesDown'}].project(\"ptreco\", \"mreco\", \"ptgen\", \"mgen\").values().reshape( (nptreco)*(nmassreco), (nptgen)*(nmassgen) )\n",
    "response_matrix_u_nom = result['response_matrix_u'][{'syst':'nominal'}].project(\"ptreco\", \"mreco\", \"ptgen\", \"mgen\").values().reshape( (nptreco)*(nmassreco), (nptgen)*(nmassgen) )\n",
    "response_matrix_g_values = result['response_matrix_g'].project(\"ptreco\", \"mreco\", \"ptgen\", \"mgen\").values()"
   ]
  },
  {
   "cell_type": "code",
   "execution_count": null,
   "id": "5f0b008d",
   "metadata": {},
   "outputs": [],
   "source": [
    "nptreco,nmassreco,nptgen,nmassgen = response_matrix_u_values.shape"
   ]
  },
  {
   "cell_type": "code",
   "execution_count": null,
   "id": "b0f4aaa0",
   "metadata": {},
   "outputs": [],
   "source": [
    "response_matrix_u_final = response_matrix_u_values.reshape( (nptreco)*(nmassreco), (nptgen)*(nmassgen) )\n",
    "print(ak.max(response_matrix_u_final))"
   ]
  },
  {
   "cell_type": "code",
   "execution_count": null,
   "id": "f89f6894",
   "metadata": {},
   "outputs": [],
   "source": [
    "response_matrix_g_final = response_matrix_g_values.reshape( (nptreco)*(nmassreco), (nptgen)*(nmassgen) )"
   ]
  },
  {
   "cell_type": "code",
   "execution_count": null,
   "id": "94a15a8b",
   "metadata": {},
   "outputs": [],
   "source": [
    "plt.rcParams[\"figure.figsize\"] = (20,20)\n",
    "fig, axs = plt.subplots(2, 2)\n",
    "axs[0,0].imshow( np.log(response_matrix_u_final+1), aspect=\"auto\", cmap=\"Blues\", interpolation='nearest' )\n",
    "axs[1,0].imshow( (np.log(response_matrix_u_up+1)-np.log(response_matrix_u_final+1)+1), aspect=\"auto\", cmap=\"Blues\", interpolation='nearest' )\n",
    "axs[0,1].imshow( np.log(response_matrix_u_down+1), aspect=\"auto\", cmap=\"Blues\", interpolation='nearest' )\n",
    "axs[1,1].imshow( np.log(response_matrix_u_nom+1), aspect=\"auto\", cmap=\"Blues\", interpolation='nearest' )\n",
    "plt.xlabel(\"RECO\", fontsize=20)\n",
    "plt.ylabel(\"GEN\", fontsize=20)\n",
    "plt.tick_params(labelsize=20)"
   ]
  },
  {
   "cell_type": "code",
   "execution_count": null,
   "id": "428de191",
   "metadata": {},
   "outputs": [],
   "source": [
    "plt.figure(figsize = (40,80))\n",
    "plt.imshow( np.log(response_matrix_g_final+1), aspect=\"equal\", cmap=\"Blues\" )\n",
    "plt.xlabel(\"RECO\", fontsize=50)\n",
    "plt.ylabel(\"GEN\", fontsize=50)\n",
    "plt.tick_params(labelsize=40)"
   ]
  },
  {
   "cell_type": "code",
   "execution_count": null,
   "id": "355566c2",
   "metadata": {},
   "outputs": [],
   "source": [
    "plt.figure(figsize = (40,80))\n",
    "plt.imshow( response_matrix_u_final, aspect=\"equal\", cmap=\"Blues\" )\n",
    "plt.xlabel(\"RECO\", fontsize=50)\n",
    "plt.ylabel(\"GEN\", fontsize=50)\n",
    "plt.tick_params(labelsize=40)"
   ]
  },
  {
   "cell_type": "code",
   "execution_count": null,
   "id": "3c84c772-e262-47f4-b810-aa2844c1a904",
   "metadata": {},
   "outputs": [],
   "source": []
  },
  {
   "cell_type": "code",
   "execution_count": null,
   "id": "761a514a",
   "metadata": {},
   "outputs": [],
   "source": []
  }
 ],
 "metadata": {
  "kernelspec": {
   "display_name": "Python 3 (ipykernel)",
   "language": "python",
   "name": "python3"
  },
  "language_info": {
   "codemirror_mode": {
    "name": "ipython",
    "version": 3
   },
   "file_extension": ".py",
   "mimetype": "text/x-python",
   "name": "python",
   "nbconvert_exporter": "python",
   "pygments_lexer": "ipython3",
   "version": "3.10.8"
  }
 },
 "nbformat": 4,
 "nbformat_minor": 5
}

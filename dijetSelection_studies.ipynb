{
 "cells": [
  {
   "cell_type": "code",
   "execution_count": 1,
   "id": "c1d30278",
   "metadata": {},
   "outputs": [
    {
     "name": "stdout",
     "output_type": "stream",
     "text": [
      "0.7.21\n"
     ]
    }
   ],
   "source": [
    "import awkward as ak\n",
    "import numpy as np\n",
    "import coffea\n",
    "import os\n",
    "from plugins import handleData\n",
    "\n",
    "print(coffea.__version__)\n",
    "from coffea import util\n",
    "from coffea.nanoevents import NanoEventsFactory, NanoAODSchema\n",
    "\n",
    "import hist\n",
    "\n",
    "# testFiles = [\n",
    "# \"root://cmsxrootd.fnal.gov//store/mc/RunIISummer20UL17NanoAODv9/QCD_Pt_170to300_TuneCP5_13TeV_pythia8/NANOAODSIM/106X_mc2017_realistic_v9-v1/120000/0CDD30E0-B953-E54B-BB7A-BFB45BE6EC93.root\",\n",
    "# \"root://cmsxrootd.fnal.gov//store/mc/RunIISummer20UL17NanoAODv9/QCD_Pt_300to470_TuneCP5_13TeV_pythia8/NANOAODSIM/106X_mc2017_realistic_v9-v1/120000/3788BBD3-3B70-BE48-B01A-4FA395E1E0B6.root\",\n",
    "# \"root://cmsxrootd.fnal.gov//store/mc/RunIISummer20UL17NanoAODv9/QCD_Pt_470to600_TuneCP5_13TeV_pythia8/NANOAODSIM/106X_mc2017_realistic_v9-v1/70000/F6B6A983-3E2B-7B4D-A2CE-E03AB6E32387.root\",\n",
    "# \"root://cmsxrootd.fnal.gov//store/mc/RunIISummer20UL17NanoAODv9/QCD_Pt_600to800_TuneCP5_13TeV_pythia8/NANOAODSIM/106X_mc2017_realistic_v9-v1/70000/FDF7FBE4-9226-994A-BD45-29995A3CD62F.root\",\n",
    "# \"root://cmsxrootd.fnal.gov//store/mc/RunIISummer20UL17NanoAODv9/QCD_Pt_800to1000_TuneCP5_13TeV_pythia8/NANOAODSIM/106X_mc2017_realistic_v9-v1/70000/2CEB03D7-5B1A-EE46-9C21-13ED3E349AF4.root\",\n",
    "# \"root://cmsxrootd.fnal.gov//store/mc/RunIISummer20UL17NanoAODv9/QCD_Pt_1000to1400_TuneCP5_13TeV_pythia8/NANOAODSIM/106X_mc2017_realistic_v9-v1/70000/DB87A517-0584-1A41-BB18-AAE7C9AAE5B8.root\",\n",
    "# \"root://cmsxrootd.fnal.gov//store/mc/RunIISummer20UL17NanoAODv9/QCD_Pt_1400to1800_TuneCP5_13TeV_pythia8/NANOAODSIM/106X_mc2017_realistic_v9-v1/280000/BFE2E7E9-82CB-FE47-9B43-EBA5C373AF60.root\",\n",
    "# \"root://cmsxrootd.fnal.gov//store/mc/RunIISummer20UL17NanoAODv9/QCD_Pt_1800to2400_TuneCP5_13TeV_pythia8/NANOAODSIM/106X_mc2017_realistic_v9-v1/70000/5213B536-BAA1-CC43-A58A-B1E41E2680F5.root\",\n",
    "# \"root://cmsxrootd.fnal.gov//store/mc/RunIISummer20UL17NanoAODv9/QCD_Pt_2400to3200_TuneCP5_13TeV_pythia8/NANOAODSIM/106X_mc2017_realistic_v9-v1/280000/E8400F91-3216-EA46-A9F1-8CC7EF5261B0.root\",\n",
    "# \"root://cmsxrootd.fnal.gov//store/mc/RunIISummer20UL17NanoAODv9/QCD_Pt_3200toInf_TuneCP5_13TeV_pythia8/NANOAODSIM/106X_mc2017_realistic_v9-v1/280000/B21BFDD8-B878-784C-AFB6-5CDE131F5C39.root\"\n",
    "# ]\n",
    "\n",
    "# redirector = 'root://xcache/'\n",
    "redirector='root://cmsxrootd.fnal.gov/'\n",
    "# files = handleData('fileset_QCD.json', redirector, testing = True, data = False)\n",
    "# # files_test = handleData('fileset_QCD.json', redirector, testing = False, data = False)\n",
    "\n",
    "events = NanoEventsFactory.from_root(redirector+'/store/mc/RunIISummer20UL18NanoAODv9/QCD_Pt_800to1000_TuneCP5_13TeV_pythia8/NANOAODSIM/106X_upgrade2018_realistic_v16_L1v1-v1/120000/48C7B9A8-400F-5D4B-A8D5-F9EC247A9880.root', schemaclass=NanoAODSchema).events()\n",
    "# print(events.HLT.fields)\n",
    "#may have to put in weights by hand\n",
    "# print(events.Generator.weight)"
   ]
  },
  {
   "cell_type": "code",
   "execution_count": 2,
   "id": "1f9eed95",
   "metadata": {
    "scrolled": true
   },
   "outputs": [
    {
     "name": "stdout",
     "output_type": "stream",
     "text": [
      "0.7.21\n",
      "2.7.2\n",
      "Data:  True  gen  False\n"
     ]
    }
   ],
   "source": [
    "from plugins import *\n",
    "from dijetProcessor import makeDijetHists\n",
    "from dask.distributed import Client\n",
    "import pickle\n",
    "#### WE'RE MISSING 2016B ver2 -- AK8 PF HLT is missing need to use AK4 trigger isntead\n",
    "\n",
    "data = True\n",
    "winterfell = False\n",
    "dask = True\n",
    "testing = False\n",
    "casa = False\n",
    "year = 2018\n",
    "processor = makeDijetHists(data = data)\n",
    "datastring = \"JetHT\" if processor.do_gen == False else \"QCDsim\"\n",
    "if year == 2016 or year == 2017 or year == 2018:\n",
    "    year_str = str(year)\n",
    "elif year == \"2016\" or year == \"2016APV\" or year == \"2017\" or year == \"2018\":\n",
    "    year_str = year\n",
    "else:\n",
    "    year_str = \"All\"\n",
    "if processor.do_gen==True and winterfell:\n",
    "    filename = \"QCD_flat_files.json\"\n",
    "elif processor.do_gen==True:\n",
    "    filename = \"fileset_QCD.json\"\n",
    "else:\n",
    "    filename = \"datasets_UL_NANOAOD.json\"\n",
    "if testing and not data:\n",
    "    fname = 'coffeaOutput/dijetHistsTest_wXSscaling_{}_pt{}_rapidity{}jesjec{}.pkl'.format(datastring, processor.ptcut, processor.ycut, year_str)\n",
    "elif testing and data:\n",
    "    fname = 'coffeaOutput/dijetHistsTest{}_pt{}_rapidity{}jesjec{}.pkl'.format(datastring, processor.ptcut, processor.ycut, year_str)\n",
    "elif not testing and data:\n",
    "    fname = 'coffeaOutput/dijetHists_{}_pt{}_rapidity{}jesjec{}.pkl'.format(datastring, processor.ptcut, processor.ycut, year_str)\n",
    "else:\n",
    "    fname = 'coffeaOutput/dijetHists_wXSscaling_{}_pt{}_rapidity{}jesjec{}.pkl'.format(datastring, processor.ptcut, processor.ycut, year_str)"
   ]
  },
  {
   "cell_type": "code",
   "execution_count": 3,
   "id": "2c55f74b",
   "metadata": {},
   "outputs": [
    {
     "name": "stdout",
     "output_type": "stream",
     "text": [
      "Running on LPC Condor\n"
     ]
    },
    {
     "name": "stderr",
     "output_type": "stream",
     "text": [
      "/opt/conda/lib/python3.10/site-packages/distributed/node.py:182: UserWarning: Port 8787 is already in use.\n",
      "Perhaps you already have a cluster running?\n",
      "Hosting the HTTP server on port 40135 instead\n",
      "  warnings.warn(\n"
     ]
    },
    {
     "name": "stdout",
     "output_type": "stream",
     "text": [
      "{'jet_mass': Hist(#######################] | 100% Completed | 55min 29.0s\u001b[2K\u001b[2K\n",
      "  StrCategory([], growth=True, name='dataset', label='Dataset'),\n",
      "  StrCategory([], growth=True, name='jetNumb', label='Jet'),\n",
      "  StrCategory([], growth=True, name='partonFlav', label='Parton Flavour'),\n",
      "  Variable(array([0.00e+00, 5.00e-01, 1.00e+00, 3.00e+00, 5.00e+00, 7.50e+00,\n",
      "       1.00e+01, 1.50e+01, 2.00e+01, 3.00e+01, 4.00e+01, 5.00e+01,\n",
      "       6.00e+01, 7.00e+01, 8.00e+01, 9.00e+01, 1.00e+02, 1.25e+02,\n",
      "       1.50e+02, 1.75e+02, 2.00e+02, 2.25e+02, 2.50e+02, 6.25e+02,\n",
      "       1.00e+03]), name='mreco', label='m_{RECO} (GeV)'),\n",
      "  storage=Weight()) # Sum: WeightedSum(value=0, variance=0), 'jet_pt': Hist(\n",
      "  StrCategory([], growth=True, name='dataset', label='Dataset'),\n",
      "  StrCategory([], growth=True, name='jetNumb', label='Jet'),\n",
      "  StrCategory([], growth=True, name='partonFlav', label='Parton Flavour'),\n",
      "  Variable([200, 280, 360, 450, 520, 630, 690, 750, 800, 1300, 13000], name='ptreco', label='p_{T,RECO} (GeV)'),\n",
      "  storage=Weight()) # Sum: WeightedSum(value=0, variance=0), 'jet_rap': Hist(\n",
      "  StrCategory([], growth=True, name='dataset', label='Dataset'),\n",
      "  StrCategory([], growth=True, name='jetNumb', label='Jet'),\n",
      "  StrCategory([], growth=True, name='partonFlav', label='Parton Flavour'),\n",
      "  Regular(25, 0, 2.5, name='rapidity', label='$y$'),\n",
      "  storage=Weight()) # Sum: WeightedSum(value=0, variance=0), 'jet_eta': Hist(\n",
      "  StrCategory([], growth=True, name='dataset', label='Dataset'),\n",
      "  StrCategory([], growth=True, name='jetNumb', label='Jet'),\n",
      "  StrCategory([], growth=True, name='partonFlav', label='Parton Flavour'),\n",
      "  Regular(25, 0, 2.5, name='eta', label='$\\\\eta$'),\n",
      "  storage=Weight()) # Sum: WeightedSum(value=0, variance=0), 'njet_gen': Hist(\n",
      "  StrCategory([], growth=True, name='dataset', label='Dataset'),\n",
      "  StrCategory([], growth=True, name='syst', label='Systematic'),\n",
      "  Regular(5, 0, 5, name='n', label='Number'),\n",
      "  storage=Weight()) # Sum: WeightedSum(value=0, variance=0), 'jet_mass_u_reco_over_gen': Hist(\n",
      "  StrCategory([], growth=True, name='dataset', label='Dataset'),\n",
      "  StrCategory([], growth=True, name='syst', label='Systematic'),\n",
      "  Regular(10, 0, 1, name='frac', label='Fraction'),\n",
      "  storage=Weight()) # Sum: WeightedSum(value=0, variance=0), 'jet_pt_gen': Hist(\n",
      "  StrCategory([], growth=True, name='dataset', label='Dataset'),\n",
      "  StrCategory([], growth=True, name='syst', label='Systematic'),\n",
      "  Variable([200, 280, 360, 450, 520, 630, 690, 750, 800, 1300, 13000], name='ptgen', label='p_{T,GEN} (GeV)'),\n",
      "  storage=Weight()) # Sum: WeightedSum(value=0, variance=0), 'jet_mass_gen': Hist(\n",
      "  StrCategory([], growth=True, name='dataset', label='Dataset'),\n",
      "  StrCategory([], growth=True, name='syst', label='Systematic'),\n",
      "  StrCategory([], growth=True, name='jetNumb', label='Jet'),\n",
      "  Variable([0, 1, 5, 10, 20, 40, 60, 80, 100, 150, 200, 250, 1000], name='mgen', label='m_{GEN} (GeV)'),\n",
      "  storage=Weight()) # Sum: WeightedSum(value=0, variance=0), 'jet_pt_reco_over_gen': Hist(\n",
      "  StrCategory([], growth=True, name='dataset', label='Dataset'),\n",
      "  StrCategory([], growth=True, name='syst', label='Systematic'),\n",
      "  Regular(10, 0, 1, name='frac', label='Fraction'),\n",
      "  storage=Weight()) # Sum: WeightedSum(value=0, variance=0), 'jet_dphi_gen': Hist(\n",
      "  StrCategory([], growth=True, name='dataset', label='Dataset'),\n",
      "  StrCategory([], growth=True, name='syst', label='Systematic'),\n",
      "  Regular(150, -6.28319, 6.28319, name='dphi', label='$\\\\Delta \\\\phi$'),\n",
      "  storage=Weight()) # Sum: WeightedSum(value=0, variance=0), 'jet_ptasymm_gen': Hist(\n",
      "  StrCategory([], growth=True, name='dataset', label='Dataset'),\n",
      "  StrCategory([], growth=True, name='syst', label='Systematic'),\n",
      "  Regular(10, 0, 1, name='frac', label='Fraction'),\n",
      "  storage=Weight()) # Sum: WeightedSum(value=0, variance=0), 'jet_dr_gen_subjet': Hist(\n",
      "  StrCategory([], growth=True, name='dataset', label='Dataset'),\n",
      "  StrCategory([], growth=True, name='syst', label='Systematic'),\n",
      "  Regular(150, 0, 6, name='dr', label='$\\\\Delta R$'),\n",
      "  storage=Weight()) # Sum: WeightedSum(value=0, variance=0), 'dijet_dr_reco_to_gen': Hist(\n",
      "  StrCategory([], growth=True, name='dataset', label='Dataset'),\n",
      "  StrCategory([], growth=True, name='syst', label='Systematic'),\n",
      "  Regular(150, 0, 6, name='dr', label='$\\\\Delta R$'),\n",
      "  storage=Weight()) # Sum: WeightedSum(value=0, variance=0), 'dr_reco_to_gen_subjet': Hist(\n",
      "  StrCategory([], growth=True, name='dataset', label='Dataset'),\n",
      "  StrCategory([], growth=True, name='syst', label='Systematic'),\n",
      "  Regular(150, 0, 6, name='dr', label='$\\\\Delta R$'),\n",
      "  storage=Weight()) # Sum: WeightedSum(value=0, variance=0), 'misses': Hist(\n",
      "  StrCategory([], growth=True, name='dataset', label='Dataset'),\n",
      "  StrCategory([], growth=True, name='syst', label='Systematic'),\n",
      "  Variable([200, 280, 360, 450, 520, 630, 690, 750, 800, 1300, 13000], name='ptgen', label='p_{T,GEN} (GeV)'),\n",
      "  Variable([0, 1, 5, 10, 20, 40, 60, 80, 100, 150, 200, 250, 1000], name='mgen', label='m_{GEN} (GeV)'),\n",
      "  storage=Weight()) # Sum: WeightedSum(value=0, variance=0), 'fakes': Hist(\n",
      "  StrCategory([], growth=True, name='dataset', label='Dataset'),\n",
      "  StrCategory([], growth=True, name='syst', label='Systematic'),\n",
      "  Variable([200, 280, 360, 450, 520, 630, 690, 750, 800, 1300, 13000], name='ptreco', label='p_{T,RECO} (GeV)'),\n",
      "  Variable(array([0.00e+00, 5.00e-01, 1.00e+00, 3.00e+00, 5.00e+00, 7.50e+00,\n",
      "       1.00e+01, 1.50e+01, 2.00e+01, 3.00e+01, 4.00e+01, 5.00e+01,\n",
      "       6.00e+01, 7.00e+01, 8.00e+01, 9.00e+01, 1.00e+02, 1.25e+02,\n",
      "       1.50e+02, 1.75e+02, 2.00e+02, 2.25e+02, 2.50e+02, 6.25e+02,\n",
      "       1.00e+03]), name='mreco', label='m_{RECO} (GeV)'),\n",
      "  storage=Weight()) # Sum: WeightedSum(value=0, variance=0), 'jet_pt_mass_reco_u': Hist(\n",
      "  StrCategory(['/JetHT/Run2018A-UL2018_MiniAODv2_NanoAODv9-v2/NANOAOD', '/JetHT/Run2018B-UL2018_MiniAODv2_NanoAODv9-v1/NANOAOD'], growth=True, name='dataset', label='Dataset'),\n",
      "  StrCategory(['nominal'], growth=True, name='syst', label='Systematic'),\n",
      "  Variable([200, 280, 360, 450, 520, 630, 690, 750, 800, 1300, 13000], name='ptreco', label='p_{T,RECO} (GeV)'),\n",
      "  Variable(array([0.00e+00, 5.00e-01, 1.00e+00, 3.00e+00, 5.00e+00, 7.50e+00,\n",
      "       1.00e+01, 1.50e+01, 2.00e+01, 3.00e+01, 4.00e+01, 5.00e+01,\n",
      "       6.00e+01, 7.00e+01, 8.00e+01, 9.00e+01, 1.00e+02, 1.25e+02,\n",
      "       1.50e+02, 1.75e+02, 2.00e+02, 2.25e+02, 2.50e+02, 6.25e+02,\n",
      "       1.00e+03]), name='mreco', label='m_{RECO} (GeV)'),\n",
      "  storage=Weight()) # Sum: WeightedSum(value=2.33245e+09, variance=5.78619e+13) (WeightedSum(value=3.66697e+09, variance=1.03662e+14) with flow), 'jet_pt_mass_reco_g': Hist(\n",
      "  StrCategory(['/JetHT/Run2018A-UL2018_MiniAODv2_NanoAODv9-v2/NANOAOD', '/JetHT/Run2018B-UL2018_MiniAODv2_NanoAODv9-v1/NANOAOD'], growth=True, name='dataset', label='Dataset'),\n",
      "  StrCategory(['nominal'], growth=True, name='syst', label='Systematic'),\n",
      "  Variable([200, 280, 360, 450, 520, 630, 690, 750, 800, 1300, 13000], name='ptreco', label='p_{T,RECO} (GeV)'),\n",
      "  Variable(array([0.00e+00, 5.00e-01, 1.00e+00, 3.00e+00, 5.00e+00, 7.50e+00,\n",
      "       1.00e+01, 1.50e+01, 2.00e+01, 3.00e+01, 4.00e+01, 5.00e+01,\n",
      "       6.00e+01, 7.00e+01, 8.00e+01, 9.00e+01, 1.00e+02, 1.25e+02,\n",
      "       1.50e+02, 1.75e+02, 2.00e+02, 2.25e+02, 2.50e+02, 6.25e+02,\n",
      "       1.00e+03]), name='mreco', label='m_{RECO} (GeV)'),\n",
      "  storage=Weight()) # Sum: WeightedSum(value=2.16118e+09, variance=5.26891e+13) (WeightedSum(value=3.66697e+09, variance=1.03662e+14) with flow), 'jet_pt_mass_u_gen': Hist(\n",
      "  StrCategory([], growth=True, name='dataset', label='Dataset'),\n",
      "  StrCategory([], growth=True, name='syst', label='Systematic'),\n",
      "  Variable([200, 280, 360, 450, 520, 630, 690, 750, 800, 1300, 13000], name='ptgen', label='p_{T,GEN} (GeV)'),\n",
      "  Variable([0, 1, 5, 10, 20, 40, 60, 80, 100, 150, 200, 250, 1000], name='mgen', label='m_{GEN} (GeV)'),\n",
      "  storage=Weight()) # Sum: WeightedSum(value=0, variance=0), 'jet_pt_mass_g_gen': Hist(\n",
      "  StrCategory([], growth=True, name='dataset', label='Dataset'),\n",
      "  StrCategory([], growth=True, name='syst', label='Systematic'),\n",
      "  Variable([200, 280, 360, 450, 520, 630, 690, 750, 800, 1300, 13000], name='ptgen', label='p_{T,GEN} (GeV)'),\n",
      "  Variable([0, 1, 5, 10, 20, 40, 60, 80, 100, 150, 200, 250, 1000], name='mgen', label='m_{GEN} (GeV)'),\n",
      "  storage=Weight()) # Sum: WeightedSum(value=0, variance=0), 'jet_m_pt_u_reco_over_gen': Hist(\n",
      "  StrCategory([], growth=True, name='dataset', label='Dataset'),\n",
      "  StrCategory([], growth=True, name='syst', label='Systematic'),\n",
      "  Variable([200, 280, 360, 450, 520, 630, 690, 750, 800, 1300, 13000], name='ptgen', label='p_{T,GEN} (GeV)'),\n",
      "  Variable([0, 1, 5, 10, 20, 40, 60, 80, 100, 150, 200, 250, 1000], name='mgen', label='m_{GEN} (GeV)'),\n",
      "  Regular(10, 0, 1, name='frac', label='Fraction'),\n",
      "  storage=Weight()) # Sum: WeightedSum(value=0, variance=0), 'jet_m_pt_g_reco_over_gen': Hist(\n",
      "  StrCategory([], growth=True, name='dataset', label='Dataset'),\n",
      "  StrCategory([], growth=True, name='syst', label='Systematic'),\n",
      "  Variable([200, 280, 360, 450, 520, 630, 690, 750, 800, 1300, 13000], name='ptgen', label='p_{T,GEN} (GeV)'),\n",
      "  Variable([0, 1, 5, 10, 20, 40, 60, 80, 100, 150, 200, 250, 1000], name='mgen', label='m_{GEN} (GeV)'),\n",
      "  Regular(10, 0, 1, name='frac', label='Fraction'),\n",
      "  storage=Weight()) # Sum: WeightedSum(value=0, variance=0), 'response_matrix_u': Hist(\n",
      "  StrCategory([], growth=True, name='dataset', label='Dataset'),\n",
      "  StrCategory([], growth=True, name='syst', label='Systematic'),\n",
      "  Variable([200, 280, 360, 450, 520, 630, 690, 750, 800, 1300, 13000], name='ptreco', label='p_{T,RECO} (GeV)'),\n",
      "  Variable(array([0.00e+00, 5.00e-01, 1.00e+00, 3.00e+00, 5.00e+00, 7.50e+00,\n",
      "       1.00e+01, 1.50e+01, 2.00e+01, 3.00e+01, 4.00e+01, 5.00e+01,\n",
      "       6.00e+01, 7.00e+01, 8.00e+01, 9.00e+01, 1.00e+02, 1.25e+02,\n",
      "       1.50e+02, 1.75e+02, 2.00e+02, 2.25e+02, 2.50e+02, 6.25e+02,\n",
      "       1.00e+03]), name='mreco', label='m_{RECO} (GeV)'),\n",
      "  Variable([200, 280, 360, 450, 520, 630, 690, 750, 800, 1300, 13000], name='ptgen', label='p_{T,GEN} (GeV)'),\n",
      "  Variable([0, 1, 5, 10, 20, 40, 60, 80, 100, 150, 200, 250, 1000], name='mgen', label='m_{GEN} (GeV)'),\n",
      "  storage=Weight()) # Sum: WeightedSum(value=0, variance=0), 'response_matrix_g': Hist(\n",
      "  StrCategory([], growth=True, name='dataset', label='Dataset'),\n",
      "  StrCategory([], growth=True, name='syst', label='Systematic'),\n",
      "  Variable([200, 280, 360, 450, 520, 630, 690, 750, 800, 1300, 13000], name='ptreco', label='p_{T,RECO} (GeV)'),\n",
      "  Variable(array([0.00e+00, 5.00e-01, 1.00e+00, 3.00e+00, 5.00e+00, 7.50e+00,\n",
      "       1.00e+01, 1.50e+01, 2.00e+01, 3.00e+01, 4.00e+01, 5.00e+01,\n",
      "       6.00e+01, 7.00e+01, 8.00e+01, 9.00e+01, 1.00e+02, 1.25e+02,\n",
      "       1.50e+02, 1.75e+02, 2.00e+02, 2.25e+02, 2.50e+02, 6.25e+02,\n",
      "       1.00e+03]), name='mreco', label='m_{RECO} (GeV)'),\n",
      "  Variable([200, 280, 360, 450, 520, 630, 690, 750, 800, 1300, 13000], name='ptgen', label='p_{T,GEN} (GeV)'),\n",
      "  Variable([0, 1, 5, 10, 20, 40, 60, 80, 100, 150, 200, 250, 1000], name='mgen', label='m_{GEN} (GeV)'),\n",
      "  storage=Weight()) # Sum: WeightedSum(value=0, variance=0), 'cutflow': defaultdict_accumulator(<class 'int'>, {'chunks': 2498})}\n",
      "Time taken to run over samples  4822.167133808136\n"
     ]
    }
   ],
   "source": [
    "result = runCoffeaJob(processor, jsonFile = filename, casa = casa, winterfell = winterfell, year = year,\n",
    "                      testing = testing, dask = dask, data = not processor.do_gen)\n",
    "with open(fname, \"wb\") as f:\n",
    "    pickle.dump( result, f)"
   ]
  },
  {
   "cell_type": "code",
   "execution_count": 4,
   "id": "91cdf3f2",
   "metadata": {
    "tags": []
   },
   "outputs": [],
   "source": [
    "# fname = 'coffeaOutput/dijetHistsTest_QCDsim_30.0_2.5.pkl'\n",
    "with open(fname, \"rb\") as f:\n",
    "    result = pickle.load( f )\n",
    "# result=result[0]\n",
    "import matplotlib.pyplot as plt\n",
    "import mplhep as hep\n",
    "plt.style.use(hep.style.CMS)\n",
    "%matplotlib inline\n",
    "\n",
    "plt.rcParams[\"figure.figsize\"] = (10,10)"
   ]
  },
  {
   "cell_type": "code",
   "execution_count": 5,
   "id": "0b80797b",
   "metadata": {
    "tags": []
   },
   "outputs": [
    {
     "ename": "KeyError",
     "evalue": "\"'nominal' not in axis\"",
     "output_type": "error",
     "traceback": [
      "\u001b[0;31m---------------------------------------------------------------------------\u001b[0m",
      "\u001b[0;31mKeyError\u001b[0m                                  Traceback (most recent call last)",
      "Cell \u001b[0;32mIn[5], line 4\u001b[0m\n\u001b[1;32m      1\u001b[0m fig, axs \u001b[38;5;241m=\u001b[39m plt\u001b[38;5;241m.\u001b[39msubplots(\u001b[38;5;241m2\u001b[39m, \u001b[38;5;241m2\u001b[39m)\n\u001b[1;32m      2\u001b[0m fig\u001b[38;5;241m.\u001b[39msuptitle(\u001b[38;5;124m'\u001b[39m\u001b[38;5;124mUngroomed MC jets\u001b[39m\u001b[38;5;124m'\u001b[39m)\n\u001b[0;32m----> 4\u001b[0m \u001b[43mresult\u001b[49m\u001b[43m[\u001b[49m\u001b[38;5;124;43m'\u001b[39;49m\u001b[38;5;124;43mresponse_matrix_u\u001b[39;49m\u001b[38;5;124;43m'\u001b[39;49m\u001b[43m]\u001b[49m\u001b[43m[\u001b[49m\u001b[43m{\u001b[49m\u001b[38;5;124;43m'\u001b[39;49m\u001b[38;5;124;43mdataset\u001b[39;49m\u001b[38;5;124;43m'\u001b[39;49m\u001b[43m:\u001b[49m\u001b[38;5;28;43msum\u001b[39;49m\u001b[43m,\u001b[49m\u001b[43m \u001b[49m\u001b[38;5;124;43m'\u001b[39;49m\u001b[38;5;124;43msyst\u001b[39;49m\u001b[38;5;124;43m'\u001b[39;49m\u001b[43m:\u001b[49m\u001b[38;5;124;43m\"\u001b[39;49m\u001b[38;5;124;43mnominal\u001b[39;49m\u001b[38;5;124;43m\"\u001b[39;49m\u001b[43m}\u001b[49m\u001b[43m]\u001b[49m\u001b[38;5;241m.\u001b[39mproject(\u001b[38;5;124m'\u001b[39m\u001b[38;5;124mptreco\u001b[39m\u001b[38;5;124m'\u001b[39m)\u001b[38;5;241m.\u001b[39mplot1d(ax\u001b[38;5;241m=\u001b[39maxs[\u001b[38;5;241m0\u001b[39m,\u001b[38;5;241m0\u001b[39m], binwnorm\u001b[38;5;241m=\u001b[39m\u001b[38;5;28;01mTrue\u001b[39;00m)\n\u001b[1;32m      5\u001b[0m result[\u001b[38;5;124m'\u001b[39m\u001b[38;5;124mresponse_matrix_u\u001b[39m\u001b[38;5;124m'\u001b[39m][{\u001b[38;5;124m'\u001b[39m\u001b[38;5;124mdataset\u001b[39m\u001b[38;5;124m'\u001b[39m:\u001b[38;5;28msum\u001b[39m, \u001b[38;5;124m'\u001b[39m\u001b[38;5;124msyst\u001b[39m\u001b[38;5;124m'\u001b[39m:\u001b[38;5;124m\"\u001b[39m\u001b[38;5;124mjesUp\u001b[39m\u001b[38;5;124m\"\u001b[39m}]\u001b[38;5;241m.\u001b[39mproject(\u001b[38;5;124m'\u001b[39m\u001b[38;5;124mptreco\u001b[39m\u001b[38;5;124m'\u001b[39m)\u001b[38;5;241m.\u001b[39mplot1d(ax\u001b[38;5;241m=\u001b[39maxs[\u001b[38;5;241m0\u001b[39m,\u001b[38;5;241m0\u001b[39m], binwnorm\u001b[38;5;241m=\u001b[39m\u001b[38;5;28;01mTrue\u001b[39;00m)\n\u001b[1;32m      6\u001b[0m result[\u001b[38;5;124m'\u001b[39m\u001b[38;5;124mresponse_matrix_u\u001b[39m\u001b[38;5;124m'\u001b[39m][{\u001b[38;5;124m'\u001b[39m\u001b[38;5;124mdataset\u001b[39m\u001b[38;5;124m'\u001b[39m:\u001b[38;5;28msum\u001b[39m}]\u001b[38;5;241m.\u001b[39mproject(\u001b[38;5;124m'\u001b[39m\u001b[38;5;124mptgen\u001b[39m\u001b[38;5;124m'\u001b[39m)\u001b[38;5;241m.\u001b[39mplot1d(ax\u001b[38;5;241m=\u001b[39maxs[\u001b[38;5;241m0\u001b[39m,\u001b[38;5;241m1\u001b[39m])\n",
      "File \u001b[0;32m/opt/conda/lib/python3.10/site-packages/hist/basehist.py:400\u001b[0m, in \u001b[0;36mBaseHist.__getitem__\u001b[0;34m(self, index)\u001b[0m\n\u001b[1;32m    393\u001b[0m \u001b[38;5;28;01mdef\u001b[39;00m \u001b[38;5;21m__getitem__\u001b[39m(  \u001b[38;5;66;03m# type: ignore[override]\u001b[39;00m\n\u001b[1;32m    394\u001b[0m     \u001b[38;5;28mself\u001b[39m, index: IndexingExpr\n\u001b[1;32m    395\u001b[0m ) \u001b[38;5;241m-\u001b[39m\u001b[38;5;241m>\u001b[39m Self \u001b[38;5;241m|\u001b[39m \u001b[38;5;28mfloat\u001b[39m \u001b[38;5;241m|\u001b[39m bh\u001b[38;5;241m.\u001b[39maccumulators\u001b[38;5;241m.\u001b[39mAccumulator:\n\u001b[1;32m    396\u001b[0m \u001b[38;5;250m    \u001b[39m\u001b[38;5;124;03m\"\"\"\u001b[39;00m\n\u001b[1;32m    397\u001b[0m \u001b[38;5;124;03m    Get histogram item.\u001b[39;00m\n\u001b[1;32m    398\u001b[0m \u001b[38;5;124;03m    \"\"\"\u001b[39;00m\n\u001b[0;32m--> 400\u001b[0m     \u001b[38;5;28;01mreturn\u001b[39;00m \u001b[38;5;28;43msuper\u001b[39;49m\u001b[43m(\u001b[49m\u001b[43m)\u001b[49m\u001b[38;5;241;43m.\u001b[39;49m\u001b[38;5;21;43m__getitem__\u001b[39;49m\u001b[43m(\u001b[49m\u001b[38;5;28;43mself\u001b[39;49m\u001b[38;5;241;43m.\u001b[39;49m\u001b[43m_index_transform\u001b[49m\u001b[43m(\u001b[49m\u001b[43mindex\u001b[49m\u001b[43m)\u001b[49m\u001b[43m)\u001b[49m\n",
      "File \u001b[0;32m/opt/conda/lib/python3.10/site-packages/boost_histogram/_internal/hist.py:812\u001b[0m, in \u001b[0;36mHistogram.__getitem__\u001b[0;34m(self, index)\u001b[0m\n\u001b[1;32m    811\u001b[0m \u001b[38;5;28;01mdef\u001b[39;00m \u001b[38;5;21m__getitem__\u001b[39m(\u001b[38;5;28mself\u001b[39m: H, index: IndexingExpr) \u001b[38;5;241m-\u001b[39m\u001b[38;5;241m>\u001b[39m H \u001b[38;5;241m|\u001b[39m \u001b[38;5;28mfloat\u001b[39m \u001b[38;5;241m|\u001b[39m Accumulator:\n\u001b[0;32m--> 812\u001b[0m     indexes \u001b[38;5;241m=\u001b[39m \u001b[38;5;28;43mself\u001b[39;49m\u001b[38;5;241;43m.\u001b[39;49m\u001b[43m_compute_commonindex\u001b[49m\u001b[43m(\u001b[49m\u001b[43mindex\u001b[49m\u001b[43m)\u001b[49m\n\u001b[1;32m    814\u001b[0m     \u001b[38;5;66;03m# If this is (now) all integers, return the bin contents\u001b[39;00m\n\u001b[1;32m    815\u001b[0m     \u001b[38;5;66;03m# But don't try *dict!\u001b[39;00m\n\u001b[1;32m    816\u001b[0m     \u001b[38;5;28;01mif\u001b[39;00m \u001b[38;5;129;01mnot\u001b[39;00m \u001b[38;5;28mhasattr\u001b[39m(indexes, \u001b[38;5;124m\"\u001b[39m\u001b[38;5;124mitems\u001b[39m\u001b[38;5;124m\"\u001b[39m) \u001b[38;5;129;01mand\u001b[39;00m \u001b[38;5;28mall\u001b[39m(\n\u001b[1;32m    817\u001b[0m         \u001b[38;5;28misinstance\u001b[39m(a, SupportsIndex) \u001b[38;5;28;01mfor\u001b[39;00m a \u001b[38;5;129;01min\u001b[39;00m indexes\n\u001b[1;32m    818\u001b[0m     ):\n",
      "File \u001b[0;32m/opt/conda/lib/python3.10/site-packages/boost_histogram/_internal/hist.py:726\u001b[0m, in \u001b[0;36mHistogram._compute_commonindex\u001b[0;34m(self, index)\u001b[0m\n\u001b[1;32m    724\u001b[0m         indexes[i] \u001b[38;5;241m=\u001b[39m [\u001b[38;5;28mself\u001b[39m\u001b[38;5;241m.\u001b[39m_compute_uhi_index(ind, i) \u001b[38;5;28;01mfor\u001b[39;00m ind \u001b[38;5;129;01min\u001b[39;00m indexes[i]]\n\u001b[1;32m    725\u001b[0m     \u001b[38;5;28;01melse\u001b[39;00m:\n\u001b[0;32m--> 726\u001b[0m         indexes[i] \u001b[38;5;241m=\u001b[39m \u001b[38;5;28;43mself\u001b[39;49m\u001b[38;5;241;43m.\u001b[39;49m\u001b[43m_compute_uhi_index\u001b[49m\u001b[43m(\u001b[49m\u001b[43mindexes\u001b[49m\u001b[43m[\u001b[49m\u001b[43mi\u001b[49m\u001b[43m]\u001b[49m\u001b[43m,\u001b[49m\u001b[43m \u001b[49m\u001b[43mi\u001b[49m\u001b[43m)\u001b[49m\n\u001b[1;32m    728\u001b[0m \u001b[38;5;28;01mreturn\u001b[39;00m indexes\n",
      "File \u001b[0;32m/opt/conda/lib/python3.10/site-packages/boost_histogram/_internal/hist.py:678\u001b[0m, in \u001b[0;36mHistogram._compute_uhi_index\u001b[0;34m(self, index, axis)\u001b[0m\n\u001b[1;32m    674\u001b[0m \u001b[38;5;66;03m# General locators\u001b[39;00m\n\u001b[1;32m    675\u001b[0m \u001b[38;5;66;03m# Note that MyPy doesn't like these very much - the fix\u001b[39;00m\n\u001b[1;32m    676\u001b[0m \u001b[38;5;66;03m# will be to properly set input types\u001b[39;00m\n\u001b[1;32m    677\u001b[0m \u001b[38;5;28;01mif\u001b[39;00m \u001b[38;5;28mcallable\u001b[39m(index):\n\u001b[0;32m--> 678\u001b[0m     \u001b[38;5;28;01mreturn\u001b[39;00m \u001b[43mindex\u001b[49m\u001b[43m(\u001b[49m\u001b[38;5;28;43mself\u001b[39;49m\u001b[38;5;241;43m.\u001b[39;49m\u001b[43maxes\u001b[49m\u001b[43m[\u001b[49m\u001b[43maxis\u001b[49m\u001b[43m]\u001b[49m\u001b[43m)\u001b[49m\n\u001b[1;32m    680\u001b[0m \u001b[38;5;28;01mif\u001b[39;00m \u001b[38;5;28misinstance\u001b[39m(index, \u001b[38;5;28mfloat\u001b[39m):\n\u001b[1;32m    681\u001b[0m     \u001b[38;5;28;01mraise\u001b[39;00m \u001b[38;5;167;01mTypeError\u001b[39;00m(\u001b[38;5;124mf\u001b[39m\u001b[38;5;124m\"\u001b[39m\u001b[38;5;124mIndex \u001b[39m\u001b[38;5;132;01m{\u001b[39;00mindex\u001b[38;5;132;01m}\u001b[39;00m\u001b[38;5;124m must be an integer, not float\u001b[39m\u001b[38;5;124m\"\u001b[39m)\n",
      "File \u001b[0;32m/opt/conda/lib/python3.10/site-packages/boost_histogram/tag.py:75\u001b[0m, in \u001b[0;36mloc.__call__\u001b[0;34m(self, axis)\u001b[0m\n\u001b[1;32m     74\u001b[0m \u001b[38;5;28;01mdef\u001b[39;00m \u001b[38;5;21m__call__\u001b[39m(\u001b[38;5;28mself\u001b[39m, axis: AxisLike) \u001b[38;5;241m-\u001b[39m\u001b[38;5;241m>\u001b[39m \u001b[38;5;28mint\u001b[39m:\n\u001b[0;32m---> 75\u001b[0m     \u001b[38;5;28;01mreturn\u001b[39;00m \u001b[43maxis\u001b[49m\u001b[38;5;241;43m.\u001b[39;49m\u001b[43mindex\u001b[49m\u001b[43m(\u001b[49m\u001b[38;5;28;43mself\u001b[39;49m\u001b[38;5;241;43m.\u001b[39;49m\u001b[43mvalue\u001b[49m\u001b[43m)\u001b[49m \u001b[38;5;241m+\u001b[39m \u001b[38;5;28mself\u001b[39m\u001b[38;5;241m.\u001b[39moffset\n",
      "File \u001b[0;32m/opt/conda/lib/python3.10/site-packages/boost_histogram/_internal/axis.py:652\u001b[0m, in \u001b[0;36mStrCategory.index\u001b[0;34m(self, value)\u001b[0m\n\u001b[1;32m    647\u001b[0m \u001b[38;5;250m\u001b[39m\u001b[38;5;124;03m\"\"\"\u001b[39;00m\n\u001b[1;32m    648\u001b[0m \u001b[38;5;124;03mReturn the fractional index(es) given a value (or values) on the axis.\u001b[39;00m\n\u001b[1;32m    649\u001b[0m \u001b[38;5;124;03m\"\"\"\u001b[39;00m\n\u001b[1;32m    651\u001b[0m \u001b[38;5;28;01mif\u001b[39;00m _isstr(value):\n\u001b[0;32m--> 652\u001b[0m     \u001b[38;5;28;01mreturn\u001b[39;00m \u001b[38;5;28;43mself\u001b[39;49m\u001b[38;5;241;43m.\u001b[39;49m\u001b[43m_ax\u001b[49m\u001b[38;5;241;43m.\u001b[39;49m\u001b[43mindex\u001b[49m\u001b[43m(\u001b[49m\u001b[43mvalue\u001b[49m\u001b[43m)\u001b[49m  \u001b[38;5;66;03m# type: ignore[no-any-return]\u001b[39;00m\n\u001b[1;32m    654\u001b[0m msg \u001b[38;5;241m=\u001b[39m \u001b[38;5;124mf\u001b[39m\u001b[38;5;124m\"\u001b[39m\u001b[38;5;124mindex(\u001b[39m\u001b[38;5;132;01m{\u001b[39;00mvalue\u001b[38;5;132;01m}\u001b[39;00m\u001b[38;5;124m) must be a string or iterable of strings for a StrCategory axis\u001b[39m\u001b[38;5;124m\"\u001b[39m\n\u001b[1;32m    655\u001b[0m \u001b[38;5;28;01mraise\u001b[39;00m \u001b[38;5;167;01mTypeError\u001b[39;00m(msg)\n",
      "\u001b[0;31mKeyError\u001b[0m: \"'nominal' not in axis\""
     ]
    },
    {
     "data": {
      "image/png": "[encoded data removed]",
      "text/plain": [
       "<Figure size 1000x1000 with 4 Axes>"
      ]
     },
     "metadata": {},
     "output_type": "display_data"
    }
   ],
   "source": [
    "fig, axs = plt.subplots(2, 2)\n",
    "fig.suptitle('Ungroomed MC jets')\n",
    "\n",
    "result['response_matrix_u'][{'dataset':sum, 'syst':\"nominal\"}].project('ptreco').plot1d(ax=axs[0,0], binwnorm=True)\n",
    "result['response_matrix_u'][{'dataset':sum, 'syst':\"jesUp\"}].project('ptreco').plot1d(ax=axs[0,0], binwnorm=True)\n",
    "result['response_matrix_u'][{'dataset':sum}].project('ptgen').plot1d(ax=axs[0,1])\n",
    "result['response_matrix_u'][{'dataset':sum}].project('mgen').plot1d(ax=axs[1,0], binwnorm=True)\n",
    "result['response_matrix_u'][{'dataset':sum}].project('mreco').plot1d(ax=axs[1,1])"
   ]
  },
  {
   "cell_type": "code",
   "execution_count": null,
   "id": "09a9a545-9648-4ae8-b43a-f9f05e7c5272",
   "metadata": {
    "tags": []
   },
   "outputs": [],
   "source": [
    "s = result['response_matrix_u'][{'dataset':sum}].stack(\"syst\")\n",
    "s.project('ptreco').plot(binwnorm=True)\n",
    "plt.legend()\n",
    "plt.show()"
   ]
  },
  {
   "cell_type": "code",
   "execution_count": null,
   "id": "26e46d9c-ad42-4f34-941b-95aa31b9197b",
   "metadata": {
    "tags": []
   },
   "outputs": [],
   "source": [
    "# fname = 'coffeaOutput/dijetHistsTest_JetHT_30.0_2.5.pkl'\n",
    "with open(fname, \"rb\") as f:\n",
    "    result = pickle.load( f )\n",
    "# result=result[0]\n",
    "import matplotlib.pyplot as plt\n",
    "%matplotlib inline\n",
    "#import mplhep as hep\n",
    "plt.rcParams[\"figure.figsize\"] = (10,10)"
   ]
  },
  {
   "cell_type": "code",
   "execution_count": null,
   "id": "b50f770f-e4a6-489e-81c9-7104f2a64a46",
   "metadata": {
    "tags": []
   },
   "outputs": [],
   "source": [
    "fig, axs = plt.subplots(2, 2)\n",
    "fig.suptitle('Ungroomed Data jets')\n",
    "result['jet_pt_mass_reco_u'][{'dataset':sum}].project('ptreco').plot1d(ax=axs[0,0], binwnorm=True)\n",
    "result['jet_pt_mass_reco_u'][{'dataset':sum}].project('mreco').plot1d(ax=axs[0,1])\n",
    "result['jet_pt_mass_reco_g'][{'dataset':sum}].project('ptreco').plot1d(ax=axs[1,0], binwnorm=True)\n",
    "result['jet_pt_mass_reco_g'][{'dataset':sum}].project('mreco').plot1d(ax=axs[1,1])"
   ]
  },
  {
   "cell_type": "code",
   "execution_count": null,
   "id": "2d701e4d-4861-4824-8cc8-756916354481",
   "metadata": {
    "tags": []
   },
   "outputs": [],
   "source": [
    "numerator = result['jet_pt'][{'partonFlav':'Gluon'}].project('ptreco')\n",
    "denominator = result['jet_pt'].project('ptreco')\n",
    "print(numerator.values(), denominator.values())\n",
    "\n",
    "numerator.label = r'$\\epsilon$'\n",
    "fig = plt.gcf()\n",
    "grid = fig.add_gridspec(2, 1, hspace=0, height_ratios=[3, 1])\n",
    "\n",
    "main_ax = fig.add_subplot(grid[0])\n",
    "subplot_ax = fig.add_subplot(grid[1], sharex=main_ax)\n",
    "plt.setp(main_ax.get_xticklabels(), visible=False)\n",
    "main_ax, sublot_ax = numerator.plot_ratio(\n",
    "    denominator,\n",
    "    rp_num_label=\"gluons\",\n",
    "    rp_denom_label=\"all\",\n",
    "    rp_uncert_draw_type=\"line\",\n",
    "    rp_uncertainty_type=\"efficiency\",\n",
    "    ax_dict = {\"main_ax\":main_ax,\"ratio_ax\":subplot_ax}\n",
    ")\n",
    "\n",
    "plt.xlabel(\"Pt (GeV)\")\n",
    "plt.ylabel(\"Gluon fraction\")\n",
    "fig.suptitle('Gluon content as a function of pT')"
   ]
  },
  {
   "cell_type": "code",
   "execution_count": null,
   "id": "aacad3c5",
   "metadata": {},
   "outputs": [],
   "source": [
    "numerator = result['jet_eta'][{'partonFlav':'Gluon'}].project('eta')\n",
    "denominator = result['jet_eta'].project('eta')\n",
    "print(numerator.values(), denominator.values())\n",
    "numerator.label = r'$\\epsilon$'\n",
    "numerator.label = r'$\\epsilon$'\n",
    "fig = plt.gcf()\n",
    "grid = fig.add_gridspec(2, 1, hspace=0, height_ratios=[3, 1])\n",
    "\n",
    "main_axis = fig.add_subplot(grid[0])\n",
    "ratio_ax = fig.add_subplot(grid[1], sharex=main_axis)\n",
    "plt.setp(main_axis.get_xticklabels(), visible=False)\n",
    "main_ax, sublot_ax = numerator.plot_ratio(\n",
    "    denominator,\n",
    "    rp_num_label=\"gluons\",\n",
    "    rp_denom_label=\"all\",\n",
    "    rp_uncert_draw_type=\"line\",\n",
    "    rp_uncertainty_type=\"efficiency\",\n",
    "    ax_dict = {\"main_ax\":main_axis,\"ratio_ax\":ratio_ax}\n",
    ")\n",
    "\n",
    "plt.xlabel(r'$\\eta$')\n",
    "plt.ylabel(\"Gluon fraction\")\n",
    "main_axis.set_title('Gluon content as a function of eta')\n"
   ]
  },
  {
   "cell_type": "code",
   "execution_count": null,
   "id": "374e1fa7",
   "metadata": {},
   "outputs": [],
   "source": [
    "#sum entries in bins --> plot as y-axis\n",
    "plt.rcParams[\"figure.figsize\"] = (20,5)\n",
    "\n",
    "\n",
    "fig, axs = plt.subplots(1, 3)\n",
    "result['jet_mass'][{'jetNumb':sum, 'dataset':sum}].plot1d(ax = axs[0], overlay='partonFlav')\n",
    "plt.rc('legend',fontsize='small')\n",
    "plt.xlabel(\"Jet mass (GeV)\")\n",
    "result['jet_pt'][{'jetNumb':sum, 'dataset':sum}].plot1d(ax = axs[1], overlay='partonFlav')\n",
    "plt.rc('legend',fontsize='small')\n",
    "#axs[0].set_xlabel(\"Jet mass (GeV)\")\n",
    "plt.xlabel(\"Jet pT (GeV)\")\n",
    "result['jet_eta'][{'jetNumb':sum, 'dataset':sum}].plot1d(ax = axs[2], overlay='partonFlav')\n",
    "plt.rc('legend',fontsize='small')\n",
    "plt.legend()\n",
    "plt.xlabel(\"Jet eta (GeV)\")\n",
    "\n",
    "fig.suptitle('Dijet eta <2.5, pt> 200.', fontsize=\"large\")"
   ]
  },
  {
   "cell_type": "code",
   "execution_count": null,
   "id": "6238fc43",
   "metadata": {},
   "outputs": [],
   "source": [
    "plt.rcParams[\"figure.figsize\"] = (20,10)\n",
    "fig, axs = plt.subplots(2, 3)\n",
    "print(result['jet_mass'])\n",
    "result['jet_mass'][{'jetNumb':'jet1', 'dataset':sum}].plot1d(ax = axs[0,0], overlay='partonFlav')\n",
    "plt.rc('legend',fontsize='small')\n",
    "plt.xlabel(\"Jet mass (GeV)\")\n",
    "result['jet_pt'][{'jetNumb':'jet1', 'dataset':sum}].plot1d(ax = axs[0,1], overlay='partonFlav')\n",
    "plt.rc('legend',fontsize='small')\n",
    "#axs[0].set_xlabel(\"Jet mass (GeV)\")\n",
    "plt.xlabel(\"Jet pT (GeV)\")\n",
    "result['jet_eta'][{'jetNumb':'jet1', 'dataset':sum}].plot1d(ax = axs[0,2], overlay='partonFlav')\n",
    "plt.rc('legend',fontsize='small')\n",
    "plt.legend()\n",
    "plt.xlabel(\"Jet eta (GeV)\")\n",
    "result['jet_mass'][{'jetNumb':'jet2', 'dataset':sum}].plot1d(ax = axs[1,0], overlay='partonFlav')\n",
    "plt.rc('legend',fontsize='small')\n",
    "plt.xlabel(\"Jet mass (GeV)\")\n",
    "result['jet_pt'][{'jetNumb':'jet2', 'dataset':sum}].plot1d(ax = axs[1,1], overlay='partonFlav')\n",
    "plt.rc('legend',fontsize='small')\n",
    "#axs[0].set_xlabel(\"Jet mass (GeV)\")\n",
    "plt.xlabel(\"Jet pT (GeV)\")\n",
    "result['jet_eta'][{'jetNumb':'jet2', 'dataset':sum}].plot1d(ax = axs[1,2], overlay='partonFlav')\n",
    "plt.rc('legend',fontsize='small')\n",
    "plt.legend()\n",
    "plt.xlabel(\"Jet eta (GeV)\")\n",
    "fig.suptitle('Dijet eta <2.5, pt> 200.', fontsize=\"large\")"
   ]
  },
  {
   "cell_type": "code",
   "execution_count": null,
   "id": "f2fd10c5",
   "metadata": {},
   "outputs": [],
   "source": [
    "njets=result['cutflow']['nJets']\n",
    "ngluonjets=result['cutflow']['nGluonJets']\n",
    "print(result['cutflow'])\n",
    "print(\"Gluon purity:\", ngluonjets/njets)"
   ]
  },
  {
   "cell_type": "code",
   "execution_count": null,
   "id": "d84a6515",
   "metadata": {},
   "outputs": [],
   "source": [
    "response_matrix_u_values = result['response_matrix_u'].project(\"ptreco\", \"mreco\", \"ptgen\", \"mgen\").values()\n",
    "response_matrix_u_up = result['response_matrix_u'][{'syst':'jesUp'}].project(\"ptreco\", \"mreco\", \"ptgen\", \"mgen\").values().reshape( (nptreco)*(nmassreco), (nptgen)*(nmassgen) )\n",
    "response_matrix_u_down = result['response_matrix_u'][{'syst':'jesDown'}].project(\"ptreco\", \"mreco\", \"ptgen\", \"mgen\").values().reshape( (nptreco)*(nmassreco), (nptgen)*(nmassgen) )\n",
    "response_matrix_u_nom = result['response_matrix_u'][{'syst':'nominal'}].project(\"ptreco\", \"mreco\", \"ptgen\", \"mgen\").values().reshape( (nptreco)*(nmassreco), (nptgen)*(nmassgen) )\n",
    "response_matrix_g_values = result['response_matrix_g'].project(\"ptreco\", \"mreco\", \"ptgen\", \"mgen\").values()"
   ]
  },
  {
   "cell_type": "code",
   "execution_count": null,
   "id": "5f0b008d",
   "metadata": {},
   "outputs": [],
   "source": [
    "nptreco,nmassreco,nptgen,nmassgen = response_matrix_u_values.shape"
   ]
  },
  {
   "cell_type": "code",
   "execution_count": null,
   "id": "b0f4aaa0",
   "metadata": {},
   "outputs": [],
   "source": [
    "response_matrix_u_final = response_matrix_u_values.reshape( (nptreco)*(nmassreco), (nptgen)*(nmassgen) )\n",
    "print(ak.max(response_matrix_u_final))"
   ]
  },
  {
   "cell_type": "code",
   "execution_count": null,
   "id": "f89f6894",
   "metadata": {},
   "outputs": [],
   "source": [
    "response_matrix_g_final = response_matrix_g_values.reshape( (nptreco)*(nmassreco), (nptgen)*(nmassgen) )"
   ]
  },
  {
   "cell_type": "code",
   "execution_count": null,
   "id": "94a15a8b",
   "metadata": {},
   "outputs": [],
   "source": [
    "plt.rcParams[\"figure.figsize\"] = (20,20)\n",
    "fig, axs = plt.subplots(2, 2)\n",
    "axs[0,0].imshow( np.log(response_matrix_u_final+1), aspect=\"auto\", cmap=\"Blues\", interpolation='nearest' )\n",
    "axs[1,0].imshow( (np.log(response_matrix_u_up+1)-np.log(response_matrix_u_final+1)+1), aspect=\"auto\", cmap=\"Blues\", interpolation='nearest' )\n",
    "axs[0,1].imshow( np.log(response_matrix_u_down+1), aspect=\"auto\", cmap=\"Blues\", interpolation='nearest' )\n",
    "axs[1,1].imshow( np.log(response_matrix_u_nom+1), aspect=\"auto\", cmap=\"Blues\", interpolation='nearest' )\n",
    "plt.xlabel(\"RECO\", fontsize=20)\n",
    "plt.ylabel(\"GEN\", fontsize=20)\n",
    "plt.tick_params(labelsize=20)"
   ]
  },
  {
   "cell_type": "code",
   "execution_count": null,
   "id": "428de191",
   "metadata": {},
   "outputs": [],
   "source": [
    "plt.figure(figsize = (40,80))\n",
    "plt.imshow( np.log(response_matrix_g_final+1), aspect=\"equal\", cmap=\"Blues\" )\n",
    "plt.xlabel(\"RECO\", fontsize=50)\n",
    "plt.ylabel(\"GEN\", fontsize=50)\n",
    "plt.tick_params(labelsize=40)"
   ]
  },
  {
   "cell_type": "code",
   "execution_count": null,
   "id": "355566c2",
   "metadata": {},
   "outputs": [],
   "source": [
    "plt.figure(figsize = (40,80))\n",
    "plt.imshow( response_matrix_u_final, aspect=\"equal\", cmap=\"Blues\" )\n",
    "plt.xlabel(\"RECO\", fontsize=50)\n",
    "plt.ylabel(\"GEN\", fontsize=50)\n",
    "plt.tick_params(labelsize=40)"
   ]
  },
  {
   "cell_type": "code",
   "execution_count": null,
   "id": "6811b02d",
   "metadata": {},
   "outputs": [],
   "source": []
  },
  {
   "cell_type": "code",
   "execution_count": null,
   "id": "e8ef29b2",
   "metadata": {},
   "outputs": [],
   "source": []
  },
  {
   "cell_type": "code",
   "execution_count": null,
   "id": "761a514a",
   "metadata": {},
   "outputs": [],
   "source": []
  },
  {
   "cell_type": "markdown",
   "id": "531630b8",
   "metadata": {},
   "source": [
    "## "
   ]
  },
  {
   "cell_type": "markdown",
   "id": "433390d8-186b-4942-b361-a767990c4263",
   "metadata": {},
   "source": [
    "## "
   ]
  },
  {
   "cell_type": "markdown",
   "id": "483258ec-545e-4dee-afbc-08a4c5d4a420",
   "metadata": {},
   "source": [
    "## "
   ]
  },
  {
   "cell_type": "markdown",
   "id": "dba836b4-023d-4c40-86ca-e54a4cd6a945",
   "metadata": {},
   "source": [
    "## "
   ]
  },
  {
   "cell_type": "markdown",
   "id": "52961724-6d03-4915-ab12-975cb2b47019",
   "metadata": {},
   "source": [
    "## "
   ]
  },
  {
   "cell_type": "markdown",
   "id": "5a4bc196-2317-47d4-8612-3d50f6a121e8",
   "metadata": {},
   "source": [
    "## "
   ]
  },
  {
   "cell_type": "markdown",
   "id": "c94b820a-ef37-4a0e-9833-bc3f15cc686b",
   "metadata": {},
   "source": [
    "## "
   ]
  },
  {
   "cell_type": "markdown",
   "id": "e975d205-3531-4986-8afb-d266dbb81d31",
   "metadata": {},
   "source": [
    "## "
   ]
  },
  {
   "cell_type": "markdown",
   "id": "a82149d7-c564-46b4-b12c-c2533f0a33c4",
   "metadata": {},
   "source": [
    "## "
   ]
  },
  {
   "cell_type": "markdown",
   "id": "9d51eb12-f861-44e0-a5ad-cdc8fdbe4f1d",
   "metadata": {},
   "source": [
    "## "
   ]
  },
  {
   "cell_type": "markdown",
   "id": "837b7c7d-51f5-45a9-a1f3-882ffbbf6968",
   "metadata": {},
   "source": [
    "## "
   ]
  },
  {
   "cell_type": "markdown",
   "id": "52597e77-e28b-4663-be83-cf9c53475b21",
   "metadata": {},
   "source": [
    "## "
   ]
  },
  {
   "cell_type": "code",
   "execution_count": null,
   "id": "6a77d44b-e061-42e9-89b7-52c86aadc1d0",
   "metadata": {},
   "outputs": [],
   "source": []
  }
 ],
 "metadata": {
  "kernelspec": {
   "display_name": "Python 3 (ipykernel)",
   "language": "python",
   "name": "python3"
  },
  "language_info": {
   "codemirror_mode": {
    "name": "ipython",
    "version": 3
   },
   "file_extension": ".py",
   "mimetype": "text/x-python",
   "name": "python",
   "nbconvert_exporter": "python",
   "pygments_lexer": "ipython3",
   "version": "3.10.8"
  }
 },
 "nbformat": 4,
 "nbformat_minor": 5
}

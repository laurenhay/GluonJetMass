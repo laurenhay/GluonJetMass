{
 "cells": [
  {
   "cell_type": "code",
   "execution_count": 1,
   "id": "c1d30278",
   "metadata": {},
   "outputs": [
    {
     "name": "stdout",
     "output_type": "stream",
     "text": [
      "0.7.22\n",
      "[True, True, True, True, True, True, True, ... True, True, True, True, True, True]\n",
      "rho max  -0.60115695  rho min  -4.698739\n",
      "rho gen max  -0.58963746  rho gen min  -4.666317\n",
      "[[0.0648, 0.184], [0.128, 0.0753], [0.108, ... [0.222, 0.395], [0.0704, 0.268]]\n"
     ]
    }
   ],
   "source": [
    "import awkward as ak\n",
    "import numpy as np\n",
    "import coffea\n",
    "import os\n",
    "from python.plugins import *\n",
    "\n",
    "print(coffea.__version__)\n",
    "from coffea.nanoevents import NanoEventsFactory, NanoAODSchema\n",
    "\n",
    "import hist\n",
    "\n",
    "# testFiles = [\n",
    "# \"root://cmsxrootd.fnal.gov//store/mc/RunIISummer20UL17NanoAODv9/QCD_Pt_170to300_TuneCP5_13TeV_pythia8/NANOAODSIM/106X_mc2017_realistic_v9-v1/120000/0CDD30E0-B953-E54B-BB7A-BFB45BE6EC93.root\",\n",
    "# \"root://cmsxrootd.fnal.gov//store/mc/RunIISummer20UL17NanoAODv9/QCD_Pt_300to470_TuneCP5_13TeV_pythia8/NANOAODSIM/106X_mc2017_realistic_v9-v1/120000/3788BBD3-3B70-BE48-B01A-4FA395E1E0B6.root\",\n",
    "# \"root://cmsxrootd.fnal.gov//store/mc/RunIISummer20UL17NanoAODv9/QCD_Pt_470to600_TuneCP5_13TeV_pythia8/NANOAODSIM/106X_mc2017_realistic_v9-v1/70000/F6B6A983-3E2B-7B4D-A2CE-E03AB6E32387.root\",\n",
    "# \"root://cmsxrootd.fnal.gov//store/mc/RunIISummer20UL17NanoAODv9/QCD_Pt_600to800_TuneCP5_13TeV_pythia8/NANOAODSIM/106X_mc2017_realistic_v9-v1/70000/FDF7FBE4-9226-994A-BD45-29995A3CD62F.root\",\n",
    "# \"root://cmsxrootd.fnal.gov//store/mc/RunIISummer20UL17NanoAODv9/QCD_Pt_800to1000_TuneCP5_13TeV_pythia8/NANOAODSIM/106X_mc2017_realistic_v9-v1/70000/2CEB03D7-5B1A-EE46-9C21-13ED3E349AF4.root\",\n",
    "# \"root://cmsxrootd.fnal.gov//store/mc/RunIISummer20UL17NanoAODv9/QCD_Pt_1000to1400_TuneCP5_13TeV_pythia8/NANOAODSIM/106X_mc2017_realistic_v9-v1/70000/DB87A517-0584-1A41-BB18-AAE7C9AAE5B8.root\",\n",
    "# \"root://cmsxrootd.fnal.gov//store/mc/RunIISummer20UL17NanoAODv9/QCD_Pt_1400to1800_TuneCP5_13TeV_pythia8/NANOAODSIM/106X_mc2017_realistic_v9-v1/280000/BFE2E7E9-82CB-FE47-9B43-EBA5C373AF60.root\",\n",
    "# \"root://cmsxrootd.fnal.gov//store/mc/RunIISummer20UL17NanoAODv9/QCD_Pt_1800to2400_TuneCP5_13TeV_pythia8/NANOAODSIM/106X_mc2017_realistic_v9-v1/70000/5213B536-BAA1-CC43-A58A-B1E41E2680F5.root\",\n",
    "# \"root://cmsxrootd.fnal.gov//store/mc/RunIISummer20UL17NanoAODv9/QCD_Pt_2400to3200_TuneCP5_13TeV_pythia8/NANOAODSIM/106X_mc2017_realistic_v9-v1/280000/E8400F91-3216-EA46-A9F1-8CC7EF5261B0.root\",\n",
    "# \"root://cmsxrootd.fnal.gov//store/mc/RunIISummer20UL17NanoAODv9/QCD_Pt_3200toInf_TuneCP5_13TeV_pythia8/NANOAODSIM/106X_mc2017_realistic_v9-v1/280000/B21BFDD8-B878-784C-AFB6-5CDE131F5C39.root\"\n",
    "# ]\n",
    "# redirector = 'root://xcache/'\n",
    "# redirector='root://xrootd-local.unl.edu:1094/'\n",
    "redirector = 'root://cmsxrootd.fnal.gov/'\n",
    "# files = handleData('fileset_QCD.json', redirector, testing = True, data = False)\n",
    "# files_test = handleData('fileset_QCD.json', redirector, testing = False, data = False)\n",
    "# events = NanoEventsFactory.from_root(redirector+\"/store/mc/RunIISummer20UL18NanoAODv9/QCD_Pt_1000to1400_TuneCP5_13TeV_pythia8/NANOAODSIM/106X_upgrade2018_realistic_v16_L1v1-v1/280000/C9729B80-15C9-3940-972D-AB1E7610CE6D.root\", schemaclass=NanoAODSchema).events()\n",
    "events = NanoEventsFactory.from_root('root://cmseos.fnal.gov//store/mc/RunIISummer20UL18NanoAODv9/QCD_HT1500to2000_TuneCP5_13TeV-madgraphMLM-pythia8/NANOAODSIM/106X_upgrade2018_realistic_v16_L1v1-v1/80000/A0AFD11B-A96C-E049-904C-DC1BD64F3416.root', schemaclass=NanoAODSchema).events()\n",
    "# print(events.fields)\n",
    "# print(\"MC prefiring weights \", events['L1PreFiringWeight'].Nom)\n",
    "events = events[ak.all(events.FatJet[:,:2].pt > 200., axis = -1)]\n",
    "print(ak.all(events.FatJet[:,:2].pt > 200., axis = -1))\n",
    "rho = events.FatJet[:,:2].mass/events.FatJet[:,:2].pt\n",
    "rho_gen = events.GenJetAK8[:,:2].mass/events.GenJetAK8[:,:2].pt\n",
    "print(\"rho max \", np.log(ak.max(rho)), \" rho min \", np.log(ak.min(rho)))\n",
    "print(\"rho gen max \", ak.max(np.log(rho_gen)), \" rho gen min \", ak.min(np.log(rho_gen)))\n",
    "print(rho)\n",
    "\n",
    "\n",
    "\n",
    "# import uproot\n",
    "# # ### uproot notation\n",
    "# # qcd_mc = uproot.open(list(files.values())[-1][0])\n",
    "# qcd_mc = uproot.open(redirector+\"/store/mc/RunIISummer20UL17NanoAODv9/QCD_Pt_3200toInf_TuneCP5_13TeV_pythia8/NANOAODSIM/106X_mc2017_realistic_v9-v1/280000/B21BFDD8-B878-784C-AFB6-5CDE131F5C39.root\")\n",
    "# uprootevents = qcd_mc['Events']\n",
    "# print(uprootevents.keys('subjet'))"
   ]
  },
  {
   "cell_type": "code",
   "execution_count": 2,
   "id": "1f9eed95",
   "metadata": {},
   "outputs": [
    {
     "name": "stdout",
     "output_type": "stream",
     "text": [
      "0.7.22\n",
      "2.7.2\n",
      "Data: Gen:  False True\n"
     ]
    }
   ],
   "source": [
    "from python.dijetProcessor import makeDijetHists\n",
    "# from python.dijetProcessor_old import makeDijetHists\n",
    "from dask.distributed import Client\n",
    "import pickle\n",
    "#### WE'RE MISSING 2016B ver2 -- AK8 PF HLT is missing need to use AK4 trigger isntead\n",
    "data = False\n",
    "testing = True\n",
    "year = \"2018\"\n",
    "dask=False\n",
    "range = None\n",
    "# mctype=\"pythiaMG\"\n",
    "mctype=\"herwig\"\n",
    "winterfell = False\n",
    "jk=False\n",
    "jk_range = [0,3]\n",
    "unc_srcs = [\"nominal\",\"HEM\", \"JER\", \"JMR\", \"JMS\", \"AbsoluteMPFBias\",\"AbsoluteScale\",\"AbsoluteStat\",\"FlavorQCD\",\"Fragmentation\",\"PileUpDataMC\",\"PileUpPtBB\",\"PileUpPtEC1\",\n",
    "\"PileUpPtEC2\",\"PileUpPtHF\",\"PileUpPtRef\",\"RelativeFSR\",\"RelativeJEREC1\",\n",
    "            \"RelativeJEREC2\",\"RelativeJERHF\",\"RelativePtBB\",\"RelativePtEC1\",\n",
    "            \"RelativePtEC2\",\"RelativePtHF\",\"RelativeBal\",\"RelativeSample\",\n",
    "            \"RelativeStatEC\",\"RelativeStatFSR\",\"RelativeStatHF\",\"SinglePionECAL\",\n",
    "            \"SinglePionHCAL\",\"TimePtEta\"]\n",
    "unc_srcs = [\"nominal\",\"HEM\", \"JER\", \"JMR\", \"JMS\",]\n",
    "processor = makeDijetHists(data = data, jet_systematics = unc_srcs, jk=jk) #, systematics = ['LHEPDF']\n",
    "datastring = \"JetHT\" if processor.do_gen == False else \"QCDsim\"\n",
    "jkstring = \"\"\n",
    "if jk:\n",
    "    if jk_range != None:\n",
    "        jkstring = \"JK\" + str(jk_range[0]) + \"_\" + str(jk_range[1])\n",
    "    else:\n",
    "        jkstring = \"JK\" \n",
    "if year == 2016 or year == 2017 or year == 2018:\n",
    "    year_str = str(year)\n",
    "elif year == \"2016\" or year == \"2016APV\" or year == \"2017\" or year == \"2018\":\n",
    "    year_str = year\n",
    "else:\n",
    "    year_str = \"All\"\n",
    "if processor.do_gen==True and winterfell:\n",
    "    filename = \"QCD_flat_files.json\"\n",
    "elif processor.do_gen==True:\n",
    "    # filename = \"fileset_QCD.json\"\n",
    "    if mctype == \"pythiaMG\":\n",
    "        filename = \"fileset_MG_pythia8_wRedirs.json\"\n",
    "    elif mctype == \"herwig\":\n",
    "        filename = \"fileset_HERWIG_wRedirs.json\"\n",
    "    else:\n",
    "        filename = \"fileset_QCD_wRedirs.json\"\n",
    "else:\n",
    "    # filename = \"datasets_UL_NANOAOD.json\"\n",
    "    filename = \"fileset_JetHT_wRedirs.json\"\n",
    "if testing and not data:\n",
    "    fname = 'coffeaOutput/dijet/dijetHistsTest_{}_fixL1andPU_rapidity{}_{}_{}{}.pkl'.format(datastring, processor.ycut, mctype, jkstring,year_str)\n",
    "elif testing and data:\n",
    "    fname = 'coffeaOutput/dijet/dijetHistsTest{}_fixL1andPU_rapidity{}_{}_{}{}.pkl'.format(datastring, processor.ycut, mctype, jkstring,year_str)\n",
    "elif not testing and data:\n",
    "    fname = 'coffeaOutput/dijet/dijetHists_{}_fixL1andPU_rapidity{}_{}_{}{}.pkl'.format(datastring, processor.ycut, jkstring, mctype, year_str)\n",
    "else:\n",
    "    fname = 'coffeaOutput/dijet/dijetHists_{}_{}_fixL1andPU_rapidity{}_{}{}.pkl'.format(datastring, processor.ycut, mctype, jkstring, year_str)\n",
    "if range!=None:\n",
    "    print(\"Range input: \", range)\n",
    "    fname=fname[:-4]+\"_\"+str(range[0])+\"_\"+str(range[1])+\".pkl\"\n",
    "    print(\"New ranged fname \", fname)"
   ]
  },
  {
   "cell_type": "code",
   "execution_count": 3,
   "id": "2c55f74b",
   "metadata": {
    "scrolled": true
   },
   "outputs": [
    {
     "name": "stdout",
     "output_type": "stream",
     "text": [
      "Running over datasets  dict_keys(['/QCD_HT1000to1500_TuneCH3_13TeV-madgraphMLM-herwig7/RunIISummer20UL18NanoAODv9-106X_upgrade2018_realistic_v16_L1v1-v1/NANOAODSIM', '/QCD_HT100to200_TuneCH3_13TeV-madgraphMLM-herwig7/RunIISummer20UL18NanoAODv9-106X_upgrade2018_realistic_v16_L1v1-v1/NANOAODSIM', '/QCD_HT1500to2000_TuneCH3_13TeV-madgraphMLM-herwig7/RunIISummer20UL18NanoAODv9-106X_upgrade2018_realistic_v16_L1v1-v1/NANOAODSIM', '/QCD_HT2000toInf_TuneCH3_13TeV-madgraphMLM-herwig7/RunIISummer20UL18NanoAODv9-106X_upgrade2018_realistic_v16_L1v1-v1/NANOAODSIM', '/QCD_HT200to300_TuneCH3_13TeV-madgraphMLM-herwig7/RunIISummer20UL18NanoAODv9-106X_upgrade2018_realistic_v16_L1v1-v1/NANOAODSIM', '/QCD_HT300to500_TuneCH3_13TeV-madgraphMLM-herwig7/RunIISummer20UL18NanoAODv9-106X_upgrade2018_realistic_v16_L1v1-v1/NANOAODSIM', '/QCD_HT500to700_TuneCH3_13TeV-madgraphMLM-herwig7/RunIISummer20UL18NanoAODv9-106X_upgrade2018_realistic_v16_L1v1-v1/NANOAODSIM', '/QCD_HT700to1000_TuneCH3_13TeV-madgraphMLM-herwig7/RunIISummer20UL18NanoAODv9-106X_upgrade2018_realistic_v16_L1v1-v1/NANOAODSIM'])\n",
      "Running locally\n"
     ]
    },
    {
     "data": {
      "application/vnd.jupyter.widget-view+json": {
       "model_id": "c0e30011220a4c618f0699e3914cb8b9",
       "version_major": 2,
       "version_minor": 0
      },
      "text/plain": [
       "Output()"
      ]
     },
     "metadata": {},
     "output_type": "display_data"
    },
    {
     "data": {
      "text/html": [
       "<pre style=\"white-space:pre;overflow-x:auto;line-height:normal;font-family:Menlo,'DejaVu Sans Mono',consolas,'Courier New',monospace\"></pre>\n"
      ],
      "text/plain": []
     },
     "metadata": {},
     "output_type": "display_data"
    },
    {
     "data": {
      "text/html": [
       "<pre style=\"white-space:pre;overflow-x:auto;line-height:normal;font-family:Menlo,'DejaVu Sans Mono',consolas,'Courier New',monospace\">\n",
       "</pre>\n"
      ],
      "text/plain": [
       "\n"
      ]
     },
     "metadata": {},
     "output_type": "display_data"
    },
    {
     "data": {
      "application/vnd.jupyter.widget-view+json": {
       "model_id": "fcc5fe9131114471b7598dc19ca5ecce",
       "version_major": 2,
       "version_minor": 0
      },
      "text/plain": [
       "Output()"
      ]
     },
     "metadata": {},
     "output_type": "display_data"
    },
    {
     "name": "stdout",
     "output_type": "stream",
     "text": [
      "Filename:  root://cmseos.fnal.gov//store/mc/RunIISummer20UL18NanoAODv9/QCD_HT700to1000_TuneCH3_13TeV-madgraphMLM-herwig7/NANOAODSIM/106X_upgrade2018_realistic_v16_L1v1-v1/60000/509E8227-440A-8245-A875-5E8203F30BE6.root\n",
      "Dataset:  /QCD_HT700to1000_TuneCH3_13TeV-madgraphMLM-herwig7/RunIISummer20UL18NanoAODv9-106X_upgrade2018_realistic_v16_L1v1-v1/NANOAODSIM\n",
      "extracting corrections from files for Summer19UL18_V5_MC\n"
     ]
    },
    {
     "data": {
      "text/html": [
       "<pre style=\"white-space:pre;overflow-x:auto;line-height:normal;font-family:Menlo,'DejaVu Sans Mono',consolas,'Courier New',monospace\"></pre>\n"
      ],
      "text/plain": []
     },
     "metadata": {},
     "output_type": "display_data"
    },
    {
     "data": {
      "text/html": [
       "<pre style=\"white-space:pre;overflow-x:auto;line-height:normal;font-family:Menlo,'DejaVu Sans Mono',consolas,'Courier New',monospace\">\n",
       "</pre>\n"
      ],
      "text/plain": [
       "\n"
      ]
     },
     "metadata": {},
     "output_type": "display_data"
    },
    {
     "name": "stderr",
     "output_type": "stream",
     "text": [
      "concurrent.futures.process._RemoteTraceback: \n",
      "\"\"\"\n",
      "Traceback (most recent call last):\n",
      "  File \"/opt/conda/lib/python3.9/site-packages/coffea/processor/executor.py\", line 1654, in _work_function\n",
      "    out = processor_instance.process(events)\n",
      "  File \"/srv/python/dijetProcessor.py\", line 228, in process\n",
      "    corrected_fatjets = GetJetCorrections(FatJet, events_jk, era, IOV, isData=not self.do_gen)\n",
      "  File \"/srv/python/corrections.py\", line 259, in GetJetCorrections\n",
      "    ext.add_weight_sets([\n",
      "  File \"/opt/conda/lib/python3.9/site-packages/coffea/lookup_tools/extractor.py\", line 99, in add_weight_sets\n",
      "    self.import_file(thefile)\n",
      "  File \"/opt/conda/lib/python3.9/site-packages/coffea/lookup_tools/extractor.py\", line 132, in import_file\n",
      "    self._filecache[thefile] = file_converters[theformat][thetype](thefile)\n",
      "  File \"/opt/conda/lib/python3.9/site-packages/coffea/lookup_tools/txt_converters.py\", line 249, in _convert_standard_jme_txt_file\n",
      "    return _build_standard_jme_lookup(*_parse_jme_formatted_file(jmeFilePath))\n",
      "  File \"/opt/conda/lib/python3.9/site-packages/coffea/lookup_tools/txt_converters.py\", line 43, in _parse_jme_formatted_file\n",
      "    raise Exception(\"First column of JME File Header must be a digit!\")\n",
      "Exception: First column of JME File Header must be a digit!\n",
      "\n",
      "The above exception was the direct cause of the following exception:\n",
      "\n",
      "Traceback (most recent call last):\n",
      "  File \"/opt/conda/lib/python3.9/concurrent/futures/process.py\", line 246, in _process_worker\n",
      "    r = call_item.fn(*call_item.args, **call_item.kwargs)\n",
      "  File \"/opt/conda/lib/python3.9/site-packages/coffea/processor/executor.py\", line 1367, in automatic_retries\n",
      "    raise e\n",
      "  File \"/opt/conda/lib/python3.9/site-packages/coffea/processor/executor.py\", line 1336, in automatic_retries\n",
      "    return func(*args, **kwargs)\n",
      "  File \"/opt/conda/lib/python3.9/site-packages/coffea/processor/executor.py\", line 1656, in _work_function\n",
      "    raise Exception(f\"Failed processing file: {item!r}\") from e\n",
      "Exception: Failed processing file: WorkItem(dataset='/QCD_HT700to1000_TuneCH3_13TeV-madgraphMLM-herwig7/RunIISummer20UL18NanoAODv9-106X_upgrade2018_realistic_v16_L1v1-v1/NANOAODSIM', filename='root://cmseos.fnal.gov//store/mc/RunIISummer20UL18NanoAODv9/QCD_HT700to1000_TuneCH3_13TeV-madgraphMLM-herwig7/NANOAODSIM/106X_upgrade2018_realistic_v16_L1v1-v1/60000/509E8227-440A-8245-A875-5E8203F30BE6.root', treename='Events', entrystart=0, entrystop=110872, fileuuid=b'\\x10\\xc0\\xab$]\\xdb\\x11\\xed\\x98\\x90\\x074\\x9e\\x86\\xbe\\xef', usermeta={})\n",
      "\"\"\"\n",
      "\n",
      "The above exception was the direct cause of the following exception:\n",
      "\n",
      "Traceback (most recent call last):\n",
      "  File \"/opt/conda/lib/python3.9/site-packages/coffea/processor/executor.py\", line 786, in _processwith\n",
      "    merged = _watcher(FH, self, reducer, pool)\n",
      "  File \"/opt/conda/lib/python3.9/site-packages/coffea/processor/executor.py\", line 402, in _watcher\n",
      "    batch = FH.fetch(len(FH.completed))\n",
      "  File \"/opt/conda/lib/python3.9/site-packages/coffea/processor/executor.py\", line 286, in fetch\n",
      "    raise bad_futures[0].exception()\n",
      "Exception: Failed processing file: WorkItem(dataset='/QCD_HT700to1000_TuneCH3_13TeV-madgraphMLM-herwig7/RunIISummer20UL18NanoAODv9-106X_upgrade2018_realistic_v16_L1v1-v1/NANOAODSIM', filename='root://cmseos.fnal.gov//store/mc/RunIISummer20UL18NanoAODv9/QCD_HT700to1000_TuneCH3_13TeV-madgraphMLM-herwig7/NANOAODSIM/106X_upgrade2018_realistic_v16_L1v1-v1/60000/509E8227-440A-8245-A875-5E8203F30BE6.root', treename='Events', entrystart=0, entrystop=110872, fileuuid=b'\\x10\\xc0\\xab$]\\xdb\\x11\\xed\\x98\\x90\\x074\\x9e\\x86\\xbe\\xef', usermeta={})\n"
     ]
    },
    {
     "name": "stdout",
     "output_type": "stream",
     "text": [
      "Filename:  root://cmseos.fnal.gov//store/mc/RunIISummer20UL18NanoAODv9/QCD_HT700to1000_TuneCH3_13TeV-madgraphMLM-herwig7/NANOAODSIM/106X_upgrade2018_realistic_v16_L1v1-v1/60000/509E8227-440A-8245-A875-5E8203F30BE6.root\n",
      "Dataset:  /QCD_HT700to1000_TuneCH3_13TeV-madgraphMLM-herwig7/RunIISummer20UL18NanoAODv9-106X_upgrade2018_realistic_v16_L1v1-v1/NANOAODSIM\n",
      "extracting corrections from files for Summer19UL18_V5_MC\n",
      "Filename:  root://cmseos.fnal.gov//store/mc/RunIISummer20UL18NanoAODv9/QCD_HT700to1000_TuneCH3_13TeV-madgraphMLM-herwig7/NANOAODSIM/106X_upgrade2018_realistic_v16_L1v1-v1/60000/509E8227-440A-8245-A875-5E8203F30BE6.root\n",
      "Dataset:  /QCD_HT700to1000_TuneCH3_13TeV-madgraphMLM-herwig7/RunIISummer20UL18NanoAODv9-106X_upgrade2018_realistic_v16_L1v1-v1/NANOAODSIM\n",
      "extracting corrections from files for Summer19UL18_V5_MC\n",
      "Filename:  root://cmseos.fnal.gov//store/mc/RunIISummer20UL18NanoAODv9/QCD_HT500to700_TuneCH3_13TeV-madgraphMLM-herwig7/NANOAODSIM/106X_upgrade2018_realistic_v16_L1v1-v1/50000/316393F5-3DDC-E242-BDB1-55B3081D8BE8.root\n",
      "Dataset:  /QCD_HT500to700_TuneCH3_13TeV-madgraphMLM-herwig7/RunIISummer20UL18NanoAODv9-106X_upgrade2018_realistic_v16_L1v1-v1/NANOAODSIM\n",
      "extracting corrections from files for Summer19UL18_V5_MC\n",
      "Filename:  root://cmseos.fnal.gov//store/mc/RunIISummer20UL18NanoAODv9/QCD_HT500to700_TuneCH3_13TeV-madgraphMLM-herwig7/NANOAODSIM/106X_upgrade2018_realistic_v16_L1v1-v1/50000/316393F5-3DDC-E242-BDB1-55B3081D8BE8.root\n",
      "Dataset:  /QCD_HT500to700_TuneCH3_13TeV-madgraphMLM-herwig7/RunIISummer20UL18NanoAODv9-106X_upgrade2018_realistic_v16_L1v1-v1/NANOAODSIM\n",
      "extracting corrections from files for Summer19UL18_V5_MC\n",
      "Filename:  root://cmseos.fnal.gov//store/mc/RunIISummer20UL18NanoAODv9/QCD_HT500to700_TuneCH3_13TeV-madgraphMLM-herwig7/NANOAODSIM/106X_upgrade2018_realistic_v16_L1v1-v1/50000/316393F5-3DDC-E242-BDB1-55B3081D8BE8.root\n",
      "Dataset:  /QCD_HT500to700_TuneCH3_13TeV-madgraphMLM-herwig7/RunIISummer20UL18NanoAODv9-106X_upgrade2018_realistic_v16_L1v1-v1/NANOAODSIM\n",
      "extracting corrections from files for Summer19UL18_V5_MC\n",
      "Filename:  root://cmseos.fnal.gov//store/mc/RunIISummer20UL18NanoAODv9/QCD_HT500to700_TuneCH3_13TeV-madgraphMLM-herwig7/NANOAODSIM/106X_upgrade2018_realistic_v16_L1v1-v1/50000/316393F5-3DDC-E242-BDB1-55B3081D8BE8.root\n",
      "Dataset:  /QCD_HT500to700_TuneCH3_13TeV-madgraphMLM-herwig7/RunIISummer20UL18NanoAODv9-106X_upgrade2018_realistic_v16_L1v1-v1/NANOAODSIM\n",
      "extracting corrections from files for Summer19UL18_V5_MC\n",
      "Filename:  root://cmseos.fnal.gov//store/mc/RunIISummer20UL18NanoAODv9/QCD_HT500to700_TuneCH3_13TeV-madgraphMLM-herwig7/NANOAODSIM/106X_upgrade2018_realistic_v16_L1v1-v1/50000/316393F5-3DDC-E242-BDB1-55B3081D8BE8.root\n",
      "Dataset:  /QCD_HT500to700_TuneCH3_13TeV-madgraphMLM-herwig7/RunIISummer20UL18NanoAODv9-106X_upgrade2018_realistic_v16_L1v1-v1/NANOAODSIM\n",
      "extracting corrections from files for Summer19UL18_V5_MC\n",
      "Filename:  root://cmseos.fnal.gov//store/mc/RunIISummer20UL18NanoAODv9/QCD_HT300to500_TuneCH3_13TeV-madgraphMLM-herwig7/NANOAODSIM/106X_upgrade2018_realistic_v16_L1v1-v1/50000/3AF63B9B-0683-0F45-AFAF-A31AD48106E3.root\n",
      "Dataset:  /QCD_HT300to500_TuneCH3_13TeV-madgraphMLM-herwig7/RunIISummer20UL18NanoAODv9-106X_upgrade2018_realistic_v16_L1v1-v1/NANOAODSIM\n",
      "extracting corrections from files for Summer19UL18_V5_MC\n",
      "Filename:  root://cmseos.fnal.gov//store/mc/RunIISummer20UL18NanoAODv9/QCD_HT300to500_TuneCH3_13TeV-madgraphMLM-herwig7/NANOAODSIM/106X_upgrade2018_realistic_v16_L1v1-v1/50000/3AF63B9B-0683-0F45-AFAF-A31AD48106E3.root\n",
      "Dataset:  /QCD_HT300to500_TuneCH3_13TeV-madgraphMLM-herwig7/RunIISummer20UL18NanoAODv9-106X_upgrade2018_realistic_v16_L1v1-v1/NANOAODSIM\n",
      "extracting corrections from files for Summer19UL18_V5_MC\n",
      "Filename:  root://cmseos.fnal.gov//store/mc/RunIISummer20UL18NanoAODv9/QCD_HT300to500_TuneCH3_13TeV-madgraphMLM-herwig7/NANOAODSIM/106X_upgrade2018_realistic_v16_L1v1-v1/50000/3AF63B9B-0683-0F45-AFAF-A31AD48106E3.root\n",
      "Dataset:  /QCD_HT300to500_TuneCH3_13TeV-madgraphMLM-herwig7/RunIISummer20UL18NanoAODv9-106X_upgrade2018_realistic_v16_L1v1-v1/NANOAODSIM\n",
      "extracting corrections from files for Summer19UL18_V5_MC\n",
      "Filename:  root://cmseos.fnal.gov//store/mc/RunIISummer20UL18NanoAODv9/QCD_HT300to500_TuneCH3_13TeV-madgraphMLM-herwig7/NANOAODSIM/106X_upgrade2018_realistic_v16_L1v1-v1/50000/3AF63B9B-0683-0F45-AFAF-A31AD48106E3.root\n",
      "Dataset:  /QCD_HT300to500_TuneCH3_13TeV-madgraphMLM-herwig7/RunIISummer20UL18NanoAODv9-106X_upgrade2018_realistic_v16_L1v1-v1/NANOAODSIM\n",
      "extracting corrections from files for Summer19UL18_V5_MC\n",
      "Filename:  root://cmseos.fnal.gov//store/mc/RunIISummer20UL18NanoAODv9/QCD_HT300to500_TuneCH3_13TeV-madgraphMLM-herwig7/NANOAODSIM/106X_upgrade2018_realistic_v16_L1v1-v1/50000/3AF63B9B-0683-0F45-AFAF-A31AD48106E3.root\n",
      "Dataset:  /QCD_HT300to500_TuneCH3_13TeV-madgraphMLM-herwig7/RunIISummer20UL18NanoAODv9-106X_upgrade2018_realistic_v16_L1v1-v1/NANOAODSIM\n",
      "extracting corrections from files for Summer19UL18_V5_MC\n",
      "Filename:  root://cmseos.fnal.gov//store/mc/RunIISummer20UL18NanoAODv9/QCD_HT300to500_TuneCH3_13TeV-madgraphMLM-herwig7/NANOAODSIM/106X_upgrade2018_realistic_v16_L1v1-v1/50000/3AF63B9B-0683-0F45-AFAF-A31AD48106E3.root\n",
      "Dataset:  /QCD_HT300to500_TuneCH3_13TeV-madgraphMLM-herwig7/RunIISummer20UL18NanoAODv9-106X_upgrade2018_realistic_v16_L1v1-v1/NANOAODSIM\n",
      "extracting corrections from files for Summer19UL18_V5_MC\n",
      "Filename:  root://cmseos.fnal.gov//store/mc/RunIISummer20UL18NanoAODv9/QCD_HT300to500_TuneCH3_13TeV-madgraphMLM-herwig7/NANOAODSIM/106X_upgrade2018_realistic_v16_L1v1-v1/50000/3AF63B9B-0683-0F45-AFAF-A31AD48106E3.root\n",
      "Dataset:  /QCD_HT300to500_TuneCH3_13TeV-madgraphMLM-herwig7/RunIISummer20UL18NanoAODv9-106X_upgrade2018_realistic_v16_L1v1-v1/NANOAODSIM\n",
      "extracting corrections from files for Summer19UL18_V5_MC\n",
      "Filename:  root://cmseos.fnal.gov//store/mc/RunIISummer20UL18NanoAODv9/QCD_HT300to500_TuneCH3_13TeV-madgraphMLM-herwig7/NANOAODSIM/106X_upgrade2018_realistic_v16_L1v1-v1/50000/3AF63B9B-0683-0F45-AFAF-A31AD48106E3.root\n",
      "Dataset:  /QCD_HT300to500_TuneCH3_13TeV-madgraphMLM-herwig7/RunIISummer20UL18NanoAODv9-106X_upgrade2018_realistic_v16_L1v1-v1/NANOAODSIM\n",
      "extracting corrections from files for Summer19UL18_V5_MC\n",
      "Filename:  root://cmseos.fnal.gov//store/mc/RunIISummer20UL18NanoAODv9/QCD_HT300to500_TuneCH3_13TeV-madgraphMLM-herwig7/NANOAODSIM/106X_upgrade2018_realistic_v16_L1v1-v1/50000/3AF63B9B-0683-0F45-AFAF-A31AD48106E3.root\n",
      "Dataset:  /QCD_HT300to500_TuneCH3_13TeV-madgraphMLM-herwig7/RunIISummer20UL18NanoAODv9-106X_upgrade2018_realistic_v16_L1v1-v1/NANOAODSIM\n",
      "extracting corrections from files for Summer19UL18_V5_MC\n",
      "Filename:  root://cmseos.fnal.gov//store/mc/RunIISummer20UL18NanoAODv9/QCD_HT200to300_TuneCH3_13TeV-madgraphMLM-herwig7/NANOAODSIM/106X_upgrade2018_realistic_v16_L1v1-v1/60000/3956FFCF-B854-5F4E-A035-BB05234213BB.root\n",
      "Dataset:  /QCD_HT200to300_TuneCH3_13TeV-madgraphMLM-herwig7/RunIISummer20UL18NanoAODv9-106X_upgrade2018_realistic_v16_L1v1-v1/NANOAODSIM\n",
      "extracting corrections from files for Summer19UL18_V5_MC\n",
      "Filename:  root://cmseos.fnal.gov//store/mc/RunIISummer20UL18NanoAODv9/QCD_HT200to300_TuneCH3_13TeV-madgraphMLM-herwig7/NANOAODSIM/106X_upgrade2018_realistic_v16_L1v1-v1/60000/3956FFCF-B854-5F4E-A035-BB05234213BB.root\n",
      "Dataset:  /QCD_HT200to300_TuneCH3_13TeV-madgraphMLM-herwig7/RunIISummer20UL18NanoAODv9-106X_upgrade2018_realistic_v16_L1v1-v1/NANOAODSIM\n",
      "extracting corrections from files for Summer19UL18_V5_MC\n",
      "Filename:  root://cmseos.fnal.gov//store/mc/RunIISummer20UL18NanoAODv9/QCD_HT200to300_TuneCH3_13TeV-madgraphMLM-herwig7/NANOAODSIM/106X_upgrade2018_realistic_v16_L1v1-v1/60000/3956FFCF-B854-5F4E-A035-BB05234213BB.root\n",
      "Dataset:  /QCD_HT200to300_TuneCH3_13TeV-madgraphMLM-herwig7/RunIISummer20UL18NanoAODv9-106X_upgrade2018_realistic_v16_L1v1-v1/NANOAODSIM\n",
      "extracting corrections from files for Summer19UL18_V5_MC\n",
      "Filename:  root://cmseos.fnal.gov//store/mc/RunIISummer20UL18NanoAODv9/QCD_HT200to300_TuneCH3_13TeV-madgraphMLM-herwig7/NANOAODSIM/106X_upgrade2018_realistic_v16_L1v1-v1/60000/3956FFCF-B854-5F4E-A035-BB05234213BB.root\n",
      "Dataset:  /QCD_HT200to300_TuneCH3_13TeV-madgraphMLM-herwig7/RunIISummer20UL18NanoAODv9-106X_upgrade2018_realistic_v16_L1v1-v1/NANOAODSIM\n",
      "extracting corrections from files for Summer19UL18_V5_MC\n",
      "Filename:  root://cmseos.fnal.gov//store/mc/RunIISummer20UL18NanoAODv9/QCD_HT200to300_TuneCH3_13TeV-madgraphMLM-herwig7/NANOAODSIM/106X_upgrade2018_realistic_v16_L1v1-v1/60000/3956FFCF-B854-5F4E-A035-BB05234213BB.root\n",
      "Dataset:  /QCD_HT200to300_TuneCH3_13TeV-madgraphMLM-herwig7/RunIISummer20UL18NanoAODv9-106X_upgrade2018_realistic_v16_L1v1-v1/NANOAODSIM\n",
      "extracting corrections from files for Summer19UL18_V5_MC\n",
      "Filename:  root://cmseos.fnal.gov//store/mc/RunIISummer20UL18NanoAODv9/QCD_HT200to300_TuneCH3_13TeV-madgraphMLM-herwig7/NANOAODSIM/106X_upgrade2018_realistic_v16_L1v1-v1/60000/3956FFCF-B854-5F4E-A035-BB05234213BB.root\n",
      "Dataset:  /QCD_HT200to300_TuneCH3_13TeV-madgraphMLM-herwig7/RunIISummer20UL18NanoAODv9-106X_upgrade2018_realistic_v16_L1v1-v1/NANOAODSIM\n",
      "extracting corrections from files for Summer19UL18_V5_MC\n",
      "Filename:  root://cmseos.fnal.gov//store/mc/RunIISummer20UL18NanoAODv9/QCD_HT200to300_TuneCH3_13TeV-madgraphMLM-herwig7/NANOAODSIM/106X_upgrade2018_realistic_v16_L1v1-v1/60000/3956FFCF-B854-5F4E-A035-BB05234213BB.root\n",
      "Dataset:  /QCD_HT200to300_TuneCH3_13TeV-madgraphMLM-herwig7/RunIISummer20UL18NanoAODv9-106X_upgrade2018_realistic_v16_L1v1-v1/NANOAODSIM\n",
      "extracting corrections from files for Summer19UL18_V5_MC\n",
      "Filename:  root://cmseos.fnal.gov//store/mc/RunIISummer20UL18NanoAODv9/QCD_HT200to300_TuneCH3_13TeV-madgraphMLM-herwig7/NANOAODSIM/106X_upgrade2018_realistic_v16_L1v1-v1/60000/3956FFCF-B854-5F4E-A035-BB05234213BB.root\n",
      "Dataset:  /QCD_HT200to300_TuneCH3_13TeV-madgraphMLM-herwig7/RunIISummer20UL18NanoAODv9-106X_upgrade2018_realistic_v16_L1v1-v1/NANOAODSIM\n",
      "extracting corrections from files for Summer19UL18_V5_MC\n",
      "Filename:  root://cmseos.fnal.gov//store/mc/RunIISummer20UL18NanoAODv9/QCD_HT200to300_TuneCH3_13TeV-madgraphMLM-herwig7/NANOAODSIM/106X_upgrade2018_realistic_v16_L1v1-v1/60000/3956FFCF-B854-5F4E-A035-BB05234213BB.root\n",
      "Dataset:  /QCD_HT200to300_TuneCH3_13TeV-madgraphMLM-herwig7/RunIISummer20UL18NanoAODv9-106X_upgrade2018_realistic_v16_L1v1-v1/NANOAODSIM\n",
      "extracting corrections from files for Summer19UL18_V5_MC\n",
      "Filename:  root://cmseos.fnal.gov//store/mc/RunIISummer20UL18NanoAODv9/QCD_HT200to300_TuneCH3_13TeV-madgraphMLM-herwig7/NANOAODSIM/106X_upgrade2018_realistic_v16_L1v1-v1/60000/3956FFCF-B854-5F4E-A035-BB05234213BB.root\n",
      "Dataset:  /QCD_HT200to300_TuneCH3_13TeV-madgraphMLM-herwig7/RunIISummer20UL18NanoAODv9-106X_upgrade2018_realistic_v16_L1v1-v1/NANOAODSIM\n",
      "extracting corrections from files for Summer19UL18_V5_MC\n",
      "Filename:  root://cmseos.fnal.gov//store/mc/RunIISummer20UL18NanoAODv9/QCD_HT200to300_TuneCH3_13TeV-madgraphMLM-herwig7/NANOAODSIM/106X_upgrade2018_realistic_v16_L1v1-v1/60000/3956FFCF-B854-5F4E-A035-BB05234213BB.root\n",
      "Dataset:  /QCD_HT200to300_TuneCH3_13TeV-madgraphMLM-herwig7/RunIISummer20UL18NanoAODv9-106X_upgrade2018_realistic_v16_L1v1-v1/NANOAODSIM\n",
      "extracting corrections from files for Summer19UL18_V5_MC\n",
      "Filename:  root://cmseos.fnal.gov//store/mc/RunIISummer20UL18NanoAODv9/QCD_HT2000toInf_TuneCH3_13TeV-madgraphMLM-herwig7/NANOAODSIM/106X_upgrade2018_realistic_v16_L1v1-v1/60000/077CB78F-C9BA-C149-85DF-903D7EA4BE83.root\n",
      "Dataset:  /QCD_HT2000toInf_TuneCH3_13TeV-madgraphMLM-herwig7/RunIISummer20UL18NanoAODv9-106X_upgrade2018_realistic_v16_L1v1-v1/NANOAODSIM\n",
      "extracting corrections from files for Summer19UL18_V5_MC\n",
      "Filename:  root://cmseos.fnal.gov//store/mc/RunIISummer20UL18NanoAODv9/QCD_HT2000toInf_TuneCH3_13TeV-madgraphMLM-herwig7/NANOAODSIM/106X_upgrade2018_realistic_v16_L1v1-v1/60000/077CB78F-C9BA-C149-85DF-903D7EA4BE83.root\n",
      "Dataset:  /QCD_HT2000toInf_TuneCH3_13TeV-madgraphMLM-herwig7/RunIISummer20UL18NanoAODv9-106X_upgrade2018_realistic_v16_L1v1-v1/NANOAODSIM\n",
      "extracting corrections from files for Summer19UL18_V5_MC\n",
      "Filename:  root://cmseos.fnal.gov//store/mc/RunIISummer20UL18NanoAODv9/QCD_HT2000toInf_TuneCH3_13TeV-madgraphMLM-herwig7/NANOAODSIM/106X_upgrade2018_realistic_v16_L1v1-v1/60000/077CB78F-C9BA-C149-85DF-903D7EA4BE83.root\n",
      "Dataset:  /QCD_HT2000toInf_TuneCH3_13TeV-madgraphMLM-herwig7/RunIISummer20UL18NanoAODv9-106X_upgrade2018_realistic_v16_L1v1-v1/NANOAODSIM\n",
      "extracting corrections from files for Summer19UL18_V5_MC\n",
      "Filename:  root://cmseos.fnal.gov//store/mc/RunIISummer20UL18NanoAODv9/QCD_HT2000toInf_TuneCH3_13TeV-madgraphMLM-herwig7/NANOAODSIM/106X_upgrade2018_realistic_v16_L1v1-v1/60000/077CB78F-C9BA-C149-85DF-903D7EA4BE83.root\n",
      "Dataset:  /QCD_HT2000toInf_TuneCH3_13TeV-madgraphMLM-herwig7/RunIISummer20UL18NanoAODv9-106X_upgrade2018_realistic_v16_L1v1-v1/NANOAODSIM\n",
      "extracting corrections from files for Summer19UL18_V5_MC\n",
      "Filename:  root://cmseos.fnal.gov//store/mc/RunIISummer20UL18NanoAODv9/QCD_HT2000toInf_TuneCH3_13TeV-madgraphMLM-herwig7/NANOAODSIM/106X_upgrade2018_realistic_v16_L1v1-v1/60000/077CB78F-C9BA-C149-85DF-903D7EA4BE83.root\n",
      "Dataset:  /QCD_HT2000toInf_TuneCH3_13TeV-madgraphMLM-herwig7/RunIISummer20UL18NanoAODv9-106X_upgrade2018_realistic_v16_L1v1-v1/NANOAODSIM\n",
      "extracting corrections from files for Summer19UL18_V5_MC\n",
      "Filename:  root://cmseos.fnal.gov//store/mc/RunIISummer20UL18NanoAODv9/QCD_HT1500to2000_TuneCH3_13TeV-madgraphMLM-herwig7/NANOAODSIM/106X_upgrade2018_realistic_v16_L1v1-v1/60000/89D0AF32-4CD7-274F-818D-0E6F013B085C.root\n",
      "Dataset:  /QCD_HT1500to2000_TuneCH3_13TeV-madgraphMLM-herwig7/RunIISummer20UL18NanoAODv9-106X_upgrade2018_realistic_v16_L1v1-v1/NANOAODSIM\n",
      "extracting corrections from files for Summer19UL18_V5_MC\n",
      "Filename:  root://cmseos.fnal.gov//store/mc/RunIISummer20UL18NanoAODv9/QCD_HT100to200_TuneCH3_13TeV-madgraphMLM-herwig7/NANOAODSIM/106X_upgrade2018_realistic_v16_L1v1-v1/50000/11E3409E-D937-EA40-8BE7-341AF5D38D7E.root\n",
      "Dataset:  /QCD_HT100to200_TuneCH3_13TeV-madgraphMLM-herwig7/RunIISummer20UL18NanoAODv9-106X_upgrade2018_realistic_v16_L1v1-v1/NANOAODSIM\n",
      "extracting corrections from files for Summer19UL18_V5_MC\n",
      "Filename:  root://cmseos.fnal.gov//store/mc/RunIISummer20UL18NanoAODv9/QCD_HT100to200_TuneCH3_13TeV-madgraphMLM-herwig7/NANOAODSIM/106X_upgrade2018_realistic_v16_L1v1-v1/50000/11E3409E-D937-EA40-8BE7-341AF5D38D7E.root\n",
      "Dataset:  /QCD_HT100to200_TuneCH3_13TeV-madgraphMLM-herwig7/RunIISummer20UL18NanoAODv9-106X_upgrade2018_realistic_v16_L1v1-v1/NANOAODSIM\n",
      "extracting corrections from files for Summer19UL18_V5_MC\n",
      "Filename:  root://cmseos.fnal.gov//store/mc/RunIISummer20UL18NanoAODv9/QCD_HT100to200_TuneCH3_13TeV-madgraphMLM-herwig7/NANOAODSIM/106X_upgrade2018_realistic_v16_L1v1-v1/50000/11E3409E-D937-EA40-8BE7-341AF5D38D7E.root\n",
      "Dataset:  /QCD_HT100to200_TuneCH3_13TeV-madgraphMLM-herwig7/RunIISummer20UL18NanoAODv9-106X_upgrade2018_realistic_v16_L1v1-v1/NANOAODSIM\n",
      "extracting corrections from files for Summer19UL18_V5_MC\n",
      "Filename:  root://cmseos.fnal.gov//store/mc/RunIISummer20UL18NanoAODv9/QCD_HT100to200_TuneCH3_13TeV-madgraphMLM-herwig7/NANOAODSIM/106X_upgrade2018_realistic_v16_L1v1-v1/50000/11E3409E-D937-EA40-8BE7-341AF5D38D7E.root\n",
      "Dataset:  /QCD_HT100to200_TuneCH3_13TeV-madgraphMLM-herwig7/RunIISummer20UL18NanoAODv9-106X_upgrade2018_realistic_v16_L1v1-v1/NANOAODSIM\n",
      "extracting corrections from files for Summer19UL18_V5_MC\n",
      "Filename:  root://cmseos.fnal.gov//store/mc/RunIISummer20UL18NanoAODv9/QCD_HT100to200_TuneCH3_13TeV-madgraphMLM-herwig7/NANOAODSIM/106X_upgrade2018_realistic_v16_L1v1-v1/50000/11E3409E-D937-EA40-8BE7-341AF5D38D7E.root\n",
      "Dataset:  /QCD_HT100to200_TuneCH3_13TeV-madgraphMLM-herwig7/RunIISummer20UL18NanoAODv9-106X_upgrade2018_realistic_v16_L1v1-v1/NANOAODSIM\n",
      "extracting corrections from files for Summer19UL18_V5_MC\n",
      "Filename:  root://cmseos.fnal.gov//store/mc/RunIISummer20UL18NanoAODv9/QCD_HT1000to1500_TuneCH3_13TeV-madgraphMLM-herwig7/NANOAODSIM/106X_upgrade2018_realistic_v16_L1v1-v1/50000/8D33E42D-6782-6140-9B82-F49A8F5E9544.root\n",
      "Dataset:  /QCD_HT1000to1500_TuneCH3_13TeV-madgraphMLM-herwig7/RunIISummer20UL18NanoAODv9-106X_upgrade2018_realistic_v16_L1v1-v1/NANOAODSIM\n",
      "extracting corrections from files for Summer19UL18_V5_MC\n",
      "Filename:  root://cmseos.fnal.gov//store/mc/RunIISummer20UL18NanoAODv9/QCD_HT1000to1500_TuneCH3_13TeV-madgraphMLM-herwig7/NANOAODSIM/106X_upgrade2018_realistic_v16_L1v1-v1/50000/8D33E42D-6782-6140-9B82-F49A8F5E9544.root\n",
      "Dataset:  /QCD_HT1000to1500_TuneCH3_13TeV-madgraphMLM-herwig7/RunIISummer20UL18NanoAODv9-106X_upgrade2018_realistic_v16_L1v1-v1/NANOAODSIM\n",
      "extracting corrections from files for Summer19UL18_V5_MC\n",
      "Filename:  root://cmseos.fnal.gov//store/mc/RunIISummer20UL18NanoAODv9/QCD_HT1000to1500_TuneCH3_13TeV-madgraphMLM-herwig7/NANOAODSIM/106X_upgrade2018_realistic_v16_L1v1-v1/50000/8D33E42D-6782-6140-9B82-F49A8F5E9544.root\n",
      "Dataset:  /QCD_HT1000to1500_TuneCH3_13TeV-madgraphMLM-herwig7/RunIISummer20UL18NanoAODv9-106X_upgrade2018_realistic_v16_L1v1-v1/NANOAODSIM\n",
      "extracting corrections from files for Summer19UL18_V5_MC\n",
      "Filename:  root://cmseos.fnal.gov//store/mc/RunIISummer20UL18NanoAODv9/QCD_HT1000to1500_TuneCH3_13TeV-madgraphMLM-herwig7/NANOAODSIM/106X_upgrade2018_realistic_v16_L1v1-v1/50000/8D33E42D-6782-6140-9B82-F49A8F5E9544.root\n",
      "Dataset:  /QCD_HT1000to1500_TuneCH3_13TeV-madgraphMLM-herwig7/RunIISummer20UL18NanoAODv9-106X_upgrade2018_realistic_v16_L1v1-v1/NANOAODSIM\n",
      "extracting corrections from files for Summer19UL18_V5_MC\n",
      "Filename:  root://cmseos.fnal.gov//store/mc/RunIISummer20UL18NanoAODv9/QCD_HT1000to1500_TuneCH3_13TeV-madgraphMLM-herwig7/NANOAODSIM/106X_upgrade2018_realistic_v16_L1v1-v1/50000/8D33E42D-6782-6140-9B82-F49A8F5E9544.root\n",
      "Dataset:  /QCD_HT1000to1500_TuneCH3_13TeV-madgraphMLM-herwig7/RunIISummer20UL18NanoAODv9-106X_upgrade2018_realistic_v16_L1v1-v1/NANOAODSIM\n",
      "extracting corrections from files for Summer19UL18_V5_MC\n"
     ]
    },
    {
     "ename": "Exception",
     "evalue": "Failed processing file: WorkItem(dataset='/QCD_HT700to1000_TuneCH3_13TeV-madgraphMLM-herwig7/RunIISummer20UL18NanoAODv9-106X_upgrade2018_realistic_v16_L1v1-v1/NANOAODSIM', filename='root://cmseos.fnal.gov//store/mc/RunIISummer20UL18NanoAODv9/QCD_HT700to1000_TuneCH3_13TeV-madgraphMLM-herwig7/NANOAODSIM/106X_upgrade2018_realistic_v16_L1v1-v1/60000/509E8227-440A-8245-A875-5E8203F30BE6.root', treename='Events', entrystart=0, entrystop=110872, fileuuid=b'\\x10\\xc0\\xab$]\\xdb\\x11\\xed\\x98\\x90\\x074\\x9e\\x86\\xbe\\xef', usermeta={})",
     "output_type": "error",
     "traceback": [
      "\u001b[0;31m---------------------------------------------------------------------------\u001b[0m",
      "\u001b[0;31mException\u001b[0m                                 Traceback (most recent call last)",
      "Cell \u001b[0;32mIn[3], line 23\u001b[0m\n\u001b[1;32m     21\u001b[0m             pickle\u001b[38;5;241m.\u001b[39mdump( result, f)\n\u001b[1;32m     22\u001b[0m \u001b[38;5;28;01melse\u001b[39;00m:\n\u001b[0;32m---> 23\u001b[0m     result \u001b[38;5;241m=\u001b[39m \u001b[43mrunCoffeaJob\u001b[49m\u001b[43m(\u001b[49m\u001b[43mprocessor\u001b[49m\u001b[43m,\u001b[49m\u001b[43m \u001b[49m\u001b[43mjsonFile\u001b[49m\u001b[43m \u001b[49m\u001b[38;5;241;43m=\u001b[39;49m\u001b[43m \u001b[49m\u001b[43mfilename\u001b[49m\u001b[43m,\u001b[49m\u001b[43m \u001b[49m\u001b[43myear\u001b[49m\u001b[43m \u001b[49m\u001b[38;5;241;43m=\u001b[39;49m\u001b[43m \u001b[49m\u001b[43myear\u001b[49m\u001b[43m,\u001b[49m\n\u001b[1;32m     24\u001b[0m \u001b[43m                      \u001b[49m\u001b[43mtesting\u001b[49m\u001b[43m \u001b[49m\u001b[38;5;241;43m=\u001b[39;49m\u001b[43m \u001b[49m\u001b[43mtesting\u001b[49m\u001b[43m,\u001b[49m\u001b[43m \u001b[49m\u001b[43mdask\u001b[49m\u001b[43m \u001b[49m\u001b[38;5;241;43m=\u001b[39;49m\u001b[43m \u001b[49m\u001b[43mdask\u001b[49m\u001b[43m,\u001b[49m\u001b[43m \u001b[49m\u001b[43mdata\u001b[49m\u001b[43m \u001b[49m\u001b[38;5;241;43m=\u001b[39;49m\u001b[43m \u001b[49m\u001b[38;5;129;43;01mnot\u001b[39;49;00m\u001b[43m \u001b[49m\u001b[43mprocessor\u001b[49m\u001b[38;5;241;43m.\u001b[39;49m\u001b[43mdo_gen\u001b[49m\u001b[43m)\u001b[49m\n\u001b[1;32m     25\u001b[0m     \u001b[38;5;28;01mwith\u001b[39;00m \u001b[38;5;28mopen\u001b[39m(fname, \u001b[38;5;124m\"\u001b[39m\u001b[38;5;124mwb\u001b[39m\u001b[38;5;124m\"\u001b[39m) \u001b[38;5;28;01mas\u001b[39;00m f:\n\u001b[1;32m     26\u001b[0m         pickle\u001b[38;5;241m.\u001b[39mdump( result, f)\n",
      "File \u001b[0;32m/srv/python/plugins.py:211\u001b[0m, in \u001b[0;36mrunCoffeaJob\u001b[0;34m(processor_inst, jsonFile, dask, casa, testing, year, data, winterfell, verbose, datasetRange)\u001b[0m\n\u001b[1;32m    209\u001b[0m     \u001b[38;5;28;01mwith\u001b[39;00m warnings\u001b[38;5;241m.\u001b[39mcatch_warnings():\n\u001b[1;32m    210\u001b[0m                 warnings\u001b[38;5;241m.\u001b[39msimplefilter(\u001b[38;5;124m\"\u001b[39m\u001b[38;5;124mignore\u001b[39m\u001b[38;5;124m\"\u001b[39m)\n\u001b[0;32m--> 211\u001b[0m                 result \u001b[38;5;241m=\u001b[39m \u001b[43mrun_instance\u001b[49m\u001b[43m(\u001b[49m\u001b[43msamples\u001b[49m\u001b[43m,\u001b[49m\u001b[43m \u001b[49m\n\u001b[1;32m    212\u001b[0m \u001b[43m                                               \u001b[49m\u001b[38;5;124;43m\"\u001b[39;49m\u001b[38;5;124;43mEvents\u001b[39;49m\u001b[38;5;124;43m\"\u001b[39;49m\u001b[43m,\u001b[49m\n\u001b[1;32m    213\u001b[0m \u001b[43m                                               \u001b[49m\u001b[43mprocessor_instance\u001b[49m\u001b[38;5;241;43m=\u001b[39;49m\u001b[43mprocessor_inst\u001b[49m\u001b[43m,\u001b[49m\u001b[43m)\u001b[49m\n\u001b[1;32m    214\u001b[0m elapsed \u001b[38;5;241m=\u001b[39m time\u001b[38;5;241m.\u001b[39mtime() \u001b[38;5;241m-\u001b[39m tstart\n\u001b[1;32m    215\u001b[0m \u001b[38;5;28mprint\u001b[39m(result)\n",
      "File \u001b[0;32m/opt/conda/lib/python3.9/site-packages/coffea/processor/executor.py:1700\u001b[0m, in \u001b[0;36mRunner.__call__\u001b[0;34m(self, fileset, treename, processor_instance)\u001b[0m\n\u001b[1;32m   1679\u001b[0m \u001b[38;5;28;01mdef\u001b[39;00m\u001b[38;5;250m \u001b[39m\u001b[38;5;21m__call__\u001b[39m(\n\u001b[1;32m   1680\u001b[0m     \u001b[38;5;28mself\u001b[39m,\n\u001b[1;32m   1681\u001b[0m     fileset: Dict,\n\u001b[1;32m   1682\u001b[0m     treename: \u001b[38;5;28mstr\u001b[39m,\n\u001b[1;32m   1683\u001b[0m     processor_instance: ProcessorABC,\n\u001b[1;32m   1684\u001b[0m ) \u001b[38;5;241m-\u001b[39m\u001b[38;5;241m>\u001b[39m Accumulatable:\n\u001b[1;32m   1685\u001b[0m \u001b[38;5;250m    \u001b[39m\u001b[38;5;124;03m\"\"\"Run the processor_instance on a given fileset\u001b[39;00m\n\u001b[1;32m   1686\u001b[0m \n\u001b[1;32m   1687\u001b[0m \u001b[38;5;124;03m    Parameters\u001b[39;00m\n\u001b[0;32m   (...)\u001b[0m\n\u001b[1;32m   1697\u001b[0m \u001b[38;5;124;03m            An instance of a class deriving from ProcessorABC\u001b[39;00m\n\u001b[1;32m   1698\u001b[0m \u001b[38;5;124;03m    \"\"\"\u001b[39;00m\n\u001b[0;32m-> 1700\u001b[0m     wrapped_out \u001b[38;5;241m=\u001b[39m \u001b[38;5;28;43mself\u001b[39;49m\u001b[38;5;241;43m.\u001b[39;49m\u001b[43mrun\u001b[49m\u001b[43m(\u001b[49m\u001b[43mfileset\u001b[49m\u001b[43m,\u001b[49m\u001b[43m \u001b[49m\u001b[43mprocessor_instance\u001b[49m\u001b[43m,\u001b[49m\u001b[43m \u001b[49m\u001b[43mtreename\u001b[49m\u001b[43m)\u001b[49m\n\u001b[1;32m   1701\u001b[0m     \u001b[38;5;28;01mif\u001b[39;00m \u001b[38;5;28mself\u001b[39m\u001b[38;5;241m.\u001b[39muse_dataframes:\n\u001b[1;32m   1702\u001b[0m         \u001b[38;5;28;01mreturn\u001b[39;00m wrapped_out  \u001b[38;5;66;03m# not wrapped anymore\u001b[39;00m\n",
      "File \u001b[0;32m/opt/conda/lib/python3.9/site-packages/coffea/processor/executor.py:1848\u001b[0m, in \u001b[0;36mRunner.run\u001b[0;34m(self, fileset, processor_instance, treename)\u001b[0m\n\u001b[1;32m   1843\u001b[0m closure \u001b[38;5;241m=\u001b[39m partial(\n\u001b[1;32m   1844\u001b[0m     \u001b[38;5;28mself\u001b[39m\u001b[38;5;241m.\u001b[39mautomatic_retries, \u001b[38;5;28mself\u001b[39m\u001b[38;5;241m.\u001b[39mretries, \u001b[38;5;28mself\u001b[39m\u001b[38;5;241m.\u001b[39mskipbadfiles, closure\n\u001b[1;32m   1845\u001b[0m )\n\u001b[1;32m   1847\u001b[0m executor \u001b[38;5;241m=\u001b[39m \u001b[38;5;28mself\u001b[39m\u001b[38;5;241m.\u001b[39mexecutor\u001b[38;5;241m.\u001b[39mcopy(\u001b[38;5;241m*\u001b[39m\u001b[38;5;241m*\u001b[39mexe_args)\n\u001b[0;32m-> 1848\u001b[0m wrapped_out, e \u001b[38;5;241m=\u001b[39m \u001b[43mexecutor\u001b[49m\u001b[43m(\u001b[49m\u001b[43mchunks\u001b[49m\u001b[43m,\u001b[49m\u001b[43m \u001b[49m\u001b[43mclosure\u001b[49m\u001b[43m,\u001b[49m\u001b[43m \u001b[49m\u001b[38;5;28;43;01mNone\u001b[39;49;00m\u001b[43m)\u001b[49m\n\u001b[1;32m   1849\u001b[0m \u001b[38;5;28;01mif\u001b[39;00m wrapped_out \u001b[38;5;129;01mis\u001b[39;00m \u001b[38;5;28;01mNone\u001b[39;00m:\n\u001b[1;32m   1850\u001b[0m     \u001b[38;5;28;01mraise\u001b[39;00m \u001b[38;5;167;01mValueError\u001b[39;00m(\n\u001b[1;32m   1851\u001b[0m         \u001b[38;5;124m\"\u001b[39m\u001b[38;5;124mNo chunks returned results, verify ``processor`` instance structure.\u001b[39m\u001b[38;5;130;01m\\n\u001b[39;00m\u001b[38;5;130;01m\\\u001b[39;00m\n\u001b[1;32m   1852\u001b[0m \u001b[38;5;124m        if you used skipbadfiles=True, it is possible all your files are bad.\u001b[39m\u001b[38;5;124m\"\u001b[39m\n\u001b[1;32m   1853\u001b[0m     )\n",
      "File \u001b[0;32m/opt/conda/lib/python3.9/site-packages/coffea/processor/executor.py:817\u001b[0m, in \u001b[0;36mFuturesExecutor.__call__\u001b[0;34m(self, items, function, accumulator)\u001b[0m\n\u001b[1;32m    815\u001b[0m \u001b[38;5;28;01melse\u001b[39;00m:\n\u001b[1;32m    816\u001b[0m     mergepoolinstance \u001b[38;5;241m=\u001b[39m \u001b[38;5;28;01mNone\u001b[39;00m\n\u001b[0;32m--> 817\u001b[0m \u001b[38;5;28;01mreturn\u001b[39;00m \u001b[43m_processwith\u001b[49m\u001b[43m(\u001b[49m\u001b[43mpool\u001b[49m\u001b[38;5;241;43m=\u001b[39;49m\u001b[43mpoolinstance\u001b[49m\u001b[43m,\u001b[49m\u001b[43m \u001b[49m\u001b[43mmergepool\u001b[49m\u001b[38;5;241;43m=\u001b[39;49m\u001b[43mmergepoolinstance\u001b[49m\u001b[43m)\u001b[49m\n",
      "File \u001b[0;32m/opt/conda/lib/python3.9/site-packages/coffea/processor/executor.py:801\u001b[0m, in \u001b[0;36mFuturesExecutor.__call__.<locals>._processwith\u001b[0;34m(pool, mergepool)\u001b[0m\n\u001b[1;32m    799\u001b[0m     \u001b[38;5;28;01mreturn\u001b[39;00m accumulate([_decompress(merged), accumulator]), e\n\u001b[1;32m    800\u001b[0m \u001b[38;5;28;01melse\u001b[39;00m:\n\u001b[0;32m--> 801\u001b[0m     \u001b[38;5;28;01mraise\u001b[39;00m e \u001b[38;5;28;01mfrom\u001b[39;00m\u001b[38;5;250m \u001b[39m\u001b[38;5;28;01mNone\u001b[39;00m\n",
      "File \u001b[0;32m/opt/conda/lib/python3.9/site-packages/coffea/processor/executor.py:786\u001b[0m, in \u001b[0;36mFuturesExecutor.__call__.<locals>._processwith\u001b[0;34m(pool, mergepool)\u001b[0m\n\u001b[1;32m    784\u001b[0m \u001b[38;5;28;01mtry\u001b[39;00m:\n\u001b[1;32m    785\u001b[0m     \u001b[38;5;28;01mif\u001b[39;00m mergepool \u001b[38;5;129;01mis\u001b[39;00m \u001b[38;5;28;01mNone\u001b[39;00m:\n\u001b[0;32m--> 786\u001b[0m         merged \u001b[38;5;241m=\u001b[39m \u001b[43m_watcher\u001b[49m\u001b[43m(\u001b[49m\u001b[43mFH\u001b[49m\u001b[43m,\u001b[49m\u001b[43m \u001b[49m\u001b[38;5;28;43mself\u001b[39;49m\u001b[43m,\u001b[49m\u001b[43m \u001b[49m\u001b[43mreducer\u001b[49m\u001b[43m,\u001b[49m\u001b[43m \u001b[49m\u001b[43mpool\u001b[49m\u001b[43m)\u001b[49m\n\u001b[1;32m    787\u001b[0m     \u001b[38;5;28;01melse\u001b[39;00m:\n\u001b[1;32m    788\u001b[0m         merged \u001b[38;5;241m=\u001b[39m _watcher(FH, \u001b[38;5;28mself\u001b[39m, reducer, mergepool)\n",
      "File \u001b[0;32m/opt/conda/lib/python3.9/site-packages/coffea/processor/executor.py:402\u001b[0m, in \u001b[0;36m_watcher\u001b[0;34m(FH, executor, merge_fcn, pool)\u001b[0m\n\u001b[1;32m    396\u001b[0m             progress\u001b[38;5;241m.\u001b[39mupdate(\n\u001b[1;32m    397\u001b[0m                 p_idm,\n\u001b[1;32m    398\u001b[0m                 total\u001b[38;5;241m=\u001b[39mprogress\u001b[38;5;241m.\u001b[39m_tasks[p_idm]\u001b[38;5;241m.\u001b[39mtotal \u001b[38;5;241m+\u001b[39m \u001b[38;5;241m1\u001b[39m,\n\u001b[1;32m    399\u001b[0m                 refresh\u001b[38;5;241m=\u001b[39m\u001b[38;5;28;01mTrue\u001b[39;00m,\n\u001b[1;32m    400\u001b[0m             )\n\u001b[1;32m    401\u001b[0m     \u001b[38;5;28;01melse\u001b[39;00m:  \u001b[38;5;66;03m# Merge within process\u001b[39;00m\n\u001b[0;32m--> 402\u001b[0m         batch \u001b[38;5;241m=\u001b[39m \u001b[43mFH\u001b[49m\u001b[38;5;241;43m.\u001b[39;49m\u001b[43mfetch\u001b[49m\u001b[43m(\u001b[49m\u001b[38;5;28;43mlen\u001b[39;49m\u001b[43m(\u001b[49m\u001b[43mFH\u001b[49m\u001b[38;5;241;43m.\u001b[39;49m\u001b[43mcompleted\u001b[49m\u001b[43m)\u001b[49m\u001b[43m)\u001b[49m\n\u001b[1;32m    403\u001b[0m         merged \u001b[38;5;241m=\u001b[39m _compress(\n\u001b[1;32m    404\u001b[0m             accumulate(\n\u001b[1;32m    405\u001b[0m                 progress\u001b[38;5;241m.\u001b[39mtrack(\n\u001b[0;32m   (...)\u001b[0m\n\u001b[1;32m    412\u001b[0m             executor\u001b[38;5;241m.\u001b[39mcompression,\n\u001b[1;32m    413\u001b[0m         )\n\u001b[1;32m    414\u001b[0m \u001b[38;5;66;03m# Add checkpointing\u001b[39;00m\n",
      "File \u001b[0;32m/opt/conda/lib/python3.9/site-packages/coffea/processor/executor.py:286\u001b[0m, in \u001b[0;36m_FuturesHolder.fetch\u001b[0;34m(self, N)\u001b[0m\n\u001b[1;32m    284\u001b[0m bad_futures \u001b[38;5;241m=\u001b[39m [future \u001b[38;5;28;01mfor\u001b[39;00m future \u001b[38;5;129;01min\u001b[39;00m _completed \u001b[38;5;28;01mif\u001b[39;00m \u001b[38;5;129;01mnot\u001b[39;00m _good_future(future)]\n\u001b[1;32m    285\u001b[0m \u001b[38;5;28mself\u001b[39m\u001b[38;5;241m.\u001b[39mcompleted\u001b[38;5;241m.\u001b[39mupdate(good_futures)\n\u001b[0;32m--> 286\u001b[0m \u001b[38;5;28;01mraise\u001b[39;00m bad_futures[\u001b[38;5;241m0\u001b[39m]\u001b[38;5;241m.\u001b[39mexception()\n",
      "\u001b[0;31mException\u001b[0m: Failed processing file: WorkItem(dataset='/QCD_HT700to1000_TuneCH3_13TeV-madgraphMLM-herwig7/RunIISummer20UL18NanoAODv9-106X_upgrade2018_realistic_v16_L1v1-v1/NANOAODSIM', filename='root://cmseos.fnal.gov//store/mc/RunIISummer20UL18NanoAODv9/QCD_HT700to1000_TuneCH3_13TeV-madgraphMLM-herwig7/NANOAODSIM/106X_upgrade2018_realistic_v16_L1v1-v1/60000/509E8227-440A-8245-A875-5E8203F30BE6.root', treename='Events', entrystart=0, entrystop=110872, fileuuid=b'\\x10\\xc0\\xab$]\\xdb\\x11\\xed\\x98\\x90\\x074\\x9e\\x86\\xbe\\xef', usermeta={})"
     ]
    }
   ],
   "source": [
    "run_ind_srcs = False\n",
    "if run_ind_srcs == True:\n",
    "    for src in unc_srcs:\n",
    "        print(\"Running for source \", src)\n",
    "        processor = makeDijetHists(data = data, jet_systematics = [src])\n",
    "        result = runCoffeaJob(processor, jsonFile = filename, year = year, \n",
    "                              testing = testing, dask = dask, data = not processor.do_gen, datasetRange=range)\n",
    "        if testing and not data:\n",
    "            fname = 'coffeaOutput/dijet/dijetHistsTest_wXSscaling_{}_pt{}_rapidity{}_{}{}.pkl'.format(datastring, processor.ptcut, processor.ycut, src, year_str)\n",
    "        elif testing and data:\n",
    "            fname = 'coffeaOutput/dijet/dijetHistsTest{}_pt{}_rapidity{}_{}{}.pkl'.format(datastring, processor.ptcut, processor.ycut, src, year_str)\n",
    "        elif not testing and data:\n",
    "            fname = 'coffeaOutput/dijet/dijetHists_{}_pt{}_rapidity{}_{}{}.pkl'.format(datastring, processor.ptcut, processor.ycut, src, year_str)\n",
    "        else:\n",
    "            fname = 'coffeaOutput/dijet/dijetHists_wXSscaling_{}_pt{}_rapidity{}_{}{}.pkl'.format(datastring, processor.ptcut, processor.ycut, src, year_str)\n",
    "        if range!=None:\n",
    "            print(\"Range input: \", range)\n",
    "            fname=fname[:-4]+\"_\"+str(range[0])+\"_\"+str(range[1])+\".pkl\"\n",
    "            print(\"New ranged fname \", fname)\n",
    "        with open(fname, \"wb\") as f:\n",
    "            pickle.dump( result, f)\n",
    "else:\n",
    "    result = runCoffeaJob(processor, jsonFile = filename, year = year,\n",
    "                      testing = testing, dask = dask, data = not processor.do_gen)\n",
    "    with open(fname, \"wb\") as f:\n",
    "        pickle.dump( result, f)"
   ]
  },
  {
   "cell_type": "code",
   "execution_count": null,
   "id": "91cdf3f2",
   "metadata": {
    "tags": []
   },
   "outputs": [],
   "source": [
    "with open(fname, \"rb\") as f:\n",
    "    result = pickle.load( f )\n",
    "# result=result[0]\n",
    "import matplotlib.pyplot as plt\n",
    "import mplhep as hep\n",
    "plt.style.use(hep.style.CMS)\n",
    "%matplotlib inline\n",
    "\n",
    "plt.rcParams[\"figure.figsize\"] = (10,10)\n",
    "\n",
    "df = pd.DataFrame.from_dict(result['cutflow'])\n",
    "display(df)\n",
    "# print(df.keys())\n",
    "# for key in df.keys():\n",
    "#     display(df[key])"
   ]
  },
  {
   "cell_type": "code",
   "execution_count": null,
   "id": "0b80797b",
   "metadata": {
    "tags": []
   },
   "outputs": [],
   "source": [
    "fig, axs = plt.subplots(2, 2)\n",
    "fig.suptitle('Ungroomed MC jets')\n",
    "\n",
    "result['response_matrix_u'][{'syst':\"nominal\"}].project('ptreco').plot1d(ax=axs[0,0], binwnorm=True)\n",
    "result['response_rho_u'].project('rhogen').plot1d(ax=axs[0,1])\n",
    "result['response_rho_u'].project('rhoreco').plot1d(ax=axs[1,0], binwnorm=True)\n",
    "result['response_matrix_u'].project('mreco').plot1d(ax=axs[1,1])\n",
    "\n",
    "for ax in axs.flatten():\n",
    "    ax.set_xlim(0,1000)"
   ]
  },
  {
   "cell_type": "code",
   "execution_count": null,
   "id": "09a9a545-9648-4ae8-b43a-f9f05e7c5272",
   "metadata": {
    "tags": []
   },
   "outputs": [],
   "source": [
    "s = result['response_matrix_u'].stack(\"syst\")\n",
    "s.project('ptreco').plot(binwnorm=True)\n",
    "plt.legend()\n",
    "plt.show()"
   ]
  },
  {
   "cell_type": "code",
   "execution_count": null,
   "id": "26e46d9c-ad42-4f34-941b-95aa31b9197b",
   "metadata": {
    "tags": []
   },
   "outputs": [],
   "source": [
    "fname = \"coffeaOutput/dijet/dijetHistsTest_wXSscaling_QCDsim_pt200.0_rapidity2.5_nominal2018.pkl\"\n",
    "with open(fname, \"rb\") as f:\n",
    "    result = pickle.load( f )\n",
    "# result=result[0]\n",
    "import matplotlib.pyplot as plt\n",
    "%matplotlib inline\n",
    "#import mplhep as hep\n",
    "plt.rcParams[\"figure.figsize\"] = (10,10)"
   ]
  },
  {
   "cell_type": "code",
   "execution_count": null,
   "id": "b50f770f-e4a6-489e-81c9-7104f2a64a46",
   "metadata": {
    "tags": []
   },
   "outputs": [],
   "source": [
    "fig, axs = plt.subplots(2, 2)\n",
    "result['ptreco_mreco_u'].project('ptreco').plot1d(ax=axs[0,0], binwnorm=True)\n",
    "result['ptreco_mreco_u'].project('mreco').plot1d(ax=axs[0,1])\n",
    "result['ptreco_mreco_g'].project('ptreco').plot1d(ax=axs[1,0], binwnorm=True)\n",
    "result['ptreco_mreco_g'].project('mreco').plot1d(ax=axs[1,1])"
   ]
  },
  {
   "cell_type": "code",
   "execution_count": null,
   "id": "f4c6ac80-cccf-4423-b65e-35c204cc6f47",
   "metadata": {},
   "outputs": [],
   "source": [
    "fig, axs = plt.subplots(2, 2)\n",
    "for ax in axs.flatten():\n",
    "    ax.set_xlim([0,1000])\n",
    "fig.suptitle('Ungroomed Gen jets')\n",
    "result['ptgen_mgen_u'].project('ptgen').plot1d(ax=axs[0,0], binwnorm=True)\n",
    "result['ptgen_mgen_u'].project('mgen').plot1d(ax=axs[0,1])\n",
    "result['ptgen_mgen_g'].project('ptgen').plot1d(ax=axs[1,0], binwnorm=True)\n",
    "result['ptgen_mgen_g'].project('mgen').plot1d(ax=axs[1,1])"
   ]
  },
  {
   "cell_type": "code",
   "execution_count": null,
   "id": "2d701e4d-4861-4824-8cc8-756916354481",
   "metadata": {
    "tags": []
   },
   "outputs": [],
   "source": [
    "# numerator = result['jet_pt'][{'partonFlav':'Gluon'}].project('ptreco')\n",
    "# denominator = result['jet_pt'].project('ptreco')\n",
    "# print(numerator.values(), denominator.values())\n",
    "\n",
    "# numerator.label = r'$\\epsilon$'\n",
    "# fig = plt.gcf()\n",
    "# grid = fig.add_gridspec(2, 1, hspace=0, height_ratios=[3, 1])\n",
    "\n",
    "# main_ax = fig.add_subplot(grid[0])\n",
    "# subplot_ax = fig.add_subplot(grid[1], sharex=main_ax)\n",
    "# plt.setp(main_ax.get_xticklabels(), visible=False)\n",
    "# main_ax, sublot_ax = numerator.plot_ratio(\n",
    "#     denominator,\n",
    "#     rp_num_label=\"gluons\",\n",
    "#     rp_denom_label=\"all\",\n",
    "#     rp_uncert_draw_type=\"line\",\n",
    "#     rp_uncertainty_type=\"efficiency\",\n",
    "#     ax_dict = {\"main_ax\":main_ax,\"ratio_ax\":subplot_ax}\n",
    "# )\n",
    "\n",
    "# plt.xlabel(\"Pt (GeV)\")\n",
    "# plt.ylabel(\"Gluon fraction\")\n",
    "# fig.suptitle('Gluon content as a function of pT')"
   ]
  },
  {
   "cell_type": "code",
   "execution_count": null,
   "id": "aacad3c5",
   "metadata": {},
   "outputs": [],
   "source": [
    "# numerator = result['jet_eta'][{'partonFlav':'Gluon'}].project('eta')\n",
    "# denominator = result['jet_eta'].project('eta')\n",
    "# print(numerator.values(), denominator.values())\n",
    "# numerator.label = r'$\\epsilon$'\n",
    "# numerator.label = r'$\\epsilon$'\n",
    "# fig = plt.gcf()\n",
    "# grid = fig.add_gridspec(2, 1, hspace=0, height_ratios=[3, 1])\n",
    "\n",
    "# main_axis = fig.add_subplot(grid[0])\n",
    "# ratio_ax = fig.add_subplot(grid[1], sharex=main_axis)\n",
    "# plt.setp(main_axis.get_xticklabels(), visible=False)\n",
    "# main_ax, sublot_ax = numerator.plot_ratio(\n",
    "#     denominator,\n",
    "#     rp_num_label=\"gluons\",\n",
    "#     rp_denom_label=\"all\",\n",
    "#     rp_uncert_draw_type=\"line\",\n",
    "#     rp_uncertainty_type=\"efficiency\",\n",
    "#     ax_dict = {\"main_ax\":main_axis,\"ratio_ax\":ratio_ax}\n",
    "# )\n",
    "\n",
    "# plt.xlabel(r'$\\eta$')\n",
    "# plt.ylabel(\"Gluon fraction\")\n",
    "# main_axis.set_title('Gluon content as a function of eta')\n"
   ]
  },
  {
   "cell_type": "code",
   "execution_count": null,
   "id": "374e1fa7",
   "metadata": {},
   "outputs": [],
   "source": [
    "# #sum entries in bins --> plot as y-axis\n",
    "# plt.rcParams[\"figure.figsize\"] = (20,5)\n",
    "\n",
    "\n",
    "# fig, axs = plt.subplots(1, 3)\n",
    "# result['jet_mass'][{'jetNumb':sum, 'dataset':sum}].plot1d(ax = axs[0], overlay='partonFlav')\n",
    "# plt.rc('legend',fontsize='small')\n",
    "# plt.xlabel(\"Jet mass (GeV)\")\n",
    "# result['jet_pt'][{'jetNumb':sum, 'dataset':sum}].plot1d(ax = axs[1], overlay='partonFlav')\n",
    "# plt.rc('legend',fontsize='small')\n",
    "# #axs[0].set_xlabel(\"Jet mass (GeV)\")\n",
    "# plt.xlabel(\"Jet pT (GeV)\")\n",
    "# result['jet_eta'][{'jetNumb':sum, 'dataset':sum}].plot1d(ax = axs[2], overlay='partonFlav')\n",
    "# plt.rc('legend',fontsize='small')\n",
    "# plt.legend()\n",
    "# plt.xlabel(\"Jet eta (GeV)\")\n",
    "\n",
    "# fig.suptitle('Dijet eta <2.5, pt> 200.', fontsize=\"large\")"
   ]
  },
  {
   "cell_type": "code",
   "execution_count": null,
   "id": "6238fc43",
   "metadata": {},
   "outputs": [],
   "source": [
    "# plt.rcParams[\"figure.figsize\"] = (20,10)\n",
    "# fig, axs = plt.subplots(2, 3)\n",
    "# print(result['jet_mass'])\n",
    "# result['jet_mass'][{'jetNumb':'jet1', 'dataset':sum}].plot1d(ax = axs[0,0], overlay='partonFlav')\n",
    "# plt.rc('legend',fontsize='small')\n",
    "# plt.xlabel(\"Jet mass (GeV)\")\n",
    "# result['jet_pt'][{'jetNumb':'jet1', 'dataset':sum}].plot1d(ax = axs[0,1], overlay='partonFlav')\n",
    "# plt.rc('legend',fontsize='small')\n",
    "# #axs[0].set_xlabel(\"Jet mass (GeV)\")\n",
    "# plt.xlabel(\"Jet pT (GeV)\")\n",
    "# result['jet_eta'][{'jetNumb':'jet1', 'dataset':sum}].plot1d(ax = axs[0,2], overlay='partonFlav')\n",
    "# plt.rc('legend',fontsize='small')\n",
    "# plt.legend()\n",
    "# plt.xlabel(\"Jet eta (GeV)\")\n",
    "# result['jet_mass'][{'jetNumb':'jet2', 'dataset':sum}].plot1d(ax = axs[1,0], overlay='partonFlav')\n",
    "# plt.rc('legend',fontsize='small')\n",
    "# plt.xlabel(\"Jet mass (GeV)\")\n",
    "# result['jet_pt'][{'jetNumb':'jet2', 'dataset':sum}].plot1d(ax = axs[1,1], overlay='partonFlav')\n",
    "# plt.rc('legend',fontsize='small')\n",
    "# #axs[0].set_xlabel(\"Jet mass (GeV)\")\n",
    "# plt.xlabel(\"Jet pT (GeV)\")\n",
    "# result['jet_eta'][{'jetNumb':'jet2', 'dataset':sum}].plot1d(ax = axs[1,2], overlay='partonFlav')\n",
    "# plt.rc('legend',fontsize='small')\n",
    "# plt.legend()\n",
    "# plt.xlabel(\"Jet eta (GeV)\")\n",
    "# fig.suptitle('Dijet eta <2.5, pt> 200.', fontsize=\"large\")"
   ]
  },
  {
   "cell_type": "code",
   "execution_count": null,
   "id": "f2fd10c5",
   "metadata": {},
   "outputs": [],
   "source": [
    "# njets=result['cutflow']['nJets']\n",
    "# ngluonjets=result['cutflow']['nGluonJets']\n",
    "# print(result['cutflow'])\n",
    "# print(\"Gluon purity:\", ngluonjets/njets)"
   ]
  },
  {
   "cell_type": "code",
   "execution_count": null,
   "id": "d84a6515",
   "metadata": {},
   "outputs": [],
   "source": [
    "response_matrix_u_values = result['response_matrix_u'].project(\"ptreco\", \"mreco\", \"ptgen\", \"mgen\").values()\n",
    "response_matrix_g_values = result['response_matrix_g'].project(\"ptreco\", \"mreco\", \"ptgen\", \"mgen\").values()"
   ]
  },
  {
   "cell_type": "code",
   "execution_count": null,
   "id": "5f0b008d",
   "metadata": {},
   "outputs": [],
   "source": [
    "nptreco,nmassreco,nptgen,nmassgen = response_matrix_u_values.shape"
   ]
  },
  {
   "cell_type": "code",
   "execution_count": null,
   "id": "b0f4aaa0",
   "metadata": {},
   "outputs": [],
   "source": [
    "response_matrix_u_final = response_matrix_u_values.reshape( (nptreco)*(nmassreco), (nptgen)*(nmassgen) )\n",
    "print(ak.max(response_matrix_u_final))"
   ]
  },
  {
   "cell_type": "code",
   "execution_count": null,
   "id": "f89f6894",
   "metadata": {},
   "outputs": [],
   "source": [
    "response_matrix_g_final = response_matrix_g_values.reshape( (nptreco)*(nmassreco), (nptgen)*(nmassgen) )"
   ]
  },
  {
   "cell_type": "code",
   "execution_count": null,
   "id": "94a15a8b",
   "metadata": {},
   "outputs": [],
   "source": [
    "plt.rcParams[\"figure.figsize\"] = (20,20)\n",
    "fig, axs = plt.subplots(2, 2)\n",
    "axs[0,0].imshow( np.log(response_matrix_u_final+1), aspect=\"auto\", cmap=\"Blues\", interpolation='nearest' )\n",
    "axs[1,1].imshow( np.log(response_matrix_g_final+1), aspect=\"auto\", cmap=\"Blues\", interpolation='nearest' )\n",
    "plt.xlabel(\"RECO\", fontsize=20)\n",
    "plt.ylabel(\"GEN\", fontsize=20)\n",
    "plt.tick_params(labelsize=20)"
   ]
  },
  {
   "cell_type": "code",
   "execution_count": null,
   "id": "428de191",
   "metadata": {},
   "outputs": [],
   "source": [
    "plt.figure(figsize = (40,80))\n",
    "plt.imshow( np.log(response_matrix_g_final+1), aspect=\"equal\", cmap=\"Blues\" )\n",
    "plt.xlabel(\"RECO\", fontsize=50)\n",
    "plt.ylabel(\"GEN\", fontsize=50)\n",
    "plt.tick_params(labelsize=40)"
   ]
  },
  {
   "cell_type": "code",
   "execution_count": null,
   "id": "355566c2",
   "metadata": {},
   "outputs": [],
   "source": [
    "plt.figure(figsize = (40,80))\n",
    "plt.imshow( response_matrix_u_final, aspect=\"equal\", cmap=\"Blues\" )\n",
    "plt.xlabel(\"RECO\", fontsize=50)\n",
    "plt.ylabel(\"GEN\", fontsize=50)\n",
    "plt.tick_params(labelsize=40)"
   ]
  },
  {
   "cell_type": "code",
   "execution_count": null,
   "id": "3c84c772-e262-47f4-b810-aa2844c1a904",
   "metadata": {},
   "outputs": [],
   "source": []
  },
  {
   "cell_type": "code",
   "execution_count": null,
   "id": "761a514a",
   "metadata": {},
   "outputs": [],
   "source": []
  },
  {
   "cell_type": "raw",
   "id": "ad536ec1-3bd8-487c-846f-e8a01a134f10",
   "metadata": {},
   "source": []
  },
  {
   "cell_type": "raw",
   "id": "0315c073-ad37-44a8-bdfb-519b2b94c079",
   "metadata": {},
   "source": []
  }
 ],
 "metadata": {
  "kernelspec": {
   "display_name": "Python 3 (ipykernel)",
   "language": "python",
   "name": "python3"
  },
  "language_info": {
   "codemirror_mode": {
    "name": "ipython",
    "version": 3
   },
   "file_extension": ".py",
   "mimetype": "text/x-python",
   "name": "python",
   "nbconvert_exporter": "python",
   "pygments_lexer": "ipython3",
   "version": "3.9.15"
  }
 },
 "nbformat": 4,
 "nbformat_minor": 5
}

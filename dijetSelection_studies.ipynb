{
 "cells": [
  {
   "cell_type": "code",
   "execution_count": 1,
   "id": "c1d30278",
   "metadata": {},
   "outputs": [
    {
     "name": "stdout",
     "output_type": "stream",
     "text": [
      "0.7.21\n",
      "['SoftActivityJetNjets2', 'genWeight', 'L1PreFiringWeight', 'FsrPhoton', 'SubGenJetAK8', 'ChsMET', 'LHEScaleWeight', 'GenVtx', 'GenDressedLepton', 'PSWeight', 'LHEPart', 'L1Reco', 'event', 'TrigObj', 'boostedTau', 'GenPart', 'DeepMETResponseTune', 'DeepMETResolutionTune', 'FatJet', 'SoftActivityJetHT10', 'Generator', 'RawPuppiMET', 'fixedGridRhoFastjetAll', 'HLTriggerFirstPath', 'Photon', 'Flag', 'genTtbarId', 'CaloMET', 'LHEReweightingWeight', 'SubJet', 'L1', 'Muon', 'Electron', 'LHE', 'luminosityBlock', 'fixedGridRhoFastjetCentralNeutral', 'LHEWeight', 'MET', 'L1simulation', 'RawMET', 'GenMET', 'SoftActivityJetNjets10', 'LHEPdfWeight', 'SoftActivityJetHT5', 'fixedGridRhoFastjetCentral', 'Tau', 'SV', 'PuppiMET', 'LowPtElectron', 'Pileup', 'fixedGridRhoFastjetCentralChargedPileUp', 'btagWeight', 'GenIsolatedPhoton', 'GenJetAK8', 'GenJet', 'fixedGridRhoFastjetCentralCalo', 'run', 'SoftActivityJetHT', 'TkMET', 'Jet', 'OtherPV', 'SoftActivityJetNjets5', 'GenVisTau', 'PV', 'SoftActivityJet', 'IsoTrack', 'HLT', 'HTXS', 'HLTriggerFinalPath', 'SoftActivityJetHT2', 'CorrT1METJet']\n"
     ]
    }
   ],
   "source": [
    "import awkward as ak\n",
    "import numpy as np\n",
    "import coffea\n",
    "import os\n",
    "from python.plugins import *\n",
    "\n",
    "print(coffea.__version__)\n",
    "from coffea.nanoevents import NanoEventsFactory, NanoAODSchema\n",
    "\n",
    "import hist\n",
    "\n",
    "# testFiles = [\n",
    "# \"root://cmsxrootd.fnal.gov//store/mc/RunIISummer20UL17NanoAODv9/QCD_Pt_170to300_TuneCP5_13TeV_pythia8/NANOAODSIM/106X_mc2017_realistic_v9-v1/120000/0CDD30E0-B953-E54B-BB7A-BFB45BE6EC93.root\",\n",
    "# \"root://cmsxrootd.fnal.gov//store/mc/RunIISummer20UL17NanoAODv9/QCD_Pt_300to470_TuneCP5_13TeV_pythia8/NANOAODSIM/106X_mc2017_realistic_v9-v1/120000/3788BBD3-3B70-BE48-B01A-4FA395E1E0B6.root\",\n",
    "# \"root://cmsxrootd.fnal.gov//store/mc/RunIISummer20UL17NanoAODv9/QCD_Pt_470to600_TuneCP5_13TeV_pythia8/NANOAODSIM/106X_mc2017_realistic_v9-v1/70000/F6B6A983-3E2B-7B4D-A2CE-E03AB6E32387.root\",\n",
    "# \"root://cmsxrootd.fnal.gov//store/mc/RunIISummer20UL17NanoAODv9/QCD_Pt_600to800_TuneCP5_13TeV_pythia8/NANOAODSIM/106X_mc2017_realistic_v9-v1/70000/FDF7FBE4-9226-994A-BD45-29995A3CD62F.root\",\n",
    "# \"root://cmsxrootd.fnal.gov//store/mc/RunIISummer20UL17NanoAODv9/QCD_Pt_800to1000_TuneCP5_13TeV_pythia8/NANOAODSIM/106X_mc2017_realistic_v9-v1/70000/2CEB03D7-5B1A-EE46-9C21-13ED3E349AF4.root\",\n",
    "# \"root://cmsxrootd.fnal.gov//store/mc/RunIISummer20UL17NanoAODv9/QCD_Pt_1000to1400_TuneCP5_13TeV_pythia8/NANOAODSIM/106X_mc2017_realistic_v9-v1/70000/DB87A517-0584-1A41-BB18-AAE7C9AAE5B8.root\",\n",
    "# \"root://cmsxrootd.fnal.gov//store/mc/RunIISummer20UL17NanoAODv9/QCD_Pt_1400to1800_TuneCP5_13TeV_pythia8/NANOAODSIM/106X_mc2017_realistic_v9-v1/280000/BFE2E7E9-82CB-FE47-9B43-EBA5C373AF60.root\",\n",
    "# \"root://cmsxrootd.fnal.gov//store/mc/RunIISummer20UL17NanoAODv9/QCD_Pt_1800to2400_TuneCP5_13TeV_pythia8/NANOAODSIM/106X_mc2017_realistic_v9-v1/70000/5213B536-BAA1-CC43-A58A-B1E41E2680F5.root\",\n",
    "# \"root://cmsxrootd.fnal.gov//store/mc/RunIISummer20UL17NanoAODv9/QCD_Pt_2400to3200_TuneCP5_13TeV_pythia8/NANOAODSIM/106X_mc2017_realistic_v9-v1/280000/E8400F91-3216-EA46-A9F1-8CC7EF5261B0.root\",\n",
    "# \"root://cmsxrootd.fnal.gov//store/mc/RunIISummer20UL17NanoAODv9/QCD_Pt_3200toInf_TuneCP5_13TeV_pythia8/NANOAODSIM/106X_mc2017_realistic_v9-v1/280000/B21BFDD8-B878-784C-AFB6-5CDE131F5C39.root\"\n",
    "# ]\n",
    "# redirector = 'root://xcache/'\n",
    "# redirector='root://xrootd-local.unl.edu:1094/'\n",
    "redirector = 'root://cmsxrootd.fnal.gov/'\n",
    "# files = handleData('fileset_QCD.json', redirector, testing = True, data = False)\n",
    "# files_test = handleData('fileset_QCD.json', redirector, testing = False, data = False)\n",
    "# events = NanoEventsFactory.from_root(redirector+\"/store/mc/RunIISummer20UL18NanoAODv9/QCD_Pt_1000to1400_TuneCP5_13TeV_pythia8/NANOAODSIM/106X_upgrade2018_realistic_v16_L1v1-v1/280000/C9729B80-15C9-3940-972D-AB1E7610CE6D.root\", schemaclass=NanoAODSchema).events()\n",
    "events = NanoEventsFactory.from_root('root://dcache-cms-webdav-wan.desy.de//store/mc/RunIISummer20UL18NanoAODv9/QCD_HT500to700_TuneCP5_13TeV-madgraphMLM-pythia8/NANOAODSIM/106X_upgrade2018_realistic_v16_L1v1-v1/2830000/B2274B18-771C-EE42-A40D-6D73156FC39F.root', schemaclass=NanoAODSchema).events()\n",
    "# print(\"Data L1 Prefiring weights\", events['L1PreFiringWeight'].Nom)\n",
    "# print(events.fields)/store/data/Run2016F/JetHT/NANOAOD/UL2016_MiniAODv2_NanoAODv9-v1/70000/F901FFB3-64AA-A349-A162-36D029C626DC.root\n",
    "# print(events.Generator.fields)\n",
    "# # print(\"MC prefiring weights \", events['L1PreFiringWeight'].Nom)\n",
    "# print(ak.with_name(events.GenJetAK8[[\"pt\", \"eta\", \"phi\", \"mass\"]],\"PtEtaPhiMLorentzVector\"))\n",
    "# AK8_HLTs = ['AK8PFJet60', 'AK8PFJet80', 'AK8PFJet140', 'AK8PFJet200', 'AK8PFJet260', 'AK8PFJet320', 'AK8PFJet400', 'AK8PFJet450', 'AK8PFJet500', 'AK8PFJet550']\n",
    "# print(ak.sum(events[events.run==302493].HLT['AK8PFJet40']))\n",
    "# print(ak.sum(events[events.run==302493].HLT['AK8PFJet60']))\n",
    "# print(ak.sum(events[events.run==302493].HLT['PFJet40']))\n",
    "# print(ak.sum(events[events.run==302493].HLT['PFJet60']))\n",
    "# print(len(events[events.run==302493]))\n",
    "print(events.fields)\n",
    "# print(len(events\n",
    "# import uproot\n",
    "# # ### uproot notation\n",
    "# # qcd_mc = uproot.open(list(files.values())[-1][0])\n",
    "# qcd_mc = uproot.open(redirector+\"/store/mc/RunIISummer20UL17NanoAODv9/QCD_Pt_3200toInf_TuneCP5_13TeV_pythia8/NANOAODSIM/106X_mc2017_realistic_v9-v1/280000/B21BFDD8-B878-784C-AFB6-5CDE131F5C39.root\")\n",
    "# uprootevents = qcd_mc['Events']\n",
    "# print(uprootevents.keys('subjet'))"
   ]
  },
  {
   "cell_type": "code",
   "execution_count": 2,
   "id": "1f9eed95",
   "metadata": {},
   "outputs": [
    {
     "name": "stdout",
     "output_type": "stream",
     "text": [
      "0.7.21\n",
      "2.7.2\n",
      "Data: Gen:  False True\n"
     ]
    }
   ],
   "source": [
    "from python.dijetProcessor import makeDijetHists\n",
    "from dask.distributed import Client\n",
    "import pickle\n",
    "#### WE'RE MISSING 2016B ver2 -- AK8 PF HLT is missing need to use AK4 trigger isntead\n",
    "data = False\n",
    "winterfell = False\n",
    "dask = True\n",
    "testing = False\n",
    "year = \"2018\"\n",
    "range = None\n",
    "mctype=\"pythia\"\n",
    "processor = makeDijetHists(data = data, jet_systematics = [\"nominal\", \"JMR\", \"JMS\"]) #, systematics = ['LHEPDF']\n",
    "datastring = \"JetHT\" if processor.do_gen == False else \"QCDsim\"\n",
    "if year == 2016 or year == 2017 or year == 2018:\n",
    "    year_str = str(year)\n",
    "elif year == \"2016\" or year == \"2016APV\" or year == \"2017\" or year == \"2018\":\n",
    "    year_str = year\n",
    "else:\n",
    "    year_str = \"All\"\n",
    "if processor.do_gen==True and winterfell:\n",
    "    filename = \"QCD_flat_files.json\"\n",
    "elif processor.do_gen==True:\n",
    "    # filename = \"fileset_QCD.json\"\n",
    "    if mctype == \"pythiaMG\":\n",
    "        filename = \"fileset_QCD_madgraphMLM_pythia8.json\"\n",
    "    elif mctype == \"herwig\":\n",
    "        filename = \"fileset_HERWIG_wRedirs.json\"\n",
    "    else:\n",
    "        filename = \"fileset_QCD_wRedirs.json\"\n",
    "else:\n",
    "    # filename = \"datasets_UL_NANOAOD.json\"\n",
    "    filename = \"fileset_JetHT_wRedirs.json\"\n",
    "if testing and not data:\n",
    "    fname = 'coffeaOutput/dijet/dijetHistsTest_wXSscaling_{}_newMandPtBins_rapidity{}_{}_{}{}.pkl'.format(datastring, processor.ycut, mctype, processor.jet_systematics[0],year_str)\n",
    "elif testing and data:\n",
    "    fname = 'coffeaOutput/dijet/dijetHistsTest{}_newMandPtBins2_rapidity{}_{}_{}{}.pkl'.format(datastring, processor.ycut, mctype, processor.jet_systematics[0],year_str)\n",
    "elif not testing and data:\n",
    "    fname = 'coffeaOutput/dijet/dijetHists_{}_newMandPtBins2_rapidity{}_{}_{}{}.pkl'.format(datastring, processor.ycut, processor.jet_systematics[0], mctype, year_str)\n",
    "else:\n",
    "    fname = 'coffeaOutput/dijet/dijetHists_wXSscaling_{}_{}_newMandPtBins_rapidity{}_{}{}.pkl'.format(datastring, processor.ycut, mctype, processor.jet_systematics[0], year_str)\n",
    "if range!=None:\n",
    "    print(\"Range input: \", range)\n",
    "    fname=fname[:-4]+\"_\"+str(range[0])+\"_\"+str(range[1])+\".pkl\"\n",
    "    print(\"New ranged fname \", fname)"
   ]
  },
  {
   "cell_type": "code",
   "execution_count": 3,
   "id": "2c55f74b",
   "metadata": {
    "scrolled": true
   },
   "outputs": [
    {
     "name": "stdout",
     "output_type": "stream",
     "text": [
      "Running over datasets  dict_keys(['/QCD_Pt_1000to1400_TuneCP5_13TeV_pythia8/RunIISummer20UL18NanoAODv9-106X_upgrade2018_realistic_v16_L1v1-v1/NANOAODSIM', '/QCD_Pt_1400to1800_TuneCP5_13TeV_pythia8/RunIISummer20UL18NanoAODv9-106X_upgrade2018_realistic_v16_L1v1-v1/NANOAODSIM', '/QCD_Pt_170to300_TuneCP5_13TeV_pythia8/RunIISummer20UL18NanoAODv9-106X_upgrade2018_realistic_v16_L1v1-v1/NANOAODSIM', '/QCD_Pt_1800to2400_TuneCP5_13TeV_pythia8/RunIISummer20UL18NanoAODv9-106X_upgrade2018_realistic_v16_L1v1-v1/NANOAODSIM', '/QCD_Pt_2400to3200_TuneCP5_13TeV_pythia8/RunIISummer20UL18NanoAODv9-106X_upgrade2018_realistic_v16_L1v1-v1/NANOAODSIM', '/QCD_Pt_300to470_TuneCP5_13TeV_pythia8/RunIISummer20UL18NanoAODv9-106X_upgrade2018_realistic_v16_L1v1-v1/NANOAODSIM', '/QCD_Pt_3200toInf_TuneCP5_13TeV_pythia8/RunIISummer20UL18NanoAODv9-106X_upgrade2018_realistic_v16_L1v1-v1/NANOAODSIM', '/QCD_Pt_470to600_TuneCP5_13TeV_pythia8/RunIISummer20UL18NanoAODv9-106X_upgrade2018_realistic_v16_L1v1-v1/NANOAODSIM', '/QCD_Pt_600to800_TuneCP5_13TeV_pythia8/RunIISummer20UL18NanoAODv9-106X_upgrade2018_realistic_v16_L1v1-v1/NANOAODSIM', '/QCD_Pt_800to1000_TuneCP5_13TeV_pythia8/RunIISummer20UL18NanoAODv9-106X_upgrade2018_realistic_v16_L1v1-v1/NANOAODSIM'])\n",
      "Running on LPC Condor\n"
     ]
    },
    {
     "ename": "RuntimeError",
     "evalue": "No pool nodes could be contacted",
     "output_type": "error",
     "traceback": [
      "\u001b[0;31m---------------------------------------------------------------------------\u001b[0m",
      "\u001b[0;31mRuntimeError\u001b[0m                              Traceback (most recent call last)",
      "Cell \u001b[0;32mIn[3], line 30\u001b[0m\n\u001b[1;32m     28\u001b[0m             pickle\u001b[38;5;241m.\u001b[39mdump( result, f)\n\u001b[1;32m     29\u001b[0m \u001b[38;5;28;01melse\u001b[39;00m:\n\u001b[0;32m---> 30\u001b[0m     result \u001b[38;5;241m=\u001b[39m \u001b[43mrunCoffeaJob\u001b[49m\u001b[43m(\u001b[49m\u001b[43mprocessor\u001b[49m\u001b[43m,\u001b[49m\u001b[43m \u001b[49m\u001b[43mjsonFile\u001b[49m\u001b[43m \u001b[49m\u001b[38;5;241;43m=\u001b[39;49m\u001b[43m \u001b[49m\u001b[43mfilename\u001b[49m\u001b[43m,\u001b[49m\u001b[43m \u001b[49m\u001b[43mwinterfell\u001b[49m\u001b[43m \u001b[49m\u001b[38;5;241;43m=\u001b[39;49m\u001b[43m \u001b[49m\u001b[43mwinterfell\u001b[49m\u001b[43m,\u001b[49m\u001b[43m \u001b[49m\u001b[43myear\u001b[49m\u001b[43m \u001b[49m\u001b[38;5;241;43m=\u001b[39;49m\u001b[43m \u001b[49m\u001b[43myear\u001b[49m\u001b[43m,\u001b[49m\n\u001b[1;32m     31\u001b[0m \u001b[43m                      \u001b[49m\u001b[43mtesting\u001b[49m\u001b[43m \u001b[49m\u001b[38;5;241;43m=\u001b[39;49m\u001b[43m \u001b[49m\u001b[43mtesting\u001b[49m\u001b[43m,\u001b[49m\u001b[43m \u001b[49m\u001b[43mdask\u001b[49m\u001b[43m \u001b[49m\u001b[38;5;241;43m=\u001b[39;49m\u001b[43m \u001b[49m\u001b[43mdask\u001b[49m\u001b[43m,\u001b[49m\u001b[43m \u001b[49m\u001b[43mdata\u001b[49m\u001b[43m \u001b[49m\u001b[38;5;241;43m=\u001b[39;49m\u001b[43m \u001b[49m\u001b[38;5;129;43;01mnot\u001b[39;49;00m\u001b[43m \u001b[49m\u001b[43mprocessor\u001b[49m\u001b[38;5;241;43m.\u001b[39;49m\u001b[43mdo_gen\u001b[49m\u001b[43m)\u001b[49m\n\u001b[1;32m     32\u001b[0m     \u001b[38;5;28;01mwith\u001b[39;00m \u001b[38;5;28mopen\u001b[39m(fname, \u001b[38;5;124m\"\u001b[39m\u001b[38;5;124mwb\u001b[39m\u001b[38;5;124m\"\u001b[39m) \u001b[38;5;28;01mas\u001b[39;00m f:\n\u001b[1;32m     33\u001b[0m         pickle\u001b[38;5;241m.\u001b[39mdump( result, f)\n",
      "File \u001b[0;32m/srv/python/plugins.py:150\u001b[0m, in \u001b[0;36mrunCoffeaJob\u001b[0;34m(processor_inst, jsonFile, dask, casa, testing, year, data, winterfell, verbose, datasetRange)\u001b[0m\n\u001b[1;32m    148\u001b[0m \u001b[38;5;28;01melif\u001b[39;00m casa \u001b[38;5;241m==\u001b[39m \u001b[38;5;28;01mFalse\u001b[39;00m \u001b[38;5;129;01mand\u001b[39;00m dask:\n\u001b[1;32m    149\u001b[0m     \u001b[38;5;28mprint\u001b[39m(\u001b[38;5;124m\"\u001b[39m\u001b[38;5;124mRunning on LPC Condor\u001b[39m\u001b[38;5;124m\"\u001b[39m)\n\u001b[0;32m--> 150\u001b[0m     \u001b[38;5;28;01mfrom\u001b[39;00m \u001b[38;5;21;01mlpcjobqueue\u001b[39;00m \u001b[38;5;28;01mimport\u001b[39;00m LPCCondorCluster\n\u001b[1;32m    151\u001b[0m     \u001b[38;5;66;03m#### make list of files and directories to upload to dask\u001b[39;00m\n\u001b[1;32m    152\u001b[0m     upload_to_dask \u001b[38;5;241m=\u001b[39m [\u001b[38;5;124m'\u001b[39m\u001b[38;5;124mcorrectionFiles\u001b[39m\u001b[38;5;124m'\u001b[39m, \u001b[38;5;124m'\u001b[39m\u001b[38;5;124mpython\u001b[39m\u001b[38;5;124m'\u001b[39m]\n",
      "File \u001b[0;32m/srv/python/.env/lib/python3.10/site-packages/lpcjobqueue/__init__.py:4\u001b[0m\n\u001b[1;32m      1\u001b[0m \u001b[38;5;124;03m\"\"\"A dask-jobqueue plugin for the LPC Condor queue\u001b[39;00m\n\u001b[1;32m      2\u001b[0m \u001b[38;5;124;03m\"\"\"\u001b[39;00m\n\u001b[1;32m      3\u001b[0m \u001b[38;5;28;01mfrom\u001b[39;00m \u001b[38;5;21;01m.\u001b[39;00m\u001b[38;5;21;01mversion\u001b[39;00m \u001b[38;5;28;01mimport\u001b[39;00m version \u001b[38;5;28;01mas\u001b[39;00m __version__\n\u001b[0;32m----> 4\u001b[0m \u001b[38;5;28;01mfrom\u001b[39;00m \u001b[38;5;21;01m.\u001b[39;00m\u001b[38;5;21;01mcluster\u001b[39;00m \u001b[38;5;28;01mimport\u001b[39;00m LPCCondorJob, LPCCondorCluster\n\u001b[1;32m      6\u001b[0m __all__ \u001b[38;5;241m=\u001b[39m [\u001b[38;5;124m\"\u001b[39m\u001b[38;5;124m__version__\u001b[39m\u001b[38;5;124m\"\u001b[39m, \u001b[38;5;124m\"\u001b[39m\u001b[38;5;124mLPCCondorJob\u001b[39m\u001b[38;5;124m\"\u001b[39m, \u001b[38;5;124m\"\u001b[39m\u001b[38;5;124mLPCCondorCluster\u001b[39m\u001b[38;5;124m\"\u001b[39m]\n",
      "File \u001b[0;32m/srv/python/.env/lib/python3.10/site-packages/lpcjobqueue/cluster.py:19\u001b[0m\n\u001b[1;32m     12\u001b[0m \u001b[38;5;28;01mfrom\u001b[39;00m \u001b[38;5;21;01mdistributed\u001b[39;00m\u001b[38;5;21;01m.\u001b[39;00m\u001b[38;5;21;01mcore\u001b[39;00m \u001b[38;5;28;01mimport\u001b[39;00m Status\n\u001b[1;32m     13\u001b[0m \u001b[38;5;28;01mfrom\u001b[39;00m \u001b[38;5;21;01mdask_jobqueue\u001b[39;00m\u001b[38;5;21;01m.\u001b[39;00m\u001b[38;5;21;01mhtcondor\u001b[39;00m \u001b[38;5;28;01mimport\u001b[39;00m (\n\u001b[1;32m     14\u001b[0m     HTCondorCluster,\n\u001b[1;32m     15\u001b[0m     HTCondorJob,\n\u001b[1;32m     16\u001b[0m     quote_arguments,\n\u001b[1;32m     17\u001b[0m     quote_environment,\n\u001b[1;32m     18\u001b[0m )\n\u001b[0;32m---> 19\u001b[0m \u001b[38;5;28;01mfrom\u001b[39;00m \u001b[38;5;21;01m.\u001b[39;00m\u001b[38;5;21;01mschedd\u001b[39;00m \u001b[38;5;28;01mimport\u001b[39;00m htcondor, SCHEDD\n\u001b[1;32m     20\u001b[0m \u001b[38;5;28;01mimport\u001b[39;00m \u001b[38;5;21;01mlpcjobqueue\u001b[39;00m\u001b[38;5;21;01m.\u001b[39;00m\u001b[38;5;21;01mpatch\u001b[39;00m  \u001b[38;5;66;03m# noqa: F401\u001b[39;00m\n\u001b[1;32m     23\u001b[0m logger \u001b[38;5;241m=\u001b[39m logging\u001b[38;5;241m.\u001b[39mgetLogger(\u001b[38;5;18m__name__\u001b[39m)\n",
      "File \u001b[0;32m/srv/python/.env/lib/python3.10/site-packages/lpcjobqueue/schedd.py:78\u001b[0m\n\u001b[1;32m     72\u001b[0m     \u001b[38;5;28;01mreturn\u001b[39;00m htcondor\u001b[38;5;241m.\u001b[39mSchedd(schedd)\n\u001b[1;32m     75\u001b[0m \u001b[38;5;66;03m# Pick a schedd once on import\u001b[39;00m\n\u001b[1;32m     76\u001b[0m \u001b[38;5;66;03m# Would prefer one per cluster but there is a quite scary weakref.finalize\u001b[39;00m\n\u001b[1;32m     77\u001b[0m \u001b[38;5;66;03m# that depends on it\u001b[39;00m\n\u001b[0;32m---> 78\u001b[0m SCHEDD \u001b[38;5;241m=\u001b[39m \u001b[43macquire_schedd\u001b[49m\u001b[43m(\u001b[49m\u001b[43m)\u001b[49m\n",
      "File \u001b[0;32m/srv/python/.env/lib/python3.10/site-packages/lpcjobqueue/schedd.py:46\u001b[0m, in \u001b[0;36macquire_schedd\u001b[0;34m()\u001b[0m\n\u001b[1;32m     43\u001b[0m         \u001b[38;5;28;01mpass\u001b[39;00m\n\u001b[1;32m     45\u001b[0m \u001b[38;5;28;01mif\u001b[39;00m \u001b[38;5;129;01mnot\u001b[39;00m scheddAds:\n\u001b[0;32m---> 46\u001b[0m     \u001b[38;5;28;01mraise\u001b[39;00m \u001b[38;5;167;01mRuntimeError\u001b[39;00m(\u001b[38;5;124m\"\u001b[39m\u001b[38;5;124mNo pool nodes could be contacted\u001b[39m\u001b[38;5;124m\"\u001b[39m)\n\u001b[1;32m     48\u001b[0m weightedSchedds \u001b[38;5;241m=\u001b[39m {}\n\u001b[1;32m     49\u001b[0m \u001b[38;5;28;01mfor\u001b[39;00m schedd \u001b[38;5;129;01min\u001b[39;00m scheddAds:\n\u001b[1;32m     50\u001b[0m     \u001b[38;5;66;03m# covert duty cycle in percentage\u001b[39;00m\n",
      "\u001b[0;31mRuntimeError\u001b[0m: No pool nodes could be contacted"
     ]
    }
   ],
   "source": [
    "run_ind_srcs = False\n",
    "\n",
    "unc_srcs = [\"nominal\",\"jer\", \"AbsoluteMPFBias\",\"AbsoluteScale\",\"AbsoluteStat\",\"FlavorQCD\",\"Fragmentation\",\"PileUpDataMC\",\"PileUpPtBB\",\"PileUpPtEC1\",\n",
    "\"PileUpPtEC2\",\"PileUpPtHF\",\"PileUpPtRef\",\"RelativeFSR\",\"RelativeJEREC1\",\n",
    "            \"RelativeJEREC2\",\"RelativeJERHF\",\"RelativePtBB\",\"RelativePtEC1\",\n",
    "            \"RelativePtEC2\",\"RelativePtHF\",\"RelativeBal\",\"RelativeSample\",\n",
    "            \"RelativeStatEC\",\"RelativeStatFSR\",\"RelativeStatHF\",\"SinglePionECAL\",\n",
    "            \"SinglePionHCAL\",\"TimePtEta\"]\n",
    "if run_ind_srcs == True:\n",
    "    for src in unc_srcs:\n",
    "        print(\"Running for source \", src)\n",
    "        processor = makeDijetHists(data = data, jet_systematics = [src])\n",
    "        result = runCoffeaJob(processor, jsonFile = filename, winterfell = winterfell, year = year, \n",
    "                              testing = testing, dask = dask, data = not processor.do_gen, datasetRange=range)\n",
    "        if testing and not data:\n",
    "            fname = 'coffeaOutput/dijet/dijetHistsTest_wXSscaling_{}_pt{}_rapidity{}_{}{}.pkl'.format(datastring, processor.ptcut, processor.ycut, src, year_str)\n",
    "        elif testing and data:\n",
    "            fname = 'coffeaOutput/dijet/dijetHistsTest{}_pt{}_rapidity{}_{}{}.pkl'.format(datastring, processor.ptcut, processor.ycut, src, year_str)\n",
    "        elif not testing and data:\n",
    "            fname = 'coffeaOutput/dijet/dijetHists_{}_pt{}_rapidity{}_{}{}.pkl'.format(datastring, processor.ptcut, processor.ycut, src, year_str)\n",
    "        else:\n",
    "            fname = 'coffeaOutput/dijet/dijetHists_wXSscaling_{}_pt{}_rapidity{}_{}{}.pkl'.format(datastring, processor.ptcut, processor.ycut, src, year_str)\n",
    "        if range!=None:\n",
    "            print(\"Range input: \", range)\n",
    "            fname=fname[:-4]+\"_\"+str(range[0])+\"_\"+str(range[1])+\".pkl\"\n",
    "            print(\"New ranged fname \", fname)\n",
    "        with open(fname, \"wb\") as f:\n",
    "            pickle.dump( result, f)\n",
    "else:\n",
    "    result = runCoffeaJob(processor, jsonFile = filename, winterfell = winterfell, year = year,\n",
    "                      testing = testing, dask = dask, data = not processor.do_gen)\n",
    "    with open(fname, \"wb\") as f:\n",
    "        pickle.dump( result, f)"
   ]
  },
  {
   "cell_type": "code",
   "execution_count": null,
   "id": "91cdf3f2",
   "metadata": {
    "tags": []
   },
   "outputs": [],
   "source": [
    "fname = \"coffeaOutput/dijet/dijetHistsTest_wXSscaling_QCDsim_pt200.0_rapidity2.5_nominal2018.pkl\"\n",
    "with open(fname, \"rb\") as f:\n",
    "    result = pickle.load( f )\n",
    "# result=result[0]\n",
    "import matplotlib.pyplot as plt\n",
    "import mplhep as hep\n",
    "plt.style.use(hep.style.CMS)\n",
    "%matplotlib inline\n",
    "\n",
    "plt.rcParams[\"figure.figsize\"] = (10,10)\n",
    "\n",
    "print(result['cutflow'])"
   ]
  },
  {
   "cell_type": "code",
   "execution_count": null,
   "id": "0b80797b",
   "metadata": {
    "tags": []
   },
   "outputs": [],
   "source": [
    "fig, axs = plt.subplots(2, 2)\n",
    "fig.suptitle('Ungroomed MC jets')\n",
    "\n",
    "result['response_matrix_u'][{'syst':\"nominal\"}].project('ptreco').plot1d(ax=axs[0,0], binwnorm=True)\n",
    "result['response_matrix_u'].project('ptgen').plot1d(ax=axs[0,1])\n",
    "result['response_matrix_u'].project('mgen').plot1d(ax=axs[1,0], binwnorm=True)\n",
    "result['response_matrix_u'].project('mreco').plot1d(ax=axs[1,1])"
   ]
  },
  {
   "cell_type": "code",
   "execution_count": null,
   "id": "09a9a545-9648-4ae8-b43a-f9f05e7c5272",
   "metadata": {
    "tags": []
   },
   "outputs": [],
   "source": [
    "s = result['response_matrix_u'].stack(\"syst\")\n",
    "s.project('ptreco').plot(binwnorm=True)\n",
    "plt.legend()\n",
    "plt.show()"
   ]
  },
  {
   "cell_type": "code",
   "execution_count": null,
   "id": "26e46d9c-ad42-4f34-941b-95aa31b9197b",
   "metadata": {
    "tags": []
   },
   "outputs": [],
   "source": [
    "fname = \"coffeaOutput/dijet/dijetHistsTest_wXSscaling_QCDsim_pt200.0_rapidity2.5_nominal2018.pkl\"\n",
    "with open(fname, \"rb\") as f:\n",
    "    result = pickle.load( f )\n",
    "# result=result[0]\n",
    "import matplotlib.pyplot as plt\n",
    "%matplotlib inline\n",
    "#import mplhep as hep\n",
    "plt.rcParams[\"figure.figsize\"] = (10,10)"
   ]
  },
  {
   "cell_type": "code",
   "execution_count": null,
   "id": "b50f770f-e4a6-489e-81c9-7104f2a64a46",
   "metadata": {
    "tags": []
   },
   "outputs": [],
   "source": [
    "fig, axs = plt.subplots(2, 2)\n",
    "result['ptreco_mreco_u'].project('ptreco').plot1d(ax=axs[0,0], binwnorm=True)\n",
    "result['ptreco_mreco_u'].project('mreco').plot1d(ax=axs[0,1])\n",
    "result['ptreco_mreco_g'].project('ptreco').plot1d(ax=axs[1,0], binwnorm=True)\n",
    "result['ptreco_mreco_g'].project('mreco').plot1d(ax=axs[1,1])"
   ]
  },
  {
   "cell_type": "code",
   "execution_count": null,
   "id": "f4c6ac80-cccf-4423-b65e-35c204cc6f47",
   "metadata": {},
   "outputs": [],
   "source": [
    "fig, axs = plt.subplots(2, 2)\n",
    "for ax in axs.flatten():\n",
    "    ax.set_xlim([0,1000])\n",
    "fig.suptitle('Ungroomed Gen jets')\n",
    "result['ptgen_mgen_u'].project('ptgen').plot1d(ax=axs[0,0], binwnorm=True)\n",
    "result['ptgen_mgen_u'].project('mgen').plot1d(ax=axs[0,1])\n",
    "result['ptgen_mgen_g'].project('ptgen').plot1d(ax=axs[1,0], binwnorm=True)\n",
    "result['ptgen_mgen_g'].project('mgen').plot1d(ax=axs[1,1])"
   ]
  },
  {
   "cell_type": "code",
   "execution_count": null,
   "id": "2d701e4d-4861-4824-8cc8-756916354481",
   "metadata": {
    "tags": []
   },
   "outputs": [],
   "source": [
    "# numerator = result['jet_pt'][{'partonFlav':'Gluon'}].project('ptreco')\n",
    "# denominator = result['jet_pt'].project('ptreco')\n",
    "# print(numerator.values(), denominator.values())\n",
    "\n",
    "# numerator.label = r'$\\epsilon$'\n",
    "# fig = plt.gcf()\n",
    "# grid = fig.add_gridspec(2, 1, hspace=0, height_ratios=[3, 1])\n",
    "\n",
    "# main_ax = fig.add_subplot(grid[0])\n",
    "# subplot_ax = fig.add_subplot(grid[1], sharex=main_ax)\n",
    "# plt.setp(main_ax.get_xticklabels(), visible=False)\n",
    "# main_ax, sublot_ax = numerator.plot_ratio(\n",
    "#     denominator,\n",
    "#     rp_num_label=\"gluons\",\n",
    "#     rp_denom_label=\"all\",\n",
    "#     rp_uncert_draw_type=\"line\",\n",
    "#     rp_uncertainty_type=\"efficiency\",\n",
    "#     ax_dict = {\"main_ax\":main_ax,\"ratio_ax\":subplot_ax}\n",
    "# )\n",
    "\n",
    "# plt.xlabel(\"Pt (GeV)\")\n",
    "# plt.ylabel(\"Gluon fraction\")\n",
    "# fig.suptitle('Gluon content as a function of pT')"
   ]
  },
  {
   "cell_type": "code",
   "execution_count": null,
   "id": "aacad3c5",
   "metadata": {},
   "outputs": [],
   "source": [
    "# numerator = result['jet_eta'][{'partonFlav':'Gluon'}].project('eta')\n",
    "# denominator = result['jet_eta'].project('eta')\n",
    "# print(numerator.values(), denominator.values())\n",
    "# numerator.label = r'$\\epsilon$'\n",
    "# numerator.label = r'$\\epsilon$'\n",
    "# fig = plt.gcf()\n",
    "# grid = fig.add_gridspec(2, 1, hspace=0, height_ratios=[3, 1])\n",
    "\n",
    "# main_axis = fig.add_subplot(grid[0])\n",
    "# ratio_ax = fig.add_subplot(grid[1], sharex=main_axis)\n",
    "# plt.setp(main_axis.get_xticklabels(), visible=False)\n",
    "# main_ax, sublot_ax = numerator.plot_ratio(\n",
    "#     denominator,\n",
    "#     rp_num_label=\"gluons\",\n",
    "#     rp_denom_label=\"all\",\n",
    "#     rp_uncert_draw_type=\"line\",\n",
    "#     rp_uncertainty_type=\"efficiency\",\n",
    "#     ax_dict = {\"main_ax\":main_axis,\"ratio_ax\":ratio_ax}\n",
    "# )\n",
    "\n",
    "# plt.xlabel(r'$\\eta$')\n",
    "# plt.ylabel(\"Gluon fraction\")\n",
    "# main_axis.set_title('Gluon content as a function of eta')\n"
   ]
  },
  {
   "cell_type": "code",
   "execution_count": null,
   "id": "374e1fa7",
   "metadata": {},
   "outputs": [],
   "source": [
    "# #sum entries in bins --> plot as y-axis\n",
    "# plt.rcParams[\"figure.figsize\"] = (20,5)\n",
    "\n",
    "\n",
    "# fig, axs = plt.subplots(1, 3)\n",
    "# result['jet_mass'][{'jetNumb':sum, 'dataset':sum}].plot1d(ax = axs[0], overlay='partonFlav')\n",
    "# plt.rc('legend',fontsize='small')\n",
    "# plt.xlabel(\"Jet mass (GeV)\")\n",
    "# result['jet_pt'][{'jetNumb':sum, 'dataset':sum}].plot1d(ax = axs[1], overlay='partonFlav')\n",
    "# plt.rc('legend',fontsize='small')\n",
    "# #axs[0].set_xlabel(\"Jet mass (GeV)\")\n",
    "# plt.xlabel(\"Jet pT (GeV)\")\n",
    "# result['jet_eta'][{'jetNumb':sum, 'dataset':sum}].plot1d(ax = axs[2], overlay='partonFlav')\n",
    "# plt.rc('legend',fontsize='small')\n",
    "# plt.legend()\n",
    "# plt.xlabel(\"Jet eta (GeV)\")\n",
    "\n",
    "# fig.suptitle('Dijet eta <2.5, pt> 200.', fontsize=\"large\")"
   ]
  },
  {
   "cell_type": "code",
   "execution_count": null,
   "id": "6238fc43",
   "metadata": {},
   "outputs": [],
   "source": [
    "# plt.rcParams[\"figure.figsize\"] = (20,10)\n",
    "# fig, axs = plt.subplots(2, 3)\n",
    "# print(result['jet_mass'])\n",
    "# result['jet_mass'][{'jetNumb':'jet1', 'dataset':sum}].plot1d(ax = axs[0,0], overlay='partonFlav')\n",
    "# plt.rc('legend',fontsize='small')\n",
    "# plt.xlabel(\"Jet mass (GeV)\")\n",
    "# result['jet_pt'][{'jetNumb':'jet1', 'dataset':sum}].plot1d(ax = axs[0,1], overlay='partonFlav')\n",
    "# plt.rc('legend',fontsize='small')\n",
    "# #axs[0].set_xlabel(\"Jet mass (GeV)\")\n",
    "# plt.xlabel(\"Jet pT (GeV)\")\n",
    "# result['jet_eta'][{'jetNumb':'jet1', 'dataset':sum}].plot1d(ax = axs[0,2], overlay='partonFlav')\n",
    "# plt.rc('legend',fontsize='small')\n",
    "# plt.legend()\n",
    "# plt.xlabel(\"Jet eta (GeV)\")\n",
    "# result['jet_mass'][{'jetNumb':'jet2', 'dataset':sum}].plot1d(ax = axs[1,0], overlay='partonFlav')\n",
    "# plt.rc('legend',fontsize='small')\n",
    "# plt.xlabel(\"Jet mass (GeV)\")\n",
    "# result['jet_pt'][{'jetNumb':'jet2', 'dataset':sum}].plot1d(ax = axs[1,1], overlay='partonFlav')\n",
    "# plt.rc('legend',fontsize='small')\n",
    "# #axs[0].set_xlabel(\"Jet mass (GeV)\")\n",
    "# plt.xlabel(\"Jet pT (GeV)\")\n",
    "# result['jet_eta'][{'jetNumb':'jet2', 'dataset':sum}].plot1d(ax = axs[1,2], overlay='partonFlav')\n",
    "# plt.rc('legend',fontsize='small')\n",
    "# plt.legend()\n",
    "# plt.xlabel(\"Jet eta (GeV)\")\n",
    "# fig.suptitle('Dijet eta <2.5, pt> 200.', fontsize=\"large\")"
   ]
  },
  {
   "cell_type": "code",
   "execution_count": null,
   "id": "f2fd10c5",
   "metadata": {},
   "outputs": [],
   "source": [
    "# njets=result['cutflow']['nJets']\n",
    "# ngluonjets=result['cutflow']['nGluonJets']\n",
    "# print(result['cutflow'])\n",
    "# print(\"Gluon purity:\", ngluonjets/njets)"
   ]
  },
  {
   "cell_type": "code",
   "execution_count": null,
   "id": "d84a6515",
   "metadata": {},
   "outputs": [],
   "source": [
    "response_matrix_u_values = result['response_matrix_u'].project(\"ptreco\", \"mreco\", \"ptgen\", \"mgen\").values()\n",
    "response_matrix_g_values = result['response_matrix_g'].project(\"ptreco\", \"mreco\", \"ptgen\", \"mgen\").values()"
   ]
  },
  {
   "cell_type": "code",
   "execution_count": null,
   "id": "5f0b008d",
   "metadata": {},
   "outputs": [],
   "source": [
    "nptreco,nmassreco,nptgen,nmassgen = response_matrix_u_values.shape"
   ]
  },
  {
   "cell_type": "code",
   "execution_count": null,
   "id": "b0f4aaa0",
   "metadata": {},
   "outputs": [],
   "source": [
    "response_matrix_u_final = response_matrix_u_values.reshape( (nptreco)*(nmassreco), (nptgen)*(nmassgen) )\n",
    "print(ak.max(response_matrix_u_final))"
   ]
  },
  {
   "cell_type": "code",
   "execution_count": null,
   "id": "f89f6894",
   "metadata": {},
   "outputs": [],
   "source": [
    "response_matrix_g_final = response_matrix_g_values.reshape( (nptreco)*(nmassreco), (nptgen)*(nmassgen) )"
   ]
  },
  {
   "cell_type": "code",
   "execution_count": null,
   "id": "94a15a8b",
   "metadata": {},
   "outputs": [],
   "source": [
    "plt.rcParams[\"figure.figsize\"] = (20,20)\n",
    "fig, axs = plt.subplots(2, 2)\n",
    "axs[0,0].imshow( np.log(response_matrix_u_final+1), aspect=\"auto\", cmap=\"Blues\", interpolation='nearest' )\n",
    "axs[1,1].imshow( np.log(response_matrix_g_final+1), aspect=\"auto\", cmap=\"Blues\", interpolation='nearest' )\n",
    "plt.xlabel(\"RECO\", fontsize=20)\n",
    "plt.ylabel(\"GEN\", fontsize=20)\n",
    "plt.tick_params(labelsize=20)"
   ]
  },
  {
   "cell_type": "code",
   "execution_count": null,
   "id": "428de191",
   "metadata": {},
   "outputs": [],
   "source": [
    "plt.figure(figsize = (40,80))\n",
    "plt.imshow( np.log(response_matrix_g_final+1), aspect=\"equal\", cmap=\"Blues\" )\n",
    "plt.xlabel(\"RECO\", fontsize=50)\n",
    "plt.ylabel(\"GEN\", fontsize=50)\n",
    "plt.tick_params(labelsize=40)"
   ]
  },
  {
   "cell_type": "code",
   "execution_count": null,
   "id": "355566c2",
   "metadata": {},
   "outputs": [],
   "source": [
    "plt.figure(figsize = (40,80))\n",
    "plt.imshow( response_matrix_u_final, aspect=\"equal\", cmap=\"Blues\" )\n",
    "plt.xlabel(\"RECO\", fontsize=50)\n",
    "plt.ylabel(\"GEN\", fontsize=50)\n",
    "plt.tick_params(labelsize=40)"
   ]
  },
  {
   "cell_type": "code",
   "execution_count": null,
   "id": "3c84c772-e262-47f4-b810-aa2844c1a904",
   "metadata": {},
   "outputs": [],
   "source": []
  },
  {
   "cell_type": "code",
   "execution_count": null,
   "id": "761a514a",
   "metadata": {},
   "outputs": [],
   "source": []
  },
  {
   "cell_type": "raw",
   "id": "ad536ec1-3bd8-487c-846f-e8a01a134f10",
   "metadata": {},
   "source": []
  },
  {
   "cell_type": "code",
   "execution_count": null,
   "id": "d45cf7c3-a0f1-4213-afa9-ff6fbc1d2bed",
   "metadata": {},
   "outputs": [],
   "source": []
  }
 ],
 "metadata": {
  "kernelspec": {
   "display_name": "Python 3 (ipykernel)",
   "language": "python",
   "name": "python3"
  },
  "language_info": {
   "codemirror_mode": {
    "name": "ipython",
    "version": 3
   },
   "file_extension": ".py",
   "mimetype": "text/x-python",
   "name": "python",
   "nbconvert_exporter": "python",
   "pygments_lexer": "ipython3",
   "version": "3.10.8"
  }
 },
 "nbformat": 4,
 "nbformat_minor": 5
}

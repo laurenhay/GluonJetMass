{
 "cells": [
  {
   "cell_type": "code",
   "execution_count": 1,
   "id": "c1d30278",
   "metadata": {},
   "outputs": [
    {
     "name": "stdout",
     "output_type": "stream",
     "text": [
      "0.7.21\n"
     ]
    }
   ],
   "source": [
    "import awkward as ak\n",
    "import numpy as np\n",
    "import coffea\n",
    "import os\n",
    "from plugins import handleData\n",
    "\n",
    "print(coffea.__version__)\n",
    "from coffea import util\n",
    "from coffea.nanoevents import NanoEventsFactory, NanoAODSchema\n",
    "\n",
    "import hist\n",
    "\n",
    "# testFiles = [\n",
    "# \"root://cmsxrootd.fnal.gov//store/mc/RunIISummer20UL17NanoAODv9/QCD_Pt_170to300_TuneCP5_13TeV_pythia8/NANOAODSIM/106X_mc2017_realistic_v9-v1/120000/0CDD30E0-B953-E54B-BB7A-BFB45BE6EC93.root\",\n",
    "# \"root://cmsxrootd.fnal.gov//store/mc/RunIISummer20UL17NanoAODv9/QCD_Pt_300to470_TuneCP5_13TeV_pythia8/NANOAODSIM/106X_mc2017_realistic_v9-v1/120000/3788BBD3-3B70-BE48-B01A-4FA395E1E0B6.root\",\n",
    "# \"root://cmsxrootd.fnal.gov//store/mc/RunIISummer20UL17NanoAODv9/QCD_Pt_470to600_TuneCP5_13TeV_pythia8/NANOAODSIM/106X_mc2017_realistic_v9-v1/70000/F6B6A983-3E2B-7B4D-A2CE-E03AB6E32387.root\",\n",
    "# \"root://cmsxrootd.fnal.gov//store/mc/RunIISummer20UL17NanoAODv9/QCD_Pt_600to800_TuneCP5_13TeV_pythia8/NANOAODSIM/106X_mc2017_realistic_v9-v1/70000/FDF7FBE4-9226-994A-BD45-29995A3CD62F.root\",\n",
    "# \"root://cmsxrootd.fnal.gov//store/mc/RunIISummer20UL17NanoAODv9/QCD_Pt_800to1000_TuneCP5_13TeV_pythia8/NANOAODSIM/106X_mc2017_realistic_v9-v1/70000/2CEB03D7-5B1A-EE46-9C21-13ED3E349AF4.root\",\n",
    "# \"root://cmsxrootd.fnal.gov//store/mc/RunIISummer20UL17NanoAODv9/QCD_Pt_1000to1400_TuneCP5_13TeV_pythia8/NANOAODSIM/106X_mc2017_realistic_v9-v1/70000/DB87A517-0584-1A41-BB18-AAE7C9AAE5B8.root\",\n",
    "# \"root://cmsxrootd.fnal.gov//store/mc/RunIISummer20UL17NanoAODv9/QCD_Pt_1400to1800_TuneCP5_13TeV_pythia8/NANOAODSIM/106X_mc2017_realistic_v9-v1/280000/BFE2E7E9-82CB-FE47-9B43-EBA5C373AF60.root\",\n",
    "# \"root://cmsxrootd.fnal.gov//store/mc/RunIISummer20UL17NanoAODv9/QCD_Pt_1800to2400_TuneCP5_13TeV_pythia8/NANOAODSIM/106X_mc2017_realistic_v9-v1/70000/5213B536-BAA1-CC43-A58A-B1E41E2680F5.root\",\n",
    "# \"root://cmsxrootd.fnal.gov//store/mc/RunIISummer20UL17NanoAODv9/QCD_Pt_2400to3200_TuneCP5_13TeV_pythia8/NANOAODSIM/106X_mc2017_realistic_v9-v1/280000/E8400F91-3216-EA46-A9F1-8CC7EF5261B0.root\",\n",
    "# \"root://cmsxrootd.fnal.gov//store/mc/RunIISummer20UL17NanoAODv9/QCD_Pt_3200toInf_TuneCP5_13TeV_pythia8/NANOAODSIM/106X_mc2017_realistic_v9-v1/280000/B21BFDD8-B878-784C-AFB6-5CDE131F5C39.root\"\n",
    "# ]\n",
    "\n",
    "# redirector = 'root://xcache/'\n",
    "redirector='root://cmsxrootd.fnal.gov/'\n",
    "# files = handleData('fileset_QCD.json', redirector, testing = True, data = False)\n",
    "# # files_test = handleData('fileset_QCD.json', redirector, testing = False, data = False)\n",
    "\n",
    "events = NanoEventsFactory.from_root(redirector+'/store/mc/RunIISummer20UL18NanoAODv9/QCD_Pt_800to1000_TuneCP5_13TeV_pythia8/NANOAODSIM/106X_upgrade2018_realistic_v16_L1v1-v1/120000/48C7B9A8-400F-5D4B-A8D5-F9EC247A9880.root', schemaclass=NanoAODSchema).events()\n",
    "# print(events.HLT.fields)\n",
    "#may have to put in weights by hand\n",
    "# print(events.Generator.weight)"
   ]
  },
  {
   "cell_type": "code",
   "execution_count": 2,
   "id": "1f9eed95",
   "metadata": {
    "scrolled": true
   },
   "outputs": [
    {
     "name": "stdout",
     "output_type": "stream",
     "text": [
      "0.7.21\n",
      "2.7.2\n",
      "Data:  False  gen  True\n"
     ]
    }
   ],
   "source": [
    "from plugins import *\n",
    "from dijetProcessor import makeDijetHists\n",
    "from dask.distributed import Client\n",
    "import pickle\n",
    "#### WE'RE MISSING 2016B ver2 -- AK8 PF HLT is missing need to use AK4 trigger isntead\n",
    "\n",
    "data = False\n",
    "winterfell = False\n",
    "dask = False\n",
    "testing = True\n",
    "casa = False\n",
    "processor = makeDijetHists(data = data)\n",
    "datastring = \"JetHT\" if processor.do_gen == False else \"QCDsim\"\n",
    "if processor.do_gen==True and winterfell:\n",
    "    filename = \"QCD_flat_files.json\"\n",
    "elif processor.do_gen==True:\n",
    "    filename = \"fileset_QCD.json\"\n",
    "else:\n",
    "    filename = \"datasets_UL_NANOAOD.json\"\n",
    "if testing and not data:\n",
    "    fname = 'coffeaOutput/dijetHistsTest_wXSscaling_{}_pt{}_rapidity{}jerjec.pkl'.format(datastring, processor.ptcut, processor.ycut)\n",
    "elif testing and data:\n",
    "    fname = 'coffeaOutput/dijetHistsTest{}_pt{}_rapidity{}jerjec.pkl'.format(datastring, processor.ptcut, processor.ycut)\n",
    "elif not testing and data:\n",
    "    fname = 'coffeaOutput/dijetHists_{}_pt{}_rapidity{}.pkl'.format(datastring, processor.ptcut, processor.ycut)\n",
    "else:\n",
    "    fname = 'coffeaOutput/dijetHists_wXSscaling_{}_pt{}_rapidity{}.pkl'.format(datastring, processor.ptcut, processor.ycut)"
   ]
  },
  {
   "cell_type": "code",
   "execution_count": null,
   "id": "2c55f74b",
   "metadata": {},
   "outputs": [
    {
     "name": "stdout",
     "output_type": "stream",
     "text": [
      "Era:  UL16\n",
      "Era:  UL17NanoAODv9\n",
      "Era:  UL18NanoAODv9\n",
      "dataset =  /QCD_Pt_1000to1400_TuneCP5_13TeV_pythia8/RunIISummer20UL16NanoAODv9-106X_mcRun2_asymptotic_v17-v1/NANOAODSIM\n",
      "dataset =  /QCD_Pt_1000to1400_TuneCP5_13TeV_pythia8/RunIISummer20UL17NanoAODv9-106X_mc2017_realistic_v9-v1/NANOAODSIM\n",
      "dataset =  /QCD_Pt_1000to1400_TuneCP5_13TeV_pythia8/RunIISummer20UL18NanoAODv9-106X_upgrade2018_realistic_v16_L1v1-v1/NANOAODSIM\n",
      "dataset =  /QCD_Pt_1400to1800_TuneCP5_13TeV_pythia8/RunIISummer20UL16NanoAODv9-106X_mcRun2_asymptotic_v17-v1/NANOAODSIM\n",
      "dataset =  /QCD_Pt_1400to1800_TuneCP5_13TeV_pythia8/RunIISummer20UL17NanoAODv9-106X_mc2017_realistic_v9-v1/NANOAODSIM\n",
      "dataset =  /QCD_Pt_1400to1800_TuneCP5_13TeV_pythia8/RunIISummer20UL18NanoAODv9-106X_upgrade2018_realistic_v16_L1v1-v1/NANOAODSIM\n",
      "dataset =  /QCD_Pt_170to300_TuneCP5_13TeV_pythia8/RunIISummer20UL16NanoAODv9-106X_mcRun2_asymptotic_v17-v1/NANOAODSIM\n",
      "dataset =  /QCD_Pt_170to300_TuneCP5_13TeV_pythia8/RunIISummer20UL17NanoAODv9-106X_mc2017_realistic_v9-v1/NANOAODSIM\n",
      "dataset =  /QCD_Pt_170to300_TuneCP5_13TeV_pythia8/RunIISummer20UL18NanoAODv9-106X_upgrade2018_realistic_v16_L1v1-v1/NANOAODSIM\n",
      "dataset =  /QCD_Pt_1800to2400_TuneCP5_13TeV_pythia8/RunIISummer20UL16NanoAODv9-106X_mcRun2_asymptotic_v17-v1/NANOAODSIM\n",
      "dataset =  /QCD_Pt_1800to2400_TuneCP5_13TeV_pythia8/RunIISummer20UL17NanoAODv9-106X_mc2017_realistic_v9-v1/NANOAODSIM\n",
      "dataset =  /QCD_Pt_1800to2400_TuneCP5_13TeV_pythia8/RunIISummer20UL18NanoAODv9-106X_upgrade2018_realistic_v16_L1v1-v1/NANOAODSIM\n",
      "dataset =  /QCD_Pt_2400to3200_TuneCP5_13TeV_pythia8/RunIISummer20UL16NanoAODv9-106X_mcRun2_asymptotic_v17-v1/NANOAODSIM\n",
      "dataset =  /QCD_Pt_2400to3200_TuneCP5_13TeV_pythia8/RunIISummer20UL17NanoAODv9-106X_mc2017_realistic_v9-v1/NANOAODSIM\n",
      "dataset =  /QCD_Pt_2400to3200_TuneCP5_13TeV_pythia8/RunIISummer20UL18NanoAODv9-106X_upgrade2018_realistic_v16_L1v1-v1/NANOAODSIM\n",
      "dataset =  /QCD_Pt_300to470_TuneCP5_13TeV_pythia8/RunIISummer20UL16NanoAODv9-106X_mcRun2_asymptotic_v17-v1/NANOAODSIM\n",
      "dataset =  /QCD_Pt_300to470_TuneCP5_13TeV_pythia8/RunIISummer20UL17NanoAODv9-106X_mc2017_realistic_v9-v1/NANOAODSIM\n",
      "dataset =  /QCD_Pt_300to470_TuneCP5_13TeV_pythia8/RunIISummer20UL18NanoAODv9-106X_upgrade2018_realistic_v16_L1v1-v1/NANOAODSIM\n",
      "dataset =  /QCD_Pt_3200toInf_TuneCP5_13TeV_pythia8/RunIISummer20UL16NanoAODv9-106X_mcRun2_asymptotic_v17-v1/NANOAODSIM\n",
      "dataset =  /QCD_Pt_3200toInf_TuneCP5_13TeV_pythia8/RunIISummer20UL17NanoAODv9-106X_mc2017_realistic_v9-v1/NANOAODSIM\n",
      "dataset =  /QCD_Pt_3200toInf_TuneCP5_13TeV_pythia8/RunIISummer20UL18NanoAODv9-106X_upgrade2018_realistic_v16_L1v1-v1/NANOAODSIM\n",
      "dataset =  /QCD_Pt_470to600_TuneCP5_13TeV_pythia8/RunIISummer20UL16NanoAODv9-106X_mcRun2_asymptotic_v17-v1/NANOAODSIM\n",
      "dataset =  /QCD_Pt_470to600_TuneCP5_13TeV_pythia8/RunIISummer20UL17NanoAODv9-106X_mc2017_realistic_v9-v1/NANOAODSIM\n",
      "dataset =  /QCD_Pt_470to600_TuneCP5_13TeV_pythia8/RunIISummer20UL18NanoAODv9-106X_upgrade2018_realistic_v16_L1v1-v1/NANOAODSIM\n",
      "dataset =  /QCD_Pt_600to800_TuneCP5_13TeV_pythia8/RunIISummer20UL16NanoAODv9-106X_mcRun2_asymptotic_v17-v1/NANOAODSIM\n",
      "dataset =  /QCD_Pt_600to800_TuneCP5_13TeV_pythia8/RunIISummer20UL17NanoAODv9-106X_mc2017_realistic_v9-v1/NANOAODSIM\n",
      "dataset =  /QCD_Pt_600to800_TuneCP5_13TeV_pythia8/RunIISummer20UL18NanoAODv9-106X_upgrade2018_realistic_v16_L1v1-v1/NANOAODSIM\n",
      "dataset =  /QCD_Pt_800to1000_TuneCP5_13TeV_pythia8/RunIISummer20UL16NanoAODv9-106X_mcRun2_asymptotic_v17-v1/NANOAODSIM\n",
      "dataset =  /QCD_Pt_800to1000_TuneCP5_13TeV_pythia8/RunIISummer20UL17NanoAODv9-106X_mc2017_realistic_v9-v1/NANOAODSIM\n",
      "dataset =  /QCD_Pt_800to1000_TuneCP5_13TeV_pythia8/RunIISummer20UL18NanoAODv9-106X_upgrade2018_realistic_v16_L1v1-v1/NANOAODSIM\n",
      "Running locally\n"
     ]
    },
    {
     "data": {
      "application/vnd.jupyter.widget-view+json": {
       "model_id": "501411a4e0fe4380bd7264b485d27078",
       "version_major": 2,
       "version_minor": 0
      },
      "text/plain": [
       "Output()"
      ]
     },
     "metadata": {},
     "output_type": "display_data"
    },
    {
     "name": "stderr",
     "output_type": "stream",
     "text": [
      "/opt/conda/lib/python3.10/site-packages/coffea/processor/executor.py:1360: UserWarning: XRootD error: [ERROR] Operation expired\n",
      "in file root://cmsxrootd.fnal.gov//store/mc/RunIISummer20UL16NanoAODv9/QCD_Pt_2400to3200_TuneCP5_13TeV_pythia8/NANOAODSIM/106X_mcRun2_asymptotic_v17-v1/120000/0560272A-EE0C-A04B-91FB-8E2EFBC7ADB7.root\n",
      "  warnings.warn(str(e))\n"
     ]
    },
    {
     "data": {
      "text/html": [
       "<pre style=\"white-space:pre;overflow-x:auto;line-height:normal;font-family:Menlo,'DejaVu Sans Mono',consolas,'Courier New',monospace\"></pre>\n"
      ],
      "text/plain": []
     },
     "metadata": {},
     "output_type": "display_data"
    },
    {
     "data": {
      "text/html": [
       "<pre style=\"white-space:pre;overflow-x:auto;line-height:normal;font-family:Menlo,'DejaVu Sans Mono',consolas,'Courier New',monospace\">\n",
       "</pre>\n"
      ],
      "text/plain": [
       "\n"
      ]
     },
     "metadata": {},
     "output_type": "display_data"
    },
    {
     "data": {
      "application/vnd.jupyter.widget-view+json": {
       "model_id": "9755565d1f864d1fbbe70c5a0312955f",
       "version_major": 2,
       "version_minor": 0
      },
      "text/plain": [
       "Output()"
      ]
     },
     "metadata": {},
     "output_type": "display_data"
    },
    {
     "name": "stdout",
     "output_type": "stream",
     "text": [
      "Filename:  root://cmsxrootd.fnal.gov//store/mc/RunIISummer20UL18NanoAODv9/QCD_Pt_800to1000_TuneCP5_13TeV_pythia8/NANOAODSIM/106X_upgrade2018_realistic_v16_L1v1-v1/120000/D3111AAE-DCE1-954A-B1C1-83883D0E4459.root\n",
      "dataset:  /QCD_Pt_800to1000_TuneCP5_13TeV_pythia8/RunIISummer20UL18NanoAODv9-106X_upgrade2018_realistic_v16_L1v1-v1/NANOAODSIM\n"
     ]
    },
    {
     "data": {
      "text/html": [
       "<pre style=\"white-space:pre;overflow-x:auto;line-height:normal;font-family:Menlo,'DejaVu Sans Mono',consolas,'Courier New',monospace\"></pre>\n"
      ],
      "text/plain": []
     },
     "metadata": {},
     "output_type": "display_data"
    },
    {
     "data": {
      "text/html": [
       "<pre style=\"white-space:pre;overflow-x:auto;line-height:normal;font-family:Menlo,'DejaVu Sans Mono',consolas,'Courier New',monospace\">\n",
       "</pre>\n"
      ],
      "text/plain": [
       "\n"
      ]
     },
     "metadata": {},
     "output_type": "display_data"
    },
    {
     "name": "stderr",
     "output_type": "stream",
     "text": [
      "concurrent.futures.process._RemoteTraceback: \n",
      "\"\"\"\n",
      "Traceback (most recent call last):\n",
      "  File \"/opt/conda/lib/python3.10/site-packages/coffea/processor/executor.py\", line 1654, in _work_function\n",
      "    out = processor_instance.process(events)\n",
      "  File \"/srv/dijetProcessor.py\", line 172, in process\n",
      "    corrected_fatjets = GetJetCorrections(events.FatJet, events, IOV, isData=not isGen)\n",
      "NameError: name 'isGen' is not defined\n",
      "\n",
      "The above exception was the direct cause of the following exception:\n",
      "\n",
      "Traceback (most recent call last):\n",
      "  File \"/opt/conda/lib/python3.10/concurrent/futures/process.py\", line 246, in _process_worker\n",
      "    r = call_item.fn(*call_item.args, **call_item.kwargs)\n",
      "  File \"/opt/conda/lib/python3.10/site-packages/coffea/processor/executor.py\", line 221, in __call__\n",
      "    out = self.function(*args, **kwargs)\n",
      "  File \"/opt/conda/lib/python3.10/site-packages/coffea/processor/executor.py\", line 1367, in automatic_retries\n",
      "    raise e\n",
      "  File \"/opt/conda/lib/python3.10/site-packages/coffea/processor/executor.py\", line 1336, in automatic_retries\n",
      "    return func(*args, **kwargs)\n",
      "  File \"/opt/conda/lib/python3.10/site-packages/coffea/processor/executor.py\", line 1656, in _work_function\n",
      "    raise Exception(f\"Failed processing file: {item!r}\") from e\n",
      "Exception: Failed processing file: WorkItem(dataset='/QCD_Pt_800to1000_TuneCP5_13TeV_pythia8/RunIISummer20UL18NanoAODv9-106X_upgrade2018_realistic_v16_L1v1-v1/NANOAODSIM', filename='root://cmsxrootd.fnal.gov//store/mc/RunIISummer20UL18NanoAODv9/QCD_Pt_800to1000_TuneCP5_13TeV_pythia8/NANOAODSIM/106X_upgrade2018_realistic_v16_L1v1-v1/120000/D3111AAE-DCE1-954A-B1C1-83883D0E4459.root', treename='Events', entrystart=0, entrystop=48000, fileuuid=b'\\xba\\x87\\xf4t\\xecf\\x11\\xeb\\xbea\\xbe$\\x11\\xac\\xbe\\xef', usermeta={})\n",
      "\"\"\"\n",
      "\n",
      "The above exception was the direct cause of the following exception:\n",
      "\n",
      "Traceback (most recent call last):\n",
      "  File \"/opt/conda/lib/python3.10/site-packages/coffea/processor/executor.py\", line 786, in _processwith\n",
      "    merged = _watcher(FH, self, reducer, pool)\n",
      "  File \"/opt/conda/lib/python3.10/site-packages/coffea/processor/executor.py\", line 402, in _watcher\n",
      "    batch = FH.fetch(len(FH.completed))\n",
      "  File \"/opt/conda/lib/python3.10/site-packages/coffea/processor/executor.py\", line 286, in fetch\n",
      "    raise bad_futures[0].exception()\n",
      "Exception: Failed processing file: WorkItem(dataset='/QCD_Pt_800to1000_TuneCP5_13TeV_pythia8/RunIISummer20UL18NanoAODv9-106X_upgrade2018_realistic_v16_L1v1-v1/NANOAODSIM', filename='root://cmsxrootd.fnal.gov//store/mc/RunIISummer20UL18NanoAODv9/QCD_Pt_800to1000_TuneCP5_13TeV_pythia8/NANOAODSIM/106X_upgrade2018_realistic_v16_L1v1-v1/120000/D3111AAE-DCE1-954A-B1C1-83883D0E4459.root', treename='Events', entrystart=0, entrystop=48000, fileuuid=b'\\xba\\x87\\xf4t\\xecf\\x11\\xeb\\xbea\\xbe$\\x11\\xac\\xbe\\xef', usermeta={})\n"
     ]
    },
    {
     "name": "stdout",
     "output_type": "stream",
     "text": [
      "Filename:  root://cmsxrootd.fnal.gov//store/mc/RunIISummer20UL17NanoAODv9/QCD_Pt_800to1000_TuneCP5_13TeV_pythia8/NANOAODSIM/106X_mc2017_realistic_v9-v1/120000/11FFB5AE-3510-0C45-B64C-AF0E00A630FE.root\n",
      "dataset:  /QCD_Pt_800to1000_TuneCP5_13TeV_pythia8/RunIISummer20UL17NanoAODv9-106X_mc2017_realistic_v9-v1/NANOAODSIM\n",
      "Filename:  root://cmsxrootd.fnal.gov//store/mc/RunIISummer20UL17NanoAODv9/QCD_Pt_800to1000_TuneCP5_13TeV_pythia8/NANOAODSIM/106X_mc2017_realistic_v9-v1/120000/11FFB5AE-3510-0C45-B64C-AF0E00A630FE.root\n",
      "dataset:  /QCD_Pt_800to1000_TuneCP5_13TeV_pythia8/RunIISummer20UL17NanoAODv9-106X_mc2017_realistic_v9-v1/NANOAODSIM\n",
      "Filename:  root://cmsxrootd.fnal.gov//store/mc/RunIISummer20UL17NanoAODv9/QCD_Pt_800to1000_TuneCP5_13TeV_pythia8/NANOAODSIM/106X_mc2017_realistic_v9-v1/120000/11FFB5AE-3510-0C45-B64C-AF0E00A630FE.root\n",
      "dataset:  /QCD_Pt_800to1000_TuneCP5_13TeV_pythia8/RunIISummer20UL17NanoAODv9-106X_mc2017_realistic_v9-v1/NANOAODSIM\n",
      "Filename:  root://cmsxrootd.fnal.gov//store/mc/RunIISummer20UL17NanoAODv9/QCD_Pt_800to1000_TuneCP5_13TeV_pythia8/NANOAODSIM/106X_mc2017_realistic_v9-v1/120000/11FFB5AE-3510-0C45-B64C-AF0E00A630FE.root\n",
      "dataset:  /QCD_Pt_800to1000_TuneCP5_13TeV_pythia8/RunIISummer20UL17NanoAODv9-106X_mc2017_realistic_v9-v1/NANOAODSIM\n",
      "Filename:  root://cmsxrootd.fnal.gov//store/mc/RunIISummer20UL17NanoAODv9/QCD_Pt_800to1000_TuneCP5_13TeV_pythia8/NANOAODSIM/106X_mc2017_realistic_v9-v1/120000/11FFB5AE-3510-0C45-B64C-AF0E00A630FE.root\n",
      "dataset:  /QCD_Pt_800to1000_TuneCP5_13TeV_pythia8/RunIISummer20UL17NanoAODv9-106X_mc2017_realistic_v9-v1/NANOAODSIM\n",
      "Filename:  root://cmsxrootd.fnal.gov//store/mc/RunIISummer20UL17NanoAODv9/QCD_Pt_800to1000_TuneCP5_13TeV_pythia8/NANOAODSIM/106X_mc2017_realistic_v9-v1/120000/11FFB5AE-3510-0C45-B64C-AF0E00A630FE.root\n",
      "dataset:  /QCD_Pt_800to1000_TuneCP5_13TeV_pythia8/RunIISummer20UL17NanoAODv9-106X_mc2017_realistic_v9-v1/NANOAODSIM\n"
     ]
    }
   ],
   "source": [
    "result = runCoffeaJob(processor, jsonFile = filename, casa = casa, winterfell = winterfell, \n",
    "                      testing = testing, dask = dask, data = not processor.do_gen)\n",
    "with open(fname, \"wb\") as f:\n",
    "    pickle.dump( result, f)"
   ]
  },
  {
   "cell_type": "code",
   "execution_count": null,
   "id": "91cdf3f2",
   "metadata": {
    "tags": []
   },
   "outputs": [],
   "source": [
    "# fname = 'coffeaOutput/dijetHistsTest_QCDsim_30.0_2.5.pkl'\n",
    "with open(fname, \"rb\") as f:\n",
    "    result = pickle.load( f )\n",
    "# result=result[0]\n",
    "import matplotlib.pyplot as plt\n",
    "import mplhep as hep\n",
    "plt.style.use(hep.style.CMS)\n",
    "%matplotlib inline\n",
    "\n",
    "plt.rcParams[\"figure.figsize\"] = (10,10)"
   ]
  },
  {
   "cell_type": "code",
   "execution_count": null,
   "id": "0b80797b",
   "metadata": {
    "tags": []
   },
   "outputs": [],
   "source": [
    "fig, axs = plt.subplots(2, 2)\n",
    "fig.suptitle('Ungroomed MC jets')\n",
    "result['response_matrix_u'][{'dataset':sum}].project('ptgen').plot1d(ax=axs[0,0], binwnorm=True)\n",
    "result['response_matrix_u'][{'dataset':sum}].project('ptreco').plot1d(ax=axs[0,1])\n",
    "result['response_matrix_u'][{'dataset':sum}].project('mgen').plot1d(ax=axs[1,0], binwnorm=True)\n",
    "result['response_matrix_u'][{'dataset':sum}].project('mreco').plot1d(ax=axs[1,1])"
   ]
  },
  {
   "cell_type": "code",
   "execution_count": null,
   "id": "26e46d9c-ad42-4f34-941b-95aa31b9197b",
   "metadata": {
    "tags": []
   },
   "outputs": [],
   "source": [
    "# fname = 'coffeaOutput/dijetHistsTest_JetHT_30.0_2.5.pkl'\n",
    "with open(fname, \"rb\") as f:\n",
    "    result = pickle.load( f )\n",
    "# result=result[0]\n",
    "import matplotlib.pyplot as plt\n",
    "%matplotlib inline\n",
    "#import mplhep as hep\n",
    "plt.rcParams[\"figure.figsize\"] = (10,10)"
   ]
  },
  {
   "cell_type": "code",
   "execution_count": null,
   "id": "b50f770f-e4a6-489e-81c9-7104f2a64a46",
   "metadata": {
    "tags": []
   },
   "outputs": [],
   "source": [
    "fig, axs = plt.subplots(2, 2)\n",
    "fig.suptitle('Ungroomed Data jets')\n",
    "result['jet_pt_mass_reco_u'][{'dataset':sum}].project('ptreco').plot1d(ax=axs[0,0], binwnorm=True)\n",
    "result['jet_pt_mass_reco_u'][{'dataset':sum}].project('mreco').plot1d(ax=axs[0,1])\n",
    "result['jet_pt_mass_reco_g'][{'dataset':sum}].project('ptreco').plot1d(ax=axs[1,0], binwnorm=True)\n",
    "result['jet_pt_mass_reco_g'][{'dataset':sum}].project('mreco').plot1d(ax=axs[1,1])\n",
    "axs[0,0].set_xlim(0,1200)\n",
    "axs[1,0].set_xlim(0,1200)"
   ]
  },
  {
   "cell_type": "code",
   "execution_count": null,
   "id": "69c18935-8581-451d-998d-9f2ea4287564",
   "metadata": {},
   "outputs": [],
   "source": []
  },
  {
   "cell_type": "code",
   "execution_count": null,
   "id": "2d701e4d-4861-4824-8cc8-756916354481",
   "metadata": {
    "tags": []
   },
   "outputs": [],
   "source": [
    "numerator = result['jet_pt'][{'partonFlav':'Gluon'}].project('ptreco')\n",
    "denominator = result['jet_pt'].project('ptreco')\n",
    "print(numerator.values(), denominator.values())\n",
    "\n",
    "numerator.label = r'$\\epsilon$'\n",
    "fig = plt.gcf()\n",
    "grid = fig.add_gridspec(2, 1, hspace=0, height_ratios=[3, 1])\n",
    "\n",
    "main_ax = fig.add_subplot(grid[0])\n",
    "subplot_ax = fig.add_subplot(grid[1], sharex=main_ax)\n",
    "plt.setp(main_ax.get_xticklabels(), visible=False)\n",
    "main_ax, sublot_ax = numerator.plot_ratio(\n",
    "    denominator,\n",
    "    rp_num_label=\"gluons\",\n",
    "    rp_denom_label=\"all\",\n",
    "    rp_uncert_draw_type=\"line\",\n",
    "    rp_uncertainty_type=\"efficiency\",\n",
    "    ax_dict = {\"main_ax\":main_ax,\"ratio_ax\":subplot_ax}\n",
    ")\n",
    "\n",
    "plt.xlabel(\"Pt (GeV)\")\n",
    "plt.ylabel(\"Gluon fraction\")\n",
    "fig.suptitle('Gluon content as a function of pT')"
   ]
  },
  {
   "cell_type": "code",
   "execution_count": null,
   "id": "aacad3c5",
   "metadata": {},
   "outputs": [],
   "source": [
    "numerator = result['jet_eta'][{'partonFlav':'Gluon'}].project('eta')\n",
    "denominator = result['jet_eta'].project('eta')\n",
    "print(numerator.values(), denominator.values())\n",
    "numerator.label = r'$\\epsilon$'\n",
    "numerator.label = r'$\\epsilon$'\n",
    "fig = plt.gcf()\n",
    "grid = fig.add_gridspec(2, 1, hspace=0, height_ratios=[3, 1])\n",
    "\n",
    "main_axis = fig.add_subplot(grid[0])\n",
    "ratio_ax = fig.add_subplot(grid[1], sharex=main_axis)\n",
    "plt.setp(main_axis.get_xticklabels(), visible=False)\n",
    "main_ax, sublot_ax = numerator.plot_ratio(\n",
    "    denominator,\n",
    "    rp_num_label=\"gluons\",\n",
    "    rp_denom_label=\"all\",\n",
    "    rp_uncert_draw_type=\"line\",\n",
    "    rp_uncertainty_type=\"efficiency\",\n",
    "    ax_dict = {\"main_ax\":main_axis,\"ratio_ax\":ratio_ax}\n",
    ")\n",
    "\n",
    "plt.xlabel(r'$\\eta$')\n",
    "plt.ylabel(\"Gluon fraction\")\n",
    "main_axis.set_title('Gluon content as a function of eta')\n"
   ]
  },
  {
   "cell_type": "code",
   "execution_count": null,
   "id": "374e1fa7",
   "metadata": {},
   "outputs": [],
   "source": [
    "#sum entries in bins --> plot as y-axis\n",
    "plt.rcParams[\"figure.figsize\"] = (20,5)\n",
    "\n",
    "\n",
    "fig, axs = plt.subplots(1, 3)\n",
    "result['jet_mass'][{'jetNumb':sum, 'dataset':sum}].plot1d(ax = axs[0], overlay='partonFlav')\n",
    "plt.rc('legend',fontsize='small')\n",
    "plt.xlabel(\"Jet mass (GeV)\")\n",
    "result['jet_pt'][{'jetNumb':sum, 'dataset':sum}].plot1d(ax = axs[1], overlay='partonFlav')\n",
    "plt.rc('legend',fontsize='small')\n",
    "#axs[0].set_xlabel(\"Jet mass (GeV)\")\n",
    "plt.xlabel(\"Jet pT (GeV)\")\n",
    "result['jet_eta'][{'jetNumb':sum, 'dataset':sum}].plot1d(ax = axs[2], overlay='partonFlav')\n",
    "plt.rc('legend',fontsize='small')\n",
    "plt.legend()\n",
    "plt.xlabel(\"Jet eta (GeV)\")\n",
    "\n",
    "fig.suptitle('Dijet eta <2.5, pt> 200.', fontsize=\"large\")"
   ]
  },
  {
   "cell_type": "code",
   "execution_count": null,
   "id": "6238fc43",
   "metadata": {},
   "outputs": [],
   "source": [
    "plt.rcParams[\"figure.figsize\"] = (20,10)\n",
    "fig, axs = plt.subplots(2, 3)\n",
    "print(result['jet_mass'])\n",
    "result['jet_mass'][{'jetNumb':'jet1', 'dataset':sum}].plot1d(ax = axs[0,0], overlay='partonFlav')\n",
    "plt.rc('legend',fontsize='small')\n",
    "plt.xlabel(\"Jet mass (GeV)\")\n",
    "result['jet_pt'][{'jetNumb':'jet1', 'dataset':sum}].plot1d(ax = axs[0,1], overlay='partonFlav')\n",
    "plt.rc('legend',fontsize='small')\n",
    "#axs[0].set_xlabel(\"Jet mass (GeV)\")\n",
    "plt.xlabel(\"Jet pT (GeV)\")\n",
    "result['jet_eta'][{'jetNumb':'jet1', 'dataset':sum}].plot1d(ax = axs[0,2], overlay='partonFlav')\n",
    "plt.rc('legend',fontsize='small')\n",
    "plt.legend()\n",
    "plt.xlabel(\"Jet eta (GeV)\")\n",
    "result['jet_mass'][{'jetNumb':'jet2', 'dataset':sum}].plot1d(ax = axs[1,0], overlay='partonFlav')\n",
    "plt.rc('legend',fontsize='small')\n",
    "plt.xlabel(\"Jet mass (GeV)\")\n",
    "result['jet_pt'][{'jetNumb':'jet2', 'dataset':sum}].plot1d(ax = axs[1,1], overlay='partonFlav')\n",
    "plt.rc('legend',fontsize='small')\n",
    "#axs[0].set_xlabel(\"Jet mass (GeV)\")\n",
    "plt.xlabel(\"Jet pT (GeV)\")\n",
    "result['jet_eta'][{'jetNumb':'jet2', 'dataset':sum}].plot1d(ax = axs[1,2], overlay='partonFlav')\n",
    "plt.rc('legend',fontsize='small')\n",
    "plt.legend()\n",
    "plt.xlabel(\"Jet eta (GeV)\")\n",
    "fig.suptitle('Dijet eta <2.5, pt> 200.', fontsize=\"large\")"
   ]
  },
  {
   "cell_type": "code",
   "execution_count": null,
   "id": "f2fd10c5",
   "metadata": {},
   "outputs": [],
   "source": [
    "njets=result['cutflow']['nJets']\n",
    "ngluonjets=result['cutflow']['nGluonJets']\n",
    "print(result['cutflow'])\n",
    "print(\"Gluon purity:\", ngluonjets/njets)"
   ]
  },
  {
   "cell_type": "code",
   "execution_count": null,
   "id": "d84a6515",
   "metadata": {},
   "outputs": [],
   "source": [
    "response_matrix_u_values = result['response_matrix_u'].project(\"ptreco\", \"mreco\", \"ptgen\", \"mgen\").values()\n",
    "response_matrix_g_values = result['response_matrix_g'].project(\"ptreco\", \"mreco\", \"ptgen\", \"mgen\").values()"
   ]
  },
  {
   "cell_type": "code",
   "execution_count": null,
   "id": "5f0b008d",
   "metadata": {},
   "outputs": [],
   "source": [
    "nptreco,nmassreco,nptgen,nmassgen = response_matrix_u_values.shape"
   ]
  },
  {
   "cell_type": "code",
   "execution_count": null,
   "id": "b0f4aaa0",
   "metadata": {},
   "outputs": [],
   "source": [
    "response_matrix_u_final = response_matrix_u_values.reshape( (nptreco)*(nmassreco), (nptgen)*(nmassgen) )\n",
    "print(ak.max(response_matrix_u_final))"
   ]
  },
  {
   "cell_type": "code",
   "execution_count": null,
   "id": "f89f6894",
   "metadata": {},
   "outputs": [],
   "source": [
    "response_matrix_g_final = response_matrix_g_values.reshape( (nptreco)*(nmassreco), (nptgen)*(nmassgen) )"
   ]
  },
  {
   "cell_type": "code",
   "execution_count": null,
   "id": "94a15a8b",
   "metadata": {},
   "outputs": [],
   "source": [
    "plt.figure(figsize = (40,80))\n",
    "plt.imshow( np.log(response_matrix_u_final+1), aspect=\"equal\", cmap=\"Blues\" )\n",
    "plt.xlabel(\"RECO\", fontsize=50)\n",
    "plt.ylabel(\"GEN\", fontsize=50)\n",
    "plt.tick_params(labelsize=40)"
   ]
  },
  {
   "cell_type": "code",
   "execution_count": null,
   "id": "428de191",
   "metadata": {},
   "outputs": [],
   "source": [
    "plt.figure(figsize = (40,80))\n",
    "plt.imshow( np.log(response_matrix_g_final+1), aspect=\"equal\", cmap=\"Blues\" )\n",
    "plt.xlabel(\"RECO\", fontsize=50)\n",
    "plt.ylabel(\"GEN\", fontsize=50)\n",
    "plt.tick_params(labelsize=40)"
   ]
  },
  {
   "cell_type": "code",
   "execution_count": null,
   "id": "355566c2",
   "metadata": {},
   "outputs": [],
   "source": [
    "plt.figure(figsize = (40,80))\n",
    "plt.imshow( response_matrix_u_final, aspect=\"equal\", cmap=\"Blues\" )\n",
    "plt.xlabel(\"RECO\", fontsize=50)\n",
    "plt.ylabel(\"GEN\", fontsize=50)\n",
    "plt.tick_params(labelsize=40)"
   ]
  },
  {
   "cell_type": "code",
   "execution_count": null,
   "id": "6811b02d",
   "metadata": {},
   "outputs": [],
   "source": []
  },
  {
   "cell_type": "code",
   "execution_count": null,
   "id": "e8ef29b2",
   "metadata": {},
   "outputs": [],
   "source": []
  },
  {
   "cell_type": "code",
   "execution_count": null,
   "id": "761a514a",
   "metadata": {},
   "outputs": [],
   "source": []
  },
  {
   "cell_type": "markdown",
   "id": "531630b8",
   "metadata": {},
   "source": [
    "## "
   ]
  },
  {
   "cell_type": "markdown",
   "id": "433390d8-186b-4942-b361-a767990c4263",
   "metadata": {},
   "source": [
    "## "
   ]
  },
  {
   "cell_type": "markdown",
   "id": "483258ec-545e-4dee-afbc-08a4c5d4a420",
   "metadata": {},
   "source": [
    "## "
   ]
  },
  {
   "cell_type": "markdown",
   "id": "dba836b4-023d-4c40-86ca-e54a4cd6a945",
   "metadata": {},
   "source": [
    "## "
   ]
  },
  {
   "cell_type": "markdown",
   "id": "52961724-6d03-4915-ab12-975cb2b47019",
   "metadata": {},
   "source": [
    "## "
   ]
  },
  {
   "cell_type": "markdown",
   "id": "5a4bc196-2317-47d4-8612-3d50f6a121e8",
   "metadata": {},
   "source": [
    "## "
   ]
  },
  {
   "cell_type": "markdown",
   "id": "c94b820a-ef37-4a0e-9833-bc3f15cc686b",
   "metadata": {},
   "source": [
    "## "
   ]
  },
  {
   "cell_type": "markdown",
   "id": "e975d205-3531-4986-8afb-d266dbb81d31",
   "metadata": {},
   "source": [
    "## "
   ]
  },
  {
   "cell_type": "markdown",
   "id": "a82149d7-c564-46b4-b12c-c2533f0a33c4",
   "metadata": {},
   "source": [
    "## "
   ]
  },
  {
   "cell_type": "markdown",
   "id": "9d51eb12-f861-44e0-a5ad-cdc8fdbe4f1d",
   "metadata": {},
   "source": [
    "## "
   ]
  },
  {
   "cell_type": "markdown",
   "id": "837b7c7d-51f5-45a9-a1f3-882ffbbf6968",
   "metadata": {},
   "source": [
    "## "
   ]
  },
  {
   "cell_type": "markdown",
   "id": "52597e77-e28b-4663-be83-cf9c53475b21",
   "metadata": {},
   "source": [
    "## "
   ]
  }
 ],
 "metadata": {
  "kernelspec": {
   "display_name": "Python 3 (ipykernel)",
   "language": "python",
   "name": "python3"
  },
  "language_info": {
   "codemirror_mode": {
    "name": "ipython",
    "version": 3
   },
   "file_extension": ".py",
   "mimetype": "text/x-python",
   "name": "python",
   "nbconvert_exporter": "python",
   "pygments_lexer": "ipython3",
   "version": "3.10.8"
  }
 },
 "nbformat": 4,
 "nbformat_minor": 5
}

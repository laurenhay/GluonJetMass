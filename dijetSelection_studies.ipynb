{
 "cells": [
  {
   "cell_type": "code",
   "execution_count": 2,
   "id": "c1d30278",
   "metadata": {},
   "outputs": [
    {
     "name": "stdout",
     "output_type": "stream",
     "text": [
      "0.7.21\n",
      "['AK8PFJet360_TrimMass30', 'AK8PFJet380_TrimMass30', 'AK8PFJet400_TrimMass30', 'AK8PFJet420_TrimMass30', 'AK8PFHT750_TrimMass50', 'AK8PFHT800_TrimMass50', 'AK8PFHT850_TrimMass50', 'AK8PFHT900_TrimMass50', 'CaloJet500_NoJetID', 'CaloJet550_NoJetID', 'Trimuon5_3p5_2_Upsilon_Muon', 'DoubleEle25_CaloIdL_MW', 'DoubleEle27_CaloIdL_MW', 'DoubleEle33_CaloIdL_MW', 'DoubleEle24_eta2p1_WPTight_Gsf', 'DoubleEle8_CaloIdM_TrackIdM_Mass8_DZ_PFHT350', 'DoubleEle8_CaloIdM_TrackIdM_Mass8_PFHT350', 'Ele27_Ele37_CaloIdL_MW', 'Mu27_Ele37_CaloIdL_MW', 'Mu37_Ele27_CaloIdL_MW', 'Mu37_TkMu27', 'DoubleMu4_3_Bs', 'DoubleMu4_3_Jpsi_Displaced', 'DoubleMu4_JpsiTrk_Displaced', 'DoubleMu4_LowMassNonResonantTrk_Displaced', 'DoubleMu3_Trk_Tau3mu', 'DoubleMu4_PsiPrimeTrk_Displaced', 'DoubleMu4_Mass8_DZ_PFHT350', 'DoubleMu8_Mass8_PFHT350', 'Mu3_PFJet40', 'Mu7p5_L2Mu2_Jpsi', 'Mu7p5_L2Mu2_Upsilon', 'Mu7p5_Track2_Jpsi', 'Mu7p5_Track3p5_Jpsi', 'Mu7p5_Track7_Jpsi', 'Mu7p5_Track2_Upsilon', 'Mu7p5_Track3p5_Upsilon', 'Mu7p5_Track7_Upsilon', 'DoublePhoton33_CaloIdL', 'DoublePhoton70', 'DoublePhoton85', 'Ele20_WPTight_Gsf', 'Ele20_WPLoose_Gsf', 'Ele20_eta2p1_WPLoose_Gsf', 'DiEle27_WPTightCaloOnly_L1DoubleEG', 'Ele27_WPTight_Gsf', 'Ele32_WPTight_Gsf', 'Ele35_WPTight_Gsf', 'Ele35_WPTight_Gsf_L1EGMT', 'Ele38_WPTight_Gsf', 'Ele40_WPTight_Gsf', 'Ele32_WPTight_Gsf_L1DoubleEG', 'HT450_Beamspot', 'HT300_Beamspot', 'IsoMu20_eta2p1_LooseChargedIsoPFTau27_eta2p1_CrossL1', 'IsoMu20_eta2p1_MediumChargedIsoPFTau27_eta2p1_CrossL1', 'IsoMu20_eta2p1_TightChargedIsoPFTau27_eta2p1_CrossL1', 'IsoMu20_eta2p1_LooseChargedIsoPFTau27_eta2p1_TightID_CrossL1', 'IsoMu20_eta2p1_MediumChargedIsoPFTau27_eta2p1_TightID_CrossL1', 'IsoMu20_eta2p1_TightChargedIsoPFTau27_eta2p1_TightID_CrossL1', 'IsoMu24_eta2p1_LooseChargedIsoPFTau20_SingleL1', 'IsoMu24_eta2p1_MediumChargedIsoPFTau20_SingleL1', 'IsoMu24_eta2p1_TightChargedIsoPFTau20_SingleL1', 'IsoMu24_eta2p1_LooseChargedIsoPFTau20_TightID_SingleL1', 'IsoMu24_eta2p1_MediumChargedIsoPFTau20_TightID_SingleL1', 'IsoMu24_eta2p1_TightChargedIsoPFTau20_TightID_SingleL1', 'IsoMu20', 'IsoMu24', 'IsoMu24_eta2p1', 'IsoMu27', 'IsoMu30', 'UncorrectedJetE30_NoBPTX', 'UncorrectedJetE30_NoBPTX3BX', 'UncorrectedJetE60_NoBPTX3BX', 'UncorrectedJetE70_NoBPTX3BX', 'L1SingleMu18', 'L1SingleMu25', 'L2Mu10', 'L2Mu10_NoVertex_NoBPTX3BX', 'L2Mu10_NoVertex_NoBPTX', 'L2Mu45_NoVertex_3Sta_NoBPTX3BX', 'L2Mu40_NoVertex_3Sta_NoBPTX3BX', 'L2Mu50', 'DoubleL2Mu50', 'Mu17_TrkIsoVVL_Mu8_TrkIsoVVL', 'Mu19_TrkIsoVVL_Mu9_TrkIsoVVL', 'Mu17_TrkIsoVVL_Mu8_TrkIsoVVL_DZ', 'Mu19_TrkIsoVVL_Mu9_TrkIsoVVL_DZ', 'Mu17_TrkIsoVVL_Mu8_TrkIsoVVL_DZ_Mass8', 'Mu19_TrkIsoVVL_Mu9_TrkIsoVVL_DZ_Mass8', 'Mu17_TrkIsoVVL_Mu8_TrkIsoVVL_DZ_Mass3p8', 'Mu19_TrkIsoVVL_Mu9_TrkIsoVVL_DZ_Mass3p8', 'Mu25_TkMu0_Onia', 'Mu30_TkMu0_Onia', 'Mu20_TkMu0_Phi', 'Mu25_TkMu0_Phi', 'Mu20', 'Mu27', 'Mu50', 'Mu55', 'OldMu100', 'TkMu100', 'DiPFJet15_NoCaloMatched', 'DiPFJet25_NoCaloMatched', 'DiPFJet15_FBEta3_NoCaloMatched', 'DiPFJet25_FBEta3_NoCaloMatched', 'DiPFJetAve40', 'DiPFJetAve60', 'DiPFJetAve80', 'DiPFJetAve140', 'DiPFJetAve200', 'DiPFJetAve260', 'DiPFJetAve320', 'DiPFJetAve400', 'DiPFJetAve500', 'DiPFJetAve15_HFJEC', 'DiPFJetAve25_HFJEC', 'DiPFJetAve35_HFJEC', 'DiPFJetAve60_HFJEC', 'DiPFJetAve80_HFJEC', 'DiPFJetAve100_HFJEC', 'DiPFJetAve160_HFJEC', 'DiPFJetAve220_HFJEC', 'DiPFJetAve300_HFJEC', 'AK8PFJet40', 'AK8PFJet60', 'AK8PFJet80', 'AK8PFJet140', 'AK8PFJet200', 'AK8PFJet260', 'AK8PFJet320', 'AK8PFJet400', 'AK8PFJet450', 'AK8PFJet500', 'AK8PFJet550', 'PFJet40', 'PFJet60', 'PFJet80', 'PFJet140', 'PFJet200', 'PFJet260', 'PFJet320', 'PFJet400', 'PFJet450', 'PFJet500', 'PFJet550', 'PFJetFwd40', 'PFJetFwd60', 'PFJetFwd80', 'PFJetFwd140', 'PFJetFwd200', 'PFJetFwd260', 'PFJetFwd320', 'PFJetFwd400', 'PFJetFwd450', 'PFJetFwd500', 'AK8PFJetFwd40', 'AK8PFJetFwd60', 'AK8PFJetFwd80', 'AK8PFJetFwd140', 'AK8PFJetFwd200', 'AK8PFJetFwd260', 'AK8PFJetFwd320', 'AK8PFJetFwd400', 'AK8PFJetFwd450', 'AK8PFJetFwd500', 'PFHT180', 'PFHT250', 'PFHT370', 'PFHT430', 'PFHT510', 'PFHT590', 'PFHT680', 'PFHT780', 'PFHT890', 'PFHT1050', 'PFHT500_PFMET100_PFMHT100_IDTight', 'PFHT500_PFMET110_PFMHT110_IDTight', 'PFHT700_PFMET85_PFMHT85_IDTight', 'PFHT700_PFMET95_PFMHT95_IDTight', 'PFHT800_PFMET75_PFMHT75_IDTight', 'PFHT800_PFMET85_PFMHT85_IDTight', 'PFMET110_PFMHT110_IDTight', 'PFMET120_PFMHT120_IDTight', 'PFMET130_PFMHT130_IDTight', 'PFMET140_PFMHT140_IDTight', 'PFMET100_PFMHT100_IDTight_CaloBTagCSV_3p1', 'PFMET110_PFMHT110_IDTight_CaloBTagCSV_3p1', 'PFMET120_PFMHT120_IDTight_CaloBTagCSV_3p1', 'PFMET130_PFMHT130_IDTight_CaloBTagCSV_3p1', 'PFMET140_PFMHT140_IDTight_CaloBTagCSV_3p1', 'PFMET120_PFMHT120_IDTight_PFHT60', 'PFMETNoMu120_PFMHTNoMu120_IDTight_PFHT60', 'PFMETTypeOne120_PFMHT120_IDTight_PFHT60', 'PFMETTypeOne110_PFMHT110_IDTight', 'PFMETTypeOne120_PFMHT120_IDTight', 'PFMETTypeOne130_PFMHT130_IDTight', 'PFMETTypeOne140_PFMHT140_IDTight', 'PFMETNoMu110_PFMHTNoMu110_IDTight', 'PFMETNoMu120_PFMHTNoMu120_IDTight', 'PFMETNoMu130_PFMHTNoMu130_IDTight', 'PFMETNoMu140_PFMHTNoMu140_IDTight', 'MonoCentralPFJet80_PFMETNoMu110_PFMHTNoMu110_IDTight', 'MonoCentralPFJet80_PFMETNoMu120_PFMHTNoMu120_IDTight', 'MonoCentralPFJet80_PFMETNoMu130_PFMHTNoMu130_IDTight', 'MonoCentralPFJet80_PFMETNoMu140_PFMHTNoMu140_IDTight', 'L1ETMHadSeeds', 'CaloMHT90', 'CaloMET80_NotCleaned', 'CaloMET90_NotCleaned', 'CaloMET100_NotCleaned', 'CaloMET110_NotCleaned', 'CaloMET250_NotCleaned', 'CaloMET70_HBHECleaned', 'CaloMET80_HBHECleaned', 'CaloMET90_HBHECleaned', 'CaloMET100_HBHECleaned', 'CaloMET250_HBHECleaned', 'CaloMET300_HBHECleaned', 'CaloMET350_HBHECleaned', 'PFMET200_NotCleaned', 'PFMET200_HBHECleaned', 'PFMET250_HBHECleaned', 'PFMET300_HBHECleaned', 'PFMET200_HBHE_BeamHaloCleaned', 'PFMETTypeOne200_HBHE_BeamHaloCleaned', 'MET105_IsoTrk50', 'MET120_IsoTrk50', 'SingleJet30_Mu12_SinglePFJet40', 'Mu12_DoublePFJets40_CaloBTagCSV_p33', 'Mu12_DoublePFJets100_CaloBTagCSV_p33', 'Mu12_DoublePFJets200_CaloBTagCSV_p33', 'Mu12_DoublePFJets350_CaloBTagCSV_p33', 'Mu12_DoublePFJets40MaxDeta1p6_DoubleCaloBTagCSV_p33', 'Mu12_DoublePFJets54MaxDeta1p6_DoubleCaloBTagCSV_p33', 'Mu12_DoublePFJets62MaxDeta1p6_DoubleCaloBTagCSV_p33', 'DoublePFJets40_CaloBTagCSV_p33', 'DoublePFJets100_CaloBTagCSV_p33', 'DoublePFJets200_CaloBTagCSV_p33', 'DoublePFJets350_CaloBTagCSV_p33', 'DoublePFJets100MaxDeta1p6_DoubleCaloBTagCSV_p33', 'DoublePFJets116MaxDeta1p6_DoubleCaloBTagCSV_p33', 'DoublePFJets128MaxDeta1p6_DoubleCaloBTagCSV_p33', 'Photon300_NoHE', 'Mu8_TrkIsoVVL', 'Mu8_DiEle12_CaloIdL_TrackIdL_DZ', 'Mu8_DiEle12_CaloIdL_TrackIdL', 'Mu8_Ele8_CaloIdM_TrackIdM_Mass8_PFHT350_DZ', 'Mu8_Ele8_CaloIdM_TrackIdM_Mass8_PFHT350', 'Mu8_TrkIsoVVL_Ele23_CaloIdL_TrackIdL_IsoVL_DZ', 'Mu8_TrkIsoVVL_Ele23_CaloIdL_TrackIdL_IsoVL', 'Mu17_TrkIsoVVL', 'Mu19_TrkIsoVVL', 'BTagMu_AK4DiJet20_Mu5', 'BTagMu_AK4DiJet40_Mu5', 'BTagMu_AK4DiJet70_Mu5', 'BTagMu_AK4DiJet110_Mu5', 'BTagMu_AK4DiJet170_Mu5', 'BTagMu_AK4Jet300_Mu5', 'BTagMu_AK8DiJet170_Mu5', 'BTagMu_AK8Jet300_Mu5', 'Ele23_Ele12_CaloIdL_TrackIdL_IsoVL_DZ', 'Mu23_TrkIsoVVL_Ele12_CaloIdL_TrackIdL_IsoVL_DZ', 'Mu23_TrkIsoVVL_Ele12_CaloIdL_TrackIdL_IsoVL', 'Mu12_TrkIsoVVL_Ele23_CaloIdL_TrackIdL_IsoVL', 'Mu12_TrkIsoVVL_Ele23_CaloIdL_TrackIdL_IsoVL_DZ', 'Mu12_DoublePhoton20', 'Ele23_Ele12_CaloIdL_TrackIdL_IsoVL', 'TriplePhoton_20_20_20_CaloIdLV2', 'TriplePhoton_20_20_20_CaloIdLV2_R9IdVL', 'TriplePhoton_30_30_10_CaloIdLV2', 'TriplePhoton_30_30_10_CaloIdLV2_R9IdVL', 'TriplePhoton_35_35_5_CaloIdLV2_R9IdVL', 'Photon25', 'Photon33', 'Photon50', 'Photon75', 'Photon90', 'Photon120', 'Photon150', 'Photon175', 'Photon200', 'Photon50_R9Id90_HE10_IsoM', 'Photon75_R9Id90_HE10_IsoM', 'Photon90_R9Id90_HE10_IsoM', 'Photon120_R9Id90_HE10_IsoM', 'Photon165_R9Id90_HE10_IsoM', 'Diphoton30_22_R9Id_OR_IsoCaloId_AND_HE_R9Id_Mass90', 'Diphoton30_22_R9Id_OR_IsoCaloId_AND_HE_R9Id_Mass95', 'Diphoton30PV_18PV_R9Id_AND_IsoCaloId_AND_HE_R9Id_PixelVeto_Mass55', 'Diphoton30PV_18PV_R9Id_AND_IsoCaloId_AND_HE_R9Id_NoPixelVeto_Mass55', 'Diphoton30EB_18EB_R9Id_OR_IsoCaloId_AND_HE_R9Id_NoPixelVeto_Mass55', 'Diphoton30EB_18EB_R9Id_OR_IsoCaloId_AND_HE_R9Id_PixelVeto_Mass55', 'Dimuon0_Jpsi_L1_NoOS', 'Dimuon0_Jpsi_NoVertexing_NoOS', 'Dimuon0_Jpsi', 'Dimuon0_Jpsi_NoVertexing', 'Dimuon0_Jpsi_L1_4R_0er1p5R', 'Dimuon0_Jpsi_NoVertexing_L1_4R_0er1p5R', 'Dimuon0_Jpsi3p5_Muon2', 'Dimuon0_Upsilon_L1_4p5', 'Dimuon0_Upsilon_L1_5', 'Dimuon0_Upsilon_L1_4p5NoOS', 'Dimuon0_Upsilon_L1_4p5er2p0', 'Dimuon0_Upsilon_L1_4p5er2p0M', 'Dimuon0_Upsilon_NoVertexing', 'Dimuon0_Upsilon_L1_5M', 'Dimuon0_LowMass_L1_0er1p5R', 'Dimuon0_LowMass_L1_0er1p5', 'Dimuon0_LowMass', 'Dimuon0_LowMass_L1_4', 'Dimuon0_LowMass_L1_4R', 'Dimuon0_LowMass_L1_TM530', 'Dimuon0_Upsilon_Muon_L1_TM0', 'Dimuon0_Upsilon_Muon_NoL1Mass', 'TripleMu_10_5_5_DZ', 'TripleMu_12_10_5', 'Tau3Mu_Mu7_Mu1_TkMu1_Tau15', 'Tau3Mu_Mu7_Mu1_TkMu1_Tau15_Charge1', 'Tau3Mu_Mu7_Mu1_TkMu1_IsoTau15', 'Tau3Mu_Mu7_Mu1_TkMu1_IsoTau15_Charge1', 'DoubleMu3_DZ_PFMET50_PFMHT60', 'DoubleMu3_DZ_PFMET70_PFMHT70', 'DoubleMu3_DZ_PFMET90_PFMHT90', 'DoubleMu3_Trk_Tau3mu_NoL1Mass', 'DoubleMu4_Jpsi_Displaced', 'DoubleMu4_Jpsi_NoVertexing', 'DoubleMu4_JpsiTrkTrk_Displaced', 'DoubleMu43NoFiltersNoVtx', 'DoubleMu48NoFiltersNoVtx', 'Mu43NoFiltersNoVtx_Photon43_CaloIdL', 'Mu48NoFiltersNoVtx_Photon48_CaloIdL', 'DoubleMu20_7_Mass0to30_L1_DM4', 'DoubleMu20_7_Mass0to30_L1_DM4EG', 'HT425', 'HT430_DisplacedDijet40_DisplacedTrack', 'HT430_DisplacedDijet60_DisplacedTrack', 'HT430_DisplacedDijet80_DisplacedTrack', 'HT400_DisplacedDijet40_DisplacedTrack', 'HT650_DisplacedDijet60_Inclusive', 'HT550_DisplacedDijet80_Inclusive', 'HT550_DisplacedDijet60_Inclusive', 'HT650_DisplacedDijet80_Inclusive', 'HT750_DisplacedDijet80_Inclusive', 'DiJet110_35_Mjj650_PFMET110', 'DiJet110_35_Mjj650_PFMET120', 'DiJet110_35_Mjj650_PFMET130', 'TripleJet110_35_35_Mjj650_PFMET110', 'TripleJet110_35_35_Mjj650_PFMET120', 'TripleJet110_35_35_Mjj650_PFMET130', 'VBF_DoubleLooseChargedIsoPFTau20_Trk1_eta2p1_Reg', 'VBF_DoubleMediumChargedIsoPFTau20_Trk1_eta2p1_Reg', 'VBF_DoubleTightChargedIsoPFTau20_Trk1_eta2p1_Reg', 'Ele30_eta2p1_WPTight_Gsf_CentralPFJet35_EleCleaned', 'Ele28_eta2p1_WPTight_Gsf_HT150', 'Ele28_HighEta_SC20_Mass55', 'DoubleMu20_7_Mass0to30_Photon23', 'Ele15_IsoVVVL_PFHT450_CaloBTagCSV_4p5', 'Ele15_IsoVVVL_PFHT450_PFMET50', 'Ele15_IsoVVVL_PFHT450', 'Ele50_IsoVVVL_PFHT450', 'Ele15_IsoVVVL_PFHT600', 'Mu8_TrkIsoVVL_DiPFJet40_DEta3p5_MJJ750_HTT300_PFMETNoMu60', 'Mu10_TrkIsoVVL_DiPFJet40_DEta3p5_MJJ750_HTT350_PFMETNoMu60', 'Mu15_IsoVVVL_PFHT450_CaloBTagCSV_4p5', 'Mu15_IsoVVVL_PFHT450_PFMET50', 'Mu15_IsoVVVL_PFHT450', 'Mu50_IsoVVVL_PFHT450', 'Mu15_IsoVVVL_PFHT600', 'Dimuon10_PsiPrime_Barrel_Seagulls', 'Dimuon20_Jpsi_Barrel_Seagulls', 'Dimuon10_Upsilon_Barrel_Seagulls', 'Dimuon12_Upsilon_eta1p5', 'Dimuon14_Phi_Barrel_Seagulls', 'Dimuon18_PsiPrime', 'Dimuon25_Jpsi', 'Dimuon18_PsiPrime_noCorrL1', 'Dimuon24_Upsilon_noCorrL1', 'Dimuon24_Phi_noCorrL1', 'Dimuon25_Jpsi_noCorrL1', 'DiMu9_Ele9_CaloIdL_TrackIdL_DZ', 'DiMu9_Ele9_CaloIdL_TrackIdL', 'DoubleIsoMu20_eta2p1', 'DoubleIsoMu24_eta2p1', 'TrkMu12_DoubleTrkMu5NoFiltersNoVtx', 'TrkMu16_DoubleTrkMu6NoFiltersNoVtx', 'TrkMu17_DoubleTrkMu8NoFiltersNoVtx', 'Mu8', 'Mu17', 'Mu19', 'Mu17_Photon30_IsoCaloId', 'Ele8_CaloIdL_TrackIdL_IsoVL_PFJet30', 'Ele12_CaloIdL_TrackIdL_IsoVL_PFJet30', 'Ele23_CaloIdL_TrackIdL_IsoVL_PFJet30', 'Ele8_CaloIdM_TrackIdM_PFJet30', 'Ele17_CaloIdM_TrackIdM_PFJet30', 'Ele23_CaloIdM_TrackIdM_PFJet30', 'Ele50_CaloIdVT_GsfTrkIdT_PFJet165', 'Ele115_CaloIdVT_GsfTrkIdT', 'Ele135_CaloIdVT_GsfTrkIdT', 'Ele145_CaloIdVT_GsfTrkIdT', 'Ele200_CaloIdVT_GsfTrkIdT', 'Ele250_CaloIdVT_GsfTrkIdT', 'Ele300_CaloIdVT_GsfTrkIdT', 'PFHT300PT30_QuadPFJet_75_60_45_40', 'PFHT300PT30_QuadPFJet_75_60_45_40_TriplePFBTagCSV_3p0', 'PFHT380_SixPFJet32_DoublePFBTagCSV_2p2', 'PFHT380_SixPFJet32_DoublePFBTagDeepCSV_2p2', 'PFHT380_SixPFJet32', 'PFHT430_SixPFJet40_PFBTagCSV_1p5', 'PFHT430_SixPFJet40', 'PFHT350', 'PFHT350MinPFJet15', 'Photon60_R9Id90_CaloIdL_IsoL', 'Photon60_R9Id90_CaloIdL_IsoL_DisplacedIdL', 'Photon60_R9Id90_CaloIdL_IsoL_DisplacedIdL_PFHT350MinPFJet15', 'FullTrack_Multiplicity85', 'FullTrack_Multiplicity100', 'FullTrack_Multiplicity130', 'FullTrack_Multiplicity155', 'ECALHT800', 'DiSC30_18_EIso_AND_HE_Mass70', 'Physics', 'Physics_part0', 'Physics_part1', 'Physics_part2', 'Physics_part3', 'Physics_part4', 'Physics_part5', 'Physics_part6', 'Physics_part7', 'Random', 'ZeroBias', 'ZeroBias_part0', 'ZeroBias_part1', 'ZeroBias_part2', 'ZeroBias_part3', 'ZeroBias_part4', 'ZeroBias_part5', 'ZeroBias_part6', 'ZeroBias_part7', 'AK4CaloJet30', 'AK4CaloJet40', 'AK4CaloJet50', 'AK4CaloJet80', 'AK4CaloJet100', 'AK4CaloJet120', 'AK4PFJet30', 'AK4PFJet50', 'AK4PFJet80', 'AK4PFJet100', 'AK4PFJet120', 'HISinglePhoton10_Eta3p1ForPPRef', 'HISinglePhoton20_Eta3p1ForPPRef', 'HISinglePhoton30_Eta3p1ForPPRef', 'HISinglePhoton40_Eta3p1ForPPRef', 'HISinglePhoton50_Eta3p1ForPPRef', 'HISinglePhoton60_Eta3p1ForPPRef', 'Photon20_HoverELoose', 'Photon30_HoverELoose', 'Photon40_HoverELoose', 'Photon50_HoverELoose', 'Photon60_HoverELoose', 'EcalCalibration', 'HcalCalibration', 'L1UnpairedBunchBptxMinus', 'L1UnpairedBunchBptxPlus', 'L1NotBptxOR', 'L1MinimumBiasHF_OR', 'L1MinimumBiasHF0OR', 'L1_CDC_SingleMu_3_er1p2_TOP120_DPHI2p618_3p142', 'HcalNZS', 'HcalPhiSym', 'HcalIsolatedbunch', 'IsoTrackHB', 'IsoTrackHE', 'ZeroBias_FirstCollisionAfterAbortGap', 'ZeroBias_IsolatedBunches', 'ZeroBias_FirstCollisionInTrain', 'ZeroBias_LastCollisionInTrain', 'ZeroBias_FirstBXAfterTrain', 'Ele24_eta2p1_WPTight_Gsf_LooseChargedIsoPFTau30_eta2p1_CrossL1', 'Ele24_eta2p1_WPTight_Gsf_MediumChargedIsoPFTau30_eta2p1_CrossL1', 'Ele24_eta2p1_WPTight_Gsf_TightChargedIsoPFTau30_eta2p1_CrossL1', 'Ele24_eta2p1_WPTight_Gsf_LooseChargedIsoPFTau30_eta2p1_TightID_CrossL1', 'Ele24_eta2p1_WPTight_Gsf_MediumChargedIsoPFTau30_eta2p1_TightID_CrossL1', 'Ele24_eta2p1_WPTight_Gsf_TightChargedIsoPFTau30_eta2p1_TightID_CrossL1', 'DoubleLooseChargedIsoPFTau35_Trk1_eta2p1_Reg', 'DoubleLooseChargedIsoPFTau40_Trk1_eta2p1_Reg', 'DoubleMediumChargedIsoPFTau35_Trk1_eta2p1_Reg', 'DoubleMediumChargedIsoPFTau40_Trk1_eta2p1_Reg', 'DoubleTightChargedIsoPFTau35_Trk1_eta2p1_Reg', 'DoubleTightChargedIsoPFTau40_Trk1_eta2p1_Reg', 'DoubleLooseChargedIsoPFTau35_Trk1_TightID_eta2p1_Reg', 'DoubleLooseChargedIsoPFTau40_Trk1_TightID_eta2p1_Reg', 'DoubleMediumChargedIsoPFTau35_Trk1_TightID_eta2p1_Reg', 'DoubleMediumChargedIsoPFTau40_Trk1_TightID_eta2p1_Reg', 'DoubleTightChargedIsoPFTau35_Trk1_TightID_eta2p1_Reg', 'DoubleTightChargedIsoPFTau40_Trk1_TightID_eta2p1_Reg', 'IsoMu24_eta2p1_MediumChargedIsoPFTau50_Trk30_eta2p1_1pr', 'MediumChargedIsoPFTau50_Trk30_eta2p1_1pr_MET90', 'MediumChargedIsoPFTau50_Trk30_eta2p1_1pr_MET100', 'MediumChargedIsoPFTau50_Trk30_eta2p1_1pr_MET110', 'MediumChargedIsoPFTau50_Trk30_eta2p1_1pr_MET120', 'MediumChargedIsoPFTau50_Trk30_eta2p1_1pr_MET130', 'MediumChargedIsoPFTau50_Trk30_eta2p1_1pr', 'MediumChargedIsoPFTau180HighPtRelaxedIso_Trk50_eta2p1_1pr', 'MediumChargedIsoPFTau180HighPtRelaxedIso_Trk50_eta2p1', 'IsoMu24_eta2p1_LooseChargedIsoPFTau35_Trk1_eta2p1_Reg_CrossL1', 'IsoMu24_eta2p1_LooseChargedIsoPFTau35_Trk1_TightID_eta2p1_Reg_CrossL1', 'IsoMu24_eta2p1_MediumChargedIsoPFTau35_Trk1_eta2p1_Reg_CrossL1', 'IsoMu24_eta2p1_MediumChargedIsoPFTau35_Trk1_TightID_eta2p1_Reg_CrossL1', 'IsoMu24_eta2p1_TightChargedIsoPFTau35_Trk1_eta2p1_Reg_CrossL1', 'IsoMu24_eta2p1_TightChargedIsoPFTau35_Trk1_TightID_eta2p1_Reg_CrossL1', 'IsoMu24_eta2p1_MediumChargedIsoPFTau40_Trk1_eta2p1_Reg_CrossL1', 'IsoMu24_eta2p1_MediumChargedIsoPFTau40_Trk1_TightID_eta2p1_Reg_CrossL1', 'IsoMu24_eta2p1_TightChargedIsoPFTau40_Trk1_eta2p1_Reg_CrossL1', 'IsoMu24_eta2p1_TightChargedIsoPFTau40_Trk1_TightID_eta2p1_Reg_CrossL1', 'Ele16_Ele12_Ele8_CaloIdL_TrackIdL', 'Rsq0p35', 'Rsq0p40', 'RsqMR300_Rsq0p09_MR200', 'RsqMR320_Rsq0p09_MR200', 'RsqMR300_Rsq0p09_MR200_4jet', 'RsqMR320_Rsq0p09_MR200_4jet', 'TripleMu_5_3_3_Mass3p8to60_DZ']\n"
     ]
    }
   ],
   "source": [
    "import awkward as ak\n",
    "import numpy as np\n",
    "import coffea\n",
    "import os\n",
    "from python.plugins import *\n",
    "\n",
    "print(coffea.__version__)\n",
    "from coffea import util\n",
    "from coffea.nanoevents import NanoEventsFactory, NanoAODSchema\n",
    "\n",
    "import hist\n",
    "\n",
    "# testFiles = [\n",
    "# \"root://cmsxrootd.fnal.gov//store/mc/RunIISummer20UL17NanoAODv9/QCD_Pt_170to300_TuneCP5_13TeV_pythia8/NANOAODSIM/106X_mc2017_realistic_v9-v1/120000/0CDD30E0-B953-E54B-BB7A-BFB45BE6EC93.root\",\n",
    "# \"root://cmsxrootd.fnal.gov//store/mc/RunIISummer20UL17NanoAODv9/QCD_Pt_300to470_TuneCP5_13TeV_pythia8/NANOAODSIM/106X_mc2017_realistic_v9-v1/120000/3788BBD3-3B70-BE48-B01A-4FA395E1E0B6.root\",\n",
    "# \"root://cmsxrootd.fnal.gov//store/mc/RunIISummer20UL17NanoAODv9/QCD_Pt_470to600_TuneCP5_13TeV_pythia8/NANOAODSIM/106X_mc2017_realistic_v9-v1/70000/F6B6A983-3E2B-7B4D-A2CE-E03AB6E32387.root\",\n",
    "# \"root://cmsxrootd.fnal.gov//store/mc/RunIISummer20UL17NanoAODv9/QCD_Pt_600to800_TuneCP5_13TeV_pythia8/NANOAODSIM/106X_mc2017_realistic_v9-v1/70000/FDF7FBE4-9226-994A-BD45-29995A3CD62F.root\",\n",
    "# \"root://cmsxrootd.fnal.gov//store/mc/RunIISummer20UL17NanoAODv9/QCD_Pt_800to1000_TuneCP5_13TeV_pythia8/NANOAODSIM/106X_mc2017_realistic_v9-v1/70000/2CEB03D7-5B1A-EE46-9C21-13ED3E349AF4.root\",\n",
    "# \"root://cmsxrootd.fnal.gov//store/mc/RunIISummer20UL17NanoAODv9/QCD_Pt_1000to1400_TuneCP5_13TeV_pythia8/NANOAODSIM/106X_mc2017_realistic_v9-v1/70000/DB87A517-0584-1A41-BB18-AAE7C9AAE5B8.root\",\n",
    "# \"root://cmsxrootd.fnal.gov//store/mc/RunIISummer20UL17NanoAODv9/QCD_Pt_1400to1800_TuneCP5_13TeV_pythia8/NANOAODSIM/106X_mc2017_realistic_v9-v1/280000/BFE2E7E9-82CB-FE47-9B43-EBA5C373AF60.root\",\n",
    "# \"root://cmsxrootd.fnal.gov//store/mc/RunIISummer20UL17NanoAODv9/QCD_Pt_1800to2400_TuneCP5_13TeV_pythia8/NANOAODSIM/106X_mc2017_realistic_v9-v1/70000/5213B536-BAA1-CC43-A58A-B1E41E2680F5.root\",\n",
    "# \"root://cmsxrootd.fnal.gov//store/mc/RunIISummer20UL17NanoAODv9/QCD_Pt_2400to3200_TuneCP5_13TeV_pythia8/NANOAODSIM/106X_mc2017_realistic_v9-v1/280000/E8400F91-3216-EA46-A9F1-8CC7EF5261B0.root\",\n",
    "# \"root://cmsxrootd.fnal.gov//store/mc/RunIISummer20UL17NanoAODv9/QCD_Pt_3200toInf_TuneCP5_13TeV_pythia8/NANOAODSIM/106X_mc2017_realistic_v9-v1/280000/B21BFDD8-B878-784C-AFB6-5CDE131F5C39.root\"\n",
    "# ]\n",
    "\n",
    "# redirector = 'root://xcache/'\n",
    "redirector='root://cmsxrootd.fnal.gov/'\n",
    "# files = handleData('fileset_QCD.json', redirector, testing = True, data = False)\n",
    "# # files_test = handleData('fileset_QCD.json', redirector, testing = False, data = False)\n",
    "\n",
    "events = NanoEventsFactory.from_root(redirector+\"/store/data/Run2017D/JetHT/NANOAOD/UL2017_MiniAODv2_NanoAODv9-v1/120000/4A70E050-A8B9-FA46-92C3-4A85F22FB255.root\", schemaclass=NanoAODSchema).events()\n",
    "print(events.HLT.fields)\n"
   ]
  },
  {
   "cell_type": "code",
   "execution_count": null,
   "id": "1f9eed95",
   "metadata": {
    "scrolled": true
   },
   "outputs": [],
   "source": [
    "from python.dijetProcessor import makeDijetHists\n",
    "from dask.distributed import Client\n",
    "import pickle\n",
    "#### WE'RE MISSING 2016B ver2 -- AK8 PF HLT is missing need to use AK4 trigger isntead\n",
    "\n",
    "data = False\n",
    "winterfell = False\n",
    "dask = True\n",
    "testing = False\n",
    "casa = False\n",
    "year = \"2018\"\n",
    "processor = makeDijetHists(data = data)\n",
    "datastring = \"JetHT\" if processor.do_gen == False else \"QCDsim\"\n",
    "if year == 2016 or year == 2017 or year == 2018:\n",
    "    year_str = str(year)\n",
    "elif year == \"2016\" or year == \"2016APV\" or year == \"2017\" or year == \"2018\":\n",
    "    year_str = year\n",
    "else:\n",
    "    year_str = \"All\"\n",
    "if processor.do_gen==True and winterfell:\n",
    "    filename = \"QCD_flat_files.json\"\n",
    "elif processor.do_gen==True:\n",
    "    filename = \"fileset_QCD.json\"\n",
    "else:\n",
    "    filename = \"datasets_UL_NANOAOD.json\"\n",
    "if testing and not data:\n",
    "    fname = 'coffeaOutput/dijetHistsTest_wXSscaling_{}_pt{}_rapidity{}jesjecL1PU{}.pkl'.format(datastring, processor.ptcut, processor.ycut, year_str)\n",
    "elif testing and data:\n",
    "    fname = 'coffeaOutput/dijetHistsTest{}_pt{}_rapidity{}jesjecL1PU{}.pkl'.format(datastring, processor.ptcut, processor.ycut, year_str)\n",
    "elif not testing and data:\n",
    "    fname = 'coffeaOutput/dijetHists_{}_pt{}_rapidity{}jesjecL1PU{}.pkl'.format(datastring, processor.ptcut, processor.ycut, year_str)\n",
    "else:\n",
    "    fname = 'coffeaOutput/dijetHists_wXSscaling_{}_pt{}_rapidity{}jesjecL1PU{}.pkl'.format(datastring, processor.ptcut, processor.ycut, year_str)"
   ]
  },
  {
   "cell_type": "code",
   "execution_count": null,
   "id": "2c55f74b",
   "metadata": {},
   "outputs": [],
   "source": [
    "result = runCoffeaJob(processor, jsonFile = filename, casa = casa, winterfell = winterfell, year = year,\n",
    "                      testing = testing, dask = dask, data = not processor.do_gen)\n",
    "with open(fname, \"wb\") as f:\n",
    "    pickle.dump( result, f)"
   ]
  },
  {
   "cell_type": "code",
   "execution_count": null,
   "id": "91cdf3f2",
   "metadata": {
    "tags": []
   },
   "outputs": [],
   "source": [
    "# fname = 'coffeaOutput/dijetHistsTest_QCDsim_30.0_2.5.pkl'\n",
    "with open(fname, \"rb\") as f:\n",
    "    result = pickle.load( f )\n",
    "# result=result[0]\n",
    "import matplotlib.pyplot as plt\n",
    "import mplhep as hep\n",
    "plt.style.use(hep.style.CMS)\n",
    "%matplotlib inline\n",
    "\n",
    "plt.rcParams[\"figure.figsize\"] = (10,10)\n",
    "\n",
    "print(result['cutflow'])"
   ]
  },
  {
   "cell_type": "code",
   "execution_count": null,
   "id": "0b80797b",
   "metadata": {
    "tags": []
   },
   "outputs": [],
   "source": [
    "fig, axs = plt.subplots(2, 2)\n",
    "fig.suptitle('Ungroomed MC jets')\n",
    "\n",
    "result['response_matrix_u'][{'dataset':sum, 'syst':\"nominal\"}].project('ptreco').plot1d(ax=axs[0,0], binwnorm=True)\n",
    "result['response_matrix_u'][{'dataset':sum, 'syst':\"jesUp\"}].project('ptreco').plot1d(ax=axs[0,0], binwnorm=True)\n",
    "result['response_matrix_u'][{'dataset':sum}].project('ptgen').plot1d(ax=axs[0,1])\n",
    "result['response_matrix_u'][{'dataset':sum}].project('mgen').plot1d(ax=axs[1,0], binwnorm=True)\n",
    "result['response_matrix_u'][{'dataset':sum}].project('mreco').plot1d(ax=axs[1,1])"
   ]
  },
  {
   "cell_type": "code",
   "execution_count": null,
   "id": "09a9a545-9648-4ae8-b43a-f9f05e7c5272",
   "metadata": {
    "tags": []
   },
   "outputs": [],
   "source": [
    "s = result['response_matrix_u'][{'dataset':sum}].stack(\"syst\")\n",
    "s.project('ptreco').plot(binwnorm=True)\n",
    "plt.legend()\n",
    "plt.show()"
   ]
  },
  {
   "cell_type": "code",
   "execution_count": null,
   "id": "26e46d9c-ad42-4f34-941b-95aa31b9197b",
   "metadata": {
    "tags": []
   },
   "outputs": [],
   "source": [
    "# fname = 'coffeaOutput/dijetHistsTest_JetHT_30.0_2.5.pkl'\n",
    "with open(fname, \"rb\") as f:\n",
    "    result = pickle.load( f )\n",
    "# result=result[0]\n",
    "import matplotlib.pyplot as plt\n",
    "%matplotlib inline\n",
    "#import mplhep as hep\n",
    "plt.rcParams[\"figure.figsize\"] = (10,10)"
   ]
  },
  {
   "cell_type": "code",
   "execution_count": null,
   "id": "b50f770f-e4a6-489e-81c9-7104f2a64a46",
   "metadata": {
    "tags": []
   },
   "outputs": [],
   "source": [
    "fig, axs = plt.subplots(2, 2)\n",
    "fig.suptitle('Ungroomed Data jets')\n",
    "result['jet_pt_mass_reco_u'][{'dataset':sum}].project('ptreco').plot1d(ax=axs[0,0], binwnorm=True)\n",
    "result['jet_pt_mass_reco_u'][{'dataset':sum}].project('mreco').plot1d(ax=axs[0,1])\n",
    "result['jet_pt_mass_reco_g'][{'dataset':sum}].project('ptreco').plot1d(ax=axs[1,0], binwnorm=True)\n",
    "result['jet_pt_mass_reco_g'][{'dataset':sum}].project('mreco').plot1d(ax=axs[1,1])"
   ]
  },
  {
   "cell_type": "code",
   "execution_count": null,
   "id": "2d701e4d-4861-4824-8cc8-756916354481",
   "metadata": {
    "tags": []
   },
   "outputs": [],
   "source": [
    "numerator = result['jet_pt'][{'partonFlav':'Gluon'}].project('ptreco')\n",
    "denominator = result['jet_pt'].project('ptreco')\n",
    "print(numerator.values(), denominator.values())\n",
    "\n",
    "numerator.label = r'$\\epsilon$'\n",
    "fig = plt.gcf()\n",
    "grid = fig.add_gridspec(2, 1, hspace=0, height_ratios=[3, 1])\n",
    "\n",
    "main_ax = fig.add_subplot(grid[0])\n",
    "subplot_ax = fig.add_subplot(grid[1], sharex=main_ax)\n",
    "plt.setp(main_ax.get_xticklabels(), visible=False)\n",
    "main_ax, sublot_ax = numerator.plot_ratio(\n",
    "    denominator,\n",
    "    rp_num_label=\"gluons\",\n",
    "    rp_denom_label=\"all\",\n",
    "    rp_uncert_draw_type=\"line\",\n",
    "    rp_uncertainty_type=\"efficiency\",\n",
    "    ax_dict = {\"main_ax\":main_ax,\"ratio_ax\":subplot_ax}\n",
    ")\n",
    "\n",
    "plt.xlabel(\"Pt (GeV)\")\n",
    "plt.ylabel(\"Gluon fraction\")\n",
    "fig.suptitle('Gluon content as a function of pT')"
   ]
  },
  {
   "cell_type": "code",
   "execution_count": null,
   "id": "aacad3c5",
   "metadata": {},
   "outputs": [],
   "source": [
    "numerator = result['jet_eta'][{'partonFlav':'Gluon'}].project('eta')\n",
    "denominator = result['jet_eta'].project('eta')\n",
    "print(numerator.values(), denominator.values())\n",
    "numerator.label = r'$\\epsilon$'\n",
    "numerator.label = r'$\\epsilon$'\n",
    "fig = plt.gcf()\n",
    "grid = fig.add_gridspec(2, 1, hspace=0, height_ratios=[3, 1])\n",
    "\n",
    "main_axis = fig.add_subplot(grid[0])\n",
    "ratio_ax = fig.add_subplot(grid[1], sharex=main_axis)\n",
    "plt.setp(main_axis.get_xticklabels(), visible=False)\n",
    "main_ax, sublot_ax = numerator.plot_ratio(\n",
    "    denominator,\n",
    "    rp_num_label=\"gluons\",\n",
    "    rp_denom_label=\"all\",\n",
    "    rp_uncert_draw_type=\"line\",\n",
    "    rp_uncertainty_type=\"efficiency\",\n",
    "    ax_dict = {\"main_ax\":main_axis,\"ratio_ax\":ratio_ax}\n",
    ")\n",
    "\n",
    "plt.xlabel(r'$\\eta$')\n",
    "plt.ylabel(\"Gluon fraction\")\n",
    "main_axis.set_title('Gluon content as a function of eta')\n"
   ]
  },
  {
   "cell_type": "code",
   "execution_count": null,
   "id": "374e1fa7",
   "metadata": {},
   "outputs": [],
   "source": [
    "#sum entries in bins --> plot as y-axis\n",
    "plt.rcParams[\"figure.figsize\"] = (20,5)\n",
    "\n",
    "\n",
    "fig, axs = plt.subplots(1, 3)\n",
    "result['jet_mass'][{'jetNumb':sum, 'dataset':sum}].plot1d(ax = axs[0], overlay='partonFlav')\n",
    "plt.rc('legend',fontsize='small')\n",
    "plt.xlabel(\"Jet mass (GeV)\")\n",
    "result['jet_pt'][{'jetNumb':sum, 'dataset':sum}].plot1d(ax = axs[1], overlay='partonFlav')\n",
    "plt.rc('legend',fontsize='small')\n",
    "#axs[0].set_xlabel(\"Jet mass (GeV)\")\n",
    "plt.xlabel(\"Jet pT (GeV)\")\n",
    "result['jet_eta'][{'jetNumb':sum, 'dataset':sum}].plot1d(ax = axs[2], overlay='partonFlav')\n",
    "plt.rc('legend',fontsize='small')\n",
    "plt.legend()\n",
    "plt.xlabel(\"Jet eta (GeV)\")\n",
    "\n",
    "fig.suptitle('Dijet eta <2.5, pt> 200.', fontsize=\"large\")"
   ]
  },
  {
   "cell_type": "code",
   "execution_count": null,
   "id": "6238fc43",
   "metadata": {},
   "outputs": [],
   "source": [
    "plt.rcParams[\"figure.figsize\"] = (20,10)\n",
    "fig, axs = plt.subplots(2, 3)\n",
    "print(result['jet_mass'])\n",
    "result['jet_mass'][{'jetNumb':'jet1', 'dataset':sum}].plot1d(ax = axs[0,0], overlay='partonFlav')\n",
    "plt.rc('legend',fontsize='small')\n",
    "plt.xlabel(\"Jet mass (GeV)\")\n",
    "result['jet_pt'][{'jetNumb':'jet1', 'dataset':sum}].plot1d(ax = axs[0,1], overlay='partonFlav')\n",
    "plt.rc('legend',fontsize='small')\n",
    "#axs[0].set_xlabel(\"Jet mass (GeV)\")\n",
    "plt.xlabel(\"Jet pT (GeV)\")\n",
    "result['jet_eta'][{'jetNumb':'jet1', 'dataset':sum}].plot1d(ax = axs[0,2], overlay='partonFlav')\n",
    "plt.rc('legend',fontsize='small')\n",
    "plt.legend()\n",
    "plt.xlabel(\"Jet eta (GeV)\")\n",
    "result['jet_mass'][{'jetNumb':'jet2', 'dataset':sum}].plot1d(ax = axs[1,0], overlay='partonFlav')\n",
    "plt.rc('legend',fontsize='small')\n",
    "plt.xlabel(\"Jet mass (GeV)\")\n",
    "result['jet_pt'][{'jetNumb':'jet2', 'dataset':sum}].plot1d(ax = axs[1,1], overlay='partonFlav')\n",
    "plt.rc('legend',fontsize='small')\n",
    "#axs[0].set_xlabel(\"Jet mass (GeV)\")\n",
    "plt.xlabel(\"Jet pT (GeV)\")\n",
    "result['jet_eta'][{'jetNumb':'jet2', 'dataset':sum}].plot1d(ax = axs[1,2], overlay='partonFlav')\n",
    "plt.rc('legend',fontsize='small')\n",
    "plt.legend()\n",
    "plt.xlabel(\"Jet eta (GeV)\")\n",
    "fig.suptitle('Dijet eta <2.5, pt> 200.', fontsize=\"large\")"
   ]
  },
  {
   "cell_type": "code",
   "execution_count": null,
   "id": "f2fd10c5",
   "metadata": {},
   "outputs": [],
   "source": [
    "njets=result['cutflow']['nJets']\n",
    "ngluonjets=result['cutflow']['nGluonJets']\n",
    "print(result['cutflow'])\n",
    "print(\"Gluon purity:\", ngluonjets/njets)"
   ]
  },
  {
   "cell_type": "code",
   "execution_count": null,
   "id": "d84a6515",
   "metadata": {},
   "outputs": [],
   "source": [
    "response_matrix_u_values = result['response_matrix_u'].project(\"ptreco\", \"mreco\", \"ptgen\", \"mgen\").values()\n",
    "response_matrix_u_up = result['response_matrix_u'][{'syst':'jesUp'}].project(\"ptreco\", \"mreco\", \"ptgen\", \"mgen\").values().reshape( (nptreco)*(nmassreco), (nptgen)*(nmassgen) )\n",
    "response_matrix_u_down = result['response_matrix_u'][{'syst':'jesDown'}].project(\"ptreco\", \"mreco\", \"ptgen\", \"mgen\").values().reshape( (nptreco)*(nmassreco), (nptgen)*(nmassgen) )\n",
    "response_matrix_u_nom = result['response_matrix_u'][{'syst':'nominal'}].project(\"ptreco\", \"mreco\", \"ptgen\", \"mgen\").values().reshape( (nptreco)*(nmassreco), (nptgen)*(nmassgen) )\n",
    "response_matrix_g_values = result['response_matrix_g'].project(\"ptreco\", \"mreco\", \"ptgen\", \"mgen\").values()"
   ]
  },
  {
   "cell_type": "code",
   "execution_count": null,
   "id": "5f0b008d",
   "metadata": {},
   "outputs": [],
   "source": [
    "nptreco,nmassreco,nptgen,nmassgen = response_matrix_u_values.shape"
   ]
  },
  {
   "cell_type": "code",
   "execution_count": null,
   "id": "b0f4aaa0",
   "metadata": {},
   "outputs": [],
   "source": [
    "response_matrix_u_final = response_matrix_u_values.reshape( (nptreco)*(nmassreco), (nptgen)*(nmassgen) )\n",
    "print(ak.max(response_matrix_u_final))"
   ]
  },
  {
   "cell_type": "code",
   "execution_count": null,
   "id": "f89f6894",
   "metadata": {},
   "outputs": [],
   "source": [
    "response_matrix_g_final = response_matrix_g_values.reshape( (nptreco)*(nmassreco), (nptgen)*(nmassgen) )"
   ]
  },
  {
   "cell_type": "code",
   "execution_count": null,
   "id": "94a15a8b",
   "metadata": {},
   "outputs": [],
   "source": [
    "plt.rcParams[\"figure.figsize\"] = (20,20)\n",
    "fig, axs = plt.subplots(2, 2)\n",
    "axs[0,0].imshow( np.log(response_matrix_u_final+1), aspect=\"auto\", cmap=\"Blues\", interpolation='nearest' )\n",
    "axs[1,0].imshow( (np.log(response_matrix_u_up+1)-np.log(response_matrix_u_final+1)+1), aspect=\"auto\", cmap=\"Blues\", interpolation='nearest' )\n",
    "axs[0,1].imshow( np.log(response_matrix_u_down+1), aspect=\"auto\", cmap=\"Blues\", interpolation='nearest' )\n",
    "axs[1,1].imshow( np.log(response_matrix_u_nom+1), aspect=\"auto\", cmap=\"Blues\", interpolation='nearest' )\n",
    "plt.xlabel(\"RECO\", fontsize=20)\n",
    "plt.ylabel(\"GEN\", fontsize=20)\n",
    "plt.tick_params(labelsize=20)"
   ]
  },
  {
   "cell_type": "code",
   "execution_count": null,
   "id": "428de191",
   "metadata": {},
   "outputs": [],
   "source": [
    "plt.figure(figsize = (40,80))\n",
    "plt.imshow( np.log(response_matrix_g_final+1), aspect=\"equal\", cmap=\"Blues\" )\n",
    "plt.xlabel(\"RECO\", fontsize=50)\n",
    "plt.ylabel(\"GEN\", fontsize=50)\n",
    "plt.tick_params(labelsize=40)"
   ]
  },
  {
   "cell_type": "code",
   "execution_count": null,
   "id": "355566c2",
   "metadata": {},
   "outputs": [],
   "source": [
    "plt.figure(figsize = (40,80))\n",
    "plt.imshow( response_matrix_u_final, aspect=\"equal\", cmap=\"Blues\" )\n",
    "plt.xlabel(\"RECO\", fontsize=50)\n",
    "plt.ylabel(\"GEN\", fontsize=50)\n",
    "plt.tick_params(labelsize=40)"
   ]
  },
  {
   "cell_type": "code",
   "execution_count": null,
   "id": "761a514a",
   "metadata": {},
   "outputs": [],
   "source": []
  },
  {
   "cell_type": "markdown",
   "id": "531630b8",
   "metadata": {},
   "source": [
    "## "
   ]
  },
  {
   "cell_type": "markdown",
   "id": "433390d8-186b-4942-b361-a767990c4263",
   "metadata": {},
   "source": [
    "## "
   ]
  },
  {
   "cell_type": "markdown",
   "id": "483258ec-545e-4dee-afbc-08a4c5d4a420",
   "metadata": {},
   "source": [
    "## "
   ]
  },
  {
   "cell_type": "markdown",
   "id": "dba836b4-023d-4c40-86ca-e54a4cd6a945",
   "metadata": {},
   "source": [
    "## "
   ]
  },
  {
   "cell_type": "markdown",
   "id": "52961724-6d03-4915-ab12-975cb2b47019",
   "metadata": {},
   "source": [
    "## "
   ]
  },
  {
   "cell_type": "markdown",
   "id": "5a4bc196-2317-47d4-8612-3d50f6a121e8",
   "metadata": {},
   "source": [
    "## "
   ]
  },
  {
   "cell_type": "markdown",
   "id": "c94b820a-ef37-4a0e-9833-bc3f15cc686b",
   "metadata": {},
   "source": [
    "## "
   ]
  },
  {
   "cell_type": "markdown",
   "id": "e975d205-3531-4986-8afb-d266dbb81d31",
   "metadata": {},
   "source": [
    "## "
   ]
  },
  {
   "cell_type": "markdown",
   "id": "a82149d7-c564-46b4-b12c-c2533f0a33c4",
   "metadata": {},
   "source": [
    "## "
   ]
  },
  {
   "cell_type": "markdown",
   "id": "9d51eb12-f861-44e0-a5ad-cdc8fdbe4f1d",
   "metadata": {},
   "source": [
    "## "
   ]
  },
  {
   "cell_type": "markdown",
   "id": "837b7c7d-51f5-45a9-a1f3-882ffbbf6968",
   "metadata": {},
   "source": [
    "## "
   ]
  },
  {
   "cell_type": "markdown",
   "id": "52597e77-e28b-4663-be83-cf9c53475b21",
   "metadata": {},
   "source": [
    "## "
   ]
  },
  {
   "cell_type": "code",
   "execution_count": null,
   "id": "6a77d44b-e061-42e9-89b7-52c86aadc1d0",
   "metadata": {},
   "outputs": [],
   "source": []
  }
 ],
 "metadata": {
  "kernelspec": {
   "display_name": "Python 3 (ipykernel)",
   "language": "python",
   "name": "python3"
  },
  "language_info": {
   "codemirror_mode": {
    "name": "ipython",
    "version": 3
   },
   "file_extension": ".py",
   "mimetype": "text/x-python",
   "name": "python",
   "nbconvert_exporter": "python",
   "pygments_lexer": "ipython3",
   "version": "3.10.8"
  }
 },
 "nbformat": 4,
 "nbformat_minor": 5
}

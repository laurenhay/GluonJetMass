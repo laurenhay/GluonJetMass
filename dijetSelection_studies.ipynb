{
 "cells": [
  {
   "cell_type": "code",
   "execution_count": 1,
   "id": "c1d30278",
   "metadata": {},
   "outputs": [
    {
     "name": "stdout",
     "output_type": "stream",
     "text": [
      "0.7.21\n"
     ]
    }
   ],
   "source": [
    "import awkward as ak\n",
    "import numpy as np\n",
    "import coffea\n",
    "import os\n",
    "from plugins import handleData\n",
    "\n",
    "print(coffea.__version__)\n",
    "from coffea import util\n",
    "from coffea.nanoevents import NanoEventsFactory, NanoAODSchema\n",
    "\n",
    "import hist\n",
    "\n",
    "# testFiles = [\n",
    "# \"root://cmsxrootd.fnal.gov//store/mc/RunIISummer20UL17NanoAODv9/QCD_Pt_170to300_TuneCP5_13TeV_pythia8/NANOAODSIM/106X_mc2017_realistic_v9-v1/120000/0CDD30E0-B953-E54B-BB7A-BFB45BE6EC93.root\",\n",
    "# \"root://cmsxrootd.fnal.gov//store/mc/RunIISummer20UL17NanoAODv9/QCD_Pt_300to470_TuneCP5_13TeV_pythia8/NANOAODSIM/106X_mc2017_realistic_v9-v1/120000/3788BBD3-3B70-BE48-B01A-4FA395E1E0B6.root\",\n",
    "# \"root://cmsxrootd.fnal.gov//store/mc/RunIISummer20UL17NanoAODv9/QCD_Pt_470to600_TuneCP5_13TeV_pythia8/NANOAODSIM/106X_mc2017_realistic_v9-v1/70000/F6B6A983-3E2B-7B4D-A2CE-E03AB6E32387.root\",\n",
    "# \"root://cmsxrootd.fnal.gov//store/mc/RunIISummer20UL17NanoAODv9/QCD_Pt_600to800_TuneCP5_13TeV_pythia8/NANOAODSIM/106X_mc2017_realistic_v9-v1/70000/FDF7FBE4-9226-994A-BD45-29995A3CD62F.root\",\n",
    "# \"root://cmsxrootd.fnal.gov//store/mc/RunIISummer20UL17NanoAODv9/QCD_Pt_800to1000_TuneCP5_13TeV_pythia8/NANOAODSIM/106X_mc2017_realistic_v9-v1/70000/2CEB03D7-5B1A-EE46-9C21-13ED3E349AF4.root\",\n",
    "# \"root://cmsxrootd.fnal.gov//store/mc/RunIISummer20UL17NanoAODv9/QCD_Pt_1000to1400_TuneCP5_13TeV_pythia8/NANOAODSIM/106X_mc2017_realistic_v9-v1/70000/DB87A517-0584-1A41-BB18-AAE7C9AAE5B8.root\",\n",
    "# \"root://cmsxrootd.fnal.gov//store/mc/RunIISummer20UL17NanoAODv9/QCD_Pt_1400to1800_TuneCP5_13TeV_pythia8/NANOAODSIM/106X_mc2017_realistic_v9-v1/280000/BFE2E7E9-82CB-FE47-9B43-EBA5C373AF60.root\",\n",
    "# \"root://cmsxrootd.fnal.gov//store/mc/RunIISummer20UL17NanoAODv9/QCD_Pt_1800to2400_TuneCP5_13TeV_pythia8/NANOAODSIM/106X_mc2017_realistic_v9-v1/70000/5213B536-BAA1-CC43-A58A-B1E41E2680F5.root\",\n",
    "# \"root://cmsxrootd.fnal.gov//store/mc/RunIISummer20UL17NanoAODv9/QCD_Pt_2400to3200_TuneCP5_13TeV_pythia8/NANOAODSIM/106X_mc2017_realistic_v9-v1/280000/E8400F91-3216-EA46-A9F1-8CC7EF5261B0.root\",\n",
    "# \"root://cmsxrootd.fnal.gov//store/mc/RunIISummer20UL17NanoAODv9/QCD_Pt_3200toInf_TuneCP5_13TeV_pythia8/NANOAODSIM/106X_mc2017_realistic_v9-v1/280000/B21BFDD8-B878-784C-AFB6-5CDE131F5C39.root\"\n",
    "# ]\n",
    "\n",
    "# redirector = 'root://xcache/'\n",
    "# files = handleData('fileset_QCD.json', redirector, testing = True, data = False)\n",
    "# # # files_test = handleData('fileset_QCD.json', redirector, testing = False, data = False)\n",
    "\n",
    "# events = NanoEventsFactory.from_root(list(files.values())[9][0], schemaclass=NanoAODSchema).events()\n",
    "# # print(files)\n",
    "# #may have to put in weights by hand\n",
    "# print(events.Generator.weight)"
   ]
  },
  {
   "cell_type": "code",
   "execution_count": 3,
   "id": "1f9eed95",
   "metadata": {
    "scrolled": true
   },
   "outputs": [
    {
     "name": "stdout",
     "output_type": "stream",
     "text": [
      "Data:  True  gen  False\n",
      "Era:  -UL2016\n",
      "Era:  HIPM_UL2016\n",
      "Era:  UL2017\n",
      "Era:  UL2018\n",
      "dataset =  /JetHT/Run2016B-ver1_HIPM_UL2016_MiniAODv2_NanoAODv9-v2/NANOAOD\n",
      "dataset =  /JetHT/Run2016B-ver2_HIPM_UL2016_MiniAODv2_NanoAODv9-v2/NANOAOD\n",
      "dataset =  /JetHT/Run2016C-HIPM_UL2016_MiniAODv2_NanoAODv9-v2/NANOAOD\n",
      "dataset =  /JetHT/Run2016D-HIPM_UL2016_MiniAODv2_NanoAODv9-v2/NANOAOD\n",
      "dataset =  /JetHT/Run2016E-HIPM_UL2016_MiniAODv2_NanoAODv9-v2/NANOAOD\n",
      "dataset =  /JetHT/Run2016F-HIPM_UL2016_MiniAODv2_NanoAODv9-v2/NANOAOD\n",
      "dataset =  /JetHT/Run2016F-UL2016_MiniAODv2_NanoAODv9-v1/NANOAOD\n",
      "dataset =  /JetHT/Run2016H-UL2016_MiniAODv2_NanoAODv9-v1/NANOAOD\n",
      "dataset =  /JetHT/Run2017B-UL2017_MiniAODv2_NanoAODv9-v1/NANOAOD\n",
      "dataset =  /JetHT/Run2017C-UL2017_MiniAODv2_NanoAODv9-v1/NANOAOD\n",
      "dataset =  /JetHT/Run2017D-UL2017_MiniAODv2_NanoAODv9-v1/NANOAOD\n",
      "dataset =  /JetHT/Run2017E-UL2017_MiniAODv2_NanoAODv9-v1/NANOAOD\n",
      "dataset =  /JetHT/Run2017F-UL2017_MiniAODv2_NanoAODv9-v1/NANOAOD\n",
      "dataset =  /JetHT/Run2018A-UL2018_MiniAODv2_NanoAODv9-v2/NANOAOD\n",
      "dataset =  /JetHT/Run2018B-UL2018_MiniAODv2_NanoAODv9-v1/NANOAOD\n",
      "Running locally\n"
     ]
    },
    {
     "data": {
      "application/vnd.jupyter.widget-view+json": {
       "model_id": "0a968400b2114d698f409bcdeaefb655",
       "version_major": 2,
       "version_minor": 0
      },
      "text/plain": [
       "Output()"
      ]
     },
     "metadata": {},
     "output_type": "display_data"
    },
    {
     "data": {
      "text/html": [
       "<pre style=\"white-space:pre;overflow-x:auto;line-height:normal;font-family:Menlo,'DejaVu Sans Mono',consolas,'Courier New',monospace\"></pre>\n"
      ],
      "text/plain": []
     },
     "metadata": {},
     "output_type": "display_data"
    },
    {
     "data": {
      "text/html": [
       "<pre style=\"white-space:pre;overflow-x:auto;line-height:normal;font-family:Menlo,'DejaVu Sans Mono',consolas,'Courier New',monospace\">\n",
       "</pre>\n"
      ],
      "text/plain": [
       "\n"
      ]
     },
     "metadata": {},
     "output_type": "display_data"
    },
    {
     "data": {
      "application/vnd.jupyter.widget-view+json": {
       "model_id": "031a160377db427c8da141a5a4c3f223",
       "version_major": 2,
       "version_minor": 0
      },
      "text/plain": [
       "Output()"
      ]
     },
     "metadata": {},
     "output_type": "display_data"
    },
    {
     "name": "stdout",
     "output_type": "stream",
     "text": [
      "Lenght of events  98181 length of weights  98181\n",
      "IOV  2018 , era  Run2018B\n"
     ]
    },
    {
     "name": "stderr",
     "output_type": "stream",
     "text": [
      "/opt/conda/lib/python3.8/site-packages/coffea/processor/executor.py:1345: UserWarning: Failed processing file: WorkItem(dataset='/JetHT/Run2018B-UL2018_MiniAODv2_NanoAODv9-v1/NANOAOD', filename='root://cmsxrootd.fnal.gov//store/data/Run2018B/JetHT/NANOAOD/UL2018_MiniAODv2_NanoAODv9-v1/120000/02113304-6253-8A41-88DB-C3077FA2AC47.root', treename='Events', entrystart=0, entrystop=98181, fileuuid=b'\\xdbI7\\xdc\\xe4\\xc7\\x11\\xeb\\xa4`\\xa4\\xe4]\\x9f\\xbe\\xef', usermeta={})\n",
      "  warnings.warn(str(e))\n"
     ]
    },
    {
     "name": "stdout",
     "output_type": "stream",
     "text": [
      "Lenght of events  98181 length of weights  98181\n",
      "IOV  2018 , era  Run2018B\n"
     ]
    },
    {
     "name": "stderr",
     "output_type": "stream",
     "text": [
      "/opt/conda/lib/python3.8/site-packages/coffea/processor/executor.py:1345: UserWarning: Failed processing file: WorkItem(dataset='/JetHT/Run2018B-UL2018_MiniAODv2_NanoAODv9-v1/NANOAOD', filename='root://cmsxrootd.fnal.gov//store/data/Run2018B/JetHT/NANOAOD/UL2018_MiniAODv2_NanoAODv9-v1/120000/02113304-6253-8A41-88DB-C3077FA2AC47.root', treename='Events', entrystart=98181, entrystop=196362, fileuuid=b'\\xdbI7\\xdc\\xe4\\xc7\\x11\\xeb\\xa4`\\xa4\\xe4]\\x9f\\xbe\\xef', usermeta={})\n",
      "  warnings.warn(str(e))\n"
     ]
    },
    {
     "name": "stdout",
     "output_type": "stream",
     "text": [
      "Lenght of events  98181 length of weights  98181\n",
      "IOV  2018 , era  Run2018B\n"
     ]
    },
    {
     "name": "stderr",
     "output_type": "stream",
     "text": [
      "/opt/conda/lib/python3.8/site-packages/coffea/processor/executor.py:1345: UserWarning: Failed processing file: WorkItem(dataset='/JetHT/Run2018B-UL2018_MiniAODv2_NanoAODv9-v1/NANOAOD', filename='root://cmsxrootd.fnal.gov//store/data/Run2018B/JetHT/NANOAOD/UL2018_MiniAODv2_NanoAODv9-v1/120000/02113304-6253-8A41-88DB-C3077FA2AC47.root', treename='Events', entrystart=196362, entrystop=294543, fileuuid=b'\\xdbI7\\xdc\\xe4\\xc7\\x11\\xeb\\xa4`\\xa4\\xe4]\\x9f\\xbe\\xef', usermeta={})\n",
      "  warnings.warn(str(e))\n"
     ]
    },
    {
     "name": "stdout",
     "output_type": "stream",
     "text": [
      "Lenght of events  98181 length of weights  98181\n",
      "IOV  2018 , era  Run2018B\n"
     ]
    },
    {
     "name": "stderr",
     "output_type": "stream",
     "text": [
      "/opt/conda/lib/python3.8/site-packages/coffea/processor/executor.py:1345: UserWarning: Failed processing file: WorkItem(dataset='/JetHT/Run2018B-UL2018_MiniAODv2_NanoAODv9-v1/NANOAOD', filename='root://cmsxrootd.fnal.gov//store/data/Run2018B/JetHT/NANOAOD/UL2018_MiniAODv2_NanoAODv9-v1/120000/02113304-6253-8A41-88DB-C3077FA2AC47.root', treename='Events', entrystart=294543, entrystop=392724, fileuuid=b'\\xdbI7\\xdc\\xe4\\xc7\\x11\\xeb\\xa4`\\xa4\\xe4]\\x9f\\xbe\\xef', usermeta={})\n",
      "  warnings.warn(str(e))\n"
     ]
    },
    {
     "name": "stdout",
     "output_type": "stream",
     "text": [
      "Lenght of events  98181 length of weights  98181\n",
      "IOV  2018 , era  Run2018B\n"
     ]
    },
    {
     "name": "stderr",
     "output_type": "stream",
     "text": [
      "/opt/conda/lib/python3.8/site-packages/coffea/processor/executor.py:1345: UserWarning: Failed processing file: WorkItem(dataset='/JetHT/Run2018B-UL2018_MiniAODv2_NanoAODv9-v1/NANOAOD', filename='root://cmsxrootd.fnal.gov//store/data/Run2018B/JetHT/NANOAOD/UL2018_MiniAODv2_NanoAODv9-v1/120000/02113304-6253-8A41-88DB-C3077FA2AC47.root', treename='Events', entrystart=392724, entrystop=490905, fileuuid=b'\\xdbI7\\xdc\\xe4\\xc7\\x11\\xeb\\xa4`\\xa4\\xe4]\\x9f\\xbe\\xef', usermeta={})\n",
      "  warnings.warn(str(e))\n"
     ]
    },
    {
     "name": "stdout",
     "output_type": "stream",
     "text": [
      "Lenght of events  98181 length of weights  98181\n",
      "IOV  2018 , era  Run2018B\n"
     ]
    },
    {
     "name": "stderr",
     "output_type": "stream",
     "text": [
      "/opt/conda/lib/python3.8/site-packages/coffea/processor/executor.py:1345: UserWarning: Failed processing file: WorkItem(dataset='/JetHT/Run2018B-UL2018_MiniAODv2_NanoAODv9-v1/NANOAOD', filename='root://cmsxrootd.fnal.gov//store/data/Run2018B/JetHT/NANOAOD/UL2018_MiniAODv2_NanoAODv9-v1/120000/02113304-6253-8A41-88DB-C3077FA2AC47.root', treename='Events', entrystart=490905, entrystop=589086, fileuuid=b'\\xdbI7\\xdc\\xe4\\xc7\\x11\\xeb\\xa4`\\xa4\\xe4]\\x9f\\xbe\\xef', usermeta={})\n",
      "  warnings.warn(str(e))\n"
     ]
    },
    {
     "name": "stdout",
     "output_type": "stream",
     "text": [
      "Lenght of events  98181 length of weights  98181\n",
      "IOV  2018 , era  Run2018B\n"
     ]
    },
    {
     "name": "stderr",
     "output_type": "stream",
     "text": [
      "/opt/conda/lib/python3.8/site-packages/coffea/processor/executor.py:1345: UserWarning: Failed processing file: WorkItem(dataset='/JetHT/Run2018B-UL2018_MiniAODv2_NanoAODv9-v1/NANOAOD', filename='root://cmsxrootd.fnal.gov//store/data/Run2018B/JetHT/NANOAOD/UL2018_MiniAODv2_NanoAODv9-v1/120000/02113304-6253-8A41-88DB-C3077FA2AC47.root', treename='Events', entrystart=589086, entrystop=687267, fileuuid=b'\\xdbI7\\xdc\\xe4\\xc7\\x11\\xeb\\xa4`\\xa4\\xe4]\\x9f\\xbe\\xef', usermeta={})\n",
      "  warnings.warn(str(e))\n"
     ]
    },
    {
     "name": "stdout",
     "output_type": "stream",
     "text": [
      "Lenght of events  98181 length of weights  98181\n",
      "IOV  2018 , era  Run2018B\n"
     ]
    },
    {
     "name": "stderr",
     "output_type": "stream",
     "text": [
      "/opt/conda/lib/python3.8/site-packages/coffea/processor/executor.py:1345: UserWarning: Failed processing file: WorkItem(dataset='/JetHT/Run2018B-UL2018_MiniAODv2_NanoAODv9-v1/NANOAOD', filename='root://cmsxrootd.fnal.gov//store/data/Run2018B/JetHT/NANOAOD/UL2018_MiniAODv2_NanoAODv9-v1/120000/02113304-6253-8A41-88DB-C3077FA2AC47.root', treename='Events', entrystart=687267, entrystop=785448, fileuuid=b'\\xdbI7\\xdc\\xe4\\xc7\\x11\\xeb\\xa4`\\xa4\\xe4]\\x9f\\xbe\\xef', usermeta={})\n",
      "  warnings.warn(str(e))\n"
     ]
    },
    {
     "name": "stdout",
     "output_type": "stream",
     "text": [
      "Lenght of events  98181 length of weights  98181\n",
      "IOV  2018 , era  Run2018B\n"
     ]
    },
    {
     "name": "stderr",
     "output_type": "stream",
     "text": [
      "/opt/conda/lib/python3.8/site-packages/coffea/processor/executor.py:1345: UserWarning: Failed processing file: WorkItem(dataset='/JetHT/Run2018B-UL2018_MiniAODv2_NanoAODv9-v1/NANOAOD', filename='root://cmsxrootd.fnal.gov//store/data/Run2018B/JetHT/NANOAOD/UL2018_MiniAODv2_NanoAODv9-v1/120000/02113304-6253-8A41-88DB-C3077FA2AC47.root', treename='Events', entrystart=785448, entrystop=883629, fileuuid=b'\\xdbI7\\xdc\\xe4\\xc7\\x11\\xeb\\xa4`\\xa4\\xe4]\\x9f\\xbe\\xef', usermeta={})\n",
      "  warnings.warn(str(e))\n"
     ]
    },
    {
     "name": "stdout",
     "output_type": "stream",
     "text": [
      "Lenght of events  98181 length of weights  98181\n",
      "IOV  2018 , era  Run2018B\n"
     ]
    },
    {
     "name": "stderr",
     "output_type": "stream",
     "text": [
      "/opt/conda/lib/python3.8/site-packages/coffea/processor/executor.py:1345: UserWarning: Failed processing file: WorkItem(dataset='/JetHT/Run2018B-UL2018_MiniAODv2_NanoAODv9-v1/NANOAOD', filename='root://cmsxrootd.fnal.gov//store/data/Run2018B/JetHT/NANOAOD/UL2018_MiniAODv2_NanoAODv9-v1/120000/02113304-6253-8A41-88DB-C3077FA2AC47.root', treename='Events', entrystart=883629, entrystop=981810, fileuuid=b'\\xdbI7\\xdc\\xe4\\xc7\\x11\\xeb\\xa4`\\xa4\\xe4]\\x9f\\xbe\\xef', usermeta={})\n",
      "  warnings.warn(str(e))\n"
     ]
    },
    {
     "name": "stdout",
     "output_type": "stream",
     "text": [
      "Lenght of events  98181 length of weights  98181\n",
      "IOV  2018 , era  Run2018B\n"
     ]
    },
    {
     "name": "stderr",
     "output_type": "stream",
     "text": [
      "/opt/conda/lib/python3.8/site-packages/coffea/processor/executor.py:1345: UserWarning: Failed processing file: WorkItem(dataset='/JetHT/Run2018B-UL2018_MiniAODv2_NanoAODv9-v1/NANOAOD', filename='root://cmsxrootd.fnal.gov//store/data/Run2018B/JetHT/NANOAOD/UL2018_MiniAODv2_NanoAODv9-v1/120000/02113304-6253-8A41-88DB-C3077FA2AC47.root', treename='Events', entrystart=981810, entrystop=1079991, fileuuid=b'\\xdbI7\\xdc\\xe4\\xc7\\x11\\xeb\\xa4`\\xa4\\xe4]\\x9f\\xbe\\xef', usermeta={})\n",
      "  warnings.warn(str(e))\n"
     ]
    },
    {
     "name": "stdout",
     "output_type": "stream",
     "text": [
      "Lenght of events  98181 length of weights  98181\n",
      "IOV  2018 , era  Run2018B\n"
     ]
    },
    {
     "name": "stderr",
     "output_type": "stream",
     "text": [
      "/opt/conda/lib/python3.8/site-packages/coffea/processor/executor.py:1345: UserWarning: Failed processing file: WorkItem(dataset='/JetHT/Run2018B-UL2018_MiniAODv2_NanoAODv9-v1/NANOAOD', filename='root://cmsxrootd.fnal.gov//store/data/Run2018B/JetHT/NANOAOD/UL2018_MiniAODv2_NanoAODv9-v1/120000/02113304-6253-8A41-88DB-C3077FA2AC47.root', treename='Events', entrystart=1079991, entrystop=1178172, fileuuid=b'\\xdbI7\\xdc\\xe4\\xc7\\x11\\xeb\\xa4`\\xa4\\xe4]\\x9f\\xbe\\xef', usermeta={})\n",
      "  warnings.warn(str(e))\n"
     ]
    },
    {
     "name": "stdout",
     "output_type": "stream",
     "text": [
      "Lenght of events  98181 length of weights  98181\n",
      "IOV  2018 , era  Run2018B\n"
     ]
    },
    {
     "name": "stderr",
     "output_type": "stream",
     "text": [
      "/opt/conda/lib/python3.8/site-packages/coffea/processor/executor.py:1345: UserWarning: Failed processing file: WorkItem(dataset='/JetHT/Run2018B-UL2018_MiniAODv2_NanoAODv9-v1/NANOAOD', filename='root://cmsxrootd.fnal.gov//store/data/Run2018B/JetHT/NANOAOD/UL2018_MiniAODv2_NanoAODv9-v1/120000/02113304-6253-8A41-88DB-C3077FA2AC47.root', treename='Events', entrystart=1178172, entrystop=1276353, fileuuid=b'\\xdbI7\\xdc\\xe4\\xc7\\x11\\xeb\\xa4`\\xa4\\xe4]\\x9f\\xbe\\xef', usermeta={})\n",
      "  warnings.warn(str(e))\n"
     ]
    },
    {
     "name": "stdout",
     "output_type": "stream",
     "text": [
      "Lenght of events  98181 length of weights  98181\n",
      "IOV  2018 , era  Run2018B\n"
     ]
    },
    {
     "name": "stderr",
     "output_type": "stream",
     "text": [
      "/opt/conda/lib/python3.8/site-packages/coffea/processor/executor.py:1345: UserWarning: Failed processing file: WorkItem(dataset='/JetHT/Run2018B-UL2018_MiniAODv2_NanoAODv9-v1/NANOAOD', filename='root://cmsxrootd.fnal.gov//store/data/Run2018B/JetHT/NANOAOD/UL2018_MiniAODv2_NanoAODv9-v1/120000/02113304-6253-8A41-88DB-C3077FA2AC47.root', treename='Events', entrystart=1276353, entrystop=1374534, fileuuid=b'\\xdbI7\\xdc\\xe4\\xc7\\x11\\xeb\\xa4`\\xa4\\xe4]\\x9f\\xbe\\xef', usermeta={})\n",
      "  warnings.warn(str(e))\n"
     ]
    },
    {
     "name": "stdout",
     "output_type": "stream",
     "text": [
      "Lenght of events  98181 length of weights  98181\n",
      "IOV  2018 , era  Run2018B\n"
     ]
    },
    {
     "name": "stderr",
     "output_type": "stream",
     "text": [
      "/opt/conda/lib/python3.8/site-packages/coffea/processor/executor.py:1345: UserWarning: Failed processing file: WorkItem(dataset='/JetHT/Run2018B-UL2018_MiniAODv2_NanoAODv9-v1/NANOAOD', filename='root://cmsxrootd.fnal.gov//store/data/Run2018B/JetHT/NANOAOD/UL2018_MiniAODv2_NanoAODv9-v1/120000/02113304-6253-8A41-88DB-C3077FA2AC47.root', treename='Events', entrystart=1374534, entrystop=1472715, fileuuid=b'\\xdbI7\\xdc\\xe4\\xc7\\x11\\xeb\\xa4`\\xa4\\xe4]\\x9f\\xbe\\xef', usermeta={})\n",
      "  warnings.warn(str(e))\n"
     ]
    },
    {
     "name": "stdout",
     "output_type": "stream",
     "text": [
      "Lenght of events  98181 length of weights  98181\n",
      "IOV  2018 , era  Run2018B\n"
     ]
    },
    {
     "name": "stderr",
     "output_type": "stream",
     "text": [
      "/opt/conda/lib/python3.8/site-packages/coffea/processor/executor.py:1345: UserWarning: Failed processing file: WorkItem(dataset='/JetHT/Run2018B-UL2018_MiniAODv2_NanoAODv9-v1/NANOAOD', filename='root://cmsxrootd.fnal.gov//store/data/Run2018B/JetHT/NANOAOD/UL2018_MiniAODv2_NanoAODv9-v1/120000/02113304-6253-8A41-88DB-C3077FA2AC47.root', treename='Events', entrystart=1472715, entrystop=1570896, fileuuid=b'\\xdbI7\\xdc\\xe4\\xc7\\x11\\xeb\\xa4`\\xa4\\xe4]\\x9f\\xbe\\xef', usermeta={})\n",
      "  warnings.warn(str(e))\n"
     ]
    },
    {
     "name": "stdout",
     "output_type": "stream",
     "text": [
      "Lenght of events  98181 length of weights  98181\n",
      "IOV  2018 , era  Run2018B\n"
     ]
    },
    {
     "name": "stderr",
     "output_type": "stream",
     "text": [
      "/opt/conda/lib/python3.8/site-packages/coffea/processor/executor.py:1345: UserWarning: Failed processing file: WorkItem(dataset='/JetHT/Run2018B-UL2018_MiniAODv2_NanoAODv9-v1/NANOAOD', filename='root://cmsxrootd.fnal.gov//store/data/Run2018B/JetHT/NANOAOD/UL2018_MiniAODv2_NanoAODv9-v1/120000/02113304-6253-8A41-88DB-C3077FA2AC47.root', treename='Events', entrystart=1570896, entrystop=1669077, fileuuid=b'\\xdbI7\\xdc\\xe4\\xc7\\x11\\xeb\\xa4`\\xa4\\xe4]\\x9f\\xbe\\xef', usermeta={})\n",
      "  warnings.warn(str(e))\n"
     ]
    },
    {
     "name": "stdout",
     "output_type": "stream",
     "text": [
      "Lenght of events  98172 length of weights  98172\n",
      "IOV  2018 , era  Run2018B\n"
     ]
    },
    {
     "name": "stderr",
     "output_type": "stream",
     "text": [
      "/opt/conda/lib/python3.8/site-packages/coffea/processor/executor.py:1345: UserWarning: Failed processing file: WorkItem(dataset='/JetHT/Run2018B-UL2018_MiniAODv2_NanoAODv9-v1/NANOAOD', filename='root://cmsxrootd.fnal.gov//store/data/Run2018B/JetHT/NANOAOD/UL2018_MiniAODv2_NanoAODv9-v1/120000/02113304-6253-8A41-88DB-C3077FA2AC47.root', treename='Events', entrystart=1669077, entrystop=1767249, fileuuid=b'\\xdbI7\\xdc\\xe4\\xc7\\x11\\xeb\\xa4`\\xa4\\xe4]\\x9f\\xbe\\xef', usermeta={})\n",
      "  warnings.warn(str(e))\n"
     ]
    },
    {
     "name": "stdout",
     "output_type": "stream",
     "text": [
      "Lenght of events  100531 length of weights  100531\n",
      "IOV  2018 , era  Run2018A\n"
     ]
    },
    {
     "name": "stderr",
     "output_type": "stream",
     "text": [
      "/opt/conda/lib/python3.8/site-packages/coffea/processor/executor.py:1345: UserWarning: Failed processing file: WorkItem(dataset='/JetHT/Run2018A-UL2018_MiniAODv2_NanoAODv9-v2/NANOAOD', filename='root://cmsxrootd.fnal.gov//store/data/Run2018A/JetHT/NANOAOD/UL2018_MiniAODv2_NanoAODv9-v2/100000/00AA9A90-57AA-D147-B4FA-54D6D8DA0D4A.root', treename='Events', entrystart=0, entrystop=100531, fileuuid=b'\\xe7\\xe5\\x95(\\x0b\\x17\\x11\\xec\\x9ft*\\xcf\\xe1\\x83\\xbe\\xef', usermeta={})\n",
      "  warnings.warn(str(e))\n"
     ]
    },
    {
     "name": "stdout",
     "output_type": "stream",
     "text": [
      "Lenght of events  100531 length of weights  100531\n",
      "IOV  2018 , era  Run2018A\n"
     ]
    },
    {
     "name": "stderr",
     "output_type": "stream",
     "text": [
      "/opt/conda/lib/python3.8/site-packages/coffea/processor/executor.py:1345: UserWarning: Failed processing file: WorkItem(dataset='/JetHT/Run2018A-UL2018_MiniAODv2_NanoAODv9-v2/NANOAOD', filename='root://cmsxrootd.fnal.gov//store/data/Run2018A/JetHT/NANOAOD/UL2018_MiniAODv2_NanoAODv9-v2/100000/00AA9A90-57AA-D147-B4FA-54D6D8DA0D4A.root', treename='Events', entrystart=100531, entrystop=201062, fileuuid=b'\\xe7\\xe5\\x95(\\x0b\\x17\\x11\\xec\\x9ft*\\xcf\\xe1\\x83\\xbe\\xef', usermeta={})\n",
      "  warnings.warn(str(e))\n"
     ]
    },
    {
     "name": "stdout",
     "output_type": "stream",
     "text": [
      "Lenght of events  100531 length of weights  100531\n",
      "IOV  2018 , era  Run2018A\n"
     ]
    },
    {
     "name": "stderr",
     "output_type": "stream",
     "text": [
      "/opt/conda/lib/python3.8/site-packages/coffea/processor/executor.py:1345: UserWarning: Failed processing file: WorkItem(dataset='/JetHT/Run2018A-UL2018_MiniAODv2_NanoAODv9-v2/NANOAOD', filename='root://cmsxrootd.fnal.gov//store/data/Run2018A/JetHT/NANOAOD/UL2018_MiniAODv2_NanoAODv9-v2/100000/00AA9A90-57AA-D147-B4FA-54D6D8DA0D4A.root', treename='Events', entrystart=201062, entrystop=301593, fileuuid=b'\\xe7\\xe5\\x95(\\x0b\\x17\\x11\\xec\\x9ft*\\xcf\\xe1\\x83\\xbe\\xef', usermeta={})\n",
      "  warnings.warn(str(e))\n"
     ]
    },
    {
     "name": "stdout",
     "output_type": "stream",
     "text": [
      "Lenght of events  100531 length of weights  100531\n",
      "IOV  2018 , era  Run2018A\n"
     ]
    },
    {
     "name": "stderr",
     "output_type": "stream",
     "text": [
      "/opt/conda/lib/python3.8/site-packages/coffea/processor/executor.py:1345: UserWarning: Failed processing file: WorkItem(dataset='/JetHT/Run2018A-UL2018_MiniAODv2_NanoAODv9-v2/NANOAOD', filename='root://cmsxrootd.fnal.gov//store/data/Run2018A/JetHT/NANOAOD/UL2018_MiniAODv2_NanoAODv9-v2/100000/00AA9A90-57AA-D147-B4FA-54D6D8DA0D4A.root', treename='Events', entrystart=301593, entrystop=402124, fileuuid=b'\\xe7\\xe5\\x95(\\x0b\\x17\\x11\\xec\\x9ft*\\xcf\\xe1\\x83\\xbe\\xef', usermeta={})\n",
      "  warnings.warn(str(e))\n"
     ]
    },
    {
     "name": "stdout",
     "output_type": "stream",
     "text": [
      "Lenght of events  100531 length of weights  100531\n",
      "IOV  2018 , era  Run2018A\n"
     ]
    },
    {
     "name": "stderr",
     "output_type": "stream",
     "text": [
      "/opt/conda/lib/python3.8/site-packages/coffea/processor/executor.py:1345: UserWarning: Failed processing file: WorkItem(dataset='/JetHT/Run2018A-UL2018_MiniAODv2_NanoAODv9-v2/NANOAOD', filename='root://cmsxrootd.fnal.gov//store/data/Run2018A/JetHT/NANOAOD/UL2018_MiniAODv2_NanoAODv9-v2/100000/00AA9A90-57AA-D147-B4FA-54D6D8DA0D4A.root', treename='Events', entrystart=402124, entrystop=502655, fileuuid=b'\\xe7\\xe5\\x95(\\x0b\\x17\\x11\\xec\\x9ft*\\xcf\\xe1\\x83\\xbe\\xef', usermeta={})\n",
      "  warnings.warn(str(e))\n"
     ]
    },
    {
     "name": "stdout",
     "output_type": "stream",
     "text": [
      "Lenght of events  100531 length of weights  100531\n",
      "IOV  2018 , era  Run2018A\n"
     ]
    },
    {
     "name": "stderr",
     "output_type": "stream",
     "text": [
      "/opt/conda/lib/python3.8/site-packages/coffea/processor/executor.py:1345: UserWarning: Failed processing file: WorkItem(dataset='/JetHT/Run2018A-UL2018_MiniAODv2_NanoAODv9-v2/NANOAOD', filename='root://cmsxrootd.fnal.gov//store/data/Run2018A/JetHT/NANOAOD/UL2018_MiniAODv2_NanoAODv9-v2/100000/00AA9A90-57AA-D147-B4FA-54D6D8DA0D4A.root', treename='Events', entrystart=502655, entrystop=603186, fileuuid=b'\\xe7\\xe5\\x95(\\x0b\\x17\\x11\\xec\\x9ft*\\xcf\\xe1\\x83\\xbe\\xef', usermeta={})\n",
      "  warnings.warn(str(e))\n"
     ]
    },
    {
     "name": "stdout",
     "output_type": "stream",
     "text": [
      "Lenght of events  100531 length of weights  100531\n",
      "IOV  2018 , era  Run2018A\n"
     ]
    },
    {
     "name": "stderr",
     "output_type": "stream",
     "text": [
      "/opt/conda/lib/python3.8/site-packages/coffea/processor/executor.py:1345: UserWarning: Failed processing file: WorkItem(dataset='/JetHT/Run2018A-UL2018_MiniAODv2_NanoAODv9-v2/NANOAOD', filename='root://cmsxrootd.fnal.gov//store/data/Run2018A/JetHT/NANOAOD/UL2018_MiniAODv2_NanoAODv9-v2/100000/00AA9A90-57AA-D147-B4FA-54D6D8DA0D4A.root', treename='Events', entrystart=603186, entrystop=703717, fileuuid=b'\\xe7\\xe5\\x95(\\x0b\\x17\\x11\\xec\\x9ft*\\xcf\\xe1\\x83\\xbe\\xef', usermeta={})\n",
      "  warnings.warn(str(e))\n"
     ]
    },
    {
     "name": "stdout",
     "output_type": "stream",
     "text": [
      "Lenght of events  100531 length of weights  100531\n",
      "IOV  2018 , era  Run2018A\n"
     ]
    },
    {
     "name": "stderr",
     "output_type": "stream",
     "text": [
      "/opt/conda/lib/python3.8/site-packages/coffea/processor/executor.py:1345: UserWarning: Failed processing file: WorkItem(dataset='/JetHT/Run2018A-UL2018_MiniAODv2_NanoAODv9-v2/NANOAOD', filename='root://cmsxrootd.fnal.gov//store/data/Run2018A/JetHT/NANOAOD/UL2018_MiniAODv2_NanoAODv9-v2/100000/00AA9A90-57AA-D147-B4FA-54D6D8DA0D4A.root', treename='Events', entrystart=703717, entrystop=804248, fileuuid=b'\\xe7\\xe5\\x95(\\x0b\\x17\\x11\\xec\\x9ft*\\xcf\\xe1\\x83\\xbe\\xef', usermeta={})\n",
      "  warnings.warn(str(e))\n"
     ]
    },
    {
     "name": "stdout",
     "output_type": "stream",
     "text": [
      "Lenght of events  100531 length of weights  100531\n",
      "IOV  2018 , era  Run2018A\n"
     ]
    },
    {
     "name": "stderr",
     "output_type": "stream",
     "text": [
      "/opt/conda/lib/python3.8/site-packages/coffea/processor/executor.py:1345: UserWarning: Failed processing file: WorkItem(dataset='/JetHT/Run2018A-UL2018_MiniAODv2_NanoAODv9-v2/NANOAOD', filename='root://cmsxrootd.fnal.gov//store/data/Run2018A/JetHT/NANOAOD/UL2018_MiniAODv2_NanoAODv9-v2/100000/00AA9A90-57AA-D147-B4FA-54D6D8DA0D4A.root', treename='Events', entrystart=804248, entrystop=904779, fileuuid=b'\\xe7\\xe5\\x95(\\x0b\\x17\\x11\\xec\\x9ft*\\xcf\\xe1\\x83\\xbe\\xef', usermeta={})\n",
      "  warnings.warn(str(e))\n"
     ]
    },
    {
     "name": "stdout",
     "output_type": "stream",
     "text": [
      "Lenght of events  100531 length of weights  100531\n",
      "IOV  2018 , era  Run2018A\n"
     ]
    },
    {
     "name": "stderr",
     "output_type": "stream",
     "text": [
      "/opt/conda/lib/python3.8/site-packages/coffea/processor/executor.py:1345: UserWarning: Failed processing file: WorkItem(dataset='/JetHT/Run2018A-UL2018_MiniAODv2_NanoAODv9-v2/NANOAOD', filename='root://cmsxrootd.fnal.gov//store/data/Run2018A/JetHT/NANOAOD/UL2018_MiniAODv2_NanoAODv9-v2/100000/00AA9A90-57AA-D147-B4FA-54D6D8DA0D4A.root', treename='Events', entrystart=904779, entrystop=1005310, fileuuid=b'\\xe7\\xe5\\x95(\\x0b\\x17\\x11\\xec\\x9ft*\\xcf\\xe1\\x83\\xbe\\xef', usermeta={})\n",
      "  warnings.warn(str(e))\n"
     ]
    },
    {
     "name": "stdout",
     "output_type": "stream",
     "text": [
      "Lenght of events  100531 length of weights  100531\n",
      "IOV  2018 , era  Run2018A\n"
     ]
    },
    {
     "name": "stderr",
     "output_type": "stream",
     "text": [
      "/opt/conda/lib/python3.8/site-packages/coffea/processor/executor.py:1345: UserWarning: Failed processing file: WorkItem(dataset='/JetHT/Run2018A-UL2018_MiniAODv2_NanoAODv9-v2/NANOAOD', filename='root://cmsxrootd.fnal.gov//store/data/Run2018A/JetHT/NANOAOD/UL2018_MiniAODv2_NanoAODv9-v2/100000/00AA9A90-57AA-D147-B4FA-54D6D8DA0D4A.root', treename='Events', entrystart=1005310, entrystop=1105841, fileuuid=b'\\xe7\\xe5\\x95(\\x0b\\x17\\x11\\xec\\x9ft*\\xcf\\xe1\\x83\\xbe\\xef', usermeta={})\n",
      "  warnings.warn(str(e))\n"
     ]
    },
    {
     "name": "stdout",
     "output_type": "stream",
     "text": [
      "Lenght of events  100531 length of weights  100531\n",
      "IOV  2018 , era  Run2018A\n"
     ]
    },
    {
     "name": "stderr",
     "output_type": "stream",
     "text": [
      "/opt/conda/lib/python3.8/site-packages/coffea/processor/executor.py:1345: UserWarning: Failed processing file: WorkItem(dataset='/JetHT/Run2018A-UL2018_MiniAODv2_NanoAODv9-v2/NANOAOD', filename='root://cmsxrootd.fnal.gov//store/data/Run2018A/JetHT/NANOAOD/UL2018_MiniAODv2_NanoAODv9-v2/100000/00AA9A90-57AA-D147-B4FA-54D6D8DA0D4A.root', treename='Events', entrystart=1105841, entrystop=1206372, fileuuid=b'\\xe7\\xe5\\x95(\\x0b\\x17\\x11\\xec\\x9ft*\\xcf\\xe1\\x83\\xbe\\xef', usermeta={})\n",
      "  warnings.warn(str(e))\n"
     ]
    },
    {
     "name": "stdout",
     "output_type": "stream",
     "text": [
      "Lenght of events  100531 length of weights  100531\n",
      "IOV  2018 , era  Run2018A\n"
     ]
    },
    {
     "name": "stderr",
     "output_type": "stream",
     "text": [
      "/opt/conda/lib/python3.8/site-packages/coffea/processor/executor.py:1345: UserWarning: Failed processing file: WorkItem(dataset='/JetHT/Run2018A-UL2018_MiniAODv2_NanoAODv9-v2/NANOAOD', filename='root://cmsxrootd.fnal.gov//store/data/Run2018A/JetHT/NANOAOD/UL2018_MiniAODv2_NanoAODv9-v2/100000/00AA9A90-57AA-D147-B4FA-54D6D8DA0D4A.root', treename='Events', entrystart=1206372, entrystop=1306903, fileuuid=b'\\xe7\\xe5\\x95(\\x0b\\x17\\x11\\xec\\x9ft*\\xcf\\xe1\\x83\\xbe\\xef', usermeta={})\n",
      "  warnings.warn(str(e))\n"
     ]
    },
    {
     "name": "stdout",
     "output_type": "stream",
     "text": [
      "Lenght of events  100521 length of weights  100521\n",
      "IOV  2018 , era  Run2018A\n"
     ]
    },
    {
     "name": "stderr",
     "output_type": "stream",
     "text": [
      "/opt/conda/lib/python3.8/site-packages/coffea/processor/executor.py:1345: UserWarning: Failed processing file: WorkItem(dataset='/JetHT/Run2018A-UL2018_MiniAODv2_NanoAODv9-v2/NANOAOD', filename='root://cmsxrootd.fnal.gov//store/data/Run2018A/JetHT/NANOAOD/UL2018_MiniAODv2_NanoAODv9-v2/100000/00AA9A90-57AA-D147-B4FA-54D6D8DA0D4A.root', treename='Events', entrystart=1306903, entrystop=1407424, fileuuid=b'\\xe7\\xe5\\x95(\\x0b\\x17\\x11\\xec\\x9ft*\\xcf\\xe1\\x83\\xbe\\xef', usermeta={})\n",
      "  warnings.warn(str(e))\n"
     ]
    },
    {
     "name": "stdout",
     "output_type": "stream",
     "text": [
      "Lenght of events  101448 length of weights  101448\n",
      "IOV  2017 , era  Run2017F\n"
     ]
    },
    {
     "name": "stderr",
     "output_type": "stream",
     "text": [
      "/opt/conda/lib/python3.8/site-packages/coffea/processor/executor.py:1345: UserWarning: Failed processing file: WorkItem(dataset='/JetHT/Run2017F-UL2017_MiniAODv2_NanoAODv9-v1/NANOAOD', filename='root://cmsxrootd.fnal.gov//store/data/Run2017F/JetHT/NANOAOD/UL2017_MiniAODv2_NanoAODv9-v1/120000/0601305F-2F0F-F04F-B450-97422C843C9F.root', treename='Events', entrystart=0, entrystop=101448, fileuuid=b'K\\xca$\\xec\\xe0\\xe2\\x11\\xeb\\x9d\\x00\\xe9\\xa1\\xa9\\x83\\xbe\\xef', usermeta={})\n",
      "  warnings.warn(str(e))\n"
     ]
    },
    {
     "name": "stdout",
     "output_type": "stream",
     "text": [
      "Lenght of events  101448 length of weights  101448\n",
      "IOV  2017 , era  Run2017F\n"
     ]
    },
    {
     "name": "stderr",
     "output_type": "stream",
     "text": [
      "/opt/conda/lib/python3.8/site-packages/coffea/processor/executor.py:1345: UserWarning: Failed processing file: WorkItem(dataset='/JetHT/Run2017F-UL2017_MiniAODv2_NanoAODv9-v1/NANOAOD', filename='root://cmsxrootd.fnal.gov//store/data/Run2017F/JetHT/NANOAOD/UL2017_MiniAODv2_NanoAODv9-v1/120000/0601305F-2F0F-F04F-B450-97422C843C9F.root', treename='Events', entrystart=101448, entrystop=202896, fileuuid=b'K\\xca$\\xec\\xe0\\xe2\\x11\\xeb\\x9d\\x00\\xe9\\xa1\\xa9\\x83\\xbe\\xef', usermeta={})\n",
      "  warnings.warn(str(e))\n"
     ]
    },
    {
     "name": "stdout",
     "output_type": "stream",
     "text": [
      "Lenght of events  101448 length of weights  101448\n",
      "IOV  2017 , era  Run2017F\n"
     ]
    },
    {
     "name": "stderr",
     "output_type": "stream",
     "text": [
      "/opt/conda/lib/python3.8/site-packages/coffea/processor/executor.py:1345: UserWarning: Failed processing file: WorkItem(dataset='/JetHT/Run2017F-UL2017_MiniAODv2_NanoAODv9-v1/NANOAOD', filename='root://cmsxrootd.fnal.gov//store/data/Run2017F/JetHT/NANOAOD/UL2017_MiniAODv2_NanoAODv9-v1/120000/0601305F-2F0F-F04F-B450-97422C843C9F.root', treename='Events', entrystart=202896, entrystop=304344, fileuuid=b'K\\xca$\\xec\\xe0\\xe2\\x11\\xeb\\x9d\\x00\\xe9\\xa1\\xa9\\x83\\xbe\\xef', usermeta={})\n",
      "  warnings.warn(str(e))\n"
     ]
    },
    {
     "name": "stdout",
     "output_type": "stream",
     "text": [
      "Lenght of events  101448 length of weights  101448\n",
      "IOV  2017 , era  Run2017F\n"
     ]
    },
    {
     "name": "stderr",
     "output_type": "stream",
     "text": [
      "/opt/conda/lib/python3.8/site-packages/coffea/processor/executor.py:1345: UserWarning: Failed processing file: WorkItem(dataset='/JetHT/Run2017F-UL2017_MiniAODv2_NanoAODv9-v1/NANOAOD', filename='root://cmsxrootd.fnal.gov//store/data/Run2017F/JetHT/NANOAOD/UL2017_MiniAODv2_NanoAODv9-v1/120000/0601305F-2F0F-F04F-B450-97422C843C9F.root', treename='Events', entrystart=304344, entrystop=405792, fileuuid=b'K\\xca$\\xec\\xe0\\xe2\\x11\\xeb\\x9d\\x00\\xe9\\xa1\\xa9\\x83\\xbe\\xef', usermeta={})\n",
      "  warnings.warn(str(e))\n"
     ]
    },
    {
     "name": "stdout",
     "output_type": "stream",
     "text": [
      "Lenght of events  101448 length of weights  101448\n",
      "IOV  2017 , era  Run2017F\n"
     ]
    },
    {
     "name": "stderr",
     "output_type": "stream",
     "text": [
      "/opt/conda/lib/python3.8/site-packages/coffea/processor/executor.py:1345: UserWarning: Failed processing file: WorkItem(dataset='/JetHT/Run2017F-UL2017_MiniAODv2_NanoAODv9-v1/NANOAOD', filename='root://cmsxrootd.fnal.gov//store/data/Run2017F/JetHT/NANOAOD/UL2017_MiniAODv2_NanoAODv9-v1/120000/0601305F-2F0F-F04F-B450-97422C843C9F.root', treename='Events', entrystart=405792, entrystop=507240, fileuuid=b'K\\xca$\\xec\\xe0\\xe2\\x11\\xeb\\x9d\\x00\\xe9\\xa1\\xa9\\x83\\xbe\\xef', usermeta={})\n",
      "  warnings.warn(str(e))\n"
     ]
    },
    {
     "name": "stdout",
     "output_type": "stream",
     "text": [
      "Lenght of events  101448 length of weights  101448\n",
      "IOV  2017 , era  Run2017F\n"
     ]
    },
    {
     "name": "stderr",
     "output_type": "stream",
     "text": [
      "/opt/conda/lib/python3.8/site-packages/coffea/processor/executor.py:1345: UserWarning: Failed processing file: WorkItem(dataset='/JetHT/Run2017F-UL2017_MiniAODv2_NanoAODv9-v1/NANOAOD', filename='root://cmsxrootd.fnal.gov//store/data/Run2017F/JetHT/NANOAOD/UL2017_MiniAODv2_NanoAODv9-v1/120000/0601305F-2F0F-F04F-B450-97422C843C9F.root', treename='Events', entrystart=507240, entrystop=608688, fileuuid=b'K\\xca$\\xec\\xe0\\xe2\\x11\\xeb\\x9d\\x00\\xe9\\xa1\\xa9\\x83\\xbe\\xef', usermeta={})\n",
      "  warnings.warn(str(e))\n"
     ]
    },
    {
     "name": "stdout",
     "output_type": "stream",
     "text": [
      "Lenght of events  101448 length of weights  101448\n",
      "IOV  2017 , era  Run2017F\n"
     ]
    },
    {
     "name": "stderr",
     "output_type": "stream",
     "text": [
      "/opt/conda/lib/python3.8/site-packages/coffea/processor/executor.py:1345: UserWarning: Failed processing file: WorkItem(dataset='/JetHT/Run2017F-UL2017_MiniAODv2_NanoAODv9-v1/NANOAOD', filename='root://cmsxrootd.fnal.gov//store/data/Run2017F/JetHT/NANOAOD/UL2017_MiniAODv2_NanoAODv9-v1/120000/0601305F-2F0F-F04F-B450-97422C843C9F.root', treename='Events', entrystart=608688, entrystop=710136, fileuuid=b'K\\xca$\\xec\\xe0\\xe2\\x11\\xeb\\x9d\\x00\\xe9\\xa1\\xa9\\x83\\xbe\\xef', usermeta={})\n",
      "  warnings.warn(str(e))\n"
     ]
    },
    {
     "name": "stdout",
     "output_type": "stream",
     "text": [
      "Lenght of events  101448 length of weights  101448\n",
      "IOV  2017 , era  Run2017F\n"
     ]
    },
    {
     "name": "stderr",
     "output_type": "stream",
     "text": [
      "/opt/conda/lib/python3.8/site-packages/coffea/processor/executor.py:1345: UserWarning: Failed processing file: WorkItem(dataset='/JetHT/Run2017F-UL2017_MiniAODv2_NanoAODv9-v1/NANOAOD', filename='root://cmsxrootd.fnal.gov//store/data/Run2017F/JetHT/NANOAOD/UL2017_MiniAODv2_NanoAODv9-v1/120000/0601305F-2F0F-F04F-B450-97422C843C9F.root', treename='Events', entrystart=710136, entrystop=811584, fileuuid=b'K\\xca$\\xec\\xe0\\xe2\\x11\\xeb\\x9d\\x00\\xe9\\xa1\\xa9\\x83\\xbe\\xef', usermeta={})\n",
      "  warnings.warn(str(e))\n"
     ]
    },
    {
     "name": "stdout",
     "output_type": "stream",
     "text": [
      "Lenght of events  101448 length of weights  101448\n",
      "IOV  2017 , era  Run2017F\n"
     ]
    },
    {
     "name": "stderr",
     "output_type": "stream",
     "text": [
      "/opt/conda/lib/python3.8/site-packages/coffea/processor/executor.py:1345: UserWarning: Failed processing file: WorkItem(dataset='/JetHT/Run2017F-UL2017_MiniAODv2_NanoAODv9-v1/NANOAOD', filename='root://cmsxrootd.fnal.gov//store/data/Run2017F/JetHT/NANOAOD/UL2017_MiniAODv2_NanoAODv9-v1/120000/0601305F-2F0F-F04F-B450-97422C843C9F.root', treename='Events', entrystart=811584, entrystop=913032, fileuuid=b'K\\xca$\\xec\\xe0\\xe2\\x11\\xeb\\x9d\\x00\\xe9\\xa1\\xa9\\x83\\xbe\\xef', usermeta={})\n",
      "  warnings.warn(str(e))\n"
     ]
    },
    {
     "name": "stdout",
     "output_type": "stream",
     "text": [
      "Lenght of events  101448 length of weights  101448\n",
      "IOV  2017 , era  Run2017F\n"
     ]
    },
    {
     "name": "stderr",
     "output_type": "stream",
     "text": [
      "/opt/conda/lib/python3.8/site-packages/coffea/processor/executor.py:1345: UserWarning: Failed processing file: WorkItem(dataset='/JetHT/Run2017F-UL2017_MiniAODv2_NanoAODv9-v1/NANOAOD', filename='root://cmsxrootd.fnal.gov//store/data/Run2017F/JetHT/NANOAOD/UL2017_MiniAODv2_NanoAODv9-v1/120000/0601305F-2F0F-F04F-B450-97422C843C9F.root', treename='Events', entrystart=913032, entrystop=1014480, fileuuid=b'K\\xca$\\xec\\xe0\\xe2\\x11\\xeb\\x9d\\x00\\xe9\\xa1\\xa9\\x83\\xbe\\xef', usermeta={})\n",
      "  warnings.warn(str(e))\n"
     ]
    },
    {
     "name": "stdout",
     "output_type": "stream",
     "text": [
      "Lenght of events  101448 length of weights  101448\n",
      "IOV  2017 , era  Run2017F\n"
     ]
    },
    {
     "name": "stderr",
     "output_type": "stream",
     "text": [
      "/opt/conda/lib/python3.8/site-packages/coffea/processor/executor.py:1345: UserWarning: Failed processing file: WorkItem(dataset='/JetHT/Run2017F-UL2017_MiniAODv2_NanoAODv9-v1/NANOAOD', filename='root://cmsxrootd.fnal.gov//store/data/Run2017F/JetHT/NANOAOD/UL2017_MiniAODv2_NanoAODv9-v1/120000/0601305F-2F0F-F04F-B450-97422C843C9F.root', treename='Events', entrystart=1014480, entrystop=1115928, fileuuid=b'K\\xca$\\xec\\xe0\\xe2\\x11\\xeb\\x9d\\x00\\xe9\\xa1\\xa9\\x83\\xbe\\xef', usermeta={})\n",
      "  warnings.warn(str(e))\n"
     ]
    },
    {
     "name": "stdout",
     "output_type": "stream",
     "text": [
      "Lenght of events  101448 length of weights  101448\n",
      "IOV  2017 , era  Run2017F\n"
     ]
    },
    {
     "name": "stderr",
     "output_type": "stream",
     "text": [
      "/opt/conda/lib/python3.8/site-packages/coffea/processor/executor.py:1345: UserWarning: Failed processing file: WorkItem(dataset='/JetHT/Run2017F-UL2017_MiniAODv2_NanoAODv9-v1/NANOAOD', filename='root://cmsxrootd.fnal.gov//store/data/Run2017F/JetHT/NANOAOD/UL2017_MiniAODv2_NanoAODv9-v1/120000/0601305F-2F0F-F04F-B450-97422C843C9F.root', treename='Events', entrystart=1115928, entrystop=1217376, fileuuid=b'K\\xca$\\xec\\xe0\\xe2\\x11\\xeb\\x9d\\x00\\xe9\\xa1\\xa9\\x83\\xbe\\xef', usermeta={})\n",
      "  warnings.warn(str(e))\n"
     ]
    },
    {
     "name": "stdout",
     "output_type": "stream",
     "text": [
      "Lenght of events  101448 length of weights  101448\n",
      "IOV  2017 , era  Run2017F\n"
     ]
    },
    {
     "name": "stderr",
     "output_type": "stream",
     "text": [
      "/opt/conda/lib/python3.8/site-packages/coffea/processor/executor.py:1345: UserWarning: Failed processing file: WorkItem(dataset='/JetHT/Run2017F-UL2017_MiniAODv2_NanoAODv9-v1/NANOAOD', filename='root://cmsxrootd.fnal.gov//store/data/Run2017F/JetHT/NANOAOD/UL2017_MiniAODv2_NanoAODv9-v1/120000/0601305F-2F0F-F04F-B450-97422C843C9F.root', treename='Events', entrystart=1217376, entrystop=1318824, fileuuid=b'K\\xca$\\xec\\xe0\\xe2\\x11\\xeb\\x9d\\x00\\xe9\\xa1\\xa9\\x83\\xbe\\xef', usermeta={})\n",
      "  warnings.warn(str(e))\n"
     ]
    },
    {
     "name": "stdout",
     "output_type": "stream",
     "text": [
      "Lenght of events  101448 length of weights  101448\n",
      "IOV  2017 , era  Run2017F\n"
     ]
    },
    {
     "name": "stderr",
     "output_type": "stream",
     "text": [
      "/opt/conda/lib/python3.8/site-packages/coffea/processor/executor.py:1345: UserWarning: Failed processing file: WorkItem(dataset='/JetHT/Run2017F-UL2017_MiniAODv2_NanoAODv9-v1/NANOAOD', filename='root://cmsxrootd.fnal.gov//store/data/Run2017F/JetHT/NANOAOD/UL2017_MiniAODv2_NanoAODv9-v1/120000/0601305F-2F0F-F04F-B450-97422C843C9F.root', treename='Events', entrystart=1318824, entrystop=1420272, fileuuid=b'K\\xca$\\xec\\xe0\\xe2\\x11\\xeb\\x9d\\x00\\xe9\\xa1\\xa9\\x83\\xbe\\xef', usermeta={})\n",
      "  warnings.warn(str(e))\n"
     ]
    },
    {
     "name": "stdout",
     "output_type": "stream",
     "text": [
      "Lenght of events  101448 length of weights  101448\n",
      "IOV  2017 , era  Run2017F\n"
     ]
    },
    {
     "name": "stderr",
     "output_type": "stream",
     "text": [
      "/opt/conda/lib/python3.8/site-packages/coffea/processor/executor.py:1345: UserWarning: Failed processing file: WorkItem(dataset='/JetHT/Run2017F-UL2017_MiniAODv2_NanoAODv9-v1/NANOAOD', filename='root://cmsxrootd.fnal.gov//store/data/Run2017F/JetHT/NANOAOD/UL2017_MiniAODv2_NanoAODv9-v1/120000/0601305F-2F0F-F04F-B450-97422C843C9F.root', treename='Events', entrystart=1420272, entrystop=1521720, fileuuid=b'K\\xca$\\xec\\xe0\\xe2\\x11\\xeb\\x9d\\x00\\xe9\\xa1\\xa9\\x83\\xbe\\xef', usermeta={})\n",
      "  warnings.warn(str(e))\n"
     ]
    },
    {
     "name": "stdout",
     "output_type": "stream",
     "text": [
      "Lenght of events  101448 length of weights  101448\n",
      "IOV  2017 , era  Run2017F\n"
     ]
    },
    {
     "name": "stderr",
     "output_type": "stream",
     "text": [
      "/opt/conda/lib/python3.8/site-packages/coffea/processor/executor.py:1345: UserWarning: Failed processing file: WorkItem(dataset='/JetHT/Run2017F-UL2017_MiniAODv2_NanoAODv9-v1/NANOAOD', filename='root://cmsxrootd.fnal.gov//store/data/Run2017F/JetHT/NANOAOD/UL2017_MiniAODv2_NanoAODv9-v1/120000/0601305F-2F0F-F04F-B450-97422C843C9F.root', treename='Events', entrystart=1521720, entrystop=1623168, fileuuid=b'K\\xca$\\xec\\xe0\\xe2\\x11\\xeb\\x9d\\x00\\xe9\\xa1\\xa9\\x83\\xbe\\xef', usermeta={})\n",
      "  warnings.warn(str(e))\n"
     ]
    },
    {
     "name": "stdout",
     "output_type": "stream",
     "text": [
      "Lenght of events  101448 length of weights  101448\n",
      "IOV  2017 , era  Run2017F\n"
     ]
    },
    {
     "name": "stderr",
     "output_type": "stream",
     "text": [
      "/opt/conda/lib/python3.8/site-packages/coffea/processor/executor.py:1345: UserWarning: Failed processing file: WorkItem(dataset='/JetHT/Run2017F-UL2017_MiniAODv2_NanoAODv9-v1/NANOAOD', filename='root://cmsxrootd.fnal.gov//store/data/Run2017F/JetHT/NANOAOD/UL2017_MiniAODv2_NanoAODv9-v1/120000/0601305F-2F0F-F04F-B450-97422C843C9F.root', treename='Events', entrystart=1623168, entrystop=1724616, fileuuid=b'K\\xca$\\xec\\xe0\\xe2\\x11\\xeb\\x9d\\x00\\xe9\\xa1\\xa9\\x83\\xbe\\xef', usermeta={})\n",
      "  warnings.warn(str(e))\n",
      "/opt/conda/lib/python3.8/site-packages/coffea/processor/executor.py:1360: UserWarning: XRootD error: [ERROR] Operation expired\n",
      "in file root://cmsxrootd.fnal.gov//store/data/Run2017F/JetHT/NANOAOD/UL2017_MiniAODv2_NanoAODv9-v1/120000/0601305F-2F0F-F04F-B450-97422C843C9F.root\n",
      "  warnings.warn(str(e))\n"
     ]
    },
    {
     "name": "stdout",
     "output_type": "stream",
     "text": [
      "Lenght of events  101448 length of weights  101448\n",
      "IOV  2017 , era  Run2017F\n"
     ]
    },
    {
     "name": "stderr",
     "output_type": "stream",
     "text": [
      "/opt/conda/lib/python3.8/site-packages/coffea/processor/executor.py:1345: UserWarning: Failed processing file: WorkItem(dataset='/JetHT/Run2017F-UL2017_MiniAODv2_NanoAODv9-v1/NANOAOD', filename='root://cmsxrootd.fnal.gov//store/data/Run2017F/JetHT/NANOAOD/UL2017_MiniAODv2_NanoAODv9-v1/120000/0601305F-2F0F-F04F-B450-97422C843C9F.root', treename='Events', entrystart=1826064, entrystop=1927512, fileuuid=b'K\\xca$\\xec\\xe0\\xe2\\x11\\xeb\\x9d\\x00\\xe9\\xa1\\xa9\\x83\\xbe\\xef', usermeta={})\n",
      "  warnings.warn(str(e))\n"
     ]
    },
    {
     "name": "stdout",
     "output_type": "stream",
     "text": [
      "Lenght of events  101448 length of weights  101448\n",
      "IOV  2017 , era  Run2017F\n"
     ]
    },
    {
     "name": "stderr",
     "output_type": "stream",
     "text": [
      "/opt/conda/lib/python3.8/site-packages/coffea/processor/executor.py:1345: UserWarning: Failed processing file: WorkItem(dataset='/JetHT/Run2017F-UL2017_MiniAODv2_NanoAODv9-v1/NANOAOD', filename='root://cmsxrootd.fnal.gov//store/data/Run2017F/JetHT/NANOAOD/UL2017_MiniAODv2_NanoAODv9-v1/120000/0601305F-2F0F-F04F-B450-97422C843C9F.root', treename='Events', entrystart=1927512, entrystop=2028960, fileuuid=b'K\\xca$\\xec\\xe0\\xe2\\x11\\xeb\\x9d\\x00\\xe9\\xa1\\xa9\\x83\\xbe\\xef', usermeta={})\n",
      "  warnings.warn(str(e))\n"
     ]
    },
    {
     "name": "stdout",
     "output_type": "stream",
     "text": [
      "Lenght of events  101448 length of weights  101448\n",
      "IOV  2017 , era  Run2017F\n"
     ]
    },
    {
     "name": "stderr",
     "output_type": "stream",
     "text": [
      "/opt/conda/lib/python3.8/site-packages/coffea/processor/executor.py:1345: UserWarning: Failed processing file: WorkItem(dataset='/JetHT/Run2017F-UL2017_MiniAODv2_NanoAODv9-v1/NANOAOD', filename='root://cmsxrootd.fnal.gov//store/data/Run2017F/JetHT/NANOAOD/UL2017_MiniAODv2_NanoAODv9-v1/120000/0601305F-2F0F-F04F-B450-97422C843C9F.root', treename='Events', entrystart=2028960, entrystop=2130408, fileuuid=b'K\\xca$\\xec\\xe0\\xe2\\x11\\xeb\\x9d\\x00\\xe9\\xa1\\xa9\\x83\\xbe\\xef', usermeta={})\n",
      "  warnings.warn(str(e))\n"
     ]
    },
    {
     "name": "stdout",
     "output_type": "stream",
     "text": [
      "Lenght of events  101448 length of weights  101448\n",
      "IOV  2017 , era  Run2017F\n"
     ]
    },
    {
     "name": "stderr",
     "output_type": "stream",
     "text": [
      "/opt/conda/lib/python3.8/site-packages/coffea/processor/executor.py:1345: UserWarning: Failed processing file: WorkItem(dataset='/JetHT/Run2017F-UL2017_MiniAODv2_NanoAODv9-v1/NANOAOD', filename='root://cmsxrootd.fnal.gov//store/data/Run2017F/JetHT/NANOAOD/UL2017_MiniAODv2_NanoAODv9-v1/120000/0601305F-2F0F-F04F-B450-97422C843C9F.root', treename='Events', entrystart=2130408, entrystop=2231856, fileuuid=b'K\\xca$\\xec\\xe0\\xe2\\x11\\xeb\\x9d\\x00\\xe9\\xa1\\xa9\\x83\\xbe\\xef', usermeta={})\n",
      "  warnings.warn(str(e))\n"
     ]
    },
    {
     "name": "stdout",
     "output_type": "stream",
     "text": [
      "Lenght of events  101448 length of weights  101448\n",
      "IOV  2017 , era  Run2017F\n"
     ]
    },
    {
     "name": "stderr",
     "output_type": "stream",
     "text": [
      "/opt/conda/lib/python3.8/site-packages/coffea/processor/executor.py:1345: UserWarning: Failed processing file: WorkItem(dataset='/JetHT/Run2017F-UL2017_MiniAODv2_NanoAODv9-v1/NANOAOD', filename='root://cmsxrootd.fnal.gov//store/data/Run2017F/JetHT/NANOAOD/UL2017_MiniAODv2_NanoAODv9-v1/120000/0601305F-2F0F-F04F-B450-97422C843C9F.root', treename='Events', entrystart=2231856, entrystop=2333304, fileuuid=b'K\\xca$\\xec\\xe0\\xe2\\x11\\xeb\\x9d\\x00\\xe9\\xa1\\xa9\\x83\\xbe\\xef', usermeta={})\n",
      "  warnings.warn(str(e))\n"
     ]
    },
    {
     "name": "stdout",
     "output_type": "stream",
     "text": [
      "Lenght of events  101447 length of weights  101447\n",
      "IOV  2017 , era  Run2017F\n"
     ]
    },
    {
     "name": "stderr",
     "output_type": "stream",
     "text": [
      "/opt/conda/lib/python3.8/site-packages/coffea/processor/executor.py:1345: UserWarning: Failed processing file: WorkItem(dataset='/JetHT/Run2017F-UL2017_MiniAODv2_NanoAODv9-v1/NANOAOD', filename='root://cmsxrootd.fnal.gov//store/data/Run2017F/JetHT/NANOAOD/UL2017_MiniAODv2_NanoAODv9-v1/120000/0601305F-2F0F-F04F-B450-97422C843C9F.root', treename='Events', entrystart=2333304, entrystop=2434751, fileuuid=b'K\\xca$\\xec\\xe0\\xe2\\x11\\xeb\\x9d\\x00\\xe9\\xa1\\xa9\\x83\\xbe\\xef', usermeta={})\n",
      "  warnings.warn(str(e))\n"
     ]
    },
    {
     "data": {
      "text/html": [
       "<pre style=\"white-space:pre;overflow-x:auto;line-height:normal;font-family:Menlo,'DejaVu Sans Mono',consolas,'Courier New',monospace\"></pre>\n"
      ],
      "text/plain": []
     },
     "metadata": {},
     "output_type": "display_data"
    },
    {
     "data": {
      "text/html": [
       "<pre style=\"white-space:pre;overflow-x:auto;line-height:normal;font-family:Menlo,'DejaVu Sans Mono',consolas,'Courier New',monospace\">\n",
       "</pre>\n"
      ],
      "text/plain": [
       "\n"
      ]
     },
     "metadata": {},
     "output_type": "display_data"
    },
    {
     "name": "stderr",
     "output_type": "stream",
     "text": [
      "/opt/conda/lib/python3.8/site-packages/coffea/processor/executor.py:1360: UserWarning: XRootD error: [ERROR] Operation expired\n",
      "in file root://cmsxrootd.fnal.gov//store/data/Run2017E/JetHT/NANOAOD/UL2017_MiniAODv2_NanoAODv9-v1/270000/31E1EFEB-7C3D-F844-A48A-1DE588144ED3.root\n",
      "  warnings.warn(str(e))\n"
     ]
    },
    {
     "name": "stdout",
     "output_type": "stream",
     "text": [
      "Lenght of events  98567 length of weights  98567\n",
      "IOV  2017 , era  Run2017E\n"
     ]
    },
    {
     "name": "stderr",
     "output_type": "stream",
     "text": [
      "/opt/conda/lib/python3.8/site-packages/coffea/processor/executor.py:1345: UserWarning: Failed processing file: WorkItem(dataset='/JetHT/Run2017E-UL2017_MiniAODv2_NanoAODv9-v1/NANOAOD', filename='root://cmsxrootd.fnal.gov//store/data/Run2017E/JetHT/NANOAOD/UL2017_MiniAODv2_NanoAODv9-v1/270000/31E1EFEB-7C3D-F844-A48A-1DE588144ED3.root', treename='Events', entrystart=197134, entrystop=295701, fileuuid=b'\\x13\\xdc\\xaf$\\xef\\x14\\x11\\xeb\\xa1\\xdd\\xe3\\x82\\xe4\\xa9\\xbe\\xef', usermeta={})\n",
      "  warnings.warn(str(e))\n"
     ]
    },
    {
     "name": "stdout",
     "output_type": "stream",
     "text": [
      "Lenght of events  98567 length of weights  98567\n",
      "IOV  2017 , era  Run2017E\n"
     ]
    },
    {
     "name": "stderr",
     "output_type": "stream",
     "text": [
      "/opt/conda/lib/python3.8/site-packages/coffea/processor/executor.py:1345: UserWarning: Failed processing file: WorkItem(dataset='/JetHT/Run2017E-UL2017_MiniAODv2_NanoAODv9-v1/NANOAOD', filename='root://cmsxrootd.fnal.gov//store/data/Run2017E/JetHT/NANOAOD/UL2017_MiniAODv2_NanoAODv9-v1/270000/31E1EFEB-7C3D-F844-A48A-1DE588144ED3.root', treename='Events', entrystart=295701, entrystop=394268, fileuuid=b'\\x13\\xdc\\xaf$\\xef\\x14\\x11\\xeb\\xa1\\xdd\\xe3\\x82\\xe4\\xa9\\xbe\\xef', usermeta={})\n",
      "  warnings.warn(str(e))\n"
     ]
    },
    {
     "name": "stdout",
     "output_type": "stream",
     "text": [
      "Lenght of events  98567 length of weights  98567\n",
      "IOV  2017 , era  Run2017E\n"
     ]
    },
    {
     "name": "stderr",
     "output_type": "stream",
     "text": [
      "/opt/conda/lib/python3.8/site-packages/coffea/processor/executor.py:1345: UserWarning: Failed processing file: WorkItem(dataset='/JetHT/Run2017E-UL2017_MiniAODv2_NanoAODv9-v1/NANOAOD', filename='root://cmsxrootd.fnal.gov//store/data/Run2017E/JetHT/NANOAOD/UL2017_MiniAODv2_NanoAODv9-v1/270000/31E1EFEB-7C3D-F844-A48A-1DE588144ED3.root', treename='Events', entrystart=394268, entrystop=492835, fileuuid=b'\\x13\\xdc\\xaf$\\xef\\x14\\x11\\xeb\\xa1\\xdd\\xe3\\x82\\xe4\\xa9\\xbe\\xef', usermeta={})\n",
      "  warnings.warn(str(e))\n"
     ]
    },
    {
     "name": "stdout",
     "output_type": "stream",
     "text": [
      "Lenght of events  98567 length of weights  98567\n",
      "IOV  2017 , era  Run2017E\n"
     ]
    },
    {
     "name": "stderr",
     "output_type": "stream",
     "text": [
      "/opt/conda/lib/python3.8/site-packages/coffea/processor/executor.py:1345: UserWarning: Failed processing file: WorkItem(dataset='/JetHT/Run2017E-UL2017_MiniAODv2_NanoAODv9-v1/NANOAOD', filename='root://cmsxrootd.fnal.gov//store/data/Run2017E/JetHT/NANOAOD/UL2017_MiniAODv2_NanoAODv9-v1/270000/31E1EFEB-7C3D-F844-A48A-1DE588144ED3.root', treename='Events', entrystart=492835, entrystop=591402, fileuuid=b'\\x13\\xdc\\xaf$\\xef\\x14\\x11\\xeb\\xa1\\xdd\\xe3\\x82\\xe4\\xa9\\xbe\\xef', usermeta={})\n",
      "  warnings.warn(str(e))\n"
     ]
    },
    {
     "name": "stdout",
     "output_type": "stream",
     "text": [
      "Lenght of events  98567 length of weights  98567\n",
      "IOV  2017 , era  Run2017E\n"
     ]
    },
    {
     "name": "stderr",
     "output_type": "stream",
     "text": [
      "/opt/conda/lib/python3.8/site-packages/coffea/processor/executor.py:1345: UserWarning: Failed processing file: WorkItem(dataset='/JetHT/Run2017E-UL2017_MiniAODv2_NanoAODv9-v1/NANOAOD', filename='root://cmsxrootd.fnal.gov//store/data/Run2017E/JetHT/NANOAOD/UL2017_MiniAODv2_NanoAODv9-v1/270000/31E1EFEB-7C3D-F844-A48A-1DE588144ED3.root', treename='Events', entrystart=591402, entrystop=689969, fileuuid=b'\\x13\\xdc\\xaf$\\xef\\x14\\x11\\xeb\\xa1\\xdd\\xe3\\x82\\xe4\\xa9\\xbe\\xef', usermeta={})\n",
      "  warnings.warn(str(e))\n"
     ]
    },
    {
     "name": "stdout",
     "output_type": "stream",
     "text": [
      "Lenght of events  98567 length of weights  98567\n",
      "IOV  2017 , era  Run2017E\n"
     ]
    },
    {
     "name": "stderr",
     "output_type": "stream",
     "text": [
      "/opt/conda/lib/python3.8/site-packages/coffea/processor/executor.py:1345: UserWarning: Failed processing file: WorkItem(dataset='/JetHT/Run2017E-UL2017_MiniAODv2_NanoAODv9-v1/NANOAOD', filename='root://cmsxrootd.fnal.gov//store/data/Run2017E/JetHT/NANOAOD/UL2017_MiniAODv2_NanoAODv9-v1/270000/31E1EFEB-7C3D-F844-A48A-1DE588144ED3.root', treename='Events', entrystart=689969, entrystop=788536, fileuuid=b'\\x13\\xdc\\xaf$\\xef\\x14\\x11\\xeb\\xa1\\xdd\\xe3\\x82\\xe4\\xa9\\xbe\\xef', usermeta={})\n",
      "  warnings.warn(str(e))\n"
     ]
    },
    {
     "name": "stdout",
     "output_type": "stream",
     "text": [
      "Lenght of events  98567 length of weights  98567\n",
      "IOV  2017 , era  Run2017E\n"
     ]
    },
    {
     "name": "stderr",
     "output_type": "stream",
     "text": [
      "/opt/conda/lib/python3.8/site-packages/coffea/processor/executor.py:1345: UserWarning: Failed processing file: WorkItem(dataset='/JetHT/Run2017E-UL2017_MiniAODv2_NanoAODv9-v1/NANOAOD', filename='root://cmsxrootd.fnal.gov//store/data/Run2017E/JetHT/NANOAOD/UL2017_MiniAODv2_NanoAODv9-v1/270000/31E1EFEB-7C3D-F844-A48A-1DE588144ED3.root', treename='Events', entrystart=788536, entrystop=887103, fileuuid=b'\\x13\\xdc\\xaf$\\xef\\x14\\x11\\xeb\\xa1\\xdd\\xe3\\x82\\xe4\\xa9\\xbe\\xef', usermeta={})\n",
      "  warnings.warn(str(e))\n"
     ]
    },
    {
     "name": "stdout",
     "output_type": "stream",
     "text": [
      "Lenght of events  98567 length of weights  98567\n",
      "IOV  2017 , era  Run2017E\n"
     ]
    },
    {
     "name": "stderr",
     "output_type": "stream",
     "text": [
      "/opt/conda/lib/python3.8/site-packages/coffea/processor/executor.py:1345: UserWarning: Failed processing file: WorkItem(dataset='/JetHT/Run2017E-UL2017_MiniAODv2_NanoAODv9-v1/NANOAOD', filename='root://cmsxrootd.fnal.gov//store/data/Run2017E/JetHT/NANOAOD/UL2017_MiniAODv2_NanoAODv9-v1/270000/31E1EFEB-7C3D-F844-A48A-1DE588144ED3.root', treename='Events', entrystart=887103, entrystop=985670, fileuuid=b'\\x13\\xdc\\xaf$\\xef\\x14\\x11\\xeb\\xa1\\xdd\\xe3\\x82\\xe4\\xa9\\xbe\\xef', usermeta={})\n",
      "  warnings.warn(str(e))\n"
     ]
    },
    {
     "name": "stdout",
     "output_type": "stream",
     "text": [
      "Lenght of events  98567 length of weights  98567\n",
      "IOV  2017 , era  Run2017E\n"
     ]
    },
    {
     "name": "stderr",
     "output_type": "stream",
     "text": [
      "/opt/conda/lib/python3.8/site-packages/coffea/processor/executor.py:1345: UserWarning: Failed processing file: WorkItem(dataset='/JetHT/Run2017E-UL2017_MiniAODv2_NanoAODv9-v1/NANOAOD', filename='root://cmsxrootd.fnal.gov//store/data/Run2017E/JetHT/NANOAOD/UL2017_MiniAODv2_NanoAODv9-v1/270000/31E1EFEB-7C3D-F844-A48A-1DE588144ED3.root', treename='Events', entrystart=985670, entrystop=1084237, fileuuid=b'\\x13\\xdc\\xaf$\\xef\\x14\\x11\\xeb\\xa1\\xdd\\xe3\\x82\\xe4\\xa9\\xbe\\xef', usermeta={})\n",
      "  warnings.warn(str(e))\n"
     ]
    },
    {
     "name": "stdout",
     "output_type": "stream",
     "text": [
      "Lenght of events  98567 length of weights  98567\n",
      "IOV  2017 , era  Run2017E\n"
     ]
    },
    {
     "name": "stderr",
     "output_type": "stream",
     "text": [
      "/opt/conda/lib/python3.8/site-packages/coffea/processor/executor.py:1345: UserWarning: Failed processing file: WorkItem(dataset='/JetHT/Run2017E-UL2017_MiniAODv2_NanoAODv9-v1/NANOAOD', filename='root://cmsxrootd.fnal.gov//store/data/Run2017E/JetHT/NANOAOD/UL2017_MiniAODv2_NanoAODv9-v1/270000/31E1EFEB-7C3D-F844-A48A-1DE588144ED3.root', treename='Events', entrystart=1084237, entrystop=1182804, fileuuid=b'\\x13\\xdc\\xaf$\\xef\\x14\\x11\\xeb\\xa1\\xdd\\xe3\\x82\\xe4\\xa9\\xbe\\xef', usermeta={})\n",
      "  warnings.warn(str(e))\n"
     ]
    },
    {
     "name": "stdout",
     "output_type": "stream",
     "text": [
      "Lenght of events  98567 length of weights  98567\n",
      "IOV  2017 , era  Run2017E\n"
     ]
    },
    {
     "name": "stderr",
     "output_type": "stream",
     "text": [
      "/opt/conda/lib/python3.8/site-packages/coffea/processor/executor.py:1345: UserWarning: Failed processing file: WorkItem(dataset='/JetHT/Run2017E-UL2017_MiniAODv2_NanoAODv9-v1/NANOAOD', filename='root://cmsxrootd.fnal.gov//store/data/Run2017E/JetHT/NANOAOD/UL2017_MiniAODv2_NanoAODv9-v1/270000/31E1EFEB-7C3D-F844-A48A-1DE588144ED3.root', treename='Events', entrystart=1182804, entrystop=1281371, fileuuid=b'\\x13\\xdc\\xaf$\\xef\\x14\\x11\\xeb\\xa1\\xdd\\xe3\\x82\\xe4\\xa9\\xbe\\xef', usermeta={})\n",
      "  warnings.warn(str(e))\n"
     ]
    },
    {
     "name": "stdout",
     "output_type": "stream",
     "text": [
      "Lenght of events  98562 length of weights  98562\n",
      "IOV  2017 , era  Run2017E\n"
     ]
    },
    {
     "name": "stderr",
     "output_type": "stream",
     "text": [
      "/opt/conda/lib/python3.8/site-packages/coffea/processor/executor.py:1345: UserWarning: Failed processing file: WorkItem(dataset='/JetHT/Run2017E-UL2017_MiniAODv2_NanoAODv9-v1/NANOAOD', filename='root://cmsxrootd.fnal.gov//store/data/Run2017E/JetHT/NANOAOD/UL2017_MiniAODv2_NanoAODv9-v1/270000/31E1EFEB-7C3D-F844-A48A-1DE588144ED3.root', treename='Events', entrystart=1281371, entrystop=1379933, fileuuid=b'\\x13\\xdc\\xaf$\\xef\\x14\\x11\\xeb\\xa1\\xdd\\xe3\\x82\\xe4\\xa9\\xbe\\xef', usermeta={})\n",
      "  warnings.warn(str(e))\n"
     ]
    },
    {
     "name": "stdout",
     "output_type": "stream",
     "text": [
      "Lenght of events  101566 length of weights  101566\n",
      "IOV  2017 , era  Run2017D\n"
     ]
    },
    {
     "name": "stderr",
     "output_type": "stream",
     "text": [
      "/opt/conda/lib/python3.8/site-packages/coffea/processor/executor.py:1345: UserWarning: Failed processing file: WorkItem(dataset='/JetHT/Run2017D-UL2017_MiniAODv2_NanoAODv9-v1/NANOAOD', filename='root://cmsxrootd.fnal.gov//store/data/Run2017D/JetHT/NANOAOD/UL2017_MiniAODv2_NanoAODv9-v1/120000/018D975F-EA22-8F4B-84AC-796AF259675A.root', treename='Events', entrystart=0, entrystop=101566, fileuuid=b'\\x0b\\xcb\\xf5n\\xe6\\xdc\\x11\\xeb\\x9c\\x7f\\xaa\\t\\x06\\x94\\xbe\\xef', usermeta={})\n",
      "  warnings.warn(str(e))\n"
     ]
    },
    {
     "name": "stdout",
     "output_type": "stream",
     "text": [
      "Lenght of events  101566 length of weights  101566\n",
      "IOV  2017 , era  Run2017D\n"
     ]
    },
    {
     "name": "stderr",
     "output_type": "stream",
     "text": [
      "/opt/conda/lib/python3.8/site-packages/coffea/processor/executor.py:1345: UserWarning: Failed processing file: WorkItem(dataset='/JetHT/Run2017D-UL2017_MiniAODv2_NanoAODv9-v1/NANOAOD', filename='root://cmsxrootd.fnal.gov//store/data/Run2017D/JetHT/NANOAOD/UL2017_MiniAODv2_NanoAODv9-v1/120000/018D975F-EA22-8F4B-84AC-796AF259675A.root', treename='Events', entrystart=101566, entrystop=203132, fileuuid=b'\\x0b\\xcb\\xf5n\\xe6\\xdc\\x11\\xeb\\x9c\\x7f\\xaa\\t\\x06\\x94\\xbe\\xef', usermeta={})\n",
      "  warnings.warn(str(e))\n"
     ]
    },
    {
     "name": "stdout",
     "output_type": "stream",
     "text": [
      "Lenght of events  101566 length of weights  101566\n",
      "IOV  2017 , era  Run2017D\n"
     ]
    },
    {
     "name": "stderr",
     "output_type": "stream",
     "text": [
      "/opt/conda/lib/python3.8/site-packages/coffea/processor/executor.py:1345: UserWarning: Failed processing file: WorkItem(dataset='/JetHT/Run2017D-UL2017_MiniAODv2_NanoAODv9-v1/NANOAOD', filename='root://cmsxrootd.fnal.gov//store/data/Run2017D/JetHT/NANOAOD/UL2017_MiniAODv2_NanoAODv9-v1/120000/018D975F-EA22-8F4B-84AC-796AF259675A.root', treename='Events', entrystart=203132, entrystop=304698, fileuuid=b'\\x0b\\xcb\\xf5n\\xe6\\xdc\\x11\\xeb\\x9c\\x7f\\xaa\\t\\x06\\x94\\xbe\\xef', usermeta={})\n",
      "  warnings.warn(str(e))\n"
     ]
    },
    {
     "name": "stdout",
     "output_type": "stream",
     "text": [
      "Lenght of events  101566 length of weights  101566\n",
      "IOV  2017 , era  Run2017D\n"
     ]
    },
    {
     "name": "stderr",
     "output_type": "stream",
     "text": [
      "/opt/conda/lib/python3.8/site-packages/coffea/processor/executor.py:1345: UserWarning: Failed processing file: WorkItem(dataset='/JetHT/Run2017D-UL2017_MiniAODv2_NanoAODv9-v1/NANOAOD', filename='root://cmsxrootd.fnal.gov//store/data/Run2017D/JetHT/NANOAOD/UL2017_MiniAODv2_NanoAODv9-v1/120000/018D975F-EA22-8F4B-84AC-796AF259675A.root', treename='Events', entrystart=304698, entrystop=406264, fileuuid=b'\\x0b\\xcb\\xf5n\\xe6\\xdc\\x11\\xeb\\x9c\\x7f\\xaa\\t\\x06\\x94\\xbe\\xef', usermeta={})\n",
      "  warnings.warn(str(e))\n"
     ]
    },
    {
     "name": "stdout",
     "output_type": "stream",
     "text": [
      "Lenght of events  101566 length of weights  101566\n",
      "IOV  2017 , era  Run2017D\n"
     ]
    },
    {
     "name": "stderr",
     "output_type": "stream",
     "text": [
      "/opt/conda/lib/python3.8/site-packages/coffea/processor/executor.py:1345: UserWarning: Failed processing file: WorkItem(dataset='/JetHT/Run2017D-UL2017_MiniAODv2_NanoAODv9-v1/NANOAOD', filename='root://cmsxrootd.fnal.gov//store/data/Run2017D/JetHT/NANOAOD/UL2017_MiniAODv2_NanoAODv9-v1/120000/018D975F-EA22-8F4B-84AC-796AF259675A.root', treename='Events', entrystart=406264, entrystop=507830, fileuuid=b'\\x0b\\xcb\\xf5n\\xe6\\xdc\\x11\\xeb\\x9c\\x7f\\xaa\\t\\x06\\x94\\xbe\\xef', usermeta={})\n",
      "  warnings.warn(str(e))\n"
     ]
    },
    {
     "name": "stdout",
     "output_type": "stream",
     "text": [
      "Lenght of events  101566 length of weights  101566\n",
      "IOV  2017 , era  Run2017D\n"
     ]
    },
    {
     "name": "stderr",
     "output_type": "stream",
     "text": [
      "/opt/conda/lib/python3.8/site-packages/coffea/processor/executor.py:1345: UserWarning: Failed processing file: WorkItem(dataset='/JetHT/Run2017D-UL2017_MiniAODv2_NanoAODv9-v1/NANOAOD', filename='root://cmsxrootd.fnal.gov//store/data/Run2017D/JetHT/NANOAOD/UL2017_MiniAODv2_NanoAODv9-v1/120000/018D975F-EA22-8F4B-84AC-796AF259675A.root', treename='Events', entrystart=507830, entrystop=609396, fileuuid=b'\\x0b\\xcb\\xf5n\\xe6\\xdc\\x11\\xeb\\x9c\\x7f\\xaa\\t\\x06\\x94\\xbe\\xef', usermeta={})\n",
      "  warnings.warn(str(e))\n"
     ]
    },
    {
     "name": "stdout",
     "output_type": "stream",
     "text": [
      "Lenght of events  101566 length of weights  101566\n",
      "IOV  2017 , era  Run2017D\n"
     ]
    },
    {
     "name": "stderr",
     "output_type": "stream",
     "text": [
      "/opt/conda/lib/python3.8/site-packages/coffea/processor/executor.py:1345: UserWarning: Failed processing file: WorkItem(dataset='/JetHT/Run2017D-UL2017_MiniAODv2_NanoAODv9-v1/NANOAOD', filename='root://cmsxrootd.fnal.gov//store/data/Run2017D/JetHT/NANOAOD/UL2017_MiniAODv2_NanoAODv9-v1/120000/018D975F-EA22-8F4B-84AC-796AF259675A.root', treename='Events', entrystart=609396, entrystop=710962, fileuuid=b'\\x0b\\xcb\\xf5n\\xe6\\xdc\\x11\\xeb\\x9c\\x7f\\xaa\\t\\x06\\x94\\xbe\\xef', usermeta={})\n",
      "  warnings.warn(str(e))\n"
     ]
    },
    {
     "name": "stdout",
     "output_type": "stream",
     "text": [
      "Lenght of events  101566 length of weights  101566\n",
      "IOV  2017 , era  Run2017D\n"
     ]
    },
    {
     "name": "stderr",
     "output_type": "stream",
     "text": [
      "/opt/conda/lib/python3.8/site-packages/coffea/processor/executor.py:1345: UserWarning: Failed processing file: WorkItem(dataset='/JetHT/Run2017D-UL2017_MiniAODv2_NanoAODv9-v1/NANOAOD', filename='root://cmsxrootd.fnal.gov//store/data/Run2017D/JetHT/NANOAOD/UL2017_MiniAODv2_NanoAODv9-v1/120000/018D975F-EA22-8F4B-84AC-796AF259675A.root', treename='Events', entrystart=710962, entrystop=812528, fileuuid=b'\\x0b\\xcb\\xf5n\\xe6\\xdc\\x11\\xeb\\x9c\\x7f\\xaa\\t\\x06\\x94\\xbe\\xef', usermeta={})\n",
      "  warnings.warn(str(e))\n"
     ]
    },
    {
     "name": "stdout",
     "output_type": "stream",
     "text": [
      "Lenght of events  101566 length of weights  101566\n",
      "IOV  2017 , era  Run2017D\n"
     ]
    },
    {
     "name": "stderr",
     "output_type": "stream",
     "text": [
      "/opt/conda/lib/python3.8/site-packages/coffea/processor/executor.py:1345: UserWarning: Failed processing file: WorkItem(dataset='/JetHT/Run2017D-UL2017_MiniAODv2_NanoAODv9-v1/NANOAOD', filename='root://cmsxrootd.fnal.gov//store/data/Run2017D/JetHT/NANOAOD/UL2017_MiniAODv2_NanoAODv9-v1/120000/018D975F-EA22-8F4B-84AC-796AF259675A.root', treename='Events', entrystart=812528, entrystop=914094, fileuuid=b'\\x0b\\xcb\\xf5n\\xe6\\xdc\\x11\\xeb\\x9c\\x7f\\xaa\\t\\x06\\x94\\xbe\\xef', usermeta={})\n",
      "  warnings.warn(str(e))\n"
     ]
    },
    {
     "name": "stdout",
     "output_type": "stream",
     "text": [
      "Lenght of events  101566 length of weights  101566\n",
      "IOV  2017 , era  Run2017D\n"
     ]
    },
    {
     "name": "stderr",
     "output_type": "stream",
     "text": [
      "/opt/conda/lib/python3.8/site-packages/coffea/processor/executor.py:1345: UserWarning: Failed processing file: WorkItem(dataset='/JetHT/Run2017D-UL2017_MiniAODv2_NanoAODv9-v1/NANOAOD', filename='root://cmsxrootd.fnal.gov//store/data/Run2017D/JetHT/NANOAOD/UL2017_MiniAODv2_NanoAODv9-v1/120000/018D975F-EA22-8F4B-84AC-796AF259675A.root', treename='Events', entrystart=914094, entrystop=1015660, fileuuid=b'\\x0b\\xcb\\xf5n\\xe6\\xdc\\x11\\xeb\\x9c\\x7f\\xaa\\t\\x06\\x94\\xbe\\xef', usermeta={})\n",
      "  warnings.warn(str(e))\n"
     ]
    },
    {
     "name": "stdout",
     "output_type": "stream",
     "text": [
      "Lenght of events  101565 length of weights  101565\n",
      "IOV  2017 , era  Run2017D\n"
     ]
    },
    {
     "name": "stderr",
     "output_type": "stream",
     "text": [
      "/opt/conda/lib/python3.8/site-packages/coffea/processor/executor.py:1345: UserWarning: Failed processing file: WorkItem(dataset='/JetHT/Run2017D-UL2017_MiniAODv2_NanoAODv9-v1/NANOAOD', filename='root://cmsxrootd.fnal.gov//store/data/Run2017D/JetHT/NANOAOD/UL2017_MiniAODv2_NanoAODv9-v1/120000/018D975F-EA22-8F4B-84AC-796AF259675A.root', treename='Events', entrystart=1015660, entrystop=1117225, fileuuid=b'\\x0b\\xcb\\xf5n\\xe6\\xdc\\x11\\xeb\\x9c\\x7f\\xaa\\t\\x06\\x94\\xbe\\xef', usermeta={})\n",
      "  warnings.warn(str(e))\n"
     ]
    },
    {
     "name": "stdout",
     "output_type": "stream",
     "text": [
      "Lenght of events  106318 length of weights  106318\n",
      "IOV  2017 , era  Run2017C\n"
     ]
    },
    {
     "name": "stderr",
     "output_type": "stream",
     "text": [
      "/opt/conda/lib/python3.8/site-packages/coffea/processor/executor.py:1345: UserWarning: Failed processing file: WorkItem(dataset='/JetHT/Run2017C-UL2017_MiniAODv2_NanoAODv9-v1/NANOAOD', filename='root://cmsxrootd.fnal.gov//store/data/Run2017C/JetHT/NANOAOD/UL2017_MiniAODv2_NanoAODv9-v1/130000/E7FDF0DC-5BC8-FA43-AA00-CB5E36D1C035.root', treename='Events', entrystart=0, entrystop=106318, fileuuid=b'j\\xcd\\xe2\\xb0\\xe0\\xf2\\x11\\xeb\\xb2H\\x0f\\x11\\x10\\xac\\xbe\\xef', usermeta={})\n",
      "  warnings.warn(str(e))\n"
     ]
    },
    {
     "name": "stdout",
     "output_type": "stream",
     "text": [
      "Lenght of events  106318 length of weights  106318\n",
      "IOV  2017 , era  Run2017C\n"
     ]
    },
    {
     "name": "stderr",
     "output_type": "stream",
     "text": [
      "/opt/conda/lib/python3.8/site-packages/coffea/processor/executor.py:1345: UserWarning: Failed processing file: WorkItem(dataset='/JetHT/Run2017C-UL2017_MiniAODv2_NanoAODv9-v1/NANOAOD', filename='root://cmsxrootd.fnal.gov//store/data/Run2017C/JetHT/NANOAOD/UL2017_MiniAODv2_NanoAODv9-v1/130000/E7FDF0DC-5BC8-FA43-AA00-CB5E36D1C035.root', treename='Events', entrystart=106318, entrystop=212636, fileuuid=b'j\\xcd\\xe2\\xb0\\xe0\\xf2\\x11\\xeb\\xb2H\\x0f\\x11\\x10\\xac\\xbe\\xef', usermeta={})\n",
      "  warnings.warn(str(e))\n"
     ]
    },
    {
     "name": "stdout",
     "output_type": "stream",
     "text": [
      "Lenght of events  106317 length of weights  106317\n",
      "IOV  2017 , era  Run2017C\n"
     ]
    },
    {
     "name": "stderr",
     "output_type": "stream",
     "text": [
      "/opt/conda/lib/python3.8/site-packages/coffea/processor/executor.py:1345: UserWarning: Failed processing file: WorkItem(dataset='/JetHT/Run2017C-UL2017_MiniAODv2_NanoAODv9-v1/NANOAOD', filename='root://cmsxrootd.fnal.gov//store/data/Run2017C/JetHT/NANOAOD/UL2017_MiniAODv2_NanoAODv9-v1/130000/E7FDF0DC-5BC8-FA43-AA00-CB5E36D1C035.root', treename='Events', entrystart=212636, entrystop=318953, fileuuid=b'j\\xcd\\xe2\\xb0\\xe0\\xf2\\x11\\xeb\\xb2H\\x0f\\x11\\x10\\xac\\xbe\\xef', usermeta={})\n",
      "  warnings.warn(str(e))\n"
     ]
    },
    {
     "name": "stdout",
     "output_type": "stream",
     "text": [
      "Lenght of events  98284 length of weights  98284\n",
      "IOV  2017 , era  Run2017B\n"
     ]
    },
    {
     "name": "stderr",
     "output_type": "stream",
     "text": [
      "/opt/conda/lib/python3.8/site-packages/coffea/processor/executor.py:1345: UserWarning: Failed processing file: WorkItem(dataset='/JetHT/Run2017B-UL2017_MiniAODv2_NanoAODv9-v1/NANOAOD', filename='root://cmsxrootd.fnal.gov//store/data/Run2017B/JetHT/NANOAOD/UL2017_MiniAODv2_NanoAODv9-v1/120000/0CCA662A-CCB7-B243-823B-8307B07B11A3.root', treename='Events', entrystart=0, entrystop=98284, fileuuid=b'\\t\\xa4\"\\xb0\\xe0\\x89\\x11\\xeb\\xb2\\x10\\xae\\xb4\\\\\\x90\\xbe\\xef', usermeta={})\n",
      "  warnings.warn(str(e))\n"
     ]
    },
    {
     "name": "stdout",
     "output_type": "stream",
     "text": [
      "Lenght of events  98284 length of weights  98284\n",
      "IOV  2017 , era  Run2017B\n"
     ]
    },
    {
     "name": "stderr",
     "output_type": "stream",
     "text": [
      "/opt/conda/lib/python3.8/site-packages/coffea/processor/executor.py:1345: UserWarning: Failed processing file: WorkItem(dataset='/JetHT/Run2017B-UL2017_MiniAODv2_NanoAODv9-v1/NANOAOD', filename='root://cmsxrootd.fnal.gov//store/data/Run2017B/JetHT/NANOAOD/UL2017_MiniAODv2_NanoAODv9-v1/120000/0CCA662A-CCB7-B243-823B-8307B07B11A3.root', treename='Events', entrystart=98284, entrystop=196568, fileuuid=b'\\t\\xa4\"\\xb0\\xe0\\x89\\x11\\xeb\\xb2\\x10\\xae\\xb4\\\\\\x90\\xbe\\xef', usermeta={})\n",
      "  warnings.warn(str(e))\n"
     ]
    },
    {
     "name": "stdout",
     "output_type": "stream",
     "text": [
      "Lenght of events  98284 length of weights  98284\n",
      "IOV  2017 , era  Run2017B\n"
     ]
    },
    {
     "name": "stderr",
     "output_type": "stream",
     "text": [
      "/opt/conda/lib/python3.8/site-packages/coffea/processor/executor.py:1345: UserWarning: Failed processing file: WorkItem(dataset='/JetHT/Run2017B-UL2017_MiniAODv2_NanoAODv9-v1/NANOAOD', filename='root://cmsxrootd.fnal.gov//store/data/Run2017B/JetHT/NANOAOD/UL2017_MiniAODv2_NanoAODv9-v1/120000/0CCA662A-CCB7-B243-823B-8307B07B11A3.root', treename='Events', entrystart=196568, entrystop=294852, fileuuid=b'\\t\\xa4\"\\xb0\\xe0\\x89\\x11\\xeb\\xb2\\x10\\xae\\xb4\\\\\\x90\\xbe\\xef', usermeta={})\n",
      "  warnings.warn(str(e))\n"
     ]
    },
    {
     "name": "stdout",
     "output_type": "stream",
     "text": [
      "Lenght of events  98284 length of weights  98284\n",
      "IOV  2017 , era  Run2017B\n"
     ]
    },
    {
     "name": "stderr",
     "output_type": "stream",
     "text": [
      "/opt/conda/lib/python3.8/site-packages/coffea/processor/executor.py:1345: UserWarning: Failed processing file: WorkItem(dataset='/JetHT/Run2017B-UL2017_MiniAODv2_NanoAODv9-v1/NANOAOD', filename='root://cmsxrootd.fnal.gov//store/data/Run2017B/JetHT/NANOAOD/UL2017_MiniAODv2_NanoAODv9-v1/120000/0CCA662A-CCB7-B243-823B-8307B07B11A3.root', treename='Events', entrystart=294852, entrystop=393136, fileuuid=b'\\t\\xa4\"\\xb0\\xe0\\x89\\x11\\xeb\\xb2\\x10\\xae\\xb4\\\\\\x90\\xbe\\xef', usermeta={})\n",
      "  warnings.warn(str(e))\n"
     ]
    },
    {
     "name": "stdout",
     "output_type": "stream",
     "text": [
      "Lenght of events  98284 length of weights  98284\n",
      "IOV  2017 , era  Run2017B\n"
     ]
    },
    {
     "name": "stderr",
     "output_type": "stream",
     "text": [
      "/opt/conda/lib/python3.8/site-packages/coffea/processor/executor.py:1345: UserWarning: Failed processing file: WorkItem(dataset='/JetHT/Run2017B-UL2017_MiniAODv2_NanoAODv9-v1/NANOAOD', filename='root://cmsxrootd.fnal.gov//store/data/Run2017B/JetHT/NANOAOD/UL2017_MiniAODv2_NanoAODv9-v1/120000/0CCA662A-CCB7-B243-823B-8307B07B11A3.root', treename='Events', entrystart=393136, entrystop=491420, fileuuid=b'\\t\\xa4\"\\xb0\\xe0\\x89\\x11\\xeb\\xb2\\x10\\xae\\xb4\\\\\\x90\\xbe\\xef', usermeta={})\n",
      "  warnings.warn(str(e))\n"
     ]
    },
    {
     "name": "stdout",
     "output_type": "stream",
     "text": [
      "Lenght of events  98284 length of weights  98284\n",
      "IOV  2017 , era  Run2017B\n"
     ]
    },
    {
     "name": "stderr",
     "output_type": "stream",
     "text": [
      "/opt/conda/lib/python3.8/site-packages/coffea/processor/executor.py:1345: UserWarning: Failed processing file: WorkItem(dataset='/JetHT/Run2017B-UL2017_MiniAODv2_NanoAODv9-v1/NANOAOD', filename='root://cmsxrootd.fnal.gov//store/data/Run2017B/JetHT/NANOAOD/UL2017_MiniAODv2_NanoAODv9-v1/120000/0CCA662A-CCB7-B243-823B-8307B07B11A3.root', treename='Events', entrystart=491420, entrystop=589704, fileuuid=b'\\t\\xa4\"\\xb0\\xe0\\x89\\x11\\xeb\\xb2\\x10\\xae\\xb4\\\\\\x90\\xbe\\xef', usermeta={})\n",
      "  warnings.warn(str(e))\n"
     ]
    },
    {
     "name": "stdout",
     "output_type": "stream",
     "text": [
      "Lenght of events  98284 length of weights  98284\n",
      "IOV  2017 , era  Run2017B\n"
     ]
    },
    {
     "name": "stderr",
     "output_type": "stream",
     "text": [
      "/opt/conda/lib/python3.8/site-packages/coffea/processor/executor.py:1345: UserWarning: Failed processing file: WorkItem(dataset='/JetHT/Run2017B-UL2017_MiniAODv2_NanoAODv9-v1/NANOAOD', filename='root://cmsxrootd.fnal.gov//store/data/Run2017B/JetHT/NANOAOD/UL2017_MiniAODv2_NanoAODv9-v1/120000/0CCA662A-CCB7-B243-823B-8307B07B11A3.root', treename='Events', entrystart=589704, entrystop=687988, fileuuid=b'\\t\\xa4\"\\xb0\\xe0\\x89\\x11\\xeb\\xb2\\x10\\xae\\xb4\\\\\\x90\\xbe\\xef', usermeta={})\n",
      "  warnings.warn(str(e))\n"
     ]
    },
    {
     "name": "stdout",
     "output_type": "stream",
     "text": [
      "Lenght of events  98284 length of weights  98284\n",
      "IOV  2017 , era  Run2017B\n"
     ]
    },
    {
     "name": "stderr",
     "output_type": "stream",
     "text": [
      "/opt/conda/lib/python3.8/site-packages/coffea/processor/executor.py:1345: UserWarning: Failed processing file: WorkItem(dataset='/JetHT/Run2017B-UL2017_MiniAODv2_NanoAODv9-v1/NANOAOD', filename='root://cmsxrootd.fnal.gov//store/data/Run2017B/JetHT/NANOAOD/UL2017_MiniAODv2_NanoAODv9-v1/120000/0CCA662A-CCB7-B243-823B-8307B07B11A3.root', treename='Events', entrystart=687988, entrystop=786272, fileuuid=b'\\t\\xa4\"\\xb0\\xe0\\x89\\x11\\xeb\\xb2\\x10\\xae\\xb4\\\\\\x90\\xbe\\xef', usermeta={})\n",
      "  warnings.warn(str(e))\n"
     ]
    },
    {
     "name": "stdout",
     "output_type": "stream",
     "text": [
      "Lenght of events  98284 length of weights  98284\n",
      "IOV  2017 , era  Run2017B\n"
     ]
    },
    {
     "name": "stderr",
     "output_type": "stream",
     "text": [
      "/opt/conda/lib/python3.8/site-packages/coffea/processor/executor.py:1345: UserWarning: Failed processing file: WorkItem(dataset='/JetHT/Run2017B-UL2017_MiniAODv2_NanoAODv9-v1/NANOAOD', filename='root://cmsxrootd.fnal.gov//store/data/Run2017B/JetHT/NANOAOD/UL2017_MiniAODv2_NanoAODv9-v1/120000/0CCA662A-CCB7-B243-823B-8307B07B11A3.root', treename='Events', entrystart=786272, entrystop=884556, fileuuid=b'\\t\\xa4\"\\xb0\\xe0\\x89\\x11\\xeb\\xb2\\x10\\xae\\xb4\\\\\\x90\\xbe\\xef', usermeta={})\n",
      "  warnings.warn(str(e))\n"
     ]
    },
    {
     "name": "stdout",
     "output_type": "stream",
     "text": [
      "Lenght of events  98284 length of weights  98284\n",
      "IOV  2017 , era  Run2017B\n"
     ]
    },
    {
     "name": "stderr",
     "output_type": "stream",
     "text": [
      "/opt/conda/lib/python3.8/site-packages/coffea/processor/executor.py:1345: UserWarning: Failed processing file: WorkItem(dataset='/JetHT/Run2017B-UL2017_MiniAODv2_NanoAODv9-v1/NANOAOD', filename='root://cmsxrootd.fnal.gov//store/data/Run2017B/JetHT/NANOAOD/UL2017_MiniAODv2_NanoAODv9-v1/120000/0CCA662A-CCB7-B243-823B-8307B07B11A3.root', treename='Events', entrystart=884556, entrystop=982840, fileuuid=b'\\t\\xa4\"\\xb0\\xe0\\x89\\x11\\xeb\\xb2\\x10\\xae\\xb4\\\\\\x90\\xbe\\xef', usermeta={})\n",
      "  warnings.warn(str(e))\n"
     ]
    },
    {
     "name": "stdout",
     "output_type": "stream",
     "text": [
      "Lenght of events  98284 length of weights  98284\n",
      "IOV  2017 , era  Run2017B\n"
     ]
    },
    {
     "name": "stderr",
     "output_type": "stream",
     "text": [
      "/opt/conda/lib/python3.8/site-packages/coffea/processor/executor.py:1345: UserWarning: Failed processing file: WorkItem(dataset='/JetHT/Run2017B-UL2017_MiniAODv2_NanoAODv9-v1/NANOAOD', filename='root://cmsxrootd.fnal.gov//store/data/Run2017B/JetHT/NANOAOD/UL2017_MiniAODv2_NanoAODv9-v1/120000/0CCA662A-CCB7-B243-823B-8307B07B11A3.root', treename='Events', entrystart=982840, entrystop=1081124, fileuuid=b'\\t\\xa4\"\\xb0\\xe0\\x89\\x11\\xeb\\xb2\\x10\\xae\\xb4\\\\\\x90\\xbe\\xef', usermeta={})\n",
      "  warnings.warn(str(e))\n"
     ]
    },
    {
     "name": "stdout",
     "output_type": "stream",
     "text": [
      "Lenght of events  98284 length of weights  98284\n",
      "IOV  2017 , era  Run2017B\n"
     ]
    },
    {
     "name": "stderr",
     "output_type": "stream",
     "text": [
      "/opt/conda/lib/python3.8/site-packages/coffea/processor/executor.py:1345: UserWarning: Failed processing file: WorkItem(dataset='/JetHT/Run2017B-UL2017_MiniAODv2_NanoAODv9-v1/NANOAOD', filename='root://cmsxrootd.fnal.gov//store/data/Run2017B/JetHT/NANOAOD/UL2017_MiniAODv2_NanoAODv9-v1/120000/0CCA662A-CCB7-B243-823B-8307B07B11A3.root', treename='Events', entrystart=1081124, entrystop=1179408, fileuuid=b'\\t\\xa4\"\\xb0\\xe0\\x89\\x11\\xeb\\xb2\\x10\\xae\\xb4\\\\\\x90\\xbe\\xef', usermeta={})\n",
      "  warnings.warn(str(e))\n"
     ]
    },
    {
     "name": "stdout",
     "output_type": "stream",
     "text": [
      "Lenght of events  98284 length of weights  98284\n",
      "IOV  2017 , era  Run2017B\n"
     ]
    },
    {
     "name": "stderr",
     "output_type": "stream",
     "text": [
      "/opt/conda/lib/python3.8/site-packages/coffea/processor/executor.py:1345: UserWarning: Failed processing file: WorkItem(dataset='/JetHT/Run2017B-UL2017_MiniAODv2_NanoAODv9-v1/NANOAOD', filename='root://cmsxrootd.fnal.gov//store/data/Run2017B/JetHT/NANOAOD/UL2017_MiniAODv2_NanoAODv9-v1/120000/0CCA662A-CCB7-B243-823B-8307B07B11A3.root', treename='Events', entrystart=1179408, entrystop=1277692, fileuuid=b'\\t\\xa4\"\\xb0\\xe0\\x89\\x11\\xeb\\xb2\\x10\\xae\\xb4\\\\\\x90\\xbe\\xef', usermeta={})\n",
      "  warnings.warn(str(e))\n"
     ]
    },
    {
     "name": "stdout",
     "output_type": "stream",
     "text": [
      "Lenght of events  98284 length of weights  98284\n",
      "IOV  2017 , era  Run2017B\n"
     ]
    },
    {
     "name": "stderr",
     "output_type": "stream",
     "text": [
      "/opt/conda/lib/python3.8/site-packages/coffea/processor/executor.py:1345: UserWarning: Failed processing file: WorkItem(dataset='/JetHT/Run2017B-UL2017_MiniAODv2_NanoAODv9-v1/NANOAOD', filename='root://cmsxrootd.fnal.gov//store/data/Run2017B/JetHT/NANOAOD/UL2017_MiniAODv2_NanoAODv9-v1/120000/0CCA662A-CCB7-B243-823B-8307B07B11A3.root', treename='Events', entrystart=1277692, entrystop=1375976, fileuuid=b'\\t\\xa4\"\\xb0\\xe0\\x89\\x11\\xeb\\xb2\\x10\\xae\\xb4\\\\\\x90\\xbe\\xef', usermeta={})\n",
      "  warnings.warn(str(e))\n"
     ]
    },
    {
     "name": "stdout",
     "output_type": "stream",
     "text": [
      "Lenght of events  98284 length of weights  98284\n",
      "IOV  2017 , era  Run2017B\n"
     ]
    },
    {
     "name": "stderr",
     "output_type": "stream",
     "text": [
      "/opt/conda/lib/python3.8/site-packages/coffea/processor/executor.py:1345: UserWarning: Failed processing file: WorkItem(dataset='/JetHT/Run2017B-UL2017_MiniAODv2_NanoAODv9-v1/NANOAOD', filename='root://cmsxrootd.fnal.gov//store/data/Run2017B/JetHT/NANOAOD/UL2017_MiniAODv2_NanoAODv9-v1/120000/0CCA662A-CCB7-B243-823B-8307B07B11A3.root', treename='Events', entrystart=1375976, entrystop=1474260, fileuuid=b'\\t\\xa4\"\\xb0\\xe0\\x89\\x11\\xeb\\xb2\\x10\\xae\\xb4\\\\\\x90\\xbe\\xef', usermeta={})\n",
      "  warnings.warn(str(e))\n"
     ]
    },
    {
     "name": "stdout",
     "output_type": "stream",
     "text": [
      "Lenght of events  98284 length of weights  98284\n",
      "IOV  2017 , era  Run2017B\n"
     ]
    },
    {
     "name": "stderr",
     "output_type": "stream",
     "text": [
      "/opt/conda/lib/python3.8/site-packages/coffea/processor/executor.py:1345: UserWarning: Failed processing file: WorkItem(dataset='/JetHT/Run2017B-UL2017_MiniAODv2_NanoAODv9-v1/NANOAOD', filename='root://cmsxrootd.fnal.gov//store/data/Run2017B/JetHT/NANOAOD/UL2017_MiniAODv2_NanoAODv9-v1/120000/0CCA662A-CCB7-B243-823B-8307B07B11A3.root', treename='Events', entrystart=1474260, entrystop=1572544, fileuuid=b'\\t\\xa4\"\\xb0\\xe0\\x89\\x11\\xeb\\xb2\\x10\\xae\\xb4\\\\\\x90\\xbe\\xef', usermeta={})\n",
      "  warnings.warn(str(e))\n"
     ]
    },
    {
     "name": "stdout",
     "output_type": "stream",
     "text": [
      "Lenght of events  98284 length of weights  98284\n",
      "IOV  2017 , era  Run2017B\n"
     ]
    },
    {
     "name": "stderr",
     "output_type": "stream",
     "text": [
      "/opt/conda/lib/python3.8/site-packages/coffea/processor/executor.py:1345: UserWarning: Failed processing file: WorkItem(dataset='/JetHT/Run2017B-UL2017_MiniAODv2_NanoAODv9-v1/NANOAOD', filename='root://cmsxrootd.fnal.gov//store/data/Run2017B/JetHT/NANOAOD/UL2017_MiniAODv2_NanoAODv9-v1/120000/0CCA662A-CCB7-B243-823B-8307B07B11A3.root', treename='Events', entrystart=1572544, entrystop=1670828, fileuuid=b'\\t\\xa4\"\\xb0\\xe0\\x89\\x11\\xeb\\xb2\\x10\\xae\\xb4\\\\\\x90\\xbe\\xef', usermeta={})\n",
      "  warnings.warn(str(e))\n"
     ]
    },
    {
     "name": "stdout",
     "output_type": "stream",
     "text": [
      "Lenght of events  98284 length of weights  98284\n",
      "IOV  2017 , era  Run2017B\n"
     ]
    },
    {
     "name": "stderr",
     "output_type": "stream",
     "text": [
      "/opt/conda/lib/python3.8/site-packages/coffea/processor/executor.py:1345: UserWarning: Failed processing file: WorkItem(dataset='/JetHT/Run2017B-UL2017_MiniAODv2_NanoAODv9-v1/NANOAOD', filename='root://cmsxrootd.fnal.gov//store/data/Run2017B/JetHT/NANOAOD/UL2017_MiniAODv2_NanoAODv9-v1/120000/0CCA662A-CCB7-B243-823B-8307B07B11A3.root', treename='Events', entrystart=1670828, entrystop=1769112, fileuuid=b'\\t\\xa4\"\\xb0\\xe0\\x89\\x11\\xeb\\xb2\\x10\\xae\\xb4\\\\\\x90\\xbe\\xef', usermeta={})\n",
      "  warnings.warn(str(e))\n"
     ]
    },
    {
     "name": "stdout",
     "output_type": "stream",
     "text": [
      "Lenght of events  98284 length of weights  98284\n",
      "IOV  2017 , era  Run2017B\n"
     ]
    },
    {
     "name": "stderr",
     "output_type": "stream",
     "text": [
      "/opt/conda/lib/python3.8/site-packages/coffea/processor/executor.py:1345: UserWarning: Failed processing file: WorkItem(dataset='/JetHT/Run2017B-UL2017_MiniAODv2_NanoAODv9-v1/NANOAOD', filename='root://cmsxrootd.fnal.gov//store/data/Run2017B/JetHT/NANOAOD/UL2017_MiniAODv2_NanoAODv9-v1/120000/0CCA662A-CCB7-B243-823B-8307B07B11A3.root', treename='Events', entrystart=1769112, entrystop=1867396, fileuuid=b'\\t\\xa4\"\\xb0\\xe0\\x89\\x11\\xeb\\xb2\\x10\\xae\\xb4\\\\\\x90\\xbe\\xef', usermeta={})\n",
      "  warnings.warn(str(e))\n"
     ]
    },
    {
     "name": "stdout",
     "output_type": "stream",
     "text": [
      "Lenght of events  98284 length of weights  98284\n",
      "IOV  2017 , era  Run2017B\n"
     ]
    },
    {
     "name": "stderr",
     "output_type": "stream",
     "text": [
      "/opt/conda/lib/python3.8/site-packages/coffea/processor/executor.py:1345: UserWarning: Failed processing file: WorkItem(dataset='/JetHT/Run2017B-UL2017_MiniAODv2_NanoAODv9-v1/NANOAOD', filename='root://cmsxrootd.fnal.gov//store/data/Run2017B/JetHT/NANOAOD/UL2017_MiniAODv2_NanoAODv9-v1/120000/0CCA662A-CCB7-B243-823B-8307B07B11A3.root', treename='Events', entrystart=1867396, entrystop=1965680, fileuuid=b'\\t\\xa4\"\\xb0\\xe0\\x89\\x11\\xeb\\xb2\\x10\\xae\\xb4\\\\\\x90\\xbe\\xef', usermeta={})\n",
      "  warnings.warn(str(e))\n"
     ]
    },
    {
     "name": "stdout",
     "output_type": "stream",
     "text": [
      "Lenght of events  98284 length of weights  98284\n",
      "IOV  2017 , era  Run2017B\n"
     ]
    },
    {
     "name": "stderr",
     "output_type": "stream",
     "text": [
      "/opt/conda/lib/python3.8/site-packages/coffea/processor/executor.py:1345: UserWarning: Failed processing file: WorkItem(dataset='/JetHT/Run2017B-UL2017_MiniAODv2_NanoAODv9-v1/NANOAOD', filename='root://cmsxrootd.fnal.gov//store/data/Run2017B/JetHT/NANOAOD/UL2017_MiniAODv2_NanoAODv9-v1/120000/0CCA662A-CCB7-B243-823B-8307B07B11A3.root', treename='Events', entrystart=1965680, entrystop=2063964, fileuuid=b'\\t\\xa4\"\\xb0\\xe0\\x89\\x11\\xeb\\xb2\\x10\\xae\\xb4\\\\\\x90\\xbe\\xef', usermeta={})\n",
      "  warnings.warn(str(e))\n"
     ]
    },
    {
     "name": "stdout",
     "output_type": "stream",
     "text": [
      "Lenght of events  98284 length of weights  98284\n",
      "IOV  2017 , era  Run2017B\n"
     ]
    },
    {
     "name": "stderr",
     "output_type": "stream",
     "text": [
      "/opt/conda/lib/python3.8/site-packages/coffea/processor/executor.py:1345: UserWarning: Failed processing file: WorkItem(dataset='/JetHT/Run2017B-UL2017_MiniAODv2_NanoAODv9-v1/NANOAOD', filename='root://cmsxrootd.fnal.gov//store/data/Run2017B/JetHT/NANOAOD/UL2017_MiniAODv2_NanoAODv9-v1/120000/0CCA662A-CCB7-B243-823B-8307B07B11A3.root', treename='Events', entrystart=2063964, entrystop=2162248, fileuuid=b'\\t\\xa4\"\\xb0\\xe0\\x89\\x11\\xeb\\xb2\\x10\\xae\\xb4\\\\\\x90\\xbe\\xef', usermeta={})\n",
      "  warnings.warn(str(e))\n"
     ]
    },
    {
     "name": "stdout",
     "output_type": "stream",
     "text": [
      "Lenght of events  98284 length of weights  98284\n",
      "IOV  2017 , era  Run2017B\n"
     ]
    },
    {
     "name": "stderr",
     "output_type": "stream",
     "text": [
      "/opt/conda/lib/python3.8/site-packages/coffea/processor/executor.py:1345: UserWarning: Failed processing file: WorkItem(dataset='/JetHT/Run2017B-UL2017_MiniAODv2_NanoAODv9-v1/NANOAOD', filename='root://cmsxrootd.fnal.gov//store/data/Run2017B/JetHT/NANOAOD/UL2017_MiniAODv2_NanoAODv9-v1/120000/0CCA662A-CCB7-B243-823B-8307B07B11A3.root', treename='Events', entrystart=2162248, entrystop=2260532, fileuuid=b'\\t\\xa4\"\\xb0\\xe0\\x89\\x11\\xeb\\xb2\\x10\\xae\\xb4\\\\\\x90\\xbe\\xef', usermeta={})\n",
      "  warnings.warn(str(e))\n"
     ]
    },
    {
     "name": "stdout",
     "output_type": "stream",
     "text": [
      "Lenght of events  98284 length of weights  98284\n",
      "IOV  2017 , era  Run2017B\n"
     ]
    },
    {
     "name": "stderr",
     "output_type": "stream",
     "text": [
      "/opt/conda/lib/python3.8/site-packages/coffea/processor/executor.py:1345: UserWarning: Failed processing file: WorkItem(dataset='/JetHT/Run2017B-UL2017_MiniAODv2_NanoAODv9-v1/NANOAOD', filename='root://cmsxrootd.fnal.gov//store/data/Run2017B/JetHT/NANOAOD/UL2017_MiniAODv2_NanoAODv9-v1/120000/0CCA662A-CCB7-B243-823B-8307B07B11A3.root', treename='Events', entrystart=2260532, entrystop=2358816, fileuuid=b'\\t\\xa4\"\\xb0\\xe0\\x89\\x11\\xeb\\xb2\\x10\\xae\\xb4\\\\\\x90\\xbe\\xef', usermeta={})\n",
      "  warnings.warn(str(e))\n"
     ]
    },
    {
     "name": "stdout",
     "output_type": "stream",
     "text": [
      "Lenght of events  98284 length of weights  98284\n",
      "IOV  2017 , era  Run2017B\n"
     ]
    },
    {
     "name": "stderr",
     "output_type": "stream",
     "text": [
      "/opt/conda/lib/python3.8/site-packages/coffea/processor/executor.py:1345: UserWarning: Failed processing file: WorkItem(dataset='/JetHT/Run2017B-UL2017_MiniAODv2_NanoAODv9-v1/NANOAOD', filename='root://cmsxrootd.fnal.gov//store/data/Run2017B/JetHT/NANOAOD/UL2017_MiniAODv2_NanoAODv9-v1/120000/0CCA662A-CCB7-B243-823B-8307B07B11A3.root', treename='Events', entrystart=2358816, entrystop=2457100, fileuuid=b'\\t\\xa4\"\\xb0\\xe0\\x89\\x11\\xeb\\xb2\\x10\\xae\\xb4\\\\\\x90\\xbe\\xef', usermeta={})\n",
      "  warnings.warn(str(e))\n"
     ]
    },
    {
     "name": "stdout",
     "output_type": "stream",
     "text": [
      "Lenght of events  98284 length of weights  98284\n",
      "IOV  2017 , era  Run2017B\n"
     ]
    },
    {
     "name": "stderr",
     "output_type": "stream",
     "text": [
      "/opt/conda/lib/python3.8/site-packages/coffea/processor/executor.py:1345: UserWarning: Failed processing file: WorkItem(dataset='/JetHT/Run2017B-UL2017_MiniAODv2_NanoAODv9-v1/NANOAOD', filename='root://cmsxrootd.fnal.gov//store/data/Run2017B/JetHT/NANOAOD/UL2017_MiniAODv2_NanoAODv9-v1/120000/0CCA662A-CCB7-B243-823B-8307B07B11A3.root', treename='Events', entrystart=2457100, entrystop=2555384, fileuuid=b'\\t\\xa4\"\\xb0\\xe0\\x89\\x11\\xeb\\xb2\\x10\\xae\\xb4\\\\\\x90\\xbe\\xef', usermeta={})\n",
      "  warnings.warn(str(e))\n"
     ]
    },
    {
     "name": "stdout",
     "output_type": "stream",
     "text": [
      "Lenght of events  98284 length of weights  98284\n",
      "IOV  2017 , era  Run2017B\n"
     ]
    },
    {
     "name": "stderr",
     "output_type": "stream",
     "text": [
      "/opt/conda/lib/python3.8/site-packages/coffea/processor/executor.py:1345: UserWarning: Failed processing file: WorkItem(dataset='/JetHT/Run2017B-UL2017_MiniAODv2_NanoAODv9-v1/NANOAOD', filename='root://cmsxrootd.fnal.gov//store/data/Run2017B/JetHT/NANOAOD/UL2017_MiniAODv2_NanoAODv9-v1/120000/0CCA662A-CCB7-B243-823B-8307B07B11A3.root', treename='Events', entrystart=2555384, entrystop=2653668, fileuuid=b'\\t\\xa4\"\\xb0\\xe0\\x89\\x11\\xeb\\xb2\\x10\\xae\\xb4\\\\\\x90\\xbe\\xef', usermeta={})\n",
      "  warnings.warn(str(e))\n"
     ]
    },
    {
     "name": "stdout",
     "output_type": "stream",
     "text": [
      "Lenght of events  98284 length of weights  98284\n",
      "IOV  2017 , era  Run2017B\n"
     ]
    },
    {
     "name": "stderr",
     "output_type": "stream",
     "text": [
      "/opt/conda/lib/python3.8/site-packages/coffea/processor/executor.py:1345: UserWarning: Failed processing file: WorkItem(dataset='/JetHT/Run2017B-UL2017_MiniAODv2_NanoAODv9-v1/NANOAOD', filename='root://cmsxrootd.fnal.gov//store/data/Run2017B/JetHT/NANOAOD/UL2017_MiniAODv2_NanoAODv9-v1/120000/0CCA662A-CCB7-B243-823B-8307B07B11A3.root', treename='Events', entrystart=2653668, entrystop=2751952, fileuuid=b'\\t\\xa4\"\\xb0\\xe0\\x89\\x11\\xeb\\xb2\\x10\\xae\\xb4\\\\\\x90\\xbe\\xef', usermeta={})\n",
      "  warnings.warn(str(e))\n"
     ]
    },
    {
     "name": "stdout",
     "output_type": "stream",
     "text": [
      "Lenght of events  98271 length of weights  98271\n",
      "IOV  2017 , era  Run2017B\n"
     ]
    },
    {
     "name": "stderr",
     "output_type": "stream",
     "text": [
      "/opt/conda/lib/python3.8/site-packages/coffea/processor/executor.py:1345: UserWarning: Failed processing file: WorkItem(dataset='/JetHT/Run2017B-UL2017_MiniAODv2_NanoAODv9-v1/NANOAOD', filename='root://cmsxrootd.fnal.gov//store/data/Run2017B/JetHT/NANOAOD/UL2017_MiniAODv2_NanoAODv9-v1/120000/0CCA662A-CCB7-B243-823B-8307B07B11A3.root', treename='Events', entrystart=2751952, entrystop=2850223, fileuuid=b'\\t\\xa4\"\\xb0\\xe0\\x89\\x11\\xeb\\xb2\\x10\\xae\\xb4\\\\\\x90\\xbe\\xef', usermeta={})\n",
      "  warnings.warn(str(e))\n"
     ]
    },
    {
     "name": "stdout",
     "output_type": "stream",
     "text": [
      "Lenght of events  97985 length of weights  97985\n",
      "IOV  2016 , era  Run2016H\n"
     ]
    },
    {
     "name": "stderr",
     "output_type": "stream",
     "text": [
      "/opt/conda/lib/python3.8/site-packages/coffea/processor/executor.py:1345: UserWarning: Failed processing file: WorkItem(dataset='/JetHT/Run2016H-UL2016_MiniAODv2_NanoAODv9-v1/NANOAOD', filename='root://cmsxrootd.fnal.gov//store/data/Run2016H/JetHT/NANOAOD/UL2016_MiniAODv2_NanoAODv9-v1/130000/0290F73B-A51C-A441-AEC1-8429F9CC8AA8.root', treename='Events', entrystart=0, entrystop=97985, fileuuid=b'\\xbf\\xc3\\xe8\\xa4\\xf0\\x11\\x11\\xeb\\x93vA\\xce\\xe1\\x83\\xbe\\xef', usermeta={})\n",
      "  warnings.warn(str(e))\n"
     ]
    },
    {
     "name": "stdout",
     "output_type": "stream",
     "text": [
      "Lenght of events  97985 length of weights  97985\n",
      "IOV  2016 , era  Run2016H\n"
     ]
    },
    {
     "name": "stderr",
     "output_type": "stream",
     "text": [
      "/opt/conda/lib/python3.8/site-packages/coffea/processor/executor.py:1345: UserWarning: Failed processing file: WorkItem(dataset='/JetHT/Run2016H-UL2016_MiniAODv2_NanoAODv9-v1/NANOAOD', filename='root://cmsxrootd.fnal.gov//store/data/Run2016H/JetHT/NANOAOD/UL2016_MiniAODv2_NanoAODv9-v1/130000/0290F73B-A51C-A441-AEC1-8429F9CC8AA8.root', treename='Events', entrystart=97985, entrystop=195970, fileuuid=b'\\xbf\\xc3\\xe8\\xa4\\xf0\\x11\\x11\\xeb\\x93vA\\xce\\xe1\\x83\\xbe\\xef', usermeta={})\n",
      "  warnings.warn(str(e))\n"
     ]
    },
    {
     "name": "stdout",
     "output_type": "stream",
     "text": [
      "Lenght of events  97985 length of weights  97985\n",
      "IOV  2016 , era  Run2016H\n"
     ]
    },
    {
     "name": "stderr",
     "output_type": "stream",
     "text": [
      "/opt/conda/lib/python3.8/site-packages/coffea/processor/executor.py:1345: UserWarning: Failed processing file: WorkItem(dataset='/JetHT/Run2016H-UL2016_MiniAODv2_NanoAODv9-v1/NANOAOD', filename='root://cmsxrootd.fnal.gov//store/data/Run2016H/JetHT/NANOAOD/UL2016_MiniAODv2_NanoAODv9-v1/130000/0290F73B-A51C-A441-AEC1-8429F9CC8AA8.root', treename='Events', entrystart=195970, entrystop=293955, fileuuid=b'\\xbf\\xc3\\xe8\\xa4\\xf0\\x11\\x11\\xeb\\x93vA\\xce\\xe1\\x83\\xbe\\xef', usermeta={})\n",
      "  warnings.warn(str(e))\n"
     ]
    },
    {
     "name": "stdout",
     "output_type": "stream",
     "text": [
      "Lenght of events  97985 length of weights  97985\n",
      "IOV  2016 , era  Run2016H\n"
     ]
    },
    {
     "name": "stderr",
     "output_type": "stream",
     "text": [
      "/opt/conda/lib/python3.8/site-packages/coffea/processor/executor.py:1345: UserWarning: Failed processing file: WorkItem(dataset='/JetHT/Run2016H-UL2016_MiniAODv2_NanoAODv9-v1/NANOAOD', filename='root://cmsxrootd.fnal.gov//store/data/Run2016H/JetHT/NANOAOD/UL2016_MiniAODv2_NanoAODv9-v1/130000/0290F73B-A51C-A441-AEC1-8429F9CC8AA8.root', treename='Events', entrystart=293955, entrystop=391940, fileuuid=b'\\xbf\\xc3\\xe8\\xa4\\xf0\\x11\\x11\\xeb\\x93vA\\xce\\xe1\\x83\\xbe\\xef', usermeta={})\n",
      "  warnings.warn(str(e))\n"
     ]
    },
    {
     "name": "stdout",
     "output_type": "stream",
     "text": [
      "Lenght of events  97985 length of weights  97985\n",
      "IOV  2016 , era  Run2016H\n"
     ]
    },
    {
     "name": "stderr",
     "output_type": "stream",
     "text": [
      "/opt/conda/lib/python3.8/site-packages/coffea/processor/executor.py:1345: UserWarning: Failed processing file: WorkItem(dataset='/JetHT/Run2016H-UL2016_MiniAODv2_NanoAODv9-v1/NANOAOD', filename='root://cmsxrootd.fnal.gov//store/data/Run2016H/JetHT/NANOAOD/UL2016_MiniAODv2_NanoAODv9-v1/130000/0290F73B-A51C-A441-AEC1-8429F9CC8AA8.root', treename='Events', entrystart=391940, entrystop=489925, fileuuid=b'\\xbf\\xc3\\xe8\\xa4\\xf0\\x11\\x11\\xeb\\x93vA\\xce\\xe1\\x83\\xbe\\xef', usermeta={})\n",
      "  warnings.warn(str(e))\n"
     ]
    },
    {
     "name": "stdout",
     "output_type": "stream",
     "text": [
      "Lenght of events  97985 length of weights  97985\n",
      "IOV  2016 , era  Run2016H\n"
     ]
    },
    {
     "name": "stderr",
     "output_type": "stream",
     "text": [
      "/opt/conda/lib/python3.8/site-packages/coffea/processor/executor.py:1345: UserWarning: Failed processing file: WorkItem(dataset='/JetHT/Run2016H-UL2016_MiniAODv2_NanoAODv9-v1/NANOAOD', filename='root://cmsxrootd.fnal.gov//store/data/Run2016H/JetHT/NANOAOD/UL2016_MiniAODv2_NanoAODv9-v1/130000/0290F73B-A51C-A441-AEC1-8429F9CC8AA8.root', treename='Events', entrystart=489925, entrystop=587910, fileuuid=b'\\xbf\\xc3\\xe8\\xa4\\xf0\\x11\\x11\\xeb\\x93vA\\xce\\xe1\\x83\\xbe\\xef', usermeta={})\n",
      "  warnings.warn(str(e))\n"
     ]
    },
    {
     "name": "stdout",
     "output_type": "stream",
     "text": [
      "Lenght of events  97985 length of weights  97985\n",
      "IOV  2016 , era  Run2016H\n"
     ]
    },
    {
     "name": "stderr",
     "output_type": "stream",
     "text": [
      "/opt/conda/lib/python3.8/site-packages/coffea/processor/executor.py:1345: UserWarning: Failed processing file: WorkItem(dataset='/JetHT/Run2016H-UL2016_MiniAODv2_NanoAODv9-v1/NANOAOD', filename='root://cmsxrootd.fnal.gov//store/data/Run2016H/JetHT/NANOAOD/UL2016_MiniAODv2_NanoAODv9-v1/130000/0290F73B-A51C-A441-AEC1-8429F9CC8AA8.root', treename='Events', entrystart=587910, entrystop=685895, fileuuid=b'\\xbf\\xc3\\xe8\\xa4\\xf0\\x11\\x11\\xeb\\x93vA\\xce\\xe1\\x83\\xbe\\xef', usermeta={})\n",
      "  warnings.warn(str(e))\n"
     ]
    },
    {
     "name": "stdout",
     "output_type": "stream",
     "text": [
      "Lenght of events  97985 length of weights  97985\n",
      "IOV  2016 , era  Run2016H\n"
     ]
    },
    {
     "name": "stderr",
     "output_type": "stream",
     "text": [
      "/opt/conda/lib/python3.8/site-packages/coffea/processor/executor.py:1345: UserWarning: Failed processing file: WorkItem(dataset='/JetHT/Run2016H-UL2016_MiniAODv2_NanoAODv9-v1/NANOAOD', filename='root://cmsxrootd.fnal.gov//store/data/Run2016H/JetHT/NANOAOD/UL2016_MiniAODv2_NanoAODv9-v1/130000/0290F73B-A51C-A441-AEC1-8429F9CC8AA8.root', treename='Events', entrystart=685895, entrystop=783880, fileuuid=b'\\xbf\\xc3\\xe8\\xa4\\xf0\\x11\\x11\\xeb\\x93vA\\xce\\xe1\\x83\\xbe\\xef', usermeta={})\n",
      "  warnings.warn(str(e))\n"
     ]
    },
    {
     "name": "stdout",
     "output_type": "stream",
     "text": [
      "Lenght of events  97985 length of weights  97985\n",
      "IOV  2016 , era  Run2016H\n"
     ]
    },
    {
     "name": "stderr",
     "output_type": "stream",
     "text": [
      "/opt/conda/lib/python3.8/site-packages/coffea/processor/executor.py:1345: UserWarning: Failed processing file: WorkItem(dataset='/JetHT/Run2016H-UL2016_MiniAODv2_NanoAODv9-v1/NANOAOD', filename='root://cmsxrootd.fnal.gov//store/data/Run2016H/JetHT/NANOAOD/UL2016_MiniAODv2_NanoAODv9-v1/130000/0290F73B-A51C-A441-AEC1-8429F9CC8AA8.root', treename='Events', entrystart=783880, entrystop=881865, fileuuid=b'\\xbf\\xc3\\xe8\\xa4\\xf0\\x11\\x11\\xeb\\x93vA\\xce\\xe1\\x83\\xbe\\xef', usermeta={})\n",
      "  warnings.warn(str(e))\n"
     ]
    },
    {
     "name": "stdout",
     "output_type": "stream",
     "text": [
      "Lenght of events  97985 length of weights  97985\n",
      "IOV  2016 , era  Run2016H\n"
     ]
    },
    {
     "name": "stderr",
     "output_type": "stream",
     "text": [
      "/opt/conda/lib/python3.8/site-packages/coffea/processor/executor.py:1345: UserWarning: Failed processing file: WorkItem(dataset='/JetHT/Run2016H-UL2016_MiniAODv2_NanoAODv9-v1/NANOAOD', filename='root://cmsxrootd.fnal.gov//store/data/Run2016H/JetHT/NANOAOD/UL2016_MiniAODv2_NanoAODv9-v1/130000/0290F73B-A51C-A441-AEC1-8429F9CC8AA8.root', treename='Events', entrystart=881865, entrystop=979850, fileuuid=b'\\xbf\\xc3\\xe8\\xa4\\xf0\\x11\\x11\\xeb\\x93vA\\xce\\xe1\\x83\\xbe\\xef', usermeta={})\n",
      "  warnings.warn(str(e))\n"
     ]
    },
    {
     "name": "stdout",
     "output_type": "stream",
     "text": [
      "Lenght of events  97985 length of weights  97985\n",
      "IOV  2016 , era  Run2016H\n"
     ]
    },
    {
     "name": "stderr",
     "output_type": "stream",
     "text": [
      "/opt/conda/lib/python3.8/site-packages/coffea/processor/executor.py:1345: UserWarning: Failed processing file: WorkItem(dataset='/JetHT/Run2016H-UL2016_MiniAODv2_NanoAODv9-v1/NANOAOD', filename='root://cmsxrootd.fnal.gov//store/data/Run2016H/JetHT/NANOAOD/UL2016_MiniAODv2_NanoAODv9-v1/130000/0290F73B-A51C-A441-AEC1-8429F9CC8AA8.root', treename='Events', entrystart=979850, entrystop=1077835, fileuuid=b'\\xbf\\xc3\\xe8\\xa4\\xf0\\x11\\x11\\xeb\\x93vA\\xce\\xe1\\x83\\xbe\\xef', usermeta={})\n",
      "  warnings.warn(str(e))\n"
     ]
    },
    {
     "name": "stdout",
     "output_type": "stream",
     "text": [
      "Lenght of events  97985 length of weights  97985\n",
      "IOV  2016 , era  Run2016H\n"
     ]
    },
    {
     "name": "stderr",
     "output_type": "stream",
     "text": [
      "/opt/conda/lib/python3.8/site-packages/coffea/processor/executor.py:1345: UserWarning: Failed processing file: WorkItem(dataset='/JetHT/Run2016H-UL2016_MiniAODv2_NanoAODv9-v1/NANOAOD', filename='root://cmsxrootd.fnal.gov//store/data/Run2016H/JetHT/NANOAOD/UL2016_MiniAODv2_NanoAODv9-v1/130000/0290F73B-A51C-A441-AEC1-8429F9CC8AA8.root', treename='Events', entrystart=1077835, entrystop=1175820, fileuuid=b'\\xbf\\xc3\\xe8\\xa4\\xf0\\x11\\x11\\xeb\\x93vA\\xce\\xe1\\x83\\xbe\\xef', usermeta={})\n",
      "  warnings.warn(str(e))\n"
     ]
    },
    {
     "name": "stdout",
     "output_type": "stream",
     "text": [
      "Lenght of events  97985 length of weights  97985\n",
      "IOV  2016 , era  Run2016H\n"
     ]
    },
    {
     "name": "stderr",
     "output_type": "stream",
     "text": [
      "/opt/conda/lib/python3.8/site-packages/coffea/processor/executor.py:1345: UserWarning: Failed processing file: WorkItem(dataset='/JetHT/Run2016H-UL2016_MiniAODv2_NanoAODv9-v1/NANOAOD', filename='root://cmsxrootd.fnal.gov//store/data/Run2016H/JetHT/NANOAOD/UL2016_MiniAODv2_NanoAODv9-v1/130000/0290F73B-A51C-A441-AEC1-8429F9CC8AA8.root', treename='Events', entrystart=1175820, entrystop=1273805, fileuuid=b'\\xbf\\xc3\\xe8\\xa4\\xf0\\x11\\x11\\xeb\\x93vA\\xce\\xe1\\x83\\xbe\\xef', usermeta={})\n",
      "  warnings.warn(str(e))\n"
     ]
    },
    {
     "name": "stdout",
     "output_type": "stream",
     "text": [
      "Lenght of events  97985 length of weights  97985\n",
      "IOV  2016 , era  Run2016H\n"
     ]
    },
    {
     "name": "stderr",
     "output_type": "stream",
     "text": [
      "/opt/conda/lib/python3.8/site-packages/coffea/processor/executor.py:1345: UserWarning: Failed processing file: WorkItem(dataset='/JetHT/Run2016H-UL2016_MiniAODv2_NanoAODv9-v1/NANOAOD', filename='root://cmsxrootd.fnal.gov//store/data/Run2016H/JetHT/NANOAOD/UL2016_MiniAODv2_NanoAODv9-v1/130000/0290F73B-A51C-A441-AEC1-8429F9CC8AA8.root', treename='Events', entrystart=1273805, entrystop=1371790, fileuuid=b'\\xbf\\xc3\\xe8\\xa4\\xf0\\x11\\x11\\xeb\\x93vA\\xce\\xe1\\x83\\xbe\\xef', usermeta={})\n",
      "  warnings.warn(str(e))\n"
     ]
    },
    {
     "name": "stdout",
     "output_type": "stream",
     "text": [
      "Lenght of events  97985 length of weights  97985\n",
      "IOV  2016 , era  Run2016H\n"
     ]
    },
    {
     "name": "stderr",
     "output_type": "stream",
     "text": [
      "/opt/conda/lib/python3.8/site-packages/coffea/processor/executor.py:1345: UserWarning: Failed processing file: WorkItem(dataset='/JetHT/Run2016H-UL2016_MiniAODv2_NanoAODv9-v1/NANOAOD', filename='root://cmsxrootd.fnal.gov//store/data/Run2016H/JetHT/NANOAOD/UL2016_MiniAODv2_NanoAODv9-v1/130000/0290F73B-A51C-A441-AEC1-8429F9CC8AA8.root', treename='Events', entrystart=1371790, entrystop=1469775, fileuuid=b'\\xbf\\xc3\\xe8\\xa4\\xf0\\x11\\x11\\xeb\\x93vA\\xce\\xe1\\x83\\xbe\\xef', usermeta={})\n",
      "  warnings.warn(str(e))\n"
     ]
    },
    {
     "name": "stdout",
     "output_type": "stream",
     "text": [
      "Lenght of events  97985 length of weights  97985\n",
      "IOV  2016 , era  Run2016H\n"
     ]
    },
    {
     "name": "stderr",
     "output_type": "stream",
     "text": [
      "/opt/conda/lib/python3.8/site-packages/coffea/processor/executor.py:1345: UserWarning: Failed processing file: WorkItem(dataset='/JetHT/Run2016H-UL2016_MiniAODv2_NanoAODv9-v1/NANOAOD', filename='root://cmsxrootd.fnal.gov//store/data/Run2016H/JetHT/NANOAOD/UL2016_MiniAODv2_NanoAODv9-v1/130000/0290F73B-A51C-A441-AEC1-8429F9CC8AA8.root', treename='Events', entrystart=1469775, entrystop=1567760, fileuuid=b'\\xbf\\xc3\\xe8\\xa4\\xf0\\x11\\x11\\xeb\\x93vA\\xce\\xe1\\x83\\xbe\\xef', usermeta={})\n",
      "  warnings.warn(str(e))\n"
     ]
    },
    {
     "name": "stdout",
     "output_type": "stream",
     "text": [
      "Lenght of events  97985 length of weights  97985\n",
      "IOV  2016 , era  Run2016H\n"
     ]
    },
    {
     "name": "stderr",
     "output_type": "stream",
     "text": [
      "/opt/conda/lib/python3.8/site-packages/coffea/processor/executor.py:1345: UserWarning: Failed processing file: WorkItem(dataset='/JetHT/Run2016H-UL2016_MiniAODv2_NanoAODv9-v1/NANOAOD', filename='root://cmsxrootd.fnal.gov//store/data/Run2016H/JetHT/NANOAOD/UL2016_MiniAODv2_NanoAODv9-v1/130000/0290F73B-A51C-A441-AEC1-8429F9CC8AA8.root', treename='Events', entrystart=1567760, entrystop=1665745, fileuuid=b'\\xbf\\xc3\\xe8\\xa4\\xf0\\x11\\x11\\xeb\\x93vA\\xce\\xe1\\x83\\xbe\\xef', usermeta={})\n",
      "  warnings.warn(str(e))\n"
     ]
    },
    {
     "name": "stdout",
     "output_type": "stream",
     "text": [
      "Lenght of events  97978 length of weights  97978\n",
      "IOV  2016 , era  Run2016H\n"
     ]
    },
    {
     "name": "stderr",
     "output_type": "stream",
     "text": [
      "/opt/conda/lib/python3.8/site-packages/coffea/processor/executor.py:1345: UserWarning: Failed processing file: WorkItem(dataset='/JetHT/Run2016H-UL2016_MiniAODv2_NanoAODv9-v1/NANOAOD', filename='root://cmsxrootd.fnal.gov//store/data/Run2016H/JetHT/NANOAOD/UL2016_MiniAODv2_NanoAODv9-v1/130000/0290F73B-A51C-A441-AEC1-8429F9CC8AA8.root', treename='Events', entrystart=1665745, entrystop=1763723, fileuuid=b'\\xbf\\xc3\\xe8\\xa4\\xf0\\x11\\x11\\xeb\\x93vA\\xce\\xe1\\x83\\xbe\\xef', usermeta={})\n",
      "  warnings.warn(str(e))\n"
     ]
    },
    {
     "name": "stdout",
     "output_type": "stream",
     "text": [
      "Lenght of events  103668 length of weights  103668\n",
      "IOV  2016 , era  Run2016F\n"
     ]
    },
    {
     "name": "stderr",
     "output_type": "stream",
     "text": [
      "/opt/conda/lib/python3.8/site-packages/coffea/processor/executor.py:1345: UserWarning: Failed processing file: WorkItem(dataset='/JetHT/Run2016F-UL2016_MiniAODv2_NanoAODv9-v1/NANOAOD', filename='root://cmsxrootd.fnal.gov//store/data/Run2016F/JetHT/NANOAOD/UL2016_MiniAODv2_NanoAODv9-v1/70000/4CF30F76-B083-4946-9F06-053FE8395464.root', treename='Events', entrystart=0, entrystop=103668, fileuuid=b'8\\xc5L\\x8e\\xefm\\x11\\xeb\\x84\\xbe\\xe2\\xbd\\xe1\\x83\\xbe\\xef', usermeta={})\n",
      "  warnings.warn(str(e))\n"
     ]
    },
    {
     "name": "stdout",
     "output_type": "stream",
     "text": [
      "Lenght of events  103668 length of weights  103668\n",
      "IOV  2016 , era  Run2016F\n"
     ]
    },
    {
     "name": "stderr",
     "output_type": "stream",
     "text": [
      "/opt/conda/lib/python3.8/site-packages/coffea/processor/executor.py:1345: UserWarning: Failed processing file: WorkItem(dataset='/JetHT/Run2016F-UL2016_MiniAODv2_NanoAODv9-v1/NANOAOD', filename='root://cmsxrootd.fnal.gov//store/data/Run2016F/JetHT/NANOAOD/UL2016_MiniAODv2_NanoAODv9-v1/70000/4CF30F76-B083-4946-9F06-053FE8395464.root', treename='Events', entrystart=103668, entrystop=207336, fileuuid=b'8\\xc5L\\x8e\\xefm\\x11\\xeb\\x84\\xbe\\xe2\\xbd\\xe1\\x83\\xbe\\xef', usermeta={})\n",
      "  warnings.warn(str(e))\n"
     ]
    },
    {
     "name": "stdout",
     "output_type": "stream",
     "text": [
      "Lenght of events  103668 length of weights  103668\n",
      "IOV  2016 , era  Run2016F\n"
     ]
    },
    {
     "name": "stderr",
     "output_type": "stream",
     "text": [
      "/opt/conda/lib/python3.8/site-packages/coffea/processor/executor.py:1345: UserWarning: Failed processing file: WorkItem(dataset='/JetHT/Run2016F-UL2016_MiniAODv2_NanoAODv9-v1/NANOAOD', filename='root://cmsxrootd.fnal.gov//store/data/Run2016F/JetHT/NANOAOD/UL2016_MiniAODv2_NanoAODv9-v1/70000/4CF30F76-B083-4946-9F06-053FE8395464.root', treename='Events', entrystart=207336, entrystop=311004, fileuuid=b'8\\xc5L\\x8e\\xefm\\x11\\xeb\\x84\\xbe\\xe2\\xbd\\xe1\\x83\\xbe\\xef', usermeta={})\n",
      "  warnings.warn(str(e))\n"
     ]
    },
    {
     "name": "stdout",
     "output_type": "stream",
     "text": [
      "Lenght of events  103668 length of weights  103668\n",
      "IOV  2016 , era  Run2016F\n"
     ]
    },
    {
     "name": "stderr",
     "output_type": "stream",
     "text": [
      "/opt/conda/lib/python3.8/site-packages/coffea/processor/executor.py:1345: UserWarning: Failed processing file: WorkItem(dataset='/JetHT/Run2016F-UL2016_MiniAODv2_NanoAODv9-v1/NANOAOD', filename='root://cmsxrootd.fnal.gov//store/data/Run2016F/JetHT/NANOAOD/UL2016_MiniAODv2_NanoAODv9-v1/70000/4CF30F76-B083-4946-9F06-053FE8395464.root', treename='Events', entrystart=311004, entrystop=414672, fileuuid=b'8\\xc5L\\x8e\\xefm\\x11\\xeb\\x84\\xbe\\xe2\\xbd\\xe1\\x83\\xbe\\xef', usermeta={})\n",
      "  warnings.warn(str(e))\n"
     ]
    },
    {
     "name": "stdout",
     "output_type": "stream",
     "text": [
      "Lenght of events  103668 length of weights  103668\n",
      "IOV  2016 , era  Run2016F\n"
     ]
    },
    {
     "name": "stderr",
     "output_type": "stream",
     "text": [
      "/opt/conda/lib/python3.8/site-packages/coffea/processor/executor.py:1345: UserWarning: Failed processing file: WorkItem(dataset='/JetHT/Run2016F-UL2016_MiniAODv2_NanoAODv9-v1/NANOAOD', filename='root://cmsxrootd.fnal.gov//store/data/Run2016F/JetHT/NANOAOD/UL2016_MiniAODv2_NanoAODv9-v1/70000/4CF30F76-B083-4946-9F06-053FE8395464.root', treename='Events', entrystart=414672, entrystop=518340, fileuuid=b'8\\xc5L\\x8e\\xefm\\x11\\xeb\\x84\\xbe\\xe2\\xbd\\xe1\\x83\\xbe\\xef', usermeta={})\n",
      "  warnings.warn(str(e))\n"
     ]
    },
    {
     "name": "stdout",
     "output_type": "stream",
     "text": [
      "Lenght of events  103668 length of weights  103668\n",
      "IOV  2016 , era  Run2016F\n"
     ]
    },
    {
     "name": "stderr",
     "output_type": "stream",
     "text": [
      "/opt/conda/lib/python3.8/site-packages/coffea/processor/executor.py:1345: UserWarning: Failed processing file: WorkItem(dataset='/JetHT/Run2016F-UL2016_MiniAODv2_NanoAODv9-v1/NANOAOD', filename='root://cmsxrootd.fnal.gov//store/data/Run2016F/JetHT/NANOAOD/UL2016_MiniAODv2_NanoAODv9-v1/70000/4CF30F76-B083-4946-9F06-053FE8395464.root', treename='Events', entrystart=518340, entrystop=622008, fileuuid=b'8\\xc5L\\x8e\\xefm\\x11\\xeb\\x84\\xbe\\xe2\\xbd\\xe1\\x83\\xbe\\xef', usermeta={})\n",
      "  warnings.warn(str(e))\n"
     ]
    },
    {
     "name": "stdout",
     "output_type": "stream",
     "text": [
      "Lenght of events  103668 length of weights  103668\n",
      "IOV  2016 , era  Run2016F\n"
     ]
    },
    {
     "name": "stderr",
     "output_type": "stream",
     "text": [
      "/opt/conda/lib/python3.8/site-packages/coffea/processor/executor.py:1345: UserWarning: Failed processing file: WorkItem(dataset='/JetHT/Run2016F-UL2016_MiniAODv2_NanoAODv9-v1/NANOAOD', filename='root://cmsxrootd.fnal.gov//store/data/Run2016F/JetHT/NANOAOD/UL2016_MiniAODv2_NanoAODv9-v1/70000/4CF30F76-B083-4946-9F06-053FE8395464.root', treename='Events', entrystart=622008, entrystop=725676, fileuuid=b'8\\xc5L\\x8e\\xefm\\x11\\xeb\\x84\\xbe\\xe2\\xbd\\xe1\\x83\\xbe\\xef', usermeta={})\n",
      "  warnings.warn(str(e))\n"
     ]
    },
    {
     "name": "stdout",
     "output_type": "stream",
     "text": [
      "Lenght of events  103668 length of weights  103668\n",
      "IOV  2016 , era  Run2016F\n"
     ]
    },
    {
     "name": "stderr",
     "output_type": "stream",
     "text": [
      "/opt/conda/lib/python3.8/site-packages/coffea/processor/executor.py:1345: UserWarning: Failed processing file: WorkItem(dataset='/JetHT/Run2016F-UL2016_MiniAODv2_NanoAODv9-v1/NANOAOD', filename='root://cmsxrootd.fnal.gov//store/data/Run2016F/JetHT/NANOAOD/UL2016_MiniAODv2_NanoAODv9-v1/70000/4CF30F76-B083-4946-9F06-053FE8395464.root', treename='Events', entrystart=725676, entrystop=829344, fileuuid=b'8\\xc5L\\x8e\\xefm\\x11\\xeb\\x84\\xbe\\xe2\\xbd\\xe1\\x83\\xbe\\xef', usermeta={})\n",
      "  warnings.warn(str(e))\n"
     ]
    },
    {
     "name": "stdout",
     "output_type": "stream",
     "text": [
      "Lenght of events  103668 length of weights  103668\n",
      "IOV  2016 , era  Run2016F\n"
     ]
    },
    {
     "name": "stderr",
     "output_type": "stream",
     "text": [
      "/opt/conda/lib/python3.8/site-packages/coffea/processor/executor.py:1345: UserWarning: Failed processing file: WorkItem(dataset='/JetHT/Run2016F-UL2016_MiniAODv2_NanoAODv9-v1/NANOAOD', filename='root://cmsxrootd.fnal.gov//store/data/Run2016F/JetHT/NANOAOD/UL2016_MiniAODv2_NanoAODv9-v1/70000/4CF30F76-B083-4946-9F06-053FE8395464.root', treename='Events', entrystart=829344, entrystop=933012, fileuuid=b'8\\xc5L\\x8e\\xefm\\x11\\xeb\\x84\\xbe\\xe2\\xbd\\xe1\\x83\\xbe\\xef', usermeta={})\n",
      "  warnings.warn(str(e))\n"
     ]
    },
    {
     "name": "stdout",
     "output_type": "stream",
     "text": [
      "Lenght of events  103668 length of weights  103668\n",
      "IOV  2016 , era  Run2016F\n"
     ]
    },
    {
     "name": "stderr",
     "output_type": "stream",
     "text": [
      "/opt/conda/lib/python3.8/site-packages/coffea/processor/executor.py:1345: UserWarning: Failed processing file: WorkItem(dataset='/JetHT/Run2016F-UL2016_MiniAODv2_NanoAODv9-v1/NANOAOD', filename='root://cmsxrootd.fnal.gov//store/data/Run2016F/JetHT/NANOAOD/UL2016_MiniAODv2_NanoAODv9-v1/70000/4CF30F76-B083-4946-9F06-053FE8395464.root', treename='Events', entrystart=933012, entrystop=1036680, fileuuid=b'8\\xc5L\\x8e\\xefm\\x11\\xeb\\x84\\xbe\\xe2\\xbd\\xe1\\x83\\xbe\\xef', usermeta={})\n",
      "  warnings.warn(str(e))\n"
     ]
    },
    {
     "name": "stdout",
     "output_type": "stream",
     "text": [
      "Lenght of events  103667 length of weights  103667\n",
      "IOV  2016 , era  Run2016F\n"
     ]
    },
    {
     "name": "stderr",
     "output_type": "stream",
     "text": [
      "/opt/conda/lib/python3.8/site-packages/coffea/processor/executor.py:1345: UserWarning: Failed processing file: WorkItem(dataset='/JetHT/Run2016F-UL2016_MiniAODv2_NanoAODv9-v1/NANOAOD', filename='root://cmsxrootd.fnal.gov//store/data/Run2016F/JetHT/NANOAOD/UL2016_MiniAODv2_NanoAODv9-v1/70000/4CF30F76-B083-4946-9F06-053FE8395464.root', treename='Events', entrystart=1036680, entrystop=1140347, fileuuid=b'8\\xc5L\\x8e\\xefm\\x11\\xeb\\x84\\xbe\\xe2\\xbd\\xe1\\x83\\xbe\\xef', usermeta={})\n",
      "  warnings.warn(str(e))\n"
     ]
    },
    {
     "name": "stdout",
     "output_type": "stream",
     "text": [
      "Lenght of events  97430 length of weights  97430\n",
      "IOV  2016 , era  Run2016F\n"
     ]
    },
    {
     "name": "stderr",
     "output_type": "stream",
     "text": [
      "/opt/conda/lib/python3.8/site-packages/coffea/processor/executor.py:1345: UserWarning: Failed processing file: WorkItem(dataset='/JetHT/Run2016F-HIPM_UL2016_MiniAODv2_NanoAODv9-v2/NANOAOD', filename='root://cmsxrootd.fnal.gov//store/data/Run2016F/JetHT/NANOAOD/HIPM_UL2016_MiniAODv2_NanoAODv9-v2/24310000/B61D3A40-94D0-E54B-B534-846F337F5594.root', treename='Events', entrystart=0, entrystop=97430, fileuuid=b'>\\x1a\\xcc\\x90\\xa2n\\x11\\xec\\xa0hl!\\x1e\\n\\xbe\\xef', usermeta={})\n",
      "  warnings.warn(str(e))\n"
     ]
    },
    {
     "name": "stdout",
     "output_type": "stream",
     "text": [
      "Lenght of events  97430 length of weights  97430\n",
      "IOV  2016 , era  Run2016F\n"
     ]
    },
    {
     "name": "stderr",
     "output_type": "stream",
     "text": [
      "/opt/conda/lib/python3.8/site-packages/coffea/processor/executor.py:1345: UserWarning: Failed processing file: WorkItem(dataset='/JetHT/Run2016F-HIPM_UL2016_MiniAODv2_NanoAODv9-v2/NANOAOD', filename='root://cmsxrootd.fnal.gov//store/data/Run2016F/JetHT/NANOAOD/HIPM_UL2016_MiniAODv2_NanoAODv9-v2/24310000/B61D3A40-94D0-E54B-B534-846F337F5594.root', treename='Events', entrystart=97430, entrystop=194860, fileuuid=b'>\\x1a\\xcc\\x90\\xa2n\\x11\\xec\\xa0hl!\\x1e\\n\\xbe\\xef', usermeta={})\n",
      "  warnings.warn(str(e))\n"
     ]
    },
    {
     "name": "stdout",
     "output_type": "stream",
     "text": [
      "Lenght of events  97430 length of weights  97430\n",
      "IOV  2016 , era  Run2016F\n"
     ]
    },
    {
     "name": "stderr",
     "output_type": "stream",
     "text": [
      "/opt/conda/lib/python3.8/site-packages/coffea/processor/executor.py:1345: UserWarning: Failed processing file: WorkItem(dataset='/JetHT/Run2016F-HIPM_UL2016_MiniAODv2_NanoAODv9-v2/NANOAOD', filename='root://cmsxrootd.fnal.gov//store/data/Run2016F/JetHT/NANOAOD/HIPM_UL2016_MiniAODv2_NanoAODv9-v2/24310000/B61D3A40-94D0-E54B-B534-846F337F5594.root', treename='Events', entrystart=194860, entrystop=292290, fileuuid=b'>\\x1a\\xcc\\x90\\xa2n\\x11\\xec\\xa0hl!\\x1e\\n\\xbe\\xef', usermeta={})\n",
      "  warnings.warn(str(e))\n"
     ]
    },
    {
     "name": "stdout",
     "output_type": "stream",
     "text": [
      "Lenght of events  97430 length of weights  97430\n",
      "IOV  2016 , era  Run2016F\n"
     ]
    },
    {
     "name": "stderr",
     "output_type": "stream",
     "text": [
      "/opt/conda/lib/python3.8/site-packages/coffea/processor/executor.py:1345: UserWarning: Failed processing file: WorkItem(dataset='/JetHT/Run2016F-HIPM_UL2016_MiniAODv2_NanoAODv9-v2/NANOAOD', filename='root://cmsxrootd.fnal.gov//store/data/Run2016F/JetHT/NANOAOD/HIPM_UL2016_MiniAODv2_NanoAODv9-v2/24310000/B61D3A40-94D0-E54B-B534-846F337F5594.root', treename='Events', entrystart=292290, entrystop=389720, fileuuid=b'>\\x1a\\xcc\\x90\\xa2n\\x11\\xec\\xa0hl!\\x1e\\n\\xbe\\xef', usermeta={})\n",
      "  warnings.warn(str(e))\n"
     ]
    },
    {
     "name": "stdout",
     "output_type": "stream",
     "text": [
      "Lenght of events  97430 length of weights  97430\n",
      "IOV  2016 , era  Run2016F\n"
     ]
    },
    {
     "name": "stderr",
     "output_type": "stream",
     "text": [
      "/opt/conda/lib/python3.8/site-packages/coffea/processor/executor.py:1345: UserWarning: Failed processing file: WorkItem(dataset='/JetHT/Run2016F-HIPM_UL2016_MiniAODv2_NanoAODv9-v2/NANOAOD', filename='root://cmsxrootd.fnal.gov//store/data/Run2016F/JetHT/NANOAOD/HIPM_UL2016_MiniAODv2_NanoAODv9-v2/24310000/B61D3A40-94D0-E54B-B534-846F337F5594.root', treename='Events', entrystart=389720, entrystop=487150, fileuuid=b'>\\x1a\\xcc\\x90\\xa2n\\x11\\xec\\xa0hl!\\x1e\\n\\xbe\\xef', usermeta={})\n",
      "  warnings.warn(str(e))\n"
     ]
    },
    {
     "name": "stdout",
     "output_type": "stream",
     "text": [
      "Lenght of events  97430 length of weights  97430\n",
      "IOV  2016 , era  Run2016F\n"
     ]
    },
    {
     "name": "stderr",
     "output_type": "stream",
     "text": [
      "/opt/conda/lib/python3.8/site-packages/coffea/processor/executor.py:1345: UserWarning: Failed processing file: WorkItem(dataset='/JetHT/Run2016F-HIPM_UL2016_MiniAODv2_NanoAODv9-v2/NANOAOD', filename='root://cmsxrootd.fnal.gov//store/data/Run2016F/JetHT/NANOAOD/HIPM_UL2016_MiniAODv2_NanoAODv9-v2/24310000/B61D3A40-94D0-E54B-B534-846F337F5594.root', treename='Events', entrystart=487150, entrystop=584580, fileuuid=b'>\\x1a\\xcc\\x90\\xa2n\\x11\\xec\\xa0hl!\\x1e\\n\\xbe\\xef', usermeta={})\n",
      "  warnings.warn(str(e))\n"
     ]
    },
    {
     "name": "stdout",
     "output_type": "stream",
     "text": [
      "Lenght of events 97430  length of weights  97430\n",
      "IOV  2016 , era  Run2016F\n"
     ]
    },
    {
     "name": "stderr",
     "output_type": "stream",
     "text": [
      "/opt/conda/lib/python3.8/site-packages/coffea/processor/executor.py:1345: UserWarning: Failed processing file: WorkItem(dataset='/JetHT/Run2016F-HIPM_UL2016_MiniAODv2_NanoAODv9-v2/NANOAOD', filename='root://cmsxrootd.fnal.gov//store/data/Run2016F/JetHT/NANOAOD/HIPM_UL2016_MiniAODv2_NanoAODv9-v2/24310000/B61D3A40-94D0-E54B-B534-846F337F5594.root', treename='Events', entrystart=584580, entrystop=682010, fileuuid=b'>\\x1a\\xcc\\x90\\xa2n\\x11\\xec\\xa0hl!\\x1e\\n\\xbe\\xef', usermeta={})\n",
      "  warnings.warn(str(e))\n"
     ]
    },
    {
     "name": "stdout",
     "output_type": "stream",
     "text": [
      "Lenght of events  97430 length of weights  97430\n",
      "IOV  2016 , era  Run2016F\n"
     ]
    },
    {
     "name": "stderr",
     "output_type": "stream",
     "text": [
      "/opt/conda/lib/python3.8/site-packages/coffea/processor/executor.py:1345: UserWarning: Failed processing file: WorkItem(dataset='/JetHT/Run2016F-HIPM_UL2016_MiniAODv2_NanoAODv9-v2/NANOAOD', filename='root://cmsxrootd.fnal.gov//store/data/Run2016F/JetHT/NANOAOD/HIPM_UL2016_MiniAODv2_NanoAODv9-v2/24310000/B61D3A40-94D0-E54B-B534-846F337F5594.root', treename='Events', entrystart=682010, entrystop=779440, fileuuid=b'>\\x1a\\xcc\\x90\\xa2n\\x11\\xec\\xa0hl!\\x1e\\n\\xbe\\xef', usermeta={})\n",
      "  warnings.warn(str(e))\n"
     ]
    },
    {
     "name": "stdout",
     "output_type": "stream",
     "text": [
      "Lenght of events  97430 length of weights  97430\n",
      "IOV  2016 , era  Run2016F\n"
     ]
    },
    {
     "name": "stderr",
     "output_type": "stream",
     "text": [
      "/opt/conda/lib/python3.8/site-packages/coffea/processor/executor.py:1345: UserWarning: Failed processing file: WorkItem(dataset='/JetHT/Run2016F-HIPM_UL2016_MiniAODv2_NanoAODv9-v2/NANOAOD', filename='root://cmsxrootd.fnal.gov//store/data/Run2016F/JetHT/NANOAOD/HIPM_UL2016_MiniAODv2_NanoAODv9-v2/24310000/B61D3A40-94D0-E54B-B534-846F337F5594.root', treename='Events', entrystart=779440, entrystop=876870, fileuuid=b'>\\x1a\\xcc\\x90\\xa2n\\x11\\xec\\xa0hl!\\x1e\\n\\xbe\\xef', usermeta={})\n",
      "  warnings.warn(str(e))\n"
     ]
    },
    {
     "name": "stdout",
     "output_type": "stream",
     "text": [
      "Lenght of events  97430 length of weights  97430\n",
      "IOV  2016 , era  Run2016F\n"
     ]
    },
    {
     "name": "stderr",
     "output_type": "stream",
     "text": [
      "/opt/conda/lib/python3.8/site-packages/coffea/processor/executor.py:1345: UserWarning: Failed processing file: WorkItem(dataset='/JetHT/Run2016F-HIPM_UL2016_MiniAODv2_NanoAODv9-v2/NANOAOD', filename='root://cmsxrootd.fnal.gov//store/data/Run2016F/JetHT/NANOAOD/HIPM_UL2016_MiniAODv2_NanoAODv9-v2/24310000/B61D3A40-94D0-E54B-B534-846F337F5594.root', treename='Events', entrystart=876870, entrystop=974300, fileuuid=b'>\\x1a\\xcc\\x90\\xa2n\\x11\\xec\\xa0hl!\\x1e\\n\\xbe\\xef', usermeta={})\n",
      "  warnings.warn(str(e))\n"
     ]
    },
    {
     "name": "stdout",
     "output_type": "stream",
     "text": [
      "Lenght of events  97430 length of weights  97430\n",
      "IOV  2016 , era  Run2016F\n"
     ]
    },
    {
     "name": "stderr",
     "output_type": "stream",
     "text": [
      "/opt/conda/lib/python3.8/site-packages/coffea/processor/executor.py:1345: UserWarning: Failed processing file: WorkItem(dataset='/JetHT/Run2016F-HIPM_UL2016_MiniAODv2_NanoAODv9-v2/NANOAOD', filename='root://cmsxrootd.fnal.gov//store/data/Run2016F/JetHT/NANOAOD/HIPM_UL2016_MiniAODv2_NanoAODv9-v2/24310000/B61D3A40-94D0-E54B-B534-846F337F5594.root', treename='Events', entrystart=974300, entrystop=1071730, fileuuid=b'>\\x1a\\xcc\\x90\\xa2n\\x11\\xec\\xa0hl!\\x1e\\n\\xbe\\xef', usermeta={})\n",
      "  warnings.warn(str(e))\n"
     ]
    },
    {
     "name": "stdout",
     "output_type": "stream",
     "text": [
      "Lenght of events  97430 length of weights  97430\n",
      "IOV  2016 , era  Run2016F\n"
     ]
    },
    {
     "name": "stderr",
     "output_type": "stream",
     "text": [
      "/opt/conda/lib/python3.8/site-packages/coffea/processor/executor.py:1345: UserWarning: Failed processing file: WorkItem(dataset='/JetHT/Run2016F-HIPM_UL2016_MiniAODv2_NanoAODv9-v2/NANOAOD', filename='root://cmsxrootd.fnal.gov//store/data/Run2016F/JetHT/NANOAOD/HIPM_UL2016_MiniAODv2_NanoAODv9-v2/24310000/B61D3A40-94D0-E54B-B534-846F337F5594.root', treename='Events', entrystart=1071730, entrystop=1169160, fileuuid=b'>\\x1a\\xcc\\x90\\xa2n\\x11\\xec\\xa0hl!\\x1e\\n\\xbe\\xef', usermeta={})\n",
      "  warnings.warn(str(e))\n"
     ]
    },
    {
     "name": "stdout",
     "output_type": "stream",
     "text": [
      "Lenght of events  97418 length of weights  97418\n",
      "IOV  2016 , era  Run2016F\n"
     ]
    },
    {
     "name": "stderr",
     "output_type": "stream",
     "text": [
      "/opt/conda/lib/python3.8/site-packages/coffea/processor/executor.py:1345: UserWarning: Failed processing file: WorkItem(dataset='/JetHT/Run2016F-HIPM_UL2016_MiniAODv2_NanoAODv9-v2/NANOAOD', filename='root://cmsxrootd.fnal.gov//store/data/Run2016F/JetHT/NANOAOD/HIPM_UL2016_MiniAODv2_NanoAODv9-v2/24310000/B61D3A40-94D0-E54B-B534-846F337F5594.root', treename='Events', entrystart=1169160, entrystop=1266578, fileuuid=b'>\\x1a\\xcc\\x90\\xa2n\\x11\\xec\\xa0hl!\\x1e\\n\\xbe\\xef', usermeta={})\n",
      "  warnings.warn(str(e))\n"
     ]
    },
    {
     "name": "stdout",
     "output_type": "stream",
     "text": [
      "Lenght of events  97493 length of weights  97493\n",
      "IOV  2016 , era  Run2016E\n"
     ]
    },
    {
     "name": "stderr",
     "output_type": "stream",
     "text": [
      "/opt/conda/lib/python3.8/site-packages/coffea/processor/executor.py:1345: UserWarning: Failed processing file: WorkItem(dataset='/JetHT/Run2016E-HIPM_UL2016_MiniAODv2_NanoAODv9-v2/NANOAOD', filename='root://cmsxrootd.fnal.gov//store/data/Run2016E/JetHT/NANOAOD/HIPM_UL2016_MiniAODv2_NanoAODv9-v2/40000/0402FC45-D69F-BE47-A2BF-10394485E06E.root', treename='Events', entrystart=0, entrystop=97493, fileuuid=b'P\\x19\\xa0F\\x97k\\x11\\xec\\xbed7\\xbe\\xe1\\x83\\xbe\\xef', usermeta={})\n",
      "  warnings.warn(str(e))\n"
     ]
    },
    {
     "name": "stdout",
     "output_type": "stream",
     "text": [
      "Lenght of events  97493 length of weights  97493\n",
      "IOV  2016 , era  Run2016E\n"
     ]
    },
    {
     "name": "stderr",
     "output_type": "stream",
     "text": [
      "/opt/conda/lib/python3.8/site-packages/coffea/processor/executor.py:1345: UserWarning: Failed processing file: WorkItem(dataset='/JetHT/Run2016E-HIPM_UL2016_MiniAODv2_NanoAODv9-v2/NANOAOD', filename='root://cmsxrootd.fnal.gov//store/data/Run2016E/JetHT/NANOAOD/HIPM_UL2016_MiniAODv2_NanoAODv9-v2/40000/0402FC45-D69F-BE47-A2BF-10394485E06E.root', treename='Events', entrystart=97493, entrystop=194986, fileuuid=b'P\\x19\\xa0F\\x97k\\x11\\xec\\xbed7\\xbe\\xe1\\x83\\xbe\\xef', usermeta={})\n",
      "  warnings.warn(str(e))\n"
     ]
    },
    {
     "name": "stdout",
     "output_type": "stream",
     "text": [
      "Lenght of events  97493 length of weights  97493\n",
      "IOV  2016 , era  Run2016E\n"
     ]
    },
    {
     "name": "stderr",
     "output_type": "stream",
     "text": [
      "/opt/conda/lib/python3.8/site-packages/coffea/processor/executor.py:1345: UserWarning: Failed processing file: WorkItem(dataset='/JetHT/Run2016E-HIPM_UL2016_MiniAODv2_NanoAODv9-v2/NANOAOD', filename='root://cmsxrootd.fnal.gov//store/data/Run2016E/JetHT/NANOAOD/HIPM_UL2016_MiniAODv2_NanoAODv9-v2/40000/0402FC45-D69F-BE47-A2BF-10394485E06E.root', treename='Events', entrystart=194986, entrystop=292479, fileuuid=b'P\\x19\\xa0F\\x97k\\x11\\xec\\xbed7\\xbe\\xe1\\x83\\xbe\\xef', usermeta={})\n",
      "  warnings.warn(str(e))\n"
     ]
    },
    {
     "name": "stdout",
     "output_type": "stream",
     "text": [
      "Lenght of events  97493 length of weights  97493\n",
      "IOV  2016 , era  Run2016E\n"
     ]
    },
    {
     "name": "stderr",
     "output_type": "stream",
     "text": [
      "/opt/conda/lib/python3.8/site-packages/coffea/processor/executor.py:1345: UserWarning: Failed processing file: WorkItem(dataset='/JetHT/Run2016E-HIPM_UL2016_MiniAODv2_NanoAODv9-v2/NANOAOD', filename='root://cmsxrootd.fnal.gov//store/data/Run2016E/JetHT/NANOAOD/HIPM_UL2016_MiniAODv2_NanoAODv9-v2/40000/0402FC45-D69F-BE47-A2BF-10394485E06E.root', treename='Events', entrystart=292479, entrystop=389972, fileuuid=b'P\\x19\\xa0F\\x97k\\x11\\xec\\xbed7\\xbe\\xe1\\x83\\xbe\\xef', usermeta={})\n",
      "  warnings.warn(str(e))\n"
     ]
    },
    {
     "name": "stdout",
     "output_type": "stream",
     "text": [
      "Lenght of events  97493 length of weights  97493\n",
      "IOV  2016 , era  Run2016E\n"
     ]
    },
    {
     "name": "stderr",
     "output_type": "stream",
     "text": [
      "/opt/conda/lib/python3.8/site-packages/coffea/processor/executor.py:1345: UserWarning: Failed processing file: WorkItem(dataset='/JetHT/Run2016E-HIPM_UL2016_MiniAODv2_NanoAODv9-v2/NANOAOD', filename='root://cmsxrootd.fnal.gov//store/data/Run2016E/JetHT/NANOAOD/HIPM_UL2016_MiniAODv2_NanoAODv9-v2/40000/0402FC45-D69F-BE47-A2BF-10394485E06E.root', treename='Events', entrystart=389972, entrystop=487465, fileuuid=b'P\\x19\\xa0F\\x97k\\x11\\xec\\xbed7\\xbe\\xe1\\x83\\xbe\\xef', usermeta={})\n",
      "  warnings.warn(str(e))\n"
     ]
    },
    {
     "name": "stdout",
     "output_type": "stream",
     "text": [
      "Lenght of events  97493 length of weights  97493\n",
      "IOV  2016 , era  Run2016E\n"
     ]
    },
    {
     "name": "stderr",
     "output_type": "stream",
     "text": [
      "/opt/conda/lib/python3.8/site-packages/coffea/processor/executor.py:1345: UserWarning: Failed processing file: WorkItem(dataset='/JetHT/Run2016E-HIPM_UL2016_MiniAODv2_NanoAODv9-v2/NANOAOD', filename='root://cmsxrootd.fnal.gov//store/data/Run2016E/JetHT/NANOAOD/HIPM_UL2016_MiniAODv2_NanoAODv9-v2/40000/0402FC45-D69F-BE47-A2BF-10394485E06E.root', treename='Events', entrystart=487465, entrystop=584958, fileuuid=b'P\\x19\\xa0F\\x97k\\x11\\xec\\xbed7\\xbe\\xe1\\x83\\xbe\\xef', usermeta={})\n",
      "  warnings.warn(str(e))\n"
     ]
    },
    {
     "name": "stdout",
     "output_type": "stream",
     "text": [
      "Lenght of events  97493 length of weights  97493\n",
      "IOV  2016 , era  Run2016E\n"
     ]
    },
    {
     "name": "stderr",
     "output_type": "stream",
     "text": [
      "/opt/conda/lib/python3.8/site-packages/coffea/processor/executor.py:1345: UserWarning: Failed processing file: WorkItem(dataset='/JetHT/Run2016E-HIPM_UL2016_MiniAODv2_NanoAODv9-v2/NANOAOD', filename='root://cmsxrootd.fnal.gov//store/data/Run2016E/JetHT/NANOAOD/HIPM_UL2016_MiniAODv2_NanoAODv9-v2/40000/0402FC45-D69F-BE47-A2BF-10394485E06E.root', treename='Events', entrystart=584958, entrystop=682451, fileuuid=b'P\\x19\\xa0F\\x97k\\x11\\xec\\xbed7\\xbe\\xe1\\x83\\xbe\\xef', usermeta={})\n",
      "  warnings.warn(str(e))\n"
     ]
    },
    {
     "name": "stdout",
     "output_type": "stream",
     "text": [
      "Lenght of events  97493 length of weights  97493\n",
      "IOV  2016 , era  Run2016E\n"
     ]
    },
    {
     "name": "stderr",
     "output_type": "stream",
     "text": [
      "/opt/conda/lib/python3.8/site-packages/coffea/processor/executor.py:1345: UserWarning: Failed processing file: WorkItem(dataset='/JetHT/Run2016E-HIPM_UL2016_MiniAODv2_NanoAODv9-v2/NANOAOD', filename='root://cmsxrootd.fnal.gov//store/data/Run2016E/JetHT/NANOAOD/HIPM_UL2016_MiniAODv2_NanoAODv9-v2/40000/0402FC45-D69F-BE47-A2BF-10394485E06E.root', treename='Events', entrystart=682451, entrystop=779944, fileuuid=b'P\\x19\\xa0F\\x97k\\x11\\xec\\xbed7\\xbe\\xe1\\x83\\xbe\\xef', usermeta={})\n",
      "  warnings.warn(str(e))\n"
     ]
    },
    {
     "name": "stdout",
     "output_type": "stream",
     "text": [
      "Lenght of events  97493 length of weights  97493\n",
      "IOV  2016 , era  Run2016E\n"
     ]
    },
    {
     "name": "stderr",
     "output_type": "stream",
     "text": [
      "/opt/conda/lib/python3.8/site-packages/coffea/processor/executor.py:1345: UserWarning: Failed processing file: WorkItem(dataset='/JetHT/Run2016E-HIPM_UL2016_MiniAODv2_NanoAODv9-v2/NANOAOD', filename='root://cmsxrootd.fnal.gov//store/data/Run2016E/JetHT/NANOAOD/HIPM_UL2016_MiniAODv2_NanoAODv9-v2/40000/0402FC45-D69F-BE47-A2BF-10394485E06E.root', treename='Events', entrystart=779944, entrystop=877437, fileuuid=b'P\\x19\\xa0F\\x97k\\x11\\xec\\xbed7\\xbe\\xe1\\x83\\xbe\\xef', usermeta={})\n",
      "  warnings.warn(str(e))\n"
     ]
    },
    {
     "name": "stdout",
     "output_type": "stream",
     "text": [
      "Lenght of events  97493 length of weights  97493\n",
      "IOV  2016 , era  Run2016E\n"
     ]
    },
    {
     "name": "stderr",
     "output_type": "stream",
     "text": [
      "/opt/conda/lib/python3.8/site-packages/coffea/processor/executor.py:1345: UserWarning: Failed processing file: WorkItem(dataset='/JetHT/Run2016E-HIPM_UL2016_MiniAODv2_NanoAODv9-v2/NANOAOD', filename='root://cmsxrootd.fnal.gov//store/data/Run2016E/JetHT/NANOAOD/HIPM_UL2016_MiniAODv2_NanoAODv9-v2/40000/0402FC45-D69F-BE47-A2BF-10394485E06E.root', treename='Events', entrystart=877437, entrystop=974930, fileuuid=b'P\\x19\\xa0F\\x97k\\x11\\xec\\xbed7\\xbe\\xe1\\x83\\xbe\\xef', usermeta={})\n",
      "  warnings.warn(str(e))\n"
     ]
    },
    {
     "name": "stdout",
     "output_type": "stream",
     "text": [
      "Lenght of events  97493 length of weights  97493\n",
      "IOV  2016 , era  Run2016E\n"
     ]
    },
    {
     "name": "stderr",
     "output_type": "stream",
     "text": [
      "/opt/conda/lib/python3.8/site-packages/coffea/processor/executor.py:1345: UserWarning: Failed processing file: WorkItem(dataset='/JetHT/Run2016E-HIPM_UL2016_MiniAODv2_NanoAODv9-v2/NANOAOD', filename='root://cmsxrootd.fnal.gov//store/data/Run2016E/JetHT/NANOAOD/HIPM_UL2016_MiniAODv2_NanoAODv9-v2/40000/0402FC45-D69F-BE47-A2BF-10394485E06E.root', treename='Events', entrystart=974930, entrystop=1072423, fileuuid=b'P\\x19\\xa0F\\x97k\\x11\\xec\\xbed7\\xbe\\xe1\\x83\\xbe\\xef', usermeta={})\n",
      "  warnings.warn(str(e))\n"
     ]
    },
    {
     "name": "stdout",
     "output_type": "stream",
     "text": [
      "Lenght of events  97493 length of weights  97493\n",
      "IOV  2016 , era  Run2016E\n"
     ]
    },
    {
     "name": "stderr",
     "output_type": "stream",
     "text": [
      "/opt/conda/lib/python3.8/site-packages/coffea/processor/executor.py:1345: UserWarning: Failed processing file: WorkItem(dataset='/JetHT/Run2016E-HIPM_UL2016_MiniAODv2_NanoAODv9-v2/NANOAOD', filename='root://cmsxrootd.fnal.gov//store/data/Run2016E/JetHT/NANOAOD/HIPM_UL2016_MiniAODv2_NanoAODv9-v2/40000/0402FC45-D69F-BE47-A2BF-10394485E06E.root', treename='Events', entrystart=1072423, entrystop=1169916, fileuuid=b'P\\x19\\xa0F\\x97k\\x11\\xec\\xbed7\\xbe\\xe1\\x83\\xbe\\xef', usermeta={})\n",
      "  warnings.warn(str(e))\n"
     ]
    },
    {
     "name": "stdout",
     "output_type": "stream",
     "text": [
      "Lenght of events  97493 length of weights  97493\n",
      "IOV  2016 , era  Run2016E\n"
     ]
    },
    {
     "name": "stderr",
     "output_type": "stream",
     "text": [
      "/opt/conda/lib/python3.8/site-packages/coffea/processor/executor.py:1345: UserWarning: Failed processing file: WorkItem(dataset='/JetHT/Run2016E-HIPM_UL2016_MiniAODv2_NanoAODv9-v2/NANOAOD', filename='root://cmsxrootd.fnal.gov//store/data/Run2016E/JetHT/NANOAOD/HIPM_UL2016_MiniAODv2_NanoAODv9-v2/40000/0402FC45-D69F-BE47-A2BF-10394485E06E.root', treename='Events', entrystart=1169916, entrystop=1267409, fileuuid=b'P\\x19\\xa0F\\x97k\\x11\\xec\\xbed7\\xbe\\xe1\\x83\\xbe\\xef', usermeta={})\n",
      "  warnings.warn(str(e))\n"
     ]
    },
    {
     "name": "stdout",
     "output_type": "stream",
     "text": [
      "Lenght of events  97493 length of weights  97493\n",
      "IOV  2016 , era  Run2016E\n"
     ]
    },
    {
     "name": "stderr",
     "output_type": "stream",
     "text": [
      "/opt/conda/lib/python3.8/site-packages/coffea/processor/executor.py:1345: UserWarning: Failed processing file: WorkItem(dataset='/JetHT/Run2016E-HIPM_UL2016_MiniAODv2_NanoAODv9-v2/NANOAOD', filename='root://cmsxrootd.fnal.gov//store/data/Run2016E/JetHT/NANOAOD/HIPM_UL2016_MiniAODv2_NanoAODv9-v2/40000/0402FC45-D69F-BE47-A2BF-10394485E06E.root', treename='Events', entrystart=1267409, entrystop=1364902, fileuuid=b'P\\x19\\xa0F\\x97k\\x11\\xec\\xbed7\\xbe\\xe1\\x83\\xbe\\xef', usermeta={})\n",
      "  warnings.warn(str(e))\n"
     ]
    },
    {
     "name": "stdout",
     "output_type": "stream",
     "text": [
      "Lenght of events  97493 length of weights  97493\n",
      "IOV  2016 , era  Run2016E\n"
     ]
    },
    {
     "name": "stderr",
     "output_type": "stream",
     "text": [
      "/opt/conda/lib/python3.8/site-packages/coffea/processor/executor.py:1345: UserWarning: Failed processing file: WorkItem(dataset='/JetHT/Run2016E-HIPM_UL2016_MiniAODv2_NanoAODv9-v2/NANOAOD', filename='root://cmsxrootd.fnal.gov//store/data/Run2016E/JetHT/NANOAOD/HIPM_UL2016_MiniAODv2_NanoAODv9-v2/40000/0402FC45-D69F-BE47-A2BF-10394485E06E.root', treename='Events', entrystart=1364902, entrystop=1462395, fileuuid=b'P\\x19\\xa0F\\x97k\\x11\\xec\\xbed7\\xbe\\xe1\\x83\\xbe\\xef', usermeta={})\n",
      "  warnings.warn(str(e))\n"
     ]
    },
    {
     "name": "stdout",
     "output_type": "stream",
     "text": [
      "Lenght of events  97493 length of weights  97493\n",
      "IOV  2016 , era  Run2016E\n"
     ]
    },
    {
     "name": "stderr",
     "output_type": "stream",
     "text": [
      "/opt/conda/lib/python3.8/site-packages/coffea/processor/executor.py:1345: UserWarning: Failed processing file: WorkItem(dataset='/JetHT/Run2016E-HIPM_UL2016_MiniAODv2_NanoAODv9-v2/NANOAOD', filename='root://cmsxrootd.fnal.gov//store/data/Run2016E/JetHT/NANOAOD/HIPM_UL2016_MiniAODv2_NanoAODv9-v2/40000/0402FC45-D69F-BE47-A2BF-10394485E06E.root', treename='Events', entrystart=1462395, entrystop=1559888, fileuuid=b'P\\x19\\xa0F\\x97k\\x11\\xec\\xbed7\\xbe\\xe1\\x83\\xbe\\xef', usermeta={})\n",
      "  warnings.warn(str(e))\n"
     ]
    },
    {
     "name": "stdout",
     "output_type": "stream",
     "text": [
      "Lenght of events  97493 length of weights  97493\n",
      "IOV  2016 , era  Run2016E\n"
     ]
    },
    {
     "name": "stderr",
     "output_type": "stream",
     "text": [
      "/opt/conda/lib/python3.8/site-packages/coffea/processor/executor.py:1345: UserWarning: Failed processing file: WorkItem(dataset='/JetHT/Run2016E-HIPM_UL2016_MiniAODv2_NanoAODv9-v2/NANOAOD', filename='root://cmsxrootd.fnal.gov//store/data/Run2016E/JetHT/NANOAOD/HIPM_UL2016_MiniAODv2_NanoAODv9-v2/40000/0402FC45-D69F-BE47-A2BF-10394485E06E.root', treename='Events', entrystart=1559888, entrystop=1657381, fileuuid=b'P\\x19\\xa0F\\x97k\\x11\\xec\\xbed7\\xbe\\xe1\\x83\\xbe\\xef', usermeta={})\n",
      "  warnings.warn(str(e))\n"
     ]
    },
    {
     "name": "stdout",
     "output_type": "stream",
     "text": [
      "Lenght of events  97492 length of weights  97492\n",
      "IOV  2016 , era  Run2016E\n"
     ]
    },
    {
     "name": "stderr",
     "output_type": "stream",
     "text": [
      "/opt/conda/lib/python3.8/site-packages/coffea/processor/executor.py:1345: UserWarning: Failed processing file: WorkItem(dataset='/JetHT/Run2016E-HIPM_UL2016_MiniAODv2_NanoAODv9-v2/NANOAOD', filename='root://cmsxrootd.fnal.gov//store/data/Run2016E/JetHT/NANOAOD/HIPM_UL2016_MiniAODv2_NanoAODv9-v2/40000/0402FC45-D69F-BE47-A2BF-10394485E06E.root', treename='Events', entrystart=1657381, entrystop=1754873, fileuuid=b'P\\x19\\xa0F\\x97k\\x11\\xec\\xbed7\\xbe\\xe1\\x83\\xbe\\xef', usermeta={})\n",
      "  warnings.warn(str(e))\n"
     ]
    },
    {
     "name": "stdout",
     "output_type": "stream",
     "text": [
      "Lenght of events  118661 length of weights  118661\n",
      "IOV  2016 , era  Run2016D\n"
     ]
    },
    {
     "name": "stderr",
     "output_type": "stream",
     "text": [
      "/opt/conda/lib/python3.8/site-packages/coffea/processor/executor.py:1345: UserWarning: Failed processing file: WorkItem(dataset='/JetHT/Run2016D-HIPM_UL2016_MiniAODv2_NanoAODv9-v2/NANOAOD', filename='root://cmsxrootd.fnal.gov//store/data/Run2016D/JetHT/NANOAOD/HIPM_UL2016_MiniAODv2_NanoAODv9-v2/2530000/02EFEC13-DA57-FC46-BB68-42C528B5D6E6.root', treename='Events', entrystart=0, entrystop=118661, fileuuid=b'\\x0c\\x166\\x86\\x97\\xbe\\x11\\xec\\x88c\\xf0\\xb4\\\\\\x90\\xbe\\xef', usermeta={})\n",
      "  warnings.warn(str(e))\n"
     ]
    },
    {
     "name": "stdout",
     "output_type": "stream",
     "text": [
      "Lenght of events  118661 length of weights  118661\n",
      "IOV  2016 , era  Run2016D\n"
     ]
    },
    {
     "name": "stderr",
     "output_type": "stream",
     "text": [
      "/opt/conda/lib/python3.8/site-packages/coffea/processor/executor.py:1345: UserWarning: Failed processing file: WorkItem(dataset='/JetHT/Run2016D-HIPM_UL2016_MiniAODv2_NanoAODv9-v2/NANOAOD', filename='root://cmsxrootd.fnal.gov//store/data/Run2016D/JetHT/NANOAOD/HIPM_UL2016_MiniAODv2_NanoAODv9-v2/2530000/02EFEC13-DA57-FC46-BB68-42C528B5D6E6.root', treename='Events', entrystart=118661, entrystop=237322, fileuuid=b'\\x0c\\x166\\x86\\x97\\xbe\\x11\\xec\\x88c\\xf0\\xb4\\\\\\x90\\xbe\\xef', usermeta={})\n",
      "  warnings.warn(str(e))\n"
     ]
    },
    {
     "name": "stdout",
     "output_type": "stream",
     "text": [
      "Lenght of events  117082 length of weights  117082\n",
      "IOV  2016 , era  Run2016C\n"
     ]
    },
    {
     "name": "stderr",
     "output_type": "stream",
     "text": [
      "/opt/conda/lib/python3.8/site-packages/coffea/processor/executor.py:1345: UserWarning: Failed processing file: WorkItem(dataset='/JetHT/Run2016C-HIPM_UL2016_MiniAODv2_NanoAODv9-v2/NANOAOD', filename='root://cmsxrootd.fnal.gov//store/data/Run2016C/JetHT/NANOAOD/HIPM_UL2016_MiniAODv2_NanoAODv9-v2/2530000/0F3689AF-ADA7-E74A-8BAC-0F04F335F1F7.root', treename='Events', entrystart=0, entrystop=117082, fileuuid=b']!\\xba\\xfc\\x984\\x11\\xec\\x8b\\xf5\\xd4\\x96\\x9e\\x86\\xbe\\xef', usermeta={})\n",
      "  warnings.warn(str(e))\n"
     ]
    },
    {
     "name": "stdout",
     "output_type": "stream",
     "text": [
      "Lenght of events  117082 length of weights  117082\n",
      "IOV  2016 , era  Run2016C\n"
     ]
    },
    {
     "name": "stderr",
     "output_type": "stream",
     "text": [
      "/opt/conda/lib/python3.8/site-packages/coffea/processor/executor.py:1345: UserWarning: Failed processing file: WorkItem(dataset='/JetHT/Run2016C-HIPM_UL2016_MiniAODv2_NanoAODv9-v2/NANOAOD', filename='root://cmsxrootd.fnal.gov//store/data/Run2016C/JetHT/NANOAOD/HIPM_UL2016_MiniAODv2_NanoAODv9-v2/2530000/0F3689AF-ADA7-E74A-8BAC-0F04F335F1F7.root', treename='Events', entrystart=117082, entrystop=234164, fileuuid=b']!\\xba\\xfc\\x984\\x11\\xec\\x8b\\xf5\\xd4\\x96\\x9e\\x86\\xbe\\xef', usermeta={})\n",
      "  warnings.warn(str(e))\n"
     ]
    },
    {
     "name": "stdout",
     "output_type": "stream",
     "text": [
      "Lenght of events  98732 length of weights  98732\n",
      "IOV  2016 , era  Run2016B\n"
     ]
    },
    {
     "name": "stderr",
     "output_type": "stream",
     "text": [
      "/opt/conda/lib/python3.8/site-packages/coffea/processor/executor.py:1345: UserWarning: Failed processing file: WorkItem(dataset='/JetHT/Run2016B-ver2_HIPM_UL2016_MiniAODv2_NanoAODv9-v2/NANOAOD', filename='root://cmsxrootd.fnal.gov//store/data/Run2016B/JetHT/NANOAOD/ver2_HIPM_UL2016_MiniAODv2_NanoAODv9-v2/2520000/01B677EC-4D6C-FB45-BD57-C99F3812767F.root', treename='Events', entrystart=0, entrystop=98732, fileuuid=b\"\\x88\\xe8'\\x94\\x97u\\x11\\xec\\x92qI$l\\x8d\\xbe\\xef\", usermeta={})\n",
      "  warnings.warn(str(e))\n"
     ]
    },
    {
     "name": "stdout",
     "output_type": "stream",
     "text": [
      "Lenght of events  98732 length of weights  98732\n",
      "IOV  2016 , era  Run2016B\n"
     ]
    },
    {
     "name": "stderr",
     "output_type": "stream",
     "text": [
      "/opt/conda/lib/python3.8/site-packages/coffea/processor/executor.py:1345: UserWarning: Failed processing file: WorkItem(dataset='/JetHT/Run2016B-ver2_HIPM_UL2016_MiniAODv2_NanoAODv9-v2/NANOAOD', filename='root://cmsxrootd.fnal.gov//store/data/Run2016B/JetHT/NANOAOD/ver2_HIPM_UL2016_MiniAODv2_NanoAODv9-v2/2520000/01B677EC-4D6C-FB45-BD57-C99F3812767F.root', treename='Events', entrystart=98732, entrystop=197464, fileuuid=b\"\\x88\\xe8'\\x94\\x97u\\x11\\xec\\x92qI$l\\x8d\\xbe\\xef\", usermeta={})\n",
      "  warnings.warn(str(e))\n"
     ]
    },
    {
     "name": "stdout",
     "output_type": "stream",
     "text": [
      "Lenght of events  98732 length of weights  98732\n",
      "IOV  2016 , era  Run2016B\n"
     ]
    },
    {
     "name": "stderr",
     "output_type": "stream",
     "text": [
      "/opt/conda/lib/python3.8/site-packages/coffea/processor/executor.py:1345: UserWarning: Failed processing file: WorkItem(dataset='/JetHT/Run2016B-ver2_HIPM_UL2016_MiniAODv2_NanoAODv9-v2/NANOAOD', filename='root://cmsxrootd.fnal.gov//store/data/Run2016B/JetHT/NANOAOD/ver2_HIPM_UL2016_MiniAODv2_NanoAODv9-v2/2520000/01B677EC-4D6C-FB45-BD57-C99F3812767F.root', treename='Events', entrystart=197464, entrystop=296196, fileuuid=b\"\\x88\\xe8'\\x94\\x97u\\x11\\xec\\x92qI$l\\x8d\\xbe\\xef\", usermeta={})\n",
      "  warnings.warn(str(e))\n"
     ]
    },
    {
     "name": "stdout",
     "output_type": "stream",
     "text": [
      "Lenght of events  98732 length of weights  98732\n",
      "IOV  2016 , era  Run2016B\n"
     ]
    },
    {
     "name": "stderr",
     "output_type": "stream",
     "text": [
      "/opt/conda/lib/python3.8/site-packages/coffea/processor/executor.py:1345: UserWarning: Failed processing file: WorkItem(dataset='/JetHT/Run2016B-ver2_HIPM_UL2016_MiniAODv2_NanoAODv9-v2/NANOAOD', filename='root://cmsxrootd.fnal.gov//store/data/Run2016B/JetHT/NANOAOD/ver2_HIPM_UL2016_MiniAODv2_NanoAODv9-v2/2520000/01B677EC-4D6C-FB45-BD57-C99F3812767F.root', treename='Events', entrystart=296196, entrystop=394928, fileuuid=b\"\\x88\\xe8'\\x94\\x97u\\x11\\xec\\x92qI$l\\x8d\\xbe\\xef\", usermeta={})\n",
      "  warnings.warn(str(e))\n"
     ]
    },
    {
     "name": "stdout",
     "output_type": "stream",
     "text": [
      "Lenght of events  98732 length of weights  98732\n",
      "IOV  2016 , era  Run2016B\n"
     ]
    },
    {
     "name": "stderr",
     "output_type": "stream",
     "text": [
      "/opt/conda/lib/python3.8/site-packages/coffea/processor/executor.py:1345: UserWarning: Failed processing file: WorkItem(dataset='/JetHT/Run2016B-ver2_HIPM_UL2016_MiniAODv2_NanoAODv9-v2/NANOAOD', filename='root://cmsxrootd.fnal.gov//store/data/Run2016B/JetHT/NANOAOD/ver2_HIPM_UL2016_MiniAODv2_NanoAODv9-v2/2520000/01B677EC-4D6C-FB45-BD57-C99F3812767F.root', treename='Events', entrystart=394928, entrystop=493660, fileuuid=b\"\\x88\\xe8'\\x94\\x97u\\x11\\xec\\x92qI$l\\x8d\\xbe\\xef\", usermeta={})\n",
      "  warnings.warn(str(e))\n"
     ]
    },
    {
     "name": "stdout",
     "output_type": "stream",
     "text": [
      "Lenght of events  98732 length of weights  98732\n",
      "IOV  2016 , era  Run2016B\n"
     ]
    },
    {
     "name": "stderr",
     "output_type": "stream",
     "text": [
      "/opt/conda/lib/python3.8/site-packages/coffea/processor/executor.py:1345: UserWarning: Failed processing file: WorkItem(dataset='/JetHT/Run2016B-ver2_HIPM_UL2016_MiniAODv2_NanoAODv9-v2/NANOAOD', filename='root://cmsxrootd.fnal.gov//store/data/Run2016B/JetHT/NANOAOD/ver2_HIPM_UL2016_MiniAODv2_NanoAODv9-v2/2520000/01B677EC-4D6C-FB45-BD57-C99F3812767F.root', treename='Events', entrystart=493660, entrystop=592392, fileuuid=b\"\\x88\\xe8'\\x94\\x97u\\x11\\xec\\x92qI$l\\x8d\\xbe\\xef\", usermeta={})\n",
      "  warnings.warn(str(e))\n"
     ]
    },
    {
     "name": "stdout",
     "output_type": "stream",
     "text": [
      "Lenght of events  98732 length of weights  98732\n",
      "IOV  2016 , era  Run2016B\n"
     ]
    },
    {
     "name": "stderr",
     "output_type": "stream",
     "text": [
      "/opt/conda/lib/python3.8/site-packages/coffea/processor/executor.py:1345: UserWarning: Failed processing file: WorkItem(dataset='/JetHT/Run2016B-ver2_HIPM_UL2016_MiniAODv2_NanoAODv9-v2/NANOAOD', filename='root://cmsxrootd.fnal.gov//store/data/Run2016B/JetHT/NANOAOD/ver2_HIPM_UL2016_MiniAODv2_NanoAODv9-v2/2520000/01B677EC-4D6C-FB45-BD57-C99F3812767F.root', treename='Events', entrystart=592392, entrystop=691124, fileuuid=b\"\\x88\\xe8'\\x94\\x97u\\x11\\xec\\x92qI$l\\x8d\\xbe\\xef\", usermeta={})\n",
      "  warnings.warn(str(e))\n"
     ]
    },
    {
     "name": "stdout",
     "output_type": "stream",
     "text": [
      "Lenght of events  98732 length of weights  98732\n",
      "IOV  2016 , era  Run2016B\n"
     ]
    },
    {
     "name": "stderr",
     "output_type": "stream",
     "text": [
      "/opt/conda/lib/python3.8/site-packages/coffea/processor/executor.py:1345: UserWarning: Failed processing file: WorkItem(dataset='/JetHT/Run2016B-ver2_HIPM_UL2016_MiniAODv2_NanoAODv9-v2/NANOAOD', filename='root://cmsxrootd.fnal.gov//store/data/Run2016B/JetHT/NANOAOD/ver2_HIPM_UL2016_MiniAODv2_NanoAODv9-v2/2520000/01B677EC-4D6C-FB45-BD57-C99F3812767F.root', treename='Events', entrystart=691124, entrystop=789856, fileuuid=b\"\\x88\\xe8'\\x94\\x97u\\x11\\xec\\x92qI$l\\x8d\\xbe\\xef\", usermeta={})\n",
      "  warnings.warn(str(e))\n"
     ]
    },
    {
     "name": "stdout",
     "output_type": "stream",
     "text": [
      "Lenght of events  98732 length of weights  98732\n",
      "IOV  2016 , era  Run2016B\n"
     ]
    },
    {
     "name": "stderr",
     "output_type": "stream",
     "text": [
      "/opt/conda/lib/python3.8/site-packages/coffea/processor/executor.py:1345: UserWarning: Failed processing file: WorkItem(dataset='/JetHT/Run2016B-ver2_HIPM_UL2016_MiniAODv2_NanoAODv9-v2/NANOAOD', filename='root://cmsxrootd.fnal.gov//store/data/Run2016B/JetHT/NANOAOD/ver2_HIPM_UL2016_MiniAODv2_NanoAODv9-v2/2520000/01B677EC-4D6C-FB45-BD57-C99F3812767F.root', treename='Events', entrystart=789856, entrystop=888588, fileuuid=b\"\\x88\\xe8'\\x94\\x97u\\x11\\xec\\x92qI$l\\x8d\\xbe\\xef\", usermeta={})\n",
      "  warnings.warn(str(e))\n"
     ]
    },
    {
     "name": "stdout",
     "output_type": "stream",
     "text": [
      "Lenght of events  98732 length of weights  98732\n",
      "IOV  2016 , era  Run2016B\n"
     ]
    },
    {
     "name": "stderr",
     "output_type": "stream",
     "text": [
      "/opt/conda/lib/python3.8/site-packages/coffea/processor/executor.py:1345: UserWarning: Failed processing file: WorkItem(dataset='/JetHT/Run2016B-ver2_HIPM_UL2016_MiniAODv2_NanoAODv9-v2/NANOAOD', filename='root://cmsxrootd.fnal.gov//store/data/Run2016B/JetHT/NANOAOD/ver2_HIPM_UL2016_MiniAODv2_NanoAODv9-v2/2520000/01B677EC-4D6C-FB45-BD57-C99F3812767F.root', treename='Events', entrystart=888588, entrystop=987320, fileuuid=b\"\\x88\\xe8'\\x94\\x97u\\x11\\xec\\x92qI$l\\x8d\\xbe\\xef\", usermeta={})\n",
      "  warnings.warn(str(e))\n"
     ]
    },
    {
     "name": "stdout",
     "output_type": "stream",
     "text": [
      "Lenght of events  98732 length of weights  98732\n",
      "IOV  2016 , era  Run2016B\n"
     ]
    },
    {
     "name": "stderr",
     "output_type": "stream",
     "text": [
      "/opt/conda/lib/python3.8/site-packages/coffea/processor/executor.py:1345: UserWarning: Failed processing file: WorkItem(dataset='/JetHT/Run2016B-ver2_HIPM_UL2016_MiniAODv2_NanoAODv9-v2/NANOAOD', filename='root://cmsxrootd.fnal.gov//store/data/Run2016B/JetHT/NANOAOD/ver2_HIPM_UL2016_MiniAODv2_NanoAODv9-v2/2520000/01B677EC-4D6C-FB45-BD57-C99F3812767F.root', treename='Events', entrystart=987320, entrystop=1086052, fileuuid=b\"\\x88\\xe8'\\x94\\x97u\\x11\\xec\\x92qI$l\\x8d\\xbe\\xef\", usermeta={})\n",
      "  warnings.warn(str(e))\n"
     ]
    },
    {
     "name": "stdout",
     "output_type": "stream",
     "text": [
      "Lenght of events  98732 length of weights  98732\n",
      "IOV  2016 , era  Run2016B\n"
     ]
    },
    {
     "name": "stderr",
     "output_type": "stream",
     "text": [
      "/opt/conda/lib/python3.8/site-packages/coffea/processor/executor.py:1345: UserWarning: Failed processing file: WorkItem(dataset='/JetHT/Run2016B-ver2_HIPM_UL2016_MiniAODv2_NanoAODv9-v2/NANOAOD', filename='root://cmsxrootd.fnal.gov//store/data/Run2016B/JetHT/NANOAOD/ver2_HIPM_UL2016_MiniAODv2_NanoAODv9-v2/2520000/01B677EC-4D6C-FB45-BD57-C99F3812767F.root', treename='Events', entrystart=1086052, entrystop=1184784, fileuuid=b\"\\x88\\xe8'\\x94\\x97u\\x11\\xec\\x92qI$l\\x8d\\xbe\\xef\", usermeta={})\n",
      "  warnings.warn(str(e))\n"
     ]
    },
    {
     "name": "stdout",
     "output_type": "stream",
     "text": [
      "Lenght of events  98726 length of weights  98726\n",
      "IOV  2016 , era  Run2016B\n"
     ]
    },
    {
     "name": "stderr",
     "output_type": "stream",
     "text": [
      "/opt/conda/lib/python3.8/site-packages/coffea/processor/executor.py:1345: UserWarning: Failed processing file: WorkItem(dataset='/JetHT/Run2016B-ver2_HIPM_UL2016_MiniAODv2_NanoAODv9-v2/NANOAOD', filename='root://cmsxrootd.fnal.gov//store/data/Run2016B/JetHT/NANOAOD/ver2_HIPM_UL2016_MiniAODv2_NanoAODv9-v2/2520000/01B677EC-4D6C-FB45-BD57-C99F3812767F.root', treename='Events', entrystart=1184784, entrystop=1283510, fileuuid=b\"\\x88\\xe8'\\x94\\x97u\\x11\\xec\\x92qI$l\\x8d\\xbe\\xef\", usermeta={})\n",
      "  warnings.warn(str(e))\n"
     ]
    },
    {
     "name": "stdout",
     "output_type": "stream",
     "text": [
      "Lenght of events  91367 length of weights  91367\n",
      "IOV  2016 , era  Run2016B\n"
     ]
    },
    {
     "name": "stderr",
     "output_type": "stream",
     "text": [
      "/opt/conda/lib/python3.8/site-packages/coffea/processor/executor.py:1345: UserWarning: Failed processing file: WorkItem(dataset='/JetHT/Run2016B-ver1_HIPM_UL2016_MiniAODv2_NanoAODv9-v2/NANOAOD', filename='root://cmsxrootd.fnal.gov//store/data/Run2016B/JetHT/NANOAOD/ver1_HIPM_UL2016_MiniAODv2_NanoAODv9-v2/2430000/341EF3A8-3C77-8C4F-A0F6-A71CCB9FAF37.root', treename='Events', entrystart=0, entrystop=91367, fileuuid=b'\\xc2\\xab\\x10\\xca\\x98\\x12\\x11\\xec\\xb6\\x02\\xe8\\x82\\xe4\\xa9\\xbe\\xef', usermeta={})\n",
      "  warnings.warn(str(e))\n"
     ]
    },
    {
     "name": "stdout",
     "output_type": "stream",
     "text": [
      "Lenght of events  91367 length of weights  91367\n",
      "IOV  2016 , era  Run2016B\n"
     ]
    },
    {
     "name": "stderr",
     "output_type": "stream",
     "text": [
      "/opt/conda/lib/python3.8/site-packages/coffea/processor/executor.py:1345: UserWarning: Failed processing file: WorkItem(dataset='/JetHT/Run2016B-ver1_HIPM_UL2016_MiniAODv2_NanoAODv9-v2/NANOAOD', filename='root://cmsxrootd.fnal.gov//store/data/Run2016B/JetHT/NANOAOD/ver1_HIPM_UL2016_MiniAODv2_NanoAODv9-v2/2430000/341EF3A8-3C77-8C4F-A0F6-A71CCB9FAF37.root', treename='Events', entrystart=91367, entrystop=182734, fileuuid=b'\\xc2\\xab\\x10\\xca\\x98\\x12\\x11\\xec\\xb6\\x02\\xe8\\x82\\xe4\\xa9\\xbe\\xef', usermeta={})\n",
      "  warnings.warn(str(e))\n"
     ]
    },
    {
     "name": "stdout",
     "output_type": "stream",
     "text": [
      "Lenght of events  91367 length of weights  91367\n",
      "IOV  2016 , era  Run2016B\n"
     ]
    },
    {
     "name": "stderr",
     "output_type": "stream",
     "text": [
      "/opt/conda/lib/python3.8/site-packages/coffea/processor/executor.py:1345: UserWarning: Failed processing file: WorkItem(dataset='/JetHT/Run2016B-ver1_HIPM_UL2016_MiniAODv2_NanoAODv9-v2/NANOAOD', filename='root://cmsxrootd.fnal.gov//store/data/Run2016B/JetHT/NANOAOD/ver1_HIPM_UL2016_MiniAODv2_NanoAODv9-v2/2430000/341EF3A8-3C77-8C4F-A0F6-A71CCB9FAF37.root', treename='Events', entrystart=182734, entrystop=274101, fileuuid=b'\\xc2\\xab\\x10\\xca\\x98\\x12\\x11\\xec\\xb6\\x02\\xe8\\x82\\xe4\\xa9\\xbe\\xef', usermeta={})\n",
      "  warnings.warn(str(e))\n"
     ]
    },
    {
     "name": "stdout",
     "output_type": "stream",
     "text": [
      "Lenght of events  91365 length of weights  91365\n",
      "IOV  2016 , era  Run2016B\n"
     ]
    },
    {
     "name": "stderr",
     "output_type": "stream",
     "text": [
      "/opt/conda/lib/python3.8/site-packages/coffea/processor/executor.py:1345: UserWarning: Failed processing file: WorkItem(dataset='/JetHT/Run2016B-ver1_HIPM_UL2016_MiniAODv2_NanoAODv9-v2/NANOAOD', filename='root://cmsxrootd.fnal.gov//store/data/Run2016B/JetHT/NANOAOD/ver1_HIPM_UL2016_MiniAODv2_NanoAODv9-v2/2430000/341EF3A8-3C77-8C4F-A0F6-A71CCB9FAF37.root', treename='Events', entrystart=274101, entrystop=365466, fileuuid=b'\\xc2\\xab\\x10\\xca\\x98\\x12\\x11\\xec\\xb6\\x02\\xe8\\x82\\xe4\\xa9\\xbe\\xef', usermeta={})\n",
      "  warnings.warn(str(e))\n"
     ]
    },
    {
     "ename": "KeyboardInterrupt",
     "evalue": "",
     "output_type": "error",
     "traceback": [
      "\u001b[0;31m---------------------------------------------------------------------------\u001b[0m",
      "\u001b[0;31mKeyboardInterrupt\u001b[0m                         Traceback (most recent call last)",
      "Cell \u001b[0;32mIn[3], line 18\u001b[0m\n\u001b[1;32m     16\u001b[0m     filename \u001b[38;5;241m=\u001b[39m \u001b[38;5;124m\"\u001b[39m\u001b[38;5;124mdatasets_UL_NANOAOD.json\u001b[39m\u001b[38;5;124m\"\u001b[39m\n\u001b[1;32m     17\u001b[0m fname \u001b[38;5;241m=\u001b[39m \u001b[38;5;124m'\u001b[39m\u001b[38;5;124mcoffeaOutput/dijetHists_\u001b[39m\u001b[38;5;132;01m{}\u001b[39;00m\u001b[38;5;124m_\u001b[39m\u001b[38;5;132;01m{}\u001b[39;00m\u001b[38;5;124m_\u001b[39m\u001b[38;5;132;01m{}\u001b[39;00m\u001b[38;5;124m_NewHist.pkl\u001b[39m\u001b[38;5;124m'\u001b[39m\u001b[38;5;241m.\u001b[39mformat(datastring, processor\u001b[38;5;241m.\u001b[39mptcut, processor\u001b[38;5;241m.\u001b[39metacut)\n\u001b[0;32m---> 18\u001b[0m result \u001b[38;5;241m=\u001b[39m \u001b[43mrunCoffeaJob\u001b[49m\u001b[43m(\u001b[49m\u001b[43mprocessor\u001b[49m\u001b[43m,\u001b[49m\u001b[43m \u001b[49m\u001b[43mjsonFile\u001b[49m\u001b[43m \u001b[49m\u001b[38;5;241;43m=\u001b[39;49m\u001b[43m \u001b[49m\u001b[43mfilename\u001b[49m\u001b[43m,\u001b[49m\u001b[43m \u001b[49m\u001b[43mwinterfell\u001b[49m\u001b[43m \u001b[49m\u001b[38;5;241;43m=\u001b[39;49m\u001b[43m \u001b[49m\u001b[43mwinterfell\u001b[49m\u001b[43m,\u001b[49m\u001b[43m \u001b[49m\u001b[43mtesting\u001b[49m\u001b[43m \u001b[49m\u001b[38;5;241;43m=\u001b[39;49m\u001b[43m \u001b[49m\u001b[38;5;28;43;01mTrue\u001b[39;49;00m\u001b[43m,\u001b[49m\u001b[43m \u001b[49m\u001b[43mdata\u001b[49m\u001b[43m \u001b[49m\u001b[38;5;241;43m=\u001b[39;49m\u001b[43m \u001b[49m\u001b[38;5;129;43;01mnot\u001b[39;49;00m\u001b[43m \u001b[49m\u001b[43mprocessor\u001b[49m\u001b[38;5;241;43m.\u001b[39;49m\u001b[43mdo_gen\u001b[49m\u001b[43m)\u001b[49m\n\u001b[1;32m     19\u001b[0m \u001b[38;5;28;01mwith\u001b[39;00m \u001b[38;5;28mopen\u001b[39m(fname, \u001b[38;5;124m\"\u001b[39m\u001b[38;5;124mwb\u001b[39m\u001b[38;5;124m\"\u001b[39m) \u001b[38;5;28;01mas\u001b[39;00m f:\n\u001b[1;32m     20\u001b[0m     pickle\u001b[38;5;241m.\u001b[39mdump( result, f)\n",
      "File \u001b[0;32m/srv/plugins.py:121\u001b[0m, in \u001b[0;36mrunCoffeaJob\u001b[0;34m(processor_inst, jsonFile, dask, casa, testing, year, data, winterfell)\u001b[0m\n\u001b[1;32m    117\u001b[0m     \u001b[38;5;28mprint\u001b[39m(\u001b[38;5;124m\"\u001b[39m\u001b[38;5;124mRunning locally\u001b[39m\u001b[38;5;124m\"\u001b[39m)\n\u001b[1;32m    118\u001b[0m \u001b[38;5;66;03m# samples = {'/JetHT/Run2018A-UL2018_MiniAODv2_NanoAODv9-v2/NANOAOD': ['root://xcache//store/data/Run2018A/JetHT/NANOAOD/UL2018_MiniAODv2_NanoAODv9-v2/100000/00AA9A90-57AA-D147-B4FA-54D6D8DA0D4A.root']}\u001b[39;00m\n\u001b[1;32m    119\u001b[0m \u001b[38;5;66;03m# samples = {'/QCD_Pt_1800to2400_TuneCP5_13TeV_pythia8/RunIISummer20UL17NanoAODv9-106X_mc2017_realistic_v9-v1/NANOAODSIM': ['root://xcache//store/mc/RunIISummer20UL17NanoAODv9/QCD_Pt_1800to2400_TuneCP5_13TeV_pythia8/NANOAODSIM/106X_mc2017_realistic_v9-v1/270000/00DD1153-F006-3446-ABBC-7CA23A020566.root']}\u001b[39;00m\n\u001b[1;32m    120\u001b[0m \u001b[38;5;66;03m# print(\"Samples = \", samples, \" executor = \", executor)\u001b[39;00m\n\u001b[0;32m--> 121\u001b[0m result \u001b[38;5;241m=\u001b[39m \u001b[43mprocessor\u001b[49m\u001b[38;5;241;43m.\u001b[39;49m\u001b[43mrun_uproot_job\u001b[49m\u001b[43m(\u001b[49m\u001b[43msamples\u001b[49m\u001b[43m,\u001b[49m\n\u001b[1;32m    122\u001b[0m \u001b[43m                                  \u001b[49m\u001b[38;5;124;43m\"\u001b[39;49m\u001b[38;5;124;43mEvents\u001b[39;49m\u001b[38;5;124;43m\"\u001b[39;49m\u001b[43m,\u001b[49m\n\u001b[1;32m    123\u001b[0m \u001b[43m                                  \u001b[49m\u001b[43mprocessor_instance\u001b[49m\u001b[43m \u001b[49m\u001b[38;5;241;43m=\u001b[39;49m\u001b[43m \u001b[49m\u001b[43mprocessor_inst\u001b[49m\u001b[43m,\u001b[49m\n\u001b[1;32m    124\u001b[0m \u001b[43m                                  \u001b[49m\u001b[43mexecutor\u001b[49m\u001b[43m \u001b[49m\u001b[38;5;241;43m=\u001b[39;49m\u001b[43m \u001b[49m\u001b[43mexecutor\u001b[49m\u001b[43m,\u001b[49m\n\u001b[1;32m    125\u001b[0m \u001b[43m                                  \u001b[49m\u001b[43mexecutor_args\u001b[49m\u001b[43m \u001b[49m\u001b[38;5;241;43m=\u001b[39;49m\u001b[43m \u001b[49m\u001b[43mexe_args\u001b[49m\u001b[43m,\u001b[49m\n\u001b[1;32m    126\u001b[0m \u001b[43m                                 \u001b[49m\u001b[43m)\u001b[49m\n\u001b[1;32m    127\u001b[0m elapsed \u001b[38;5;241m=\u001b[39m time\u001b[38;5;241m.\u001b[39mtime() \u001b[38;5;241m-\u001b[39m tstart\n\u001b[1;32m    128\u001b[0m \u001b[38;5;28mprint\u001b[39m(result)\n",
      "File \u001b[0;32m/opt/conda/lib/python3.8/site-packages/coffea/processor/__init__.py:104\u001b[0m, in \u001b[0;36m_run_x_job\u001b[0;34m(fileset, treename, processor_instance, executor, executor_args, pre_executor, pre_args, chunksize, maxchunks, metadata_cache, dynamic_chunksize, format)\u001b[0m\n\u001b[1;32m     93\u001b[0m \u001b[38;5;66;03m# make Runner instance, assume other args are for _work_function & co.\u001b[39;00m\n\u001b[1;32m     94\u001b[0m run \u001b[38;5;241m=\u001b[39m Runner(\n\u001b[1;32m     95\u001b[0m     executor\u001b[38;5;241m=\u001b[39mexecutor,\n\u001b[1;32m     96\u001b[0m     chunksize\u001b[38;5;241m=\u001b[39mchunksize,\n\u001b[0;32m   (...)\u001b[0m\n\u001b[1;32m    101\u001b[0m     \u001b[38;5;241m*\u001b[39m\u001b[38;5;241m*\u001b[39mexecutor_args,\n\u001b[1;32m    102\u001b[0m )\n\u001b[0;32m--> 104\u001b[0m \u001b[38;5;28;01mreturn\u001b[39;00m \u001b[43mrun\u001b[49m\u001b[43m(\u001b[49m\n\u001b[1;32m    105\u001b[0m \u001b[43m    \u001b[49m\u001b[43mfileset\u001b[49m\u001b[43m,\u001b[49m\n\u001b[1;32m    106\u001b[0m \u001b[43m    \u001b[49m\u001b[43mtreename\u001b[49m\u001b[43m,\u001b[49m\n\u001b[1;32m    107\u001b[0m \u001b[43m    \u001b[49m\u001b[43mprocessor_instance\u001b[49m\u001b[38;5;241;43m=\u001b[39;49m\u001b[43mprocessor_instance\u001b[49m\u001b[43m,\u001b[49m\n\u001b[1;32m    108\u001b[0m \u001b[43m\u001b[49m\u001b[43m)\u001b[49m\n",
      "File \u001b[0;32m/opt/conda/lib/python3.8/site-packages/coffea/processor/executor.py:1700\u001b[0m, in \u001b[0;36mRunner.__call__\u001b[0;34m(self, fileset, treename, processor_instance)\u001b[0m\n\u001b[1;32m   1679\u001b[0m \u001b[38;5;28;01mdef\u001b[39;00m \u001b[38;5;21m__call__\u001b[39m(\n\u001b[1;32m   1680\u001b[0m     \u001b[38;5;28mself\u001b[39m,\n\u001b[1;32m   1681\u001b[0m     fileset: Dict,\n\u001b[1;32m   1682\u001b[0m     treename: \u001b[38;5;28mstr\u001b[39m,\n\u001b[1;32m   1683\u001b[0m     processor_instance: ProcessorABC,\n\u001b[1;32m   1684\u001b[0m ) \u001b[38;5;241m-\u001b[39m\u001b[38;5;241m>\u001b[39m Accumulatable:\n\u001b[1;32m   1685\u001b[0m \u001b[38;5;250m    \u001b[39m\u001b[38;5;124;03m\"\"\"Run the processor_instance on a given fileset\u001b[39;00m\n\u001b[1;32m   1686\u001b[0m \n\u001b[1;32m   1687\u001b[0m \u001b[38;5;124;03m    Parameters\u001b[39;00m\n\u001b[0;32m   (...)\u001b[0m\n\u001b[1;32m   1697\u001b[0m \u001b[38;5;124;03m            An instance of a class deriving from ProcessorABC\u001b[39;00m\n\u001b[1;32m   1698\u001b[0m \u001b[38;5;124;03m    \"\"\"\u001b[39;00m\n\u001b[0;32m-> 1700\u001b[0m     wrapped_out \u001b[38;5;241m=\u001b[39m \u001b[38;5;28;43mself\u001b[39;49m\u001b[38;5;241;43m.\u001b[39;49m\u001b[43mrun\u001b[49m\u001b[43m(\u001b[49m\u001b[43mfileset\u001b[49m\u001b[43m,\u001b[49m\u001b[43m \u001b[49m\u001b[43mprocessor_instance\u001b[49m\u001b[43m,\u001b[49m\u001b[43m \u001b[49m\u001b[43mtreename\u001b[49m\u001b[43m)\u001b[49m\n\u001b[1;32m   1701\u001b[0m     \u001b[38;5;28;01mif\u001b[39;00m \u001b[38;5;28mself\u001b[39m\u001b[38;5;241m.\u001b[39muse_dataframes:\n\u001b[1;32m   1702\u001b[0m         \u001b[38;5;28;01mreturn\u001b[39;00m wrapped_out  \u001b[38;5;66;03m# not wrapped anymore\u001b[39;00m\n",
      "File \u001b[0;32m/opt/conda/lib/python3.8/site-packages/coffea/processor/executor.py:1848\u001b[0m, in \u001b[0;36mRunner.run\u001b[0;34m(self, fileset, processor_instance, treename)\u001b[0m\n\u001b[1;32m   1843\u001b[0m closure \u001b[38;5;241m=\u001b[39m partial(\n\u001b[1;32m   1844\u001b[0m     \u001b[38;5;28mself\u001b[39m\u001b[38;5;241m.\u001b[39mautomatic_retries, \u001b[38;5;28mself\u001b[39m\u001b[38;5;241m.\u001b[39mretries, \u001b[38;5;28mself\u001b[39m\u001b[38;5;241m.\u001b[39mskipbadfiles, closure\n\u001b[1;32m   1845\u001b[0m )\n\u001b[1;32m   1847\u001b[0m executor \u001b[38;5;241m=\u001b[39m \u001b[38;5;28mself\u001b[39m\u001b[38;5;241m.\u001b[39mexecutor\u001b[38;5;241m.\u001b[39mcopy(\u001b[38;5;241m*\u001b[39m\u001b[38;5;241m*\u001b[39mexe_args)\n\u001b[0;32m-> 1848\u001b[0m wrapped_out, e \u001b[38;5;241m=\u001b[39m \u001b[43mexecutor\u001b[49m\u001b[43m(\u001b[49m\u001b[43mchunks\u001b[49m\u001b[43m,\u001b[49m\u001b[43m \u001b[49m\u001b[43mclosure\u001b[49m\u001b[43m,\u001b[49m\u001b[43m \u001b[49m\u001b[38;5;28;43;01mNone\u001b[39;49;00m\u001b[43m)\u001b[49m\n\u001b[1;32m   1849\u001b[0m \u001b[38;5;28;01mif\u001b[39;00m wrapped_out \u001b[38;5;129;01mis\u001b[39;00m \u001b[38;5;28;01mNone\u001b[39;00m:\n\u001b[1;32m   1850\u001b[0m     \u001b[38;5;28;01mraise\u001b[39;00m \u001b[38;5;167;01mValueError\u001b[39;00m(\n\u001b[1;32m   1851\u001b[0m         \u001b[38;5;124m\"\u001b[39m\u001b[38;5;124mNo chunks returned results, verify ``processor`` instance structure.\u001b[39m\u001b[38;5;130;01m\\n\u001b[39;00m\u001b[38;5;130;01m\\\u001b[39;00m\n\u001b[1;32m   1852\u001b[0m \u001b[38;5;124m        if you used skipbadfiles=True, it is possible all your files are bad.\u001b[39m\u001b[38;5;124m\"\u001b[39m\n\u001b[1;32m   1853\u001b[0m     )\n",
      "File \u001b[0;32m/opt/conda/lib/python3.8/site-packages/coffea/processor/executor.py:817\u001b[0m, in \u001b[0;36mFuturesExecutor.__call__\u001b[0;34m(self, items, function, accumulator)\u001b[0m\n\u001b[1;32m    815\u001b[0m \u001b[38;5;28;01melse\u001b[39;00m:\n\u001b[1;32m    816\u001b[0m     mergepoolinstance \u001b[38;5;241m=\u001b[39m \u001b[38;5;28;01mNone\u001b[39;00m\n\u001b[0;32m--> 817\u001b[0m \u001b[38;5;28;01mreturn\u001b[39;00m \u001b[43m_processwith\u001b[49m\u001b[43m(\u001b[49m\u001b[43mpool\u001b[49m\u001b[38;5;241;43m=\u001b[39;49m\u001b[43mpoolinstance\u001b[49m\u001b[43m,\u001b[49m\u001b[43m \u001b[49m\u001b[43mmergepool\u001b[49m\u001b[38;5;241;43m=\u001b[39;49m\u001b[43mmergepoolinstance\u001b[49m\u001b[43m)\u001b[49m\n",
      "File \u001b[0;32m/opt/conda/lib/python3.8/site-packages/coffea/processor/executor.py:786\u001b[0m, in \u001b[0;36mFuturesExecutor.__call__.<locals>._processwith\u001b[0;34m(pool, mergepool)\u001b[0m\n\u001b[1;32m    784\u001b[0m \u001b[38;5;28;01mtry\u001b[39;00m:\n\u001b[1;32m    785\u001b[0m     \u001b[38;5;28;01mif\u001b[39;00m mergepool \u001b[38;5;129;01mis\u001b[39;00m \u001b[38;5;28;01mNone\u001b[39;00m:\n\u001b[0;32m--> 786\u001b[0m         merged \u001b[38;5;241m=\u001b[39m \u001b[43m_watcher\u001b[49m\u001b[43m(\u001b[49m\u001b[43mFH\u001b[49m\u001b[43m,\u001b[49m\u001b[43m \u001b[49m\u001b[38;5;28;43mself\u001b[39;49m\u001b[43m,\u001b[49m\u001b[43m \u001b[49m\u001b[43mreducer\u001b[49m\u001b[43m,\u001b[49m\u001b[43m \u001b[49m\u001b[43mpool\u001b[49m\u001b[43m)\u001b[49m\n\u001b[1;32m    787\u001b[0m     \u001b[38;5;28;01melse\u001b[39;00m:\n\u001b[1;32m    788\u001b[0m         merged \u001b[38;5;241m=\u001b[39m _watcher(FH, \u001b[38;5;28mself\u001b[39m, reducer, mergepool)\n",
      "File \u001b[0;32m/opt/conda/lib/python3.8/site-packages/coffea/processor/executor.py:379\u001b[0m, in \u001b[0;36m_watcher\u001b[0;34m(FH, executor, merge_fcn, pool)\u001b[0m\n\u001b[1;32m    377\u001b[0m merged \u001b[38;5;241m=\u001b[39m \u001b[38;5;28;01mNone\u001b[39;00m\n\u001b[1;32m    378\u001b[0m \u001b[38;5;28;01mwhile\u001b[39;00m FH\u001b[38;5;241m.\u001b[39mrunning \u001b[38;5;241m>\u001b[39m \u001b[38;5;241m0\u001b[39m:\n\u001b[0;32m--> 379\u001b[0m     \u001b[43mFH\u001b[49m\u001b[38;5;241;43m.\u001b[39;49m\u001b[43mupdate\u001b[49m\u001b[43m(\u001b[49m\u001b[43m)\u001b[49m\n\u001b[1;32m    380\u001b[0m     progress\u001b[38;5;241m.\u001b[39mupdate(p_id, completed\u001b[38;5;241m=\u001b[39mFH\u001b[38;5;241m.\u001b[39mdone[\u001b[38;5;124m\"\u001b[39m\u001b[38;5;124mfutures\u001b[39m\u001b[38;5;124m\"\u001b[39m], refresh\u001b[38;5;241m=\u001b[39m\u001b[38;5;28;01mTrue\u001b[39;00m)\n\u001b[1;32m    382\u001b[0m     \u001b[38;5;28;01mif\u001b[39;00m executor\u001b[38;5;241m.\u001b[39mmerging:  \u001b[38;5;66;03m# Merge jobs\u001b[39;00m\n",
      "File \u001b[0;32m/opt/conda/lib/python3.8/site-packages/coffea/processor/executor.py:256\u001b[0m, in \u001b[0;36m_FuturesHolder.update\u001b[0;34m(self, refresh)\u001b[0m\n\u001b[1;32m    254\u001b[0m     refresh \u001b[38;5;241m=\u001b[39m \u001b[38;5;28mself\u001b[39m\u001b[38;5;241m.\u001b[39mrefresh\n\u001b[1;32m    255\u001b[0m \u001b[38;5;28;01mif\u001b[39;00m \u001b[38;5;28mself\u001b[39m\u001b[38;5;241m.\u001b[39mfutures:\n\u001b[0;32m--> 256\u001b[0m     completed, \u001b[38;5;28mself\u001b[39m\u001b[38;5;241m.\u001b[39mfutures \u001b[38;5;241m=\u001b[39m \u001b[43mconcurrent\u001b[49m\u001b[38;5;241;43m.\u001b[39;49m\u001b[43mfutures\u001b[49m\u001b[38;5;241;43m.\u001b[39;49m\u001b[43mwait\u001b[49m\u001b[43m(\u001b[49m\n\u001b[1;32m    257\u001b[0m \u001b[43m        \u001b[49m\u001b[38;5;28;43mself\u001b[39;49m\u001b[38;5;241;43m.\u001b[39;49m\u001b[43mfutures\u001b[49m\u001b[43m,\u001b[49m\n\u001b[1;32m    258\u001b[0m \u001b[43m        \u001b[49m\u001b[43mtimeout\u001b[49m\u001b[38;5;241;43m=\u001b[39;49m\u001b[43mrefresh\u001b[49m\u001b[43m,\u001b[49m\n\u001b[1;32m    259\u001b[0m \u001b[43m        \u001b[49m\u001b[43mreturn_when\u001b[49m\u001b[38;5;241;43m=\u001b[39;49m\u001b[43mconcurrent\u001b[49m\u001b[38;5;241;43m.\u001b[39;49m\u001b[43mfutures\u001b[49m\u001b[38;5;241;43m.\u001b[39;49m\u001b[43mFIRST_COMPLETED\u001b[49m\u001b[43m,\u001b[49m\n\u001b[1;32m    260\u001b[0m \u001b[43m    \u001b[49m\u001b[43m)\u001b[49m\n\u001b[1;32m    261\u001b[0m     \u001b[38;5;28mself\u001b[39m\u001b[38;5;241m.\u001b[39mcompleted\u001b[38;5;241m.\u001b[39mupdate(completed)\n\u001b[1;32m    262\u001b[0m     \u001b[38;5;28mself\u001b[39m\u001b[38;5;241m.\u001b[39mdone[\u001b[38;5;124m\"\u001b[39m\u001b[38;5;124mfutures\u001b[39m\u001b[38;5;124m\"\u001b[39m] \u001b[38;5;241m+\u001b[39m\u001b[38;5;241m=\u001b[39m \u001b[38;5;28mlen\u001b[39m(completed)\n",
      "File \u001b[0;32m/opt/conda/lib/python3.8/concurrent/futures/_base.py:305\u001b[0m, in \u001b[0;36mwait\u001b[0;34m(fs, timeout, return_when)\u001b[0m\n\u001b[1;32m    301\u001b[0m         \u001b[38;5;28;01mreturn\u001b[39;00m DoneAndNotDoneFutures(done, not_done)\n\u001b[1;32m    303\u001b[0m     waiter \u001b[38;5;241m=\u001b[39m _create_and_install_waiters(fs, return_when)\n\u001b[0;32m--> 305\u001b[0m \u001b[43mwaiter\u001b[49m\u001b[38;5;241;43m.\u001b[39;49m\u001b[43mevent\u001b[49m\u001b[38;5;241;43m.\u001b[39;49m\u001b[43mwait\u001b[49m\u001b[43m(\u001b[49m\u001b[43mtimeout\u001b[49m\u001b[43m)\u001b[49m\n\u001b[1;32m    306\u001b[0m \u001b[38;5;28;01mfor\u001b[39;00m f \u001b[38;5;129;01min\u001b[39;00m fs:\n\u001b[1;32m    307\u001b[0m     \u001b[38;5;28;01mwith\u001b[39;00m f\u001b[38;5;241m.\u001b[39m_condition:\n",
      "File \u001b[0;32m/opt/conda/lib/python3.8/threading.py:558\u001b[0m, in \u001b[0;36mEvent.wait\u001b[0;34m(self, timeout)\u001b[0m\n\u001b[1;32m    556\u001b[0m signaled \u001b[38;5;241m=\u001b[39m \u001b[38;5;28mself\u001b[39m\u001b[38;5;241m.\u001b[39m_flag\n\u001b[1;32m    557\u001b[0m \u001b[38;5;28;01mif\u001b[39;00m \u001b[38;5;129;01mnot\u001b[39;00m signaled:\n\u001b[0;32m--> 558\u001b[0m     signaled \u001b[38;5;241m=\u001b[39m \u001b[38;5;28;43mself\u001b[39;49m\u001b[38;5;241;43m.\u001b[39;49m\u001b[43m_cond\u001b[49m\u001b[38;5;241;43m.\u001b[39;49m\u001b[43mwait\u001b[49m\u001b[43m(\u001b[49m\u001b[43mtimeout\u001b[49m\u001b[43m)\u001b[49m\n\u001b[1;32m    559\u001b[0m \u001b[38;5;28;01mreturn\u001b[39;00m signaled\n",
      "File \u001b[0;32m/opt/conda/lib/python3.8/threading.py:306\u001b[0m, in \u001b[0;36mCondition.wait\u001b[0;34m(self, timeout)\u001b[0m\n\u001b[1;32m    304\u001b[0m \u001b[38;5;28;01melse\u001b[39;00m:\n\u001b[1;32m    305\u001b[0m     \u001b[38;5;28;01mif\u001b[39;00m timeout \u001b[38;5;241m>\u001b[39m \u001b[38;5;241m0\u001b[39m:\n\u001b[0;32m--> 306\u001b[0m         gotit \u001b[38;5;241m=\u001b[39m \u001b[43mwaiter\u001b[49m\u001b[38;5;241;43m.\u001b[39;49m\u001b[43macquire\u001b[49m\u001b[43m(\u001b[49m\u001b[38;5;28;43;01mTrue\u001b[39;49;00m\u001b[43m,\u001b[49m\u001b[43m \u001b[49m\u001b[43mtimeout\u001b[49m\u001b[43m)\u001b[49m\n\u001b[1;32m    307\u001b[0m     \u001b[38;5;28;01melse\u001b[39;00m:\n\u001b[1;32m    308\u001b[0m         gotit \u001b[38;5;241m=\u001b[39m waiter\u001b[38;5;241m.\u001b[39macquire(\u001b[38;5;28;01mFalse\u001b[39;00m)\n",
      "\u001b[0;31mKeyboardInterrupt\u001b[0m: "
     ]
    }
   ],
   "source": [
    "from plugins import *\n",
    "from jetProcessors import makeDijetHists\n",
    "from dask.distributed import Client\n",
    "import pickle\n",
    "#### WE'RE MISSING 2016B ver2 -- AK8 PF HLT is missing need to use AK4 trigger isntead\n",
    "\n",
    "data_bool = True\n",
    "winterfell = False\n",
    "processor = makeDijetHists(data = data_bool)\n",
    "datastring = \"JetHT\" if processor.do_gen == False else \"QCDsim\"\n",
    "if processor.do_gen==True and winterfell:\n",
    "    filename = \"QCD_flat_files.json\"\n",
    "elif processor.do_gen==True:\n",
    "    filename = \"fileset_QCD.json\"\n",
    "else:\n",
    "    filename = \"datasets_UL_NANOAOD.json\"\n",
    "fname = 'coffeaOutput/dijetHists_{}_{}_{}_NewHist.pkl'.format(datastring, processor.ptcut, processor.etacut)\n",
    "result = runCoffeaJob(processor, jsonFile = filename, winterfell = winterfell, testing = True, data = not processor.do_gen)\n",
    "with open(fname, \"wb\") as f:\n",
    "    pickle.dump( result, f)"
   ]
  },
  {
   "cell_type": "code",
   "execution_count": null,
   "id": "91cdf3f2",
   "metadata": {},
   "outputs": [],
   "source": [
    "fname = 'coffeaOutput/dijetHists_QCDsim_30.0_2.5_NewHist.pkl'\n",
    "with open(fname, \"rb\") as f:\n",
    "    result = pickle.load( f )\n",
    "import matplotlib.pyplot as plt\n",
    "%matplotlib inline\n",
    "#import mplhep as hep\n",
    "plt.rcParams[\"figure.figsize\"] = (10,10)"
   ]
  },
  {
   "cell_type": "code",
   "execution_count": null,
   "id": "0b80797b",
   "metadata": {},
   "outputs": [],
   "source": [
    "fig, axs = plt.subplots(2, 2)\n",
    "fig.suptitle('Ungroomed (top) and groomed (bottom) reco jets')\n",
    "result['jet_pt_mass_reco_u'][{'dataset':sum}].project('ptreco').plot1d(ax=axs[0,0])\n",
    "result['jet_pt_mass_reco_u'][{'dataset':sum}].project('mreco').plot1d(ax=axs[0,1])\n",
    "result['jet_pt_mass_reco_g'][{'dataset':sum}].project('ptreco').plot1d(ax=axs[1,0])\n",
    "result['jet_pt_mass_reco_g'][{'dataset':sum}].project('mreco').plot1d(ax=axs[1,1])"
   ]
  },
  {
   "cell_type": "code",
   "execution_count": null,
   "id": "2d701e4d-4861-4824-8cc8-756916354481",
   "metadata": {},
   "outputs": [],
   "source": [
    "numerator = result['jet_pt'][{'partonFlav':'Gluon'}].project('ptreco')\n",
    "denominator = result['jet_pt'].project('ptreco')\n",
    "print(numerator.values(), denominator.values())\n",
    "\n",
    "numerator.label = r'$\\epsilon$'\n",
    "fig = plt.gcf()\n",
    "grid = fig.add_gridspec(2, 1, hspace=0, height_ratios=[3, 1])\n",
    "\n",
    "main_ax = fig.add_subplot(grid[0])\n",
    "subplot_ax = fig.add_subplot(grid[1], sharex=main_ax)\n",
    "plt.setp(main_ax.get_xticklabels(), visible=False)\n",
    "main_ax, sublot_ax = numerator.plot_ratio(\n",
    "    denominator,\n",
    "    rp_num_label=\"gluons\",\n",
    "    rp_denom_label=\"all\",\n",
    "    rp_uncert_draw_type=\"line\",\n",
    "    rp_uncertainty_type=\"efficiency\",\n",
    "    ax_dict = {\"main_ax\":main_ax,\"ratio_ax\":subplot_ax}\n",
    ")\n",
    "\n",
    "plt.xlabel(\"Pt (GeV)\")\n",
    "plt.ylabel(\"Gluon fraction\")\n",
    "fig.suptitle('Gluon content as a function of pT')"
   ]
  },
  {
   "cell_type": "code",
   "execution_count": null,
   "id": "aacad3c5",
   "metadata": {},
   "outputs": [],
   "source": [
    "numerator = result['jet_eta'][{'partonFlav':'Gluon'}].project('eta')\n",
    "denominator = result['jet_eta'].project('eta')\n",
    "print(numerator.values(), denominator.values())\n",
    "numerator.label = r'$\\epsilon$'\n",
    "numerator.label = r'$\\epsilon$'\n",
    "fig = plt.gcf()\n",
    "grid = fig.add_gridspec(2, 1, hspace=0, height_ratios=[3, 1])\n",
    "\n",
    "main_axis = fig.add_subplot(grid[0])\n",
    "ratio_ax = fig.add_subplot(grid[1], sharex=main_axis)\n",
    "plt.setp(main_axis.get_xticklabels(), visible=False)\n",
    "main_ax, sublot_ax = numerator.plot_ratio(\n",
    "    denominator,\n",
    "    rp_num_label=\"gluons\",\n",
    "    rp_denom_label=\"all\",\n",
    "    rp_uncert_draw_type=\"line\",\n",
    "    rp_uncertainty_type=\"efficiency\",\n",
    "    ax_dict = {\"main_ax\":main_axis,\"ratio_ax\":ratio_ax}\n",
    ")\n",
    "\n",
    "plt.xlabel(r'$\\eta$')\n",
    "plt.ylabel(\"Gluon fraction\")\n",
    "main_axis.set_title('Gluon content as a function of eta')\n"
   ]
  },
  {
   "cell_type": "code",
   "execution_count": null,
   "id": "374e1fa7",
   "metadata": {},
   "outputs": [],
   "source": [
    "#sum entries in bins --> plot as y-axis\n",
    "plt.rcParams[\"figure.figsize\"] = (20,5)\n",
    "\n",
    "\n",
    "fig, axs = plt.subplots(1, 3)\n",
    "result['jet_mass'][{'jetNumb':sum, 'dataset':sum}].plot1d(ax = axs[0], overlay='partonFlav')\n",
    "plt.rc('legend',fontsize='small')\n",
    "plt.xlabel(\"Jet mass (GeV)\")\n",
    "result['jet_pt'][{'jetNumb':sum, 'dataset':sum}].plot1d(ax = axs[1], overlay='partonFlav')\n",
    "plt.rc('legend',fontsize='small')\n",
    "#axs[0].set_xlabel(\"Jet mass (GeV)\")\n",
    "plt.xlabel(\"Jet pT (GeV)\")\n",
    "result['jet_eta'][{'jetNumb':sum, 'dataset':sum}].plot1d(ax = axs[2], overlay='partonFlav')\n",
    "plt.rc('legend',fontsize='small')\n",
    "plt.legend()\n",
    "plt.xlabel(\"Jet eta (GeV)\")\n",
    "\n",
    "fig.suptitle('Dijet eta <2.5, pt> 200.', fontsize=\"large\")"
   ]
  },
  {
   "cell_type": "code",
   "execution_count": null,
   "id": "6238fc43",
   "metadata": {},
   "outputs": [],
   "source": [
    "plt.rcParams[\"figure.figsize\"] = (20,10)\n",
    "fig, axs = plt.subplots(2, 3)\n",
    "print(result['jet_mass'])\n",
    "result['jet_mass'][{'jetNumb':'jet1', 'dataset':sum}].plot1d(ax = axs[0,0], overlay='partonFlav')\n",
    "plt.rc('legend',fontsize='small')\n",
    "plt.xlabel(\"Jet mass (GeV)\")\n",
    "result['jet_pt'][{'jetNumb':'jet1', 'dataset':sum}].plot1d(ax = axs[0,1], overlay='partonFlav')\n",
    "plt.rc('legend',fontsize='small')\n",
    "#axs[0].set_xlabel(\"Jet mass (GeV)\")\n",
    "plt.xlabel(\"Jet pT (GeV)\")\n",
    "result['jet_eta'][{'jetNumb':'jet1', 'dataset':sum}].plot1d(ax = axs[0,2], overlay='partonFlav')\n",
    "plt.rc('legend',fontsize='small')\n",
    "plt.legend()\n",
    "plt.xlabel(\"Jet eta (GeV)\")\n",
    "result['jet_mass'][{'jetNumb':'jet2', 'dataset':sum}].plot1d(ax = axs[1,0], overlay='partonFlav')\n",
    "plt.rc('legend',fontsize='small')\n",
    "plt.xlabel(\"Jet mass (GeV)\")\n",
    "result['jet_pt'][{'jetNumb':'jet2', 'dataset':sum}].plot1d(ax = axs[1,1], overlay='partonFlav')\n",
    "plt.rc('legend',fontsize='small')\n",
    "#axs[0].set_xlabel(\"Jet mass (GeV)\")\n",
    "plt.xlabel(\"Jet pT (GeV)\")\n",
    "result['jet_eta'][{'jetNumb':'jet2', 'dataset':sum}].plot1d(ax = axs[1,2], overlay='partonFlav')\n",
    "plt.rc('legend',fontsize='small')\n",
    "plt.legend()\n",
    "plt.xlabel(\"Jet eta (GeV)\")\n",
    "fig.suptitle('Dijet eta <2.5, pt> 200.', fontsize=\"large\")"
   ]
  },
  {
   "cell_type": "code",
   "execution_count": null,
   "id": "f2fd10c5",
   "metadata": {},
   "outputs": [],
   "source": [
    "njets=result['cutflow']['nJets']\n",
    "ngluonjets=result['cutflow']['nGluonJets']\n",
    "print(result['cutflow'])\n",
    "print(\"Gluon purity:\", ngluonjets/njets)"
   ]
  },
  {
   "cell_type": "code",
   "execution_count": null,
   "id": "d84a6515",
   "metadata": {},
   "outputs": [],
   "source": [
    "response_matrix_u_values = result['response_matrix_u'].project(\"ptreco\", \"mreco\", \"ptgen\", \"mgen\").values()\n",
    "response_matrix_g_values = result['response_matrix_g'].project(\"ptreco\", \"mreco\", \"ptgen\", \"mgen\").values()"
   ]
  },
  {
   "cell_type": "code",
   "execution_count": null,
   "id": "5f0b008d",
   "metadata": {},
   "outputs": [],
   "source": [
    "nptreco,nmassreco,nptgen,nmassgen = response_matrix_u_values.shape"
   ]
  },
  {
   "cell_type": "code",
   "execution_count": null,
   "id": "b0f4aaa0",
   "metadata": {},
   "outputs": [],
   "source": [
    "response_matrix_u_final = response_matrix_u_values.reshape( (nptreco)*(nmassreco), (nptgen)*(nmassgen) )\n",
    "print(ak.max(response_matrix_u_final))"
   ]
  },
  {
   "cell_type": "code",
   "execution_count": null,
   "id": "f89f6894",
   "metadata": {},
   "outputs": [],
   "source": [
    "response_matrix_g_final = response_matrix_g_values.reshape( (nptreco)*(nmassreco), (nptgen)*(nmassgen) )"
   ]
  },
  {
   "cell_type": "code",
   "execution_count": null,
   "id": "94a15a8b",
   "metadata": {},
   "outputs": [],
   "source": [
    "plt.figure(figsize = (40,80))\n",
    "plt.imshow( np.log(response_matrix_u_final+1), aspect=\"equal\", cmap=\"Blues\" )\n",
    "plt.xlabel(\"RECO\", fontsize=50)\n",
    "plt.ylabel(\"GEN\", fontsize=50)\n",
    "plt.tick_params(labelsize=40)"
   ]
  },
  {
   "cell_type": "code",
   "execution_count": null,
   "id": "428de191",
   "metadata": {},
   "outputs": [],
   "source": [
    "plt.figure(figsize = (40,80))\n",
    "plt.imshow( np.log(response_matrix_g_final+1), aspect=\"equal\", cmap=\"Blues\" )\n",
    "plt.xlabel(\"RECO\", fontsize=50)\n",
    "plt.ylabel(\"GEN\", fontsize=50)\n",
    "plt.tick_params(labelsize=40)"
   ]
  },
  {
   "cell_type": "code",
   "execution_count": null,
   "id": "355566c2",
   "metadata": {},
   "outputs": [],
   "source": [
    "plt.figure(figsize = (40,80))\n",
    "plt.imshow( response_matrix_u_final, aspect=\"equal\", cmap=\"Blues\" )\n",
    "plt.xlabel(\"RECO\", fontsize=50)\n",
    "plt.ylabel(\"GEN\", fontsize=50)\n",
    "plt.tick_params(labelsize=40)"
   ]
  },
  {
   "cell_type": "code",
   "execution_count": null,
   "id": "6811b02d",
   "metadata": {},
   "outputs": [],
   "source": []
  },
  {
   "cell_type": "code",
   "execution_count": null,
   "id": "e8ef29b2",
   "metadata": {},
   "outputs": [],
   "source": []
  },
  {
   "cell_type": "code",
   "execution_count": null,
   "id": "761a514a",
   "metadata": {},
   "outputs": [],
   "source": []
  },
  {
   "cell_type": "markdown",
   "id": "531630b8",
   "metadata": {},
   "source": [
    "## "
   ]
  }
 ],
 "metadata": {
  "kernelspec": {
   "display_name": "Python 3 (ipykernel)",
   "language": "python",
   "name": "python3"
  },
  "language_info": {
   "codemirror_mode": {
    "name": "ipython",
    "version": 3
   },
   "file_extension": ".py",
   "mimetype": "text/x-python",
   "name": "python",
   "nbconvert_exporter": "python",
   "pygments_lexer": "ipython3",
   "version": "3.8.15"
  }
 },
 "nbformat": 4,
 "nbformat_minor": 5
}

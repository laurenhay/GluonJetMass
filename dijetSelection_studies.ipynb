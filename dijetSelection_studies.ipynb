{
 "cells": [
  {
   "cell_type": "code",
   "execution_count": 1,
   "id": "c1d30278",
   "metadata": {},
   "outputs": [
    {
     "name": "stdout",
     "output_type": "stream",
     "text": [
      "0.7.18\n",
      "[1, 1, 1, 1, 1, 1, 1, 1, 1, 1, 1, 1, 1, 1, ... 1, 1, 1, 1, 1, 1, 1, 1, 1, 1, 1, 1, 1]\n"
     ]
    }
   ],
   "source": [
    "import awkward as ak\n",
    "import numpy as np\n",
    "import coffea\n",
    "import os\n",
    "import pandas as pd\n",
    "from plugins import handleData\n",
    "\n",
    "print(coffea.__version__)\n",
    "from coffea import util\n",
    "from coffea.nanoevents import NanoEventsFactory, NanoAODSchema\n",
    "\n",
    "import hist\n",
    "\n",
    "# testFiles = [\n",
    "# \"root://cmsxrootd.fnal.gov//store/mc/RunIISummer20UL17NanoAODv9/QCD_Pt_170to300_TuneCP5_13TeV_pythia8/NANOAODSIM/106X_mc2017_realistic_v9-v1/120000/0CDD30E0-B953-E54B-BB7A-BFB45BE6EC93.root\",\n",
    "# \"root://cmsxrootd.fnal.gov//store/mc/RunIISummer20UL17NanoAODv9/QCD_Pt_300to470_TuneCP5_13TeV_pythia8/NANOAODSIM/106X_mc2017_realistic_v9-v1/120000/3788BBD3-3B70-BE48-B01A-4FA395E1E0B6.root\",\n",
    "# \"root://cmsxrootd.fnal.gov//store/mc/RunIISummer20UL17NanoAODv9/QCD_Pt_470to600_TuneCP5_13TeV_pythia8/NANOAODSIM/106X_mc2017_realistic_v9-v1/70000/F6B6A983-3E2B-7B4D-A2CE-E03AB6E32387.root\",\n",
    "# \"root://cmsxrootd.fnal.gov//store/mc/RunIISummer20UL17NanoAODv9/QCD_Pt_600to800_TuneCP5_13TeV_pythia8/NANOAODSIM/106X_mc2017_realistic_v9-v1/70000/FDF7FBE4-9226-994A-BD45-29995A3CD62F.root\",\n",
    "# \"root://cmsxrootd.fnal.gov//store/mc/RunIISummer20UL17NanoAODv9/QCD_Pt_800to1000_TuneCP5_13TeV_pythia8/NANOAODSIM/106X_mc2017_realistic_v9-v1/70000/2CEB03D7-5B1A-EE46-9C21-13ED3E349AF4.root\",\n",
    "# \"root://cmsxrootd.fnal.gov//store/mc/RunIISummer20UL17NanoAODv9/QCD_Pt_1000to1400_TuneCP5_13TeV_pythia8/NANOAODSIM/106X_mc2017_realistic_v9-v1/70000/DB87A517-0584-1A41-BB18-AAE7C9AAE5B8.root\",\n",
    "# \"root://cmsxrootd.fnal.gov//store/mc/RunIISummer20UL17NanoAODv9/QCD_Pt_1400to1800_TuneCP5_13TeV_pythia8/NANOAODSIM/106X_mc2017_realistic_v9-v1/280000/BFE2E7E9-82CB-FE47-9B43-EBA5C373AF60.root\",\n",
    "# \"root://cmsxrootd.fnal.gov//store/mc/RunIISummer20UL17NanoAODv9/QCD_Pt_1800to2400_TuneCP5_13TeV_pythia8/NANOAODSIM/106X_mc2017_realistic_v9-v1/70000/5213B536-BAA1-CC43-A58A-B1E41E2680F5.root\",\n",
    "# \"root://cmsxrootd.fnal.gov//store/mc/RunIISummer20UL17NanoAODv9/QCD_Pt_2400to3200_TuneCP5_13TeV_pythia8/NANOAODSIM/106X_mc2017_realistic_v9-v1/280000/E8400F91-3216-EA46-A9F1-8CC7EF5261B0.root\",\n",
    "# \"root://cmsxrootd.fnal.gov//store/mc/RunIISummer20UL17NanoAODv9/QCD_Pt_3200toInf_TuneCP5_13TeV_pythia8/NANOAODSIM/106X_mc2017_realistic_v9-v1/280000/B21BFDD8-B878-784C-AFB6-5CDE131F5C39.root\"\n",
    "# ]\n",
    "\n",
    "redirector = 'root://xcache/'\n",
    "files = handleData('fileset_QCD.json', redirector, testing = True, data = False)\n",
    "# # files_test = handleData('fileset_QCD.json', redirector, testing = False, data = False)\n",
    "\n",
    "events = NanoEventsFactory.from_root(list(files.values())[9][0], schemaclass=NanoAODSchema).events()\n",
    "# print(files)\n",
    "#may have to put in weights by hand\n",
    "print(events.Generator.weight)"
   ]
  },
  {
   "cell_type": "code",
   "execution_count": 2,
   "id": "180b9200",
   "metadata": {},
   "outputs": [
    {
     "name": "stderr",
     "output_type": "stream",
     "text": [
      "/opt/conda/lib/python3.8/site-packages/coffea/util.py:154: FutureWarning: In coffea version v0.8.0 (target date: 31 Dec 2022), this will be an error.\n",
      "(Set coffea.deprecations_as_errors = True to get a stack trace now.)\n",
      "ImportError: coffea.hist is deprecated\n",
      "  warnings.warn(message, FutureWarning)\n"
     ]
    }
   ],
   "source": [
    "from coffea import processor, hist\n",
    "\n",
    "#####\n",
    "##### TO DO #####\n",
    "# find misses --> need to do deltaR matching by hand --> if no reco miss\n",
    "# need to make rivet routine\n",
    "\n",
    "\n",
    "class DijetHists(processor.ProcessorABC):\n",
    "    def __init__(self, data = False, ptcut=30., etacut = 2.5):\n",
    "        # should have separate lower ptcut for gen\n",
    "        self.ptcut = ptcut\n",
    "        self.etacut = etacut\n",
    "        self.data = data\n",
    "        dataset_cat = hist.Cat(\"dataset\", \"Dataset\")\n",
    "        jet_cat = hist.Cat(\"jetNumb\", \"Jet\")\n",
    "        parton_cat = hist.Cat(\"partonFlav\", \"Parton Flavour\")\n",
    "        mass_bin = hist.Bin(\"mass\", \"Jet Mass (GeV)\", 50, 0, 500.)\n",
    "        mass_gen_bin = hist.Bin(\"mass\", \"Gen Jet Mass (GeV)\", 100, 0, 500.)\n",
    "        pt_bin = hist.Bin(\"pt\", \"Jet pT (GeV)\", 60, 0, 2400.)\n",
    "        bdisc_bin = hist.Bin(\"bdisc\", \"B-tag discriminator\", 10, 0.0, 1.)\n",
    "        frac_bin = hist.Bin(\"gfrac\", \"Gluon fraction\", 10, 0.0, 1.)\n",
    "        eta_bin = hist.Bin(\"eta\", \"Eta\", 25, -2.5, 2.5)\n",
    "        hist_dict = {\n",
    "            'jet_pt':             hist.Hist(\"Events\", jet_cat, parton_cat, pt_bin),\n",
    "#            'jet_pt_m':           hist.Hist(\"Events\", jet_cat, pt_bin, mass_bin),\n",
    "            'jet_eta':            hist.Hist(\"Events\", jet_cat, parton_cat, eta_bin),\n",
    "            'jet_mass':           hist.Hist(\"Events\", jet_cat, parton_cat, mass_bin),\n",
    "#            'misses_pt_m':        hist.Hist(\"Events\", pt_bin, mass_gen_bin),\n",
    "#            'fakes_pt_m':         hist.Hist(\"Events\", pt_bin, mass_bin),\n",
    "            'jet_response':       hist.Hist(\"Events\", pt_bin, mass_bin, pt_bin, mass_gen_bin),\n",
    "            'weights':            hist.Hist(\"Events\", dataset_cat, hist.Bin(\"weights\", \"reco weights\", 60, 0, 1.)),\n",
    "#            'gluonPurity':      hist.Hist(\"Events\", jet_cat, frac_bin),\n",
    "            'gluonPurity':        processor.defaultdict_accumulator(int),\n",
    "            'nGluonJets':         processor.defaultdict_accumulator(int),\n",
    "            'cutflow':            processor.defaultdict_accumulator(int),\n",
    "            }\n",
    "        if not self.data:\n",
    "            hist_dict.update({\n",
    "                'genjet_pt':          hist.Hist(\"Events\", pt_bin),\n",
    "                'genjet_eta':         hist.Hist(\"Events\", eta_bin),\n",
    "                'genjet_mass':        hist.Hist(\"Events\", mass_gen_bin),\n",
    "#            'misses_gen_pt_m':        hist.Hist(\"Events\", pt_bin, mass_gen_bin),\n",
    "#            'fakes_gen_pt_m':         hist.Hist(\"Events\", pt_bin, mass_bin),\n",
    "                'jet_response':       hist.Hist(\"Events\", pt_bin, mass_bin, pt_bin, mass_gen_bin),\n",
    "                'weights':            hist.Hist(\"Events\", dataset_cat, hist.Bin(\"weights\", \"gen weights\", 60, 0, 1.)),\n",
    "                             })\n",
    "        self._histos = processor.dict_accumulator(hist_dict)\n",
    "    \n",
    "    @property\n",
    "    def accumulator(self):\n",
    "        return self._histos\n",
    "    \n",
    "    # we will receive a NanoEvents instead of a coffea DataFrame\n",
    "    def process(self, events):\n",
    "        out = self.accumulator.identity()\n",
    "        dijetEvents = events[(ak.num(events.FatJet) >= 2) & (ak.num(events.GenJetAK8) >= 2)]\n",
    "        \n",
    "#         for i in range(0,10):\n",
    "#             print(\"Check that jets and are ordered by pt: \", events.FatJet[i,:].pt, \"\\n\")\n",
    "#             print(\"and that gen jets are order by pt:\", events.GenJetAK8[i,:].pt, \"\\n\")\n",
    "        \n",
    "        #get leading 2 jets\n",
    "        fatJets = dijetEvents.FatJet[:,0:2]\n",
    "        genJets = dijetEvents.GenJetAK8[:,0:2]\n",
    "        \n",
    "#         print(\"FatJet fields \", fatJets.fields, \"\\n\")\n",
    "#         print(\"GenJet fields \", genJets.fields, \"\\n\")\n",
    "        \n",
    "        \n",
    "        jet1 = dijetEvents.FatJet[:,0]\n",
    "        jet2 = dijetEvents.FatJet[:,1]\n",
    "        genjet1 = dijetEvents.GenJetAK8[:,0]\n",
    "        genjet2 = dijetEvents.GenJetAK8[:,1]\n",
    "        \n",
    "        print(\"Initial # of dijet events \", len(fatJets), \" and gen dijet events \", len(genJets), \"\\n\")\n",
    "        \n",
    "        #calculate dphi_min\n",
    "        dphi12 = (np.abs(jet1.delta_phi(jet2)) > 2.)\n",
    "        dphi12_gen = (np.abs(genjet1.delta_phi(genjet2)) > 2.)\n",
    "        \n",
    "        #apply dphi gen and reco selection, pt cuts\n",
    "        #see CMS PAS SMP-20-010 for selections\n",
    "        \n",
    "        \n",
    "        #want to implement pt > 200GeV to be consistent with dijets?\n",
    "        pt_cut = ak.all(dijetEvents.FatJet.pt > self.ptcut, axis = -1)\n",
    "        pt_cut_gen = ak.all(dijetEvents.GenJetAK8.pt > self.ptcut, axis = -1)\n",
    "        \n",
    "        eta_cut = ak.all(np.abs(dijetEvents.FatJet.eta) < self.etacut, axis = -1)\n",
    "        eta_cut_gen = ak.all(np.abs(dijetEvents.GenJetAK8.eta) < self.etacut, axis = -1)\n",
    "        \n",
    "        asymm = np.abs(jet1.pt - jet2.pt)/(jet1.pt + jet2.pt)\n",
    "        asymm_gen  = np.abs(genjet1.pt - genjet2.pt)/(genjet1.pt + genjet2.pt)\n",
    "        \n",
    "        dijetEvents = dijetEvents[eta_cut & eta_cut_gen & (asymm < 0.3) & (asymm_gen < 0.3) & \n",
    "                                  pt_cut & dphi12 & pt_cut_gen & dphi12_gen]\n",
    "        \n",
    "        print(\"# of dijet events after eta cut\", len(dijetEvents.FatJet), \" and gen dijet events \", len(dijetEvents.GenJetAK8), \"\\n\")\n",
    "                \n",
    "        #match jets\n",
    "        matched = ~ak.any(ak.is_none(dijetEvents.FatJet.matched_gen, axis = -1), axis = -1)\n",
    "        print(\"Length of matched \", len(matched))\n",
    "        # NEED TO MAKE DELTA R MATCHING FOR GEN TO FIND MISSES\n",
    "        #matched_gen = ~ak.is_none(DNE)\n",
    "        \n",
    "        \n",
    "        # fakes are events reconstructed but does not exist in MC\n",
    "        fakes = dijetEvents.FatJet[ak.any(ak.is_none(dijetEvents.FatJet.matched_gen, axis = -1), axis = -1)]\n",
    "        print(\"Number of fake jets \", len(fakes))\n",
    "        \n",
    "        #miss = jet in MC but not reconstructed\n",
    "        \n",
    "        #misses = genJets[ak.is_none(DNE)]\n",
    "        \n",
    "        dijetEvents = dijetEvents[matched]\n",
    "        print(\"Number of matched dijet events\", len(dijetEvents))\n",
    "#         print(\"Check for none values\", ak.any(ak.is_none(dijetEvents, axis = -1)))\n",
    "        \n",
    "        jet = dijetEvents.FatJet[:,:2]\n",
    "        genjet = dijetEvents.GenJetAK8[:,:2]\n",
    "        \n",
    "        jet1 = dijetEvents.FatJet[:,0]\n",
    "        jet2 = dijetEvents.FatJet[:,1]\n",
    "        genjet1 = dijetEvents.GenJetAK8[:,0]\n",
    "        genjet2 = dijetEvents.GenJetAK8[:,1]\n",
    "        \n",
    "        #flavour --> 21 is gluon\n",
    "        \n",
    "        jet2_g     = jet2[np.abs(genjet2.partonFlavour) == 21]\n",
    "        jet2_uds   = jet2[np.abs(genjet2.partonFlavour) < 4]\n",
    "        jet2_c     = jet2[np.abs(genjet2.partonFlavour) == 4]\n",
    "        jet2_b     = jet2[np.abs(genjet2.partonFlavour) == 5]\n",
    "        jet2_other = jet2[(np.abs(genjet2.partonFlavour) > 5) & (np.abs(genjet2.partonFlavour) != 21)]\n",
    "        \n",
    "        jet1_g     = jet1[np.abs(genjet1.partonFlavour) == 21]\n",
    "        jet1_uds   = jet1[np.abs(genjet1.partonFlavour) < 4]\n",
    "        jet1_c     = jet1[np.abs(genjet1.partonFlavour) == 4]\n",
    "        jet1_b     = jet1[np.abs(genjet1.partonFlavour) == 5]\n",
    "        jet1_other = jet1[(np.abs(genjet1.partonFlavour) > 5) & (np.abs(genjet1.partonFlavour) != 21)]\n",
    "        \n",
    "#        #cant do jet_g = jet[jet.partonFlavor == 21] bc this would select events where either jet1 or jet2 is a gluon and keep both jets\n",
    "#        #jet_g = ak.concatenate((jet1_g, jet2_g), axis = 0)\n",
    "#        jet_cat = ak.concatenate((jet1, jet2), axis = 0)\n",
    "#        print(\"check that total jet cat would work same way. length of concat'd jets\", len(ak.concatenate((jet1, jet2), axis = 0)))\n",
    "#        print(\" and flattened jets \",  len(ak.flatten(dijetEvents.FatJet[:,:2])), \"\\n\")\n",
    "        \n",
    "#        #make central and forward categories instead of jet1 jet2\n",
    "#         print(\"Number of gluon jets = \", len(jet1_g)+len(jet2_g), \" or \", len(jet_g))\n",
    "        \n",
    "        \n",
    "        out['jet_mass'].fill(jetNumb = \"jet1\", partonFlav = \"Gluon\",  mass = jet1_g.mass,\n",
    "                             #weight = trijetEvents.Generator.weight[matched1]\n",
    "                            )\n",
    "        out['jet_mass'].fill(jetNumb = \"jet1\", partonFlav = \"UDS\",    mass = jet1_uds.mass,\n",
    "                             #weight = trijetEvents.Generator.weight[matched1]\n",
    "                            )\n",
    "        out['jet_mass'].fill(jetNumb = \"jet1\", partonFlav = \"Charm\",  mass = jet1_c.mass,\n",
    "                             #weight = trijetEvents.Generator.weight[matched1]\n",
    "                            )\n",
    "        out['jet_mass'].fill(jetNumb = \"jet1\", partonFlav = \"Bottom\", mass = jet1_b.mass,\n",
    "                             #weight = trijetEvents.Generator.weight[matched1]\n",
    "                            )\n",
    "        out['jet_mass'].fill(jetNumb = \"jet1\", partonFlav = \"Other\",  mass = jet1_other.mass,\n",
    "                             #weight = trijetEvents.Generator.weight[matched1]\n",
    "                            )\n",
    "        out['jet_mass'].fill(jetNumb = \"jet2\", partonFlav = \"Gluon\",  mass = jet2_g.mass,\n",
    "                             #weight = trijetEvents.Generator.weight[matched1]\n",
    "                            )\n",
    "        out['jet_mass'].fill(jetNumb = \"jet2\", partonFlav = \"UDS\",    mass = jet2_uds.mass,\n",
    "                             #weight = trijetEvents.Generator.weight[matched1]\n",
    "                            )\n",
    "        out['jet_mass'].fill(jetNumb = \"jet2\", partonFlav = \"Charm\",  mass = jet2_c.mass,\n",
    "                             #weight = trijetEvents.Generator.weight[matched1]\n",
    "                            )\n",
    "        out['jet_mass'].fill(jetNumb = \"jet2\", partonFlav = \"Bottom\", mass = jet2_b.mass,\n",
    "                             #weight = trijetEvents.Generator.weight[matched1]\n",
    "                            )\n",
    "        out['jet_mass'].fill(jetNumb = \"jet2\", partonFlav = \"Other\",  mass = jet2_other.mass,\n",
    "                             #weight = trijetEvents.Generator.weight[matched1]\n",
    "                            )\n",
    "        \n",
    "        out['jet_pt'].fill(jetNumb = \"jet1\", partonFlav = \"Gluon\",  pt = jet1_g.pt,\n",
    "                             #weight = trijetEvents.Generator.weight[matched1]\n",
    "                            )\n",
    "        out['jet_pt'].fill(jetNumb = \"jet1\", partonFlav = \"UDS\",    pt = jet1_uds.pt,\n",
    "                             #weight = trijetEvents.Generator.weight[matched1]\n",
    "                            )\n",
    "        out['jet_pt'].fill(jetNumb = \"jet1\", partonFlav = \"Charm\",  pt = jet1_c.pt,\n",
    "                             #weight = trijetEvents.Generator.weight[matched1]\n",
    "                            )\n",
    "        out['jet_pt'].fill(jetNumb = \"jet1\", partonFlav = \"Bottom\", pt = jet1_b.pt,\n",
    "                             #weight = trijetEvents.Generator.weight[matched1]\n",
    "                            )\n",
    "        out['jet_pt'].fill(jetNumb = \"jet1\", partonFlav = \"Other\",  pt = jet1_other.pt,\n",
    "                             #weight = trijetEvents.Generator.weight[matched1]\n",
    "                            )\n",
    "        out['jet_pt'].fill(jetNumb = \"jet2\", partonFlav = \"Gluon\",  pt = jet2_g.pt,\n",
    "                             #weight = trijetEvents.Generator.weight[matched1]\n",
    "                            )\n",
    "        out['jet_pt'].fill(jetNumb = \"jet2\", partonFlav = \"UDS\",    pt = jet2_uds.pt,\n",
    "                             #weight = trijetEvents.Generator.weight[matched1]\n",
    "                            )\n",
    "        out['jet_pt'].fill(jetNumb = \"jet2\", partonFlav = \"Charm\",  pt = jet2_c.pt,\n",
    "                             #weight = trijetEvents.Generator.weight[matched1]\n",
    "                            )\n",
    "        out['jet_pt'].fill(jetNumb = \"jet2\", partonFlav = \"Bottom\", pt = jet2_b.pt,\n",
    "                             #weight = trijetEvents.Generator.weight[matched1]\n",
    "                            )\n",
    "        out['jet_pt'].fill(jetNumb = \"jet2\", partonFlav = \"Other\",  pt = jet2_other.pt,\n",
    "                             #weight = trijetEvents.Generator.weight[matched1]\n",
    "                            )\n",
    "\n",
    "        out['jet_eta'].fill(jetNumb = \"jet1\", partonFlav = \"Gluon\",  eta = jet1_g.eta,\n",
    "                             #weight = trijetEvents.Generator.weight[matched1]\n",
    "                            )\n",
    "        out['jet_eta'].fill(jetNumb = \"jet1\", partonFlav = \"UDS\",    eta = jet1_uds.eta,\n",
    "                             #weight = trijetEvents.Generator.weight[matched1]\n",
    "                            )\n",
    "        out['jet_eta'].fill(jetNumb = \"jet1\", partonFlav = \"Charm\",  eta = jet1_c.eta,\n",
    "                             #weight = trijetEvents.Generator.weight[matched1]\n",
    "                            )\n",
    "        out['jet_eta'].fill(jetNumb = \"jet1\", partonFlav = \"Bottom\", eta = jet1_b.eta,\n",
    "                             #weight = trijetEvents.Generator.weight[matched1]\n",
    "                            )\n",
    "        out['jet_eta'].fill(jetNumb = \"jet1\", partonFlav = \"Other\",  eta = jet1_other.eta,\n",
    "                             #weight = trijetEvents.Generator.weight[matched1]\n",
    "                            )\n",
    "        out['jet_eta'].fill(jetNumb = \"jet2\", partonFlav = \"Gluon\",  eta = jet2_g.eta,\n",
    "                             #weight = trijetEvents.Generator.weight[matched1]\n",
    "                            )\n",
    "        out['jet_eta'].fill(jetNumb = \"jet2\", partonFlav = \"UDS\",    eta = jet2_uds.eta,\n",
    "                             #weight = trijetEvents.Generator.weight[matched1]\n",
    "                            )\n",
    "        out['jet_eta'].fill(jetNumb = \"jet2\", partonFlav = \"Charm\",  eta = jet2_c.eta,\n",
    "                             #weight = trijetEvents.Generator.weight[matched1]\n",
    "                            )\n",
    "        out['jet_eta'].fill(jetNumb = \"jet2\", partonFlav = \"Bottom\", eta = jet2_b.eta,\n",
    "                             #weight = trijetEvents.Generator.weight[matched1]\n",
    "                            )\n",
    "        out['jet_eta'].fill(jetNumb = \"jet2\", partonFlav = \"Other\",  eta = jet2_other.eta,\n",
    "                             #weight = trijetEvents.Generator.weight[matched1]\n",
    "                            )\n",
    "\n",
    "        #NOTE --> need gen sd mass eventually --> recluster :( \n",
    "#         out['genjet_mass'].fill(\n",
    "#             mass=ak.flatten(genjet.mass),\n",
    "#             #weight=ak.flatten(dijetEvents.Generator.weight[~ak.is_none(dijetEvents.FatJet[:,0].matched_gen)])\n",
    "#         )\n",
    "            \n",
    "#         out['weights'].fill(\n",
    "#             dataset=events.metadata[\"dataset\"],\n",
    "#             weights=dijetEvents.Generator.weight,\n",
    "#         )     \n",
    "#         out['btag'].fill(\n",
    "#             partonFlav = \"Bottom\",\n",
    "#             bdisc=ak.flatten(jet_b.btagCSVV2),\n",
    "#         )\n",
    "        out['cutflow']['chunks'] += 1\n",
    "        out['cutflow']['nGluonJets'] += (len(jet[np.abs(genjet.partonFlavour) == 21]))\n",
    "        return out\n",
    "    \n",
    "    def postprocess(self, accumulator):\n",
    "        return accumulator"
   ]
  },
  {
   "cell_type": "code",
   "execution_count": 3,
   "id": "1f9eed95",
   "metadata": {
    "scrolled": true
   },
   "outputs": [],
   "source": [
    "# from plugins import runCoffeaJob\n",
    "# #switch to if name and arg parse instead of separate function?\n",
    "# result = runCoffeaJob(DijetHists(), jsonFile = \"fileset_QCD.json\", casa = True, testing = True)\n",
    "# util.save(result, 'coffeaOutput/DiJet_pT30_eta25_result.coffea')\n"
   ]
  },
  {
   "cell_type": "code",
   "execution_count": 4,
   "id": "22a563e5",
   "metadata": {},
   "outputs": [
    {
     "name": "stdout",
     "output_type": "stream",
     "text": [
      "<Hist (pt) instance at 0x7f2722199700> <Hist (pt) instance at 0x7f271bd11df0>\n"
     ]
    },
    {
     "name": "stderr",
     "output_type": "stream",
     "text": [
      "/opt/conda/lib/python3.8/site-packages/coffea/hist/plot.py:427: RuntimeWarning: invalid value encountered in true_divide\n",
      "  rsumw = sumw_num / sumw_denom\n"
     ]
    },
    {
     "data": {
      "text/plain": [
       "(0.0, 1.0)"
      ]
     },
     "execution_count": 4,
     "metadata": {},
     "output_type": "execute_result"
    },
    {
     "data": {
      "image/png": "[encoded data removed]",
      "text/plain": [
       "<Figure size 640x480 with 1 Axes>"
      ]
     },
     "metadata": {},
     "output_type": "display_data"
    }
   ],
   "source": [
    "result = util.load('coffeaOutput/DiJet_pT30_eta25_result.coffea')\n",
    "import matplotlib.pyplot as plt\n",
    "\n",
    "\n",
    "numerator = result['jet_pt'].integrate('partonFlav','Gluon').sum('jetNumb')\n",
    "denominator = result['jet_pt'].sum('partonFlav').sum('jetNumb')\n",
    "print(numerator, denominator)\n",
    "\n",
    "numerator.label = r'$\\epsilon$'\n",
    "ax = hist.plotratio(\n",
    "    num=numerator,\n",
    "    denom=denominator,\n",
    "    error_opts={'color': 'k', 'marker': '.'},\n",
    "    unc='poisson-ratio'\n",
    ")\n",
    "\n",
    "# glu = result['jet_pt'].sum('jetNumb').values()[('Gluon',)]\n",
    "# tot_parton = result['jet_pt'].sum('jetNumb').values()[('All',)]\n",
    "\n",
    "# print(\"Check for nan values in tot_parton \", np.isnan(tot_parton))\n",
    "\n",
    "# glu_frac = np.where(tot_parton > 0, np.divide(glu,tot_parton), 0)\n",
    "\n",
    "# print(len(result['jet_pt'].axis('pt').centers()))\n",
    "# print(result['jet_pt'].to_hist())\n",
    "\n",
    "# print(glu_frac)\n",
    "\n",
    "# plt.scatter(result['jet_pt'].axis('pt').centers(), glu_frac)\n",
    "\n",
    "plt.xlabel(\"Pt (GeV)\")\n",
    "plt.ylabel(\"Gluon fraction\")\n",
    "plt.ylim([0.,1.0])\n"
   ]
  },
  {
   "cell_type": "code",
   "execution_count": 5,
   "id": "2d701e4d-4861-4824-8cc8-756916354481",
   "metadata": {},
   "outputs": [
    {
     "name": "stdout",
     "output_type": "stream",
     "text": [
      "[  0.   0.   0.   0.   0.   0.   0.   0.   0.   0.   0.   0.   0.   0.\n",
      "   0.   0.   0.   0.   0.   0.   1.   1.   2.   1.   5.   3.   1.   5.\n",
      "   6.   5.   7.  12.   7.  14.  16.  22.  17.  27.  32.  42.  54.  71.\n",
      "  94. 129. 200. 222. 219. 297. 206. 232. 202. 139. 132. 111.  83.  60.\n",
      "  52.  51.  39.  20.] [0.000e+00 0.000e+00 0.000e+00 0.000e+00 0.000e+00 0.000e+00 0.000e+00\n",
      " 0.000e+00 0.000e+00 0.000e+00 0.000e+00 0.000e+00 0.000e+00 0.000e+00\n",
      " 0.000e+00 0.000e+00 0.000e+00 0.000e+00 0.000e+00 0.000e+00 2.000e+00\n",
      " 1.000e+00 3.000e+00 4.000e+00 1.000e+01 9.000e+00 1.800e+01 2.000e+01\n",
      " 2.200e+01 2.900e+01 4.800e+01 3.500e+01 4.000e+01 4.600e+01 5.400e+01\n",
      " 8.100e+01 8.200e+01 9.600e+01 9.400e+01 1.670e+02 1.840e+02 2.740e+02\n",
      " 4.100e+02 5.770e+02 8.810e+02 1.099e+03 1.354e+03 1.508e+03 1.483e+03\n",
      " 1.474e+03 1.276e+03 1.084e+03 9.440e+02 7.820e+02 6.840e+02 5.510e+02\n",
      " 4.640e+02 3.940e+02 2.910e+02 2.380e+02]\n"
     ]
    },
    {
     "data": {
      "text/plain": [
       "Text(0.5, 0.98, 'Gluon content as a function of pT')"
      ]
     },
     "execution_count": 5,
     "metadata": {},
     "output_type": "execute_result"
    },
    {
     "data": {
      "image/png": "[encoded data removed]",
      "text/plain": [
       "<Figure size 640x480 with 2 Axes>"
      ]
     },
     "metadata": {},
     "output_type": "display_data"
    }
   ],
   "source": [
    "result = util.load('coffeaOutput/dijet_pT30_eta2p5_result_test.coffea')\n",
    "import matplotlib.pyplot as plt\n",
    "\n",
    "\n",
    "numerator = result['jet_pt'][{'partonFlav':'Gluon'}].project('pt')\n",
    "denominator = result['jet_pt'].project('pt')\n",
    "print(numerator.values(), denominator.values())\n",
    "\n",
    "numerator.label = r'$\\epsilon$'\n",
    "fig = plt.gcf()\n",
    "grid = fig.add_gridspec(2, 1, hspace=0, height_ratios=[3, 1])\n",
    "\n",
    "main_ax = fig.add_subplot(grid[0])\n",
    "subplot_ax = fig.add_subplot(grid[1], sharex=main_ax)\n",
    "plt.setp(main_ax.get_xticklabels(), visible=False)\n",
    "main_ax, sublot_ax = numerator.plot_ratio(\n",
    "    denominator,\n",
    "    rp_num_label=\"gluons\",\n",
    "    rp_denom_label=\"all\",\n",
    "    rp_uncert_draw_type=\"line\",\n",
    "    rp_uncertainty_type=\"efficiency\",\n",
    "    ax_dict = {\"main_ax\":main_ax,\"ratio_ax\":subplot_ax}\n",
    ")\n",
    "\n",
    "plt.xlabel(\"Pt (GeV)\")\n",
    "plt.ylabel(\"Gluon fraction\")\n",
    "fig.suptitle('Gluon content as a function of pT')"
   ]
  },
  {
   "cell_type": "code",
   "execution_count": 6,
   "id": "aacad3c5",
   "metadata": {},
   "outputs": [
    {
     "name": "stdout",
     "output_type": "stream",
     "text": [
      "[  0.   0.   0.   0.   0.   6.  33.  87. 160. 252. 353. 412. 402. 369.\n",
      " 341. 243. 160.  61.  23.  15.   5.   0.   0.   0.   0.] [   0.    0.    0.    3.   25.   74.  289.  604. 1104. 1472. 1909. 2050.\n",
      " 2149. 2120. 1902. 1554. 1074.  599.  299.  116.   26.    3.    0.    0.\n",
      "    0.]\n"
     ]
    },
    {
     "data": {
      "text/plain": [
       "Text(0.5, 1.0, 'Gluon content as a function of eta')"
      ]
     },
     "execution_count": 6,
     "metadata": {},
     "output_type": "execute_result"
    },
    {
     "data": {
      "image/png": "[encoded data removed]",
      "text/plain": [
       "<Figure size 640x480 with 2 Axes>"
      ]
     },
     "metadata": {},
     "output_type": "display_data"
    }
   ],
   "source": [
    "numerator = result['jet_eta'][{'partonFlav':'Gluon'}].project('eta')\n",
    "denominator = result['jet_eta'].project('eta')\n",
    "print(numerator.values(), denominator.values())\n",
    "numerator.label = r'$\\epsilon$'\n",
    "numerator.label = r'$\\epsilon$'\n",
    "fig = plt.gcf()\n",
    "grid = fig.add_gridspec(2, 1, hspace=0, height_ratios=[3, 1])\n",
    "\n",
    "main_axis = fig.add_subplot(grid[0])\n",
    "ratio_ax = fig.add_subplot(grid[1], sharex=main_axis)\n",
    "plt.setp(main_axis.get_xticklabels(), visible=False)\n",
    "main_ax, sublot_ax = numerator.plot_ratio(\n",
    "    denominator,\n",
    "    rp_num_label=\"gluons\",\n",
    "    rp_denom_label=\"all\",\n",
    "    rp_uncert_draw_type=\"line\",\n",
    "    rp_uncertainty_type=\"efficiency\",\n",
    "    ax_dict = {\"main_ax\":main_axis,\"ratio_ax\":ratio_ax}\n",
    ")\n",
    "\n",
    "plt.xlabel(r'$\\eta$')\n",
    "plt.ylabel(\"Gluon fraction\")\n",
    "main_axis.set_title('Gluon content as a function of eta')\n"
   ]
  },
  {
   "cell_type": "code",
   "execution_count": 29,
   "id": "374e1fa7",
   "metadata": {},
   "outputs": [
    {
     "name": "stdout",
     "output_type": "stream",
     "text": [
      "Hist(\n",
      "  StrCategory(['/QCD_Pt_1800to2400_TuneCP5_13TeV_pythia8/RunIISummer20UL17NanoAODv9-106X_mc2017_realistic_v9-v1/NANOAODSIM'], growth=True, name='dataset', label='Dataset'),\n",
      "  StrCategory(['Gluon', 'UDS', 'Charm', 'Bottom'], growth=True, name='partonFlav', label='Parton Flavour'),\n",
      "  Regular(50, 0, 500, name='mass', label='Jet Mass (GeV)'),\n",
      "  storage=Weight()) # Sum: WeightedSum(value=16477, variance=16477) (WeightedSum(value=17372, variance=17372) with flow)\n",
      "(array([[  0.,   0.,   1.,   0.,   5.,  11.,   8.,  31.,  56.,  76., 101.,\n",
      "        114., 154., 128., 169., 150., 145., 119., 117.,  91.,  80.,  85.,\n",
      "         77.,  80.,  74.,  70.,  64.,  53.,  51.,  53.,  39.,  48.,  48.,\n",
      "         48.,  35.,  31.,  26.,  26.,  26.,  27.,  24.,  17.,  23.,  18.,\n",
      "         21.,  27.,  15.,  19.,  13.,  12.],\n",
      "       [  0.,   0.,   1.,   3.,  20.,  65., 131., 317., 469., 639., 778.,\n",
      "        809., 785., 716., 657., 629., 476., 433., 362., 343., 289., 274.,\n",
      "        237., 234., 175., 165., 143., 143., 142., 113., 106., 101.,  99.,\n",
      "         80.,  82.,  72.,  56.,  69.,  51.,  54.,  56.,  65.,  50.,  35.,\n",
      "         47.,  42.,  37.,  32.,  29.,  31.],\n",
      "       [  0.,   0.,   0.,   0.,   2.,  10.,  17.,  30.,  54.,  84.,  96.,\n",
      "        125., 128., 128., 123., 123.,  90.,  88.,  77.,  72.,  88.,  73.,\n",
      "         61.,  61.,  39.,  53.,  58.,  56.,  38.,  31.,  28.,  36.,  24.,\n",
      "         35.,  30.,  23.,  29.,  22.,  24.,  20.,  17.,  27.,  16.,  12.,\n",
      "         13.,  14.,  14.,  18.,  14.,  14.],\n",
      "       [  0.,   0.,   0.,   0.,   1.,   3.,   3.,  10.,  18.,  22.,  37.,\n",
      "         42.,  37.,  34.,  40.,  37.,  36.,  40.,  29.,  34.,  26.,  15.,\n",
      "         21.,  35.,  19.,  18.,  13.,  15.,  14.,  18.,  14.,  15.,  10.,\n",
      "         12.,  14.,  13.,  11.,   3.,   5.,  13.,  12.,   7.,   8.,   5.,\n",
      "          5.,   5.,   8.,   4.,  11.,   2.]]), array([0., 1., 2., 3., 4.]), array([  0.,  10.,  20.,  30.,  40.,  50.,  60.,  70.,  80.,  90., 100.,\n",
      "       110., 120., 130., 140., 150., 160., 170., 180., 190., 200., 210.,\n",
      "       220., 230., 240., 250., 260., 270., 280., 290., 300., 310., 320.,\n",
      "       330., 340., 350., 360., 370., 380., 390., 400., 410., 420., 430.,\n",
      "       440., 450., 460., 470., 480., 490., 500.]))\n"
     ]
    },
    {
     "ename": "ValueError",
     "evalue": "not enough values to unpack (expected 5, got 3)",
     "output_type": "error",
     "traceback": [
      "\u001b[0;31m---------------------------------------------------------------------------\u001b[0m",
      "\u001b[0;31mValueError\u001b[0m                                Traceback (most recent call last)",
      "Input \u001b[0;32mIn [29]\u001b[0m, in \u001b[0;36m<cell line: 12>\u001b[0;34m()\u001b[0m\n\u001b[1;32m     10\u001b[0m \u001b[38;5;28mprint\u001b[39m(result[\u001b[38;5;124m'\u001b[39m\u001b[38;5;124mjet_mass\u001b[39m\u001b[38;5;124m'\u001b[39m][{\u001b[38;5;124m'\u001b[39m\u001b[38;5;124mjetNumb\u001b[39m\u001b[38;5;124m'\u001b[39m:\u001b[38;5;28msum\u001b[39m}])\n\u001b[1;32m     11\u001b[0m \u001b[38;5;28mprint\u001b[39m(result[\u001b[38;5;124m'\u001b[39m\u001b[38;5;124mjet_mass\u001b[39m\u001b[38;5;124m'\u001b[39m][{\u001b[38;5;124m'\u001b[39m\u001b[38;5;124mjetNumb\u001b[39m\u001b[38;5;124m'\u001b[39m:\u001b[38;5;28msum\u001b[39m, \u001b[38;5;124m'\u001b[39m\u001b[38;5;124mdataset\u001b[39m\u001b[38;5;124m'\u001b[39m:\u001b[38;5;28msum\u001b[39m}]\u001b[38;5;241m.\u001b[39mto_numpy())\n\u001b[0;32m---> 12\u001b[0m gluon, uds, charm, bottom, bins \u001b[38;5;241m=\u001b[39m result[\u001b[38;5;124m'\u001b[39m\u001b[38;5;124mjet_mass\u001b[39m\u001b[38;5;124m'\u001b[39m][{\u001b[38;5;124m'\u001b[39m\u001b[38;5;124mjetNumb\u001b[39m\u001b[38;5;124m'\u001b[39m:\u001b[38;5;28msum\u001b[39m, \u001b[38;5;124m'\u001b[39m\u001b[38;5;124mdataset\u001b[39m\u001b[38;5;124m'\u001b[39m:\u001b[38;5;28msum\u001b[39m}]\u001b[38;5;241m.\u001b[39mto_numpy()\n\u001b[1;32m     13\u001b[0m \u001b[38;5;66;03m#axs[0].set_xlabel(\"Jet mass (GeV)\")\u001b[39;00m\n\u001b[1;32m     14\u001b[0m plt\u001b[38;5;241m.\u001b[39mxlabel(\u001b[38;5;124m\"\u001b[39m\u001b[38;5;124mJet mass (GeV)\u001b[39m\u001b[38;5;124m\"\u001b[39m)\n",
      "\u001b[0;31mValueError\u001b[0m: not enough values to unpack (expected 5, got 3)"
     ]
    }
   ],
   "source": [
    "#sum entries in bins --> plot as y-axis\n",
    "\n",
    "%matplotlib inline\n",
    "import matplotlib.pyplot as plt\n",
    "import mplhep as hep\n",
    "# plt.rcParams[\"figure.figsize\"] = (20,5)\n",
    "\n",
    "\n",
    "# fig, axs = plt.subplots(1, 3)\n",
    "print(result['jet_mass'][{'jetNumb':sum}])\n",
    "print(result['jet_mass'][{'jetNumb':sum, 'dataset':sum}].to_numpy())\n",
    "gluon, uds, charm, bottom, bins = result['jet_mass'][{'jetNumb':sum, 'dataset':sum}].to_numpy()\n",
    "#axs[0].set_xlabel(\"Jet mass (GeV)\")\n",
    "plt.xlabel(\"Jet mass (GeV)\")"
   ]
  },
  {
   "cell_type": "code",
   "execution_count": 21,
   "id": "6238fc43",
   "metadata": {},
   "outputs": [
    {
     "ename": "AttributeError",
     "evalue": "'Hist' object has no attribute 'dim'",
     "output_type": "error",
     "traceback": [
      "\u001b[0;31m---------------------------------------------------------------------------\u001b[0m",
      "\u001b[0;31mAttributeError\u001b[0m                            Traceback (most recent call last)",
      "Input \u001b[0;32mIn [21]\u001b[0m, in \u001b[0;36m<cell line: 2>\u001b[0;34m()\u001b[0m\n\u001b[1;32m      1\u001b[0m fig, ax \u001b[38;5;241m=\u001b[39m plt\u001b[38;5;241m.\u001b[39msubplots(\u001b[38;5;241m1\u001b[39m, \u001b[38;5;241m1\u001b[39m)\n\u001b[0;32m----> 2\u001b[0m \u001b[43mhist\u001b[49m\u001b[38;5;241;43m.\u001b[39;49m\u001b[43mplot1d\u001b[49m\u001b[43m(\u001b[49m\u001b[43mresult\u001b[49m\u001b[43m[\u001b[49m\u001b[38;5;124;43m'\u001b[39;49m\u001b[38;5;124;43mjet_pt\u001b[39;49m\u001b[38;5;124;43m'\u001b[39;49m\u001b[43m]\u001b[49m\u001b[43m[\u001b[49m\u001b[43m{\u001b[49m\u001b[38;5;124;43m'\u001b[39;49m\u001b[38;5;124;43mjetNumb\u001b[39;49m\u001b[38;5;124;43m'\u001b[39;49m\u001b[43m:\u001b[49m\u001b[38;5;28;43msum\u001b[39;49m\u001b[43m}\u001b[49m\u001b[43m]\u001b[49m\u001b[43m,\u001b[49m\u001b[43m \u001b[49m\u001b[43mstack\u001b[49m\u001b[43m \u001b[49m\u001b[38;5;241;43m=\u001b[39;49m\u001b[43m \u001b[49m\u001b[38;5;28;43;01mTrue\u001b[39;49;00m\u001b[43m)\u001b[49m\n\u001b[1;32m      3\u001b[0m ax\u001b[38;5;241m.\u001b[39mset_xlabel(\u001b[38;5;124m\"\u001b[39m\u001b[38;5;124mJet pT (GeV)\u001b[39m\u001b[38;5;124m\"\u001b[39m)\n",
      "File \u001b[0;32m/opt/conda/lib/python3.8/site-packages/coffea/hist/plot.py:200\u001b[0m, in \u001b[0;36mplot1d\u001b[0;34m(hist, ax, clear, overlay, stack, overflow, line_opts, fill_opts, error_opts, legend_opts, overlay_overflow, density, binwnorm, order)\u001b[0m\n\u001b[1;32m    198\u001b[0m     \u001b[38;5;28;01mif\u001b[39;00m clear:\n\u001b[1;32m    199\u001b[0m         ax\u001b[38;5;241m.\u001b[39mclear()\n\u001b[0;32m--> 200\u001b[0m \u001b[38;5;28;01mif\u001b[39;00m \u001b[43mhist\u001b[49m\u001b[38;5;241;43m.\u001b[39;49m\u001b[43mdim\u001b[49m() \u001b[38;5;241m>\u001b[39m \u001b[38;5;241m2\u001b[39m:\n\u001b[1;32m    201\u001b[0m     \u001b[38;5;28;01mraise\u001b[39;00m \u001b[38;5;167;01mValueError\u001b[39;00m(\n\u001b[1;32m    202\u001b[0m         \u001b[38;5;124m\"\u001b[39m\u001b[38;5;124mplot1d() can only support up to two dimensions (one for axis, one to stack or overlay)\u001b[39m\u001b[38;5;124m\"\u001b[39m\n\u001b[1;32m    203\u001b[0m     )\n\u001b[1;32m    204\u001b[0m \u001b[38;5;28;01mif\u001b[39;00m overlay \u001b[38;5;129;01mis\u001b[39;00m \u001b[38;5;28;01mNone\u001b[39;00m \u001b[38;5;129;01mand\u001b[39;00m hist\u001b[38;5;241m.\u001b[39msparse_dim() \u001b[38;5;241m==\u001b[39m \u001b[38;5;241m1\u001b[39m \u001b[38;5;129;01mand\u001b[39;00m hist\u001b[38;5;241m.\u001b[39mdense_dim() \u001b[38;5;241m==\u001b[39m \u001b[38;5;241m1\u001b[39m:\n",
      "\u001b[0;31mAttributeError\u001b[0m: 'Hist' object has no attribute 'dim'"
     ]
    },
    {
     "data": {
      "image/png": "[encoded data removed]",
      "text/plain": [
       "<Figure size 640x480 with 1 Axes>"
      ]
     },
     "metadata": {},
     "output_type": "display_data"
    }
   ],
   "source": [
    "fig, ax = plt.subplots(1, 1)\n",
    "hist.plot1d(result['jet_pt'][{'jetNumb':sum}], stack = True)\n",
    "ax.set_xlabel(\"Jet pT (GeV)\")\n",
    "# ax.set_xscale(\"log\")\n",
    "# ax.set_xlim([170., 2000.])"
   ]
  },
  {
   "cell_type": "code",
   "execution_count": null,
   "id": "f2fd10c5",
   "metadata": {},
   "outputs": [],
   "source": [
    "#plot pt, eta, phi, fake rate, pt efficiency, gluon purity for difference selections with b tags for all jets \n",
    "#and each individual jet in the 3 jets"
   ]
  },
  {
   "cell_type": "code",
   "execution_count": null,
   "id": "d84a6515",
   "metadata": {},
   "outputs": [],
   "source": []
  },
  {
   "cell_type": "code",
   "execution_count": null,
   "id": "5f0b008d",
   "metadata": {},
   "outputs": [],
   "source": []
  },
  {
   "cell_type": "code",
   "execution_count": null,
   "id": "b0f4aaa0",
   "metadata": {},
   "outputs": [],
   "source": []
  },
  {
   "cell_type": "code",
   "execution_count": null,
   "id": "f89f6894",
   "metadata": {},
   "outputs": [],
   "source": []
  }
 ],
 "metadata": {
  "kernelspec": {
   "display_name": "Python 3 (ipykernel)",
   "language": "python",
   "name": "python3"
  },
  "language_info": {
   "codemirror_mode": {
    "name": "ipython",
    "version": 3
   },
   "file_extension": ".py",
   "mimetype": "text/x-python",
   "name": "python",
   "nbconvert_exporter": "python",
   "pygments_lexer": "ipython3",
   "version": "3.8.13"
  }
 },
 "nbformat": 4,
 "nbformat_minor": 5
}

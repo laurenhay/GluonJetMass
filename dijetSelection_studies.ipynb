{
 "cells": [
  {
   "cell_type": "code",
   "execution_count": 1,
   "id": "c1d30278",
   "metadata": {},
   "outputs": [
    {
     "name": "stdout",
     "output_type": "stream",
     "text": [
      "0.7.22\n"
     ]
    }
   ],
   "source": [
    "import awkward as ak\n",
    "import numpy as np\n",
    "import coffea\n",
    "import os\n",
    "from python.plugins import *\n",
    "\n",
    "print(coffea.__version__)\n",
    "from coffea.nanoevents import NanoEventsFactory, NanoAODSchema\n",
    "\n",
    "import hist\n",
    "\n",
    "# testFiles = [\n",
    "# \"root://cmsxrootd.fnal.gov//store/mc/RunIISummer20UL17NanoAODv9/QCD_Pt_170to300_TuneCP5_13TeV_pythia8/NANOAODSIM/106X_mc2017_realistic_v9-v1/120000/0CDD30E0-B953-E54B-BB7A-BFB45BE6EC93.root\",\n",
    "# \"root://cmsxrootd.fnal.gov//store/mc/RunIISummer20UL17NanoAODv9/QCD_Pt_300to470_TuneCP5_13TeV_pythia8/NANOAODSIM/106X_mc2017_realistic_v9-v1/120000/3788BBD3-3B70-BE48-B01A-4FA395E1E0B6.root\",\n",
    "# \"root://cmsxrootd.fnal.gov//store/mc/RunIISummer20UL17NanoAODv9/QCD_Pt_470to600_TuneCP5_13TeV_pythia8/NANOAODSIM/106X_mc2017_realistic_v9-v1/70000/F6B6A983-3E2B-7B4D-A2CE-E03AB6E32387.root\",\n",
    "# \"root://cmsxrootd.fnal.gov//store/mc/RunIISummer20UL17NanoAODv9/QCD_Pt_600to800_TuneCP5_13TeV_pythia8/NANOAODSIM/106X_mc2017_realistic_v9-v1/70000/FDF7FBE4-9226-994A-BD45-29995A3CD62F.root\",\n",
    "# \"root://cmsxrootd.fnal.gov//store/mc/RunIISummer20UL17NanoAODv9/QCD_Pt_800to1000_TuneCP5_13TeV_pythia8/NANOAODSIM/106X_mc2017_realistic_v9-v1/70000/2CEB03D7-5B1A-EE46-9C21-13ED3E349AF4.root\",\n",
    "# \"root://cmsxrootd.fnal.gov//store/mc/RunIISummer20UL17NanoAODv9/QCD_Pt_1000to1400_TuneCP5_13TeV_pythia8/NANOAODSIM/106X_mc2017_realistic_v9-v1/70000/DB87A517-0584-1A41-BB18-AAE7C9AAE5B8.root\",\n",
    "# \"root://cmsxrootd.fnal.gov//store/mc/RunIISummer20UL17NanoAODv9/QCD_Pt_1400to1800_TuneCP5_13TeV_pythia8/NANOAODSIM/106X_mc2017_realistic_v9-v1/280000/BFE2E7E9-82CB-FE47-9B43-EBA5C373AF60.root\",\n",
    "# \"root://cmsxrootd.fnal.gov//store/mc/RunIISummer20UL17NanoAODv9/QCD_Pt_1800to2400_TuneCP5_13TeV_pythia8/NANOAODSIM/106X_mc2017_realistic_v9-v1/70000/5213B536-BAA1-CC43-A58A-B1E41E2680F5.root\",\n",
    "# \"root://cmsxrootd.fnal.gov//store/mc/RunIISummer20UL17NanoAODv9/QCD_Pt_2400to3200_TuneCP5_13TeV_pythia8/NANOAODSIM/106X_mc2017_realistic_v9-v1/280000/E8400F91-3216-EA46-A9F1-8CC7EF5261B0.root\",\n",
    "# \"root://cmsxrootd.fnal.gov//store/mc/RunIISummer20UL17NanoAODv9/QCD_Pt_3200toInf_TuneCP5_13TeV_pythia8/NANOAODSIM/106X_mc2017_realistic_v9-v1/280000/B21BFDD8-B878-784C-AFB6-5CDE131F5C39.root\"\n",
    "# ]\n",
    "# redirector = 'root://xcache/'\n",
    "# redirector='root://xrootd-local.unl.edu:1094/'\n",
    "# redirector = 'root://cmsxrootd.fnal.gov/'\n",
    "# # files = handleData('fileset_QCD.json', redirector, testing = True, data = False)\n",
    "# # files_test = handleData('fileset_QCD.json', redirector, testing = False, data = False)\n",
    "# # events = NanoEventsFactory.from_root(redirector+\"/store/mc/RunIISummer20UL18NanoAODv9/QCD_Pt_1000to1400_TuneCP5_13TeV_pythia8/NANOAODSIM/106X_upgrade2018_realistic_v16_L1v1-v1/280000/C9729B80-15C9-3940-972D-AB1E7610CE6D.root\", schemaclass=NanoAODSchema).events()\n",
    "# events = NanoEventsFactory.from_root(redirector+'/store/data/Run2016B/JetHT/NANOAOD/ver2_HIPM_UL2016_MiniAODv2_NanoAODv9-v2/50000/ACFAB5B9-6674-164F-B85A-F595BD6AE3A2.root', schemaclass=NanoAODSchema).events()\n",
    "# # print(events.fields)\n",
    "# # print(\"MC prefiring weights \", events['L1PreFiringWeight'].Nom)\n",
    "# AK8_HLTs = ['AK8PFJet60', 'AK8PFJet80', 'AK8PFJet140', 'AK8PFJet200', 'AK8PFJet260', 'AK8PFJet320', 'AK8PFJet400', 'AK8PFJet450', 'AK8PFJet500', 'AK8PFJet550']\n",
    "# print(events.run[events.HLT['AK8PFJet60']])\n",
    "# print(ak.sum(events.HLT['PFJet40']))\n",
    "# print(ak.sum(events.HLT['PFJet60']))\n",
    "# print(len(events[events.run==302493]))\n",
    "# print(len(events\n",
    "# import uproot\n",
    "# # ### uproot notation\n",
    "# # qcd_mc = uproot.open(list(files.values())[-1][0])\n",
    "# qcd_mc = uproot.open(redirector+\"/store/mc/RunIISummer20UL17NanoAODv9/QCD_Pt_3200toInf_TuneCP5_13TeV_pythia8/NANOAODSIM/106X_mc2017_realistic_v9-v1/280000/B21BFDD8-B878-784C-AFB6-5CDE131F5C39.root\")\n",
    "# uprootevents = qcd_mc['Events']\n",
    "# print(uprootevents.keys('subjet'))"
   ]
  },
  {
   "cell_type": "code",
   "execution_count": 2,
   "id": "1f9eed95",
   "metadata": {},
   "outputs": [
    {
     "name": "stdout",
     "output_type": "stream",
     "text": [
      "0.7.22\n",
      "2.7.2\n",
      "Data: Gen:  False True\n"
     ]
    }
   ],
   "source": [
    "from python.dijetProcessor import makeDijetHists\n",
    "from dask.distributed import Client\n",
    "import pickle\n",
    "#### WE'RE MISSING 2016B ver2 -- AK8 PF HLT is missing need to use AK4 trigger isntead\n",
    "data = False\n",
    "winterfell = False\n",
    "dask = True\n",
    "testing = True\n",
    "year = \"2018\"\n",
    "range = None\n",
    "mctype=\"pythiaMG\"\n",
    "processor = makeDijetHists(data = data, jet_systematics = [\"nominal\", \"JMR\", \"JMS\"]) #, systematics = ['LHEPDF']\n",
    "datastring = \"JetHT\" if processor.do_gen == False else \"QCDsim\"\n",
    "if year == 2016 or year == 2017 or year == 2018:\n",
    "    year_str = str(year)\n",
    "elif year == \"2016\" or year == \"2016APV\" or year == \"2017\" or year == \"2018\":\n",
    "    year_str = year\n",
    "else:\n",
    "    year_str = \"All\"\n",
    "if processor.do_gen==True and winterfell:\n",
    "    filename = \"QCD_flat_files.json\"\n",
    "elif processor.do_gen==True:\n",
    "    # filename = \"fileset_QCD.json\"\n",
    "    if mctype == \"pythiaMG\":\n",
    "        filename = \"fileset_MG_pythia8_wRedirs.json\"\n",
    "    elif mctype == \"herwig\":\n",
    "        filename = \"fileset_HERWIG_wRedirs.json\"\n",
    "    else:\n",
    "        filename = \"fileset_QCD_wRedirs.json\"\n",
    "else:\n",
    "    # filename = \"datasets_UL_NANOAOD.json\"\n",
    "    filename = \"fileset_JetHT_wRedirs.json\"\n",
    "if testing and not data:\n",
    "    fname = 'coffeaOutput/dijet/dijetHistsTest_wXSscaling_{}_newMandPtBins_rapidity{}_{}_{}{}.pkl'.format(datastring, processor.ycut, mctype, processor.jet_systematics[0],year_str)\n",
    "elif testing and data:\n",
    "    fname = 'coffeaOutput/dijet/dijetHistsTest{}_newMandPtBins2_rapidity{}_{}_{}{}.pkl'.format(datastring, processor.ycut, mctype, processor.jet_systematics[0],year_str)\n",
    "elif not testing and data:\n",
    "    fname = 'coffeaOutput/dijet/dijetHists_{}_newMandPtBins2_rapidity{}_{}_{}{}.pkl'.format(datastring, processor.ycut, processor.jet_systematics[0], mctype, year_str)\n",
    "else:\n",
    "    fname = 'coffeaOutput/dijet/dijetHists_wXSscaling_{}_{}_newMandPtBins_rapidity{}_{}{}.pkl'.format(datastring, processor.ycut, mctype, processor.jet_systematics[0], year_str)\n",
    "if range!=None:\n",
    "    print(\"Range input: \", range)\n",
    "    fname=fname[:-4]+\"_\"+str(range[0])+\"_\"+str(range[1])+\".pkl\"\n",
    "    print(\"New ranged fname \", fname)"
   ]
  },
  {
   "cell_type": "code",
   "execution_count": 3,
   "id": "2c55f74b",
   "metadata": {
    "scrolled": true
   },
   "outputs": [
    {
     "name": "stdout",
     "output_type": "stream",
     "text": [
      "Running over datasets  dict_keys(['/QCD_HT1000to1500_TuneCP5_13TeV-madgraphMLM-pythia8/RunIISummer20UL18NanoAODv9-106X_upgrade2018_realistic_v16_L1v1-v1/NANOAODSIM', '/QCD_HT100to200_TuneCP5_13TeV-madgraphMLM-pythia8/RunIISummer20UL18NanoAODv9-106X_upgrade2018_realistic_v16_L1v1-v1/NANOAODSIM', '/QCD_HT1500to2000_TuneCP5_13TeV-madgraphMLM-pythia8/RunIISummer20UL18NanoAODv9-106X_upgrade2018_realistic_v16_L1v1-v1/NANOAODSIM', '/QCD_HT2000toInf_TuneCP5_13TeV-madgraphMLM-pythia8/RunIISummer20UL18NanoAODv9-106X_upgrade2018_realistic_v16_L1v1-v1/NANOAODSIM', '/QCD_HT200to300_TuneCP5_13TeV-madgraphMLM-pythia8/RunIISummer20UL18NanoAODv9-106X_upgrade2018_realistic_v16_L1v1-v1/NANOAODSIM', '/QCD_HT300to500_TuneCP5_13TeV-madgraphMLM-pythia8/RunIISummer20UL18NanoAODv9-106X_upgrade2018_realistic_v16_L1v1-v1/NANOAODSIM', '/QCD_HT500to700_TuneCP5_13TeV-madgraphMLM-pythia8/RunIISummer20UL18NanoAODv9-106X_upgrade2018_realistic_v16_L1v1-v1/NANOAODSIM', '/QCD_HT700to1000_TuneCP5_13TeV-madgraphMLM-pythia8/RunIISummer20UL18NanoAODv9-106X_upgrade2018_realistic_v16_L1v1-v1/NANOAODSIM'])\n",
      "Running on LPC Condor\n",
      "[######################################  ] | 97% Completed |  7min 27.3ss\u001b[2K\u001b[2K\r"
     ]
    },
    {
     "ename": "Exception",
     "evalue": "Failed processing file: WorkItem(dataset='/QCD_HT200to300_TuneCP5_13TeV-madgraphMLM-pythia8/RunIISummer20UL18NanoAODv9-106X_upgrade2018_realistic_v16_L1v1-v1/NANOAODSIM', filename='root://cmseos.fnal.gov//store/mc/RunIISummer20UL18NanoAODv9/QCD_HT200to300_TuneCP5_13TeV-madgraphMLM-pythia8/NANOAODSIM/106X_upgrade2018_realistic_v16_L1v1-v1/2830000/01597A4E-6C68-B94C-90AA-45D8FAAB3E1E.root', treename='Events', entrystart=938825, entrystop=958800, fileuuid=b'\\x19\\xbfm\\x8a\\xd7\\xf0\\x11\\xec\\x82 \\xd4\\xc0\\x8e\\x80\\xbe\\xef', usermeta={})",
     "output_type": "error",
     "traceback": [
      "\u001b[0;31m---------------------------------------------------------------------------\u001b[0m",
      "\u001b[0;31mValueError\u001b[0m                                Traceback (most recent call last)",
      "File \u001b[0;32m/opt/conda/lib/python3.9/site-packages/coffea/processor/executor.py:1654\u001b[0m, in \u001b[0;36m_work_function\u001b[0;34m()\u001b[0m\n\u001b[1;32m   1653\u001b[0m \u001b[38;5;28;01mtry\u001b[39;00m:\n\u001b[0;32m-> 1654\u001b[0m     out \u001b[38;5;241m=\u001b[39m processor_instance\u001b[38;5;241m.\u001b[39mprocess(events)\n\u001b[1;32m   1655\u001b[0m \u001b[38;5;28;01mexcept\u001b[39;00m \u001b[38;5;167;01mException\u001b[39;00m \u001b[38;5;28;01mas\u001b[39;00m e:\n",
      "File \u001b[0;32m/srv/python/dijetProcessor.py:444\u001b[0m, in \u001b[0;36mprocess\u001b[0;34m()\u001b[0m\n\u001b[1;32m    443\u001b[0m \u001b[38;5;28mprint\u001b[39m(\u001b[38;5;124m\"\u001b[39m\u001b[38;5;124mGroomed jet 1 \u001b[39m\u001b[38;5;124m\"\u001b[39m, groomed_genjet1\u001b[38;5;241m.\u001b[39mpt)\n\u001b[0;32m--> 444\u001b[0m groomed_gen_dijet \u001b[38;5;241m=\u001b[39m ak\u001b[38;5;241m.\u001b[39mconcatenate([ak\u001b[38;5;241m.\u001b[39munflatten(groomed_genjet0, \u001b[38;5;241m1\u001b[39m),  ak\u001b[38;5;241m.\u001b[39munflatten(groomed_genjet1, \u001b[38;5;241m1\u001b[39m)], axis\u001b[38;5;241m=\u001b[39m\u001b[38;5;241m1\u001b[39m)\n\u001b[1;32m    445\u001b[0m groomed_gen_dijet \u001b[38;5;241m=\u001b[39m ak\u001b[38;5;241m.\u001b[39mflatten(groomed_gen_dijet, axis\u001b[38;5;241m=\u001b[39m\u001b[38;5;241m1\u001b[39m)\n",
      "File \u001b[0;32m/opt/conda/lib/python3.9/site-packages/awkward/operations/structure.py:2155\u001b[0m, in \u001b[0;36munflatten\u001b[0;34m()\u001b[0m\n\u001b[1;32m   2154\u001b[0m     \u001b[38;5;28;01melse\u001b[39;00m:\n\u001b[0;32m-> 2155\u001b[0m         out \u001b[38;5;241m=\u001b[39m doit(layout)\n\u001b[1;32m   2157\u001b[0m \u001b[38;5;28;01melse\u001b[39;00m:\n",
      "File \u001b[0;32m/opt/conda/lib/python3.9/site-packages/awkward/operations/structure.py:2117\u001b[0m, in \u001b[0;36mdoit\u001b[0;34m()\u001b[0m\n\u001b[1;32m   2116\u001b[0m \u001b[38;5;28;01mif\u001b[39;00m counts \u001b[38;5;241m<\u001b[39m \u001b[38;5;241m0\u001b[39m \u001b[38;5;129;01mor\u001b[39;00m counts \u001b[38;5;241m>\u001b[39m \u001b[38;5;28mlen\u001b[39m(layout):\n\u001b[0;32m-> 2117\u001b[0m     \u001b[38;5;28;01mraise\u001b[39;00m \u001b[38;5;167;01mValueError\u001b[39;00m(\n\u001b[1;32m   2118\u001b[0m         \u001b[38;5;124m\"\u001b[39m\u001b[38;5;124mtoo large counts for array or negative counts\u001b[39m\u001b[38;5;124m\"\u001b[39m\n\u001b[1;32m   2119\u001b[0m         \u001b[38;5;241m+\u001b[39m ak\u001b[38;5;241m.\u001b[39m_util\u001b[38;5;241m.\u001b[39mexception_suffix(\u001b[38;5;18m__file__\u001b[39m)\n\u001b[1;32m   2120\u001b[0m     )\n\u001b[1;32m   2121\u001b[0m out \u001b[38;5;241m=\u001b[39m ak\u001b[38;5;241m.\u001b[39mlayout\u001b[38;5;241m.\u001b[39mRegularArray(layout, counts)\n",
      "\u001b[0;31mValueError\u001b[0m: too large counts for array or negative counts\n\n(https://github.com/scikit-hep/awkward-1.0/blob/1.10.3/src/awkward/operations/structure.py#L2119)",
      "\nThe above exception was the direct cause of the following exception:\n",
      "\u001b[0;31mException\u001b[0m                                 Traceback (most recent call last)",
      "Cell \u001b[0;32mIn[3], line 30\u001b[0m\n\u001b[1;32m     28\u001b[0m             pickle\u001b[38;5;241m.\u001b[39mdump( result, f)\n\u001b[1;32m     29\u001b[0m \u001b[38;5;28;01melse\u001b[39;00m:\n\u001b[0;32m---> 30\u001b[0m     result \u001b[38;5;241m=\u001b[39m \u001b[43mrunCoffeaJob\u001b[49m\u001b[43m(\u001b[49m\u001b[43mprocessor\u001b[49m\u001b[43m,\u001b[49m\u001b[43m \u001b[49m\u001b[43mjsonFile\u001b[49m\u001b[43m \u001b[49m\u001b[38;5;241;43m=\u001b[39;49m\u001b[43m \u001b[49m\u001b[43mfilename\u001b[49m\u001b[43m,\u001b[49m\u001b[43m \u001b[49m\u001b[43mwinterfell\u001b[49m\u001b[43m \u001b[49m\u001b[38;5;241;43m=\u001b[39;49m\u001b[43m \u001b[49m\u001b[43mwinterfell\u001b[49m\u001b[43m,\u001b[49m\u001b[43m \u001b[49m\u001b[43myear\u001b[49m\u001b[43m \u001b[49m\u001b[38;5;241;43m=\u001b[39;49m\u001b[43m \u001b[49m\u001b[43myear\u001b[49m\u001b[43m,\u001b[49m\n\u001b[1;32m     31\u001b[0m \u001b[43m                      \u001b[49m\u001b[43mtesting\u001b[49m\u001b[43m \u001b[49m\u001b[38;5;241;43m=\u001b[39;49m\u001b[43m \u001b[49m\u001b[43mtesting\u001b[49m\u001b[43m,\u001b[49m\u001b[43m \u001b[49m\u001b[43mdask\u001b[49m\u001b[43m \u001b[49m\u001b[38;5;241;43m=\u001b[39;49m\u001b[43m \u001b[49m\u001b[43mdask\u001b[49m\u001b[43m,\u001b[49m\u001b[43m \u001b[49m\u001b[43mdata\u001b[49m\u001b[43m \u001b[49m\u001b[38;5;241;43m=\u001b[39;49m\u001b[43m \u001b[49m\u001b[38;5;129;43;01mnot\u001b[39;49;00m\u001b[43m \u001b[49m\u001b[43mprocessor\u001b[49m\u001b[38;5;241;43m.\u001b[39;49m\u001b[43mdo_gen\u001b[49m\u001b[43m)\u001b[49m\n\u001b[1;32m     32\u001b[0m     \u001b[38;5;28;01mwith\u001b[39;00m \u001b[38;5;28mopen\u001b[39m(fname, \u001b[38;5;124m\"\u001b[39m\u001b[38;5;124mwb\u001b[39m\u001b[38;5;124m\"\u001b[39m) \u001b[38;5;28;01mas\u001b[39;00m f:\n\u001b[1;32m     33\u001b[0m         pickle\u001b[38;5;241m.\u001b[39mdump( result, f)\n",
      "File \u001b[0;32m/srv/python/plugins.py:180\u001b[0m, in \u001b[0;36mrunCoffeaJob\u001b[0;34m(processor_inst, jsonFile, dask, casa, testing, year, data, winterfell, verbose, datasetRange)\u001b[0m\n\u001b[1;32m    178\u001b[0m             \u001b[38;5;28;01mwith\u001b[39;00m warnings\u001b[38;5;241m.\u001b[39mcatch_warnings():\n\u001b[1;32m    179\u001b[0m                     warnings\u001b[38;5;241m.\u001b[39msimplefilter(\u001b[38;5;124m\"\u001b[39m\u001b[38;5;124mignore\u001b[39m\u001b[38;5;124m\"\u001b[39m)\n\u001b[0;32m--> 180\u001b[0m                     result, metrics \u001b[38;5;241m=\u001b[39m \u001b[43mrun_instance\u001b[49m\u001b[43m(\u001b[49m\u001b[43msamples\u001b[49m\u001b[43m,\u001b[49m\u001b[43m \u001b[49m\n\u001b[1;32m    181\u001b[0m \u001b[43m                                                   \u001b[49m\u001b[38;5;124;43m\"\u001b[39;49m\u001b[38;5;124;43mEvents\u001b[39;49m\u001b[38;5;124;43m\"\u001b[39;49m\u001b[43m,\u001b[49m\n\u001b[1;32m    182\u001b[0m \u001b[43m                                                   \u001b[49m\u001b[43mprocessor_instance\u001b[49m\u001b[38;5;241;43m=\u001b[39;49m\u001b[43mprocessor_inst\u001b[49m\u001b[43m,\u001b[49m\u001b[43m)\u001b[49m\n\u001b[1;32m    183\u001b[0m                     \u001b[38;5;28;01mdel\u001b[39;00m metrics\n\u001b[1;32m    185\u001b[0m \u001b[38;5;66;03m#         print(\"Waiting for at least one worker...\")\u001b[39;00m\n\u001b[1;32m    186\u001b[0m     \u001b[38;5;28;01melse\u001b[39;00m:\n",
      "File \u001b[0;32m/opt/conda/lib/python3.9/site-packages/coffea/processor/executor.py:1700\u001b[0m, in \u001b[0;36mRunner.__call__\u001b[0;34m(self, fileset, treename, processor_instance)\u001b[0m\n\u001b[1;32m   1679\u001b[0m \u001b[38;5;28;01mdef\u001b[39;00m \u001b[38;5;21m__call__\u001b[39m(\n\u001b[1;32m   1680\u001b[0m     \u001b[38;5;28mself\u001b[39m,\n\u001b[1;32m   1681\u001b[0m     fileset: Dict,\n\u001b[1;32m   1682\u001b[0m     treename: \u001b[38;5;28mstr\u001b[39m,\n\u001b[1;32m   1683\u001b[0m     processor_instance: ProcessorABC,\n\u001b[1;32m   1684\u001b[0m ) \u001b[38;5;241m-\u001b[39m\u001b[38;5;241m>\u001b[39m Accumulatable:\n\u001b[1;32m   1685\u001b[0m \u001b[38;5;250m    \u001b[39m\u001b[38;5;124;03m\"\"\"Run the processor_instance on a given fileset\u001b[39;00m\n\u001b[1;32m   1686\u001b[0m \n\u001b[1;32m   1687\u001b[0m \u001b[38;5;124;03m    Parameters\u001b[39;00m\n\u001b[0;32m   (...)\u001b[0m\n\u001b[1;32m   1697\u001b[0m \u001b[38;5;124;03m            An instance of a class deriving from ProcessorABC\u001b[39;00m\n\u001b[1;32m   1698\u001b[0m \u001b[38;5;124;03m    \"\"\"\u001b[39;00m\n\u001b[0;32m-> 1700\u001b[0m     wrapped_out \u001b[38;5;241m=\u001b[39m \u001b[38;5;28;43mself\u001b[39;49m\u001b[38;5;241;43m.\u001b[39;49m\u001b[43mrun\u001b[49m\u001b[43m(\u001b[49m\u001b[43mfileset\u001b[49m\u001b[43m,\u001b[49m\u001b[43m \u001b[49m\u001b[43mprocessor_instance\u001b[49m\u001b[43m,\u001b[49m\u001b[43m \u001b[49m\u001b[43mtreename\u001b[49m\u001b[43m)\u001b[49m\n\u001b[1;32m   1701\u001b[0m     \u001b[38;5;28;01mif\u001b[39;00m \u001b[38;5;28mself\u001b[39m\u001b[38;5;241m.\u001b[39muse_dataframes:\n\u001b[1;32m   1702\u001b[0m         \u001b[38;5;28;01mreturn\u001b[39;00m wrapped_out  \u001b[38;5;66;03m# not wrapped anymore\u001b[39;00m\n",
      "File \u001b[0;32m/opt/conda/lib/python3.9/site-packages/coffea/processor/executor.py:1848\u001b[0m, in \u001b[0;36mRunner.run\u001b[0;34m(self, fileset, processor_instance, treename)\u001b[0m\n\u001b[1;32m   1843\u001b[0m closure \u001b[38;5;241m=\u001b[39m partial(\n\u001b[1;32m   1844\u001b[0m     \u001b[38;5;28mself\u001b[39m\u001b[38;5;241m.\u001b[39mautomatic_retries, \u001b[38;5;28mself\u001b[39m\u001b[38;5;241m.\u001b[39mretries, \u001b[38;5;28mself\u001b[39m\u001b[38;5;241m.\u001b[39mskipbadfiles, closure\n\u001b[1;32m   1845\u001b[0m )\n\u001b[1;32m   1847\u001b[0m executor \u001b[38;5;241m=\u001b[39m \u001b[38;5;28mself\u001b[39m\u001b[38;5;241m.\u001b[39mexecutor\u001b[38;5;241m.\u001b[39mcopy(\u001b[38;5;241m*\u001b[39m\u001b[38;5;241m*\u001b[39mexe_args)\n\u001b[0;32m-> 1848\u001b[0m wrapped_out, e \u001b[38;5;241m=\u001b[39m \u001b[43mexecutor\u001b[49m\u001b[43m(\u001b[49m\u001b[43mchunks\u001b[49m\u001b[43m,\u001b[49m\u001b[43m \u001b[49m\u001b[43mclosure\u001b[49m\u001b[43m,\u001b[49m\u001b[43m \u001b[49m\u001b[38;5;28;43;01mNone\u001b[39;49;00m\u001b[43m)\u001b[49m\n\u001b[1;32m   1849\u001b[0m \u001b[38;5;28;01mif\u001b[39;00m wrapped_out \u001b[38;5;129;01mis\u001b[39;00m \u001b[38;5;28;01mNone\u001b[39;00m:\n\u001b[1;32m   1850\u001b[0m     \u001b[38;5;28;01mraise\u001b[39;00m \u001b[38;5;167;01mValueError\u001b[39;00m(\n\u001b[1;32m   1851\u001b[0m         \u001b[38;5;124m\"\u001b[39m\u001b[38;5;124mNo chunks returned results, verify ``processor`` instance structure.\u001b[39m\u001b[38;5;130;01m\\n\u001b[39;00m\u001b[38;5;130;01m\\\u001b[39;00m\n\u001b[1;32m   1852\u001b[0m \u001b[38;5;124m        if you used skipbadfiles=True, it is possible all your files are bad.\u001b[39m\u001b[38;5;124m\"\u001b[39m\n\u001b[1;32m   1853\u001b[0m     )\n",
      "File \u001b[0;32m/opt/conda/lib/python3.9/site-packages/coffea/processor/executor.py:974\u001b[0m, in \u001b[0;36mDaskExecutor.__call__\u001b[0;34m(self, items, function, accumulator)\u001b[0m\n\u001b[1;32m    967\u001b[0m         \u001b[38;5;66;03m# FIXME: fancy widget doesn't appear, have to live with boring pbar\u001b[39;00m\n\u001b[1;32m    968\u001b[0m         progress(work, multi\u001b[38;5;241m=\u001b[39m\u001b[38;5;28;01mTrue\u001b[39;00m, notebook\u001b[38;5;241m=\u001b[39m\u001b[38;5;28;01mFalse\u001b[39;00m)\n\u001b[1;32m    969\u001b[0m     \u001b[38;5;28;01mreturn\u001b[39;00m (\n\u001b[1;32m    970\u001b[0m         accumulate(\n\u001b[1;32m    971\u001b[0m             [\n\u001b[1;32m    972\u001b[0m                 work\u001b[38;5;241m.\u001b[39mresult()\n\u001b[1;32m    973\u001b[0m                 \u001b[38;5;28;01mif\u001b[39;00m \u001b[38;5;28mself\u001b[39m\u001b[38;5;241m.\u001b[39mcompression \u001b[38;5;129;01mis\u001b[39;00m \u001b[38;5;28;01mNone\u001b[39;00m\n\u001b[0;32m--> 974\u001b[0m                 \u001b[38;5;28;01melse\u001b[39;00m _decompress(\u001b[43mwork\u001b[49m\u001b[38;5;241;43m.\u001b[39;49m\u001b[43mresult\u001b[49m\u001b[43m(\u001b[49m\u001b[43m)\u001b[49m)\n\u001b[1;32m    975\u001b[0m             ],\n\u001b[1;32m    976\u001b[0m             accumulator,\n\u001b[1;32m    977\u001b[0m         ),\n\u001b[1;32m    978\u001b[0m         \u001b[38;5;241m0\u001b[39m,\n\u001b[1;32m    979\u001b[0m     )\n\u001b[1;32m    980\u001b[0m \u001b[38;5;28;01mexcept\u001b[39;00m KilledWorker \u001b[38;5;28;01mas\u001b[39;00m ex:\n\u001b[1;32m    981\u001b[0m     baditem \u001b[38;5;241m=\u001b[39m key_to_item[ex\u001b[38;5;241m.\u001b[39mtask]\n",
      "File \u001b[0;32m/opt/conda/lib/python3.9/site-packages/distributed/client.py:287\u001b[0m, in \u001b[0;36mFuture.result\u001b[0;34m(self, timeout)\u001b[0m\n\u001b[1;32m    285\u001b[0m \u001b[38;5;28;01mif\u001b[39;00m \u001b[38;5;28mself\u001b[39m\u001b[38;5;241m.\u001b[39mstatus \u001b[38;5;241m==\u001b[39m \u001b[38;5;124m\"\u001b[39m\u001b[38;5;124merror\u001b[39m\u001b[38;5;124m\"\u001b[39m:\n\u001b[1;32m    286\u001b[0m     typ, exc, tb \u001b[38;5;241m=\u001b[39m result\n\u001b[0;32m--> 287\u001b[0m     \u001b[38;5;28;01mraise\u001b[39;00m exc\u001b[38;5;241m.\u001b[39mwith_traceback(tb)\n\u001b[1;32m    288\u001b[0m \u001b[38;5;28;01melif\u001b[39;00m \u001b[38;5;28mself\u001b[39m\u001b[38;5;241m.\u001b[39mstatus \u001b[38;5;241m==\u001b[39m \u001b[38;5;124m\"\u001b[39m\u001b[38;5;124mcancelled\u001b[39m\u001b[38;5;124m\"\u001b[39m:\n\u001b[1;32m    289\u001b[0m     \u001b[38;5;28;01mraise\u001b[39;00m result\n",
      "File \u001b[0;32m/opt/conda/lib/python3.9/site-packages/coffea/processor/executor.py:221\u001b[0m, in \u001b[0;36m__call__\u001b[0;34m()\u001b[0m\n\u001b[1;32m    220\u001b[0m \u001b[38;5;28;01mdef\u001b[39;00m \u001b[38;5;21m__call__\u001b[39m(\u001b[38;5;28mself\u001b[39m, \u001b[38;5;241m*\u001b[39margs, \u001b[38;5;241m*\u001b[39m\u001b[38;5;241m*\u001b[39mkwargs):\n\u001b[0;32m--> 221\u001b[0m     out \u001b[38;5;241m=\u001b[39m \u001b[38;5;28mself\u001b[39m\u001b[38;5;241m.\u001b[39mfunction(\u001b[38;5;241m*\u001b[39margs, \u001b[38;5;241m*\u001b[39m\u001b[38;5;241m*\u001b[39mkwargs)\n\u001b[1;32m    222\u001b[0m     \u001b[38;5;28;01mreturn\u001b[39;00m _compress(out, \u001b[38;5;28mself\u001b[39m\u001b[38;5;241m.\u001b[39mlevel)\n",
      "File \u001b[0;32m/opt/conda/lib/python3.9/site-packages/coffea/processor/executor.py:1367\u001b[0m, in \u001b[0;36mautomatic_retries\u001b[0;34m()\u001b[0m\n\u001b[1;32m   1361\u001b[0m         \u001b[38;5;28;01mbreak\u001b[39;00m\n\u001b[1;32m   1362\u001b[0m     \u001b[38;5;28;01mif\u001b[39;00m (\n\u001b[1;32m   1363\u001b[0m         \u001b[38;5;129;01mnot\u001b[39;00m skipbadfiles\n\u001b[1;32m   1364\u001b[0m         \u001b[38;5;129;01mor\u001b[39;00m \u001b[38;5;28many\u001b[39m(\u001b[38;5;124m\"\u001b[39m\u001b[38;5;124mAuth failed\u001b[39m\u001b[38;5;124m\"\u001b[39m \u001b[38;5;129;01min\u001b[39;00m \u001b[38;5;28mstr\u001b[39m(c) \u001b[38;5;28;01mfor\u001b[39;00m c \u001b[38;5;129;01min\u001b[39;00m chain)\n\u001b[1;32m   1365\u001b[0m         \u001b[38;5;129;01mor\u001b[39;00m retries \u001b[38;5;241m==\u001b[39m retry_count\n\u001b[1;32m   1366\u001b[0m     ):\n\u001b[0;32m-> 1367\u001b[0m         \u001b[38;5;28;01mraise\u001b[39;00m e\n\u001b[1;32m   1368\u001b[0m     warnings\u001b[38;5;241m.\u001b[39mwarn(\u001b[38;5;124m\"\u001b[39m\u001b[38;5;124mAttempt \u001b[39m\u001b[38;5;132;01m%d\u001b[39;00m\u001b[38;5;124m of \u001b[39m\u001b[38;5;132;01m%d\u001b[39;00m\u001b[38;5;124m.\u001b[39m\u001b[38;5;124m\"\u001b[39m \u001b[38;5;241m%\u001b[39m (retry_count \u001b[38;5;241m+\u001b[39m \u001b[38;5;241m1\u001b[39m, retries \u001b[38;5;241m+\u001b[39m \u001b[38;5;241m1\u001b[39m))\n\u001b[1;32m   1369\u001b[0m retry_count \u001b[38;5;241m+\u001b[39m\u001b[38;5;241m=\u001b[39m \u001b[38;5;241m1\u001b[39m\n",
      "File \u001b[0;32m/opt/conda/lib/python3.9/site-packages/coffea/processor/executor.py:1336\u001b[0m, in \u001b[0;36mautomatic_retries\u001b[0;34m()\u001b[0m\n\u001b[1;32m   1334\u001b[0m \u001b[38;5;28;01mwhile\u001b[39;00m retry_count \u001b[38;5;241m<\u001b[39m\u001b[38;5;241m=\u001b[39m retries:\n\u001b[1;32m   1335\u001b[0m     \u001b[38;5;28;01mtry\u001b[39;00m:\n\u001b[0;32m-> 1336\u001b[0m         \u001b[38;5;28;01mreturn\u001b[39;00m func(\u001b[38;5;241m*\u001b[39margs, \u001b[38;5;241m*\u001b[39m\u001b[38;5;241m*\u001b[39mkwargs)\n\u001b[1;32m   1337\u001b[0m     \u001b[38;5;66;03m# catch xrootd errors and optionally skip\u001b[39;00m\n\u001b[1;32m   1338\u001b[0m     \u001b[38;5;66;03m# or retry to read the file\u001b[39;00m\n\u001b[1;32m   1339\u001b[0m     \u001b[38;5;28;01mexcept\u001b[39;00m \u001b[38;5;167;01mException\u001b[39;00m \u001b[38;5;28;01mas\u001b[39;00m e:\n",
      "File \u001b[0;32m/opt/conda/lib/python3.9/site-packages/coffea/processor/executor.py:1656\u001b[0m, in \u001b[0;36m_work_function\u001b[0;34m()\u001b[0m\n\u001b[1;32m   1654\u001b[0m     out \u001b[38;5;241m=\u001b[39m processor_instance\u001b[38;5;241m.\u001b[39mprocess(events)\n\u001b[1;32m   1655\u001b[0m \u001b[38;5;28;01mexcept\u001b[39;00m \u001b[38;5;167;01mException\u001b[39;00m \u001b[38;5;28;01mas\u001b[39;00m e:\n\u001b[0;32m-> 1656\u001b[0m     \u001b[38;5;28;01mraise\u001b[39;00m \u001b[38;5;167;01mException\u001b[39;00m(\u001b[38;5;124mf\u001b[39m\u001b[38;5;124m\"\u001b[39m\u001b[38;5;124mFailed processing file: \u001b[39m\u001b[38;5;132;01m{\u001b[39;00mitem\u001b[38;5;132;01m!r}\u001b[39;00m\u001b[38;5;124m\"\u001b[39m) \u001b[38;5;28;01mfrom\u001b[39;00m \u001b[38;5;21;01me\u001b[39;00m\n\u001b[1;32m   1657\u001b[0m \u001b[38;5;28;01mif\u001b[39;00m out \u001b[38;5;129;01mis\u001b[39;00m \u001b[38;5;28;01mNone\u001b[39;00m:\n\u001b[1;32m   1658\u001b[0m     \u001b[38;5;28;01mraise\u001b[39;00m \u001b[38;5;167;01mValueError\u001b[39;00m(\n\u001b[1;32m   1659\u001b[0m         \u001b[38;5;124m\"\u001b[39m\u001b[38;5;124mOutput of process() should not be None. Make sure your processor\u001b[39m\u001b[38;5;124m'\u001b[39m\u001b[38;5;124ms process() function returns an accumulator.\u001b[39m\u001b[38;5;124m\"\u001b[39m\n\u001b[1;32m   1660\u001b[0m     )\n",
      "\u001b[0;31mException\u001b[0m: Failed processing file: WorkItem(dataset='/QCD_HT200to300_TuneCP5_13TeV-madgraphMLM-pythia8/RunIISummer20UL18NanoAODv9-106X_upgrade2018_realistic_v16_L1v1-v1/NANOAODSIM', filename='root://cmseos.fnal.gov//store/mc/RunIISummer20UL18NanoAODv9/QCD_HT200to300_TuneCP5_13TeV-madgraphMLM-pythia8/NANOAODSIM/106X_upgrade2018_realistic_v16_L1v1-v1/2830000/01597A4E-6C68-B94C-90AA-45D8FAAB3E1E.root', treename='Events', entrystart=938825, entrystop=958800, fileuuid=b'\\x19\\xbfm\\x8a\\xd7\\xf0\\x11\\xec\\x82 \\xd4\\xc0\\x8e\\x80\\xbe\\xef', usermeta={})"
     ]
    }
   ],
   "source": [
    "run_ind_srcs = False\n",
    "\n",
    "unc_srcs = [\"nominal\",\"jer\", \"AbsoluteMPFBias\",\"AbsoluteScale\",\"AbsoluteStat\",\"FlavorQCD\",\"Fragmentation\",\"PileUpDataMC\",\"PileUpPtBB\",\"PileUpPtEC1\",\n",
    "\"PileUpPtEC2\",\"PileUpPtHF\",\"PileUpPtRef\",\"RelativeFSR\",\"RelativeJEREC1\",\n",
    "            \"RelativeJEREC2\",\"RelativeJERHF\",\"RelativePtBB\",\"RelativePtEC1\",\n",
    "            \"RelativePtEC2\",\"RelativePtHF\",\"RelativeBal\",\"RelativeSample\",\n",
    "            \"RelativeStatEC\",\"RelativeStatFSR\",\"RelativeStatHF\",\"SinglePionECAL\",\n",
    "            \"SinglePionHCAL\",\"TimePtEta\"]\n",
    "if run_ind_srcs == True:\n",
    "    for src in unc_srcs:\n",
    "        print(\"Running for source \", src)\n",
    "        processor = makeDijetHists(data = data, jet_systematics = [src])\n",
    "        result = runCoffeaJob(processor, jsonFile = filename, winterfell = winterfell, year = year, \n",
    "                              testing = testing, dask = dask, data = not processor.do_gen, datasetRange=range)\n",
    "        if testing and not data:\n",
    "            fname = 'coffeaOutput/dijet/dijetHistsTest_wXSscaling_{}_pt{}_rapidity{}_{}{}.pkl'.format(datastring, processor.ptcut, processor.ycut, src, year_str)\n",
    "        elif testing and data:\n",
    "            fname = 'coffeaOutput/dijet/dijetHistsTest{}_pt{}_rapidity{}_{}{}.pkl'.format(datastring, processor.ptcut, processor.ycut, src, year_str)\n",
    "        elif not testing and data:\n",
    "            fname = 'coffeaOutput/dijet/dijetHists_{}_pt{}_rapidity{}_{}{}.pkl'.format(datastring, processor.ptcut, processor.ycut, src, year_str)\n",
    "        else:\n",
    "            fname = 'coffeaOutput/dijet/dijetHists_wXSscaling_{}_pt{}_rapidity{}_{}{}.pkl'.format(datastring, processor.ptcut, processor.ycut, src, year_str)\n",
    "        if range!=None:\n",
    "            print(\"Range input: \", range)\n",
    "            fname=fname[:-4]+\"_\"+str(range[0])+\"_\"+str(range[1])+\".pkl\"\n",
    "            print(\"New ranged fname \", fname)\n",
    "        with open(fname, \"wb\") as f:\n",
    "            pickle.dump( result, f)\n",
    "else:\n",
    "    result = runCoffeaJob(processor, jsonFile = filename, winterfell = winterfell, year = year,\n",
    "                      testing = testing, dask = dask, data = not processor.do_gen)\n",
    "    with open(fname, \"wb\") as f:\n",
    "        pickle.dump( result, f)"
   ]
  },
  {
   "cell_type": "code",
   "execution_count": null,
   "id": "91cdf3f2",
   "metadata": {
    "tags": []
   },
   "outputs": [],
   "source": [
    "fname = \"coffeaOutput/dijet/dijetHistsTest_wXSscaling_QCDsim_pt200.0_rapidity2.5_nominal2018.pkl\"\n",
    "with open(fname, \"rb\") as f:\n",
    "    result = pickle.load( f )\n",
    "# result=result[0]\n",
    "import matplotlib.pyplot as plt\n",
    "import mplhep as hep\n",
    "plt.style.use(hep.style.CMS)\n",
    "%matplotlib inline\n",
    "\n",
    "plt.rcParams[\"figure.figsize\"] = (10,10)\n",
    "\n",
    "print(result['cutflow'])"
   ]
  },
  {
   "cell_type": "code",
   "execution_count": null,
   "id": "0b80797b",
   "metadata": {
    "tags": []
   },
   "outputs": [],
   "source": [
    "fig, axs = plt.subplots(2, 2)\n",
    "fig.suptitle('Ungroomed MC jets')\n",
    "\n",
    "result['response_matrix_u'][{'syst':\"nominal\"}].project('ptreco').plot1d(ax=axs[0,0], binwnorm=True)\n",
    "result['response_matrix_u'].project('ptgen').plot1d(ax=axs[0,1])\n",
    "result['response_matrix_u'].project('mgen').plot1d(ax=axs[1,0], binwnorm=True)\n",
    "result['response_matrix_u'].project('mreco').plot1d(ax=axs[1,1])"
   ]
  },
  {
   "cell_type": "code",
   "execution_count": null,
   "id": "09a9a545-9648-4ae8-b43a-f9f05e7c5272",
   "metadata": {
    "tags": []
   },
   "outputs": [],
   "source": [
    "s = result['response_matrix_u'].stack(\"syst\")\n",
    "s.project('ptreco').plot(binwnorm=True)\n",
    "plt.legend()\n",
    "plt.show()"
   ]
  },
  {
   "cell_type": "code",
   "execution_count": null,
   "id": "26e46d9c-ad42-4f34-941b-95aa31b9197b",
   "metadata": {
    "tags": []
   },
   "outputs": [],
   "source": [
    "fname = \"coffeaOutput/dijet/dijetHistsTest_wXSscaling_QCDsim_pt200.0_rapidity2.5_nominal2018.pkl\"\n",
    "with open(fname, \"rb\") as f:\n",
    "    result = pickle.load( f )\n",
    "# result=result[0]\n",
    "import matplotlib.pyplot as plt\n",
    "%matplotlib inline\n",
    "#import mplhep as hep\n",
    "plt.rcParams[\"figure.figsize\"] = (10,10)"
   ]
  },
  {
   "cell_type": "code",
   "execution_count": null,
   "id": "b50f770f-e4a6-489e-81c9-7104f2a64a46",
   "metadata": {
    "tags": []
   },
   "outputs": [],
   "source": [
    "fig, axs = plt.subplots(2, 2)\n",
    "result['ptreco_mreco_u'].project('ptreco').plot1d(ax=axs[0,0], binwnorm=True)\n",
    "result['ptreco_mreco_u'].project('mreco').plot1d(ax=axs[0,1])\n",
    "result['ptreco_mreco_g'].project('ptreco').plot1d(ax=axs[1,0], binwnorm=True)\n",
    "result['ptreco_mreco_g'].project('mreco').plot1d(ax=axs[1,1])"
   ]
  },
  {
   "cell_type": "code",
   "execution_count": null,
   "id": "f4c6ac80-cccf-4423-b65e-35c204cc6f47",
   "metadata": {},
   "outputs": [],
   "source": [
    "fig, axs = plt.subplots(2, 2)\n",
    "for ax in axs.flatten():\n",
    "    ax.set_xlim([0,1000])\n",
    "fig.suptitle('Ungroomed Gen jets')\n",
    "result['ptgen_mgen_u'].project('ptgen').plot1d(ax=axs[0,0], binwnorm=True)\n",
    "result['ptgen_mgen_u'].project('mgen').plot1d(ax=axs[0,1])\n",
    "result['ptgen_mgen_g'].project('ptgen').plot1d(ax=axs[1,0], binwnorm=True)\n",
    "result['ptgen_mgen_g'].project('mgen').plot1d(ax=axs[1,1])"
   ]
  },
  {
   "cell_type": "code",
   "execution_count": null,
   "id": "2d701e4d-4861-4824-8cc8-756916354481",
   "metadata": {
    "tags": []
   },
   "outputs": [],
   "source": [
    "# numerator = result['jet_pt'][{'partonFlav':'Gluon'}].project('ptreco')\n",
    "# denominator = result['jet_pt'].project('ptreco')\n",
    "# print(numerator.values(), denominator.values())\n",
    "\n",
    "# numerator.label = r'$\\epsilon$'\n",
    "# fig = plt.gcf()\n",
    "# grid = fig.add_gridspec(2, 1, hspace=0, height_ratios=[3, 1])\n",
    "\n",
    "# main_ax = fig.add_subplot(grid[0])\n",
    "# subplot_ax = fig.add_subplot(grid[1], sharex=main_ax)\n",
    "# plt.setp(main_ax.get_xticklabels(), visible=False)\n",
    "# main_ax, sublot_ax = numerator.plot_ratio(\n",
    "#     denominator,\n",
    "#     rp_num_label=\"gluons\",\n",
    "#     rp_denom_label=\"all\",\n",
    "#     rp_uncert_draw_type=\"line\",\n",
    "#     rp_uncertainty_type=\"efficiency\",\n",
    "#     ax_dict = {\"main_ax\":main_ax,\"ratio_ax\":subplot_ax}\n",
    "# )\n",
    "\n",
    "# plt.xlabel(\"Pt (GeV)\")\n",
    "# plt.ylabel(\"Gluon fraction\")\n",
    "# fig.suptitle('Gluon content as a function of pT')"
   ]
  },
  {
   "cell_type": "code",
   "execution_count": null,
   "id": "aacad3c5",
   "metadata": {},
   "outputs": [],
   "source": [
    "# numerator = result['jet_eta'][{'partonFlav':'Gluon'}].project('eta')\n",
    "# denominator = result['jet_eta'].project('eta')\n",
    "# print(numerator.values(), denominator.values())\n",
    "# numerator.label = r'$\\epsilon$'\n",
    "# numerator.label = r'$\\epsilon$'\n",
    "# fig = plt.gcf()\n",
    "# grid = fig.add_gridspec(2, 1, hspace=0, height_ratios=[3, 1])\n",
    "\n",
    "# main_axis = fig.add_subplot(grid[0])\n",
    "# ratio_ax = fig.add_subplot(grid[1], sharex=main_axis)\n",
    "# plt.setp(main_axis.get_xticklabels(), visible=False)\n",
    "# main_ax, sublot_ax = numerator.plot_ratio(\n",
    "#     denominator,\n",
    "#     rp_num_label=\"gluons\",\n",
    "#     rp_denom_label=\"all\",\n",
    "#     rp_uncert_draw_type=\"line\",\n",
    "#     rp_uncertainty_type=\"efficiency\",\n",
    "#     ax_dict = {\"main_ax\":main_axis,\"ratio_ax\":ratio_ax}\n",
    "# )\n",
    "\n",
    "# plt.xlabel(r'$\\eta$')\n",
    "# plt.ylabel(\"Gluon fraction\")\n",
    "# main_axis.set_title('Gluon content as a function of eta')\n"
   ]
  },
  {
   "cell_type": "code",
   "execution_count": null,
   "id": "374e1fa7",
   "metadata": {},
   "outputs": [],
   "source": [
    "# #sum entries in bins --> plot as y-axis\n",
    "# plt.rcParams[\"figure.figsize\"] = (20,5)\n",
    "\n",
    "\n",
    "# fig, axs = plt.subplots(1, 3)\n",
    "# result['jet_mass'][{'jetNumb':sum, 'dataset':sum}].plot1d(ax = axs[0], overlay='partonFlav')\n",
    "# plt.rc('legend',fontsize='small')\n",
    "# plt.xlabel(\"Jet mass (GeV)\")\n",
    "# result['jet_pt'][{'jetNumb':sum, 'dataset':sum}].plot1d(ax = axs[1], overlay='partonFlav')\n",
    "# plt.rc('legend',fontsize='small')\n",
    "# #axs[0].set_xlabel(\"Jet mass (GeV)\")\n",
    "# plt.xlabel(\"Jet pT (GeV)\")\n",
    "# result['jet_eta'][{'jetNumb':sum, 'dataset':sum}].plot1d(ax = axs[2], overlay='partonFlav')\n",
    "# plt.rc('legend',fontsize='small')\n",
    "# plt.legend()\n",
    "# plt.xlabel(\"Jet eta (GeV)\")\n",
    "\n",
    "# fig.suptitle('Dijet eta <2.5, pt> 200.', fontsize=\"large\")"
   ]
  },
  {
   "cell_type": "code",
   "execution_count": null,
   "id": "6238fc43",
   "metadata": {},
   "outputs": [],
   "source": [
    "# plt.rcParams[\"figure.figsize\"] = (20,10)\n",
    "# fig, axs = plt.subplots(2, 3)\n",
    "# print(result['jet_mass'])\n",
    "# result['jet_mass'][{'jetNumb':'jet1', 'dataset':sum}].plot1d(ax = axs[0,0], overlay='partonFlav')\n",
    "# plt.rc('legend',fontsize='small')\n",
    "# plt.xlabel(\"Jet mass (GeV)\")\n",
    "# result['jet_pt'][{'jetNumb':'jet1', 'dataset':sum}].plot1d(ax = axs[0,1], overlay='partonFlav')\n",
    "# plt.rc('legend',fontsize='small')\n",
    "# #axs[0].set_xlabel(\"Jet mass (GeV)\")\n",
    "# plt.xlabel(\"Jet pT (GeV)\")\n",
    "# result['jet_eta'][{'jetNumb':'jet1', 'dataset':sum}].plot1d(ax = axs[0,2], overlay='partonFlav')\n",
    "# plt.rc('legend',fontsize='small')\n",
    "# plt.legend()\n",
    "# plt.xlabel(\"Jet eta (GeV)\")\n",
    "# result['jet_mass'][{'jetNumb':'jet2', 'dataset':sum}].plot1d(ax = axs[1,0], overlay='partonFlav')\n",
    "# plt.rc('legend',fontsize='small')\n",
    "# plt.xlabel(\"Jet mass (GeV)\")\n",
    "# result['jet_pt'][{'jetNumb':'jet2', 'dataset':sum}].plot1d(ax = axs[1,1], overlay='partonFlav')\n",
    "# plt.rc('legend',fontsize='small')\n",
    "# #axs[0].set_xlabel(\"Jet mass (GeV)\")\n",
    "# plt.xlabel(\"Jet pT (GeV)\")\n",
    "# result['jet_eta'][{'jetNumb':'jet2', 'dataset':sum}].plot1d(ax = axs[1,2], overlay='partonFlav')\n",
    "# plt.rc('legend',fontsize='small')\n",
    "# plt.legend()\n",
    "# plt.xlabel(\"Jet eta (GeV)\")\n",
    "# fig.suptitle('Dijet eta <2.5, pt> 200.', fontsize=\"large\")"
   ]
  },
  {
   "cell_type": "code",
   "execution_count": null,
   "id": "f2fd10c5",
   "metadata": {},
   "outputs": [],
   "source": [
    "# njets=result['cutflow']['nJets']\n",
    "# ngluonjets=result['cutflow']['nGluonJets']\n",
    "# print(result['cutflow'])\n",
    "# print(\"Gluon purity:\", ngluonjets/njets)"
   ]
  },
  {
   "cell_type": "code",
   "execution_count": null,
   "id": "d84a6515",
   "metadata": {},
   "outputs": [],
   "source": [
    "response_matrix_u_values = result['response_matrix_u'].project(\"ptreco\", \"mreco\", \"ptgen\", \"mgen\").values()\n",
    "response_matrix_g_values = result['response_matrix_g'].project(\"ptreco\", \"mreco\", \"ptgen\", \"mgen\").values()"
   ]
  },
  {
   "cell_type": "code",
   "execution_count": null,
   "id": "5f0b008d",
   "metadata": {},
   "outputs": [],
   "source": [
    "nptreco,nmassreco,nptgen,nmassgen = response_matrix_u_values.shape"
   ]
  },
  {
   "cell_type": "code",
   "execution_count": null,
   "id": "b0f4aaa0",
   "metadata": {},
   "outputs": [],
   "source": [
    "response_matrix_u_final = response_matrix_u_values.reshape( (nptreco)*(nmassreco), (nptgen)*(nmassgen) )\n",
    "print(ak.max(response_matrix_u_final))"
   ]
  },
  {
   "cell_type": "code",
   "execution_count": null,
   "id": "f89f6894",
   "metadata": {},
   "outputs": [],
   "source": [
    "response_matrix_g_final = response_matrix_g_values.reshape( (nptreco)*(nmassreco), (nptgen)*(nmassgen) )"
   ]
  },
  {
   "cell_type": "code",
   "execution_count": null,
   "id": "94a15a8b",
   "metadata": {},
   "outputs": [],
   "source": [
    "plt.rcParams[\"figure.figsize\"] = (20,20)\n",
    "fig, axs = plt.subplots(2, 2)\n",
    "axs[0,0].imshow( np.log(response_matrix_u_final+1), aspect=\"auto\", cmap=\"Blues\", interpolation='nearest' )\n",
    "axs[1,1].imshow( np.log(response_matrix_g_final+1), aspect=\"auto\", cmap=\"Blues\", interpolation='nearest' )\n",
    "plt.xlabel(\"RECO\", fontsize=20)\n",
    "plt.ylabel(\"GEN\", fontsize=20)\n",
    "plt.tick_params(labelsize=20)"
   ]
  },
  {
   "cell_type": "code",
   "execution_count": null,
   "id": "428de191",
   "metadata": {},
   "outputs": [],
   "source": [
    "plt.figure(figsize = (40,80))\n",
    "plt.imshow( np.log(response_matrix_g_final+1), aspect=\"equal\", cmap=\"Blues\" )\n",
    "plt.xlabel(\"RECO\", fontsize=50)\n",
    "plt.ylabel(\"GEN\", fontsize=50)\n",
    "plt.tick_params(labelsize=40)"
   ]
  },
  {
   "cell_type": "code",
   "execution_count": null,
   "id": "355566c2",
   "metadata": {},
   "outputs": [],
   "source": [
    "plt.figure(figsize = (40,80))\n",
    "plt.imshow( response_matrix_u_final, aspect=\"equal\", cmap=\"Blues\" )\n",
    "plt.xlabel(\"RECO\", fontsize=50)\n",
    "plt.ylabel(\"GEN\", fontsize=50)\n",
    "plt.tick_params(labelsize=40)"
   ]
  },
  {
   "cell_type": "code",
   "execution_count": null,
   "id": "3c84c772-e262-47f4-b810-aa2844c1a904",
   "metadata": {},
   "outputs": [],
   "source": []
  },
  {
   "cell_type": "code",
   "execution_count": null,
   "id": "761a514a",
   "metadata": {},
   "outputs": [],
   "source": []
  },
  {
   "cell_type": "raw",
   "id": "ad536ec1-3bd8-487c-846f-e8a01a134f10",
   "metadata": {},
   "source": []
  },
  {
   "cell_type": "code",
   "execution_count": null,
   "id": "d45cf7c3-a0f1-4213-afa9-ff6fbc1d2bed",
   "metadata": {},
   "outputs": [],
   "source": []
  }
 ],
 "metadata": {
  "kernelspec": {
   "display_name": "Python 3 (ipykernel)",
   "language": "python",
   "name": "python3"
  },
  "language_info": {
   "codemirror_mode": {
    "name": "ipython",
    "version": 3
   },
   "file_extension": ".py",
   "mimetype": "text/x-python",
   "name": "python",
   "nbconvert_exporter": "python",
   "pygments_lexer": "ipython3",
   "version": "3.9.15"
  }
 },
 "nbformat": 4,
 "nbformat_minor": 5
}

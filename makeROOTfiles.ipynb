{
 "cells": [
  {
   "cell_type": "code",
   "execution_count": 1,
   "id": "41f6a0df",
   "metadata": {},
   "outputs": [],
   "source": [
    "#### Convert coffea output into root TH2's to feed into TUnfold\n",
    "import coffea\n",
    "import pickle\n",
    "import uproot\n",
    "import awkward as ak\n",
    "import matplotlib.pyplot as plt\n",
    "# import ROOT"
   ]
  },
  {
   "cell_type": "code",
   "execution_count": 3,
   "id": "24ed2364",
   "metadata": {},
   "outputs": [],
   "source": [
    "%matplotlib inline\n",
    "fname = \"coffeaOutput/trijetHists_QCDsim_pt200.0_eta2.4_bbloose.pkl\"\n",
    "with open(fname, \"rb\") as f:\n",
    "    result = pickle.load( f )\n",
    "\n",
    "rootfile = uproot.recreate('trijetHistsQCDsim.root')\n",
    "\n",
    "# integrate and sum over axes\n",
    "rootfile['jet_pt_mass_reco_u'] = result['jet_pt_mass_reco_u'][{'dataset':sum}]\n",
    "rootfile['jet_pt_mass_reco_g'] = result['jet_pt_mass_reco_g'][{'dataset':sum}]\n",
    "rootfile['jet_pt_mass_gen_u'] = result['jet_pt_mass_gen_u'][{'dataset':sum}]\n",
    "rootfile['jet_pt_mass_gen_g'] = result['jet_pt_mass_gen_g'][{'dataset':sum}]\n",
    "rootfile['mreco_mgen_u'] = result['response_matrix_u'].project(\"mreco\", \"mgen\")\n",
    "rootfile['mreco_mgen_g'] = result['response_matrix_g'].project(\"mreco\",\"mgen\")\n",
    "rootfile['ptreco_ptgen_u'] = result['response_matrix_u'].project(\"ptreco\", \"ptgen\")\n",
    "rootfile['ptreco_ptgen_g'] = result['response_matrix_g'].project(\"ptreco\",\"ptgen\")\n",
    "\n",
    "rootfile.close()"
   ]
  },
  {
   "cell_type": "code",
   "execution_count": null,
   "id": "b5fa926b",
   "metadata": {},
   "outputs": [],
   "source": [
    "fname = uproot.open('root://cmsxrootd.fnal.gov//store/mc/RunIISummer20UL18NanoAODv9/QCD_Pt_1400to1800_TuneCP5_13TeV_pythia8/NANOAODSIM/106X_upgrade2018_realistic_v16_L1v1-v1/280000/42B4DEA0-C0E7-A944-80DC-1D107A0F63FB.root')"
   ]
  },
  {
   "cell_type": "code",
   "execution_count": null,
   "id": "9fc5b838",
   "metadata": {},
   "outputs": [],
   "source": [
    "print(fname[\"Events\"].keys(\"*HTXS*\"))"
   ]
  },
  {
   "cell_type": "code",
   "execution_count": 4,
   "id": "0a63c9db",
   "metadata": {},
   "outputs": [
    {
     "name": "stdout",
     "output_type": "stream",
     "text": [
      "['jet_pt_mass_reco_u;1', 'jet_pt_mass_reco_g;1', 'jet_pt_mass_gen_u;1', 'jet_pt_mass_gen_g;1', 'mreco_mgen_u;1', 'mreco_mgen_g;1', 'ptreco_ptgen_u;1', 'ptreco_ptgen_g;1']\n"
     ]
    },
    {
     "ename": "KeyInFileError",
     "evalue": "not found: 'response_matrix_g' (with any cycle number)\n\n    Available keys: 'mreco_mgen_g;1', 'mreco_mgen_u;1', 'ptreco_ptgen_g;1', 'jet_pt_mass_reco_g;1', 'ptreco_ptgen_u;1', 'jet_pt_mass_gen_u;1', 'jet_pt_mass_gen_g;1', 'jet_pt_mass_reco_u;1'\n\nin file trijetHistsQCDsim.root",
     "output_type": "error",
     "traceback": [
      "\u001b[0;31m---------------------------------------------------------------------------\u001b[0m",
      "\u001b[0;31mKeyInFileError\u001b[0m                            Traceback (most recent call last)",
      "Cell \u001b[0;32mIn[4], line 3\u001b[0m\n\u001b[1;32m      1\u001b[0m hists \u001b[38;5;241m=\u001b[39m uproot\u001b[38;5;241m.\u001b[39mopen(\u001b[38;5;124m'\u001b[39m\u001b[38;5;124mtrijetHistsQCDsim.root\u001b[39m\u001b[38;5;124m'\u001b[39m)\n\u001b[1;32m      2\u001b[0m \u001b[38;5;28mprint\u001b[39m(hists\u001b[38;5;241m.\u001b[39mkeys())\n\u001b[0;32m----> 3\u001b[0m \u001b[38;5;28mtype\u001b[39m(\u001b[43mhists\u001b[49m\u001b[43m[\u001b[49m\u001b[38;5;124;43m'\u001b[39;49m\u001b[38;5;124;43mresponse_matrix_g\u001b[39;49m\u001b[38;5;124;43m'\u001b[39;49m\u001b[43m]\u001b[49m)\n",
      "File \u001b[0;32m/opt/conda/lib/python3.8/site-packages/uproot/reading.py:2107\u001b[0m, in \u001b[0;36mReadOnlyDirectory.__getitem__\u001b[0;34m(self, where)\u001b[0m\n\u001b[1;32m   2104\u001b[0m     \u001b[38;5;28;01mreturn\u001b[39;00m step\n\u001b[1;32m   2106\u001b[0m \u001b[38;5;28;01melse\u001b[39;00m:\n\u001b[0;32m-> 2107\u001b[0m     \u001b[38;5;28;01mreturn\u001b[39;00m \u001b[38;5;28;43mself\u001b[39;49m\u001b[38;5;241;43m.\u001b[39;49m\u001b[43mkey\u001b[49m\u001b[43m(\u001b[49m\u001b[43mwhere\u001b[49m\u001b[43m)\u001b[49m\u001b[38;5;241m.\u001b[39mget()\n",
      "File \u001b[0;32m/opt/conda/lib/python3.8/site-packages/uproot/reading.py:2057\u001b[0m, in \u001b[0;36mReadOnlyDirectory.key\u001b[0;34m(self, where)\u001b[0m\n\u001b[1;32m   2055\u001b[0m     \u001b[38;5;28;01mreturn\u001b[39;00m last\n\u001b[1;32m   2056\u001b[0m \u001b[38;5;28;01melif\u001b[39;00m cycle \u001b[38;5;129;01mis\u001b[39;00m \u001b[38;5;28;01mNone\u001b[39;00m:\n\u001b[0;32m-> 2057\u001b[0m     \u001b[38;5;28;01mraise\u001b[39;00m uproot\u001b[38;5;241m.\u001b[39mKeyInFileError(\n\u001b[1;32m   2058\u001b[0m         item, cycle\u001b[38;5;241m=\u001b[39m\u001b[38;5;124m\"\u001b[39m\u001b[38;5;124many\u001b[39m\u001b[38;5;124m\"\u001b[39m, keys\u001b[38;5;241m=\u001b[39m\u001b[38;5;28mself\u001b[39m\u001b[38;5;241m.\u001b[39mkeys(), file_path\u001b[38;5;241m=\u001b[39m\u001b[38;5;28mself\u001b[39m\u001b[38;5;241m.\u001b[39m_file\u001b[38;5;241m.\u001b[39mfile_path\n\u001b[1;32m   2059\u001b[0m     )\n\u001b[1;32m   2060\u001b[0m \u001b[38;5;28;01melse\u001b[39;00m:\n\u001b[1;32m   2061\u001b[0m     \u001b[38;5;28;01mraise\u001b[39;00m uproot\u001b[38;5;241m.\u001b[39mKeyInFileError(\n\u001b[1;32m   2062\u001b[0m         item, cycle\u001b[38;5;241m=\u001b[39mcycle, keys\u001b[38;5;241m=\u001b[39m\u001b[38;5;28mself\u001b[39m\u001b[38;5;241m.\u001b[39mkeys(), file_path\u001b[38;5;241m=\u001b[39m\u001b[38;5;28mself\u001b[39m\u001b[38;5;241m.\u001b[39m_file\u001b[38;5;241m.\u001b[39mfile_path\n\u001b[1;32m   2063\u001b[0m     )\n",
      "\u001b[0;31mKeyInFileError\u001b[0m: not found: 'response_matrix_g' (with any cycle number)\n\n    Available keys: 'mreco_mgen_g;1', 'mreco_mgen_u;1', 'ptreco_ptgen_g;1', 'jet_pt_mass_reco_g;1', 'ptreco_ptgen_u;1', 'jet_pt_mass_gen_u;1', 'jet_pt_mass_gen_g;1', 'jet_pt_mass_reco_u;1'\n\nin file trijetHistsQCDsim.root"
     ]
    }
   ],
   "source": [
    "hists = uproot.open('trijetHistsQCDsim.root')\n",
    "print(hists.keys())\n",
    "type(hists['response_matrix_g'])"
   ]
  },
  {
   "cell_type": "code",
   "execution_count": null,
   "id": "f426c916",
   "metadata": {},
   "outputs": [],
   "source": []
  }
 ],
 "metadata": {
  "kernelspec": {
   "display_name": "Python 3 (ipykernel)",
   "language": "python",
   "name": "python3"
  },
  "language_info": {
   "codemirror_mode": {
    "name": "ipython",
    "version": 3
   },
   "file_extension": ".py",
   "mimetype": "text/x-python",
   "name": "python",
   "nbconvert_exporter": "python",
   "pygments_lexer": "ipython3",
   "version": "3.8.15"
  }
 },
 "nbformat": 4,
 "nbformat_minor": 5
}

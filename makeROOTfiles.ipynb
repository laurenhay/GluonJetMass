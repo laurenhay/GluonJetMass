{
 "cells": [
  {
   "cell_type": "code",
   "execution_count": 2,
   "id": "41f6a0df",
   "metadata": {},
   "outputs": [],
   "source": [
    "#### Convert coffea output into root TH2's to feed into TUnfold\n",
    "import coffea\n",
    "import pickle\n",
    "import uproot\n",
    "import awkward as ak\n",
    "import matplotlib.pyplot as plt\n",
    "import numpy as np\n",
    "# import ROOT"
   ]
  },
  {
   "cell_type": "code",
   "execution_count": 3,
   "id": "24ed2364",
   "metadata": {},
   "outputs": [
    {
     "name": "stdout",
     "output_type": "stream",
     "text": [
      "(10, 11, 10, 21)\n",
      "(10,)\n",
      "(10, 11, 10, 21)\n",
      "(1, 10, 11, 10, 21)\n"
     ]
    }
   ],
   "source": [
    "%matplotlib inline\n",
    "fname = \"coffeaOutput/trijetHistsTest_QCDsim_pt200.0_eta2.4_bbloose.pkl\"\n",
    "with open(fname, \"rb\") as f:\n",
    "    result = pickle.load( f )\n",
    "\n",
    "rootfile = uproot.recreate('trijetHistsQCDsim.root')\n",
    "result=result[0]\n",
    "# integrate and sum over axes\n",
    "rootfile['jet_pt_mass_reco_u'] = result['jet_pt_mass_reco_u'][{'dataset':sum}]\n",
    "rootfile['jet_pt_mass_reco_g'] = result['jet_pt_mass_reco_g'][{'dataset':sum}]\n",
    "rootfile['jet_pt_mass_gen_u'] = result['jet_pt_mass_gen_u'][{'dataset':sum}]\n",
    "rootfile['jet_pt_mass_gen_g'] = result['jet_pt_mass_gen_g'][{'dataset':sum}]\n",
    "rootfile['mreco_mgen_u'] = result['response_matrix_u'].project(\"mreco\", \"mgen\")\n",
    "rootfile['mreco_mgen_g'] = result['response_matrix_g'].project(\"mreco\",\"mgen\")\n",
    "rootfile['ptreco_ptgen_u'] = result['response_matrix_u'].project(\"ptreco\", \"ptgen\")\n",
    "rootfile['ptreco_ptgen_g'] = result['response_matrix_g'].project(\"ptreco\",\"ptgen\")\n",
    "rootfile['fakes_ptreco_mreco'] = result['fakes'].project(\"ptreco\",\"mreco\")\n",
    "rootfile['misses_ptgen_mgen'] = result['misses'].project(\"ptgen\", \"mgen\")\n",
    "response_matrix_u_values, ptreco_edges, mreco_edges, ptgen_edges, mgen_edges = result['response_matrix_u'].project(\"ptreco\", \"mreco\", \"ptgen\", \"mgen\").to_numpy()\n",
    "response_matrix_g_values = result['response_matrix_g'].project(\"ptreco\", \"mreco\", \"ptgen\", \"mgen\").values()\n",
    "print(response_matrix_g_values.shape)\n",
    "ptreco_centers = (ptreco_edges[:-1]+ptreco_edges[1:])/2\n",
    "print(ptreco_centers.shape)\n",
    "mreco_centers = (mreco_edges[:-1]+mreco_edges[1:])/2\n",
    "ptgen_centers = (ptgen_edges[:-1]+ptgen_edges[1:])/2\n",
    "mgen_centers = (mgen_edges[:-1]+mgen_edges[1:])/2\n",
    "rootfile['response'] = {'groomed':response_matrix_g_values[np.newaxis],\n",
    "                       'ungroomed':response_matrix_u_values[np.newaxis]}\n",
    "rootfile['response_2d'] = {'groomed':response_matrix_g_values.reshape(10*11, 10*21),\n",
    "                       'ungroomed':response_matrix_u_values.reshape(10*11, 10*21)}\n",
    "rootfile['centers'] = {'ptreco':ptreco_centers[np.newaxis], 'mreco':mreco_centers[np.newaxis], \n",
    "                      'ptgen':ptgen_centers[np.newaxis], 'mgen':mgen_centers[np.newaxis]}\n",
    "rootfile.close()\n",
    "\n",
    "print(np.shape(response_matrix_g_values))\n",
    "print(np.shape(response_matrix_g_values[np.newaxis]))"
   ]
  },
  {
   "cell_type": "code",
   "execution_count": null,
   "id": "1a9b4e4d",
   "metadata": {},
   "outputs": [],
   "source": []
  },
  {
   "cell_type": "code",
   "execution_count": null,
   "id": "1890f9dd",
   "metadata": {},
   "outputs": [],
   "source": []
  },
  {
   "cell_type": "code",
   "execution_count": 4,
   "id": "b5fa926b",
   "metadata": {},
   "outputs": [],
   "source": [
    "# fname = uproot.open('root://cmsxrootd.fnal.gov//store/mc/RunIISummer20UL18NanoAODv9/QCD_Pt_1400to1800_TuneCP5_13TeV_pythia8/NANOAODSIM/106X_upgrade2018_realistic_v16_L1v1-v1/280000/42B4DEA0-C0E7-A944-80DC-1D107A0F63FB.root')"
   ]
  },
  {
   "cell_type": "code",
   "execution_count": 5,
   "id": "9fc5b838",
   "metadata": {},
   "outputs": [],
   "source": [
    "# print(fname[\"Events\"].keys(\"*HTXS*\"))"
   ]
  },
  {
   "cell_type": "code",
   "execution_count": 10,
   "id": "0a63c9db",
   "metadata": {
    "scrolled": true
   },
   "outputs": [
    {
     "name": "stdout",
     "output_type": "stream",
     "text": [
      "['jet_pt_mass_reco_u;1', 'jet_pt_mass_reco_g;1', 'jet_pt_mass_gen_u;1', 'jet_pt_mass_gen_g;1', 'mreco_mgen_u;1', 'mreco_mgen_g;1', 'ptreco_ptgen_u;1', 'ptreco_ptgen_g;1', 'fakes_ptreco_mreco;1', 'misses_ptgen_mgen;1', 'response;1', 'response_2d;1', 'centers;1']\n",
      "(array([[0., 0., 0., 0., 0., 1., 0., 0., 0., 0., 0.],\n",
      "       [0., 0., 0., 0., 0., 0., 0., 0., 0., 0., 0.],\n",
      "       [0., 0., 0., 0., 0., 0., 0., 0., 0., 0., 0.],\n",
      "       [0., 0., 0., 0., 0., 0., 0., 0., 0., 0., 0.],\n",
      "       [0., 0., 0., 0., 0., 0., 0., 0., 0., 0., 0.],\n",
      "       [0., 0., 0., 0., 0., 0., 0., 0., 0., 0., 0.],\n",
      "       [0., 0., 0., 0., 0., 0., 0., 0., 0., 0., 0.],\n",
      "       [0., 0., 0., 0., 0., 0., 0., 0., 0., 0., 0.],\n",
      "       [0., 0., 0., 0., 0., 0., 0., 0., 0., 0., 0.],\n",
      "       [0., 0., 0., 0., 0., 0., 0., 0., 0., 0., 0.]]), array([  200.,   280.,   360.,   450.,   520.,   630.,   690.,   750.,\n",
      "         800.,  1300., 13000.]), array([   0.,    5.,   10.,   20.,   40.,   60.,   80.,  100.,  150.,\n",
      "        200.,  250., 1000.]))\n",
      "(array([[3.0000e+00, 1.0000e+00, 1.5000e+01, 3.4000e+01, 2.5500e+02,\n",
      "        7.9600e+02, 5.5760e+03, 1.1698e+04, 1.2632e+04, 9.3370e+03,\n",
      "        6.0810e+03, 3.8760e+03, 2.6170e+03, 1.7020e+03, 1.5090e+03,\n",
      "        1.5000e+02, 2.0000e+00, 0.0000e+00, 0.0000e+00, 0.0000e+00,\n",
      "        0.0000e+00],\n",
      "       [1.0000e+00, 3.0000e+00, 3.0000e+00, 1.1000e+01, 6.8000e+01,\n",
      "        3.1900e+02, 2.3130e+03, 6.1720e+03, 9.4820e+03, 9.5540e+03,\n",
      "        7.2820e+03, 5.2000e+03, 3.6900e+03, 2.7230e+03, 3.9410e+03,\n",
      "        1.5420e+03, 3.0900e+02, 1.7000e+01, 0.0000e+00, 0.0000e+00,\n",
      "        0.0000e+00],\n",
      "       [1.0000e+00, 3.0000e+00, 3.0000e+00, 4.0000e+00, 2.0000e+01,\n",
      "        1.2500e+02, 1.1050e+03, 3.5710e+03, 6.7480e+03, 8.4350e+03,\n",
      "        8.1300e+03, 6.5710e+03, 4.8840e+03, 3.7890e+03, 5.9540e+03,\n",
      "        3.1580e+03, 1.5480e+03, 5.2500e+02, 8.1000e+01, 5.0000e+00,\n",
      "        1.0000e+00],\n",
      "       [0.0000e+00, 0.0000e+00, 0.0000e+00, 3.0000e+00, 1.2000e+01,\n",
      "        7.2000e+01, 6.0400e+02, 2.0200e+03, 4.0790e+03, 5.7170e+03,\n",
      "        6.0050e+03, 5.3350e+03, 4.1420e+03, 3.2340e+03, 5.4410e+03,\n",
      "        3.1160e+03, 1.8290e+03, 9.9400e+02, 4.4600e+02, 1.1300e+02,\n",
      "        1.7000e+01],\n",
      "       [0.0000e+00, 0.0000e+00, 1.0000e+00, 1.0000e+00, 1.6000e+01,\n",
      "        4.2000e+01, 5.4300e+02, 1.7790e+03, 3.8780e+03, 5.9700e+03,\n",
      "        6.8300e+03, 6.5950e+03, 5.6830e+03, 4.6420e+03, 7.9160e+03,\n",
      "        4.9520e+03, 3.1860e+03, 2.1060e+03, 1.2570e+03, 6.7900e+02,\n",
      "        3.6500e+02],\n",
      "       [0.0000e+00, 0.0000e+00, 0.0000e+00, 0.0000e+00, 1.0000e+00,\n",
      "        7.0000e+00, 1.4100e+02, 6.0300e+02, 1.2080e+03, 2.0260e+03,\n",
      "        2.5620e+03, 2.8110e+03, 2.5720e+03, 2.2450e+03, 4.0010e+03,\n",
      "        2.5150e+03, 1.8090e+03, 1.3020e+03, 8.5100e+02, 5.9900e+02,\n",
      "        6.1400e+02],\n",
      "       [0.0000e+00, 0.0000e+00, 0.0000e+00, 0.0000e+00, 0.0000e+00,\n",
      "        2.0000e+00, 8.2000e+01, 3.8300e+02, 9.0000e+02, 1.5250e+03,\n",
      "        2.1660e+03, 2.4460e+03, 2.4490e+03, 2.1470e+03, 4.1680e+03,\n",
      "        2.8040e+03, 1.9140e+03, 1.3880e+03, 1.0160e+03, 7.0800e+02,\n",
      "        8.7900e+02],\n",
      "       [1.0000e+00, 0.0000e+00, 0.0000e+00, 0.0000e+00, 4.0000e+00,\n",
      "        5.0000e+00, 7.4000e+01, 3.0500e+02, 7.4100e+02, 1.2180e+03,\n",
      "        1.8050e+03, 2.0580e+03, 2.1640e+03, 2.0420e+03, 3.7660e+03,\n",
      "        2.4680e+03, 1.8900e+03, 1.1790e+03, 9.2700e+02, 6.2400e+02,\n",
      "        1.1100e+03],\n",
      "       [1.0000e+00, 1.0000e+00, 0.0000e+00, 0.0000e+00, 3.0000e+00,\n",
      "        3.1000e+01, 3.5100e+02, 1.4870e+03, 3.5980e+03, 6.6590e+03,\n",
      "        9.8410e+03, 1.2066e+04, 1.3180e+04, 1.2973e+04, 2.6797e+04,\n",
      "        1.8853e+04, 1.3557e+04, 9.7580e+03, 7.4220e+03, 5.8560e+03,\n",
      "        1.6719e+04],\n",
      "       [0.0000e+00, 0.0000e+00, 0.0000e+00, 0.0000e+00, 0.0000e+00,\n",
      "        2.0000e+00, 4.1000e+01, 2.1300e+02, 6.7300e+02, 1.4010e+03,\n",
      "        2.3200e+03, 3.4320e+03, 4.3760e+03, 5.2910e+03, 1.4030e+04,\n",
      "        1.2100e+04, 9.6180e+03, 7.6480e+03, 6.0360e+03, 5.0290e+03,\n",
      "        2.6392e+04]]), array([  200.,   280.,   360.,   450.,   520.,   630.,   690.,   750.,\n",
      "         800.,  1300., 13000.]), array([   0. ,    2.5,    5. ,    7.5,   10. ,   15. ,   20. ,   30. ,\n",
      "         40. ,   50. ,   60. ,   70. ,   80. ,   90. ,  100. ,  125. ,\n",
      "        150. ,  175. ,  200. ,  225. ,  250. , 1000. ]))\n",
      "[[0 0 4 0 9]]\n",
      "[[4 9]]\n",
      "[[849]]\n",
      "46.0\n",
      "[[ 240.  320.  405.  485.  575.  660.  720.  775. 1050. 7150.]]\n"
     ]
    }
   ],
   "source": [
    "hists = uproot.open('trijetHistsQCDsim.root')\n",
    "print(hists.keys())\n",
    "print(hists['fakes_ptreco_mreco'].to_numpy())\n",
    "print(hists['misses_ptgen_mgen'].to_numpy())\n",
    "ungroomed_flat = hists['response_2d']['ungroomed'].array()\n",
    "ungroomed = hists['response']['ungroomed'].array().to_numpy()\n",
    "ptreco_centers = hists['centers']['ptreco'].array().to_numpy()\n",
    "print(np.argwhere(ungroomed==46))\n",
    "print(np.argwhere(ungroomed.reshape(110,210)==46))\n",
    "print(np.argwhere(ungroomed.flatten()==46))\n",
    "print(ungroomed[0][0][4][0][9])\n",
    "print(ptreco_centers)"
   ]
  },
  {
   "cell_type": "code",
   "execution_count": null,
   "id": "f426c916",
   "metadata": {},
   "outputs": [],
   "source": []
  },
  {
   "cell_type": "code",
   "execution_count": null,
   "id": "910a2620",
   "metadata": {},
   "outputs": [],
   "source": []
  }
 ],
 "metadata": {
  "kernelspec": {
   "display_name": "Python 3 (ipykernel)",
   "language": "python",
   "name": "python3"
  },
  "language_info": {
   "codemirror_mode": {
    "name": "ipython",
    "version": 3
   },
   "file_extension": ".py",
   "mimetype": "text/x-python",
   "name": "python",
   "nbconvert_exporter": "python",
   "pygments_lexer": "ipython3",
   "version": "3.8.15"
  }
 },
 "nbformat": 4,
 "nbformat_minor": 5
}

{
 "cells": [
  {
   "cell_type": "code",
   "execution_count": 7,
   "id": "41f6a0df",
   "metadata": {},
   "outputs": [],
   "source": [
    "#### Convert coffea output into root TH2's to feed into TUnfold\n",
    "import coffea\n",
    "import pickle\n",
    "import uproot\n",
    "import awkward as ak\n",
    "import matplotlib.pyplot as plt\n",
    "import numpy as np\n",
    "# import ROOT"
   ]
  },
  {
   "cell_type": "code",
   "execution_count": 8,
   "id": "24ed2364",
   "metadata": {},
   "outputs": [],
   "source": [
    "%matplotlib inline\n",
    "#fname = \"coffeaOutput/trijetHistsTest_QCDsim_pt200.0_eta2.4_bbloose.pkl\"\n",
    "fname =\"coffeaOutput/trijetHistsTest_JetHT_pt200.0_eta2.4_bbloose.pkl\"\n",
    "with open(fname, \"rb\") as f:\n",
    "    result = pickle.load( f )\n",
    "\n",
    "rootfile = uproot.recreate('trijetHistsJetHT.root')\n",
    "#result=result[0]\n",
    "# integrate and sum over axes\n",
    "if \"QCD\" in fname:\n",
    "    rootfile = uproot.recreate('rootFiles/trijetHistsQCDsim.root')\n",
    "    rootfile['mreco_mgen_u'] = result['response_matrix_u'].project(\"mreco\", \"mgen\")\n",
    "    rootfile['mreco_mgen_g;1'] = result['response_matrix_g'].project(\"mreco\",\"mgen\")\n",
    "    rootfile['ptreco_ptgen_u'] = result['response_matrix_u'].project(\"ptreco\", \"ptgen\")\n",
    "    rootfile['ptreco_ptgen_g'] = result['response_matrix_g'].project(\"ptreco\",\"ptgen\")\n",
    "    rootfile['misses_ptgen_mgen'] = result['misses'].project(\"ptgen\", \"mgen\")\n",
    "    rootfile['fakes_ptreco_mreco'] = result['fakes'].project(\"ptreco\",\"mreco\")\n",
    "    response_matrix_u_values, ptreco_edges, mreco_edges, ptgen_edges, mgen_edges = result['response_matrix_u'].project(\"ptreco\", \"mreco\", \"ptgen\", \"mgen\").to_numpy()\n",
    "    response_matrix_g_values = result['response_matrix_g'].project(\"ptreco\", \"mreco\", \"ptgen\", \"mgen\").values()\n",
    "    print(response_matrix_g_values.shape)\n",
    "    ptreco_centers = (ptreco_edges[:-1]+ptreco_edges[1:])/2\n",
    "    print(ptreco_centers.shape)\n",
    "    mreco_centers = (mreco_edges[:-1]+mreco_edges[1:])/2\n",
    "    ptgen_centers = (ptgen_edges[:-1]+ptgen_edges[1:])/2\n",
    "    mgen_centers = (mgen_edges[:-1]+mgen_edges[1:])/2\n",
    "    print(np.shape(response_matrix_g_values))\n",
    "    print(np.shape(response_matrix_g_values[np.newaxis]))\n",
    "    rootfile['response'] = {'groomed':response_matrix_g_values[np.newaxis],\n",
    "                       'ungroomed':response_matrix_u_values[np.newaxis]}\n",
    "    rootfile['centers'] = {'ptreco':ptreco_centers[np.newaxis], 'mreco':mreco_centers[np.newaxis], \n",
    "                      'ptgen':ptgen_centers[np.newaxis], 'mgen':mgen_centers[np.newaxis]}\n",
    "rootfile['jet_pt_mass_reco_u'] = result['jet_pt_mass_reco_u'][{'dataset':sum}]\n",
    "rootfile['jet_pt_mass_reco_g'] = result['jet_pt_mass_reco_g'][{'dataset':sum}]\n",
    "rootfile.close()"
   ]
  },
  {
   "cell_type": "code",
   "execution_count": null,
   "id": "1a9b4e4d",
   "metadata": {},
   "outputs": [],
   "source": []
  },
  {
   "cell_type": "code",
   "execution_count": null,
   "id": "1890f9dd",
   "metadata": {},
   "outputs": [],
   "source": []
  },
  {
   "cell_type": "code",
   "execution_count": 9,
   "id": "b5fa926b",
   "metadata": {},
   "outputs": [],
   "source": [
    "# fname = uproot.open('root://cmsxrootd.fnal.gov//store/mc/RunIISummer20UL18NanoAODv9/QCD_Pt_1400to1800_TuneCP5_13TeV_pythia8/NANOAODSIM/106X_upgrade2018_realistic_v16_L1v1-v1/280000/42B4DEA0-C0E7-A944-80DC-1D107A0F63FB.root')"
   ]
  },
  {
   "cell_type": "code",
   "execution_count": 10,
   "id": "9fc5b838",
   "metadata": {},
   "outputs": [],
   "source": [
    "# print(fname[\"Events\"].keys(\"*HTXS*\"))"
   ]
  },
  {
   "cell_type": "code",
   "execution_count": 11,
   "id": "0a63c9db",
   "metadata": {
    "scrolled": true
   },
   "outputs": [
    {
     "name": "stdout",
     "output_type": "stream",
     "text": [
      "(array([[1.0000e+00, 0.0000e+00, 9.9300e+02, 1.6724e+04, 2.3478e+04,\n",
      "        8.9880e+03, 5.5700e+03, 1.0160e+03, 0.0000e+00, 0.0000e+00,\n",
      "        0.0000e+00],\n",
      "       [0.0000e+00, 0.0000e+00, 1.3400e+02, 3.6000e+03, 2.6960e+03,\n",
      "        1.1650e+03, 1.0540e+03, 9.1800e+02, 1.0000e+00, 0.0000e+00,\n",
      "        0.0000e+00],\n",
      "       [0.0000e+00, 0.0000e+00, 2.0000e+00, 9.3700e+02, 4.8800e+02,\n",
      "        6.0000e+02, 4.3900e+02, 3.4400e+02, 4.0000e+01, 1.0000e+00,\n",
      "        0.0000e+00],\n",
      "       [0.0000e+00, 0.0000e+00, 0.0000e+00, 5.7000e+01, 1.8700e+02,\n",
      "        5.6000e+01, 7.6000e+01, 1.1400e+02, 7.3000e+01, 1.6000e+01,\n",
      "        0.0000e+00],\n",
      "       [0.0000e+00, 0.0000e+00, 1.0000e+00, 6.0000e+00, 6.0000e+01,\n",
      "        4.3000e+01, 4.1000e+01, 5.4000e+01, 2.8000e+01, 1.2000e+01,\n",
      "        1.0000e+00],\n",
      "       [0.0000e+00, 0.0000e+00, 0.0000e+00, 3.0000e+00, 1.0000e+01,\n",
      "        8.0000e+00, 3.0000e+00, 1.5000e+01, 1.0000e+01, 7.0000e+00,\n",
      "        1.0000e+00],\n",
      "       [0.0000e+00, 0.0000e+00, 0.0000e+00, 0.0000e+00, 6.0000e+00,\n",
      "        0.0000e+00, 6.0000e+00, 9.0000e+00, 3.0000e+00, 2.0000e+00,\n",
      "        0.0000e+00],\n",
      "       [0.0000e+00, 0.0000e+00, 0.0000e+00, 0.0000e+00, 1.0000e+00,\n",
      "        0.0000e+00, 1.0000e+00, 1.0000e+00, 0.0000e+00, 2.0000e+00,\n",
      "        3.0000e+00],\n",
      "       [0.0000e+00, 0.0000e+00, 0.0000e+00, 0.0000e+00, 1.0000e+00,\n",
      "        0.0000e+00, 3.0000e+00, 5.0000e+00, 5.0000e+00, 3.0000e+00,\n",
      "        1.0000e+00],\n",
      "       [0.0000e+00, 0.0000e+00, 0.0000e+00, 0.0000e+00, 0.0000e+00,\n",
      "        0.0000e+00, 0.0000e+00, 0.0000e+00, 0.0000e+00, 0.0000e+00,\n",
      "        0.0000e+00]]), array([  200.,   280.,   360.,   450.,   520.,   630.,   690.,   750.,\n",
      "         800.,  1300., 13000.]), array([   0.,    5.,   10.,   20.,   40.,   60.,   80.,  100.,  150.,\n",
      "        200.,  250., 1000.]))\n"
     ]
    }
   ],
   "source": [
    "hists = uproot.open('trijetHistsJetHT.root')\n",
    "print(hists['jet_pt_mass_reco_u'].to_numpy())\n"
   ]
  },
  {
   "cell_type": "code",
   "execution_count": null,
   "id": "f426c916",
   "metadata": {},
   "outputs": [],
   "source": []
  },
  {
   "cell_type": "code",
   "execution_count": null,
   "id": "910a2620",
   "metadata": {},
   "outputs": [],
   "source": []
  }
 ],
 "metadata": {
  "kernelspec": {
   "display_name": "Python 3 (ipykernel)",
   "language": "python",
   "name": "python3"
  },
  "language_info": {
   "codemirror_mode": {
    "name": "ipython",
    "version": 3
   },
   "file_extension": ".py",
   "mimetype": "text/x-python",
   "name": "python",
   "nbconvert_exporter": "python",
   "pygments_lexer": "ipython3",
   "version": "3.8.16"
  }
 },
 "nbformat": 4,
 "nbformat_minor": 5
}

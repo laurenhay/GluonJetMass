{
 "cells": [
  {
   "cell_type": "code",
   "execution_count": 1,
   "id": "41f6a0df",
   "metadata": {},
   "outputs": [],
   "source": [
    "#### Convert coffea output into root TH2's to feed into TUnfold\n",
    "import coffea\n",
    "import pickle\n",
    "import uproot\n",
    "import awkward as ak\n",
    "import matplotlib.pyplot as plt\n",
    "import numpy as np\n",
    "import os\n",
    "# import ROOT"
   ]
  },
  {
   "cell_type": "code",
   "execution_count": 2,
   "id": "10c065ec-4606-478a-ace9-ed55c7f0b4fb",
   "metadata": {},
   "outputs": [
    {
     "name": "stdout",
     "output_type": "stream",
     "text": [
      "coffeaOutput/trijetHists_JetHT_pt200.0_rappidity2.5_bbloosejesjecALL.pkl\n"
     ]
    }
   ],
   "source": [
    "from plugins import addFiles\n",
    "files = [\"coffeaOutput/trijetHists_JetHT_pt200.0_rappidity2.5_bbloosejesjec2018.pkl\", \"coffeaOutput/trijetHists_JetHT_pt200.0_rappidity2.5_bbloosejesjec2017.pkl\", \"coffeaOutput/trijetHists_JetHT_pt200.0_rappidity2.5_bbloosejesjec2016.pkl\"]\n",
    "#files = [\"coffeaOutput/trijetHists_wXSscaling_QCDsim_pt200.0rapidity2.5_bbloosejesjec2018.pkl\", \"coffeaOutput/trijetHists_wXSscaling_QCDsim_pt200.0rapidity2.5_bbloosejesjec2017.pkl\", \"coffeaOutput/trijetHists_wXSscaling_QCDsim_pt200.0rapidity2.5_bbloosejesjec2016.pkl\"]\n",
    "combinedFile = addFiles(files)\n",
    "print(combinedFile)\n",
    "\n",
    "\n"
   ]
  },
  {
   "cell_type": "code",
   "execution_count": 3,
   "id": "f8460cba-cf33-4f8e-8070-51ded90ea8f9",
   "metadata": {},
   "outputs": [
    {
     "name": "stdout",
     "output_type": "stream",
     "text": [
      "2016\n",
      "2017\n",
      "2018\n",
      "2016APV\n",
      "['dataset', 'syst', 'ptreco', 'mreco']\n",
      "['nominal', 'jesUp', 'jesDown', 'jerUp', 'jerDown']\n",
      "(12, 26, 12, 14)\n",
      "[[ -inf  240.  320.  405.  485.  575.  660.  720.  775. 1050. 7150.   inf]]\n",
      "(12, 26, 12, 14)\n",
      "(1, 12, 26, 12, 14)\n",
      "(12, 26, 12, 14)\n",
      "[[ -inf  240.  320.  405.  485.  575.  660.  720.  775. 1050. 7150.   inf]]\n",
      "(12, 26, 12, 14)\n",
      "(1, 12, 26, 12, 14)\n",
      "(12, 26, 12, 14)\n",
      "[[ -inf  240.  320.  405.  485.  575.  660.  720.  775. 1050. 7150.   inf]]\n",
      "(12, 26, 12, 14)\n",
      "(1, 12, 26, 12, 14)\n",
      "(12, 26, 12, 14)\n",
      "[[ -inf  240.  320.  405.  485.  575.  660.  720.  775. 1050. 7150.   inf]]\n",
      "(12, 26, 12, 14)\n",
      "(1, 12, 26, 12, 14)\n",
      "(12, 26, 12, 14)\n",
      "[[ -inf  240.  320.  405.  485.  575.  660.  720.  775. 1050. 7150.   inf]]\n",
      "(12, 26, 12, 14)\n",
      "(1, 12, 26, 12, 14)\n"
     ]
    }
   ],
   "source": [
    "%matplotlib inline\n",
    "fname = \"coffeaOutput/trijetHists_wXSscaling_QCDsim_pt200.0rapidity2.5_bbloosejesjecALL.pkl\"\n",
    "# fname = \"coffeaOutput/trijetHists_wXSscaling_QCDsim_pt200.0rapidity2.5_bbloosejesjec2018.pkl\"\n",
    "# fname = \"coffeaOutput/trijetHists_JetHT_pt200.0_rappidity2.5_bbloosejesjec2018.pkl\"\n",
    "# fname =\"coffeaOutput/trijetHistsTest_JetHT_pt200.0_eta2.4_bbloose.pkl\"\n",
    "eras = [\"2016\", \"2017\", \"2018\", \"2016APV\"]\n",
    "dir = \"rootFiles/\"\n",
    "for year in eras:\n",
    "    print(year)\n",
    "    if year in fname:\n",
    "        print(year)\n",
    "        year_str = year\n",
    "        break\n",
    "    else:\n",
    "        year_str = \"ALL\"\n",
    "with open(fname, \"rb\") as f:\n",
    "    result = pickle.load( f )\n",
    "axis_names = [ax.name for ax in result['jet_pt_mass_reco_u'].axes]\n",
    "print(axis_names)\n",
    "cats = [cat for cat in result['jet_pt_mass_reco_u'][{'ptreco':sum, 'dataset':sum, 'mreco':sum}].axes[0]]\n",
    "print(cats)\n",
    "if \"JetHT\" in fname:\n",
    "    if \"dijet\" in  fname:\n",
    "        rootfname = 'dijetHistsJetHT_jec_' + year_str + '.root'\n",
    "    elif \"trijet\" in fname:\n",
    "        rootfname = 'trijetHistsJetHT_jec_' + year_str + '.root'\n",
    "elif \"QCD\" in fname:\n",
    "    if \"dijet\" in  fname:\n",
    "        rootfname = 'dijetHistsQCDsim_jec_' + year_str + '.root'\n",
    "    # integrate and sum over axes\n",
    "    elif \"trijet\" in fname:\n",
    "        rootfname = 'trijetHistsQCDsim_jec' + year_str + '.root'\n",
    "if os.path.exists(dir + rootfname):\n",
    "    rootfile = uproot.recreate(dir+rootfname)\n",
    "else:\n",
    "    rootfile = uproot.create(dir+rootfname)\n",
    "    #### only add hists containing gen if SIM files\n",
    "response_entries = {}\n",
    "if \"QCD\" in fname:\n",
    "    for syst in cats:\n",
    "        rootfile['ptgen_mgen_u_'+syst] = result['response_matrix_u'][{'syst':syst}].project(\"ptgen\", \"mgen\")\n",
    "        rootfile['ptgen_mgen_g_'+syst] = result['response_matrix_g'][{'syst':syst}].project(\"ptgen\",\"mgen\")\n",
    "        rootfile['ptreco_mreco_u_'+syst] = result['response_matrix_u'][{'syst':syst}].project(\"ptreco\", \"mreco\")\n",
    "        rootfile['ptreco_mreco_g_'+syst] = result['response_matrix_g'][{'syst':syst}].project(\"ptreco\",\"mreco\")\n",
    "        rootfile['misses_ptgen_mgen_'+syst] = result['misses'][{'syst':syst}].project(\"ptgen\", \"mgen\")\n",
    "        rootfile['fakes_ptreco_mreco_'+syst] = result['fakes'][{'syst':syst}].project(\"ptreco\",\"mreco\")\n",
    "        response_matrix_u_values, ptreco_edges, mreco_edges, ptgen_edges, mgen_edges = result['response_matrix_u'][{'syst':syst}].project(\"ptreco\", \"mreco\", \"ptgen\", \"mgen\").to_numpy(flow=True)\n",
    "        response_matrix_g_values, ptreco_edges, mreco_edges, ptgen_edges, mgen_edges= result['response_matrix_g'][{'syst':syst}].project(\"ptreco\", \"mreco\", \"ptgen\", \"mgen\").to_numpy(flow=True)\n",
    "        print(response_matrix_g_values.shape)\n",
    "        ptreco_centers = (ptreco_edges[:-1]+ptreco_edges[1:])/2\n",
    "        print(ptreco_centers[np.newaxis])\n",
    "        mreco_centers = (mreco_edges[:-1]+mreco_edges[1:])/2\n",
    "        ptgen_centers = (ptgen_edges[:-1]+ptgen_edges[1:])/2\n",
    "        mgen_centers = (mgen_edges[:-1]+mgen_edges[1:])/2\n",
    "        print(np.shape(response_matrix_g_values))\n",
    "        print(np.shape(response_matrix_g_values[np.newaxis]))\n",
    "        response_entries.update({'groomed_'+syst:response_matrix_g_values[np.newaxis],\n",
    "                           'ungroomed_'+syst:response_matrix_u_values[np.newaxis]})\n",
    "    rootfile['response']=response_entries\n",
    "else:\n",
    "    for syst in cats:\n",
    "        rootfile['ptreco_mreco_u_'+syst] = result['jet_pt_mass_reco_u'][{'syst':syst}].project(\"ptreco\", \"mreco\")\n",
    "        rootfile['ptreco_mreco_g_'+syst] = result['jet_pt_mass_reco_g'][{'syst':syst}].project(\"ptreco\",\"mreco\")\n",
    "rootfile.close()"
   ]
  },
  {
   "cell_type": "code",
   "execution_count": null,
   "id": "74f89dc2-06d3-4fc9-92d1-405ce76ec64b",
   "metadata": {},
   "outputs": [],
   "source": []
  },
  {
   "cell_type": "code",
   "execution_count": 4,
   "id": "1a9b4e4d",
   "metadata": {
    "scrolled": true
   },
   "outputs": [
    {
     "name": "stdout",
     "output_type": "stream",
     "text": [
      "dict_keys(['jet_mass', 'jet_pt', 'jet_eta', 'btag', 'cutflow', 'njet_gen', 'dphimin_gen', 'asymm_gen', 'njet_reco', 'dphimin_reco', 'asymm_reco', 'jet_dr_reco_gen', 'jet_mass_reco_over_gen', 'jet_pt_reco', 'jet_pt_gen', 'jet_pt_reco_over_gen', 'jet_eta_reco', 'jet_eta_gen', 'jet_rap_reco', 'jet_rap_gen', 'jet_dphi_reco', 'jet_ptasymm_reco', 'jet_dr_gen_subjet', 'jet_dr_reco_to_gen_subjet', 'jet_sd_mass_reco', 'jet_sd_mass_gen', 'misses_g', 'fakes_g', 'misses', 'fakes', 'jet_pt_mass_reco_u', 'jet_pt_mass_reco_g', 'jet_pt_mass_gen_u', 'jet_pt_mass_gen_g', 'jet_m_pt_u_reco_over_gen', 'jet_m_pt_g_reco_over_gen', 'response_matrix_u', 'response_matrix_g', 'weights', 'systematics'])\n",
      "(12, 26, 12, 14)\n",
      "(240, 120)\n",
      "1750.0\n",
      "763.0\n",
      "5.596834033787367\n"
     ]
    }
   ],
   "source": [
    "fname = \"coffeaOutput/trijetHists_wXSscaling_QCDsim_pt200.0rapidity2.5_bbloosejesjecALL.pkl\"\n",
    "with open(fname, \"rb\") as f:\n",
    "    result = pickle.load( f )\n",
    "print(result.keys())\n",
    "response_matrix_u_values, ptreco_edges, mreco_edges, ptgen_edges, mgen_edges = result['response_matrix_u'][{'syst':syst}].project(\"ptreco\", \"mreco\", \"ptgen\", \"mgen\").to_numpy(flow=True)\n",
    "print(response_matrix_g_values.shape)\n",
    "response_matrix_g_values= result['response_matrix_g'][{'syst':'nominal'}].project(\"ptreco\", \"mreco\", \"ptgen\", \"mgen\").values()\n",
    "nptreco,nmassreco,nptgen,nmassgen = response_matrix_g_values.shape\n",
    "response_matrix_g_final = response_matrix_g_values.reshape( (nptreco)*(nmassreco), (nptgen)*(nmassgen) ) \n",
    "response_matrix_u_final = response_matrix_u_values.reshape( (nptreco+2)*(nmassreco+2), (nptgen+2)*(nmassgen+2) ) \n",
    "print(response_matrix_g_final.shape)\n",
    "response_matrix_g_final2 = result['response_matrix_g'][{'syst':\"nominal\"}].project(\"ptreco\", \"mreco\", \"ptgen\", \"mgen\").values(flow=True).reshape( (nptreco+2)*(nmassreco+2), (nptgen+2)*(nmassgen+2))\n",
    "print(np.sum(response_matrix_g_final[26,:]))\n",
    "print(np.sum(response_matrix_g_final2[26,:]))\n",
    "print(np.sum(response_matrix_u_final[26,:]))"
   ]
  },
  {
   "cell_type": "code",
   "execution_count": null,
   "id": "1890f9dd",
   "metadata": {},
   "outputs": [],
   "source": []
  },
  {
   "cell_type": "code",
   "execution_count": 5,
   "id": "b5fa926b",
   "metadata": {},
   "outputs": [],
   "source": [
    "# fname = uproot.open('root://cmsxrootd.fnal.gov//store/mc/RunIISummer20UL18NanoAODv9/QCD_Pt_1400to1800_TuneCP5_13TeV_pythia8/NANOAODSIM/106X_upgrade2018_realistic_v16_L1v1-v1/280000/42B4DEA0-C0E7-A944-80DC-1D107A0F63FB.root')"
   ]
  },
  {
   "cell_type": "code",
   "execution_count": 6,
   "id": "9fc5b838",
   "metadata": {},
   "outputs": [],
   "source": [
    "# print(fname[\"Events\"].keys(\"*HTXS*\"))"
   ]
  },
  {
   "cell_type": "code",
   "execution_count": 7,
   "id": "b18ea400-f2ab-4aca-acf6-e2524368fcd8",
   "metadata": {
    "scrolled": true
   },
   "outputs": [
    {
     "name": "stdout",
     "output_type": "stream",
     "text": [
      "['ptgen_mgen_u_nominal;1', 'ptgen_mgen_g_nominal;1', 'ptreco_mreco_u_nominal;1', 'ptreco_mreco_g_nominal;1', 'misses_ptgen_mgen_nominal;1', 'fakes_ptreco_mreco_nominal;1', 'ptgen_mgen_u_jesUp;1', 'ptgen_mgen_g_jesUp;1', 'ptreco_mreco_u_jesUp;1', 'ptreco_mreco_g_jesUp;1', 'misses_ptgen_mgen_jesUp;1', 'fakes_ptreco_mreco_jesUp;1', 'ptgen_mgen_u_jesDown;1', 'ptgen_mgen_g_jesDown;1', 'ptreco_mreco_u_jesDown;1', 'ptreco_mreco_g_jesDown;1', 'misses_ptgen_mgen_jesDown;1', 'fakes_ptreco_mreco_jesDown;1', 'ptgen_mgen_u_jerUp;1', 'ptgen_mgen_g_jerUp;1', 'ptreco_mreco_u_jerUp;1', 'ptreco_mreco_g_jerUp;1', 'misses_ptgen_mgen_jerUp;1', 'fakes_ptreco_mreco_jerUp;1', 'ptgen_mgen_u_jerDown;1', 'ptgen_mgen_g_jerDown;1', 'ptreco_mreco_u_jerDown;1', 'ptreco_mreco_g_jerDown;1', 'misses_ptgen_mgen_jerDown;1', 'fakes_ptreco_mreco_jerDown;1', 'response;1']\n",
      "763.0\n",
      "5.596834033787367\n"
     ]
    }
   ],
   "source": [
    "hists = uproot.open('rootFiles/trijetHistsQCDsim_jecALL.root')\n",
    "print(hists.keys())\n",
    "hist_vals_g, hist_edges, hist_widths = hists['ptreco_mreco_g_nominal'].to_numpy(flow=True)\n",
    "hist_vals_u, hist_edges, hist_widths = hists['ptreco_mreco_u_nominal'].to_numpy(flow=True)\n",
    "print(hist_vals_g[1][0])\n",
    "print(hist_vals_u[1][0])"
   ]
  },
  {
   "cell_type": "code",
   "execution_count": 10,
   "id": "d46a2942-abbb-4b8a-aa8d-902bed2a6939",
   "metadata": {},
   "outputs": [
    {
     "name": "stdout",
     "output_type": "stream",
     "text": [
      "['groomed_nominal', 'ungroomed_nominal', 'groomed_jesUp', 'ungroomed_jesUp', 'groomed_jesDown', 'ungroomed_jesDown', 'groomed_jerUp', 'ungroomed_jerUp', 'groomed_jerDown', 'ungroomed_jerDown']\n",
      "763.0\n"
     ]
    }
   ],
   "source": [
    "hists = uproot.open('rootFiles/trijetHistsQCDsim_jecALL.root')\n",
    "print(hists['response'].keys())\n",
    "resp_groomed = hists['response']['groomed_nominal'].array().to_numpy()[0].reshape((nptreco+2)*(nmassreco+2), (nptgen+2)*(nmassgen+2))\n",
    "print(np.sum(resp_groomed[26,:]))"
   ]
  },
  {
   "cell_type": "code",
   "execution_count": null,
   "id": "9a8ce2f3-b21c-452f-b1bf-e9cfeb6939c2",
   "metadata": {
    "scrolled": true
   },
   "outputs": [],
   "source": []
  },
  {
   "cell_type": "code",
   "execution_count": null,
   "id": "f426c916",
   "metadata": {},
   "outputs": [],
   "source": []
  },
  {
   "cell_type": "code",
   "execution_count": null,
   "id": "910a2620",
   "metadata": {},
   "outputs": [],
   "source": []
  }
 ],
 "metadata": {
  "kernelspec": {
   "display_name": "Python 3 (ipykernel)",
   "language": "python",
   "name": "python3"
  },
  "language_info": {
   "codemirror_mode": {
    "name": "ipython",
    "version": 3
   },
   "file_extension": ".py",
   "mimetype": "text/x-python",
   "name": "python",
   "nbconvert_exporter": "python",
   "pygments_lexer": "ipython3",
   "version": "3.10.8"
  }
 },
 "nbformat": 4,
 "nbformat_minor": 5
}

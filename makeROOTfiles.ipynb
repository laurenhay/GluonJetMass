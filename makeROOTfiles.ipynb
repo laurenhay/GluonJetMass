{
 "cells": [
  {
   "cell_type": "code",
   "execution_count": 1,
   "id": "41f6a0df",
   "metadata": {},
   "outputs": [],
   "source": [
    "#### Convert coffea output into root TH2's to feed into TUnfold\n",
    "import coffea\n",
    "import pickle\n",
    "import uproot\n",
    "import awkward as ak\n",
    "import matplotlib.pyplot as plt\n",
    "import numpy as np\n",
    "# import ROOT"
   ]
  },
  {
   "cell_type": "code",
   "execution_count": 2,
   "id": "24ed2364",
   "metadata": {},
   "outputs": [
    {
     "name": "stdout",
     "output_type": "stream",
     "text": [
      "(10, 11, 10, 21)\n",
      "(10,)\n",
      "(10, 11, 10, 21)\n",
      "(1, 10, 11, 10, 21)\n"
     ]
    }
   ],
   "source": [
    "%matplotlib inline\n",
    "fname = \"coffeaOutput/trijetHistsTest_QCDsim_pt200.0_eta2.4_bbloose.pkl\"\n",
    "with open(fname, \"rb\") as f:\n",
    "    result = pickle.load( f )\n",
    "\n",
    "rootfile = uproot.recreate('trijetHistsQCDsim.root')\n",
    "result=result[0]\n",
    "# integrate and sum over axes\n",
    "rootfile['jet_pt_mass_reco_u'] = result['jet_pt_mass_reco_u'][{'dataset':sum}]\n",
    "rootfile['jet_pt_mass_reco_g'] = result['jet_pt_mass_reco_g'][{'dataset':sum}]\n",
    "rootfile['jet_pt_mass_gen_u'] = result['jet_pt_mass_gen_u'][{'dataset':sum}]\n",
    "rootfile['jet_pt_mass_gen_g'] = result['jet_pt_mass_gen_g'][{'dataset':sum}]\n",
    "rootfile['mreco_mgen_u'] = result['response_matrix_u'].project(\"mreco\", \"mgen\")\n",
    "rootfile['mreco_mgen_g'] = result['response_matrix_g'].project(\"mreco\",\"mgen\")\n",
    "rootfile['ptreco_ptgen_u'] = result['response_matrix_u'].project(\"ptreco\", \"ptgen\")\n",
    "rootfile['ptreco_ptgen_g'] = result['response_matrix_g'].project(\"ptreco\",\"ptgen\")\n",
    "response_matrix_u_values, ptreco_edges, mreco_edges, ptgen_edges, mgen_edges = result['response_matrix_u'].project(\"ptreco\", \"mreco\", \"ptgen\", \"mgen\").to_numpy()\n",
    "response_matrix_g_values = result['response_matrix_g'].project(\"ptreco\", \"mreco\", \"ptgen\", \"mgen\").values()\n",
    "print(response_matrix_g_values.shape)\n",
    "ptreco_centers = (ptreco_edges[:-1]+ptreco_edges[1:])/2\n",
    "print(ptreco_centers.shape)\n",
    "mreco_centers = (mreco_edges[:-1]+mreco_edges[1:])/2\n",
    "ptgen_centers = (ptgen_edges[:-1]+ptgen_edges[1:])/2\n",
    "mgen_centers = (mgen_edges[:-1]+mgen_edges[1:])/2\n",
    "rootfile['response'] = {'groomed':response_matrix_g_values[np.newaxis],\n",
    "                       'ungroomed':response_matrix_u_values[np.newaxis]}\n",
    "rootfile['response_2d'] = {'groomed':response_matrix_g_values.reshape(10*11, 10*21),\n",
    "                       'ungroomed':response_matrix_u_values.reshape(10*11, 10*21)}\n",
    "rootfile['centers'] = {'ptreco':ptreco_centers[np.newaxis], 'mreco':mreco_centers[np.newaxis], \n",
    "                      'ptgen':ptgen_centers[np.newaxis], 'mgen':mgen_centers[np.newaxis]}\n",
    "rootfile.close()\n",
    "\n",
    "print(np.shape(response_matrix_g_values))\n",
    "print(np.shape(response_matrix_g_values[np.newaxis]))"
   ]
  },
  {
   "cell_type": "code",
   "execution_count": null,
   "id": "1a9b4e4d",
   "metadata": {},
   "outputs": [],
   "source": []
  },
  {
   "cell_type": "code",
   "execution_count": null,
   "id": "1890f9dd",
   "metadata": {},
   "outputs": [],
   "source": []
  },
  {
   "cell_type": "code",
   "execution_count": 3,
   "id": "b5fa926b",
   "metadata": {},
   "outputs": [],
   "source": [
    "# fname = uproot.open('root://cmsxrootd.fnal.gov//store/mc/RunIISummer20UL18NanoAODv9/QCD_Pt_1400to1800_TuneCP5_13TeV_pythia8/NANOAODSIM/106X_upgrade2018_realistic_v16_L1v1-v1/280000/42B4DEA0-C0E7-A944-80DC-1D107A0F63FB.root')"
   ]
  },
  {
   "cell_type": "code",
   "execution_count": 4,
   "id": "9fc5b838",
   "metadata": {},
   "outputs": [],
   "source": [
    "# print(fname[\"Events\"].keys(\"*HTXS*\"))"
   ]
  },
  {
   "cell_type": "code",
   "execution_count": 7,
   "id": "0a63c9db",
   "metadata": {
    "scrolled": true
   },
   "outputs": [
    {
     "name": "stdout",
     "output_type": "stream",
     "text": [
      "['jet_pt_mass_reco_u;1', 'jet_pt_mass_reco_g;1', 'jet_pt_mass_gen_u;1', 'jet_pt_mass_gen_g;1', 'mreco_mgen_u;1', 'mreco_mgen_g;1', 'ptreco_ptgen_u;1', 'ptreco_ptgen_g;1', 'response;1', 'response_2d;1', 'centers;1']\n",
      "name                 | typename                 | interpretation                \n",
      "---------------------+--------------------------+-------------------------------\n",
      "groomed              | double[10][11][10][21]   | AsDtype(\"('>f8', (10, 11, 1...\n",
      "ungroomed            | double[10][11][10][21]   | AsDtype(\"('>f8', (10, 11, 1...\n",
      "None\n",
      "[[0 0 4 0 9]]\n",
      "[[4 9]]\n",
      "[[849]]\n",
      "46.0\n"
     ]
    }
   ],
   "source": [
    "hists = uproot.open('trijetHistsQCDsim.root')\n",
    "print(hists.keys())\n",
    "print(hists['response'].show())\n",
    "ungroomed_flat = hists['response_2d']['ungroomed'].array()\n",
    "ungroomed = hists['response']['ungroomed'].array().to_numpy()\n",
    "ptreco_centers = hists['centers']['ptreco'].array().to_numpy()\n",
    "print(np.argwhere(ungroomed==46))\n",
    "print(np.argwhere(ungroomed.reshape(110,210)==46))\n",
    "print(np.argwhere(ungroomed.flatten()==46))\n",
    "print(ungroomed[0][0][4][0][9])\n"
   ]
  },
  {
   "cell_type": "code",
   "execution_count": null,
   "id": "f426c916",
   "metadata": {},
   "outputs": [],
   "source": []
  },
  {
   "cell_type": "code",
   "execution_count": null,
   "id": "910a2620",
   "metadata": {},
   "outputs": [],
   "source": []
  }
 ],
 "metadata": {
  "kernelspec": {
   "display_name": "Python 3 (ipykernel)",
   "language": "python",
   "name": "python3"
  },
  "language_info": {
   "codemirror_mode": {
    "name": "ipython",
    "version": 3
   },
   "file_extension": ".py",
   "mimetype": "text/x-python",
   "name": "python",
   "nbconvert_exporter": "python",
   "pygments_lexer": "ipython3",
   "version": "3.8.15"
  }
 },
 "nbformat": 4,
 "nbformat_minor": 5
}

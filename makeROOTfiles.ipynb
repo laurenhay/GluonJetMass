{
 "cells": [
  {
   "cell_type": "code",
   "execution_count": 1,
   "id": "41f6a0df",
   "metadata": {},
   "outputs": [],
   "source": [
    "#### Convert coffea output into root TH2's to feed into TUnfold\n",
    "import coffea\n",
    "import pickle\n",
    "import uproot\n",
    "import awkward as ak\n",
    "import matplotlib.pyplot as plt\n",
    "import numpy as np\n",
    "import os\n",
    "# import ROOT"
   ]
  },
  {
   "cell_type": "code",
   "execution_count": 4,
   "id": "10c065ec-4606-478a-ace9-ed55c7f0b4fb",
   "metadata": {},
   "outputs": [
    {
     "name": "stdout",
     "output_type": "stream",
     "text": [
      "coffeaOutput/trijetHists_JetHT_pt200.0_rappidity2.5_bbloosejesjecALL.pkl\n"
     ]
    }
   ],
   "source": [
    "from plugins import addFiles\n",
    "files = [\"coffeaOutput/trijetHists_JetHT_pt200.0_rappidity2.5_bbloosejesjec2018.pkl\", \"coffeaOutput/trijetHists_JetHT_pt200.0_rappidity2.5_bbloosejesjec2017.pkl\", \"coffeaOutput/trijetHists_JetHT_pt200.0_rappidity2.5_bbloosejesjec2016.pkl\"]\n",
    "#files = [\"coffeaOutput/trijetHists_wXSscaling_QCDsim_pt200.0rapidity2.5_bbloosejesjec2018.pkl\", \"coffeaOutput/trijetHists_wXSscaling_QCDsim_pt200.0rapidity2.5_bbloosejesjec2017.pkl\", \"coffeaOutput/trijetHists_wXSscaling_QCDsim_pt200.0rapidity2.5_bbloosejesjec2016.pkl\"]\n",
    "combinedFile = addFiles(files)\n",
    "print(combinedFile)\n",
    "\n",
    "\n"
   ]
  },
  {
   "cell_type": "code",
   "execution_count": 9,
   "id": "24ed2364",
   "metadata": {},
   "outputs": [
    {
     "name": "stdout",
     "output_type": "stream",
     "text": [
      "2016\n",
      "2017\n",
      "2018\n",
      "2016APV\n",
      "['dataset', 'syst', 'ptreco', 'mreco']\n",
      "(12, 26, 12, 14)\n",
      "[[ -inf  240.  320.  405.  485.  575.  660.  720.  775. 1050. 7150.   inf]]\n",
      "(12, 26, 12, 14)\n",
      "(1, 12, 26, 12, 14)\n",
      "(12, 26, 12, 14)\n",
      "[[ -inf  240.  320.  405.  485.  575.  660.  720.  775. 1050. 7150.   inf]]\n",
      "(12, 26, 12, 14)\n",
      "(1, 12, 26, 12, 14)\n",
      "(12, 26, 12, 14)\n",
      "[[ -inf  240.  320.  405.  485.  575.  660.  720.  775. 1050. 7150.   inf]]\n",
      "(12, 26, 12, 14)\n",
      "(1, 12, 26, 12, 14)\n",
      "(12, 26, 12, 14)\n",
      "[[ -inf  240.  320.  405.  485.  575.  660.  720.  775. 1050. 7150.   inf]]\n",
      "(12, 26, 12, 14)\n",
      "(1, 12, 26, 12, 14)\n",
      "(12, 26, 12, 14)\n",
      "[[ -inf  240.  320.  405.  485.  575.  660.  720.  775. 1050. 7150.   inf]]\n",
      "(12, 26, 12, 14)\n",
      "(1, 12, 26, 12, 14)\n"
     ]
    }
   ],
   "source": [
    "%matplotlib inline\n",
    "fname = \"coffeaOutput/trijetHists_wXSscaling_QCDsim_pt200.0rapidity2.5_bbloosejesjecALL.pkl\"\n",
    "# fname = \"coffeaOutput/trijetHists_wXSscaling_QCDsim_pt200.0rapidity2.5_bbloosejesjec2018.pkl\"\n",
    "# fname = \"coffeaOutput/trijetHists_JetHT_pt200.0_rappidity2.5_bbloosejesjec2018.pkl\"\n",
    "# fname =\"coffeaOutput/trijetHistsTest_JetHT_pt200.0_eta2.4_bbloose.pkl\"\n",
    "eras = [\"2016\", \"2017\", \"2018\", \"2016APV\"]\n",
    "dir = \"rootFiles/\"\n",
    "for year in eras:\n",
    "    print(year)\n",
    "    if year in fname:\n",
    "        print(year)\n",
    "        year_str = year\n",
    "        break\n",
    "    else:\n",
    "        year_str = \"ALL\"\n",
    "with open(fname, \"rb\") as f:\n",
    "    result = pickle.load( f )\n",
    "axis_names = [ax.name for ax in result['jet_pt_mass_reco_u'].axes]\n",
    "print(axis_names)\n",
    "cats = [cat for cat in result['jet_pt_mass_reco_u'][{'ptreco':sum, 'dataset':sum, 'mreco':sum}].axes[0]]\n",
    "if \"JetHT\" in fname:\n",
    "    if \"dijet\" in  fname:\n",
    "        rootfname = 'dijetHistsJetHT_jec_' + year_str + '.root'\n",
    "    elif \"trijet\" in fname:\n",
    "        rootfname = 'trijetHistsJetHT_jec_' + year_str + '.root'\n",
    "elif \"QCD\" in fname:\n",
    "    if \"dijet\" in  fname:\n",
    "        rootfname = 'dijetHistsQCDsim_jec_' + year_str + '.root'\n",
    "    # integrate and sum over axes\n",
    "    elif \"trijet\" in fname:\n",
    "        rootfname = 'trijetHistsQCDsim_jec' + year_str + '.root'\n",
    "if os.path.exists(dir + rootfname):\n",
    "    rootfile = uproot.recreate(dir+rootfname)\n",
    "else:\n",
    "    rootfile = uproot.create(dir+rootfname)\n",
    "    #### only add hists containing gen if SIM files\n",
    "response_entries = {}\n",
    "for syst in cats:\n",
    "    rootfile['ptreco_mreco_u_'+syst] = result['jet_pt_mass_reco_u'][{'dataset':sum, 'syst':syst}]\n",
    "    rootfile['ptreco_mreco_g_'+syst] = result['jet_pt_mass_reco_g'][{'dataset':sum, 'syst':syst}]\n",
    "    if \"QCD\" in fname:\n",
    "        rootfile['ptgen_mgen_u_'+syst] = result['response_matrix_u'][{'syst':syst}].project(\"ptgen\", \"mgen\")\n",
    "        rootfile['ptgen_mgen_g_'+syst] = result['response_matrix_g'][{'syst':syst}].project(\"ptgen\",\"mgen\")\n",
    "        rootfile['ptreco_mreco_u_'+syst] = result['response_matrix_u'][{'syst':syst}].project(\"ptreco\", \"mreco\")\n",
    "        rootfile['ptreco_mreco_g_'+syst] = result['response_matrix_g'][{'syst':syst}].project(\"ptreco\",\"mreco\")\n",
    "        rootfile['misses_ptgen_mgen_'+syst] = result['misses'][{'syst':syst}].project(\"ptgen\", \"mgen\")\n",
    "        rootfile['fakes_ptreco_mreco_'+syst] = result['fakes'][{'syst':syst}].project(\"ptreco\",\"mreco\")\n",
    "        response_matrix_u_values, ptreco_edges, mreco_edges, ptgen_edges, mgen_edges = result['response_matrix_u'][{'syst':syst}].project(\"ptreco\", \"mreco\", \"ptgen\", \"mgen\").to_numpy(flow=True)\n",
    "        response_matrix_g_values = result['response_matrix_g'][{'syst':syst}].project(\"ptreco\", \"mreco\", \"ptgen\", \"mgen\").values(flow=True)\n",
    "        print(response_matrix_g_values.shape)\n",
    "        ptreco_centers = (ptreco_edges[:-1]+ptreco_edges[1:])/2\n",
    "        print(ptreco_centers[np.newaxis])\n",
    "        mreco_centers = (mreco_edges[:-1]+mreco_edges[1:])/2\n",
    "        ptgen_centers = (ptgen_edges[:-1]+ptgen_edges[1:])/2\n",
    "        mgen_centers = (mgen_edges[:-1]+mgen_edges[1:])/2\n",
    "        print(np.shape(response_matrix_g_values))\n",
    "        print(np.shape(response_matrix_g_values[np.newaxis]))\n",
    "        response_entries.update({'groomed_'+syst:response_matrix_g_values[np.newaxis],\n",
    "                       'ungroomed_'+syst:response_matrix_u_values[np.newaxis]})\n",
    "        centers = {'ptreco':ptreco_centers[np.newaxis], 'mreco':mreco_centers[np.newaxis], \n",
    "                      'ptgen':ptgen_centers[np.newaxis], 'mgen':mgen_centers[np.newaxis]}\n",
    "        rootfile['response']=response_entries\n",
    "        rootfile['centers'] = centers\n",
    "rootfile.close()"
   ]
  },
  {
   "cell_type": "code",
   "execution_count": 10,
   "id": "1a9b4e4d",
   "metadata": {},
   "outputs": [
    {
     "name": "stdout",
     "output_type": "stream",
     "text": [
      "(12, 26, 12, 14)\n",
      "(240, 120)\n"
     ]
    },
    {
     "ename": "ValueError",
     "evalue": "cannot reshape array of size 52416 into shape (240,120)",
     "output_type": "error",
     "traceback": [
      "\u001b[0;31m---------------------------------------------------------------------------\u001b[0m",
      "\u001b[0;31mValueError\u001b[0m                                Traceback (most recent call last)",
      "Cell \u001b[0;32mIn[10], line 8\u001b[0m\n\u001b[1;32m      6\u001b[0m response_matrix_u_final \u001b[38;5;241m=\u001b[39m response_matrix_u_values\u001b[38;5;241m.\u001b[39mreshape( (nptreco)\u001b[38;5;241m*\u001b[39m(nmassreco), (nptgen)\u001b[38;5;241m*\u001b[39m(nmassgen) ) \n\u001b[1;32m      7\u001b[0m \u001b[38;5;28mprint\u001b[39m(response_matrix_u_final\u001b[38;5;241m.\u001b[39mshape)\n\u001b[0;32m----> 8\u001b[0m response_matrix_u_final2 \u001b[38;5;241m=\u001b[39m \u001b[43mresult\u001b[49m\u001b[43m[\u001b[49m\u001b[38;5;124;43m'\u001b[39;49m\u001b[38;5;124;43mresponse_matrix_u\u001b[39;49m\u001b[38;5;124;43m'\u001b[39;49m\u001b[43m]\u001b[49m\u001b[43m[\u001b[49m\u001b[43m{\u001b[49m\u001b[38;5;124;43m'\u001b[39;49m\u001b[38;5;124;43msyst\u001b[39;49m\u001b[38;5;124;43m'\u001b[39;49m\u001b[43m:\u001b[49m\u001b[38;5;124;43m\"\u001b[39;49m\u001b[38;5;124;43mnominal\u001b[39;49m\u001b[38;5;124;43m\"\u001b[39;49m\u001b[43m}\u001b[49m\u001b[43m]\u001b[49m\u001b[38;5;241;43m.\u001b[39;49m\u001b[43mproject\u001b[49m\u001b[43m(\u001b[49m\u001b[38;5;124;43m\"\u001b[39;49m\u001b[38;5;124;43mptreco\u001b[39;49m\u001b[38;5;124;43m\"\u001b[39;49m\u001b[43m,\u001b[49m\u001b[43m \u001b[49m\u001b[38;5;124;43m\"\u001b[39;49m\u001b[38;5;124;43mmreco\u001b[39;49m\u001b[38;5;124;43m\"\u001b[39;49m\u001b[43m,\u001b[49m\u001b[43m \u001b[49m\u001b[38;5;124;43m\"\u001b[39;49m\u001b[38;5;124;43mptgen\u001b[39;49m\u001b[38;5;124;43m\"\u001b[39;49m\u001b[43m,\u001b[49m\u001b[43m \u001b[49m\u001b[38;5;124;43m\"\u001b[39;49m\u001b[38;5;124;43mmgen\u001b[39;49m\u001b[38;5;124;43m\"\u001b[39;49m\u001b[43m)\u001b[49m\u001b[38;5;241;43m.\u001b[39;49m\u001b[43mvalues\u001b[49m\u001b[43m(\u001b[49m\u001b[43mflow\u001b[49m\u001b[38;5;241;43m=\u001b[39;49m\u001b[38;5;28;43;01mTrue\u001b[39;49;00m\u001b[43m)\u001b[49m\u001b[38;5;241;43m.\u001b[39;49m\u001b[43mreshape\u001b[49m\u001b[43m(\u001b[49m\u001b[43m \u001b[49m\u001b[43m(\u001b[49m\u001b[43mnptreco\u001b[49m\u001b[43m)\u001b[49m\u001b[38;5;241;43m*\u001b[39;49m\u001b[43m(\u001b[49m\u001b[43mnmassreco\u001b[49m\u001b[43m)\u001b[49m\u001b[43m,\u001b[49m\u001b[43m \u001b[49m\u001b[43m(\u001b[49m\u001b[43mnptgen\u001b[49m\u001b[43m)\u001b[49m\u001b[38;5;241;43m*\u001b[39;49m\u001b[43m(\u001b[49m\u001b[43mnmassgen\u001b[49m\u001b[43m)\u001b[49m\u001b[43m \u001b[49m\u001b[43m)\u001b[49m \n\u001b[1;32m      9\u001b[0m \u001b[38;5;28mprint\u001b[39m(response_matrix_u_final2)\n\u001b[1;32m     10\u001b[0m \u001b[38;5;28mprint\u001b[39m(np\u001b[38;5;241m.\u001b[39msum(response_matrix_u_final[\u001b[38;5;241m27\u001b[39m,:]))\n",
      "\u001b[0;31mValueError\u001b[0m: cannot reshape array of size 52416 into shape (240,120)"
     ]
    }
   ],
   "source": [
    "response_matrix_u_values, ptreco_edges, mreco_edges, ptgen_edges, mgen_edges = result['response_matrix_u'][{'syst':syst}].project(\"ptreco\", \"mreco\", \"ptgen\", \"mgen\").to_numpy(flow=True)\n",
    "print(response_matrix_u_values.shape)\n",
    "response_matrix_u_values= result['response_matrix_u'][{'syst':syst}].project(\"ptreco\", \"mreco\", \"ptgen\", \"mgen\").values()\n",
    "ptreco_mreco = result['response_matrix_u'].project(\"ptreco\", \"mreco\").values()\n",
    "nptreco,nmassreco,nptgen,nmassgen = response_matrix_u_values.shape\n",
    "response_matrix_u_final = response_matrix_u_values.reshape( (nptreco)*(nmassreco), (nptgen)*(nmassgen) ) \n",
    "print(response_matrix_u_final.shape)\n",
    "response_matrix_u_final2 = result['response_matrix_u'][{'syst':\"nominal\"}].project(\"ptreco\", \"mreco\", \"ptgen\", \"mgen\").values(flow=True).reshape( (nptreco)*(nmassreco), (nptgen)*(nmassgen) ) \n",
    "print(response_matrix_u_final2)\n",
    "print(np.sum(response_matrix_u_final[27,:]))\n",
    "print(np.sum(response_matrix_u_final2[:,1]))"
   ]
  },
  {
   "cell_type": "code",
   "execution_count": null,
   "id": "1890f9dd",
   "metadata": {},
   "outputs": [],
   "source": []
  },
  {
   "cell_type": "code",
   "execution_count": null,
   "id": "b5fa926b",
   "metadata": {},
   "outputs": [],
   "source": [
    "# fname = uproot.open('root://cmsxrootd.fnal.gov//store/mc/RunIISummer20UL18NanoAODv9/QCD_Pt_1400to1800_TuneCP5_13TeV_pythia8/NANOAODSIM/106X_upgrade2018_realistic_v16_L1v1-v1/280000/42B4DEA0-C0E7-A944-80DC-1D107A0F63FB.root')"
   ]
  },
  {
   "cell_type": "code",
   "execution_count": null,
   "id": "9fc5b838",
   "metadata": {},
   "outputs": [],
   "source": [
    "# print(fname[\"Events\"].keys(\"*HTXS*\"))"
   ]
  },
  {
   "cell_type": "code",
   "execution_count": null,
   "id": "b18ea400-f2ab-4aca-acf6-e2524368fcd8",
   "metadata": {
    "scrolled": true
   },
   "outputs": [],
   "source": [
    "hists = uproot.open('rootFiles/trijetHistsJetHT_jec_2018.root')\n",
    "print(hists.keys())\n",
    "resp_groomed = hists['response']['groomed_nominal'].array().to_numpy()[0]\n",
    "print(hists['ptreco_mreco_u_nominal'].to_numpy())\n",
    "hist_vals, hist_edges, hist_widths = hists['ptreco_mreco_u_nominal'].to_numpy(flow=True)\n",
    "print(hist_vals[1][1])\n",
    "histg_vals, histg_edges, histg_widths = hists['ptgen_mgen_u_nominal'].to_numpy(flow=False)\n",
    "print(histg_vals[0][0])"
   ]
  },
  {
   "cell_type": "code",
   "execution_count": null,
   "id": "9a8ce2f3-b21c-452f-b1bf-e9cfeb6939c2",
   "metadata": {
    "scrolled": true
   },
   "outputs": [],
   "source": []
  },
  {
   "cell_type": "code",
   "execution_count": null,
   "id": "f426c916",
   "metadata": {},
   "outputs": [],
   "source": []
  },
  {
   "cell_type": "code",
   "execution_count": null,
   "id": "910a2620",
   "metadata": {},
   "outputs": [],
   "source": []
  }
 ],
 "metadata": {
  "kernelspec": {
   "display_name": "Python 3 (ipykernel)",
   "language": "python",
   "name": "python3"
  },
  "language_info": {
   "codemirror_mode": {
    "name": "ipython",
    "version": 3
   },
   "file_extension": ".py",
   "mimetype": "text/x-python",
   "name": "python",
   "nbconvert_exporter": "python",
   "pygments_lexer": "ipython3",
   "version": "3.10.8"
  }
 },
 "nbformat": 4,
 "nbformat_minor": 5
}

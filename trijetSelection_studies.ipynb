{
 "cells": [
  {
   "cell_type": "code",
   "execution_count": 1,
   "id": "1bceac1d",
   "metadata": {},
   "outputs": [
    {
     "name": "stdout",
     "output_type": "stream",
     "text": [
      "0.7.22\n"
     ]
    }
   ],
   "source": [
    "import awkward as ak\n",
    "import numpy as np\n",
    "import time\n",
    "import coffea\n",
    "import pickle\n",
    "import hist\n",
    "\n",
    "print(coffea.__version__)\n",
    "from coffea import util\n",
    "from coffea.nanoevents import NanoEventsFactory, NanoAODSchema\n",
    "from python.plugins import handleData\n",
    "import lpcjobqueue\n",
    "import sys\n",
    "# redirector = 'root://xcache/'\n",
    "# redirector='root://cmsxrootd.fnal.gov/' \n",
    "redirector = 'root://xrootd.cmsaf.mit.edu:1094/'\n",
    "# redirector ='root://dcache-cms-webdav-wan.desy.de/' ###DESY\n",
    "# redirector = 'root://cmseos.fnal.gov/' ###T3 FNAL\n",
    "# redirector='root://xrootd-local.unl.edu:1094/' ###Nebraska\n",
    "# files = handleData('fileset_QCD.json', redirector, year = 2018, testing = True)\n",
    "# files = handleData('datasets_UL_NANOAOD.json', redirector, year = 2018, testing = True)\n",
    "# events = NanoEventsFactory.from_root('root://eymir.grid.metu.edu.tr//store/mc/RunIISummer20UL18NanoAODv9/QCD_HT100to200_TuneCH3_13TeV-madgraphMLM-herwig7/NANOAODSIM/106X_upgrade2018_realistic_v16_L1v1-v1/50000/11E3409E-D937-EA40-8BE7-341AF5D38D7E.root', \n",
    "#                                      schemaclass=NanoAODSchema).events()\n",
    "\n",
    "\n",
    "# h = hist.Hist.new.Regular(100, 0, 100, name=\"pt\").Double()\n",
    "# h.fill(ak.flatten(events.Electron.pt))\n",
    "# h.plot1d()\n",
    "\n",
    "# import uproot\n",
    "# # ### uproot notation\n",
    "# # qcd_mc = uproot.open(list(files.values())[-1][0])\n",
    "# qcd_mc = uproot.open(redirector+\"/store/data/Run2017D/JetHT/NANOAOD/UL2017_MiniAODv2_NanoAODv9-v1/120000/4A70E050-A8B9-FA46-92C3-4A85F22FB255.root\")\n",
    "# uprootevents = qcd_mc['Events']\n",
    "# print(uprootevents['FatJet_pt'].array())\n",
    "# # for key in\n",
    "# print(uprootevents[\"L1PreFiringWeight_Nom\"].array())\n",
    "# print(len(uprootevents_data[\"L1PreFiringWeight_Nom\"].array()))"
   ]
  },
  {
   "cell_type": "code",
   "execution_count": 2,
   "id": "8f24378f-b5d3-4a03-af81-45db62807a86",
   "metadata": {},
   "outputs": [],
   "source": [
    "# # events=events[ak.all(events.FatJet[:,:2].jetId > 1, axis=-1)]\n",
    "# print(ak.num(events.FatJet.jetId > 1) > 1)\n",
    "\n",
    "# print(\"N events initial \", len(events))\n",
    "# events_sel = events[ak.num(events.FatJet.jetId > 1) > 1]\n",
    "# print(len(events_sel))\n",
    "\n",
    "# print(\"Num jets pt greater than 200\", ak.num(events_sel.FatJet.pt > 200))\n",
    "# print(ak.all(events_sel.FatJet[:,:2].pt > 200., axis=-1))\n",
    "# print(events_sel.FatJet[:,:2].pt)\n",
    "# events_sel = events_sel[ak.all(events_sel.FatJet[:,:2].pt > 200., axis=-1)]\n",
    "# print(\"Nevents with at least 2 jets \", len(events_sel))\n",
    "# print(len(events_sel))\n",
    "# print(\"N gen subjets per events \", ak.num(events_sel.SubGenJetAK8))\n",
    "# print(\"N subjets per events \", ak.num(events_sel.SubJet))\n",
    "# print(\"N jets per events \", ak.num(events_sel.FatJet))\n",
    "\n",
    "# print(\"pt gen subjets \", events_sel.SubGenJetAK8.pt)\n",
    "# print(\"pt subjets \", events_sel.SubJet.pt)\n",
    "# print(\"pt fat jets \", events_sel.FatJet.pt)\n",
    "\n",
    "# # h = hist.Hist.new.Regular(20, 0, 3, name=\"Fat Jet area\").Double()\n",
    "# # h.fill(ak.flatten(events.FatJet.area))\n",
    "# # h.plot1d()\n",
    "\n",
    "\n",
    "# print(events_sel.SubJet.pt)\n",
    "# print(\"FatJet pt\", events_sel.FatJet.pt)\n",
    "# h2 = hist.Hist.new.Regular(200, 0, 2000, name=\"pt\").Double()\n",
    "# h2.fill(ak.flatten(events_sel.SubJet.pt))\n",
    "# h2.plot1d()\n",
    "\n",
    "\n",
    "# events = events[(ak.num(events.FatJet.msoftdrop) > 1) & ak.all(events.FatJet.msoftdrop > 0., axis=-1)]\n",
    "# print(\"AK8 sd masses 0\", events.FatJet.msoftdrop)\n",
    "# print(events.FatJet.subJetIdx1[0])\n",
    "# print(events.FatJet.subJetIdx2[0])\n",
    "# print(\"Sdmasses for jet 1 \", (events.SubJet[0,events.FatJet.subJetIdx1[0,0]]+events.SubJet[0,events.FatJet.subJetIdx2[0,0]]).mass)\n",
    "# print(\"Sdmasses for jet 2 \", (events.SubJet[0,events.FatJet.subJetIdx1[0,1]]+events.SubJet[0,events.FatJet.subJetIdx2[0,1]]).mass)\n",
    "# newAK8mass = (events.SubJet[events.FatJet.subJetIdx1]+events.SubJet[events.FatJet.subJetIdx2]).mass\n",
    "# SubJets = events.SubJet\n",
    "# SubJets[\"area\"] = SubJets.pt\n",
    "# print(SubJets.area[events.FatJet.subJetIdx1])\n",
    "# print((ak.local_index(SubJets.area)==events.FatJet.subJetIdx1[:,0]) | (ak.local_index(SubJets.area)==events.FatJet.subJetIdx2[:,0]))\n",
    "# print(ak.local_index(SubJets.area)==events.FatJet.subJetIdx2[:,0])\n",
    "# SubJets.area = ak.where((ak.local_index(SubJets.area)==events.FatJet.subJetIdx1[:,0]) | (ak.local_index(SubJets.area)==events.FatJet.subJetIdx2[:,0]), events.FatJet.area[:,0], SubJets.area)\n",
    "# SubJets.area = ak.where((ak.local_index(SubJets.area)==events.FatJet.subJetIdx1[:,1]) | (ak.local_index(SubJets.area)==events.FatJet.subJetIdx2[:,1]), events.FatJet.area[:,1], SubJets.area)\n",
    "# print(SubJets.area)\n",
    "# print(\"Fat jet areas \", events.FatJet.area)"
   ]
  },
  {
   "cell_type": "code",
   "execution_count": 3,
   "id": "ef2cfae4",
   "metadata": {
    "scrolled": true,
    "tags": []
   },
   "outputs": [
    {
     "name": "stdout",
     "output_type": "stream",
     "text": [
      "2.7.2\n",
      "0.7.22\n",
      "Data:  False  gen  True\n",
      "mreco bins:  [   0.    5.   10.   15.   20.   30.   40.   50.   60.   70.   80.   90.\n",
      "  100.  125.  150.  175.  200.  250.  300.  800. 1300.]\n"
     ]
    }
   ],
   "source": [
    "from python.plugins import *\n",
    "from python.trijetProcessor import makeTrijetHists\n",
    "from dask.distributed import Client\n",
    "\n",
    "\n",
    "data = False\n",
    "winterfell = False\n",
    "casa = False\n",
    "dask = False\n",
    "testing= True\n",
    "range = None\n",
    "year=\"2018\"\n",
    "processor = makeTrijetHists(data = data, jet_systematics = [\"nominal\"])#, systematics = [\"PDF\"])\n",
    "datastring = \"JetHT\" if processor.do_gen == False else \"QCDsim\"\n",
    "if processor.do_gen==True and winterfell:\n",
    "    filename = \"QCD_flat_files.json\"\n",
    "elif processor.do_gen==True:\n",
    "    # filename = \"fileset_QCD.json\"\n",
    "    # filename = \"fileset_HERWIG_wRedirs.json\"\n",
    "    filename = \"fileset_MG_pythia8_wRedirs.json\"\n",
    "else:\n",
    "    filename = \"datasets_UL_NANOAOD.json\"\n",
    "    \n",
    "if year == 2016 or year == 2017 or year == 2018:\n",
    "    year_str = str(year)\n",
    "elif year == \"2016\" or year == \"2016APV\" or year == \"2017\" or year == \"2018\":\n",
    "    year_str = year\n",
    "else:\n",
    "    year_str = \"All\"\n",
    "\n",
    "if testing and not data:\n",
    "    fname = 'coffeaOutput/trijet/trijetHistsTest_wXSscaling_{}_pt{}_rapidity{}_{}{}.pkl'.format(datastring, processor.ptcut, processor.ycut, processor.jet_systematics[0], year_str)\n",
    "elif testing and data:\n",
    "    fname = 'coffeaOutput/trijet/trijetHistsTest{}_pt{}_rapidity{}_{}{}.pkl'.format(datastring, processor.ptcut, processor.ycut, processor.jet_systematics[0], year_str)\n",
    "elif not testing and data:\n",
    "    fname = 'coffeaOutput/trijet/trijetHists_{}_pt{}_rappidity{}_{}{}.pkl'.format(datastring, processor.ptcut, processor.ycut, processor.jet_systematics[0], year_str)\n",
    "else:\n",
    "    fname = 'coffeaOutput/trijet/trijetHists_wXSscaling_{}_pt{}rapidity{}_{}{}.pkl'.format(datastring, processor.ptcut, processor.ycut, processor.jet_systematics[0], year_str)\n",
    "if range!=None:\n",
    "    print(\"Range input: \", range)\n",
    "    fname=fname[:-4]+\"_\"+str(range[0])+\"_\"+str(range[1])+\".pkl\"\n",
    "    print(\"New ranged fname \", fname)"
   ]
  },
  {
   "cell_type": "code",
   "execution_count": 4,
   "id": "28b0da8b",
   "metadata": {
    "scrolled": true
   },
   "outputs": [
    {
     "name": "stdout",
     "output_type": "stream",
     "text": [
      "Running over datasets  dict_keys(['/QCD_HT100to200_TuneCP5_13TeV-madgraphMLM-pythia8/RunIISummer20UL18NanoAODv9-106X_upgrade2018_realistic_v16_L1v1-v1/NANOAODSIM'])\n",
      "Running locally\n"
     ]
    },
    {
     "data": {
      "application/vnd.jupyter.widget-view+json": {
       "model_id": "b8c9a87fae1b42cab54e75c9aabcecc1",
       "version_major": 2,
       "version_minor": 0
      },
      "text/plain": [
       "Output()"
      ]
     },
     "metadata": {},
     "output_type": "display_data"
    },
    {
     "data": {
      "text/html": [
       "<pre style=\"white-space:pre;overflow-x:auto;line-height:normal;font-family:Menlo,'DejaVu Sans Mono',consolas,'Courier New',monospace\"></pre>\n"
      ],
      "text/plain": []
     },
     "metadata": {},
     "output_type": "display_data"
    },
    {
     "data": {
      "text/html": [
       "<pre style=\"white-space:pre;overflow-x:auto;line-height:normal;font-family:Menlo,'DejaVu Sans Mono',consolas,'Courier New',monospace\">\n",
       "</pre>\n"
      ],
      "text/plain": [
       "\n"
      ]
     },
     "metadata": {},
     "output_type": "display_data"
    },
    {
     "data": {
      "application/vnd.jupyter.widget-view+json": {
       "model_id": "98a4ae6e5d4f48f68af186493c35164a",
       "version_major": 2,
       "version_minor": 0
      },
      "text/plain": [
       "Output()"
      ]
     },
     "metadata": {},
     "output_type": "display_data"
    },
    {
     "name": "stdout",
     "output_type": "stream",
     "text": [
      "Dataset:  /QCD_HT100to200_TuneCP5_13TeV-madgraphMLM-pythia8/RunIISummer20UL18NanoAODv9-106X_upgrade2018_realistic_v16_L1v1-v1/NANOAODSIM\n"
     ]
    },
    {
     "data": {
      "text/html": [
       "<pre style=\"white-space:pre;overflow-x:auto;line-height:normal;font-family:Menlo,'DejaVu Sans Mono',consolas,'Courier New',monospace\"></pre>\n"
      ],
      "text/plain": []
     },
     "metadata": {},
     "output_type": "display_data"
    },
    {
     "data": {
      "text/html": [
       "<pre style=\"white-space:pre;overflow-x:auto;line-height:normal;font-family:Menlo,'DejaVu Sans Mono',consolas,'Courier New',monospace\">\n",
       "</pre>\n"
      ],
      "text/plain": [
       "\n"
      ]
     },
     "metadata": {},
     "output_type": "display_data"
    },
    {
     "name": "stderr",
     "output_type": "stream",
     "text": [
      "concurrent.futures.process._RemoteTraceback: \n",
      "\"\"\"\n",
      "Traceback (most recent call last):\n",
      "  File \"/opt/conda/lib/python3.9/site-packages/coffea/processor/executor.py\", line 1654, in _work_function\n",
      "    out = processor_instance.process(events)\n",
      "  File \"/srv/python/trijetProcessor.py\", line 264, in process\n",
      "    corr_subjets = GetJetCorrections(events0.SubJet, events0, era, IOV, isData = not self.do_gen, mode = 'AK4')\n",
      "NameError: name 'events0' is not defined\n",
      "\n",
      "The above exception was the direct cause of the following exception:\n",
      "\n",
      "Traceback (most recent call last):\n",
      "  File \"/opt/conda/lib/python3.9/concurrent/futures/process.py\", line 246, in _process_worker\n",
      "    r = call_item.fn(*call_item.args, **call_item.kwargs)\n",
      "  File \"/opt/conda/lib/python3.9/site-packages/coffea/processor/executor.py\", line 221, in __call__\n",
      "    out = self.function(*args, **kwargs)\n",
      "  File \"/opt/conda/lib/python3.9/site-packages/coffea/processor/executor.py\", line 1367, in automatic_retries\n",
      "    raise e\n",
      "  File \"/opt/conda/lib/python3.9/site-packages/coffea/processor/executor.py\", line 1336, in automatic_retries\n",
      "    return func(*args, **kwargs)\n",
      "  File \"/opt/conda/lib/python3.9/site-packages/coffea/processor/executor.py\", line 1656, in _work_function\n",
      "    raise Exception(f\"Failed processing file: {item!r}\") from e\n",
      "Exception: Failed processing file: WorkItem(dataset='/QCD_HT100to200_TuneCP5_13TeV-madgraphMLM-pythia8/RunIISummer20UL18NanoAODv9-106X_upgrade2018_realistic_v16_L1v1-v1/NANOAODSIM', filename='root://cmseos.fnal.gov//store/mc/RunIISummer20UL18NanoAODv9/QCD_HT100to200_TuneCP5_13TeV-madgraphMLM-pythia8/NANOAODSIM/106X_upgrade2018_realistic_v16_L1v1-v1/60000/01CD88A2-878C-6446-9D9C-70BFF7D9E19C.root', treename='Events', entrystart=0, entrystop=84900, fileuuid=b'\\xbf\\xee\\xf1b\\xddh\\x11\\xec\\x88\\xba\\\\-\\xf6\\x82\\xbe\\xef', usermeta={})\n",
      "\"\"\"\n",
      "\n",
      "The above exception was the direct cause of the following exception:\n",
      "\n",
      "Traceback (most recent call last):\n",
      "  File \"/opt/conda/lib/python3.9/site-packages/coffea/processor/executor.py\", line 786, in _processwith\n",
      "    merged = _watcher(FH, self, reducer, pool)\n",
      "  File \"/opt/conda/lib/python3.9/site-packages/coffea/processor/executor.py\", line 402, in _watcher\n",
      "    batch = FH.fetch(len(FH.completed))\n",
      "  File \"/opt/conda/lib/python3.9/site-packages/coffea/processor/executor.py\", line 286, in fetch\n",
      "    raise bad_futures[0].exception()\n",
      "Exception: Failed processing file: WorkItem(dataset='/QCD_HT100to200_TuneCP5_13TeV-madgraphMLM-pythia8/RunIISummer20UL18NanoAODv9-106X_upgrade2018_realistic_v16_L1v1-v1/NANOAODSIM', filename='root://cmseos.fnal.gov//store/mc/RunIISummer20UL18NanoAODv9/QCD_HT100to200_TuneCP5_13TeV-madgraphMLM-pythia8/NANOAODSIM/106X_upgrade2018_realistic_v16_L1v1-v1/60000/01CD88A2-878C-6446-9D9C-70BFF7D9E19C.root', treename='Events', entrystart=0, entrystop=84900, fileuuid=b'\\xbf\\xee\\xf1b\\xddh\\x11\\xec\\x88\\xba\\\\-\\xf6\\x82\\xbe\\xef', usermeta={})\n"
     ]
    },
    {
     "name": "stdout",
     "output_type": "stream",
     "text": [
      "Dataset:  /QCD_HT100to200_TuneCP5_13TeV-madgraphMLM-pythia8/RunIISummer20UL18NanoAODv9-106X_upgrade2018_realistic_v16_L1v1-v1/NANOAODSIM\n",
      "Dataset:  /QCD_HT100to200_TuneCP5_13TeV-madgraphMLM-pythia8/RunIISummer20UL18NanoAODv9-106X_upgrade2018_realistic_v16_L1v1-v1/NANOAODSIM\n"
     ]
    },
    {
     "ename": "Exception",
     "evalue": "Failed processing file: WorkItem(dataset='/QCD_HT100to200_TuneCP5_13TeV-madgraphMLM-pythia8/RunIISummer20UL18NanoAODv9-106X_upgrade2018_realistic_v16_L1v1-v1/NANOAODSIM', filename='root://cmseos.fnal.gov//store/mc/RunIISummer20UL18NanoAODv9/QCD_HT100to200_TuneCP5_13TeV-madgraphMLM-pythia8/NANOAODSIM/106X_upgrade2018_realistic_v16_L1v1-v1/60000/01CD88A2-878C-6446-9D9C-70BFF7D9E19C.root', treename='Events', entrystart=0, entrystop=84900, fileuuid=b'\\xbf\\xee\\xf1b\\xddh\\x11\\xec\\x88\\xba\\\\-\\xf6\\x82\\xbe\\xef', usermeta={})",
     "output_type": "error",
     "traceback": [
      "\u001b[0;31m---------------------------------------------------------------------------\u001b[0m",
      "\u001b[0;31mException\u001b[0m                                 Traceback (most recent call last)",
      "Cell \u001b[0;32mIn[4], line 28\u001b[0m\n\u001b[1;32m     26\u001b[0m             pickle\u001b[38;5;241m.\u001b[39mdump( result, f)\n\u001b[1;32m     27\u001b[0m \u001b[38;5;28;01melse\u001b[39;00m:\n\u001b[0;32m---> 28\u001b[0m     result \u001b[38;5;241m=\u001b[39m \u001b[43mrunCoffeaJob\u001b[49m\u001b[43m(\u001b[49m\u001b[43mprocessor\u001b[49m\u001b[43m,\u001b[49m\u001b[43m \u001b[49m\u001b[43mjsonFile\u001b[49m\u001b[43m \u001b[49m\u001b[38;5;241;43m=\u001b[39;49m\u001b[43m \u001b[49m\u001b[43mfilename\u001b[49m\u001b[43m,\u001b[49m\u001b[43m \u001b[49m\u001b[43mcasa\u001b[49m\u001b[43m \u001b[49m\u001b[38;5;241;43m=\u001b[39;49m\u001b[43m \u001b[49m\u001b[43mcasa\u001b[49m\u001b[43m,\u001b[49m\u001b[43m \u001b[49m\u001b[43mwinterfell\u001b[49m\u001b[43m \u001b[49m\u001b[38;5;241;43m=\u001b[39;49m\u001b[43m \u001b[49m\u001b[43mwinterfell\u001b[49m\u001b[43m,\u001b[49m\u001b[43m \u001b[49m\u001b[43myear\u001b[49m\u001b[43m \u001b[49m\u001b[38;5;241;43m=\u001b[39;49m\u001b[43m \u001b[49m\u001b[43myear\u001b[49m\u001b[43m,\u001b[49m\n\u001b[1;32m     29\u001b[0m \u001b[43m                      \u001b[49m\u001b[43mtesting\u001b[49m\u001b[43m \u001b[49m\u001b[38;5;241;43m=\u001b[39;49m\u001b[43m \u001b[49m\u001b[43mtesting\u001b[49m\u001b[43m,\u001b[49m\u001b[43m \u001b[49m\u001b[43mdask\u001b[49m\u001b[43m \u001b[49m\u001b[38;5;241;43m=\u001b[39;49m\u001b[43m \u001b[49m\u001b[43mdask\u001b[49m\u001b[43m,\u001b[49m\u001b[43m \u001b[49m\u001b[43mdata\u001b[49m\u001b[43m \u001b[49m\u001b[38;5;241;43m=\u001b[39;49m\u001b[43m \u001b[49m\u001b[38;5;129;43;01mnot\u001b[39;49;00m\u001b[43m \u001b[49m\u001b[43mprocessor\u001b[49m\u001b[38;5;241;43m.\u001b[39;49m\u001b[43mdo_gen\u001b[49m\u001b[43m,\u001b[49m\u001b[43m \u001b[49m\u001b[43mdatasetRange\u001b[49m\u001b[43m \u001b[49m\u001b[38;5;241;43m=\u001b[39;49m\u001b[43m \u001b[49m\u001b[38;5;28;43mrange\u001b[39;49m\u001b[43m)\u001b[49m\n\u001b[1;32m     30\u001b[0m \u001b[38;5;28;01mwith\u001b[39;00m \u001b[38;5;28mopen\u001b[39m(fname, \u001b[38;5;124m\"\u001b[39m\u001b[38;5;124mwb\u001b[39m\u001b[38;5;124m\"\u001b[39m) \u001b[38;5;28;01mas\u001b[39;00m f:\n\u001b[1;32m     31\u001b[0m     pickle\u001b[38;5;241m.\u001b[39mdump( result, f)\n",
      "File \u001b[0;32m/srv/python/plugins.py:188\u001b[0m, in \u001b[0;36mrunCoffeaJob\u001b[0;34m(processor_inst, jsonFile, dask, casa, testing, year, data, winterfell, verbose, datasetRange)\u001b[0m\n\u001b[1;32m    185\u001b[0m \u001b[38;5;66;03m#         print(\"Waiting for at least one worker...\")\u001b[39;00m\n\u001b[1;32m    186\u001b[0m     \u001b[38;5;28;01melse\u001b[39;00m:\n\u001b[1;32m    187\u001b[0m         \u001b[38;5;28mprint\u001b[39m(\u001b[38;5;124m\"\u001b[39m\u001b[38;5;124mRunning locally\u001b[39m\u001b[38;5;124m\"\u001b[39m)\n\u001b[0;32m--> 188\u001b[0m         result \u001b[38;5;241m=\u001b[39m \u001b[43mprocessor\u001b[49m\u001b[38;5;241;43m.\u001b[39;49m\u001b[43mrun_uproot_job\u001b[49m\u001b[43m(\u001b[49m\u001b[43msamples\u001b[49m\u001b[43m,\u001b[49m\n\u001b[1;32m    189\u001b[0m \u001b[43m                                          \u001b[49m\u001b[38;5;124;43m\"\u001b[39;49m\u001b[38;5;124;43mEvents\u001b[39;49m\u001b[38;5;124;43m\"\u001b[39;49m\u001b[43m,\u001b[49m\n\u001b[1;32m    190\u001b[0m \u001b[43m                                          \u001b[49m\u001b[43mprocessor_instance\u001b[49m\u001b[43m \u001b[49m\u001b[38;5;241;43m=\u001b[39;49m\u001b[43m \u001b[49m\u001b[43mprocessor_inst\u001b[49m\u001b[43m,\u001b[49m\n\u001b[1;32m    191\u001b[0m \u001b[43m                                          \u001b[49m\u001b[43mexecutor\u001b[49m\u001b[43m \u001b[49m\u001b[38;5;241;43m=\u001b[39;49m\u001b[43m \u001b[49m\u001b[43mexecutor\u001b[49m\u001b[43m,\u001b[49m\n\u001b[1;32m    192\u001b[0m \u001b[43m                                          \u001b[49m\u001b[43mexecutor_args\u001b[49m\u001b[43m \u001b[49m\u001b[38;5;241;43m=\u001b[39;49m\u001b[43m \u001b[49m\u001b[43mexe_args\u001b[49m\u001b[43m,\u001b[49m\n\u001b[1;32m    193\u001b[0m \u001b[43m                                     \u001b[49m\u001b[43m)\u001b[49m\n\u001b[1;32m    194\u001b[0m     elapsed \u001b[38;5;241m=\u001b[39m time\u001b[38;5;241m.\u001b[39mtime() \u001b[38;5;241m-\u001b[39m tstart\n\u001b[1;32m    195\u001b[0m     \u001b[38;5;28mprint\u001b[39m(result)\n",
      "File \u001b[0;32m/opt/conda/lib/python3.9/site-packages/coffea/processor/__init__.py:104\u001b[0m, in \u001b[0;36m_run_x_job\u001b[0;34m(fileset, treename, processor_instance, executor, executor_args, pre_executor, pre_args, chunksize, maxchunks, metadata_cache, dynamic_chunksize, format)\u001b[0m\n\u001b[1;32m     93\u001b[0m \u001b[38;5;66;03m# make Runner instance, assume other args are for _work_function & co.\u001b[39;00m\n\u001b[1;32m     94\u001b[0m run \u001b[38;5;241m=\u001b[39m Runner(\n\u001b[1;32m     95\u001b[0m     executor\u001b[38;5;241m=\u001b[39mexecutor,\n\u001b[1;32m     96\u001b[0m     chunksize\u001b[38;5;241m=\u001b[39mchunksize,\n\u001b[0;32m   (...)\u001b[0m\n\u001b[1;32m    101\u001b[0m     \u001b[38;5;241m*\u001b[39m\u001b[38;5;241m*\u001b[39mexecutor_args,\n\u001b[1;32m    102\u001b[0m )\n\u001b[0;32m--> 104\u001b[0m \u001b[38;5;28;01mreturn\u001b[39;00m \u001b[43mrun\u001b[49m\u001b[43m(\u001b[49m\n\u001b[1;32m    105\u001b[0m \u001b[43m    \u001b[49m\u001b[43mfileset\u001b[49m\u001b[43m,\u001b[49m\n\u001b[1;32m    106\u001b[0m \u001b[43m    \u001b[49m\u001b[43mtreename\u001b[49m\u001b[43m,\u001b[49m\n\u001b[1;32m    107\u001b[0m \u001b[43m    \u001b[49m\u001b[43mprocessor_instance\u001b[49m\u001b[38;5;241;43m=\u001b[39;49m\u001b[43mprocessor_instance\u001b[49m\u001b[43m,\u001b[49m\n\u001b[1;32m    108\u001b[0m \u001b[43m\u001b[49m\u001b[43m)\u001b[49m\n",
      "File \u001b[0;32m/opt/conda/lib/python3.9/site-packages/coffea/processor/executor.py:1700\u001b[0m, in \u001b[0;36mRunner.__call__\u001b[0;34m(self, fileset, treename, processor_instance)\u001b[0m\n\u001b[1;32m   1679\u001b[0m \u001b[38;5;28;01mdef\u001b[39;00m \u001b[38;5;21m__call__\u001b[39m(\n\u001b[1;32m   1680\u001b[0m     \u001b[38;5;28mself\u001b[39m,\n\u001b[1;32m   1681\u001b[0m     fileset: Dict,\n\u001b[1;32m   1682\u001b[0m     treename: \u001b[38;5;28mstr\u001b[39m,\n\u001b[1;32m   1683\u001b[0m     processor_instance: ProcessorABC,\n\u001b[1;32m   1684\u001b[0m ) \u001b[38;5;241m-\u001b[39m\u001b[38;5;241m>\u001b[39m Accumulatable:\n\u001b[1;32m   1685\u001b[0m \u001b[38;5;250m    \u001b[39m\u001b[38;5;124;03m\"\"\"Run the processor_instance on a given fileset\u001b[39;00m\n\u001b[1;32m   1686\u001b[0m \n\u001b[1;32m   1687\u001b[0m \u001b[38;5;124;03m    Parameters\u001b[39;00m\n\u001b[0;32m   (...)\u001b[0m\n\u001b[1;32m   1697\u001b[0m \u001b[38;5;124;03m            An instance of a class deriving from ProcessorABC\u001b[39;00m\n\u001b[1;32m   1698\u001b[0m \u001b[38;5;124;03m    \"\"\"\u001b[39;00m\n\u001b[0;32m-> 1700\u001b[0m     wrapped_out \u001b[38;5;241m=\u001b[39m \u001b[38;5;28;43mself\u001b[39;49m\u001b[38;5;241;43m.\u001b[39;49m\u001b[43mrun\u001b[49m\u001b[43m(\u001b[49m\u001b[43mfileset\u001b[49m\u001b[43m,\u001b[49m\u001b[43m \u001b[49m\u001b[43mprocessor_instance\u001b[49m\u001b[43m,\u001b[49m\u001b[43m \u001b[49m\u001b[43mtreename\u001b[49m\u001b[43m)\u001b[49m\n\u001b[1;32m   1701\u001b[0m     \u001b[38;5;28;01mif\u001b[39;00m \u001b[38;5;28mself\u001b[39m\u001b[38;5;241m.\u001b[39muse_dataframes:\n\u001b[1;32m   1702\u001b[0m         \u001b[38;5;28;01mreturn\u001b[39;00m wrapped_out  \u001b[38;5;66;03m# not wrapped anymore\u001b[39;00m\n",
      "File \u001b[0;32m/opt/conda/lib/python3.9/site-packages/coffea/processor/executor.py:1848\u001b[0m, in \u001b[0;36mRunner.run\u001b[0;34m(self, fileset, processor_instance, treename)\u001b[0m\n\u001b[1;32m   1843\u001b[0m closure \u001b[38;5;241m=\u001b[39m partial(\n\u001b[1;32m   1844\u001b[0m     \u001b[38;5;28mself\u001b[39m\u001b[38;5;241m.\u001b[39mautomatic_retries, \u001b[38;5;28mself\u001b[39m\u001b[38;5;241m.\u001b[39mretries, \u001b[38;5;28mself\u001b[39m\u001b[38;5;241m.\u001b[39mskipbadfiles, closure\n\u001b[1;32m   1845\u001b[0m )\n\u001b[1;32m   1847\u001b[0m executor \u001b[38;5;241m=\u001b[39m \u001b[38;5;28mself\u001b[39m\u001b[38;5;241m.\u001b[39mexecutor\u001b[38;5;241m.\u001b[39mcopy(\u001b[38;5;241m*\u001b[39m\u001b[38;5;241m*\u001b[39mexe_args)\n\u001b[0;32m-> 1848\u001b[0m wrapped_out, e \u001b[38;5;241m=\u001b[39m \u001b[43mexecutor\u001b[49m\u001b[43m(\u001b[49m\u001b[43mchunks\u001b[49m\u001b[43m,\u001b[49m\u001b[43m \u001b[49m\u001b[43mclosure\u001b[49m\u001b[43m,\u001b[49m\u001b[43m \u001b[49m\u001b[38;5;28;43;01mNone\u001b[39;49;00m\u001b[43m)\u001b[49m\n\u001b[1;32m   1849\u001b[0m \u001b[38;5;28;01mif\u001b[39;00m wrapped_out \u001b[38;5;129;01mis\u001b[39;00m \u001b[38;5;28;01mNone\u001b[39;00m:\n\u001b[1;32m   1850\u001b[0m     \u001b[38;5;28;01mraise\u001b[39;00m \u001b[38;5;167;01mValueError\u001b[39;00m(\n\u001b[1;32m   1851\u001b[0m         \u001b[38;5;124m\"\u001b[39m\u001b[38;5;124mNo chunks returned results, verify ``processor`` instance structure.\u001b[39m\u001b[38;5;130;01m\\n\u001b[39;00m\u001b[38;5;130;01m\\\u001b[39;00m\n\u001b[1;32m   1852\u001b[0m \u001b[38;5;124m        if you used skipbadfiles=True, it is possible all your files are bad.\u001b[39m\u001b[38;5;124m\"\u001b[39m\n\u001b[1;32m   1853\u001b[0m     )\n",
      "File \u001b[0;32m/opt/conda/lib/python3.9/site-packages/coffea/processor/executor.py:817\u001b[0m, in \u001b[0;36mFuturesExecutor.__call__\u001b[0;34m(self, items, function, accumulator)\u001b[0m\n\u001b[1;32m    815\u001b[0m \u001b[38;5;28;01melse\u001b[39;00m:\n\u001b[1;32m    816\u001b[0m     mergepoolinstance \u001b[38;5;241m=\u001b[39m \u001b[38;5;28;01mNone\u001b[39;00m\n\u001b[0;32m--> 817\u001b[0m \u001b[38;5;28;01mreturn\u001b[39;00m \u001b[43m_processwith\u001b[49m\u001b[43m(\u001b[49m\u001b[43mpool\u001b[49m\u001b[38;5;241;43m=\u001b[39;49m\u001b[43mpoolinstance\u001b[49m\u001b[43m,\u001b[49m\u001b[43m \u001b[49m\u001b[43mmergepool\u001b[49m\u001b[38;5;241;43m=\u001b[39;49m\u001b[43mmergepoolinstance\u001b[49m\u001b[43m)\u001b[49m\n",
      "File \u001b[0;32m/opt/conda/lib/python3.9/site-packages/coffea/processor/executor.py:801\u001b[0m, in \u001b[0;36mFuturesExecutor.__call__.<locals>._processwith\u001b[0;34m(pool, mergepool)\u001b[0m\n\u001b[1;32m    799\u001b[0m     \u001b[38;5;28;01mreturn\u001b[39;00m accumulate([_decompress(merged), accumulator]), e\n\u001b[1;32m    800\u001b[0m \u001b[38;5;28;01melse\u001b[39;00m:\n\u001b[0;32m--> 801\u001b[0m     \u001b[38;5;28;01mraise\u001b[39;00m e \u001b[38;5;28;01mfrom\u001b[39;00m \u001b[38;5;28;01mNone\u001b[39;00m\n",
      "File \u001b[0;32m/opt/conda/lib/python3.9/site-packages/coffea/processor/executor.py:786\u001b[0m, in \u001b[0;36mFuturesExecutor.__call__.<locals>._processwith\u001b[0;34m(pool, mergepool)\u001b[0m\n\u001b[1;32m    784\u001b[0m \u001b[38;5;28;01mtry\u001b[39;00m:\n\u001b[1;32m    785\u001b[0m     \u001b[38;5;28;01mif\u001b[39;00m mergepool \u001b[38;5;129;01mis\u001b[39;00m \u001b[38;5;28;01mNone\u001b[39;00m:\n\u001b[0;32m--> 786\u001b[0m         merged \u001b[38;5;241m=\u001b[39m \u001b[43m_watcher\u001b[49m\u001b[43m(\u001b[49m\u001b[43mFH\u001b[49m\u001b[43m,\u001b[49m\u001b[43m \u001b[49m\u001b[38;5;28;43mself\u001b[39;49m\u001b[43m,\u001b[49m\u001b[43m \u001b[49m\u001b[43mreducer\u001b[49m\u001b[43m,\u001b[49m\u001b[43m \u001b[49m\u001b[43mpool\u001b[49m\u001b[43m)\u001b[49m\n\u001b[1;32m    787\u001b[0m     \u001b[38;5;28;01melse\u001b[39;00m:\n\u001b[1;32m    788\u001b[0m         merged \u001b[38;5;241m=\u001b[39m _watcher(FH, \u001b[38;5;28mself\u001b[39m, reducer, mergepool)\n",
      "File \u001b[0;32m/opt/conda/lib/python3.9/site-packages/coffea/processor/executor.py:402\u001b[0m, in \u001b[0;36m_watcher\u001b[0;34m(FH, executor, merge_fcn, pool)\u001b[0m\n\u001b[1;32m    396\u001b[0m             progress\u001b[38;5;241m.\u001b[39mupdate(\n\u001b[1;32m    397\u001b[0m                 p_idm,\n\u001b[1;32m    398\u001b[0m                 total\u001b[38;5;241m=\u001b[39mprogress\u001b[38;5;241m.\u001b[39m_tasks[p_idm]\u001b[38;5;241m.\u001b[39mtotal \u001b[38;5;241m+\u001b[39m \u001b[38;5;241m1\u001b[39m,\n\u001b[1;32m    399\u001b[0m                 refresh\u001b[38;5;241m=\u001b[39m\u001b[38;5;28;01mTrue\u001b[39;00m,\n\u001b[1;32m    400\u001b[0m             )\n\u001b[1;32m    401\u001b[0m     \u001b[38;5;28;01melse\u001b[39;00m:  \u001b[38;5;66;03m# Merge within process\u001b[39;00m\n\u001b[0;32m--> 402\u001b[0m         batch \u001b[38;5;241m=\u001b[39m \u001b[43mFH\u001b[49m\u001b[38;5;241;43m.\u001b[39;49m\u001b[43mfetch\u001b[49m\u001b[43m(\u001b[49m\u001b[38;5;28;43mlen\u001b[39;49m\u001b[43m(\u001b[49m\u001b[43mFH\u001b[49m\u001b[38;5;241;43m.\u001b[39;49m\u001b[43mcompleted\u001b[49m\u001b[43m)\u001b[49m\u001b[43m)\u001b[49m\n\u001b[1;32m    403\u001b[0m         merged \u001b[38;5;241m=\u001b[39m _compress(\n\u001b[1;32m    404\u001b[0m             accumulate(\n\u001b[1;32m    405\u001b[0m                 progress\u001b[38;5;241m.\u001b[39mtrack(\n\u001b[0;32m   (...)\u001b[0m\n\u001b[1;32m    412\u001b[0m             executor\u001b[38;5;241m.\u001b[39mcompression,\n\u001b[1;32m    413\u001b[0m         )\n\u001b[1;32m    414\u001b[0m \u001b[38;5;66;03m# Add checkpointing\u001b[39;00m\n",
      "File \u001b[0;32m/opt/conda/lib/python3.9/site-packages/coffea/processor/executor.py:286\u001b[0m, in \u001b[0;36m_FuturesHolder.fetch\u001b[0;34m(self, N)\u001b[0m\n\u001b[1;32m    284\u001b[0m bad_futures \u001b[38;5;241m=\u001b[39m [future \u001b[38;5;28;01mfor\u001b[39;00m future \u001b[38;5;129;01min\u001b[39;00m _completed \u001b[38;5;28;01mif\u001b[39;00m \u001b[38;5;129;01mnot\u001b[39;00m _good_future(future)]\n\u001b[1;32m    285\u001b[0m \u001b[38;5;28mself\u001b[39m\u001b[38;5;241m.\u001b[39mcompleted\u001b[38;5;241m.\u001b[39mupdate(good_futures)\n\u001b[0;32m--> 286\u001b[0m \u001b[38;5;28;01mraise\u001b[39;00m bad_futures[\u001b[38;5;241m0\u001b[39m]\u001b[38;5;241m.\u001b[39mexception()\n",
      "\u001b[0;31mException\u001b[0m: Failed processing file: WorkItem(dataset='/QCD_HT100to200_TuneCP5_13TeV-madgraphMLM-pythia8/RunIISummer20UL18NanoAODv9-106X_upgrade2018_realistic_v16_L1v1-v1/NANOAODSIM', filename='root://cmseos.fnal.gov//store/mc/RunIISummer20UL18NanoAODv9/QCD_HT100to200_TuneCP5_13TeV-madgraphMLM-pythia8/NANOAODSIM/106X_upgrade2018_realistic_v16_L1v1-v1/60000/01CD88A2-878C-6446-9D9C-70BFF7D9E19C.root', treename='Events', entrystart=0, entrystop=84900, fileuuid=b'\\xbf\\xee\\xf1b\\xddh\\x11\\xec\\x88\\xba\\\\-\\xf6\\x82\\xbe\\xef', usermeta={})"
     ]
    }
   ],
   "source": [
    "# %%capture cap\n",
    "run_ind_srcs = False\n",
    "\n",
    "unc_srcs = [\"nominal\",\"AbsoluteScale\",\"jer\",\"AbsoluteStat\",\"FlavorQCD\",\"Fragmentation\",\"PileUpDataMC\",\"PileUpPtBB\",\"PileUpPtEC1\",\"PileUpPtEC2\",\"AbsoluteMPFBias\",\n",
    "\"PileUpPtHF\",\"PileUpPtRef\",\"RelativeFSR\",\"RelativeJEREC1\",\"RelativeJEREC2\",\"RelativeJERHF\",\"RelativePtBB\",\"RelativePtEC1\",\"RelativePtEC2\",\"RelativePtHF\",\"RelativeBal\",\"RelativeSample\",\n",
    "\"RelativeStatEC\",\"RelativeStatFSR\",\"RelativeStatHF\",\"SinglePionECAL\",\"SinglePionHCAL\",\"TimePtEta\"]\n",
    "if run_ind_srcs == True:\n",
    "    for src in unc_srcs:\n",
    "        print(\"Running for source \", src)\n",
    "        processor = makeTrijetHists(data = data, jet_systematics = [src], ycut=1.7)\n",
    "        result = runCoffeaJob(processor, jsonFile = filename, casa = casa, winterfell = winterfell, year = year, testing = testing, dask = dask, \n",
    "                              data = not processor.do_gen, datasetRange = range)\n",
    "        if testing and not data:\n",
    "            fname = 'coffeaOutput/trijet/trijetHistsTest_wXSscaling_{}_pt{}_rapidity{}_{}{}.pkl'.format(datastring, processor.ptcut, processor.ycut, src, year_str)\n",
    "        elif testing and data:\n",
    "            fname = 'coffeaOutput/trijet/trijetHistsTest{}_pt{}_rapidity{}_{}{}.pkl'.format(datastring, processor.ptcut, processor.ycut, src, year_str)\n",
    "        elif not testing and data:\n",
    "            fname = 'coffeaOutput/trijet/trijetHists_{}_pt{}_rapidity{}_{}{}.pkl'.format(datastring, processor.ptcut, processor.ycut, src, year_str)\n",
    "        else:\n",
    "            fname = 'coffeaOutput/trijet/trijetHists_wXSscaling_{}_pt{}rapidity{}_{}{}.pkl'.format(datastring, processor.ptcut, processor.ycut, src, year_str)\n",
    "        if range!=None:\n",
    "            print(\"Range input: \", range)\n",
    "            fname=fname[:-4]+\"_\"+str(range[0])+\"_\"+str(range[1])+\".pkl\"\n",
    "            print(\"New ranged fname \", fname)\n",
    "        with open(fname, \"wb\") as f:\n",
    "            pickle.dump( result, f)\n",
    "else:\n",
    "    result = runCoffeaJob(processor, jsonFile = filename, casa = casa, winterfell = winterfell, year = year,\n",
    "                      testing = testing, dask = dask, data = not processor.do_gen, datasetRange = range)\n",
    "with open(fname, \"wb\") as f:\n",
    "    pickle.dump( result, f)\n",
    "# with open('trijet_'+datastring+year_str+processor.btag+'output.txt', 'w') as f:\n",
    "#     f.write(cap)"
   ]
  },
  {
   "cell_type": "code",
   "execution_count": null,
   "id": "f72a25d6",
   "metadata": {
    "tags": []
   },
   "outputs": [],
   "source": [
    "%matplotlib inline\n",
    "import matplotlib.pyplot as plt\n",
    "fname = \"coffeaOutput/trijet/trijetHists_wXSscaling_QCDsim_pt200.0rapidity1.7_nominal2018.pkl\"\n",
    "with open(fname, \"rb\") as f:\n",
    "    result = pickle.load( f )\n",
    "# print(result)\n",
    "os_path = 'plots/selectionStudies/trijet/'\n",
    "checkdir(os_path)"
   ]
  },
  {
   "cell_type": "code",
   "execution_count": null,
   "id": "7117a424",
   "metadata": {
    "tags": []
   },
   "outputs": [],
   "source": [
    "%matplotlib inline\n",
    "import matplotlib.pyplot as plt\n",
    "plt.rcParams[\"figure.figsize\"] = (20,5)\n",
    "if not data:\n",
    "    fig, axs = plt.subplots(1, 3)\n",
    "    result['dphimin_gen'].plot1d(ax = axs[0])\n",
    "    result['asymm_gen'].plot1d(ax=axs[1], density=True)\n",
    "    result['njet_gen'].plot1d(ax=axs[2], density=True)\n",
    "    plt.legend()\n",
    "\n",
    "fig, axs = plt.subplots(1, 3)\n",
    "result['dphimin_reco'].plot1d(ax = axs[0])\n",
    "result['asymm_reco'].plot1d(ax=axs[1])\n",
    "result['njet_reco'].plot1d(ax=axs[2])\n",
    "plt.legend()"
   ]
  },
  {
   "cell_type": "code",
   "execution_count": null,
   "id": "441ab010",
   "metadata": {
    "tags": []
   },
   "outputs": [],
   "source": [
    "plt.rcParams[\"figure.figsize\"] = (20,15)\n",
    "fig, axs = plt.subplots(2, 2)\n",
    "fig.suptitle('Ungroomed (top) and groomed (bottom) reco jets')\n",
    "result['ptreco_mreco_u'][{'syst':\"nominal\"}].project('ptreco').plot1d(ax=axs[0,0], binwnorm=True)\n",
    "result['ptreco_mreco_u'][{'syst':\"nominal\"}].project('mreco').plot1d(ax=axs[0,1], binwnorm=True)\n",
    "result['ptreco_mreco_g'][{'syst':\"nominal\"}].project('ptreco').plot1d(ax=axs[1,0], binwnorm=True)\n",
    "result['ptreco_mreco_g'][{'syst':\"nominal\"}].project('mreco').plot1d(ax=axs[1,1], binwnorm=True)\n",
    "axs[0,0].set_yscale('log')\n",
    "axs[1,0].set_yscale('log')\n",
    "axs[1,1].set_yscale('log')\n",
    "axs[0,1].set_yscale('log')\n",
    "plt.savefig(os_path+\"/test_pt_m_gen_u_g.png\")"
   ]
  },
  {
   "cell_type": "code",
   "execution_count": null,
   "id": "7dfdcf96",
   "metadata": {
    "tags": []
   },
   "outputs": [],
   "source": [
    "plt.rcParams[\"figure.figsize\"] = (20,15)\n",
    "fig, axs = plt.subplots(2, 2)\n",
    "fig.suptitle('Ungroomed (top) and groomed (bottom) reco jets')\n",
    "result['misses'][{'syst':\"nominal\"}].project('ptgen').plot1d(ax=axs[0,0])\n",
    "result['misses'][{'syst':\"nominal\"}].project('mgen').plot1d(ax=axs[0,1])\n",
    "result['fakes'][{'syst':\"nominal\"}].project('ptreco').plot1d(ax=axs[1,0])\n",
    "result['fakes'][{'syst':\"nominal\"}].project('mreco').plot1d(ax=axs[1,1])\n",
    "axs[0,0].set_yscale('log')\n",
    "axs[1,0].set_yscale('log')\n",
    "axs[1,1].set_yscale('log')\n",
    "axs[0,1].set_yscale('log')"
   ]
  },
  {
   "cell_type": "markdown",
   "id": "121081d6",
   "metadata": {},
   "source": [
    "### Plotting Response Matrices"
   ]
  },
  {
   "cell_type": "code",
   "execution_count": null,
   "id": "1b304836",
   "metadata": {
    "tags": []
   },
   "outputs": [],
   "source": [
    "print([ax.name for ax in result['response_matrix_u'].axes])\n",
    "data = False\n",
    "if not data:\n",
    "    response_matrix_u_values = result['response_matrix_u'].project(\"ptreco\", \"mreco\", \"ptgen\", \"mgen\").values()\n",
    "    response_matrix_g_values = result['response_matrix_g'].project(\"ptreco\", \"mreco\", \"ptgen\", \"mgen\").values()\n",
    "    print(result['response_matrix_u'][{\"ptreco\":1, \"ptgen\":2,\"mreco\":5, \"mgen\":10, \"dataset\":sum}])\n",
    "    response_matrix_np_vals_u, ptreco_edges, mreco_edges, ptgen_edges, mgen_edges = result['response_matrix_u'].project(\"ptreco\", \"mreco\", \"ptgen\", \"mgen\").to_numpy()\n",
    "    result['response_matrix_u'][{\"ptreco\":0, \"ptgen\":0,\"dataset\":sum,\"syst\":\"nominal\"}].plot2d()\n",
    "    plt.show()\n",
    "    result['response_matrix_u'][{\"ptreco\":sum, \"ptgen\":sum,\"dataset\":sum, \"syst\":\"nominal\"}].plot2d()\n",
    "    plt.show()\n",
    "    nptreco,nmassreco,nptgen,nmassgen = response_matrix_u_values.shape\n",
    "    print(response_matrix_u_values.shape)\n",
    "    response_matrix_g_final = response_matrix_g_values.reshape( (nptreco)*(nmassreco), (nptgen)*(nmassgen) )\n",
    "    response_matrix_u_final = response_matrix_u_values.reshape( (nptreco)*(nmassreco), (nptgen)*(nmassgen) ) \n",
    "    print(\"Max ungroomed value np \", np.max(response_matrix_u_final))\n",
    "    print(\"Location of max cal in 4d array :\", np.argwhere(response_matrix_np_vals_u==49) )\n",
    "    print(response_matrix_np_vals_u[0,9,0,4])\n",
    "    print(\"Location of max cal in 2d array :\", np.argwhere(response_matrix_u_final==49) )\n",
    "    print(response_matrix_u_final[9,4])\n",
    "    print(\"Location of max cal in 2d array :\", np.argwhere(response_matrix_u_final.flatten()==49) )\n",
    "    print(9*nmassgen*nptgen+4)\n",
    "    print(response_matrix_u_final.flatten()[9*nmassgen*nptgen+4])\n",
    "    ptreco_centers = (ptreco_edges[:-1]+ptreco_edges[1:])/2\n",
    "    mreco_centers = (mreco_edges[:-1]+mreco_edges[1:])/2\n",
    "    ptgen_centers = (ptgen_edges[:-1]+ptgen_edges[1:])/2\n",
    "    mgen_centers = (mgen_edges[:-1]+mgen_edges[1:])/2\n",
    "    response_matrix_bins = np.ones(np.append(response_matrix_u_values.shape,4))\n",
    "    response_matrix_ptreco_bins = np.ones_like(response_matrix_u_values)\n",
    "    print(response_matrix_ptreco_bins.ndim)\n",
    "    response_matrix_mreco_bins = np.ones_like(response_matrix_u_values)\n",
    "    response_matrix_ptgen_bins = np.ones_like(response_matrix_u_values)\n",
    "    response_matrix_mgen_bins = np.ones_like(response_matrix_u_values)\n",
    "    for ipt in np.arange(len(ptreco_centers)):\n",
    "        for im in np.arange(len(mreco_centers)):\n",
    "            for jpt in np.arange(len(ptgen_centers)):\n",
    "                for jm in np.arange(len(mgen_centers)):\n",
    "                    response_matrix_ptreco_bins[ipt,im,jpt,jm] = ptreco_centers[ipt]\n",
    "                    response_matrix_mreco_bins[ipt][im][jpt][jm] = mreco_centers[im]\n",
    "                    response_matrix_ptgen_bins[ipt][im][jpt][jm] = ptgen_centers[jpt]\n",
    "                    response_matrix_mgen_bins[ipt][im][jpt][jm] = mgen_centers[jm]\n",
    "                    response_matrix_bins[ipt][im][jpt][jm] = [ptreco_centers[ipt], mreco_centers[im], ptgen_centers[jpt], mgen_centers[jm]]\n",
    "    response_matrix_ptreco_bins = response_matrix_ptreco_bins.reshape((nptreco)*(nmassreco), (nptgen)*(nmassgen))\n",
    "    response_matrix_mgen_bins = response_matrix_mgen_bins.reshape((nptreco)*(nmassreco), (nptgen)*(nmassgen))\n",
    "    response_matrix_bins = response_matrix_bins.reshape((nptreco)*(nmassreco), (nptgen)*(nmassgen), 4)\n",
    "    print(response_matrix_bins[1][:10])\n",
    "    print(response_matrix_ptreco_bins[1][:10])\n",
    "    print(response_matrix_mgen_bins[1][:10])"
   ]
  },
  {
   "cell_type": "code",
   "execution_count": null,
   "id": "78fdd06c",
   "metadata": {
    "tags": []
   },
   "outputs": [],
   "source": [
    "plt.figure(figsize = (20,20))\n",
    "plt.imshow( np.log(response_matrix_u_final+1), vmax=10, aspect=\"equal\", cmap=\"Blues\" )\n",
    "plt.xlabel(\"GEN\", fontsize=10)\n",
    "plt.ylabel(\"RECO\", fontsize=10)\n",
    "plt.tick_params(labelsize=20)"
   ]
  },
  {
   "cell_type": "code",
   "execution_count": null,
   "id": "0a72287c",
   "metadata": {
    "tags": []
   },
   "outputs": [],
   "source": [
    "result['fakes'][{\"dataset\":sum, \"syst\":\"nominal\"}].plot2d()\n",
    "plt.show()\n",
    "result['misses'][{\"dataset\":sum, \"syst\":\"nominal\"}].plot2d()\n",
    "plt.show()\n",
    "result['misses'][{\"dataset\":sum, \"syst\":\"nominal\"}].plot2d()\n",
    "plt.show()"
   ]
  },
  {
   "cell_type": "code",
   "execution_count": null,
   "id": "e8c22c5c",
   "metadata": {
    "tags": []
   },
   "outputs": [],
   "source": [
    "nbins_ptreco = len(result['response_matrix_u'].project(\"ptreco\").values())\n",
    "nbins_mreco = len(result['response_matrix_u'].project(\"mreco\").values())\n",
    "pt_reco_bins, pt_reco_edges = result['response_matrix_u'].project(\"ptreco\").to_numpy()\n",
    "pt_gen_bins, pt_gen_edges = result['response_matrix_u'].project(\"ptgen\").to_numpy()\n",
    "print(\"Pt reco bins and edges: \", pt_reco_bins, pt_reco_edges)\n",
    "print(\"Pt gen bins and edges: \", pt_gen_bins, pt_gen_edges)\n",
    "print(len(pt_gen_edges), nbins_ptreco)\n",
    "m_reco_bins, m_reco_edges = result['response_matrix_u'].project(\"mreco\").to_numpy()\n",
    "m_gen_bins, m_gen_edges = result['response_matrix_u'].project(\"mgen\").to_numpy()\n",
    "print(\"M reco bins and edges: \", m_reco_bins, m_reco_edges)\n",
    "print(\"M gen bins and edges: \", m_gen_bins, m_gen_edges)"
   ]
  },
  {
   "cell_type": "code",
   "execution_count": null,
   "id": "b9c196ae",
   "metadata": {},
   "outputs": [],
   "source": [
    "if not data:\n",
    "    plt.figure(figsize = (40,80))\n",
    "    plt.imshow( np.log(response_matrix_u_final+1), aspect=\"equal\", cmap=\"Blues\" )\n",
    "    plt.xlabel(\"RECO\", fontsize=50)\n",
    "    plt.ylabel(\"GEN\", fontsize=50)\n",
    "    plt.tick_params(labelsize=40)"
   ]
  },
  {
   "cell_type": "code",
   "execution_count": null,
   "id": "77914ccf",
   "metadata": {},
   "outputs": [],
   "source": [
    "if not data:\n",
    "    plt.figure(figsize = (40,80))\n",
    "    plt.imshow( np.log(response_matrix_g_final+1), aspect=\"equal\", cmap=\"Blues\" )\n",
    "    plt.xlabel(\"RECO\", fontsize=50)\n",
    "    plt.ylabel(\"GEN\", fontsize=50)\n",
    "    plt.tick_params(labelsize=40)"
   ]
  },
  {
   "cell_type": "code",
   "execution_count": null,
   "id": "722f111b",
   "metadata": {},
   "outputs": [],
   "source": [
    "if not data:\n",
    "    plt.figure(figsize = (40,80))\n",
    "    plt.imshow( response_matrix_u_final, aspect=\"equal\", cmap=\"Blues\" )\n",
    "    plt.xlabel(\"RECO\", fontsize=50)\n",
    "    plt.ylabel(\"GEN\", fontsize=50)\n",
    "    plt.tick_params(labelsize=40)"
   ]
  },
  {
   "cell_type": "code",
   "execution_count": null,
   "id": "cd6a62e5",
   "metadata": {},
   "outputs": [],
   "source": [
    "print(result.keys())\n",
    "print([ax.name for ax in result['alljet_ptreco_mreco'].axes])\n",
    "\n",
    "plt.rcParams[\"figure.figsize\"] = (20,20)\n",
    "fig = plt.figure()\n",
    "grid = fig.add_gridspec(2,2, figure=fig, wspace=0.1, hspace=0.1)\n",
    "grid00 = grid[0,0].subgridspec(4,1, wspace=0, hspace=0)\n",
    "grid01 = grid[0,1].subgridspec(4,1, wspace=0, hspace=0)\n",
    "grid10 = grid[1,0].subgridspec(4,1, wspace=0, hspace=0)\n",
    "grid11 = grid[1,1].subgridspec(4,1, wspace=0, hspace=0)\n",
    "        \n",
    "numerator = result['alljet_ptreco_mreco'][{'partonFlav':'Gluon'}].project('ptreco')\n",
    "denominator = result['alljet_ptreco_mreco'].project('ptreco')\n",
    "print(numerator.values(), denominator.values())\n",
    "\n",
    "numerator.label = r'$\\epsilon$'\n",
    "\n",
    "main_ax = fig.add_subplot(grid00[:-1, :])\n",
    "subplot_ax = fig.add_subplot(grid00[-1, :], sharex=main_ax)\n",
    "plt.setp(main_ax.get_xticklabels(), visible=False)\n",
    "main_ax, sublot_ax = numerator.plot_ratio(\n",
    "    denominator,\n",
    "    rp_num_label=\"gluons\",\n",
    "    rp_denom_label=\"all\",\n",
    "    rp_uncert_draw_type=\"line\",\n",
    "    rp_uncertainty_type=\"efficiency\",\n",
    "    ax_dict = {\"main_ax\":main_ax,\"ratio_ax\":subplot_ax}\n",
    ")\n",
    "\n",
    "plt.xlabel(\"Pt all jets(GeV)\")\n",
    "plt.ylabel(\"Gluon fraction\")\n",
    "\n",
    "numerator = result['alljet_ptreco_mreco'][{'partonFlav':'Gluon', 'jetNumb':'jet3'}].project('ptreco')\n",
    "denominator = result['alljet_ptreco_mreco'][{'jetNumb':'jet3'}].project('ptreco')\n",
    "print(numerator.values(), denominator.values())\n",
    "\n",
    "numerator.label = r'$\\epsilon$'\n",
    "\n",
    "main_ax = fig.add_subplot(grid01[:-1, :])\n",
    "subplot_ax = fig.add_subplot(grid01[-1, :], sharex=main_ax)\n",
    "plt.setp(main_ax.get_xticklabels(), visible=False)\n",
    "main_ax, sublot_ax = numerator.plot_ratio(\n",
    "    denominator,\n",
    "    rp_num_label=\"gluons\",\n",
    "    rp_denom_label=\"all\",\n",
    "    rp_uncert_draw_type=\"line\",\n",
    "    rp_uncertainty_type=\"efficiency\",\n",
    "    ax_dict = {\"main_ax\":main_ax,\"ratio_ax\":subplot_ax}\n",
    ")\n",
    "\n",
    "plt.xlabel(\"Pt for jet3 (GeV)\")\n",
    "plt.ylabel(\"Gluon fraction\")\n",
    "\n",
    "\n",
    "numerator = result['alljet_ptreco_mreco'][{'partonFlav':'Gluon', 'jetNumb':'jet2'}].project('ptreco')\n",
    "denominator = result['alljet_ptreco_mreco'][{'jetNumb':'jet2'}].project('ptreco')\n",
    "print(numerator.values(), denominator.values())\n",
    "\n",
    "numerator.label = r'$\\epsilon$'\n",
    "\n",
    "main_ax = fig.add_subplot(grid10[:-1, :])\n",
    "subplot_ax = fig.add_subplot(grid10[-1, :], sharex=main_ax)\n",
    "plt.setp(main_ax.get_xticklabels(), visible=False)\n",
    "main_ax, sublot_ax = numerator.plot_ratio(\n",
    "    denominator,\n",
    "    rp_num_label=\"gluons\",\n",
    "    rp_denom_label=\"all\",\n",
    "    rp_uncert_draw_type=\"line\",\n",
    "    rp_uncertainty_type=\"efficiency\",\n",
    "    ax_dict = {\"main_ax\":main_ax,\"ratio_ax\":subplot_ax}\n",
    ")\n",
    "\n",
    "plt.xlabel(\"Pt for jet2 (GeV)\")\n",
    "plt.ylabel(\"Gluon fraction\")\n",
    "\n",
    "\n",
    "numerator = result['alljet_ptreco_mreco'][{'partonFlav':'Gluon', 'jetNumb':'jet1'}].project('ptreco')\n",
    "denominator = result['alljet_ptreco_mreco'][{'jetNumb':'jet1'}].project('ptreco')\n",
    "print(numerator.values(), denominator.values())\n",
    "\n",
    "numerator.label = r'$\\epsilon$'\n",
    "\n",
    "main_ax = fig.add_subplot(grid11[:-1, :])\n",
    "subplot_ax = fig.add_subplot(grid11[-1, :], sharex=main_ax)\n",
    "plt.setp(main_ax.get_xticklabels(), visible=False)\n",
    "main_ax, sublot_ax = numerator.plot_ratio(\n",
    "    denominator,\n",
    "    rp_num_label=\"gluons\",\n",
    "    rp_denom_label=\"all\",\n",
    "    rp_uncert_draw_type=\"line\",\n",
    "    rp_uncertainty_type=\"efficiency\",\n",
    "    ax_dict = {\"main_ax\":main_ax,\"ratio_ax\":subplot_ax}\n",
    ")\n",
    "\n",
    "plt.xlabel(\"Pt for jet1 (GeV)\")\n",
    "plt.ylabel(\"Gluon fraction\")\n",
    "fig.suptitle('Gluon content as a function of pT')\n",
    "plt.savefig(os_path + \"gluonPtFrac.png\")"
   ]
  },
  {
   "cell_type": "code",
   "execution_count": null,
   "id": "90e701ae",
   "metadata": {
    "scrolled": true
   },
   "outputs": [],
   "source": [
    "plt.rcParams[\"figure.figsize\"] = (15,15)\n",
    "fig = plt.gcf()\n",
    "grid = fig.add_gridspec(2,2, figure=fig, wspace=0.1, hspace=0.1)\n",
    "grid00 = grid[0,0].subgridspec(4,1, wspace=0, hspace=0)\n",
    "grid01 = grid[0,1].subgridspec(4,1, wspace=0, hspace=0)\n",
    "grid10 = grid[1,0].subgridspec(4,1, wspace=0, hspace=0)\n",
    "grid11 = grid[1,1].subgridspec(4,1, wspace=0, hspace=0)\n",
    "\n",
    "numerator = result['btag_eta'][{'partonFlav':'Gluon'}].project('eta')\n",
    "denominator = result['btag_eta'].project('eta')\n",
    "print(numerator.values(), denominator.values())\n",
    "\n",
    "numerator.label = r'$\\epsilon$'\n",
    "\n",
    "main_ax = fig.add_subplot(grid00[:-1, :])\n",
    "subplot_ax = fig.add_subplot(grid00[-1, :], sharex=main_ax)\n",
    "plt.setp(main_ax.get_xticklabels(), visible=False)\n",
    "main_ax, sublot_ax = numerator.plot_ratio(\n",
    "    denominator,\n",
    "    rp_num_label=\"gluons\",\n",
    "    rp_denom_label=\"all\",\n",
    "    rp_uncert_draw_type=\"line\",\n",
    "    rp_uncertainty_type=\"efficiency\",\n",
    "    ax_dict = {\"main_ax\":main_ax,\"ratio_ax\":subplot_ax}\n",
    ")\n",
    "\n",
    "plt.xlabel(\"Eta all jets(GeV)\")\n",
    "plt.ylabel(\"Gluon fraction\")\n",
    "\n",
    "numerator = result['btag_eta'][{'partonFlav':'Gluon', 'jetNumb':'jet3'}].project('eta')\n",
    "denominator = result['btag_eta'][{'jetNumb':'jet3'}].project('eta')\n",
    "print(numerator.values(), denominator.values())\n",
    "\n",
    "numerator.label = r'$\\epsilon$'\n",
    "\n",
    "main_ax = fig.add_subplot(grid01[:-1, :])\n",
    "subplot_ax = fig.add_subplot(grid01[-1, :], sharex=main_ax)\n",
    "plt.setp(main_ax.get_xticklabels(), visible=False)\n",
    "main_ax, sublot_ax = numerator.plot_ratio(\n",
    "    denominator,\n",
    "    rp_num_label=\"gluons\",\n",
    "    rp_denom_label=\"all\",\n",
    "    rp_uncert_draw_type=\"line\",\n",
    "    rp_uncertainty_type=\"efficiency\",\n",
    "    ax_dict = {\"main_ax\":main_ax,\"ratio_ax\":subplot_ax}\n",
    ")\n",
    "\n",
    "plt.xlabel(\"Eta for jet3 (GeV)\")\n",
    "plt.ylabel(\"Gluon fraction\")\n",
    "\n",
    "\n",
    "numerator = result['btag_eta'][{'partonFlav':'Gluon', 'jetNumb':'jet2'}].project('eta')\n",
    "denominator = result['btag_eta'][{'jetNumb':'jet2'}].project('eta')\n",
    "print(numerator.values(), denominator.values())\n",
    "\n",
    "numerator.label = r'$\\epsilon$'\n",
    "\n",
    "main_ax = fig.add_subplot(grid10[:-1, :])\n",
    "subplot_ax = fig.add_subplot(grid10[-1, :], sharex=main_ax)\n",
    "plt.setp(main_ax.get_xticklabels(), visible=False)\n",
    "main_ax, sublot_ax = numerator.plot_ratio(\n",
    "    denominator,\n",
    "    rp_num_label=\"gluons\",\n",
    "    rp_denom_label=\"all\",\n",
    "    rp_uncert_draw_type=\"line\",\n",
    "    rp_uncertainty_type=\"efficiency\",\n",
    "    ax_dict = {\"main_ax\":main_ax,\"ratio_ax\":subplot_ax}\n",
    ")\n",
    "\n",
    "plt.xlabel(\"Eta for jet2 (GeV)\")\n",
    "plt.ylabel(\"Gluon fraction\")\n",
    "\n",
    "\n",
    "numerator = result['btag_eta'][{'partonFlav':'Gluon', 'jetNumb':'jet1'}].project('eta')\n",
    "denominator = result['btag_eta'][{'jetNumb':'jet1'}].project('eta')\n",
    "print(numerator.values(), denominator.values())\n",
    "\n",
    "numerator.label = r'$\\epsilon$'\n",
    "\n",
    "main_ax = fig.add_subplot(grid11[:-1, :])\n",
    "subplot_ax = fig.add_subplot(grid11[-1, :], sharex=main_ax)\n",
    "plt.setp(main_ax.get_xticklabels(), visible=False)\n",
    "main_ax, sublot_ax = numerator.plot_ratio(\n",
    "    denominator,\n",
    "    rp_num_label=\"gluons\",\n",
    "    rp_denom_label=\"all\",\n",
    "    rp_uncert_draw_type=\"line\",\n",
    "    rp_uncertainty_type=\"efficiency\",\n",
    "    ax_dict = {\"main_ax\":main_ax,\"ratio_ax\":subplot_ax}\n",
    ")\n",
    "\n",
    "plt.xlabel(\"Eta for jet1 (GeV)\")\n",
    "plt.ylabel(\"Gluon fraction\")\n",
    "fig.suptitle('Gluon content as a function of eta')\n",
    "plt.savefig(os_path+'/gluonEtaFrac' + \".png\")"
   ]
  },
  {
   "cell_type": "code",
   "execution_count": null,
   "id": "73214f03",
   "metadata": {},
   "outputs": [],
   "source": [
    "#sum entries in bins --> plot as y-axis\n",
    "plt.rcParams[\"figure.figsize\"] = (20,5)\n",
    "print([ax.name for ax in result['btag_eta'].axes])\n",
    "\n",
    "fig, axs = plt.subplots(1, 3)\n",
    "result['alljet_ptreco_mreco'][{'jetNumb':sum, 'dataset':sum, 'ptreco':sum}].plot1d(ax = axs[0], overlay='partonFlav')\n",
    "plt.rc('legend',fontsize='small')\n",
    "plt.xlabel(\"Jet mass (GeV)\")\n",
    "result['alljet_ptreco_mreco'][{'jetNumb':sum, 'dataset':sum, 'mreco':sum}].plot1d(ax = axs[1], overlay='partonFlav')\n",
    "plt.rc('legend',fontsize='small')\n",
    "#axs[0].set_xlabel(\"Jet mass (GeV)\")\n",
    "plt.xlabel(\"Jet pT (GeV)\")\n",
    "result['btag_eta'][{'jetNumb':sum, 'dataset':sum, 'frac':sum}].plot1d(ax = axs[2], overlay='partonFlav')\n",
    "plt.rc('legend',fontsize='small')\n",
    "plt.legend()\n",
    "plt.xlabel(\"Jet eta (GeV)\")\n",
    "\n",
    "print(axs)\n",
    "\n",
    "fig.suptitle('Trijet parton content w/ med btag for all jets', fontsize=\"large\")\n",
    "plt.savefig(os_path+'/allJetPtEtaPhi_partons' + \".png\")"
   ]
  },
  {
   "cell_type": "code",
   "execution_count": null,
   "id": "1366113d",
   "metadata": {},
   "outputs": [],
   "source": [
    "plt.rcParams[\"figure.figsize\"] = (20,15)\n",
    "fig, axs = plt.subplots(3, 3)\n",
    "result['alljet_ptreco_mreco'][{'jetNumb':'jet1', 'dataset':sum, 'ptreco':sum}].plot1d(ax = axs[0,0], overlay='partonFlav', binwnorm=True)\n",
    "plt.rc('legend',fontsize='small')\n",
    "axs[0,0].set_xlabel(\"Jet1 mass (GeV)\")\n",
    "result['alljet_ptreco_mreco'][{'jetNumb':'jet1', 'dataset':sum, 'mreco':sum}].plot1d(ax = axs[0,1], overlay='partonFlav', binwnorm=True)\n",
    "axs[0,1].set_xlabel(\"Jet1 pT (GeV)\")\n",
    "result['btag_eta'][{'jetNumb':'jet1', 'dataset':sum, 'frac':sum}].plot1d(ax = axs[0,2], overlay='partonFlav', binwnorm=True)\n",
    "axs[0,2].set_xlabel(\"Jet1 eta (GeV)\")\n",
    "result['alljet_ptreco_mreco'][{'jetNumb':'jet2', 'dataset':sum,'ptreco':sum}].plot1d(ax = axs[1,0], overlay='partonFlav', binwnorm=True)\n",
    "axs[1,0].set_xlabel(\"Jet2 mass (GeV)\")\n",
    "result['alljet_ptreco_mreco'][{'jetNumb':'jet2', 'dataset':sum,'mreco':sum}].plot1d(ax = axs[1,1], overlay='partonFlav', binwnorm=True)\n",
    "axs[1,1].set_xlabel(\"Jet2 pT (GeV)\")\n",
    "result['btag_eta'][{'jetNumb':'jet2', 'dataset':sum,'frac':sum}].plot1d(ax = axs[1,2], overlay='partonFlav', binwnorm=True)\n",
    "axs[1,2].set_xlabel(\"Jet2 eta (GeV)\")\n",
    "result['alljet_ptreco_mreco'][{'jetNumb':'jet3', 'dataset':sum,'ptreco':sum}].plot1d(ax = axs[2,0], overlay='partonFlav', binwnorm=True)\n",
    "axs[2,0].set_xlabel(\"Jet3 mass (GeV)\")\n",
    "result['alljet_ptreco_mreco'][{'jetNumb':'jet3', 'dataset':sum,'mreco':sum}].plot1d(ax = axs[2,1], overlay='partonFlav', binwnorm=True)\n",
    "axs[2,1].set_xlabel(\"Jet3 pT (GeV)\")\n",
    "result['btag_eta'][{'jetNumb':'jet3', 'dataset':sum,'frac':sum}].plot1d(ax = axs[2,2], overlay='partonFlav', binwnorm=True)\n",
    "axs[2,2].set_xlabel(\"Jet3 eta (GeV)\")\n",
    "for ax in axs.flatten():\n",
    "    ax.legend()\n",
    "print(axs)\n",
    "for i,ax in enumerate(axs.flatten()):\n",
    "    if (i+1)%3!=0: \n",
    "        ax.set_yscale('log')\n",
    "fig.suptitle('Trijet individual particle content bmed', fontsize=\"large\")\n",
    "plt.savefig(os_path+'/singleJetPtEtaPhi_partons' + \".png\")"
   ]
  },
  {
   "cell_type": "code",
   "execution_count": null,
   "id": "2af05256",
   "metadata": {},
   "outputs": [],
   "source": [
    "# plt.rcParams[\"figure.figsize\"] = (20,5)\n",
    "\n",
    "\n",
    "# fig, axs = plt.subplots(1, 3)\n",
    "print(result['alljet_ptreco_mreco'][{'jetNumb':sum, 'dataset':sum, 'ptreco':sum}])\n",
    "result['alljet_ptreco_mreco'][{'dataset':sum, \"partonFlav\":sum, 'ptreco':sum}].plot1d(binwnorm=True, overlay='jetNumb')\n",
    "plt.legend()\n",
    "#axs[0].set_xlabel(\"Jet mass (GeV)\")\n",
    "plt.xlabel(\"Jet mass (GeV)\")"
   ]
  },
  {
   "cell_type": "code",
   "execution_count": null,
   "id": "8fafa5e9",
   "metadata": {},
   "outputs": [],
   "source": [
    "# plot mass after summing over partons"
   ]
  },
  {
   "cell_type": "code",
   "execution_count": null,
   "id": "493f342e",
   "metadata": {},
   "outputs": [],
   "source": [
    "fig, ax = plt.subplots(1, 1)\n",
    "result['btag_eta'][{'jetNumb':'jet3', 'dataset':sum, 'eta':sum}].plot1d(overlay=\"partonFlav\")\n",
    "ax.set_xlabel(\"Jet3 b-tag disc.\")\n",
    "plt.legend()\n",
    "#can do an anti b-tag --> inverse of recommendation"
   ]
  },
  {
   "cell_type": "code",
   "execution_count": null,
   "id": "954930c1",
   "metadata": {},
   "outputs": [],
   "source": [
    "njets=result['cutflow']['n3Jets']\n",
    "ngluonjets=result['cutflow']['nGluonJets']\n",
    "print(result['cutflow'])\n",
    "print(\"Gluon purity:\", ngluonjets/njets)"
   ]
  },
  {
   "cell_type": "code",
   "execution_count": null,
   "id": "9f555beb",
   "metadata": {},
   "outputs": [],
   "source": []
  },
  {
   "cell_type": "markdown",
   "id": "d2d84825",
   "metadata": {},
   "source": [
    "#plot pt, eta, phi, fake rate, pt efficiency, gluon purity for difference selections with b tags for all jets \n",
    "#and each individual jet in the 3 jets"
   ]
  },
  {
   "cell_type": "code",
   "execution_count": null,
   "id": "15902224-878b-4a93-8dcf-5f20c71bf717",
   "metadata": {},
   "outputs": [],
   "source": []
  },
  {
   "cell_type": "code",
   "execution_count": null,
   "id": "0d581254-e59b-4e0e-afbe-18fcb822749e",
   "metadata": {},
   "outputs": [],
   "source": [
    "\n",
    "\n",
    "\n"
   ]
  }
 ],
 "metadata": {
  "kernelspec": {
   "display_name": "Python 3 (ipykernel)",
   "language": "python",
   "name": "python3"
  },
  "language_info": {
   "codemirror_mode": {
    "name": "ipython",
    "version": 3
   },
   "file_extension": ".py",
   "mimetype": "text/x-python",
   "name": "python",
   "nbconvert_exporter": "python",
   "pygments_lexer": "ipython3",
   "version": "3.9.15"
  }
 },
 "nbformat": 4,
 "nbformat_minor": 5
}
